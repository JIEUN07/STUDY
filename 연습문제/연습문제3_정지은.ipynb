{
 "cells": [
  {
   "cell_type": "markdown",
   "id": "f02280e3",
   "metadata": {},
   "source": [
    "# 8장 연습문제"
   ]
  },
  {
   "cell_type": "code",
   "execution_count": 17,
   "id": "dd5e153d",
   "metadata": {},
   "outputs": [],
   "source": [
    "life = {'animals','plants', 'other'}"
   ]
  },
  {
   "cell_type": "code",
   "execution_count": 18,
   "id": "fd401018",
   "metadata": {},
   "outputs": [],
   "source": [
    "down = {'cats':'Henri', 'octopi':'Grumpy', 'emus':'Luky'}"
   ]
  },
  {
   "cell_type": "code",
   "execution_count": 23,
   "id": "7c1afb2a",
   "metadata": {},
   "outputs": [],
   "source": [
    "life = {'animals':{'cats':'Henri','octopi':'Grumpy', 'emus':'Luky'},\n",
    "       'plants':{}, \n",
    "        'other':{}}"
   ]
  },
  {
   "cell_type": "code",
   "execution_count": 24,
   "id": "df46d083",
   "metadata": {},
   "outputs": [
    {
     "data": {
      "text/plain": [
       "{'animals': {'cats': 'Henri', 'octopi': 'Grumpy', 'emus': 'Luky'},\n",
       " 'plants': {},\n",
       " 'other': {}}"
      ]
     },
     "execution_count": 24,
     "metadata": {},
     "output_type": "execute_result"
    }
   ],
   "source": [
    "life"
   ]
  },
  {
   "cell_type": "code",
   "execution_count": 27,
   "id": "b65d89bf",
   "metadata": {},
   "outputs": [
    {
     "data": {
      "text/plain": [
       "dict_keys(['animals', 'plants', 'other'])"
      ]
     },
     "execution_count": 27,
     "metadata": {},
     "output_type": "execute_result"
    }
   ],
   "source": [
    "life.keys()"
   ]
  },
  {
   "cell_type": "code",
   "execution_count": 30,
   "id": "2b587e53",
   "metadata": {},
   "outputs": [
    {
     "data": {
      "text/plain": [
       "{'cats': 'Henri', 'octopi': 'Grumpy', 'emus': 'Luky'}"
      ]
     },
     "execution_count": 30,
     "metadata": {},
     "output_type": "execute_result"
    }
   ],
   "source": [
    "life['animals']"
   ]
  },
  {
   "cell_type": "code",
   "execution_count": 31,
   "id": "42368807",
   "metadata": {},
   "outputs": [
    {
     "data": {
      "text/plain": [
       "'Henri'"
      ]
     },
     "execution_count": 31,
     "metadata": {},
     "output_type": "execute_result"
    }
   ],
   "source": [
    "life['animals']['cats']"
   ]
  },
  {
   "cell_type": "code",
   "execution_count": 45,
   "id": "b1e55eed",
   "metadata": {},
   "outputs": [],
   "source": [
    "numb=list(range(10))\n",
    "squares= {ran: pow(ran,2) for ran in numb}"
   ]
  },
  {
   "cell_type": "code",
   "execution_count": 46,
   "id": "ecc0e9d3",
   "metadata": {},
   "outputs": [
    {
     "data": {
      "text/plain": [
       "{0: 0, 1: 1, 2: 4, 3: 9, 4: 16, 5: 25, 6: 36, 7: 49, 8: 64, 9: 81}"
      ]
     },
     "execution_count": 46,
     "metadata": {},
     "output_type": "execute_result"
    }
   ],
   "source": [
    "squares"
   ]
  },
  {
   "cell_type": "code",
   "execution_count": 47,
   "id": "bdb9331b",
   "metadata": {},
   "outputs": [],
   "source": [
    "odd_set = {odd for odd in list(range(10)) if odd%2 == 1}"
   ]
  },
  {
   "cell_type": "code",
   "execution_count": 48,
   "id": "ec2fef84",
   "metadata": {},
   "outputs": [
    {
     "data": {
      "text/plain": [
       "{1, 3, 5, 7, 9}"
      ]
     },
     "execution_count": 48,
     "metadata": {},
     "output_type": "execute_result"
    }
   ],
   "source": [
    "odd_set"
   ]
  },
  {
   "cell_type": "code",
   "execution_count": 93,
   "id": "042df58a",
   "metadata": {},
   "outputs": [
    {
     "name": "stdout",
     "output_type": "stream",
     "text": [
      "Got 0\n",
      "Got 1\n",
      "Got 2\n",
      "Got 3\n",
      "Got 4\n",
      "Got 5\n",
      "Got 6\n",
      "Got 7\n",
      "Got 8\n",
      "Got 9\n"
     ]
    }
   ],
   "source": [
    "for x in range(10): \n",
    "    if x <= max(range(10)): \n",
    "        print('Got'+ ' '+str(x))"
   ]
  },
  {
   "cell_type": "code",
   "execution_count": 95,
   "id": "c11a3896",
   "metadata": {},
   "outputs": [],
   "source": [
    "Got_x = {('Got'+ ' '+str(x)) for x in range(10)  if x <= max(range(10)) }"
   ]
  },
  {
   "cell_type": "code",
   "execution_count": 96,
   "id": "d2b2d26f",
   "metadata": {},
   "outputs": [
    {
     "data": {
      "text/plain": [
       "{'Got 0',\n",
       " 'Got 1',\n",
       " 'Got 2',\n",
       " 'Got 3',\n",
       " 'Got 4',\n",
       " 'Got 5',\n",
       " 'Got 6',\n",
       " 'Got 7',\n",
       " 'Got 8',\n",
       " 'Got 9'}"
      ]
     },
     "execution_count": 96,
     "metadata": {},
     "output_type": "execute_result"
    }
   ],
   "source": [
    "Got_x"
   ]
  },
  {
   "cell_type": "code",
   "execution_count": 63,
   "id": "6f4df74e",
   "metadata": {},
   "outputs": [
    {
     "data": {
      "text/plain": [
       "{'optimist': 'The glass us half full',\n",
       " 'pessimisr': 'The glass is half empty',\n",
       " 'troll': 'How did you get a glass'}"
      ]
     },
     "execution_count": 63,
     "metadata": {},
     "output_type": "execute_result"
    }
   ],
   "source": [
    "dict(zip(('optimist','pessimisr','troll'),('The glass us half full', 'The glass is half empty', 'How did you get a glass')))"
   ]
  },
  {
   "cell_type": "code",
   "execution_count": 57,
   "id": "ee0770b6",
   "metadata": {},
   "outputs": [],
   "source": [
    "title = ['Creature of habit', 'Crewel Fate']\n",
    "plots = ['A nun turns into a mon ster', 'A haunted yarn shop']"
   ]
  },
  {
   "cell_type": "code",
   "execution_count": 65,
   "id": "de4c2d81",
   "metadata": {},
   "outputs": [],
   "source": [
    "movies = dict(zip(title, plots))"
   ]
  },
  {
   "cell_type": "code",
   "execution_count": 66,
   "id": "895a92ef",
   "metadata": {},
   "outputs": [
    {
     "data": {
      "text/plain": [
       "{'Creature of habit': 'A nun turns into a mon ster',\n",
       " 'Crewel Fate': 'A haunted yarn shop'}"
      ]
     },
     "execution_count": 66,
     "metadata": {},
     "output_type": "execute_result"
    }
   ],
   "source": [
    "movies"
   ]
  },
  {
   "cell_type": "markdown",
   "id": "4e803443",
   "metadata": {},
   "source": [
    "# 9장 연습문제"
   ]
  },
  {
   "cell_type": "code",
   "execution_count": 75,
   "id": "d315f416",
   "metadata": {},
   "outputs": [],
   "source": [
    "def good():\n",
    "    return ['Harry', 'Ron', 'Hermione']"
   ]
  },
  {
   "cell_type": "code",
   "execution_count": 76,
   "id": "f73fe99e",
   "metadata": {},
   "outputs": [
    {
     "data": {
      "text/plain": [
       "['Harry', 'Ron', 'Hermione']"
      ]
     },
     "execution_count": 76,
     "metadata": {},
     "output_type": "execute_result"
    }
   ],
   "source": [
    "good()"
   ]
  },
  {
   "cell_type": "code",
   "execution_count": 71,
   "id": "7836f8f8",
   "metadata": {},
   "outputs": [],
   "source": [
    "get_odds = {odd for odd in range(10) if odd%2 == 1}"
   ]
  },
  {
   "cell_type": "code",
   "execution_count": 72,
   "id": "6d1e15de",
   "metadata": {},
   "outputs": [
    {
     "data": {
      "text/plain": [
       "{1, 3, 5, 7, 9}"
      ]
     },
     "execution_count": 72,
     "metadata": {},
     "output_type": "execute_result"
    }
   ],
   "source": [
    "get_odds"
   ]
  },
  {
   "cell_type": "code",
   "execution_count": 74,
   "id": "526b44ef",
   "metadata": {},
   "outputs": [
    {
     "data": {
      "text/plain": [
       "5"
      ]
     },
     "execution_count": 74,
     "metadata": {},
     "output_type": "execute_result"
    }
   ],
   "source": [
    "list(get_odds)[2]"
   ]
  },
  {
   "cell_type": "code",
   "execution_count": null,
   "id": "208fe4b6",
   "metadata": {},
   "outputs": [],
   "source": []
  },
  {
   "cell_type": "markdown",
   "id": "c0c83027",
   "metadata": {},
   "source": [
    "# 3일차 연습문제_Function"
   ]
  },
  {
   "cell_type": "code",
   "execution_count": 97,
   "id": "ba3d6236",
   "metadata": {},
   "outputs": [],
   "source": [
    "def calcsum(n):\n",
    "    sum = 0\n",
    "    for num in range(n+1):\n",
    "        sum += num\n",
    "    return sum"
   ]
  },
  {
   "cell_type": "code",
   "execution_count": 98,
   "id": "17e90d38",
   "metadata": {},
   "outputs": [
    {
     "name": "stdout",
     "output_type": "stream",
     "text": [
      "~ 4 = 10\n"
     ]
    }
   ],
   "source": [
    "print(\"~ 4 =\", calcsum(4))"
   ]
  },
  {
   "cell_type": "code",
   "execution_count": null,
   "id": "483fb807",
   "metadata": {},
   "outputs": [],
   "source": [
    "print(\"~ 10 =\", calcsum(10))"
   ]
  },
  {
   "cell_type": "code",
   "execution_count": 100,
   "id": "1323558d",
   "metadata": {},
   "outputs": [],
   "source": [
    "def calcrange(begin, end):\n",
    "    sum = 0\n",
    "    for num in range(begin, end + 1):\n",
    "        sum += num\n",
    "    return sum"
   ]
  },
  {
   "cell_type": "code",
   "execution_count": 102,
   "id": "4c1d9942",
   "metadata": {},
   "outputs": [
    {
     "name": "stdout",
     "output_type": "stream",
     "text": [
      "3 ~ 7 = 25\n"
     ]
    }
   ],
   "source": [
    "print(\"3 ~ 7 =\", calcrange(3,7))"
   ]
  },
  {
   "cell_type": "code",
   "execution_count": 103,
   "id": "71553cb5",
   "metadata": {},
   "outputs": [],
   "source": [
    "def printsum(n):\n",
    "    sum = 0\n",
    "    for num in range(n+1):\n",
    "        sum += num\n",
    "    print(\"~\", n , \"=\", sum)"
   ]
  },
  {
   "cell_type": "code",
   "execution_count": 104,
   "id": "c458fbae",
   "metadata": {},
   "outputs": [
    {
     "name": "stdout",
     "output_type": "stream",
     "text": [
      "~ 4 = 10\n"
     ]
    }
   ],
   "source": [
    "printsum(4)"
   ]
  },
  {
   "cell_type": "code",
   "execution_count": 105,
   "id": "04dd6494",
   "metadata": {},
   "outputs": [
    {
     "name": "stdout",
     "output_type": "stream",
     "text": [
      "~ 10 = 55\n"
     ]
    }
   ],
   "source": [
    "printsum(10)"
   ]
  },
  {
   "cell_type": "code",
   "execution_count": 106,
   "id": "276838a5",
   "metadata": {},
   "outputs": [],
   "source": [
    "def intsum(*ints):\n",
    "    sum = 0\n",
    "    for num in ints:\n",
    "        sum += num\n",
    "    return sum"
   ]
  },
  {
   "cell_type": "code",
   "execution_count": 107,
   "id": "9a484ee2",
   "metadata": {},
   "outputs": [
    {
     "name": "stdout",
     "output_type": "stream",
     "text": [
      "6\n"
     ]
    }
   ],
   "source": [
    "print(intsum(1,2,3))"
   ]
  },
  {
   "cell_type": "code",
   "execution_count": 108,
   "id": "45bd6ab3",
   "metadata": {},
   "outputs": [
    {
     "name": "stdout",
     "output_type": "stream",
     "text": [
      "45\n"
     ]
    }
   ],
   "source": [
    "print(intsum(5,7,9,11,13))"
   ]
  },
  {
   "cell_type": "code",
   "execution_count": 109,
   "id": "720cc97a",
   "metadata": {},
   "outputs": [
    {
     "name": "stdout",
     "output_type": "stream",
     "text": [
      "54\n"
     ]
    }
   ],
   "source": [
    "print(intsum(8,9,6,2,9,7,5,8))"
   ]
  },
  {
   "cell_type": "code",
   "execution_count": 128,
   "id": "3b408e9e",
   "metadata": {},
   "outputs": [],
   "source": [
    "def calcstep(begin, end, step):\n",
    "    sum = 0 \n",
    "    for num in range(begin, end+1, step):\n",
    "        sum += num\n",
    "    return sum"
   ]
  },
  {
   "cell_type": "code",
   "execution_count": 117,
   "id": "f982887d",
   "metadata": {},
   "outputs": [
    {
     "name": "stdout",
     "output_type": "stream",
     "text": [
      "1 ~ 10 =  25\n"
     ]
    }
   ],
   "source": [
    "print(\"1 ~ 10 = \", calcstep(1,10,2))"
   ]
  },
  {
   "cell_type": "code",
   "execution_count": 118,
   "id": "e8177d5c",
   "metadata": {},
   "outputs": [
    {
     "name": "stdout",
     "output_type": "stream",
     "text": [
      "2 ~ 10 =  30\n"
     ]
    }
   ],
   "source": [
    "print(\"2 ~ 10 = \", calcstep(2,10,2))"
   ]
  },
  {
   "cell_type": "code",
   "execution_count": 129,
   "id": "c7db53c2",
   "metadata": {},
   "outputs": [
    {
     "ename": "TypeError",
     "evalue": "calcstep() missing 1 required positional argument: 'step'",
     "output_type": "error",
     "traceback": [
      "\u001b[1;31m---------------------------------------------------------------------------\u001b[0m",
      "\u001b[1;31mTypeError\u001b[0m                                 Traceback (most recent call last)",
      "\u001b[1;32m<ipython-input-129-b4b40c514e4e>\u001b[0m in \u001b[0;36m<module>\u001b[1;34m\u001b[0m\n\u001b[1;32m----> 1\u001b[1;33m \u001b[0mprint\u001b[0m\u001b[1;33m(\u001b[0m\u001b[1;34m\"1~10= \"\u001b[0m\u001b[1;33m,\u001b[0m \u001b[0mcalcstep\u001b[0m\u001b[1;33m(\u001b[0m\u001b[1;36m1\u001b[0m\u001b[1;33m,\u001b[0m\u001b[1;36m10\u001b[0m\u001b[1;33m)\u001b[0m\u001b[1;33m)\u001b[0m\u001b[1;33m\u001b[0m\u001b[1;33m\u001b[0m\u001b[0m\n\u001b[0m",
      "\u001b[1;31mTypeError\u001b[0m: calcstep() missing 1 required positional argument: 'step'"
     ]
    }
   ],
   "source": [
    "print(\"1~10= \", calcstep(1,10))"
   ]
  },
  {
   "cell_type": "code",
   "execution_count": 130,
   "id": "8db8010c",
   "metadata": {},
   "outputs": [],
   "source": [
    "def calcstep(begin, end ,step=1):# step=1 디폴트값 지정하면 변수 두개만 넣어도 오류안남\n",
    "    sum = 0\n",
    "    for num in range(begin, end+1, step):\n",
    "        sum +=num\n",
    "    return sum"
   ]
  },
  {
   "cell_type": "code",
   "execution_count": 131,
   "id": "b87a9c15",
   "metadata": {},
   "outputs": [
    {
     "name": "stdout",
     "output_type": "stream",
     "text": [
      "1~10=  25\n"
     ]
    }
   ],
   "source": [
    "print(\"1~10= \", calcstep(1,10,2))"
   ]
  },
  {
   "cell_type": "code",
   "execution_count": 132,
   "id": "87542fb3",
   "metadata": {},
   "outputs": [
    {
     "name": "stdout",
     "output_type": "stream",
     "text": [
      "1~100=  5050\n"
     ]
    }
   ],
   "source": [
    "print(\"1~100= \", calcstep(1,100))"
   ]
  },
  {
   "cell_type": "code",
   "execution_count": 137,
   "id": "de8a519a",
   "metadata": {},
   "outputs": [],
   "source": [
    "def calcstep(**args):\n",
    "    begin = args['begin']\n",
    "    end = args['end']\n",
    "    step = args['step']\n",
    "    \n",
    "    sum = 0\n",
    "    for num in range(begin, end+1, step):\n",
    "        sum += num\n",
    "    return sum"
   ]
  },
  {
   "cell_type": "code",
   "execution_count": 138,
   "id": "14203d05",
   "metadata": {},
   "outputs": [
    {
     "name": "stdout",
     "output_type": "stream",
     "text": [
      "3~ 5 = 12\n"
     ]
    }
   ],
   "source": [
    "print(\"3~ 5 =\", calcstep(begin = 3, end = 5, step =1))"
   ]
  },
  {
   "cell_type": "code",
   "execution_count": 139,
   "id": "a3bdcf86",
   "metadata": {},
   "outputs": [
    {
     "name": "stdout",
     "output_type": "stream",
     "text": [
      "3 ~ 5 = 12\n"
     ]
    }
   ],
   "source": [
    "print(\"3 ~ 5 =\", calcstep(step = 1, end = 5, begin = 3))"
   ]
  },
  {
   "cell_type": "code",
   "execution_count": 141,
   "id": "3bee75aa",
   "metadata": {},
   "outputs": [],
   "source": [
    "def calcscore(name, *score, **option):\n",
    "    print(name)\n",
    "    sum = 0\n",
    "    for s in score:\n",
    "        sum += s\n",
    "    print(\"총점 : \", sum)\n",
    "    if (option['avg'] == True):\n",
    "        print(\"평균 : \", sum/len(score))"
   ]
  },
  {
   "cell_type": "code",
   "execution_count": 143,
   "id": "f1add492",
   "metadata": {},
   "outputs": [
    {
     "name": "stdout",
     "output_type": "stream",
     "text": [
      "김상형\n",
      "총점 :  264\n",
      "평균 :  88.0\n"
     ]
    }
   ],
   "source": [
    "calcscore(\"김상형\", 88, 99, 77, avg = True )"
   ]
  },
  {
   "cell_type": "code",
   "execution_count": 144,
   "id": "87e03643",
   "metadata": {},
   "outputs": [
    {
     "name": "stdout",
     "output_type": "stream",
     "text": [
      "김한슬\n",
      "총점 :  381\n"
     ]
    }
   ],
   "source": [
    "calcscore(\"김한슬\", 99, 98, 95, 89, avg = False)"
   ]
  },
  {
   "cell_type": "code",
   "execution_count": 145,
   "id": "838698ec",
   "metadata": {},
   "outputs": [],
   "source": [
    "def kim():\n",
    "    temp = \"김과장의 함수\"\n",
    "    print(temp)"
   ]
  },
  {
   "cell_type": "code",
   "execution_count": 146,
   "id": "15a0c0c7",
   "metadata": {},
   "outputs": [
    {
     "name": "stdout",
     "output_type": "stream",
     "text": [
      "김과장의 함수\n"
     ]
    }
   ],
   "source": [
    "kim()"
   ]
  },
  {
   "cell_type": "code",
   "execution_count": 149,
   "id": "8db12137",
   "metadata": {},
   "outputs": [
    {
     "ename": "NameError",
     "evalue": "name 'temp' is not defined",
     "output_type": "error",
     "traceback": [
      "\u001b[1;31m---------------------------------------------------------------------------\u001b[0m",
      "\u001b[1;31mNameError\u001b[0m                                 Traceback (most recent call last)",
      "\u001b[1;32m<ipython-input-149-4ceff462710b>\u001b[0m in \u001b[0;36m<module>\u001b[1;34m\u001b[0m\n\u001b[1;32m----> 1\u001b[1;33m \u001b[0mprint\u001b[0m\u001b[1;33m(\u001b[0m\u001b[0mtemp\u001b[0m\u001b[1;33m)\u001b[0m\u001b[1;33m\u001b[0m\u001b[1;33m\u001b[0m\u001b[0m\n\u001b[0m",
      "\u001b[1;31mNameError\u001b[0m: name 'temp' is not defined"
     ]
    }
   ],
   "source": [
    "print(temp)"
   ]
  },
  {
   "cell_type": "code",
   "execution_count": 150,
   "id": "f5aa8f82",
   "metadata": {},
   "outputs": [],
   "source": [
    "def kim():\n",
    "    temp = \"김과장의 함수\"\n",
    "    print(temp)\n",
    "def lee():\n",
    "    temp = 2**10\n",
    "    return temp\n",
    "def park(a):\n",
    "    temp = a*2\n",
    "    print(temp)"
   ]
  },
  {
   "cell_type": "code",
   "execution_count": 151,
   "id": "cb28270d",
   "metadata": {},
   "outputs": [
    {
     "name": "stdout",
     "output_type": "stream",
     "text": [
      "김과장의 함수\n"
     ]
    }
   ],
   "source": [
    "kim()"
   ]
  },
  {
   "cell_type": "code",
   "execution_count": 152,
   "id": "db95150d",
   "metadata": {},
   "outputs": [
    {
     "name": "stdout",
     "output_type": "stream",
     "text": [
      "1024\n"
     ]
    }
   ],
   "source": [
    "print(lee())"
   ]
  },
  {
   "cell_type": "code",
   "execution_count": 154,
   "id": "cb71a813",
   "metadata": {},
   "outputs": [
    {
     "name": "stdout",
     "output_type": "stream",
     "text": [
      "12\n"
     ]
    }
   ],
   "source": [
    "park(6)"
   ]
  },
  {
   "cell_type": "code",
   "execution_count": 156,
   "id": "5bf62899",
   "metadata": {},
   "outputs": [],
   "source": [
    "salerate = 0.9\n",
    "\n",
    "def kim():\n",
    "    print(\"오늘의 할인율:\", salerate)\n",
    "def lee():\n",
    "    price = 1000\n",
    "    print(\"가격 : \", price*salerate)"
   ]
  },
  {
   "cell_type": "code",
   "execution_count": 157,
   "id": "063ae044",
   "metadata": {},
   "outputs": [
    {
     "name": "stdout",
     "output_type": "stream",
     "text": [
      "오늘의 할인율: 0.9\n"
     ]
    }
   ],
   "source": [
    "kim()"
   ]
  },
  {
   "cell_type": "code",
   "execution_count": 158,
   "id": "3b33272a",
   "metadata": {},
   "outputs": [
    {
     "name": "stdout",
     "output_type": "stream",
     "text": [
      "가격 :  1100.0\n"
     ]
    }
   ],
   "source": [
    "salerate = 1.1\n",
    "lee()"
   ]
  },
  {
   "cell_type": "code",
   "execution_count": 165,
   "id": "5e1e5ff9",
   "metadata": {},
   "outputs": [],
   "source": [
    "price = 1000\n",
    "\n",
    "def sale():\n",
    "    price = 500"
   ]
  },
  {
   "cell_type": "code",
   "execution_count": 169,
   "id": "07b25cb8",
   "metadata": {},
   "outputs": [
    {
     "name": "stdout",
     "output_type": "stream",
     "text": [
      "1000\n"
     ]
    }
   ],
   "source": [
    "sale()\n",
    "print(price)"
   ]
  },
  {
   "cell_type": "code",
   "execution_count": 170,
   "id": "09ca8793",
   "metadata": {},
   "outputs": [],
   "source": [
    "price = 1000\n",
    "\n",
    "def sale():\n",
    "    price = 500\n",
    "    print(\"sale\", id(price))         #id역할??"
   ]
  },
  {
   "cell_type": "code",
   "execution_count": 171,
   "id": "97f0135f",
   "metadata": {},
   "outputs": [
    {
     "name": "stdout",
     "output_type": "stream",
     "text": [
      "sale 2686465310192\n"
     ]
    }
   ],
   "source": [
    "sale()"
   ]
  },
  {
   "cell_type": "code",
   "execution_count": 173,
   "id": "ecddccad",
   "metadata": {},
   "outputs": [
    {
     "name": "stdout",
     "output_type": "stream",
     "text": [
      "global 2686465310416\n"
     ]
    }
   ],
   "source": [
    "print(\"global\", id(price))"
   ]
  },
  {
   "cell_type": "code",
   "execution_count": 174,
   "id": "7d961790",
   "metadata": {},
   "outputs": [],
   "source": [
    "price = 1000\n",
    "\n",
    "def sale():\n",
    "    global price     # global 무슨역할??\n",
    "    price = 500"
   ]
  },
  {
   "cell_type": "code",
   "execution_count": 176,
   "id": "e33074d3",
   "metadata": {},
   "outputs": [
    {
     "name": "stdout",
     "output_type": "stream",
     "text": [
      "500\n"
     ]
    }
   ],
   "source": [
    "sale()\n",
    "print(price)"
   ]
  },
  {
   "cell_type": "code",
   "execution_count": 179,
   "id": "dd67eabd",
   "metadata": {},
   "outputs": [],
   "source": [
    "def calcsum(n):\n",
    "    \"\"\"1 ~ n까지의 합계를 구해 리턴한다.\"\"\"   # \"\"\"따옴표 세개 의미??\n",
    "    sum = 0\n",
    "    for i in range(n+1):\n",
    "        sum += i\n",
    "    return sum"
   ]
  },
  {
   "cell_type": "code",
   "execution_count": 180,
   "id": "fae1ab79",
   "metadata": {},
   "outputs": [
    {
     "name": "stdout",
     "output_type": "stream",
     "text": [
      "Help on function calcsum in module __main__:\n",
      "\n",
      "calcsum(n)\n",
      "    1 ~ n까지의 합계를 구해 리턴한다.\n",
      "\n"
     ]
    }
   ],
   "source": [
    "help(calcsum)"
   ]
  },
  {
   "cell_type": "code",
   "execution_count": 185,
   "id": "970c9e2a",
   "metadata": {},
   "outputs": [
    {
     "data": {
      "text/plain": [
       "28"
      ]
     },
     "execution_count": 185,
     "metadata": {},
     "output_type": "execute_result"
    }
   ],
   "source": [
    "calcsum(7)"
   ]
  },
  {
   "cell_type": "code",
   "execution_count": 186,
   "id": "6188097c",
   "metadata": {},
   "outputs": [
    {
     "name": "stdout",
     "output_type": "stream",
     "text": [
      "5\n"
     ]
    }
   ],
   "source": [
    "print(abs(-5))"
   ]
  },
  {
   "cell_type": "code",
   "execution_count": 187,
   "id": "d95dd697",
   "metadata": {},
   "outputs": [
    {
     "name": "stdout",
     "output_type": "stream",
     "text": [
      "7\n"
     ]
    }
   ],
   "source": [
    "print(max(3,7))"
   ]
  },
  {
   "cell_type": "code",
   "execution_count": 188,
   "id": "9de6c4c8",
   "metadata": {},
   "outputs": [
    {
     "name": "stdout",
     "output_type": "stream",
     "text": [
      "1\n"
     ]
    }
   ],
   "source": [
    "print(min([8,9,1,6,2]))"
   ]
  },
  {
   "cell_type": "markdown",
   "id": "e15477ca",
   "metadata": {},
   "source": [
    "# 3일차 연습문제_Class"
   ]
  },
  {
   "cell_type": "code",
   "execution_count": 201,
   "id": "9fc034eb",
   "metadata": {},
   "outputs": [],
   "source": [
    "balance = 8000\n",
    "\n",
    "def deposit(money):\n",
    "    global balance\n",
    "    balance += money\n",
    "\n",
    "def inquire():\n",
    "    print(\"잔액은 %d원 입니다.\" %balance)"
   ]
  },
  {
   "cell_type": "code",
   "execution_count": 202,
   "id": "46334f71",
   "metadata": {},
   "outputs": [],
   "source": [
    "deposit(1000)"
   ]
  },
  {
   "cell_type": "code",
   "execution_count": 203,
   "id": "30c19951",
   "metadata": {},
   "outputs": [
    {
     "name": "stdout",
     "output_type": "stream",
     "text": [
      "잔액은 9000원 입니다.\n"
     ]
    }
   ],
   "source": [
    "inquire()"
   ]
  },
  {
   "cell_type": "code",
   "execution_count": 210,
   "id": "160b578d",
   "metadata": {},
   "outputs": [],
   "source": [
    "class Account:\n",
    "    def __init__(self, balance):\n",
    "        self.balance = balance\n",
    "    def deposit(self, money):\n",
    "        self.balance += money\n",
    "    def inquire(self):\n",
    "        print(\"잔액은 %d원 입니다.\" % self.balance)"
   ]
  },
  {
   "cell_type": "code",
   "execution_count": 211,
   "id": "9f252ecd",
   "metadata": {},
   "outputs": [
    {
     "name": "stdout",
     "output_type": "stream",
     "text": [
      "잔액은 9000원 입니다.\n"
     ]
    }
   ],
   "source": [
    "sinhan = Account(8000)\n",
    "sinhan.deposit(1000)\n",
    "sinhan.inquire()"
   ]
  },
  {
   "cell_type": "code",
   "execution_count": 212,
   "id": "4ee0f8b4",
   "metadata": {},
   "outputs": [
    {
     "name": "stdout",
     "output_type": "stream",
     "text": [
      "잔액은 1200000원 입니다.\n"
     ]
    }
   ],
   "source": [
    "nonghyup = Account(1200000)\n",
    "nonghyup.inquire()"
   ]
  },
  {
   "cell_type": "code",
   "execution_count": null,
   "id": "defed055",
   "metadata": {},
   "outputs": [],
   "source": []
  },
  {
   "cell_type": "code",
   "execution_count": null,
   "id": "9872f23c",
   "metadata": {},
   "outputs": [],
   "source": []
  }
 ],
 "metadata": {
  "kernelspec": {
   "display_name": "Python 3",
   "language": "python",
   "name": "python3"
  },
  "language_info": {
   "codemirror_mode": {
    "name": "ipython",
    "version": 3
   },
   "file_extension": ".py",
   "mimetype": "text/x-python",
   "name": "python",
   "nbconvert_exporter": "python",
   "pygments_lexer": "ipython3",
   "version": "3.8.8"
  }
 },
 "nbformat": 4,
 "nbformat_minor": 5
}

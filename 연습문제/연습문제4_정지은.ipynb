{
 "cells": [
  {
   "cell_type": "markdown",
   "id": "9659f19d",
   "metadata": {},
   "source": [
    "# 4일차 연습문제"
   ]
  },
  {
   "cell_type": "markdown",
   "id": "e2b97dd9",
   "metadata": {},
   "source": [
    "=============== capsule ==============="
   ]
  },
  {
   "cell_type": "code",
   "execution_count": 8,
   "id": "4ca87e39",
   "metadata": {},
   "outputs": [],
   "source": [
    "balance = 8000\n",
    "\n",
    "def deposit(money):\n",
    "    global balance\n",
    "    balance += money\n",
    "def inquire():\n",
    "    print(\"잔액은 %d원입니다.\" % balance)"
   ]
  },
  {
   "cell_type": "code",
   "execution_count": 9,
   "id": "eb08c2c9",
   "metadata": {},
   "outputs": [],
   "source": [
    "deposit(1000)"
   ]
  },
  {
   "cell_type": "code",
   "execution_count": 10,
   "id": "952b2edf",
   "metadata": {},
   "outputs": [
    {
     "name": "stdout",
     "output_type": "stream",
     "text": [
      "잔액은 9000원입니다.\n"
     ]
    }
   ],
   "source": [
    "inquire()"
   ]
  },
  {
   "cell_type": "markdown",
   "id": "24efcc3a",
   "metadata": {},
   "source": [
    "=============== account ==============="
   ]
  },
  {
   "cell_type": "code",
   "execution_count": 26,
   "id": "ccbd6e2e",
   "metadata": {},
   "outputs": [],
   "source": [
    "class Account:\n",
    "    def __init__(self, balance):\n",
    "        self.balance = balance\n",
    "    def deposit(self, money):\n",
    "        self.balance += money\n",
    "    def inquire(self):\n",
    "        print(\"잔액은 %d원입니다.\" % balance)"
   ]
  },
  {
   "cell_type": "code",
   "execution_count": 20,
   "id": "7bd098da",
   "metadata": {},
   "outputs": [
    {
     "name": "stdout",
     "output_type": "stream",
     "text": [
      "잔액은 9000원입니다.\n"
     ]
    }
   ],
   "source": [
    "sinhan = Account(8000)\n",
    "sinhan.deposit(1000)\n",
    "sinhan.inquire()"
   ]
  },
  {
   "cell_type": "code",
   "execution_count": 27,
   "id": "a910a67a",
   "metadata": {},
   "outputs": [
    {
     "name": "stdout",
     "output_type": "stream",
     "text": [
      "잔액은 9000원입니다.\n"
     ]
    }
   ],
   "source": [
    "nonghyup = Account(1200000)\n",
    "nonghyup.inquire()"
   ]
  },
  {
   "cell_type": "markdown",
   "id": "a7ce98d2",
   "metadata": {},
   "source": [
    "=============== human ==============="
   ]
  },
  {
   "cell_type": "code",
   "execution_count": 36,
   "id": "837e7c0b",
   "metadata": {},
   "outputs": [],
   "source": [
    "class Human:\n",
    "    def __init__(self, age, name):\n",
    "        self.age = age\n",
    "        self.name = name\n",
    "    def intro(self):\n",
    "        print(str(self.age) +\"살 \"+ self.name+\"입니다.\")"
   ]
  },
  {
   "cell_type": "code",
   "execution_count": 37,
   "id": "1aec6d67",
   "metadata": {},
   "outputs": [],
   "source": [
    "kim = Human(29, \"홍길동\")"
   ]
  },
  {
   "cell_type": "code",
   "execution_count": 38,
   "id": "2ee59cb2",
   "metadata": {},
   "outputs": [
    {
     "name": "stdout",
     "output_type": "stream",
     "text": [
      "29살 홍길동입니다.\n"
     ]
    }
   ],
   "source": [
    "kim.intro()"
   ]
  },
  {
   "cell_type": "code",
   "execution_count": 41,
   "id": "6c78b676",
   "metadata": {},
   "outputs": [],
   "source": [
    "lee = Human(45, \"이승우\")"
   ]
  },
  {
   "cell_type": "code",
   "execution_count": 42,
   "id": "498e2981",
   "metadata": {},
   "outputs": [
    {
     "name": "stdout",
     "output_type": "stream",
     "text": [
      "45살 이승우입니다.\n"
     ]
    }
   ],
   "source": [
    "lee.intro()"
   ]
  },
  {
   "cell_type": "markdown",
   "id": "a919166d",
   "metadata": {},
   "source": [
    " =============== student ==============="
   ]
  },
  {
   "cell_type": "code",
   "execution_count": 59,
   "id": "dcbb38d8",
   "metadata": {},
   "outputs": [],
   "source": [
    "class Human:\n",
    "    def __init__(self, age, name):\n",
    "        self.age = age\n",
    "        self.name = name\n",
    "    def intro(self):\n",
    "        print(str(self.age) + \"살 \" + self.name+\"입니다.\")"
   ]
  },
  {
   "cell_type": "code",
   "execution_count": 66,
   "id": "cab6034e",
   "metadata": {},
   "outputs": [],
   "source": [
    "class student(Human):\n",
    "    def __init__(self, age, name, stunum):\n",
    "        super().__init__(age, name)\n",
    "        self.stunum = stunum\n",
    "    def intro(self):\n",
    "        super().intro()\n",
    "        print(\"학번 : \" + str(self.stunum))\n",
    "    def study(self):\n",
    "        print(\"하늘천 따지 검을현 누를황\")"
   ]
  },
  {
   "cell_type": "code",
   "execution_count": 67,
   "id": "1fdecd74",
   "metadata": {},
   "outputs": [],
   "source": [
    "kim = Human(29, \"홍길동\")"
   ]
  },
  {
   "cell_type": "code",
   "execution_count": 68,
   "id": "7eec5169",
   "metadata": {},
   "outputs": [
    {
     "name": "stdout",
     "output_type": "stream",
     "text": [
      "29살 홍길동입니다.\n"
     ]
    }
   ],
   "source": [
    "kim.intro()"
   ]
  },
  {
   "cell_type": "code",
   "execution_count": 69,
   "id": "82d4b3a8",
   "metadata": {},
   "outputs": [],
   "source": [
    "lee = student(34, \"이승우\", 930011)"
   ]
  },
  {
   "cell_type": "code",
   "execution_count": 70,
   "id": "929c8170",
   "metadata": {},
   "outputs": [
    {
     "name": "stdout",
     "output_type": "stream",
     "text": [
      "34살 이승우입니다.\n",
      "학번 : 930011\n"
     ]
    }
   ],
   "source": [
    "lee.intro()"
   ]
  },
  {
   "cell_type": "code",
   "execution_count": 71,
   "id": "7a228657",
   "metadata": {},
   "outputs": [
    {
     "name": "stdout",
     "output_type": "stream",
     "text": [
      "하늘천 따지 검을현 누를황\n"
     ]
    }
   ],
   "source": [
    "lee.study()"
   ]
  },
  {
   "cell_type": "markdown",
   "id": "26a32875",
   "metadata": {},
   "source": [
    "=============== getset ==============="
   ]
  },
  {
   "cell_type": "code",
   "execution_count": 72,
   "id": "c9344c03",
   "metadata": {},
   "outputs": [],
   "source": [
    "class Date:\n",
    "    def __init__(self,month):\n",
    "        self.month = month\n",
    "    def getmonth(self):\n",
    "        return self.month\n",
    "    def setmonth(self, month):\n",
    "        if 1<= month <= 12:\n",
    "            self.month = month"
   ]
  },
  {
   "cell_type": "code",
   "execution_count": 76,
   "id": "61aee51a",
   "metadata": {},
   "outputs": [
    {
     "name": "stdout",
     "output_type": "stream",
     "text": [
      "8\n"
     ]
    }
   ],
   "source": [
    "today = Date(8)\n",
    "today.setmonth(15)   # 1<= month <= 12 범위안에 들지않아서 안나옴\n",
    "print(today.getmonth())"
   ]
  },
  {
   "cell_type": "markdown",
   "id": "38274d71",
   "metadata": {},
   "source": [
    " =============== property ==============="
   ]
  },
  {
   "cell_type": "code",
   "execution_count": 78,
   "id": "2f307e0d",
   "metadata": {},
   "outputs": [],
   "source": [
    "class Date:\n",
    "    def __init__(self, month):\n",
    "        self.inner_month = month\n",
    "    def getmonth(self):\n",
    "        return self.inner_month\n",
    "    def setmonth(self, month):\n",
    "        if 1<= month <= 12:\n",
    "            self.inner_month = month\n",
    "    month = property(getmonth,setmonth)    "
   ]
  },
  {
   "cell_type": "code",
   "execution_count": 81,
   "id": "b9adc202",
   "metadata": {},
   "outputs": [
    {
     "name": "stdout",
     "output_type": "stream",
     "text": [
      "8\n"
     ]
    }
   ],
   "source": [
    "today = Date(8)\n",
    "today.month = 15\n",
    "print(today.month)"
   ]
  },
  {
   "cell_type": "markdown",
   "id": "a1cd2be3",
   "metadata": {},
   "source": [
    "============== property2 ==============="
   ]
  },
  {
   "cell_type": "code",
   "execution_count": 86,
   "id": "5d95caf9",
   "metadata": {},
   "outputs": [],
   "source": [
    "class Date:\n",
    "    def __init__(self, month):\n",
    "        self.inner_month = month\n",
    "    @property\n",
    "    def month(self):\n",
    "        return self.inner_month\n",
    "    @month.setter\n",
    "    def month(self, month):\n",
    "        if 1 <= month <= 12:\n",
    "            self.inner_month = month"
   ]
  },
  {
   "cell_type": "code",
   "execution_count": 87,
   "id": "d7b02bdc",
   "metadata": {},
   "outputs": [
    {
     "name": "stdout",
     "output_type": "stream",
     "text": [
      "8\n"
     ]
    }
   ],
   "source": [
    "today = Date(8)\n",
    "today.month = 15\n",
    "print(today.month)"
   ]
  },
  {
   "cell_type": "markdown",
   "id": "8d6ddfd2",
   "metadata": {},
   "source": [
    "=============== hidden ==============="
   ]
  },
  {
   "cell_type": "code",
   "execution_count": 89,
   "id": "4cda6ce8",
   "metadata": {},
   "outputs": [],
   "source": [
    "class Date:\n",
    "    def __init__(self, month):\n",
    "        self.__month = month\n",
    "    def getmonth(self):\n",
    "        return self.__month\n",
    "    def setmonth(self,month):\n",
    "        if 1<= month <= 12:\n",
    "            self.__month = month\n",
    "    month = property(getmonth, setmonth)"
   ]
  },
  {
   "cell_type": "code",
   "execution_count": 90,
   "id": "9f0baa03",
   "metadata": {},
   "outputs": [
    {
     "name": "stdout",
     "output_type": "stream",
     "text": [
      "8\n"
     ]
    }
   ],
   "source": [
    "today = Date(8)\n",
    "today.__month = 15\n",
    "print(today.month)"
   ]
  },
  {
   "cell_type": "markdown",
   "id": "386a0618",
   "metadata": {},
   "source": [
    "=============== classmethod ==============="
   ]
  },
  {
   "cell_type": "code",
   "execution_count": 139,
   "id": "47128809",
   "metadata": {},
   "outputs": [],
   "source": [
    "class Car:\n",
    "    count = 0\n",
    "    def __init__(self, name):\n",
    "        self.name = name\n",
    "        Car.count += 1\n",
    "    @classmethod\n",
    "    def outcount(a):\n",
    "        print(a.count)"
   ]
  },
  {
   "cell_type": "code",
   "execution_count": 140,
   "id": "f7ed5fd6",
   "metadata": {},
   "outputs": [
    {
     "name": "stdout",
     "output_type": "stream",
     "text": [
      "2\n"
     ]
    }
   ],
   "source": [
    "pride = Car(\"프라이드\")\n",
    "korando = Car(\"코란도\")\n",
    "Car.outcount()"
   ]
  },
  {
   "cell_type": "markdown",
   "id": "14ff9dfa",
   "metadata": {},
   "source": [
    "============== staticmethod ==============="
   ]
  },
  {
   "cell_type": "code",
   "execution_count": 93,
   "id": "504e76ad",
   "metadata": {},
   "outputs": [],
   "source": [
    "class Car:\n",
    "    @staticmethod\n",
    "    def hello():\n",
    "        print(\"오늘도 안전 운행 합시다.\")\n",
    "    count = 0\n",
    "    def __init__(self, name):\n",
    "        self.name = name\n",
    "        Car.count +=1\n",
    "    @classmethod\n",
    "    def outcount(cls):\n",
    "        print(cls.count)"
   ]
  },
  {
   "cell_type": "code",
   "execution_count": 94,
   "id": "7de76fb5",
   "metadata": {},
   "outputs": [
    {
     "name": "stdout",
     "output_type": "stream",
     "text": [
      "오늘도 안전 운행 합시다.\n"
     ]
    }
   ],
   "source": [
    "Car.hello()"
   ]
  },
  {
   "cell_type": "markdown",
   "id": "4f92e6c0",
   "metadata": {},
   "source": [
    "=============== eqop ==============="
   ]
  },
  {
   "cell_type": "code",
   "execution_count": 97,
   "id": "672601a2",
   "metadata": {},
   "outputs": [],
   "source": [
    "class Human:\n",
    "    def __init__(self,age,name):\n",
    "        self.age = age\n",
    "        self.name = name\n",
    "    def __eq__(self,other):\n",
    "        return self.age == other.age and self.name == other.name"
   ]
  },
  {
   "cell_type": "code",
   "execution_count": 98,
   "id": "94fadaa6",
   "metadata": {},
   "outputs": [],
   "source": [
    "kim = Human(29, \"홍길동\")"
   ]
  },
  {
   "cell_type": "code",
   "execution_count": 99,
   "id": "e899505f",
   "metadata": {},
   "outputs": [],
   "source": [
    "sang = Human(29, \"홍길동\")"
   ]
  },
  {
   "cell_type": "code",
   "execution_count": 100,
   "id": "f4ab684a",
   "metadata": {},
   "outputs": [],
   "source": [
    "moon = Human(44, \"문종민\")"
   ]
  },
  {
   "cell_type": "code",
   "execution_count": 103,
   "id": "528f2ea1",
   "metadata": {},
   "outputs": [],
   "source": [
    "moon2 = Human(29, \"문종민\")"
   ]
  },
  {
   "cell_type": "code",
   "execution_count": 101,
   "id": "8bc46805",
   "metadata": {},
   "outputs": [
    {
     "name": "stdout",
     "output_type": "stream",
     "text": [
      "True\n"
     ]
    }
   ],
   "source": [
    "print(kim == sang)"
   ]
  },
  {
   "cell_type": "code",
   "execution_count": 102,
   "id": "8e8e822f",
   "metadata": {},
   "outputs": [
    {
     "name": "stdout",
     "output_type": "stream",
     "text": [
      "False\n"
     ]
    }
   ],
   "source": [
    "print(kim == moon)"
   ]
  },
  {
   "cell_type": "code",
   "execution_count": 104,
   "id": "2d8c8fdc",
   "metadata": {},
   "outputs": [
    {
     "name": "stdout",
     "output_type": "stream",
     "text": [
      "False\n"
     ]
    }
   ],
   "source": [
    "print(kim == moon2)"
   ]
  },
  {
   "cell_type": "markdown",
   "id": "a7d4f1fa",
   "metadata": {},
   "source": [
    "=============== clsstr ==============="
   ]
  },
  {
   "cell_type": "code",
   "execution_count": 105,
   "id": "522c9f7c",
   "metadata": {},
   "outputs": [],
   "source": [
    "class Human:\n",
    "    def __init__(self, age, name):\n",
    "        self.age = age\n",
    "        self.name = name\n",
    "    def __str__(self):\n",
    "        return \"이름 %s, 나이 %d\" % (self.name, self.age)"
   ]
  },
  {
   "cell_type": "code",
   "execution_count": 106,
   "id": "1ef719e7",
   "metadata": {},
   "outputs": [
    {
     "name": "stdout",
     "output_type": "stream",
     "text": [
      "이름 홍길동, 나이 29\n"
     ]
    }
   ],
   "source": [
    "kim = Human(29, \"홍길동\")\n",
    "print(kim)"
   ]
  },
  {
   "cell_type": "markdown",
   "id": "b528b612",
   "metadata": {},
   "source": [
    "=============== clslen =============="
   ]
  },
  {
   "cell_type": "code",
   "execution_count": 108,
   "id": "59502ba9",
   "metadata": {},
   "outputs": [],
   "source": [
    "class Human:\n",
    "    def __init__(self,age, name):\n",
    "        self.age = age\n",
    "        self.name = name\n",
    "    def __len__(self):\n",
    "        return self.age"
   ]
  },
  {
   "cell_type": "code",
   "execution_count": 109,
   "id": "303a9d31",
   "metadata": {},
   "outputs": [
    {
     "name": "stdout",
     "output_type": "stream",
     "text": [
      "29\n"
     ]
    }
   ],
   "source": [
    "kim = Human(29, \"홍길동\")\n",
    "print(len(kim))"
   ]
  },
  {
   "cell_type": "code",
   "execution_count": null,
   "id": "cab1f1d2",
   "metadata": {},
   "outputs": [],
   "source": []
  },
  {
   "cell_type": "markdown",
   "id": "9ec518bd",
   "metadata": {},
   "source": [
    "# 10장 연습문제"
   ]
  },
  {
   "cell_type": "code",
   "execution_count": 122,
   "id": "2ff26f2e",
   "metadata": {},
   "outputs": [],
   "source": [
    "class Thing:\n",
    "    pass"
   ]
  },
  {
   "cell_type": "code",
   "execution_count": 123,
   "id": "9f956d85",
   "metadata": {},
   "outputs": [],
   "source": [
    "example = Thing()"
   ]
  },
  {
   "cell_type": "code",
   "execution_count": 124,
   "id": "80a42392",
   "metadata": {},
   "outputs": [
    {
     "name": "stdout",
     "output_type": "stream",
     "text": [
      "<class '__main__.Thing'>\n"
     ]
    }
   ],
   "source": [
    "print(Thing)"
   ]
  },
  {
   "cell_type": "code",
   "execution_count": 125,
   "id": "38a113d6",
   "metadata": {},
   "outputs": [
    {
     "name": "stdout",
     "output_type": "stream",
     "text": [
      "<__main__.Thing object at 0x000001C6B8BC57F0>\n"
     ]
    }
   ],
   "source": [
    "print(example)"
   ]
  },
  {
   "cell_type": "code",
   "execution_count": 126,
   "id": "eb08929b",
   "metadata": {},
   "outputs": [],
   "source": [
    "class Thing2:\n",
    "    letters = 'abc'"
   ]
  },
  {
   "cell_type": "code",
   "execution_count": 127,
   "id": "b145792c",
   "metadata": {},
   "outputs": [
    {
     "data": {
      "text/plain": [
       "'abc'"
      ]
     },
     "execution_count": 127,
     "metadata": {},
     "output_type": "execute_result"
    }
   ],
   "source": [
    "Thing2.letters"
   ]
  },
  {
   "cell_type": "code",
   "execution_count": null,
   "id": "ce4b84ba",
   "metadata": {},
   "outputs": [],
   "source": []
  },
  {
   "cell_type": "code",
   "execution_count": null,
   "id": "cdd60c0b",
   "metadata": {},
   "outputs": [],
   "source": []
  },
  {
   "cell_type": "code",
   "execution_count": null,
   "id": "9cb5f3e8",
   "metadata": {},
   "outputs": [],
   "source": []
  },
  {
   "cell_type": "code",
   "execution_count": null,
   "id": "aa05e5f0",
   "metadata": {},
   "outputs": [],
   "source": []
  },
  {
   "cell_type": "code",
   "execution_count": null,
   "id": "5eb0bb55",
   "metadata": {},
   "outputs": [],
   "source": []
  },
  {
   "cell_type": "code",
   "execution_count": null,
   "id": "0b5e0e53",
   "metadata": {},
   "outputs": [],
   "source": []
  },
  {
   "cell_type": "code",
   "execution_count": null,
   "id": "29847026",
   "metadata": {},
   "outputs": [],
   "source": []
  },
  {
   "cell_type": "code",
   "execution_count": null,
   "id": "c56635eb",
   "metadata": {},
   "outputs": [],
   "source": []
  }
 ],
 "metadata": {
  "kernelspec": {
   "display_name": "Python 3",
   "language": "python",
   "name": "python3"
  },
  "language_info": {
   "codemirror_mode": {
    "name": "ipython",
    "version": 3
   },
   "file_extension": ".py",
   "mimetype": "text/x-python",
   "name": "python",
   "nbconvert_exporter": "python",
   "pygments_lexer": "ipython3",
   "version": "3.8.8"
  }
 },
 "nbformat": 4,
 "nbformat_minor": 5
}

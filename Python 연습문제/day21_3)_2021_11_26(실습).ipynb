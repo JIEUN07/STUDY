{
  "nbformat": 4,
  "nbformat_minor": 0,
  "metadata": {
    "colab": {
      "name": "day21_3) 2021-11-26(실습).ipynb",
      "provenance": [],
      "collapsed_sections": []
    },
    "kernelspec": {
      "name": "python3",
      "display_name": "Python 3"
    },
    "language_info": {
      "name": "python"
    }
  },
  "cells": [
    {
      "cell_type": "markdown",
      "metadata": {
        "id": "XyyMK8IMkHzh"
      },
      "source": [
        "\n",
        "# 실습\n",
        "\n",
        "titanic 데이터를 seaborn에서 로딩\n",
        "\n",
        "```\n",
        "- age 컬럼에 대한 histogram 그리기\n",
        "- age 컬럼에 대한 survivied를 histo gram으로 그리기. 하나의 나이에 대해 2개의 bar가 있도록\n",
        "- age 컬럼에 대한 생존율을 비교하도록 multiple 옵션을 fill로 해서 그리기\n",
        "- age 컬럼을 x로 fare 컬럼을 y로 해서 scatter 그림 그리기\n",
        "- 위의 4개의 그림을 각각 파일로 저장\n",
        "\n",
        "- 파일로 저장한 4개의 그림을 읽어서 다음과 같이 배치하여 1장으로 보이기\n",
        "   1   2\n",
        "   3   4\n",
        "```"
      ]
    },
    {
      "cell_type": "code",
      "metadata": {
        "id": "Zubaol1qkFoj"
      },
      "source": [
        "import seaborn as sns\n",
        "import pandas as pd\n",
        "import matplotlib.pyplot as plt\n",
        "import cv2\n",
        "\n",
        "titanic = sns.load_dataset(\"titanic\")"
      ],
      "execution_count": 1,
      "outputs": []
    },
    {
      "cell_type": "markdown",
      "metadata": {
        "id": "XIwhyguLofiP"
      },
      "source": [
        "seaborn 셋팅"
      ]
    },
    {
      "cell_type": "code",
      "metadata": {
        "id": "zKjcCMFVlpmj"
      },
      "source": [
        "sns.set(context = 'notebook',\n",
        "        style = 'darkgrid',\n",
        "        palette = 'deep',\n",
        "        font_scale=1,\n",
        "        color_codes=True)"
      ],
      "execution_count": 2,
      "outputs": []
    },
    {
      "cell_type": "code",
      "metadata": {
        "colab": {
          "base_uri": "https://localhost:8080/",
          "height": 444
        },
        "id": "L2pKfvlTkTge",
        "outputId": "648b472e-fc11-41b3-d4e8-d389d64431d6"
      },
      "source": [
        "titanic"
      ],
      "execution_count": 3,
      "outputs": [
        {
          "output_type": "execute_result",
          "data": {
            "text/html": [
              "<div>\n",
              "<style scoped>\n",
              "    .dataframe tbody tr th:only-of-type {\n",
              "        vertical-align: middle;\n",
              "    }\n",
              "\n",
              "    .dataframe tbody tr th {\n",
              "        vertical-align: top;\n",
              "    }\n",
              "\n",
              "    .dataframe thead th {\n",
              "        text-align: right;\n",
              "    }\n",
              "</style>\n",
              "<table border=\"1\" class=\"dataframe\">\n",
              "  <thead>\n",
              "    <tr style=\"text-align: right;\">\n",
              "      <th></th>\n",
              "      <th>survived</th>\n",
              "      <th>pclass</th>\n",
              "      <th>sex</th>\n",
              "      <th>age</th>\n",
              "      <th>sibsp</th>\n",
              "      <th>parch</th>\n",
              "      <th>fare</th>\n",
              "      <th>embarked</th>\n",
              "      <th>class</th>\n",
              "      <th>who</th>\n",
              "      <th>adult_male</th>\n",
              "      <th>deck</th>\n",
              "      <th>embark_town</th>\n",
              "      <th>alive</th>\n",
              "      <th>alone</th>\n",
              "    </tr>\n",
              "  </thead>\n",
              "  <tbody>\n",
              "    <tr>\n",
              "      <th>0</th>\n",
              "      <td>0</td>\n",
              "      <td>3</td>\n",
              "      <td>male</td>\n",
              "      <td>22.0</td>\n",
              "      <td>1</td>\n",
              "      <td>0</td>\n",
              "      <td>7.2500</td>\n",
              "      <td>S</td>\n",
              "      <td>Third</td>\n",
              "      <td>man</td>\n",
              "      <td>True</td>\n",
              "      <td>NaN</td>\n",
              "      <td>Southampton</td>\n",
              "      <td>no</td>\n",
              "      <td>False</td>\n",
              "    </tr>\n",
              "    <tr>\n",
              "      <th>1</th>\n",
              "      <td>1</td>\n",
              "      <td>1</td>\n",
              "      <td>female</td>\n",
              "      <td>38.0</td>\n",
              "      <td>1</td>\n",
              "      <td>0</td>\n",
              "      <td>71.2833</td>\n",
              "      <td>C</td>\n",
              "      <td>First</td>\n",
              "      <td>woman</td>\n",
              "      <td>False</td>\n",
              "      <td>C</td>\n",
              "      <td>Cherbourg</td>\n",
              "      <td>yes</td>\n",
              "      <td>False</td>\n",
              "    </tr>\n",
              "    <tr>\n",
              "      <th>2</th>\n",
              "      <td>1</td>\n",
              "      <td>3</td>\n",
              "      <td>female</td>\n",
              "      <td>26.0</td>\n",
              "      <td>0</td>\n",
              "      <td>0</td>\n",
              "      <td>7.9250</td>\n",
              "      <td>S</td>\n",
              "      <td>Third</td>\n",
              "      <td>woman</td>\n",
              "      <td>False</td>\n",
              "      <td>NaN</td>\n",
              "      <td>Southampton</td>\n",
              "      <td>yes</td>\n",
              "      <td>True</td>\n",
              "    </tr>\n",
              "    <tr>\n",
              "      <th>3</th>\n",
              "      <td>1</td>\n",
              "      <td>1</td>\n",
              "      <td>female</td>\n",
              "      <td>35.0</td>\n",
              "      <td>1</td>\n",
              "      <td>0</td>\n",
              "      <td>53.1000</td>\n",
              "      <td>S</td>\n",
              "      <td>First</td>\n",
              "      <td>woman</td>\n",
              "      <td>False</td>\n",
              "      <td>C</td>\n",
              "      <td>Southampton</td>\n",
              "      <td>yes</td>\n",
              "      <td>False</td>\n",
              "    </tr>\n",
              "    <tr>\n",
              "      <th>4</th>\n",
              "      <td>0</td>\n",
              "      <td>3</td>\n",
              "      <td>male</td>\n",
              "      <td>35.0</td>\n",
              "      <td>0</td>\n",
              "      <td>0</td>\n",
              "      <td>8.0500</td>\n",
              "      <td>S</td>\n",
              "      <td>Third</td>\n",
              "      <td>man</td>\n",
              "      <td>True</td>\n",
              "      <td>NaN</td>\n",
              "      <td>Southampton</td>\n",
              "      <td>no</td>\n",
              "      <td>True</td>\n",
              "    </tr>\n",
              "    <tr>\n",
              "      <th>...</th>\n",
              "      <td>...</td>\n",
              "      <td>...</td>\n",
              "      <td>...</td>\n",
              "      <td>...</td>\n",
              "      <td>...</td>\n",
              "      <td>...</td>\n",
              "      <td>...</td>\n",
              "      <td>...</td>\n",
              "      <td>...</td>\n",
              "      <td>...</td>\n",
              "      <td>...</td>\n",
              "      <td>...</td>\n",
              "      <td>...</td>\n",
              "      <td>...</td>\n",
              "      <td>...</td>\n",
              "    </tr>\n",
              "    <tr>\n",
              "      <th>886</th>\n",
              "      <td>0</td>\n",
              "      <td>2</td>\n",
              "      <td>male</td>\n",
              "      <td>27.0</td>\n",
              "      <td>0</td>\n",
              "      <td>0</td>\n",
              "      <td>13.0000</td>\n",
              "      <td>S</td>\n",
              "      <td>Second</td>\n",
              "      <td>man</td>\n",
              "      <td>True</td>\n",
              "      <td>NaN</td>\n",
              "      <td>Southampton</td>\n",
              "      <td>no</td>\n",
              "      <td>True</td>\n",
              "    </tr>\n",
              "    <tr>\n",
              "      <th>887</th>\n",
              "      <td>1</td>\n",
              "      <td>1</td>\n",
              "      <td>female</td>\n",
              "      <td>19.0</td>\n",
              "      <td>0</td>\n",
              "      <td>0</td>\n",
              "      <td>30.0000</td>\n",
              "      <td>S</td>\n",
              "      <td>First</td>\n",
              "      <td>woman</td>\n",
              "      <td>False</td>\n",
              "      <td>B</td>\n",
              "      <td>Southampton</td>\n",
              "      <td>yes</td>\n",
              "      <td>True</td>\n",
              "    </tr>\n",
              "    <tr>\n",
              "      <th>888</th>\n",
              "      <td>0</td>\n",
              "      <td>3</td>\n",
              "      <td>female</td>\n",
              "      <td>NaN</td>\n",
              "      <td>1</td>\n",
              "      <td>2</td>\n",
              "      <td>23.4500</td>\n",
              "      <td>S</td>\n",
              "      <td>Third</td>\n",
              "      <td>woman</td>\n",
              "      <td>False</td>\n",
              "      <td>NaN</td>\n",
              "      <td>Southampton</td>\n",
              "      <td>no</td>\n",
              "      <td>False</td>\n",
              "    </tr>\n",
              "    <tr>\n",
              "      <th>889</th>\n",
              "      <td>1</td>\n",
              "      <td>1</td>\n",
              "      <td>male</td>\n",
              "      <td>26.0</td>\n",
              "      <td>0</td>\n",
              "      <td>0</td>\n",
              "      <td>30.0000</td>\n",
              "      <td>C</td>\n",
              "      <td>First</td>\n",
              "      <td>man</td>\n",
              "      <td>True</td>\n",
              "      <td>C</td>\n",
              "      <td>Cherbourg</td>\n",
              "      <td>yes</td>\n",
              "      <td>True</td>\n",
              "    </tr>\n",
              "    <tr>\n",
              "      <th>890</th>\n",
              "      <td>0</td>\n",
              "      <td>3</td>\n",
              "      <td>male</td>\n",
              "      <td>32.0</td>\n",
              "      <td>0</td>\n",
              "      <td>0</td>\n",
              "      <td>7.7500</td>\n",
              "      <td>Q</td>\n",
              "      <td>Third</td>\n",
              "      <td>man</td>\n",
              "      <td>True</td>\n",
              "      <td>NaN</td>\n",
              "      <td>Queenstown</td>\n",
              "      <td>no</td>\n",
              "      <td>True</td>\n",
              "    </tr>\n",
              "  </tbody>\n",
              "</table>\n",
              "<p>891 rows × 15 columns</p>\n",
              "</div>"
            ],
            "text/plain": [
              "     survived  pclass     sex   age  ...  deck  embark_town  alive  alone\n",
              "0           0       3    male  22.0  ...   NaN  Southampton     no  False\n",
              "1           1       1  female  38.0  ...     C    Cherbourg    yes  False\n",
              "2           1       3  female  26.0  ...   NaN  Southampton    yes   True\n",
              "3           1       1  female  35.0  ...     C  Southampton    yes  False\n",
              "4           0       3    male  35.0  ...   NaN  Southampton     no   True\n",
              "..        ...     ...     ...   ...  ...   ...          ...    ...    ...\n",
              "886         0       2    male  27.0  ...   NaN  Southampton     no   True\n",
              "887         1       1  female  19.0  ...     B  Southampton    yes   True\n",
              "888         0       3  female   NaN  ...   NaN  Southampton     no  False\n",
              "889         1       1    male  26.0  ...     C    Cherbourg    yes   True\n",
              "890         0       3    male  32.0  ...   NaN   Queenstown     no   True\n",
              "\n",
              "[891 rows x 15 columns]"
            ]
          },
          "metadata": {},
          "execution_count": 3
        }
      ]
    },
    {
      "cell_type": "markdown",
      "metadata": {
        "id": "jRQnSAlpok3l"
      },
      "source": [
        "age 컬럼에 대한 histogram 그리기"
      ]
    },
    {
      "cell_type": "code",
      "metadata": {
        "colab": {
          "base_uri": "https://localhost:8080/",
          "height": 285
        },
        "id": "Yc7uMwmEkTjK",
        "outputId": "221744ba-cb4b-476a-c698-d63de6f007e7"
      },
      "source": [
        "sns.histplot(titanic.age, bins = 100)\n",
        "plt.savefig(\"plot1.jpg\")"
      ],
      "execution_count": 4,
      "outputs": [
        {
          "output_type": "display_data",
          "data": {
            "image/png": "[encoded data removed]",
            "text/plain": [
              "<Figure size 432x288 with 1 Axes>"
            ]
          },
          "metadata": {}
        }
      ]
    },
    {
      "cell_type": "markdown",
      "metadata": {
        "id": "_OjRs-2uo5gk"
      },
      "source": [
        "- age 컬럼에 대한 survivied를 histo gram으로 그리기. 하나의 나이에 대해 2개의 bar가 있도록"
      ]
    },
    {
      "cell_type": "code",
      "metadata": {
        "colab": {
          "base_uri": "https://localhost:8080/",
          "height": 285
        },
        "id": "r7gJxirmkTl9",
        "outputId": "f5c21691-87fd-4bcb-f103-9ebbe47e53c6"
      },
      "source": [
        "sns.histplot(data=titanic, x=\"age\", hue=\"survived\", multiple= \"dodge\", shrink=0.7)\n",
        "plt.savefig(\"plot2.jpg\")"
      ],
      "execution_count": 5,
      "outputs": [
        {
          "output_type": "display_data",
          "data": {
            "image/png": "[encoded data removed]",
            "text/plain": [
              "<Figure size 432x288 with 1 Axes>"
            ]
          },
          "metadata": {}
        }
      ]
    },
    {
      "cell_type": "markdown",
      "metadata": {
        "id": "xbCUIIMco7ay"
      },
      "source": [
        "- age 컬럼에 대한 생존율을 비교하도록 multiple 옵션을 fill로 해서 그리기"
      ]
    },
    {
      "cell_type": "code",
      "metadata": {
        "colab": {
          "base_uri": "https://localhost:8080/",
          "height": 289
        },
        "id": "7qACGwIvkToq",
        "outputId": "75240d78-316d-48f2-d520-4cc60e4edcd4"
      },
      "source": [
        "sns.histplot(data=titanic, x=\"age\", hue=\"survived\", multiple= \"fill\")\n",
        "plt.savefig(\"plot3.jpg\")"
      ],
      "execution_count": 6,
      "outputs": [
        {
          "output_type": "display_data",
          "data": {
            "image/png": "[encoded data removed]",
            "text/plain": [
              "<Figure size 432x288 with 1 Axes>"
            ]
          },
          "metadata": {}
        }
      ]
    },
    {
      "cell_type": "markdown",
      "metadata": {
        "id": "JlXzU8Llo9DZ"
      },
      "source": [
        "- age 컬럼을 x로 fare 컬럼을 y로 해서 scatter 그림 그리기"
      ]
    },
    {
      "cell_type": "code",
      "metadata": {
        "colab": {
          "base_uri": "https://localhost:8080/",
          "height": 268
        },
        "id": "dyCbVBdPkTrT",
        "outputId": "1bb2ac8e-0017-4b60-e4b0-aa8b8a9f2123"
      },
      "source": [
        "plt.scatter(data=titanic, x=\"age\", y=\"fare\")\n",
        "plt.savefig(\"plot4.jpg\")"
      ],
      "execution_count": 7,
      "outputs": [
        {
          "output_type": "display_data",
          "data": {
            "image/png": "[encoded data removed]",
            "text/plain": [
              "<Figure size 432x288 with 1 Axes>"
            ]
          },
          "metadata": {}
        }
      ]
    },
    {
      "cell_type": "markdown",
      "metadata": {
        "id": "ONOZsLB-pAAk"
      },
      "source": [
        "- 위의 4개의 그림을 각각 파일로 저장"
      ]
    },
    {
      "cell_type": "markdown",
      "metadata": {
        "id": "t2Lwdu4kpB6N"
      },
      "source": [
        "\n",
        "```\n",
        "- 파일로 저장한 4개의 그림을 읽어서 다음과 같이 배치하여 1장으로 보이기\n",
        "   1   2\n",
        "   3   4\n",
        "\n",
        "```"
      ]
    },
    {
      "cell_type": "code",
      "metadata": {
        "colab": {
          "base_uri": "https://localhost:8080/",
          "height": 272
        },
        "id": "i2PHEW6GkT32",
        "outputId": "6f20036f-fca5-45c7-d231-347f97b9d25c"
      },
      "source": [
        "fig = plt.figure()\n",
        "\n",
        "ax1 = fig.add_subplot(2, 2, 1)\n",
        "plot1 = cv2.imread(\"plot1.jpg\")\n",
        "ax1.imshow(plot1)\n",
        "\n",
        "ax2 = fig.add_subplot(2, 2, 2)\n",
        "plot2 = cv2.imread(\"plot2.jpg\")\n",
        "ax2.imshow(plot2)\n",
        "\n",
        "ax3 = fig.add_subplot(2, 2, 3)\n",
        "plot3 = cv2.imread(\"plot3.jpg\")\n",
        "ax3.imshow(plot3)\n",
        "\n",
        "ax4 = fig.add_subplot(2, 2, 4)\n",
        "plot4 = cv2.imread(\"plot4.jpg\")\n",
        "ax4.imshow(plot4)\n",
        "\n",
        "\n",
        "plt.show()"
      ],
      "execution_count": 8,
      "outputs": [
        {
          "output_type": "display_data",
          "data": {
            "image/png": "[encoded data removed]",
            "text/plain": [
              "<Figure size 432x288 with 4 Axes>"
            ]
          },
          "metadata": {}
        }
      ]
    },
    {
      "cell_type": "code",
      "metadata": {
        "id": "LTzdw_c9kT6l"
      },
      "source": [
        ""
      ],
      "execution_count": 8,
      "outputs": []
    },
    {
      "cell_type": "markdown",
      "metadata": {
        "id": "kDHAuKyA99NL"
      },
      "source": [
        "# 이상한 IRIS 데이터 전처리\n",
        "- 머신러닝을 위한 전처리"
      ]
    },
    {
      "cell_type": "markdown",
      "metadata": {
        "id": "gA4Fj5khZl4C"
      },
      "source": [
        "# 이상치와 결측치 처리\n",
        "- 이상치 : 삭제\n",
        "- 결측치 : class, color는 위값으로 채움, \n",
        "나머지는 평균으로 대치\n",
        "\n",
        "- 데이터를 최대한 삭제하지 않는 방법이 좋음"
      ]
    },
    {
      "cell_type": "code",
      "metadata": {
        "id": "sctHL_typHvO",
        "colab": {
          "base_uri": "https://localhost:8080/"
        },
        "outputId": "cdd49a15-7216-46e5-c16d-0ebbcbe9b751"
      },
      "source": [
        "!wget https://raw.githubusercontent.com/dhrim/MDC_2021/master/material/library/flawed_iris.csv"
      ],
      "execution_count": 9,
      "outputs": [
        {
          "output_type": "stream",
          "name": "stdout",
          "text": [
            "--2021-11-26 08:36:20--  https://raw.githubusercontent.com/dhrim/MDC_2021/master/material/library/flawed_iris.csv\n",
            "Resolving raw.githubusercontent.com (raw.githubusercontent.com)... 185.199.108.133, 185.199.109.133, 185.199.110.133, ...\n",
            "Connecting to raw.githubusercontent.com (raw.githubusercontent.com)|185.199.108.133|:443... connected.\n",
            "HTTP request sent, awaiting response... 200 OK\n",
            "Length: 2782 (2.7K) [text/plain]\n",
            "Saving to: ‘flawed_iris.csv.3’\n",
            "\n",
            "\rflawed_iris.csv.3     0%[                    ]       0  --.-KB/s               \rflawed_iris.csv.3   100%[===================>]   2.72K  --.-KB/s    in 0s      \n",
            "\n",
            "2021-11-26 08:36:21 (28.9 MB/s) - ‘flawed_iris.csv.3’ saved [2782/2782]\n",
            "\n"
          ]
        }
      ]
    },
    {
      "cell_type": "code",
      "metadata": {
        "id": "HK5sbbznkT89",
        "colab": {
          "base_uri": "https://localhost:8080/",
          "height": 424
        },
        "outputId": "50231aef-a6f2-4d4d-c2bb-79fa58695cb0"
      },
      "source": [
        "df = pd.read_csv(\"flawed_iris.csv\")\n",
        "df"
      ],
      "execution_count": 10,
      "outputs": [
        {
          "output_type": "execute_result",
          "data": {
            "text/html": [
              "<div>\n",
              "<style scoped>\n",
              "    .dataframe tbody tr th:only-of-type {\n",
              "        vertical-align: middle;\n",
              "    }\n",
              "\n",
              "    .dataframe tbody tr th {\n",
              "        vertical-align: top;\n",
              "    }\n",
              "\n",
              "    .dataframe thead th {\n",
              "        text-align: right;\n",
              "    }\n",
              "</style>\n",
              "<table border=\"1\" class=\"dataframe\">\n",
              "  <thead>\n",
              "    <tr style=\"text-align: right;\">\n",
              "      <th></th>\n",
              "      <th>septal_length</th>\n",
              "      <th>septal_width</th>\n",
              "      <th>petal_length</th>\n",
              "      <th>petal_width</th>\n",
              "      <th>color</th>\n",
              "      <th>class</th>\n",
              "    </tr>\n",
              "  </thead>\n",
              "  <tbody>\n",
              "    <tr>\n",
              "      <th>0</th>\n",
              "      <td>6.4</td>\n",
              "      <td>2.8</td>\n",
              "      <td>5.6</td>\n",
              "      <td>2.2</td>\n",
              "      <td>light</td>\n",
              "      <td>2.0</td>\n",
              "    </tr>\n",
              "    <tr>\n",
              "      <th>1</th>\n",
              "      <td>5.0</td>\n",
              "      <td>2.3</td>\n",
              "      <td>3.3</td>\n",
              "      <td>1.0</td>\n",
              "      <td>medium</td>\n",
              "      <td>1.0</td>\n",
              "    </tr>\n",
              "    <tr>\n",
              "      <th>2</th>\n",
              "      <td>4.9</td>\n",
              "      <td>2.5</td>\n",
              "      <td>4.5</td>\n",
              "      <td>1.7</td>\n",
              "      <td>medium</td>\n",
              "      <td>2.0</td>\n",
              "    </tr>\n",
              "    <tr>\n",
              "      <th>3</th>\n",
              "      <td>4.9</td>\n",
              "      <td>3.1</td>\n",
              "      <td>1.5</td>\n",
              "      <td>0.1</td>\n",
              "      <td>dark</td>\n",
              "      <td>0.0</td>\n",
              "    </tr>\n",
              "    <tr>\n",
              "      <th>4</th>\n",
              "      <td>5.7</td>\n",
              "      <td>3.8</td>\n",
              "      <td>1.7</td>\n",
              "      <td>0.3</td>\n",
              "      <td>dark</td>\n",
              "      <td>0.0</td>\n",
              "    </tr>\n",
              "    <tr>\n",
              "      <th>...</th>\n",
              "      <td>...</td>\n",
              "      <td>...</td>\n",
              "      <td>...</td>\n",
              "      <td>...</td>\n",
              "      <td>...</td>\n",
              "      <td>...</td>\n",
              "    </tr>\n",
              "    <tr>\n",
              "      <th>115</th>\n",
              "      <td>5.5</td>\n",
              "      <td>2.6</td>\n",
              "      <td>4.4</td>\n",
              "      <td>1.2</td>\n",
              "      <td>light</td>\n",
              "      <td>1.0</td>\n",
              "    </tr>\n",
              "    <tr>\n",
              "      <th>116</th>\n",
              "      <td>5.7</td>\n",
              "      <td>3</td>\n",
              "      <td>NaN</td>\n",
              "      <td>1.2</td>\n",
              "      <td>light</td>\n",
              "      <td>1.0</td>\n",
              "    </tr>\n",
              "    <tr>\n",
              "      <th>117</th>\n",
              "      <td>4.4</td>\n",
              "      <td>2.9</td>\n",
              "      <td>1.4</td>\n",
              "      <td>0.2</td>\n",
              "      <td>light</td>\n",
              "      <td>0.0</td>\n",
              "    </tr>\n",
              "    <tr>\n",
              "      <th>118</th>\n",
              "      <td>4.8</td>\n",
              "      <td>3</td>\n",
              "      <td>1.4</td>\n",
              "      <td>0.1</td>\n",
              "      <td>dark</td>\n",
              "      <td>0.0</td>\n",
              "    </tr>\n",
              "    <tr>\n",
              "      <th>119</th>\n",
              "      <td>5.5</td>\n",
              "      <td>2.4</td>\n",
              "      <td>3.7</td>\n",
              "      <td>-1.0</td>\n",
              "      <td>dark</td>\n",
              "      <td>1.0</td>\n",
              "    </tr>\n",
              "  </tbody>\n",
              "</table>\n",
              "<p>120 rows × 6 columns</p>\n",
              "</div>"
            ],
            "text/plain": [
              "     septal_length septal_width  petal_length  petal_width   color  class\n",
              "0              6.4          2.8           5.6          2.2   light    2.0\n",
              "1              5.0          2.3           3.3          1.0  medium    1.0\n",
              "2              4.9          2.5           4.5          1.7  medium    2.0\n",
              "3              4.9          3.1           1.5          0.1    dark    0.0\n",
              "4              5.7          3.8           1.7          0.3    dark    0.0\n",
              "..             ...          ...           ...          ...     ...    ...\n",
              "115            5.5          2.6           4.4          1.2   light    1.0\n",
              "116            5.7            3           NaN          1.2   light    1.0\n",
              "117            4.4          2.9           1.4          0.2   light    0.0\n",
              "118            4.8            3           1.4          0.1    dark    0.0\n",
              "119            5.5          2.4           3.7         -1.0    dark    1.0\n",
              "\n",
              "[120 rows x 6 columns]"
            ]
          },
          "metadata": {},
          "execution_count": 10
        }
      ]
    },
    {
      "cell_type": "code",
      "metadata": {
        "colab": {
          "base_uri": "https://localhost:8080/",
          "height": 1000
        },
        "id": "a8yJUHkl-FzQ",
        "outputId": "06b71d7b-806e-42ec-8370-d729566c51c4"
      },
      "source": [
        "sns.histplot(df.septal_length)\n",
        "plt.show()\n",
        "sns.histplot(df.petal_length)\n",
        "plt.show()\n",
        "sns.histplot(df.petal_width)\n",
        "plt.show()\n",
        "sns.histplot(df[\"class\"])\n",
        "plt.show()"
      ],
      "execution_count": 11,
      "outputs": [
        {
          "output_type": "display_data",
          "data": {
            "image/png": "[encoded data removed]",
            "text/plain": [
              "<Figure size 432x288 with 1 Axes>"
            ]
          },
          "metadata": {}
        },
        {
          "output_type": "display_data",
          "data": {
            "image/png": "[encoded data removed]",
            "text/plain": [
              "<Figure size 432x288 with 1 Axes>"
            ]
          },
          "metadata": {}
        },
        {
          "output_type": "display_data",
          "data": {
            "image/png": "[encoded data removed]",
            "text/plain": [
              "<Figure size 432x288 with 1 Axes>"
            ]
          },
          "metadata": {}
        },
        {
          "output_type": "display_data",
          "data": {
            "image/png": "[encoded data removed]",
            "text/plain": [
              "<Figure size 432x288 with 1 Axes>"
            ]
          },
          "metadata": {}
        }
      ]
    },
    {
      "cell_type": "markdown",
      "metadata": {
        "id": "yvzi4bt6G-Zu"
      },
      "source": [
        "이상치 처리 ver.1"
      ]
    },
    {
      "cell_type": "code",
      "metadata": {
        "id": "mrQ63Y8j-F1j"
      },
      "source": [
        "df[\"sep_len\"] = df.loc[ ((df[\"septal_length\"] >= 0 ) & (df[\"septal_length\"] <= 12.5)), \"septal_length\"]\n",
        "df[\"pe_len\"] = df.loc[ (df[\"petal_length\"] >= -2 ), \"petal_length\"]\n",
        "df[\"pe_wid\"] = df.loc[ (df[\"petal_width\"] <= 5 ), \"petal_width\"]"
      ],
      "execution_count": 12,
      "outputs": []
    },
    {
      "cell_type": "code",
      "metadata": {
        "colab": {
          "base_uri": "https://localhost:8080/",
          "height": 424
        },
        "id": "L8VgAGiq-F9x",
        "outputId": "0f432695-0a77-482f-e3b4-d05e63da2ac2"
      },
      "source": [
        "df"
      ],
      "execution_count": 13,
      "outputs": [
        {
          "output_type": "execute_result",
          "data": {
            "text/html": [
              "<div>\n",
              "<style scoped>\n",
              "    .dataframe tbody tr th:only-of-type {\n",
              "        vertical-align: middle;\n",
              "    }\n",
              "\n",
              "    .dataframe tbody tr th {\n",
              "        vertical-align: top;\n",
              "    }\n",
              "\n",
              "    .dataframe thead th {\n",
              "        text-align: right;\n",
              "    }\n",
              "</style>\n",
              "<table border=\"1\" class=\"dataframe\">\n",
              "  <thead>\n",
              "    <tr style=\"text-align: right;\">\n",
              "      <th></th>\n",
              "      <th>septal_length</th>\n",
              "      <th>septal_width</th>\n",
              "      <th>petal_length</th>\n",
              "      <th>petal_width</th>\n",
              "      <th>color</th>\n",
              "      <th>class</th>\n",
              "      <th>sep_len</th>\n",
              "      <th>pe_len</th>\n",
              "      <th>pe_wid</th>\n",
              "    </tr>\n",
              "  </thead>\n",
              "  <tbody>\n",
              "    <tr>\n",
              "      <th>0</th>\n",
              "      <td>6.4</td>\n",
              "      <td>2.8</td>\n",
              "      <td>5.6</td>\n",
              "      <td>2.2</td>\n",
              "      <td>light</td>\n",
              "      <td>2.0</td>\n",
              "      <td>6.4</td>\n",
              "      <td>5.6</td>\n",
              "      <td>2.2</td>\n",
              "    </tr>\n",
              "    <tr>\n",
              "      <th>1</th>\n",
              "      <td>5.0</td>\n",
              "      <td>2.3</td>\n",
              "      <td>3.3</td>\n",
              "      <td>1.0</td>\n",
              "      <td>medium</td>\n",
              "      <td>1.0</td>\n",
              "      <td>5.0</td>\n",
              "      <td>3.3</td>\n",
              "      <td>1.0</td>\n",
              "    </tr>\n",
              "    <tr>\n",
              "      <th>2</th>\n",
              "      <td>4.9</td>\n",
              "      <td>2.5</td>\n",
              "      <td>4.5</td>\n",
              "      <td>1.7</td>\n",
              "      <td>medium</td>\n",
              "      <td>2.0</td>\n",
              "      <td>4.9</td>\n",
              "      <td>4.5</td>\n",
              "      <td>1.7</td>\n",
              "    </tr>\n",
              "    <tr>\n",
              "      <th>3</th>\n",
              "      <td>4.9</td>\n",
              "      <td>3.1</td>\n",
              "      <td>1.5</td>\n",
              "      <td>0.1</td>\n",
              "      <td>dark</td>\n",
              "      <td>0.0</td>\n",
              "      <td>4.9</td>\n",
              "      <td>1.5</td>\n",
              "      <td>0.1</td>\n",
              "    </tr>\n",
              "    <tr>\n",
              "      <th>4</th>\n",
              "      <td>5.7</td>\n",
              "      <td>3.8</td>\n",
              "      <td>1.7</td>\n",
              "      <td>0.3</td>\n",
              "      <td>dark</td>\n",
              "      <td>0.0</td>\n",
              "      <td>5.7</td>\n",
              "      <td>1.7</td>\n",
              "      <td>0.3</td>\n",
              "    </tr>\n",
              "    <tr>\n",
              "      <th>...</th>\n",
              "      <td>...</td>\n",
              "      <td>...</td>\n",
              "      <td>...</td>\n",
              "      <td>...</td>\n",
              "      <td>...</td>\n",
              "      <td>...</td>\n",
              "      <td>...</td>\n",
              "      <td>...</td>\n",
              "      <td>...</td>\n",
              "    </tr>\n",
              "    <tr>\n",
              "      <th>115</th>\n",
              "      <td>5.5</td>\n",
              "      <td>2.6</td>\n",
              "      <td>4.4</td>\n",
              "      <td>1.2</td>\n",
              "      <td>light</td>\n",
              "      <td>1.0</td>\n",
              "      <td>5.5</td>\n",
              "      <td>4.4</td>\n",
              "      <td>1.2</td>\n",
              "    </tr>\n",
              "    <tr>\n",
              "      <th>116</th>\n",
              "      <td>5.7</td>\n",
              "      <td>3</td>\n",
              "      <td>NaN</td>\n",
              "      <td>1.2</td>\n",
              "      <td>light</td>\n",
              "      <td>1.0</td>\n",
              "      <td>5.7</td>\n",
              "      <td>NaN</td>\n",
              "      <td>1.2</td>\n",
              "    </tr>\n",
              "    <tr>\n",
              "      <th>117</th>\n",
              "      <td>4.4</td>\n",
              "      <td>2.9</td>\n",
              "      <td>1.4</td>\n",
              "      <td>0.2</td>\n",
              "      <td>light</td>\n",
              "      <td>0.0</td>\n",
              "      <td>4.4</td>\n",
              "      <td>1.4</td>\n",
              "      <td>0.2</td>\n",
              "    </tr>\n",
              "    <tr>\n",
              "      <th>118</th>\n",
              "      <td>4.8</td>\n",
              "      <td>3</td>\n",
              "      <td>1.4</td>\n",
              "      <td>0.1</td>\n",
              "      <td>dark</td>\n",
              "      <td>0.0</td>\n",
              "      <td>4.8</td>\n",
              "      <td>1.4</td>\n",
              "      <td>0.1</td>\n",
              "    </tr>\n",
              "    <tr>\n",
              "      <th>119</th>\n",
              "      <td>5.5</td>\n",
              "      <td>2.4</td>\n",
              "      <td>3.7</td>\n",
              "      <td>-1.0</td>\n",
              "      <td>dark</td>\n",
              "      <td>1.0</td>\n",
              "      <td>5.5</td>\n",
              "      <td>3.7</td>\n",
              "      <td>-1.0</td>\n",
              "    </tr>\n",
              "  </tbody>\n",
              "</table>\n",
              "<p>120 rows × 9 columns</p>\n",
              "</div>"
            ],
            "text/plain": [
              "     septal_length septal_width  petal_length  ...  sep_len pe_len  pe_wid\n",
              "0              6.4          2.8           5.6  ...      6.4    5.6     2.2\n",
              "1              5.0          2.3           3.3  ...      5.0    3.3     1.0\n",
              "2              4.9          2.5           4.5  ...      4.9    4.5     1.7\n",
              "3              4.9          3.1           1.5  ...      4.9    1.5     0.1\n",
              "4              5.7          3.8           1.7  ...      5.7    1.7     0.3\n",
              "..             ...          ...           ...  ...      ...    ...     ...\n",
              "115            5.5          2.6           4.4  ...      5.5    4.4     1.2\n",
              "116            5.7            3           NaN  ...      5.7    NaN     1.2\n",
              "117            4.4          2.9           1.4  ...      4.4    1.4     0.2\n",
              "118            4.8            3           1.4  ...      4.8    1.4     0.1\n",
              "119            5.5          2.4           3.7  ...      5.5    3.7    -1.0\n",
              "\n",
              "[120 rows x 9 columns]"
            ]
          },
          "metadata": {},
          "execution_count": 13
        }
      ]
    },
    {
      "cell_type": "code",
      "metadata": {
        "colab": {
          "base_uri": "https://localhost:8080/",
          "height": 424
        },
        "id": "WaFYt7ZT-GAi",
        "outputId": "2c0581f3-b27b-453c-ec79-a2d8618a5cba"
      },
      "source": [
        "df = df.iloc[:,4:]\n",
        "df"
      ],
      "execution_count": 14,
      "outputs": [
        {
          "output_type": "execute_result",
          "data": {
            "text/html": [
              "<div>\n",
              "<style scoped>\n",
              "    .dataframe tbody tr th:only-of-type {\n",
              "        vertical-align: middle;\n",
              "    }\n",
              "\n",
              "    .dataframe tbody tr th {\n",
              "        vertical-align: top;\n",
              "    }\n",
              "\n",
              "    .dataframe thead th {\n",
              "        text-align: right;\n",
              "    }\n",
              "</style>\n",
              "<table border=\"1\" class=\"dataframe\">\n",
              "  <thead>\n",
              "    <tr style=\"text-align: right;\">\n",
              "      <th></th>\n",
              "      <th>color</th>\n",
              "      <th>class</th>\n",
              "      <th>sep_len</th>\n",
              "      <th>pe_len</th>\n",
              "      <th>pe_wid</th>\n",
              "    </tr>\n",
              "  </thead>\n",
              "  <tbody>\n",
              "    <tr>\n",
              "      <th>0</th>\n",
              "      <td>light</td>\n",
              "      <td>2.0</td>\n",
              "      <td>6.4</td>\n",
              "      <td>5.6</td>\n",
              "      <td>2.2</td>\n",
              "    </tr>\n",
              "    <tr>\n",
              "      <th>1</th>\n",
              "      <td>medium</td>\n",
              "      <td>1.0</td>\n",
              "      <td>5.0</td>\n",
              "      <td>3.3</td>\n",
              "      <td>1.0</td>\n",
              "    </tr>\n",
              "    <tr>\n",
              "      <th>2</th>\n",
              "      <td>medium</td>\n",
              "      <td>2.0</td>\n",
              "      <td>4.9</td>\n",
              "      <td>4.5</td>\n",
              "      <td>1.7</td>\n",
              "    </tr>\n",
              "    <tr>\n",
              "      <th>3</th>\n",
              "      <td>dark</td>\n",
              "      <td>0.0</td>\n",
              "      <td>4.9</td>\n",
              "      <td>1.5</td>\n",
              "      <td>0.1</td>\n",
              "    </tr>\n",
              "    <tr>\n",
              "      <th>4</th>\n",
              "      <td>dark</td>\n",
              "      <td>0.0</td>\n",
              "      <td>5.7</td>\n",
              "      <td>1.7</td>\n",
              "      <td>0.3</td>\n",
              "    </tr>\n",
              "    <tr>\n",
              "      <th>...</th>\n",
              "      <td>...</td>\n",
              "      <td>...</td>\n",
              "      <td>...</td>\n",
              "      <td>...</td>\n",
              "      <td>...</td>\n",
              "    </tr>\n",
              "    <tr>\n",
              "      <th>115</th>\n",
              "      <td>light</td>\n",
              "      <td>1.0</td>\n",
              "      <td>5.5</td>\n",
              "      <td>4.4</td>\n",
              "      <td>1.2</td>\n",
              "    </tr>\n",
              "    <tr>\n",
              "      <th>116</th>\n",
              "      <td>light</td>\n",
              "      <td>1.0</td>\n",
              "      <td>5.7</td>\n",
              "      <td>NaN</td>\n",
              "      <td>1.2</td>\n",
              "    </tr>\n",
              "    <tr>\n",
              "      <th>117</th>\n",
              "      <td>light</td>\n",
              "      <td>0.0</td>\n",
              "      <td>4.4</td>\n",
              "      <td>1.4</td>\n",
              "      <td>0.2</td>\n",
              "    </tr>\n",
              "    <tr>\n",
              "      <th>118</th>\n",
              "      <td>dark</td>\n",
              "      <td>0.0</td>\n",
              "      <td>4.8</td>\n",
              "      <td>1.4</td>\n",
              "      <td>0.1</td>\n",
              "    </tr>\n",
              "    <tr>\n",
              "      <th>119</th>\n",
              "      <td>dark</td>\n",
              "      <td>1.0</td>\n",
              "      <td>5.5</td>\n",
              "      <td>3.7</td>\n",
              "      <td>-1.0</td>\n",
              "    </tr>\n",
              "  </tbody>\n",
              "</table>\n",
              "<p>120 rows × 5 columns</p>\n",
              "</div>"
            ],
            "text/plain": [
              "      color  class  sep_len  pe_len  pe_wid\n",
              "0     light    2.0      6.4     5.6     2.2\n",
              "1    medium    1.0      5.0     3.3     1.0\n",
              "2    medium    2.0      4.9     4.5     1.7\n",
              "3      dark    0.0      4.9     1.5     0.1\n",
              "4      dark    0.0      5.7     1.7     0.3\n",
              "..      ...    ...      ...     ...     ...\n",
              "115   light    1.0      5.5     4.4     1.2\n",
              "116   light    1.0      5.7     NaN     1.2\n",
              "117   light    0.0      4.4     1.4     0.2\n",
              "118    dark    0.0      4.8     1.4     0.1\n",
              "119    dark    1.0      5.5     3.7    -1.0\n",
              "\n",
              "[120 rows x 5 columns]"
            ]
          },
          "metadata": {},
          "execution_count": 14
        }
      ]
    },
    {
      "cell_type": "markdown",
      "metadata": {
        "id": "aOhaQPiYF9MT"
      },
      "source": [
        "결측치 처리 ver.1"
      ]
    },
    {
      "cell_type": "code",
      "metadata": {
        "colab": {
          "base_uri": "https://localhost:8080/"
        },
        "id": "aY6bg22H-GDC",
        "outputId": "9f04c699-2c33-4403-bfb7-222f477e5955"
      },
      "source": [
        "# 결측치 확인\n",
        "df.isnull().sum()"
      ],
      "execution_count": 15,
      "outputs": [
        {
          "output_type": "execute_result",
          "data": {
            "text/plain": [
              "color      3\n",
              "class      1\n",
              "sep_len    5\n",
              "pe_len     4\n",
              "pe_wid     5\n",
              "dtype: int64"
            ]
          },
          "metadata": {},
          "execution_count": 15
        }
      ]
    },
    {
      "cell_type": "code",
      "metadata": {
        "colab": {
          "base_uri": "https://localhost:8080/"
        },
        "id": "pABdLePWBQgo",
        "outputId": "5573e1e3-e8d7-487e-bd96-d6a0f8b6f1ba"
      },
      "source": [
        "# class와 color의 결측치 제거, 나머지 평균값으로 대치\n",
        "df.drop(df.loc[df[\"class\"].isnull()].index, inplace=True)\n",
        "df.isnull().sum()"
      ],
      "execution_count": 16,
      "outputs": [
        {
          "output_type": "execute_result",
          "data": {
            "text/plain": [
              "color      2\n",
              "class      0\n",
              "sep_len    5\n",
              "pe_len     4\n",
              "pe_wid     5\n",
              "dtype: int64"
            ]
          },
          "metadata": {},
          "execution_count": 16
        }
      ]
    },
    {
      "cell_type": "code",
      "metadata": {
        "colab": {
          "base_uri": "https://localhost:8080/"
        },
        "id": "yME4jsgrNWZO",
        "outputId": "864c7ada-cae6-427e-db15-a258b7cc22ff"
      },
      "source": [
        "df.drop(df.loc[df[\"color\"].isnull()].index, inplace=True)\n",
        "df.isnull().sum()"
      ],
      "execution_count": 17,
      "outputs": [
        {
          "output_type": "execute_result",
          "data": {
            "text/plain": [
              "color      0\n",
              "class      0\n",
              "sep_len    5\n",
              "pe_len     4\n",
              "pe_wid     5\n",
              "dtype: int64"
            ]
          },
          "metadata": {},
          "execution_count": 17
        }
      ]
    },
    {
      "cell_type": "code",
      "metadata": {
        "colab": {
          "base_uri": "https://localhost:8080/"
        },
        "id": "n4_lbDQKB1pB",
        "outputId": "f6483ed7-3a87-45d2-b5da-fb8f8216e292"
      },
      "source": [
        "df.loc[df[\"sep_len\"].isnull(), \"sep_len\"] = df.sep_len.mean()\n",
        "df.isnull().sum()"
      ],
      "execution_count": 18,
      "outputs": [
        {
          "output_type": "execute_result",
          "data": {
            "text/plain": [
              "color      0\n",
              "class      0\n",
              "sep_len    0\n",
              "pe_len     4\n",
              "pe_wid     5\n",
              "dtype: int64"
            ]
          },
          "metadata": {},
          "execution_count": 18
        }
      ]
    },
    {
      "cell_type": "code",
      "metadata": {
        "colab": {
          "base_uri": "https://localhost:8080/"
        },
        "id": "n2LzXgevFgkF",
        "outputId": "ef9a09af-c329-46f2-e106-7f4765ec7496"
      },
      "source": [
        "df.loc[df[\"pe_len\"].isnull(), \"pe_len\"] = df.pe_len.mean()\n",
        "df.isnull().sum()"
      ],
      "execution_count": 19,
      "outputs": [
        {
          "output_type": "execute_result",
          "data": {
            "text/plain": [
              "color      0\n",
              "class      0\n",
              "sep_len    0\n",
              "pe_len     0\n",
              "pe_wid     5\n",
              "dtype: int64"
            ]
          },
          "metadata": {},
          "execution_count": 19
        }
      ]
    },
    {
      "cell_type": "code",
      "metadata": {
        "colab": {
          "base_uri": "https://localhost:8080/"
        },
        "id": "rrXuSZxCFt25",
        "outputId": "2a1c8e4f-7b93-4055-aa52-c580efdce8f3"
      },
      "source": [
        "df.loc[df[\"pe_wid\"].isnull(), \"pe_wid\"] = df.pe_wid.mean()\n",
        "df.isnull().sum()"
      ],
      "execution_count": 20,
      "outputs": [
        {
          "output_type": "execute_result",
          "data": {
            "text/plain": [
              "color      0\n",
              "class      0\n",
              "sep_len    0\n",
              "pe_len     0\n",
              "pe_wid     0\n",
              "dtype: int64"
            ]
          },
          "metadata": {},
          "execution_count": 20
        }
      ]
    },
    {
      "cell_type": "code",
      "metadata": {
        "colab": {
          "base_uri": "https://localhost:8080/",
          "height": 424
        },
        "id": "z3AC5RlUF4AR",
        "outputId": "210686d2-c98a-4993-a113-61a4285c534c"
      },
      "source": [
        "df"
      ],
      "execution_count": 21,
      "outputs": [
        {
          "output_type": "execute_result",
          "data": {
            "text/html": [
              "<div>\n",
              "<style scoped>\n",
              "    .dataframe tbody tr th:only-of-type {\n",
              "        vertical-align: middle;\n",
              "    }\n",
              "\n",
              "    .dataframe tbody tr th {\n",
              "        vertical-align: top;\n",
              "    }\n",
              "\n",
              "    .dataframe thead th {\n",
              "        text-align: right;\n",
              "    }\n",
              "</style>\n",
              "<table border=\"1\" class=\"dataframe\">\n",
              "  <thead>\n",
              "    <tr style=\"text-align: right;\">\n",
              "      <th></th>\n",
              "      <th>color</th>\n",
              "      <th>class</th>\n",
              "      <th>sep_len</th>\n",
              "      <th>pe_len</th>\n",
              "      <th>pe_wid</th>\n",
              "    </tr>\n",
              "  </thead>\n",
              "  <tbody>\n",
              "    <tr>\n",
              "      <th>0</th>\n",
              "      <td>light</td>\n",
              "      <td>2.0</td>\n",
              "      <td>6.4</td>\n",
              "      <td>5.600000</td>\n",
              "      <td>2.2</td>\n",
              "    </tr>\n",
              "    <tr>\n",
              "      <th>1</th>\n",
              "      <td>medium</td>\n",
              "      <td>1.0</td>\n",
              "      <td>5.0</td>\n",
              "      <td>3.300000</td>\n",
              "      <td>1.0</td>\n",
              "    </tr>\n",
              "    <tr>\n",
              "      <th>2</th>\n",
              "      <td>medium</td>\n",
              "      <td>2.0</td>\n",
              "      <td>4.9</td>\n",
              "      <td>4.500000</td>\n",
              "      <td>1.7</td>\n",
              "    </tr>\n",
              "    <tr>\n",
              "      <th>3</th>\n",
              "      <td>dark</td>\n",
              "      <td>0.0</td>\n",
              "      <td>4.9</td>\n",
              "      <td>1.500000</td>\n",
              "      <td>0.1</td>\n",
              "    </tr>\n",
              "    <tr>\n",
              "      <th>4</th>\n",
              "      <td>dark</td>\n",
              "      <td>0.0</td>\n",
              "      <td>5.7</td>\n",
              "      <td>1.700000</td>\n",
              "      <td>0.3</td>\n",
              "    </tr>\n",
              "    <tr>\n",
              "      <th>...</th>\n",
              "      <td>...</td>\n",
              "      <td>...</td>\n",
              "      <td>...</td>\n",
              "      <td>...</td>\n",
              "      <td>...</td>\n",
              "    </tr>\n",
              "    <tr>\n",
              "      <th>115</th>\n",
              "      <td>light</td>\n",
              "      <td>1.0</td>\n",
              "      <td>5.5</td>\n",
              "      <td>4.400000</td>\n",
              "      <td>1.2</td>\n",
              "    </tr>\n",
              "    <tr>\n",
              "      <th>116</th>\n",
              "      <td>light</td>\n",
              "      <td>1.0</td>\n",
              "      <td>5.7</td>\n",
              "      <td>3.637168</td>\n",
              "      <td>1.2</td>\n",
              "    </tr>\n",
              "    <tr>\n",
              "      <th>117</th>\n",
              "      <td>light</td>\n",
              "      <td>0.0</td>\n",
              "      <td>4.4</td>\n",
              "      <td>1.400000</td>\n",
              "      <td>0.2</td>\n",
              "    </tr>\n",
              "    <tr>\n",
              "      <th>118</th>\n",
              "      <td>dark</td>\n",
              "      <td>0.0</td>\n",
              "      <td>4.8</td>\n",
              "      <td>1.400000</td>\n",
              "      <td>0.1</td>\n",
              "    </tr>\n",
              "    <tr>\n",
              "      <th>119</th>\n",
              "      <td>dark</td>\n",
              "      <td>1.0</td>\n",
              "      <td>5.5</td>\n",
              "      <td>3.700000</td>\n",
              "      <td>-1.0</td>\n",
              "    </tr>\n",
              "  </tbody>\n",
              "</table>\n",
              "<p>117 rows × 5 columns</p>\n",
              "</div>"
            ],
            "text/plain": [
              "      color  class  sep_len    pe_len  pe_wid\n",
              "0     light    2.0      6.4  5.600000     2.2\n",
              "1    medium    1.0      5.0  3.300000     1.0\n",
              "2    medium    2.0      4.9  4.500000     1.7\n",
              "3      dark    0.0      4.9  1.500000     0.1\n",
              "4      dark    0.0      5.7  1.700000     0.3\n",
              "..      ...    ...      ...       ...     ...\n",
              "115   light    1.0      5.5  4.400000     1.2\n",
              "116   light    1.0      5.7  3.637168     1.2\n",
              "117   light    0.0      4.4  1.400000     0.2\n",
              "118    dark    0.0      4.8  1.400000     0.1\n",
              "119    dark    1.0      5.5  3.700000    -1.0\n",
              "\n",
              "[117 rows x 5 columns]"
            ]
          },
          "metadata": {},
          "execution_count": 21
        }
      ]
    },
    {
      "cell_type": "markdown",
      "metadata": {
        "id": "JeQBmkwuZFhT"
      },
      "source": [
        "# 이상치와 결측치 처리 ver.2\n",
        "- 이상치 : 가장 가까운 값으로 대치\n",
        "- 결측치 : class, color는 위값으로 채움, \n",
        "나머지는 평균으로 대치\n",
        "- 잘못 입력한 데이터 처리"
      ]
    },
    {
      "cell_type": "code",
      "metadata": {
        "colab": {
          "base_uri": "https://localhost:8080/",
          "height": 424
        },
        "id": "88dh7EDqGN-m",
        "outputId": "ed761b08-a9c7-4abf-bfc7-e6f62d0b897e"
      },
      "source": [
        "data = pd.read_csv(\"flawed_iris.csv\")\n",
        "data"
      ],
      "execution_count": 22,
      "outputs": [
        {
          "output_type": "execute_result",
          "data": {
            "text/html": [
              "<div>\n",
              "<style scoped>\n",
              "    .dataframe tbody tr th:only-of-type {\n",
              "        vertical-align: middle;\n",
              "    }\n",
              "\n",
              "    .dataframe tbody tr th {\n",
              "        vertical-align: top;\n",
              "    }\n",
              "\n",
              "    .dataframe thead th {\n",
              "        text-align: right;\n",
              "    }\n",
              "</style>\n",
              "<table border=\"1\" class=\"dataframe\">\n",
              "  <thead>\n",
              "    <tr style=\"text-align: right;\">\n",
              "      <th></th>\n",
              "      <th>septal_length</th>\n",
              "      <th>septal_width</th>\n",
              "      <th>petal_length</th>\n",
              "      <th>petal_width</th>\n",
              "      <th>color</th>\n",
              "      <th>class</th>\n",
              "    </tr>\n",
              "  </thead>\n",
              "  <tbody>\n",
              "    <tr>\n",
              "      <th>0</th>\n",
              "      <td>6.4</td>\n",
              "      <td>2.8</td>\n",
              "      <td>5.6</td>\n",
              "      <td>2.2</td>\n",
              "      <td>light</td>\n",
              "      <td>2.0</td>\n",
              "    </tr>\n",
              "    <tr>\n",
              "      <th>1</th>\n",
              "      <td>5.0</td>\n",
              "      <td>2.3</td>\n",
              "      <td>3.3</td>\n",
              "      <td>1.0</td>\n",
              "      <td>medium</td>\n",
              "      <td>1.0</td>\n",
              "    </tr>\n",
              "    <tr>\n",
              "      <th>2</th>\n",
              "      <td>4.9</td>\n",
              "      <td>2.5</td>\n",
              "      <td>4.5</td>\n",
              "      <td>1.7</td>\n",
              "      <td>medium</td>\n",
              "      <td>2.0</td>\n",
              "    </tr>\n",
              "    <tr>\n",
              "      <th>3</th>\n",
              "      <td>4.9</td>\n",
              "      <td>3.1</td>\n",
              "      <td>1.5</td>\n",
              "      <td>0.1</td>\n",
              "      <td>dark</td>\n",
              "      <td>0.0</td>\n",
              "    </tr>\n",
              "    <tr>\n",
              "      <th>4</th>\n",
              "      <td>5.7</td>\n",
              "      <td>3.8</td>\n",
              "      <td>1.7</td>\n",
              "      <td>0.3</td>\n",
              "      <td>dark</td>\n",
              "      <td>0.0</td>\n",
              "    </tr>\n",
              "    <tr>\n",
              "      <th>...</th>\n",
              "      <td>...</td>\n",
              "      <td>...</td>\n",
              "      <td>...</td>\n",
              "      <td>...</td>\n",
              "      <td>...</td>\n",
              "      <td>...</td>\n",
              "    </tr>\n",
              "    <tr>\n",
              "      <th>115</th>\n",
              "      <td>5.5</td>\n",
              "      <td>2.6</td>\n",
              "      <td>4.4</td>\n",
              "      <td>1.2</td>\n",
              "      <td>light</td>\n",
              "      <td>1.0</td>\n",
              "    </tr>\n",
              "    <tr>\n",
              "      <th>116</th>\n",
              "      <td>5.7</td>\n",
              "      <td>3</td>\n",
              "      <td>NaN</td>\n",
              "      <td>1.2</td>\n",
              "      <td>light</td>\n",
              "      <td>1.0</td>\n",
              "    </tr>\n",
              "    <tr>\n",
              "      <th>117</th>\n",
              "      <td>4.4</td>\n",
              "      <td>2.9</td>\n",
              "      <td>1.4</td>\n",
              "      <td>0.2</td>\n",
              "      <td>light</td>\n",
              "      <td>0.0</td>\n",
              "    </tr>\n",
              "    <tr>\n",
              "      <th>118</th>\n",
              "      <td>4.8</td>\n",
              "      <td>3</td>\n",
              "      <td>1.4</td>\n",
              "      <td>0.1</td>\n",
              "      <td>dark</td>\n",
              "      <td>0.0</td>\n",
              "    </tr>\n",
              "    <tr>\n",
              "      <th>119</th>\n",
              "      <td>5.5</td>\n",
              "      <td>2.4</td>\n",
              "      <td>3.7</td>\n",
              "      <td>-1.0</td>\n",
              "      <td>dark</td>\n",
              "      <td>1.0</td>\n",
              "    </tr>\n",
              "  </tbody>\n",
              "</table>\n",
              "<p>120 rows × 6 columns</p>\n",
              "</div>"
            ],
            "text/plain": [
              "     septal_length septal_width  petal_length  petal_width   color  class\n",
              "0              6.4          2.8           5.6          2.2   light    2.0\n",
              "1              5.0          2.3           3.3          1.0  medium    1.0\n",
              "2              4.9          2.5           4.5          1.7  medium    2.0\n",
              "3              4.9          3.1           1.5          0.1    dark    0.0\n",
              "4              5.7          3.8           1.7          0.3    dark    0.0\n",
              "..             ...          ...           ...          ...     ...    ...\n",
              "115            5.5          2.6           4.4          1.2   light    1.0\n",
              "116            5.7            3           NaN          1.2   light    1.0\n",
              "117            4.4          2.9           1.4          0.2   light    0.0\n",
              "118            4.8            3           1.4          0.1    dark    0.0\n",
              "119            5.5          2.4           3.7         -1.0    dark    1.0\n",
              "\n",
              "[120 rows x 6 columns]"
            ]
          },
          "metadata": {},
          "execution_count": 22
        }
      ]
    },
    {
      "cell_type": "markdown",
      "metadata": {
        "id": "rbMQKvOOLY19"
      },
      "source": [
        "이상치 처리 ver.2"
      ]
    },
    {
      "cell_type": "code",
      "metadata": {
        "id": "m5VXPjdQGOFm"
      },
      "source": [
        "data[\"sep_len\"] = data.loc[ ((data[\"septal_length\"] >= 0 ) & (data[\"septal_length\"] <= 12.5)), \"septal_length\"]"
      ],
      "execution_count": 23,
      "outputs": []
    },
    {
      "cell_type": "code",
      "metadata": {
        "id": "_tw-JCS8H-oy"
      },
      "source": [
        "data.loc[data.septal_length <= 0, \"septal_length\"] = data.sep_len.min()\n",
        "data.loc[data.septal_length >= 12.5, \"septal_length\"] = data.sep_len.max()"
      ],
      "execution_count": 24,
      "outputs": []
    },
    {
      "cell_type": "code",
      "metadata": {
        "id": "EljSt3bxGOIJ"
      },
      "source": [
        "data[\"pe_len\"] = data.loc[ (data[\"petal_length\"] >= -2 ), \"petal_length\"]"
      ],
      "execution_count": 25,
      "outputs": []
    },
    {
      "cell_type": "code",
      "metadata": {
        "id": "XfNQH5DkGOKv"
      },
      "source": [
        "data.loc[data.petal_length < -2, \"petal_length\"] = data.pe_len.min()"
      ],
      "execution_count": 26,
      "outputs": []
    },
    {
      "cell_type": "code",
      "metadata": {
        "colab": {
          "base_uri": "https://localhost:8080/"
        },
        "id": "08JCgx3MGOMR",
        "outputId": "49495bbe-420c-4801-e111-403987e2bbb8"
      },
      "source": [
        "data[\"pe_wid\"] = data.loc[ (data[\"petal_width\"] <= 5 ), \"petal_width\"]\n",
        "data.loc[(data.petal_width > 5), \"petal_width\"]"
      ],
      "execution_count": 27,
      "outputs": [
        {
          "output_type": "execute_result",
          "data": {
            "text/plain": [
              "70     22.2\n",
              "81     15.4\n",
              "102    23.3\n",
              "Name: petal_width, dtype: float64"
            ]
          },
          "metadata": {},
          "execution_count": 27
        }
      ]
    },
    {
      "cell_type": "code",
      "metadata": {
        "colab": {
          "base_uri": "https://localhost:8080/",
          "height": 424
        },
        "id": "I-UgBCtcNm-e",
        "outputId": "255021b4-1471-4996-885b-713714de03fe"
      },
      "source": [
        "data"
      ],
      "execution_count": 28,
      "outputs": [
        {
          "output_type": "execute_result",
          "data": {
            "text/html": [
              "<div>\n",
              "<style scoped>\n",
              "    .dataframe tbody tr th:only-of-type {\n",
              "        vertical-align: middle;\n",
              "    }\n",
              "\n",
              "    .dataframe tbody tr th {\n",
              "        vertical-align: top;\n",
              "    }\n",
              "\n",
              "    .dataframe thead th {\n",
              "        text-align: right;\n",
              "    }\n",
              "</style>\n",
              "<table border=\"1\" class=\"dataframe\">\n",
              "  <thead>\n",
              "    <tr style=\"text-align: right;\">\n",
              "      <th></th>\n",
              "      <th>septal_length</th>\n",
              "      <th>septal_width</th>\n",
              "      <th>petal_length</th>\n",
              "      <th>petal_width</th>\n",
              "      <th>color</th>\n",
              "      <th>class</th>\n",
              "      <th>sep_len</th>\n",
              "      <th>pe_len</th>\n",
              "      <th>pe_wid</th>\n",
              "    </tr>\n",
              "  </thead>\n",
              "  <tbody>\n",
              "    <tr>\n",
              "      <th>0</th>\n",
              "      <td>6.4</td>\n",
              "      <td>2.8</td>\n",
              "      <td>5.6</td>\n",
              "      <td>2.2</td>\n",
              "      <td>light</td>\n",
              "      <td>2.0</td>\n",
              "      <td>6.4</td>\n",
              "      <td>5.6</td>\n",
              "      <td>2.2</td>\n",
              "    </tr>\n",
              "    <tr>\n",
              "      <th>1</th>\n",
              "      <td>5.0</td>\n",
              "      <td>2.3</td>\n",
              "      <td>3.3</td>\n",
              "      <td>1.0</td>\n",
              "      <td>medium</td>\n",
              "      <td>1.0</td>\n",
              "      <td>5.0</td>\n",
              "      <td>3.3</td>\n",
              "      <td>1.0</td>\n",
              "    </tr>\n",
              "    <tr>\n",
              "      <th>2</th>\n",
              "      <td>4.9</td>\n",
              "      <td>2.5</td>\n",
              "      <td>4.5</td>\n",
              "      <td>1.7</td>\n",
              "      <td>medium</td>\n",
              "      <td>2.0</td>\n",
              "      <td>4.9</td>\n",
              "      <td>4.5</td>\n",
              "      <td>1.7</td>\n",
              "    </tr>\n",
              "    <tr>\n",
              "      <th>3</th>\n",
              "      <td>4.9</td>\n",
              "      <td>3.1</td>\n",
              "      <td>1.5</td>\n",
              "      <td>0.1</td>\n",
              "      <td>dark</td>\n",
              "      <td>0.0</td>\n",
              "      <td>4.9</td>\n",
              "      <td>1.5</td>\n",
              "      <td>0.1</td>\n",
              "    </tr>\n",
              "    <tr>\n",
              "      <th>4</th>\n",
              "      <td>5.7</td>\n",
              "      <td>3.8</td>\n",
              "      <td>1.7</td>\n",
              "      <td>0.3</td>\n",
              "      <td>dark</td>\n",
              "      <td>0.0</td>\n",
              "      <td>5.7</td>\n",
              "      <td>1.7</td>\n",
              "      <td>0.3</td>\n",
              "    </tr>\n",
              "    <tr>\n",
              "      <th>...</th>\n",
              "      <td>...</td>\n",
              "      <td>...</td>\n",
              "      <td>...</td>\n",
              "      <td>...</td>\n",
              "      <td>...</td>\n",
              "      <td>...</td>\n",
              "      <td>...</td>\n",
              "      <td>...</td>\n",
              "      <td>...</td>\n",
              "    </tr>\n",
              "    <tr>\n",
              "      <th>115</th>\n",
              "      <td>5.5</td>\n",
              "      <td>2.6</td>\n",
              "      <td>4.4</td>\n",
              "      <td>1.2</td>\n",
              "      <td>light</td>\n",
              "      <td>1.0</td>\n",
              "      <td>5.5</td>\n",
              "      <td>4.4</td>\n",
              "      <td>1.2</td>\n",
              "    </tr>\n",
              "    <tr>\n",
              "      <th>116</th>\n",
              "      <td>5.7</td>\n",
              "      <td>3</td>\n",
              "      <td>NaN</td>\n",
              "      <td>1.2</td>\n",
              "      <td>light</td>\n",
              "      <td>1.0</td>\n",
              "      <td>5.7</td>\n",
              "      <td>NaN</td>\n",
              "      <td>1.2</td>\n",
              "    </tr>\n",
              "    <tr>\n",
              "      <th>117</th>\n",
              "      <td>4.4</td>\n",
              "      <td>2.9</td>\n",
              "      <td>1.4</td>\n",
              "      <td>0.2</td>\n",
              "      <td>light</td>\n",
              "      <td>0.0</td>\n",
              "      <td>4.4</td>\n",
              "      <td>1.4</td>\n",
              "      <td>0.2</td>\n",
              "    </tr>\n",
              "    <tr>\n",
              "      <th>118</th>\n",
              "      <td>4.8</td>\n",
              "      <td>3</td>\n",
              "      <td>1.4</td>\n",
              "      <td>0.1</td>\n",
              "      <td>dark</td>\n",
              "      <td>0.0</td>\n",
              "      <td>4.8</td>\n",
              "      <td>1.4</td>\n",
              "      <td>0.1</td>\n",
              "    </tr>\n",
              "    <tr>\n",
              "      <th>119</th>\n",
              "      <td>5.5</td>\n",
              "      <td>2.4</td>\n",
              "      <td>3.7</td>\n",
              "      <td>-1.0</td>\n",
              "      <td>dark</td>\n",
              "      <td>1.0</td>\n",
              "      <td>5.5</td>\n",
              "      <td>3.7</td>\n",
              "      <td>-1.0</td>\n",
              "    </tr>\n",
              "  </tbody>\n",
              "</table>\n",
              "<p>120 rows × 9 columns</p>\n",
              "</div>"
            ],
            "text/plain": [
              "     septal_length septal_width  petal_length  ...  sep_len pe_len  pe_wid\n",
              "0              6.4          2.8           5.6  ...      6.4    5.6     2.2\n",
              "1              5.0          2.3           3.3  ...      5.0    3.3     1.0\n",
              "2              4.9          2.5           4.5  ...      4.9    4.5     1.7\n",
              "3              4.9          3.1           1.5  ...      4.9    1.5     0.1\n",
              "4              5.7          3.8           1.7  ...      5.7    1.7     0.3\n",
              "..             ...          ...           ...  ...      ...    ...     ...\n",
              "115            5.5          2.6           4.4  ...      5.5    4.4     1.2\n",
              "116            5.7            3           NaN  ...      5.7    NaN     1.2\n",
              "117            4.4          2.9           1.4  ...      4.4    1.4     0.2\n",
              "118            4.8            3           1.4  ...      4.8    1.4     0.1\n",
              "119            5.5          2.4           3.7  ...      5.5    3.7    -1.0\n",
              "\n",
              "[120 rows x 9 columns]"
            ]
          },
          "metadata": {},
          "execution_count": 28
        }
      ]
    },
    {
      "cell_type": "markdown",
      "metadata": {
        "id": "0XczdAJHMwtx"
      },
      "source": [
        "결측치 처리 ver.2"
      ]
    },
    {
      "cell_type": "code",
      "metadata": {
        "colab": {
          "base_uri": "https://localhost:8080/",
          "height": 424
        },
        "id": "vdSJ2Lm3MvbM",
        "outputId": "a7ccb696-b65c-4e30-d65e-6509aaee957e"
      },
      "source": [
        "data = data.iloc[:,:6]\n",
        "data"
      ],
      "execution_count": 29,
      "outputs": [
        {
          "output_type": "execute_result",
          "data": {
            "text/html": [
              "<div>\n",
              "<style scoped>\n",
              "    .dataframe tbody tr th:only-of-type {\n",
              "        vertical-align: middle;\n",
              "    }\n",
              "\n",
              "    .dataframe tbody tr th {\n",
              "        vertical-align: top;\n",
              "    }\n",
              "\n",
              "    .dataframe thead th {\n",
              "        text-align: right;\n",
              "    }\n",
              "</style>\n",
              "<table border=\"1\" class=\"dataframe\">\n",
              "  <thead>\n",
              "    <tr style=\"text-align: right;\">\n",
              "      <th></th>\n",
              "      <th>septal_length</th>\n",
              "      <th>septal_width</th>\n",
              "      <th>petal_length</th>\n",
              "      <th>petal_width</th>\n",
              "      <th>color</th>\n",
              "      <th>class</th>\n",
              "    </tr>\n",
              "  </thead>\n",
              "  <tbody>\n",
              "    <tr>\n",
              "      <th>0</th>\n",
              "      <td>6.4</td>\n",
              "      <td>2.8</td>\n",
              "      <td>5.6</td>\n",
              "      <td>2.2</td>\n",
              "      <td>light</td>\n",
              "      <td>2.0</td>\n",
              "    </tr>\n",
              "    <tr>\n",
              "      <th>1</th>\n",
              "      <td>5.0</td>\n",
              "      <td>2.3</td>\n",
              "      <td>3.3</td>\n",
              "      <td>1.0</td>\n",
              "      <td>medium</td>\n",
              "      <td>1.0</td>\n",
              "    </tr>\n",
              "    <tr>\n",
              "      <th>2</th>\n",
              "      <td>4.9</td>\n",
              "      <td>2.5</td>\n",
              "      <td>4.5</td>\n",
              "      <td>1.7</td>\n",
              "      <td>medium</td>\n",
              "      <td>2.0</td>\n",
              "    </tr>\n",
              "    <tr>\n",
              "      <th>3</th>\n",
              "      <td>4.9</td>\n",
              "      <td>3.1</td>\n",
              "      <td>1.5</td>\n",
              "      <td>0.1</td>\n",
              "      <td>dark</td>\n",
              "      <td>0.0</td>\n",
              "    </tr>\n",
              "    <tr>\n",
              "      <th>4</th>\n",
              "      <td>5.7</td>\n",
              "      <td>3.8</td>\n",
              "      <td>1.7</td>\n",
              "      <td>0.3</td>\n",
              "      <td>dark</td>\n",
              "      <td>0.0</td>\n",
              "    </tr>\n",
              "    <tr>\n",
              "      <th>...</th>\n",
              "      <td>...</td>\n",
              "      <td>...</td>\n",
              "      <td>...</td>\n",
              "      <td>...</td>\n",
              "      <td>...</td>\n",
              "      <td>...</td>\n",
              "    </tr>\n",
              "    <tr>\n",
              "      <th>115</th>\n",
              "      <td>5.5</td>\n",
              "      <td>2.6</td>\n",
              "      <td>4.4</td>\n",
              "      <td>1.2</td>\n",
              "      <td>light</td>\n",
              "      <td>1.0</td>\n",
              "    </tr>\n",
              "    <tr>\n",
              "      <th>116</th>\n",
              "      <td>5.7</td>\n",
              "      <td>3</td>\n",
              "      <td>NaN</td>\n",
              "      <td>1.2</td>\n",
              "      <td>light</td>\n",
              "      <td>1.0</td>\n",
              "    </tr>\n",
              "    <tr>\n",
              "      <th>117</th>\n",
              "      <td>4.4</td>\n",
              "      <td>2.9</td>\n",
              "      <td>1.4</td>\n",
              "      <td>0.2</td>\n",
              "      <td>light</td>\n",
              "      <td>0.0</td>\n",
              "    </tr>\n",
              "    <tr>\n",
              "      <th>118</th>\n",
              "      <td>4.8</td>\n",
              "      <td>3</td>\n",
              "      <td>1.4</td>\n",
              "      <td>0.1</td>\n",
              "      <td>dark</td>\n",
              "      <td>0.0</td>\n",
              "    </tr>\n",
              "    <tr>\n",
              "      <th>119</th>\n",
              "      <td>5.5</td>\n",
              "      <td>2.4</td>\n",
              "      <td>3.7</td>\n",
              "      <td>-1.0</td>\n",
              "      <td>dark</td>\n",
              "      <td>1.0</td>\n",
              "    </tr>\n",
              "  </tbody>\n",
              "</table>\n",
              "<p>120 rows × 6 columns</p>\n",
              "</div>"
            ],
            "text/plain": [
              "     septal_length septal_width  petal_length  petal_width   color  class\n",
              "0              6.4          2.8           5.6          2.2   light    2.0\n",
              "1              5.0          2.3           3.3          1.0  medium    1.0\n",
              "2              4.9          2.5           4.5          1.7  medium    2.0\n",
              "3              4.9          3.1           1.5          0.1    dark    0.0\n",
              "4              5.7          3.8           1.7          0.3    dark    0.0\n",
              "..             ...          ...           ...          ...     ...    ...\n",
              "115            5.5          2.6           4.4          1.2   light    1.0\n",
              "116            5.7            3           NaN          1.2   light    1.0\n",
              "117            4.4          2.9           1.4          0.2   light    0.0\n",
              "118            4.8            3           1.4          0.1    dark    0.0\n",
              "119            5.5          2.4           3.7         -1.0    dark    1.0\n",
              "\n",
              "[120 rows x 6 columns]"
            ]
          },
          "metadata": {},
          "execution_count": 29
        }
      ]
    },
    {
      "cell_type": "code",
      "metadata": {
        "colab": {
          "base_uri": "https://localhost:8080/"
        },
        "id": "yGAVRRiTMvYn",
        "outputId": "389efba5-7c70-4a14-d701-07c31119985a"
      },
      "source": [
        "data.isnull().sum()"
      ],
      "execution_count": 30,
      "outputs": [
        {
          "output_type": "execute_result",
          "data": {
            "text/plain": [
              "septal_length    3\n",
              "septal_width     2\n",
              "petal_length     3\n",
              "petal_width      2\n",
              "color            3\n",
              "class            1\n",
              "dtype: int64"
            ]
          },
          "metadata": {},
          "execution_count": 30
        }
      ]
    },
    {
      "cell_type": "code",
      "metadata": {
        "colab": {
          "base_uri": "https://localhost:8080/"
        },
        "id": "tNmgU4fSMvdr",
        "outputId": "b9e6f5e7-f0c9-4678-99f8-4efa1441af16"
      },
      "source": [
        "data.color.fillna(method=\"ffill\", inplace = True)\n",
        "data.isnull().sum()"
      ],
      "execution_count": 31,
      "outputs": [
        {
          "output_type": "execute_result",
          "data": {
            "text/plain": [
              "septal_length    3\n",
              "septal_width     2\n",
              "petal_length     3\n",
              "petal_width      2\n",
              "color            0\n",
              "class            1\n",
              "dtype: int64"
            ]
          },
          "metadata": {},
          "execution_count": 31
        }
      ]
    },
    {
      "cell_type": "code",
      "metadata": {
        "colab": {
          "base_uri": "https://localhost:8080/"
        },
        "id": "hrUp8z1ZVC3n",
        "outputId": "6c0e88f5-8a56-4762-994f-eb3c8a5988bf"
      },
      "source": [
        "data[\"class\"].fillna(method=\"ffill\", inplace = True)\n",
        "data.isnull().sum()"
      ],
      "execution_count": 32,
      "outputs": [
        {
          "output_type": "execute_result",
          "data": {
            "text/plain": [
              "septal_length    3\n",
              "septal_width     2\n",
              "petal_length     3\n",
              "petal_width      2\n",
              "color            0\n",
              "class            0\n",
              "dtype: int64"
            ]
          },
          "metadata": {},
          "execution_count": 32
        }
      ]
    },
    {
      "cell_type": "code",
      "metadata": {
        "colab": {
          "base_uri": "https://localhost:8080/"
        },
        "id": "9-oxUiSIMviq",
        "outputId": "f704538d-08b1-491d-d1ca-ea805e044708"
      },
      "source": [
        "# 잘못 들어간 값\n",
        "# 오류 해결\n",
        "data.septal_width.value_counts()"
      ],
      "execution_count": 33,
      "outputs": [
        {
          "output_type": "execute_result",
          "data": {
            "text/plain": [
              "3       18\n",
              "3.2     13\n",
              "2.8     11\n",
              "3.1     10\n",
              "3.4      8\n",
              "2.7      7\n",
              "2.9      7\n",
              "3.8      6\n",
              "3.5      5\n",
              "2.6      4\n",
              "3.3      4\n",
              "2.5      4\n",
              "2.3      3\n",
              "3.7      3\n",
              "3.6      3\n",
              "3.9      2\n",
              "2.4      2\n",
              "2.2      2\n",
              "15       1\n",
              "2..3     1\n",
              "4.4      1\n",
              "4        1\n",
              "-3       1\n",
              "16       1\n",
              "Name: septal_width, dtype: int64"
            ]
          },
          "metadata": {},
          "execution_count": 33
        }
      ]
    },
    {
      "cell_type": "code",
      "metadata": {
        "id": "8Avq8l3vMvlU"
      },
      "source": [
        "# 잘못된 데이터 수정\n",
        "data.loc[ data.septal_width == \"2..3\"] = \"2.3\""
      ],
      "execution_count": 34,
      "outputs": []
    },
    {
      "cell_type": "code",
      "metadata": {
        "colab": {
          "base_uri": "https://localhost:8080/"
        },
        "id": "C5uyVHi9UUMH",
        "outputId": "6a19f413-46f9-40d1-c04f-e2a42e328e78"
      },
      "source": [
        "data.septal_width.value_counts()"
      ],
      "execution_count": 35,
      "outputs": [
        {
          "output_type": "execute_result",
          "data": {
            "text/plain": [
              "3      18\n",
              "3.2    13\n",
              "2.8    11\n",
              "3.1    10\n",
              "3.4     8\n",
              "2.9     7\n",
              "2.7     7\n",
              "3.8     6\n",
              "3.5     5\n",
              "3.3     4\n",
              "2.3     4\n",
              "2.6     4\n",
              "2.5     4\n",
              "3.7     3\n",
              "3.6     3\n",
              "2.2     2\n",
              "3.9     2\n",
              "2.4     2\n",
              "15      1\n",
              "4.4     1\n",
              "4       1\n",
              "-3      1\n",
              "16      1\n",
              "Name: septal_width, dtype: int64"
            ]
          },
          "metadata": {},
          "execution_count": 35
        }
      ]
    },
    {
      "cell_type": "code",
      "metadata": {
        "id": "PF0bSIeiMvn3"
      },
      "source": [
        "# 데이터 타입 지정\n",
        "data.septal_length = data.septal_length.astype(float)\n",
        "data.septal_width = data.septal_width.astype(float)\n",
        "data.petal_length = data.petal_length.astype(float)\n",
        "data.petal_width = data.petal_width.astype(float)\n",
        "data.color = data.color.astype(str)\n",
        "data[\"class\"] = data[\"class\"].astype(str)"
      ],
      "execution_count": 36,
      "outputs": []
    },
    {
      "cell_type": "code",
      "metadata": {
        "colab": {
          "base_uri": "https://localhost:8080/"
        },
        "id": "2iMhOseIMvqM",
        "outputId": "77be6562-2739-46d1-a86c-9fd14af1835d"
      },
      "source": [
        "print(data.info())"
      ],
      "execution_count": 37,
      "outputs": [
        {
          "output_type": "stream",
          "name": "stdout",
          "text": [
            "<class 'pandas.core.frame.DataFrame'>\n",
            "RangeIndex: 120 entries, 0 to 119\n",
            "Data columns (total 6 columns):\n",
            " #   Column         Non-Null Count  Dtype  \n",
            "---  ------         --------------  -----  \n",
            " 0   septal_length  117 non-null    float64\n",
            " 1   septal_width   118 non-null    float64\n",
            " 2   petal_length   117 non-null    float64\n",
            " 3   petal_width    118 non-null    float64\n",
            " 4   color          120 non-null    object \n",
            " 5   class          120 non-null    object \n",
            "dtypes: float64(4), object(2)\n",
            "memory usage: 5.8+ KB\n",
            "None\n"
          ]
        }
      ]
    },
    {
      "cell_type": "code",
      "metadata": {
        "colab": {
          "base_uri": "https://localhost:8080/"
        },
        "id": "7dabTfkdXBKm",
        "outputId": "5621a651-ca16-4b53-de58-15fdcac4a065"
      },
      "source": [
        "data.isnull().sum()"
      ],
      "execution_count": 38,
      "outputs": [
        {
          "output_type": "execute_result",
          "data": {
            "text/plain": [
              "septal_length    3\n",
              "septal_width     2\n",
              "petal_length     3\n",
              "petal_width      2\n",
              "color            0\n",
              "class            0\n",
              "dtype: int64"
            ]
          },
          "metadata": {},
          "execution_count": 38
        }
      ]
    },
    {
      "cell_type": "code",
      "metadata": {
        "colab": {
          "base_uri": "https://localhost:8080/"
        },
        "id": "C9qR2ImCXLHF",
        "outputId": "9aa7e54e-8021-40d2-bec4-b183b9085cf2"
      },
      "source": [
        "# 나머지 컬럼 평균값으로 정리\n",
        "data.loc[data[\"septal_length\"].isnull(), \"septal_length\"] = data.septal_length.mean()\n",
        "data.loc[data[\"septal_width\"].isnull(), \"septal_width\"] = data.septal_width.mean()\n",
        "data.loc[data[\"petal_length\"].isnull(), \"petal_length\"] = data.petal_length.mean()\n",
        "data.loc[data[\"petal_width\"].isnull(), \"petal_width\"] = data.petal_width.mean()\n",
        "df.isnull().sum()"
      ],
      "execution_count": 41,
      "outputs": [
        {
          "output_type": "execute_result",
          "data": {
            "text/plain": [
              "color      0\n",
              "class      0\n",
              "sep_len    0\n",
              "pe_len     0\n",
              "pe_wid     0\n",
              "dtype: int64"
            ]
          },
          "metadata": {},
          "execution_count": 41
        }
      ]
    },
    {
      "cell_type": "markdown",
      "metadata": {
        "id": "bvxJM11Lcb5l"
      },
      "source": [
        "# 정규화"
      ]
    },
    {
      "cell_type": "markdown",
      "metadata": {
        "id": "HY2_cdjZanoR"
      },
      "source": [
        "# 전처리된 IRIS 데이터 트레이닝"
      ]
    },
    {
      "cell_type": "code",
      "metadata": {
        "id": "sSWn3QR_Y839"
      },
      "source": [
        ""
      ],
      "execution_count": null,
      "outputs": []
    }
  ]
}
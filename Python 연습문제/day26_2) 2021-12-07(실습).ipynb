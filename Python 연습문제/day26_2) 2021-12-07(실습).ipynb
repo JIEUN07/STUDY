{
 "cells": [
  {
   "cell_type": "code",
   "execution_count": 1,
   "id": "7e1cf2a9",
   "metadata": {},
   "outputs": [],
   "source": [
    "import numpy as np\n",
    "import pandas as pd\n",
    "import matplotlib.pyplot as plt"
   ]
  },
  {
   "cell_type": "markdown",
   "id": "7d54aa50",
   "metadata": {},
   "source": [
    "# 도미 데이터 선형회귀"
   ]
  },
  {
   "cell_type": "code",
   "execution_count": 2,
   "id": "bab598ea",
   "metadata": {},
   "outputs": [],
   "source": [
    "# 도미 데이터 준비\n",
    "bream_length = [25.4, 26.3, 26.5, 29.0, 29.0, 29.7, 29.7, 30.0, 30.0, 30.7, 31.0, 31.0, 31.5, 32.0, 32.0, 32.0, 33.0, 33.0, 33.5, 33.5, 34.0, 34.0, 34.5, 35.0, 35.0, 35.0, 35.0, 36.0, 36.0, 37.0, 38.5, 38.5, 39.5, 41.0, 41.0]\n",
    "bream_weight = [242.0, 290.0, 340.0, 363.0, 430.0, 450.0, 500.0, 390.0, 450.0, 500.0, 475.0, 500.0, 500.0, 340.0, 600.0, 600.0, 700.0, 700.0, 610.0, 650.0, 575.0, 685.0, 620.0, 680.0, 700.0, 725.0, 720.0, 714.0, 850.0, 1000.0, 920.0, 955.0, 925.0, 975.0, 950.0]\n",
    "\n",
    "smelt_length = [9.8, 10.5, 10.6, 11.0, 11.2, 11.3, 11.8, 11.8, 12.0, 12.2, 12.4, 13.0, 14.3, 15.0]\n",
    "smelt_weight = [6.7, 7.5, 7.0, 9.7, 9.8, 8.7, 10.0, 9.9, 9.8, 12.2, 13.4, 12.2, 19.7, 19.9]"
   ]
  },
  {
   "cell_type": "code",
   "execution_count": 3,
   "id": "d2c86832",
   "metadata": {},
   "outputs": [],
   "source": [
    "# 길이 무게 묶어주기\n",
    "length = bream_length + smelt_length\n",
    "weight = bream_weight + smelt_weight"
   ]
  },
  {
   "cell_type": "code",
   "execution_count": 4,
   "id": "0f3b3ae3",
   "metadata": {},
   "outputs": [
    {
     "data": {
      "text/plain": [
       "<matplotlib.collections.PathCollection at 0x184b84e2ac0>"
      ]
     },
     "execution_count": 4,
     "metadata": {},
     "output_type": "execute_result"
    },
    {
     "data": {
      "image/png": "[encoded data removed]",
      "text/plain": [
       "<Figure size 432x288 with 1 Axes>"
      ]
     },
     "metadata": {
      "needs_background": "light"
     },
     "output_type": "display_data"
    }
   ],
   "source": [
    "plt.scatter(length, weight)"
   ]
  },
  {
   "cell_type": "code",
   "execution_count": 5,
   "id": "659f7347",
   "metadata": {},
   "outputs": [],
   "source": [
    "# 최소제곱법"
   ]
  },
  {
   "cell_type": "code",
   "execution_count": 6,
   "id": "1511a293",
   "metadata": {},
   "outputs": [],
   "source": [
    "meanl = np.mean(length)\n",
    "meanw = np.mean(weight)"
   ]
  },
  {
   "cell_type": "code",
   "execution_count": 7,
   "id": "960900d5",
   "metadata": {},
   "outputs": [
    {
     "name": "stdout",
     "output_type": "stream",
     "text": [
      "분모: 5035.921224489796\n"
     ]
    }
   ],
   "source": [
    "# 분모\n",
    "difflen = sum([(i-meanl)**2 for i in length])\n",
    "print('분모:', difflen)"
   ]
  },
  {
   "cell_type": "code",
   "execution_count": 8,
   "id": "277d72da",
   "metadata": {},
   "outputs": [
    {
     "name": "stdout",
     "output_type": "stream",
     "text": [
      "분자: 154935.76\n"
     ]
    }
   ],
   "source": [
    "# 분자\n",
    "lw = [[l,w] for l,w in zip(length,weight)]\n",
    "difflw = sum([(i-meanl)*(j-meanw) for i,j in lw])\n",
    "print('분자:', difflw)"
   ]
  },
  {
   "cell_type": "code",
   "execution_count": 9,
   "id": "5018faaa",
   "metadata": {},
   "outputs": [],
   "source": [
    "a = difflw / difflen\n",
    "b = (meanw - meanl*a)"
   ]
  },
  {
   "cell_type": "code",
   "execution_count": 10,
   "id": "2ed1b3e2",
   "metadata": {},
   "outputs": [
    {
     "name": "stdout",
     "output_type": "stream",
     "text": [
      "기울기 a =  30.766120654656785\n",
      "y절편 b =  -387.88053371180604\n"
     ]
    }
   ],
   "source": [
    "print('기울기 a = ',a)\n",
    "print('y절편 b = ',b)"
   ]
  },
  {
   "cell_type": "code",
   "execution_count": 11,
   "id": "dd000361",
   "metadata": {},
   "outputs": [],
   "source": [
    "leng = [i[0] for i in lw]\n",
    "we = [i[1] for i in lw]"
   ]
  },
  {
   "cell_type": "code",
   "execution_count": 12,
   "id": "fe3b50d8",
   "metadata": {},
   "outputs": [
    {
     "data": {
      "text/plain": [
       "<matplotlib.collections.PathCollection at 0x184b86063d0>"
      ]
     },
     "execution_count": 12,
     "metadata": {},
     "output_type": "execute_result"
    },
    {
     "data": {
      "image/png": "[encoded data removed]",
      "text/plain": [
       "<Figure size 432x288 with 1 Axes>"
      ]
     },
     "metadata": {
      "needs_background": "light"
     },
     "output_type": "display_data"
    }
   ],
   "source": [
    "plt.scatter(leng, we)"
   ]
  },
  {
   "cell_type": "code",
   "execution_count": 13,
   "id": "5a842c9e",
   "metadata": {},
   "outputs": [
    {
     "name": "stdout",
     "output_type": "stream",
     "text": [
      "[25.4 26.3 26.5 29.  29.  29.7 29.7 30.  30.  30.7 31.  31.  31.5 32.\n",
      " 32.  32.  33.  33.  33.5 33.5 34.  34.  34.5 35.  35.  35.  35.  36.\n",
      " 36.  37.  38.5 38.5 39.5 41.  41.   9.8 10.5 10.6 11.  11.2 11.3 11.8\n",
      " 11.8 12.  12.2 12.4 13.  14.3 15. ]\n"
     ]
    }
   ],
   "source": [
    "# 넘파이 배열로 변환\n",
    "len_np = np.array(leng)\n",
    "we_np = np.array(we)\n",
    "print(len_np)"
   ]
  },
  {
   "cell_type": "code",
   "execution_count": 28,
   "id": "de6317f9",
   "metadata": {},
   "outputs": [
    {
     "data": {
      "text/plain": [
       "array([393.57893092, 421.26843951, 427.42166364, 504.33696527,\n",
       "       504.33696527, 525.87324973, 525.87324973, 535.10308593,\n",
       "       535.10308593, 556.63937039, 565.86920658, 565.86920658,\n",
       "       581.25226691, 596.63532724, 596.63532724, 596.63532724,\n",
       "       627.40144789, 627.40144789, 642.78450822, 642.78450822,\n",
       "       658.16756855, 658.16756855, 673.55062887, 688.9336892 ,\n",
       "       688.9336892 , 688.9336892 , 688.9336892 , 719.69980986,\n",
       "       719.69980986, 750.46593051, 796.61511149, 796.61511149,\n",
       "       827.38123215, 873.53041313, 873.53041313, -86.3725513 ,\n",
       "       -64.83626684, -61.75965477, -49.45320651, -43.29998238,\n",
       "       -40.22337031, -24.84030999, -24.84030999, -18.68708586,\n",
       "       -12.53386172,  -6.38063759,  12.0790348 ,  52.07499165,\n",
       "        73.61127611])"
      ]
     },
     "execution_count": 28,
     "metadata": {},
     "output_type": "execute_result"
    }
   ],
   "source": [
    "# 회귀직선에 따른 예측값\n",
    "predict_we = (a * len_np) + b"
   ]
  },
  {
   "cell_type": "code",
   "execution_count": 27,
   "id": "cb84aa21",
   "metadata": {},
   "outputs": [],
   "source": [
    "# 회귀직선에 예측값 따른 오차\n",
    "err = we_np - predict_we"
   ]
  },
  {
   "cell_type": "code",
   "execution_count": 15,
   "id": "0cd1aa75",
   "metadata": {},
   "outputs": [
    {
     "data": {
      "image/png": "[encoded data removed]",
      "text/plain": [
       "<Figure size 432x288 with 1 Axes>"
      ]
     },
     "metadata": {
      "needs_background": "light"
     },
     "output_type": "display_data"
    }
   ],
   "source": [
    "plt.scatter(leng, we)\n",
    "plt.scatter(leng, predict_we)\n",
    "plt.show()"
   ]
  },
  {
   "cell_type": "code",
   "execution_count": 20,
   "id": "0e8b2018",
   "metadata": {},
   "outputs": [
    {
     "data": {
      "image/png": "[encoded data removed]",
      "text/plain": [
       "<Figure size 432x288 with 1 Axes>"
      ]
     },
     "metadata": {
      "needs_background": "light"
     },
     "output_type": "display_data"
    }
   ],
   "source": [
    "plt.scatter(leng, we)\n",
    "plt.scatter(leng, predict_we)\n",
    "plt.scatter(leng, err)\n",
    "plt.show()"
   ]
  },
  {
   "cell_type": "code",
   "execution_count": 24,
   "id": "f710f45c",
   "metadata": {},
   "outputs": [
    {
     "name": "stdout",
     "output_type": "stream",
     "text": [
      "0번째 길이= 25.4 무게= 242.0 예측무게= 393.5789309164762 오차= -151.57893091647622\n",
      "1번째 길이= 26.3 무게= 290.0 예측무게= 421.2684395056674 오차= -131.2684395056674\n",
      "2번째 길이= 26.5 무게= 340.0 예측무게= 427.42166363659874 오차= -87.42166363659874\n",
      "3번째 길이= 29.0 무게= 363.0 예측무게= 504.3369652732407 오차= -141.3369652732407\n",
      "4번째 길이= 29.0 무게= 430.0 예측무게= 504.3369652732407 오차= -74.33696527324071\n",
      "5번째 길이= 29.7 무게= 450.0 예측무게= 525.8732497315004 오차= -75.87324973150044\n",
      "6번째 길이= 29.7 무게= 500.0 예측무게= 525.8732497315004 오차= -25.873249731500437\n",
      "7번째 길이= 30.0 무게= 390.0 예측무게= 535.1030859278975 오차= -145.1030859278975\n",
      "8번째 길이= 30.0 무게= 450.0 예측무게= 535.1030859278975 오차= -85.1030859278975\n",
      "9번째 길이= 30.7 무게= 500.0 예측무게= 556.6393703861572 오차= -56.639370386157225\n",
      "10번째 길이= 31.0 무게= 475.0 예측무게= 565.8692065825543 오차= -90.86920658255428\n",
      "11번째 길이= 31.0 무게= 500.0 예측무게= 565.8692065825543 오차= -65.86920658255428\n",
      "12번째 길이= 31.5 무게= 500.0 예측무게= 581.2522669098827 오차= -81.25226690988268\n",
      "13번째 길이= 32.0 무게= 340.0 예측무게= 596.6353272372111 오차= -256.6353272372111\n",
      "14번째 길이= 32.0 무게= 600.0 예측무게= 596.6353272372111 오차= 3.3646727627889277\n",
      "15번째 길이= 32.0 무게= 600.0 예측무게= 596.6353272372111 오차= 3.3646727627889277\n",
      "16번째 길이= 33.0 무게= 700.0 예측무게= 627.4014478918679 오차= 72.59855210813214\n",
      "17번째 길이= 33.0 무게= 700.0 예측무게= 627.4014478918679 오차= 72.59855210813214\n",
      "18번째 길이= 33.5 무게= 610.0 예측무게= 642.7845082191961 오차= -32.78450821919614\n",
      "19번째 길이= 33.5 무게= 650.0 예측무게= 642.7845082191961 오차= 7.215491780803859\n",
      "20번째 길이= 34.0 무게= 575.0 예측무게= 658.1675685465245 오차= -83.16756854652454\n",
      "21번째 길이= 34.0 무게= 685.0 예측무게= 658.1675685465245 오차= 26.832431453475465\n",
      "22번째 길이= 34.5 무게= 620.0 예측무게= 673.5506288738529 오차= -53.55062887385293\n",
      "23번째 길이= 35.0 무게= 680.0 예측무게= 688.9336892011813 오차= -8.933689201181323\n",
      "24번째 길이= 35.0 무게= 700.0 예측무게= 688.9336892011813 오차= 11.066310798818677\n",
      "25번째 길이= 35.0 무게= 725.0 예측무게= 688.9336892011813 오차= 36.06631079881868\n",
      "26번째 길이= 35.0 무게= 720.0 예측무게= 688.9336892011813 오차= 31.066310798818677\n",
      "27번째 길이= 36.0 무게= 714.0 예측무게= 719.6998098558381 오차= -5.699809855838112\n",
      "28번째 길이= 36.0 무게= 850.0 예측무게= 719.6998098558381 오차= 130.3001901441619\n",
      "29번째 길이= 37.0 무게= 1000.0 예측무게= 750.4659305104949 오차= 249.5340694895051\n",
      "30번째 길이= 38.5 무게= 920.0 예측무게= 796.6151114924801 오차= 123.38488850751992\n",
      "31번째 길이= 38.5 무게= 955.0 예측무게= 796.6151114924801 오차= 158.38488850751992\n",
      "32번째 길이= 39.5 무게= 925.0 예측무게= 827.3812321471369 오차= 97.61876785286313\n",
      "33번째 길이= 41.0 무게= 975.0 예측무게= 873.530413129122 오차= 101.46958687087795\n",
      "34번째 길이= 41.0 무게= 950.0 예측무게= 873.530413129122 오차= 76.46958687087795\n",
      "35번째 길이= 9.8 무게= 6.7 예측무게= -86.37255129616955 오차= 93.07255129616955\n",
      "36번째 길이= 10.5 무게= 7.5 예측무게= -64.83626683790982 오차= 72.33626683790982\n",
      "37번째 길이= 10.6 무게= 7.0 예측무게= -61.75965477244415 오차= 68.75965477244415\n",
      "38번째 길이= 11.0 무게= 9.7 예측무게= -49.453206510581424 오차= 59.15320651058143\n",
      "39번째 길이= 11.2 무게= 9.8 예측무게= -43.29998237965009 오차= 53.099982379650086\n",
      "40번째 길이= 11.3 무게= 8.7 예측무게= -40.223370314184365 오차= 48.92337031418437\n",
      "41번째 길이= 11.8 무게= 10.0 예측무게= -24.84030998685597 오차= 34.84030998685597\n",
      "42번째 길이= 11.8 무게= 9.9 예측무게= -24.84030998685597 오차= 34.74030998685597\n",
      "43번째 길이= 12.0 무게= 9.8 예측무게= -18.687085855924636 오차= 28.487085855924636\n",
      "44번째 길이= 12.2 무게= 12.2 예측무게= -12.5338617249933 오차= 24.7338617249933\n",
      "45번째 길이= 12.4 무게= 13.4 예측무게= -6.380637594061909 오차= 19.780637594061908\n",
      "46번째 길이= 13.0 무게= 12.2 예측무게= 12.079034798732152 오차= 0.12096520126784682\n",
      "47번째 길이= 14.3 무게= 19.7 예측무게= 52.074991649786 오차= -32.374991649786\n",
      "48번째 길이= 15.0 무게= 19.9 예측무게= 73.61127610804573 오차= -53.71127610804573\n"
     ]
    }
   ],
   "source": [
    "for i in range(len(leng)):\n",
    "    print(\"%.f번째\"%i, \"길이=\", leng[i], \"무게=\", we[i] , \"예측무게=\", predict_we[i], \"오차=\", err[i])"
   ]
  },
  {
   "cell_type": "markdown",
   "id": "1ad37a9d",
   "metadata": {},
   "source": [
    "# fish data 다중회귀분석 실습"
   ]
  },
  {
   "cell_type": "code",
   "execution_count": 29,
   "id": "5d9d2568",
   "metadata": {},
   "outputs": [],
   "source": [
    "import pandas as pd"
   ]
  },
  {
   "cell_type": "code",
   "execution_count": 31,
   "id": "d2d8ca90",
   "metadata": {},
   "outputs": [
    {
     "data": {
      "text/html": [
       "<div>\n",
       "<style scoped>\n",
       "    .dataframe tbody tr th:only-of-type {\n",
       "        vertical-align: middle;\n",
       "    }\n",
       "\n",
       "    .dataframe tbody tr th {\n",
       "        vertical-align: top;\n",
       "    }\n",
       "\n",
       "    .dataframe thead th {\n",
       "        text-align: right;\n",
       "    }\n",
       "</style>\n",
       "<table border=\"1\" class=\"dataframe\">\n",
       "  <thead>\n",
       "    <tr style=\"text-align: right;\">\n",
       "      <th></th>\n",
       "      <th>Species</th>\n",
       "      <th>Weight</th>\n",
       "      <th>Length1</th>\n",
       "      <th>Length2</th>\n",
       "      <th>Length3</th>\n",
       "      <th>Height</th>\n",
       "      <th>Width</th>\n",
       "    </tr>\n",
       "  </thead>\n",
       "  <tbody>\n",
       "    <tr>\n",
       "      <th>0</th>\n",
       "      <td>Bream</td>\n",
       "      <td>242.0</td>\n",
       "      <td>23.2</td>\n",
       "      <td>25.4</td>\n",
       "      <td>30.0</td>\n",
       "      <td>11.5200</td>\n",
       "      <td>4.0200</td>\n",
       "    </tr>\n",
       "    <tr>\n",
       "      <th>1</th>\n",
       "      <td>Bream</td>\n",
       "      <td>290.0</td>\n",
       "      <td>24.0</td>\n",
       "      <td>26.3</td>\n",
       "      <td>31.2</td>\n",
       "      <td>12.4800</td>\n",
       "      <td>4.3056</td>\n",
       "    </tr>\n",
       "    <tr>\n",
       "      <th>2</th>\n",
       "      <td>Bream</td>\n",
       "      <td>340.0</td>\n",
       "      <td>23.9</td>\n",
       "      <td>26.5</td>\n",
       "      <td>31.1</td>\n",
       "      <td>12.3778</td>\n",
       "      <td>4.6961</td>\n",
       "    </tr>\n",
       "    <tr>\n",
       "      <th>3</th>\n",
       "      <td>Bream</td>\n",
       "      <td>363.0</td>\n",
       "      <td>26.3</td>\n",
       "      <td>29.0</td>\n",
       "      <td>33.5</td>\n",
       "      <td>12.7300</td>\n",
       "      <td>4.4555</td>\n",
       "    </tr>\n",
       "    <tr>\n",
       "      <th>4</th>\n",
       "      <td>Bream</td>\n",
       "      <td>430.0</td>\n",
       "      <td>26.5</td>\n",
       "      <td>29.0</td>\n",
       "      <td>34.0</td>\n",
       "      <td>12.4440</td>\n",
       "      <td>5.1340</td>\n",
       "    </tr>\n",
       "    <tr>\n",
       "      <th>...</th>\n",
       "      <td>...</td>\n",
       "      <td>...</td>\n",
       "      <td>...</td>\n",
       "      <td>...</td>\n",
       "      <td>...</td>\n",
       "      <td>...</td>\n",
       "      <td>...</td>\n",
       "    </tr>\n",
       "    <tr>\n",
       "      <th>154</th>\n",
       "      <td>Smelt</td>\n",
       "      <td>12.2</td>\n",
       "      <td>11.5</td>\n",
       "      <td>12.2</td>\n",
       "      <td>13.4</td>\n",
       "      <td>2.0904</td>\n",
       "      <td>1.3936</td>\n",
       "    </tr>\n",
       "    <tr>\n",
       "      <th>155</th>\n",
       "      <td>Smelt</td>\n",
       "      <td>13.4</td>\n",
       "      <td>11.7</td>\n",
       "      <td>12.4</td>\n",
       "      <td>13.5</td>\n",
       "      <td>2.4300</td>\n",
       "      <td>1.2690</td>\n",
       "    </tr>\n",
       "    <tr>\n",
       "      <th>156</th>\n",
       "      <td>Smelt</td>\n",
       "      <td>12.2</td>\n",
       "      <td>12.1</td>\n",
       "      <td>13.0</td>\n",
       "      <td>13.8</td>\n",
       "      <td>2.2770</td>\n",
       "      <td>1.2558</td>\n",
       "    </tr>\n",
       "    <tr>\n",
       "      <th>157</th>\n",
       "      <td>Smelt</td>\n",
       "      <td>19.7</td>\n",
       "      <td>13.2</td>\n",
       "      <td>14.3</td>\n",
       "      <td>15.2</td>\n",
       "      <td>2.8728</td>\n",
       "      <td>2.0672</td>\n",
       "    </tr>\n",
       "    <tr>\n",
       "      <th>158</th>\n",
       "      <td>Smelt</td>\n",
       "      <td>19.9</td>\n",
       "      <td>13.8</td>\n",
       "      <td>15.0</td>\n",
       "      <td>16.2</td>\n",
       "      <td>2.9322</td>\n",
       "      <td>1.8792</td>\n",
       "    </tr>\n",
       "  </tbody>\n",
       "</table>\n",
       "<p>159 rows × 7 columns</p>\n",
       "</div>"
      ],
      "text/plain": [
       "    Species  Weight  Length1  Length2  Length3   Height   Width\n",
       "0     Bream   242.0     23.2     25.4     30.0  11.5200  4.0200\n",
       "1     Bream   290.0     24.0     26.3     31.2  12.4800  4.3056\n",
       "2     Bream   340.0     23.9     26.5     31.1  12.3778  4.6961\n",
       "3     Bream   363.0     26.3     29.0     33.5  12.7300  4.4555\n",
       "4     Bream   430.0     26.5     29.0     34.0  12.4440  5.1340\n",
       "..      ...     ...      ...      ...      ...      ...     ...\n",
       "154   Smelt    12.2     11.5     12.2     13.4   2.0904  1.3936\n",
       "155   Smelt    13.4     11.7     12.4     13.5   2.4300  1.2690\n",
       "156   Smelt    12.2     12.1     13.0     13.8   2.2770  1.2558\n",
       "157   Smelt    19.7     13.2     14.3     15.2   2.8728  2.0672\n",
       "158   Smelt    19.9     13.8     15.0     16.2   2.9322  1.8792\n",
       "\n",
       "[159 rows x 7 columns]"
      ]
     },
     "execution_count": 31,
     "metadata": {},
     "output_type": "execute_result"
    }
   ],
   "source": [
    "fish = pd.read_csv('fish.csv')\n",
    "fish"
   ]
  },
  {
   "cell_type": "code",
   "execution_count": null,
   "id": "bb45a056",
   "metadata": {},
   "outputs": [],
   "source": []
  },
  {
   "cell_type": "code",
   "execution_count": null,
   "id": "745841ef",
   "metadata": {},
   "outputs": [],
   "source": []
  },
  {
   "cell_type": "code",
   "execution_count": null,
   "id": "bd8f56f3",
   "metadata": {},
   "outputs": [],
   "source": []
  },
  {
   "cell_type": "code",
   "execution_count": null,
   "id": "2956d0bd",
   "metadata": {},
   "outputs": [],
   "source": []
  },
  {
   "cell_type": "code",
   "execution_count": null,
   "id": "ca7da4c8",
   "metadata": {},
   "outputs": [],
   "source": []
  },
  {
   "cell_type": "code",
   "execution_count": null,
   "id": "7de93c53",
   "metadata": {},
   "outputs": [],
   "source": []
  }
 ],
 "metadata": {
  "kernelspec": {
   "display_name": "Python 3 (ipykernel)",
   "language": "python",
   "name": "python3"
  },
  "language_info": {
   "codemirror_mode": {
    "name": "ipython",
    "version": 3
   },
   "file_extension": ".py",
   "mimetype": "text/x-python",
   "name": "python",
   "nbconvert_exporter": "python",
   "pygments_lexer": "ipython3",
   "version": "3.9.7"
  }
 },
 "nbformat": 4,
 "nbformat_minor": 5
}

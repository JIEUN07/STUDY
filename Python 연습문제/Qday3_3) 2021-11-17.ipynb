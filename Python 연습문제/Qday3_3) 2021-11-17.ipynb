{
 "cells": [
  {
   "cell_type": "markdown",
   "id": "fe20bf47",
   "metadata": {},
   "source": [
    "# 퀴즈 \n",
    "\n",
    "- 1. data.csv 파일에서 1행과 학생컬럼을 제외한 숫자 데이타만 넘파이 배열로 생성하여라. \n",
    "- 2. 1의 넘파이 배열에서 수학 점수와 과학 점수의 평균과 편차를 구하여라. \n",
    "- 3. 1의 넘파이 배열에서 1반(class가 1)의 국어, 영어, 수학, 과학 데이타만 추출하여 별도의 넘파이 배열로 생성하여라\n",
    "- 4. 3의 결과로 생성된 배열에서 각 과목의 평균을 구하여라"
   ]
  },
  {
   "cell_type": "code",
   "execution_count": 1,
   "id": "cf23524c",
   "metadata": {},
   "outputs": [],
   "source": [
    "import numpy as np\n",
    "import matplotlib.pyplot as plt\n",
    "import seaborn as sns\n",
    "import statistics as st"
   ]
  },
  {
   "cell_type": "code",
   "execution_count": 2,
   "id": "1cfae933",
   "metadata": {},
   "outputs": [
    {
     "name": "stdout",
     "output_type": "stream",
     "text": [
      " C 드라이브의 볼륨에는 이름이 없습니다.\n",
      " 볼륨 일련 번호: 3089-74F2\n",
      "\n",
      " c:\\class\\data 디렉터리\n",
      "\n",
      "2021-11-17  오후 03:04    <DIR>          .\n",
      "2021-11-17  오후 03:04    <DIR>          ..\n",
      "2021-11-17  오후 02:31               263 data.csv\n",
      "               1개 파일                 263 바이트\n",
      "               2개 디렉터리  432,648,728,576 바이트 남음\n"
     ]
    }
   ],
   "source": [
    "ls data "
   ]
  },
  {
   "cell_type": "code",
   "execution_count": 3,
   "id": "3e2c759e",
   "metadata": {},
   "outputs": [
    {
     "data": {
      "text/plain": [
       "array([['class', 'name', 'kor', 'eng', 'mat', 'bio'],\n",
       "       ['1', 'adam', '67', '87', '90', '98'],\n",
       "       ['1', 'andrew', '45', '45', '56', '98'],\n",
       "       ['1', 'ben', '95', '59', '96', '88'],\n",
       "       ['1', 'clark', '65', '94', '89', '98'],\n",
       "       ['1', 'dan', '45', '65', '78', '98'],\n",
       "       ['1', 'noel', '78', '76', '98', '89'],\n",
       "       ['2', 'paul', '87', '67', '65', '56'],\n",
       "       ['2', 'walter', '89', '98', '78', '78'],\n",
       "       ['2', 'oscar', '100', '78', '56', '65'],\n",
       "       ['2', 'martin', '99', '89', '87', '87'],\n",
       "       ['2', 'hugh', '98', '45', '56', '54'],\n",
       "       ['2', 'henry', '65', '89', '87', '78']], dtype='<U6')"
      ]
     },
     "execution_count": 3,
     "metadata": {},
     "output_type": "execute_result"
    }
   ],
   "source": [
    "student1 = np.loadtxt('data/data.csv', delimiter=',', dtype=str)\n",
    "student1"
   ]
  },
  {
   "cell_type": "code",
   "execution_count": 4,
   "id": "3c939f39",
   "metadata": {},
   "outputs": [
    {
     "data": {
      "text/plain": [
       "array([[  1,  67,  87,  90,  98],\n",
       "       [  1,  45,  45,  56,  98],\n",
       "       [  1,  95,  59,  96,  88],\n",
       "       [  1,  65,  94,  89,  98],\n",
       "       [  1,  45,  65,  78,  98],\n",
       "       [  1,  78,  76,  98,  89],\n",
       "       [  2,  87,  67,  65,  56],\n",
       "       [  2,  89,  98,  78,  78],\n",
       "       [  2, 100,  78,  56,  65],\n",
       "       [  2,  99,  89,  87,  87],\n",
       "       [  2,  98,  45,  56,  54],\n",
       "       [  2,  65,  89,  87,  78]])"
      ]
     },
     "execution_count": 4,
     "metadata": {},
     "output_type": "execute_result"
    }
   ],
   "source": [
    "# 1)\n",
    "student2 = np.loadtxt('data/data.csv', \n",
    "                      delimiter=',', \n",
    "                      dtype=int,\n",
    "                      skiprows=1, \n",
    "                      usecols=[0, 2, 3, 4, 5])\n",
    "student2"
   ]
  },
  {
   "cell_type": "code",
   "execution_count": 5,
   "id": "bb471ad0",
   "metadata": {},
   "outputs": [
    {
     "data": {
      "text/plain": [
       "(78.0, 82.25)"
      ]
     },
     "execution_count": 5,
     "metadata": {},
     "output_type": "execute_result"
    }
   ],
   "source": [
    "# 2)\n",
    "np.mean(student2[:, 3]), np.mean(student2[:,4])"
   ]
  },
  {
   "cell_type": "code",
   "execution_count": 6,
   "id": "5ee317a5",
   "metadata": {},
   "outputs": [
    {
     "data": {
      "text/plain": [
       "(15.198684153570664, 15.583778959760263)"
      ]
     },
     "execution_count": 6,
     "metadata": {},
     "output_type": "execute_result"
    }
   ],
   "source": [
    "np.std(student2[:, 3]), np.std(student2[:,4])"
   ]
  },
  {
   "cell_type": "code",
   "execution_count": 51,
   "id": "2cd3ee4c",
   "metadata": {},
   "outputs": [
    {
     "data": {
      "text/plain": [
       "array([[67, 87, 90, 98],\n",
       "       [45, 45, 56, 98],\n",
       "       [95, 59, 96, 88],\n",
       "       [65, 94, 89, 98],\n",
       "       [45, 65, 78, 98],\n",
       "       [78, 76, 98, 89]])"
      ]
     },
     "execution_count": 51,
     "metadata": {},
     "output_type": "execute_result"
    }
   ],
   "source": [
    "# 3)\n",
    "student3 = student2[:6:,1:]\n",
    "student3"
   ]
  },
  {
   "cell_type": "code",
   "execution_count": 46,
   "id": "0f65da11",
   "metadata": {},
   "outputs": [
    {
     "data": {
      "text/plain": [
       "array([[67, 87, 90, 98],\n",
       "       [45, 45, 56, 98],\n",
       "       [95, 59, 96, 88],\n",
       "       [65, 94, 89, 98],\n",
       "       [45, 65, 78, 98],\n",
       "       [78, 76, 98, 89]])"
      ]
     },
     "execution_count": 46,
     "metadata": {},
     "output_type": "execute_result"
    }
   ],
   "source": [
    "student4 = student2[student2[:,0] == 1]\n",
    "student4 = student4[:,1:]\n",
    "student4"
   ]
  },
  {
   "cell_type": "code",
   "execution_count": 53,
   "id": "3c0ab8b5",
   "metadata": {},
   "outputs": [
    {
     "data": {
      "text/plain": [
       "array([65.83333333, 71.        , 84.5       , 94.83333333])"
      ]
     },
     "execution_count": 53,
     "metadata": {},
     "output_type": "execute_result"
    }
   ],
   "source": [
    "# 4)\n",
    "np.mean(student3, axis=0)"
   ]
  },
  {
   "cell_type": "code",
   "execution_count": null,
   "id": "91216ff1",
   "metadata": {},
   "outputs": [],
   "source": []
  },
  {
   "cell_type": "code",
   "execution_count": null,
   "id": "b2a10ae6",
   "metadata": {},
   "outputs": [],
   "source": []
  },
  {
   "cell_type": "code",
   "execution_count": null,
   "id": "b73d4a11",
   "metadata": {},
   "outputs": [],
   "source": []
  }
 ],
 "metadata": {
  "kernelspec": {
   "display_name": "Python 3",
   "language": "python",
   "name": "python3"
  },
  "language_info": {
   "codemirror_mode": {
    "name": "ipython",
    "version": 3
   },
   "file_extension": ".py",
   "mimetype": "text/x-python",
   "name": "python",
   "nbconvert_exporter": "python",
   "pygments_lexer": "ipython3",
   "version": "3.8.8"
  }
 },
 "nbformat": 4,
 "nbformat_minor": 5
}

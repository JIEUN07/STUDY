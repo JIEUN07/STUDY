{
 "cells": [
  {
   "cell_type": "markdown",
   "id": "2fc49b43",
   "metadata": {},
   "source": [
    "# 보스턴 집값 예측 모델\n",
    "- 가지수, 데이터양\n",
    "- 13가지 항목 독립변수, 주택가격 종속변수\n",
    "- 회귀분석"
   ]
  },
  {
   "cell_type": "markdown",
   "id": "6dc173ff",
   "metadata": {},
   "source": [
    "#### 1) 데이터 확인\n",
    "#### 2) 데이터 전처리 \n",
    "- 결측치 처리 (0값 주의), 결측량 (5% 미만, 5% 이상인 경우 훈련이 힘들수있음) \n",
    "- 데이터 속성확인(범주형/연속형)\n",
    "- 데이터 분리 (train data / test data / validation data)\n",
    "- 실수값 (표준화) train data로 표준화해야함\n",
    "- 상관관계 (독립변수간 상관관계, 다중공선성 확인)\n",
    "- 다중공선성 (VIF > 10, VIF 지수가 10이상인 독립변수를 제거)\n",
    "- 이상치 처리\n",
    "- t/ p-value\n",
    "\n",
    "\n",
    "- cf) validation data : 학습이 완료된 모델 검증\n",
    "test data : 학습과 검증이 완료된 모델 평가\n",
    "\n",
    "#### 3) 모델 구성\n",
    "#### 4) 학습\n",
    "#### 5) 검증\n",
    "- 교차검증-kfold (test data 안씀)\n",
    "\n",
    "#### 6) 평가\n",
    "- score/R2 (test data 사용)"
   ]
  },
  {
   "cell_type": "code",
   "execution_count": 1,
   "id": "0c85688f",
   "metadata": {},
   "outputs": [],
   "source": [
    "# 데이터 불러오기"
   ]
  },
  {
   "cell_type": "code",
   "execution_count": 2,
   "id": "e11802f2",
   "metadata": {},
   "outputs": [],
   "source": [
    "import pandas as pd\n",
    "import matplotlib.pyplot as plt\n",
    "import seaborn as sns"
   ]
  },
  {
   "cell_type": "code",
   "execution_count": 3,
   "id": "b5bc68fc",
   "metadata": {},
   "outputs": [
    {
     "data": {
      "text/html": [
       "<div>\n",
       "<style scoped>\n",
       "    .dataframe tbody tr th:only-of-type {\n",
       "        vertical-align: middle;\n",
       "    }\n",
       "\n",
       "    .dataframe tbody tr th {\n",
       "        vertical-align: top;\n",
       "    }\n",
       "\n",
       "    .dataframe thead th {\n",
       "        text-align: right;\n",
       "    }\n",
       "</style>\n",
       "<table border=\"1\" class=\"dataframe\">\n",
       "  <thead>\n",
       "    <tr style=\"text-align: right;\">\n",
       "      <th></th>\n",
       "      <th>CRIM</th>\n",
       "      <th>ZN</th>\n",
       "      <th>INDUS</th>\n",
       "      <th>CHAS</th>\n",
       "      <th>NOX</th>\n",
       "      <th>RM</th>\n",
       "      <th>AGE</th>\n",
       "      <th>DIS</th>\n",
       "      <th>RAD</th>\n",
       "      <th>TAX</th>\n",
       "      <th>PTRATIO</th>\n",
       "      <th>B</th>\n",
       "      <th>LSTAT</th>\n",
       "      <th>MEDV</th>\n",
       "      <th>CAT. MEDV</th>\n",
       "    </tr>\n",
       "  </thead>\n",
       "  <tbody>\n",
       "    <tr>\n",
       "      <th>0</th>\n",
       "      <td>0.00632</td>\n",
       "      <td>18.0</td>\n",
       "      <td>2.31</td>\n",
       "      <td>0</td>\n",
       "      <td>0.538</td>\n",
       "      <td>6.575</td>\n",
       "      <td>65.2</td>\n",
       "      <td>4.0900</td>\n",
       "      <td>1</td>\n",
       "      <td>296</td>\n",
       "      <td>15.3</td>\n",
       "      <td>396.90</td>\n",
       "      <td>4.98</td>\n",
       "      <td>24.0</td>\n",
       "      <td>0</td>\n",
       "    </tr>\n",
       "    <tr>\n",
       "      <th>1</th>\n",
       "      <td>0.02731</td>\n",
       "      <td>0.0</td>\n",
       "      <td>7.07</td>\n",
       "      <td>0</td>\n",
       "      <td>0.469</td>\n",
       "      <td>6.421</td>\n",
       "      <td>78.9</td>\n",
       "      <td>4.9671</td>\n",
       "      <td>2</td>\n",
       "      <td>242</td>\n",
       "      <td>17.8</td>\n",
       "      <td>396.90</td>\n",
       "      <td>9.14</td>\n",
       "      <td>21.6</td>\n",
       "      <td>0</td>\n",
       "    </tr>\n",
       "    <tr>\n",
       "      <th>2</th>\n",
       "      <td>0.02729</td>\n",
       "      <td>0.0</td>\n",
       "      <td>7.07</td>\n",
       "      <td>0</td>\n",
       "      <td>0.469</td>\n",
       "      <td>7.185</td>\n",
       "      <td>61.1</td>\n",
       "      <td>4.9671</td>\n",
       "      <td>2</td>\n",
       "      <td>242</td>\n",
       "      <td>17.8</td>\n",
       "      <td>392.83</td>\n",
       "      <td>4.03</td>\n",
       "      <td>34.7</td>\n",
       "      <td>1</td>\n",
       "    </tr>\n",
       "    <tr>\n",
       "      <th>3</th>\n",
       "      <td>0.03237</td>\n",
       "      <td>0.0</td>\n",
       "      <td>2.18</td>\n",
       "      <td>0</td>\n",
       "      <td>0.458</td>\n",
       "      <td>6.998</td>\n",
       "      <td>45.8</td>\n",
       "      <td>6.0622</td>\n",
       "      <td>3</td>\n",
       "      <td>222</td>\n",
       "      <td>18.7</td>\n",
       "      <td>394.63</td>\n",
       "      <td>2.94</td>\n",
       "      <td>33.4</td>\n",
       "      <td>1</td>\n",
       "    </tr>\n",
       "    <tr>\n",
       "      <th>4</th>\n",
       "      <td>0.06905</td>\n",
       "      <td>0.0</td>\n",
       "      <td>2.18</td>\n",
       "      <td>0</td>\n",
       "      <td>0.458</td>\n",
       "      <td>7.147</td>\n",
       "      <td>54.2</td>\n",
       "      <td>6.0622</td>\n",
       "      <td>3</td>\n",
       "      <td>222</td>\n",
       "      <td>18.7</td>\n",
       "      <td>396.90</td>\n",
       "      <td>5.33</td>\n",
       "      <td>36.2</td>\n",
       "      <td>1</td>\n",
       "    </tr>\n",
       "    <tr>\n",
       "      <th>...</th>\n",
       "      <td>...</td>\n",
       "      <td>...</td>\n",
       "      <td>...</td>\n",
       "      <td>...</td>\n",
       "      <td>...</td>\n",
       "      <td>...</td>\n",
       "      <td>...</td>\n",
       "      <td>...</td>\n",
       "      <td>...</td>\n",
       "      <td>...</td>\n",
       "      <td>...</td>\n",
       "      <td>...</td>\n",
       "      <td>...</td>\n",
       "      <td>...</td>\n",
       "      <td>...</td>\n",
       "    </tr>\n",
       "    <tr>\n",
       "      <th>501</th>\n",
       "      <td>0.06263</td>\n",
       "      <td>0.0</td>\n",
       "      <td>11.93</td>\n",
       "      <td>0</td>\n",
       "      <td>0.573</td>\n",
       "      <td>6.593</td>\n",
       "      <td>69.1</td>\n",
       "      <td>2.4786</td>\n",
       "      <td>1</td>\n",
       "      <td>273</td>\n",
       "      <td>21.0</td>\n",
       "      <td>391.99</td>\n",
       "      <td>9.67</td>\n",
       "      <td>22.4</td>\n",
       "      <td>0</td>\n",
       "    </tr>\n",
       "    <tr>\n",
       "      <th>502</th>\n",
       "      <td>0.04527</td>\n",
       "      <td>0.0</td>\n",
       "      <td>11.93</td>\n",
       "      <td>0</td>\n",
       "      <td>0.573</td>\n",
       "      <td>6.120</td>\n",
       "      <td>76.7</td>\n",
       "      <td>2.2875</td>\n",
       "      <td>1</td>\n",
       "      <td>273</td>\n",
       "      <td>21.0</td>\n",
       "      <td>396.90</td>\n",
       "      <td>9.08</td>\n",
       "      <td>20.6</td>\n",
       "      <td>0</td>\n",
       "    </tr>\n",
       "    <tr>\n",
       "      <th>503</th>\n",
       "      <td>0.06076</td>\n",
       "      <td>0.0</td>\n",
       "      <td>11.93</td>\n",
       "      <td>0</td>\n",
       "      <td>0.573</td>\n",
       "      <td>6.976</td>\n",
       "      <td>91.0</td>\n",
       "      <td>2.1675</td>\n",
       "      <td>1</td>\n",
       "      <td>273</td>\n",
       "      <td>21.0</td>\n",
       "      <td>396.90</td>\n",
       "      <td>5.64</td>\n",
       "      <td>23.9</td>\n",
       "      <td>0</td>\n",
       "    </tr>\n",
       "    <tr>\n",
       "      <th>504</th>\n",
       "      <td>0.10959</td>\n",
       "      <td>0.0</td>\n",
       "      <td>11.93</td>\n",
       "      <td>0</td>\n",
       "      <td>0.573</td>\n",
       "      <td>6.794</td>\n",
       "      <td>89.3</td>\n",
       "      <td>2.3889</td>\n",
       "      <td>1</td>\n",
       "      <td>273</td>\n",
       "      <td>21.0</td>\n",
       "      <td>393.45</td>\n",
       "      <td>6.48</td>\n",
       "      <td>22.0</td>\n",
       "      <td>0</td>\n",
       "    </tr>\n",
       "    <tr>\n",
       "      <th>505</th>\n",
       "      <td>0.04741</td>\n",
       "      <td>0.0</td>\n",
       "      <td>11.93</td>\n",
       "      <td>0</td>\n",
       "      <td>0.573</td>\n",
       "      <td>6.030</td>\n",
       "      <td>80.8</td>\n",
       "      <td>2.5050</td>\n",
       "      <td>1</td>\n",
       "      <td>273</td>\n",
       "      <td>21.0</td>\n",
       "      <td>396.90</td>\n",
       "      <td>7.88</td>\n",
       "      <td>11.9</td>\n",
       "      <td>0</td>\n",
       "    </tr>\n",
       "  </tbody>\n",
       "</table>\n",
       "<p>506 rows × 15 columns</p>\n",
       "</div>"
      ],
      "text/plain": [
       "        CRIM    ZN  INDUS  CHAS    NOX     RM   AGE     DIS  RAD  TAX  \\\n",
       "0    0.00632  18.0   2.31     0  0.538  6.575  65.2  4.0900    1  296   \n",
       "1    0.02731   0.0   7.07     0  0.469  6.421  78.9  4.9671    2  242   \n",
       "2    0.02729   0.0   7.07     0  0.469  7.185  61.1  4.9671    2  242   \n",
       "3    0.03237   0.0   2.18     0  0.458  6.998  45.8  6.0622    3  222   \n",
       "4    0.06905   0.0   2.18     0  0.458  7.147  54.2  6.0622    3  222   \n",
       "..       ...   ...    ...   ...    ...    ...   ...     ...  ...  ...   \n",
       "501  0.06263   0.0  11.93     0  0.573  6.593  69.1  2.4786    1  273   \n",
       "502  0.04527   0.0  11.93     0  0.573  6.120  76.7  2.2875    1  273   \n",
       "503  0.06076   0.0  11.93     0  0.573  6.976  91.0  2.1675    1  273   \n",
       "504  0.10959   0.0  11.93     0  0.573  6.794  89.3  2.3889    1  273   \n",
       "505  0.04741   0.0  11.93     0  0.573  6.030  80.8  2.5050    1  273   \n",
       "\n",
       "     PTRATIO       B  LSTAT  MEDV  CAT. MEDV  \n",
       "0       15.3  396.90   4.98  24.0          0  \n",
       "1       17.8  396.90   9.14  21.6          0  \n",
       "2       17.8  392.83   4.03  34.7          1  \n",
       "3       18.7  394.63   2.94  33.4          1  \n",
       "4       18.7  396.90   5.33  36.2          1  \n",
       "..       ...     ...    ...   ...        ...  \n",
       "501     21.0  391.99   9.67  22.4          0  \n",
       "502     21.0  396.90   9.08  20.6          0  \n",
       "503     21.0  396.90   5.64  23.9          0  \n",
       "504     21.0  393.45   6.48  22.0          0  \n",
       "505     21.0  396.90   7.88  11.9          0  \n",
       "\n",
       "[506 rows x 15 columns]"
      ]
     },
     "execution_count": 3,
     "metadata": {},
     "output_type": "execute_result"
    }
   ],
   "source": [
    "house = pd.read_excel('BostonHousing.xls')\n",
    "house"
   ]
  },
  {
   "cell_type": "code",
   "execution_count": 4,
   "id": "de951a11",
   "metadata": {},
   "outputs": [],
   "source": [
    "# boston_house_price = datasets.load_boston()"
   ]
  },
  {
   "cell_type": "code",
   "execution_count": 5,
   "id": "dc30a8d5",
   "metadata": {},
   "outputs": [],
   "source": [
    "# from sklearn import datasets\n",
    "# house['Price'] = boston_house_price.target"
   ]
  },
  {
   "cell_type": "code",
   "execution_count": 6,
   "id": "52574f72",
   "metadata": {},
   "outputs": [],
   "source": [
    "# house"
   ]
  },
  {
   "cell_type": "code",
   "execution_count": 7,
   "id": "d60d17f1",
   "metadata": {},
   "outputs": [],
   "source": [
    "# 데이터 전처리"
   ]
  },
  {
   "cell_type": "code",
   "execution_count": 8,
   "id": "278d4d9a",
   "metadata": {},
   "outputs": [
    {
     "data": {
      "text/plain": [
       "CRIM         0\n",
       "ZN           0\n",
       "INDUS        0\n",
       "CHAS         0\n",
       "NOX          0\n",
       "RM           0\n",
       "AGE          0\n",
       "DIS          0\n",
       "RAD          0\n",
       "TAX          0\n",
       "PTRATIO      0\n",
       "B            0\n",
       "LSTAT        0\n",
       "MEDV         0\n",
       "CAT. MEDV    0\n",
       "dtype: int64"
      ]
     },
     "execution_count": 8,
     "metadata": {},
     "output_type": "execute_result"
    }
   ],
   "source": [
    "house.isnull().sum()"
   ]
  },
  {
   "cell_type": "code",
   "execution_count": 9,
   "id": "3e285a9a",
   "metadata": {},
   "outputs": [
    {
     "data": {
      "text/plain": [
       "CRIM         0\n",
       "ZN           0\n",
       "INDUS        0\n",
       "CHAS         0\n",
       "NOX          0\n",
       "RM           0\n",
       "AGE          0\n",
       "DIS          0\n",
       "RAD          0\n",
       "TAX          0\n",
       "PTRATIO      0\n",
       "B            0\n",
       "LSTAT        0\n",
       "MEDV         0\n",
       "CAT. MEDV    0\n",
       "dtype: int64"
      ]
     },
     "execution_count": 9,
     "metadata": {},
     "output_type": "execute_result"
    }
   ],
   "source": [
    "house.isna().sum()"
   ]
  },
  {
   "cell_type": "code",
   "execution_count": 10,
   "id": "3d1fe0b5",
   "metadata": {},
   "outputs": [
    {
     "data": {
      "text/html": [
       "<div>\n",
       "<style scoped>\n",
       "    .dataframe tbody tr th:only-of-type {\n",
       "        vertical-align: middle;\n",
       "    }\n",
       "\n",
       "    .dataframe tbody tr th {\n",
       "        vertical-align: top;\n",
       "    }\n",
       "\n",
       "    .dataframe thead th {\n",
       "        text-align: right;\n",
       "    }\n",
       "</style>\n",
       "<table border=\"1\" class=\"dataframe\">\n",
       "  <thead>\n",
       "    <tr style=\"text-align: right;\">\n",
       "      <th></th>\n",
       "      <th>CRIM</th>\n",
       "      <th>ZN</th>\n",
       "      <th>INDUS</th>\n",
       "      <th>CHAS</th>\n",
       "      <th>NOX</th>\n",
       "      <th>RM</th>\n",
       "      <th>AGE</th>\n",
       "      <th>DIS</th>\n",
       "      <th>RAD</th>\n",
       "      <th>TAX</th>\n",
       "      <th>PTRATIO</th>\n",
       "      <th>B</th>\n",
       "      <th>LSTAT</th>\n",
       "    </tr>\n",
       "  </thead>\n",
       "  <tbody>\n",
       "    <tr>\n",
       "      <th>0</th>\n",
       "      <td>0.00632</td>\n",
       "      <td>18.0</td>\n",
       "      <td>2.31</td>\n",
       "      <td>0</td>\n",
       "      <td>0.538</td>\n",
       "      <td>6.575</td>\n",
       "      <td>65.2</td>\n",
       "      <td>4.0900</td>\n",
       "      <td>1</td>\n",
       "      <td>296</td>\n",
       "      <td>15.3</td>\n",
       "      <td>396.90</td>\n",
       "      <td>4.98</td>\n",
       "    </tr>\n",
       "    <tr>\n",
       "      <th>1</th>\n",
       "      <td>0.02731</td>\n",
       "      <td>0.0</td>\n",
       "      <td>7.07</td>\n",
       "      <td>0</td>\n",
       "      <td>0.469</td>\n",
       "      <td>6.421</td>\n",
       "      <td>78.9</td>\n",
       "      <td>4.9671</td>\n",
       "      <td>2</td>\n",
       "      <td>242</td>\n",
       "      <td>17.8</td>\n",
       "      <td>396.90</td>\n",
       "      <td>9.14</td>\n",
       "    </tr>\n",
       "    <tr>\n",
       "      <th>2</th>\n",
       "      <td>0.02729</td>\n",
       "      <td>0.0</td>\n",
       "      <td>7.07</td>\n",
       "      <td>0</td>\n",
       "      <td>0.469</td>\n",
       "      <td>7.185</td>\n",
       "      <td>61.1</td>\n",
       "      <td>4.9671</td>\n",
       "      <td>2</td>\n",
       "      <td>242</td>\n",
       "      <td>17.8</td>\n",
       "      <td>392.83</td>\n",
       "      <td>4.03</td>\n",
       "    </tr>\n",
       "    <tr>\n",
       "      <th>3</th>\n",
       "      <td>0.03237</td>\n",
       "      <td>0.0</td>\n",
       "      <td>2.18</td>\n",
       "      <td>0</td>\n",
       "      <td>0.458</td>\n",
       "      <td>6.998</td>\n",
       "      <td>45.8</td>\n",
       "      <td>6.0622</td>\n",
       "      <td>3</td>\n",
       "      <td>222</td>\n",
       "      <td>18.7</td>\n",
       "      <td>394.63</td>\n",
       "      <td>2.94</td>\n",
       "    </tr>\n",
       "    <tr>\n",
       "      <th>4</th>\n",
       "      <td>0.06905</td>\n",
       "      <td>0.0</td>\n",
       "      <td>2.18</td>\n",
       "      <td>0</td>\n",
       "      <td>0.458</td>\n",
       "      <td>7.147</td>\n",
       "      <td>54.2</td>\n",
       "      <td>6.0622</td>\n",
       "      <td>3</td>\n",
       "      <td>222</td>\n",
       "      <td>18.7</td>\n",
       "      <td>396.90</td>\n",
       "      <td>5.33</td>\n",
       "    </tr>\n",
       "    <tr>\n",
       "      <th>...</th>\n",
       "      <td>...</td>\n",
       "      <td>...</td>\n",
       "      <td>...</td>\n",
       "      <td>...</td>\n",
       "      <td>...</td>\n",
       "      <td>...</td>\n",
       "      <td>...</td>\n",
       "      <td>...</td>\n",
       "      <td>...</td>\n",
       "      <td>...</td>\n",
       "      <td>...</td>\n",
       "      <td>...</td>\n",
       "      <td>...</td>\n",
       "    </tr>\n",
       "    <tr>\n",
       "      <th>501</th>\n",
       "      <td>0.06263</td>\n",
       "      <td>0.0</td>\n",
       "      <td>11.93</td>\n",
       "      <td>0</td>\n",
       "      <td>0.573</td>\n",
       "      <td>6.593</td>\n",
       "      <td>69.1</td>\n",
       "      <td>2.4786</td>\n",
       "      <td>1</td>\n",
       "      <td>273</td>\n",
       "      <td>21.0</td>\n",
       "      <td>391.99</td>\n",
       "      <td>9.67</td>\n",
       "    </tr>\n",
       "    <tr>\n",
       "      <th>502</th>\n",
       "      <td>0.04527</td>\n",
       "      <td>0.0</td>\n",
       "      <td>11.93</td>\n",
       "      <td>0</td>\n",
       "      <td>0.573</td>\n",
       "      <td>6.120</td>\n",
       "      <td>76.7</td>\n",
       "      <td>2.2875</td>\n",
       "      <td>1</td>\n",
       "      <td>273</td>\n",
       "      <td>21.0</td>\n",
       "      <td>396.90</td>\n",
       "      <td>9.08</td>\n",
       "    </tr>\n",
       "    <tr>\n",
       "      <th>503</th>\n",
       "      <td>0.06076</td>\n",
       "      <td>0.0</td>\n",
       "      <td>11.93</td>\n",
       "      <td>0</td>\n",
       "      <td>0.573</td>\n",
       "      <td>6.976</td>\n",
       "      <td>91.0</td>\n",
       "      <td>2.1675</td>\n",
       "      <td>1</td>\n",
       "      <td>273</td>\n",
       "      <td>21.0</td>\n",
       "      <td>396.90</td>\n",
       "      <td>5.64</td>\n",
       "    </tr>\n",
       "    <tr>\n",
       "      <th>504</th>\n",
       "      <td>0.10959</td>\n",
       "      <td>0.0</td>\n",
       "      <td>11.93</td>\n",
       "      <td>0</td>\n",
       "      <td>0.573</td>\n",
       "      <td>6.794</td>\n",
       "      <td>89.3</td>\n",
       "      <td>2.3889</td>\n",
       "      <td>1</td>\n",
       "      <td>273</td>\n",
       "      <td>21.0</td>\n",
       "      <td>393.45</td>\n",
       "      <td>6.48</td>\n",
       "    </tr>\n",
       "    <tr>\n",
       "      <th>505</th>\n",
       "      <td>0.04741</td>\n",
       "      <td>0.0</td>\n",
       "      <td>11.93</td>\n",
       "      <td>0</td>\n",
       "      <td>0.573</td>\n",
       "      <td>6.030</td>\n",
       "      <td>80.8</td>\n",
       "      <td>2.5050</td>\n",
       "      <td>1</td>\n",
       "      <td>273</td>\n",
       "      <td>21.0</td>\n",
       "      <td>396.90</td>\n",
       "      <td>7.88</td>\n",
       "    </tr>\n",
       "  </tbody>\n",
       "</table>\n",
       "<p>506 rows × 13 columns</p>\n",
       "</div>"
      ],
      "text/plain": [
       "        CRIM    ZN  INDUS  CHAS    NOX     RM   AGE     DIS  RAD  TAX  \\\n",
       "0    0.00632  18.0   2.31     0  0.538  6.575  65.2  4.0900    1  296   \n",
       "1    0.02731   0.0   7.07     0  0.469  6.421  78.9  4.9671    2  242   \n",
       "2    0.02729   0.0   7.07     0  0.469  7.185  61.1  4.9671    2  242   \n",
       "3    0.03237   0.0   2.18     0  0.458  6.998  45.8  6.0622    3  222   \n",
       "4    0.06905   0.0   2.18     0  0.458  7.147  54.2  6.0622    3  222   \n",
       "..       ...   ...    ...   ...    ...    ...   ...     ...  ...  ...   \n",
       "501  0.06263   0.0  11.93     0  0.573  6.593  69.1  2.4786    1  273   \n",
       "502  0.04527   0.0  11.93     0  0.573  6.120  76.7  2.2875    1  273   \n",
       "503  0.06076   0.0  11.93     0  0.573  6.976  91.0  2.1675    1  273   \n",
       "504  0.10959   0.0  11.93     0  0.573  6.794  89.3  2.3889    1  273   \n",
       "505  0.04741   0.0  11.93     0  0.573  6.030  80.8  2.5050    1  273   \n",
       "\n",
       "     PTRATIO       B  LSTAT  \n",
       "0       15.3  396.90   4.98  \n",
       "1       17.8  396.90   9.14  \n",
       "2       17.8  392.83   4.03  \n",
       "3       18.7  394.63   2.94  \n",
       "4       18.7  396.90   5.33  \n",
       "..       ...     ...    ...  \n",
       "501     21.0  391.99   9.67  \n",
       "502     21.0  396.90   9.08  \n",
       "503     21.0  396.90   5.64  \n",
       "504     21.0  393.45   6.48  \n",
       "505     21.0  396.90   7.88  \n",
       "\n",
       "[506 rows x 13 columns]"
      ]
     },
     "execution_count": 10,
     "metadata": {},
     "output_type": "execute_result"
    }
   ],
   "source": [
    "house_d = house.drop(columns = ['MEDV','CAT. MEDV'])\n",
    "house_d"
   ]
  },
  {
   "cell_type": "code",
   "execution_count": 11,
   "id": "95e80cb0",
   "metadata": {},
   "outputs": [],
   "source": [
    "# 데이터셋 나누기 (train / test)\n",
    "\n",
    "from sklearn.model_selection import train_test_split\n",
    "\n",
    "hd_train, hd_test, hdt_train, hdt_test = train_test_split(house_d, house.MEDV, test_size=0.2, random_state=1)"
   ]
  },
  {
   "cell_type": "code",
   "execution_count": 12,
   "id": "1e6e1b27",
   "metadata": {},
   "outputs": [
    {
     "data": {
      "text/plain": [
       "((404, 13), (404,))"
      ]
     },
     "execution_count": 12,
     "metadata": {},
     "output_type": "execute_result"
    }
   ],
   "source": [
    "hd_train.shape, hdt_train.shape"
   ]
  },
  {
   "cell_type": "code",
   "execution_count": 13,
   "id": "63b8e24c",
   "metadata": {},
   "outputs": [
    {
     "data": {
      "text/plain": [
       "((102, 13), (102,))"
      ]
     },
     "execution_count": 13,
     "metadata": {},
     "output_type": "execute_result"
    }
   ],
   "source": [
    "hd_test.shape, hdt_test.shape"
   ]
  },
  {
   "cell_type": "code",
   "execution_count": 14,
   "id": "1e1d66b8",
   "metadata": {},
   "outputs": [
    {
     "name": "stdout",
     "output_type": "stream",
     "text": [
      "         CRIM        ZN     INDUS      CHAS       NOX        RM       AGE  \\\n",
      "42  -0.388767 -0.494980 -0.608535 -0.292931 -0.898469 -0.144788 -2.147367   \n",
      "58  -0.387352  0.578521 -0.868450 -0.292931 -0.855695 -0.179610 -1.356139   \n",
      "385  1.433772 -0.494980  1.025420 -0.292931  1.257318 -1.438988  1.056057   \n",
      "78  -0.398065 -0.494980  0.255899 -0.292931 -0.992571 -0.053382 -0.498391   \n",
      "424  0.556992 -0.494980  1.025420 -0.292931  0.264972 -1.021130  0.093279   \n",
      "..        ...       ...       ...       ...       ...       ...       ...   \n",
      "255 -0.400358  2.940224 -1.086018 -0.292931 -1.377533 -0.569901 -1.709741   \n",
      "72  -0.394218 -0.494980 -0.039060 -0.292931 -1.197884 -0.295681 -2.105355   \n",
      "396  0.237745 -0.494980  1.025420 -0.292931  1.197435  0.197624  0.982536   \n",
      "235 -0.368110 -0.494980 -0.712209 -0.292931 -0.393741 -0.265213 -0.225313   \n",
      "37  -0.395476 -0.494980 -0.747254 -0.292931 -0.462179 -0.607624 -0.925515   \n",
      "\n",
      "          DIS       RAD       TAX   PTRATIO         B     LSTAT  \n",
      "42   0.893348 -0.745406 -1.007259 -0.248270  0.286387 -0.965653  \n",
      "58   1.880571 -0.169384 -0.705538  0.581426  0.366241 -0.820151  \n",
      "385 -1.131547  1.673883  1.554409  0.811897  0.434188  2.498677  \n",
      "78   0.560108 -0.514997 -0.031103  0.120484  0.319486 -0.060770  \n",
      "424 -0.831029  1.673883  1.554409  0.811897 -3.861671  0.607153  \n",
      "..        ...       ...       ...       ...       ...       ...  \n",
      "255  2.543231 -0.975814 -0.522139 -0.939683  0.415399 -0.488961  \n",
      "72   0.688916 -0.630201 -0.581300  0.350955  0.368754 -1.005839  \n",
      "396 -1.013348  1.673883  1.554409  0.811897  0.434188  0.913400  \n",
      "235 -0.082136 -0.169384 -0.569468 -0.478741  0.214070 -0.263087  \n",
      "37   0.050962 -0.514997 -0.735118  0.350955  0.434188 -0.555476  \n",
      "\n",
      "[404 rows x 13 columns]\n",
      "42     0.308670\n",
      "58     0.086423\n",
      "385   -1.702666\n",
      "78    -0.146936\n",
      "424   -1.202610\n",
      "         ...   \n",
      "255   -0.180273\n",
      "72     0.030862\n",
      "396   -1.113711\n",
      "235    0.164210\n",
      "37    -0.169161\n",
      "Name: MEDV, Length: 404, dtype: float64\n"
     ]
    }
   ],
   "source": [
    "# train data 표준화\n",
    "hd_train_sc = (hd_train - hd_train.mean()) / hd_train.std()\n",
    "print(hd_train_sc)\n",
    "\n",
    "hdt_train_sc = (hdt_train - hdt_train.mean()) / hdt_train.std()\n",
    "print(hdt_train_sc)"
   ]
  },
  {
   "cell_type": "code",
   "execution_count": 15,
   "id": "d9644b74",
   "metadata": {},
   "outputs": [
    {
     "name": "stdout",
     "output_type": "stream",
     "text": [
      "         CRIM        ZN     INDUS      CHAS       NOX        RM       AGE  \\\n",
      "307 -0.398845  0.922042 -1.299206 -0.292931 -0.693156  0.841822  0.082776   \n",
      "343 -0.401457  1.866723 -1.065576 -0.292931 -0.590499  0.619835 -0.403864   \n",
      "47  -0.379172 -0.494980 -0.608535 -0.292931 -0.898469 -0.346463  0.614930   \n",
      "67  -0.397908  0.041771 -0.731191 -0.292931 -1.232103 -0.566999 -1.629218   \n",
      "362 -0.002103 -0.494980  1.025420 -0.292931  1.856147 -1.315662  0.989538   \n",
      "..        ...       ...       ...       ...       ...       ...       ...   \n",
      "92  -0.399642  0.707342  0.578601 -0.292931 -0.761594  0.251307 -0.501892   \n",
      "224 -0.369763 -0.494980 -0.712209 -0.292931 -0.419405  2.897744  0.362857   \n",
      "110 -0.392438 -0.494980 -0.367603 -0.292931 -0.282530 -0.107065 -0.473884   \n",
      "426  0.934731 -0.494980  1.025420 -0.292931  0.264972 -0.626486 -0.288331   \n",
      "443  0.685390 -0.494980  1.025420 -0.292931  1.599506  0.313695  1.122576   \n",
      "\n",
      "          DIS       RAD       TAX   PTRATIO         B     LSTAT  \n",
      "307 -0.303353 -0.284589 -1.072336 -0.017799  0.434188 -0.727307  \n",
      "343  0.898628 -0.514997 -0.196754 -0.386553  0.434188 -0.775808  \n",
      "47   0.878496 -0.745406 -1.007259 -0.248270  0.388744  0.834413  \n",
      "67   1.259732 -0.630201 -0.344656  0.212672  0.426651 -0.648320  \n",
      "362 -0.812122  1.673883  1.554409  0.811897  0.258203 -0.358702  \n",
      "..        ...       ...       ...       ...       ...       ...  \n",
      "92  -0.075535 -0.630201 -0.788363 -0.109987  0.413542 -0.640006  \n",
      "224 -0.439279 -0.169384 -0.569468 -0.478741  0.304739 -1.197070  \n",
      "110 -0.494253 -0.514997 -0.113929  1.134557  0.396937  0.030688  \n",
      "426 -0.862099  1.673883  1.554409  0.811897 -3.632267  0.403450  \n",
      "443 -0.871151  1.673883  1.554409  0.811897  0.323091  0.841342  \n",
      "\n",
      "[102 rows x 13 columns]\n",
      "307    0.630929\n",
      "343    0.153097\n",
      "47    -0.658105\n",
      "67    -0.058037\n",
      "362   -0.191386\n",
      "         ...   \n",
      "92     0.041974\n",
      "224    2.475580\n",
      "110   -0.091374\n",
      "426   -1.369295\n",
      "443   -0.791453\n",
      "Name: MEDV, Length: 102, dtype: float64\n"
     ]
    }
   ],
   "source": [
    "# test data 표준화\n",
    "hd_test_sc = (hd_test - hd_train.mean()) / hd_train.std()\n",
    "print(hd_test_sc)\n",
    "\n",
    "hdt_test_sc = (hdt_test - hdt_train.mean()) / hdt_train.std()\n",
    "print(hdt_test_sc)"
   ]
  },
  {
   "cell_type": "code",
   "execution_count": 16,
   "id": "442e3137",
   "metadata": {},
   "outputs": [],
   "source": [
    "# 다른 방법_1\n",
    "# bost[\"CRIM\"] = (house.CRIM - house.CRIM.mean()) / house.CRIM.std()\n",
    "# bost[\"ZN\"] = (house.ZN - house.ZN.mean()) / house.ZN.std()\n",
    "# bost[\"INDUS\"] = (house.INDUS - house.INDUS.mean()) / house.INDUS.std()\n",
    "# bost[\"CHAS\"] = (house.CHAS - house.CHAS.mean()) / house.CHAS.std()\n",
    "# bost[\"NOX\"] = (house.NOX - house.NOX.mean()) / house.NOX.std()\n",
    "# bost[\"RM\"] = (house.RM - house.RM.mean()) / house.RM.std()\n",
    "# bost[\"AGE\"] = (house.AGE - house.AGE.mean()) / house.AGE.std()\n",
    "# bost[\"DIS\"] = (house.DIS - house.DIS.mean()) / house.DIS.std()\n",
    "# bost[\"RAD\"] = (house.RAD - house.RAD.mean()) / house.RAD.std()\n",
    "# bost[\"TAX\"] = (house.TAX - house.TAX.mean()) / house.TAX.std()\n",
    "# bost[\"PTRATIO\"] = (house.PTRATIO - house.PTRATIO.mean()) / house.PTRATIO.std()\n",
    "# bost[\"B\"] = (house.B - house.B.mean()) / house.B.std()\n",
    "# bost[\"LSTAT\"] = (house.LSTAT - house.LSTAT.mean()) / house.LSTAT.std()\n",
    "# bost[\"MEDV\"] = (house.MEDV - house.MEDV.mean()) / house.MEDV.std()"
   ]
  },
  {
   "cell_type": "code",
   "execution_count": 17,
   "id": "7119a1be",
   "metadata": {},
   "outputs": [
    {
     "data": {
      "text/plain": [
       "\"\\nfrom sklearn.preprocessing import StandardScaler\\n\\nss = StandardScaler()\\nss_columns = ['CRIM','ZN','INDUS','CHAS','NOX','RM','AGE','DIS','RAD','TAX','PTRATIO','B','LSTAT']\\nhd_train[ss_columns] = ss.fit_transform(hd_train[ss_columns])\\nhd_train\\n\""
      ]
     },
     "execution_count": 17,
     "metadata": {},
     "output_type": "execute_result"
    }
   ],
   "source": [
    "# 다른 방법_2 (라이브러리 사용)\n",
    "'''\n",
    "from sklearn.preprocessing import StandardScaler\n",
    "\n",
    "ss = StandardScaler()\n",
    "ss_columns = ['CRIM','ZN','INDUS','CHAS','NOX','RM','AGE','DIS','RAD','TAX','PTRATIO','B','LSTAT']\n",
    "hd_train[ss_columns] = ss.fit_transform(hd_train[ss_columns])\n",
    "hd_train\n",
    "'''"
   ]
  },
  {
   "cell_type": "code",
   "execution_count": 18,
   "id": "5ae00032",
   "metadata": {},
   "outputs": [],
   "source": [
    "# 표준화된 데이터 상관계수 확인"
   ]
  },
  {
   "cell_type": "code",
   "execution_count": 19,
   "id": "622e740c",
   "metadata": {},
   "outputs": [
    {
     "data": {
      "text/plain": [
       "<AxesSubplot:>"
      ]
     },
     "execution_count": 19,
     "metadata": {},
     "output_type": "execute_result"
    },
    {
     "data": {
      "image/png": "[encoded data removed]",
      "text/plain": [
       "<Figure size 720x720 with 2 Axes>"
      ]
     },
     "metadata": {
      "needs_background": "light"
     },
     "output_type": "display_data"
    }
   ],
   "source": [
    "plt.figure(figsize=(10,10))\n",
    "hd_train_sc_corr = hd_train_sc.corr()\n",
    "sns.heatmap(hd_train_sc_corr , annot=True)"
   ]
  },
  {
   "cell_type": "code",
   "execution_count": 20,
   "id": "c73466db",
   "metadata": {},
   "outputs": [],
   "source": [
    "# 원데이터 상관계수 확인"
   ]
  },
  {
   "cell_type": "code",
   "execution_count": 21,
   "id": "8ff753d8",
   "metadata": {},
   "outputs": [
    {
     "data": {
      "text/plain": [
       "<AxesSubplot:>"
      ]
     },
     "execution_count": 21,
     "metadata": {},
     "output_type": "execute_result"
    },
    {
     "data": {
      "image/png": "[encoded data removed]",
      "text/plain": [
       "<Figure size 720x720 with 2 Axes>"
      ]
     },
     "metadata": {
      "needs_background": "light"
     },
     "output_type": "display_data"
    }
   ],
   "source": [
    "plt.figure(figsize=(10,10))\n",
    "house_corr = house.corr()\n",
    "sns.heatmap(house_corr , annot=True)"
   ]
  },
  {
   "cell_type": "code",
   "execution_count": 22,
   "id": "b16ae0ae",
   "metadata": {},
   "outputs": [],
   "source": [
    "# 다중공선성 확인"
   ]
  },
  {
   "cell_type": "code",
   "execution_count": 23,
   "id": "49b048b6",
   "metadata": {
    "scrolled": true
   },
   "outputs": [
    {
     "data": {
      "text/html": [
       "<div>\n",
       "<style scoped>\n",
       "    .dataframe tbody tr th:only-of-type {\n",
       "        vertical-align: middle;\n",
       "    }\n",
       "\n",
       "    .dataframe tbody tr th {\n",
       "        vertical-align: top;\n",
       "    }\n",
       "\n",
       "    .dataframe thead th {\n",
       "        text-align: right;\n",
       "    }\n",
       "</style>\n",
       "<table border=\"1\" class=\"dataframe\">\n",
       "  <thead>\n",
       "    <tr style=\"text-align: right;\">\n",
       "      <th></th>\n",
       "      <th>features</th>\n",
       "      <th>VIF factor</th>\n",
       "    </tr>\n",
       "  </thead>\n",
       "  <tbody>\n",
       "    <tr>\n",
       "      <th>0</th>\n",
       "      <td>CRIM</td>\n",
       "      <td>1.7</td>\n",
       "    </tr>\n",
       "    <tr>\n",
       "      <th>1</th>\n",
       "      <td>ZN</td>\n",
       "      <td>2.5</td>\n",
       "    </tr>\n",
       "    <tr>\n",
       "      <th>2</th>\n",
       "      <td>INDUS</td>\n",
       "      <td>3.8</td>\n",
       "    </tr>\n",
       "    <tr>\n",
       "      <th>3</th>\n",
       "      <td>CHAS</td>\n",
       "      <td>1.1</td>\n",
       "    </tr>\n",
       "    <tr>\n",
       "      <th>4</th>\n",
       "      <td>NOX</td>\n",
       "      <td>4.4</td>\n",
       "    </tr>\n",
       "    <tr>\n",
       "      <th>5</th>\n",
       "      <td>RM</td>\n",
       "      <td>1.9</td>\n",
       "    </tr>\n",
       "    <tr>\n",
       "      <th>6</th>\n",
       "      <td>AGE</td>\n",
       "      <td>3.2</td>\n",
       "    </tr>\n",
       "    <tr>\n",
       "      <th>7</th>\n",
       "      <td>DIS</td>\n",
       "      <td>4.2</td>\n",
       "    </tr>\n",
       "    <tr>\n",
       "      <th>8</th>\n",
       "      <td>RAD</td>\n",
       "      <td>8.1</td>\n",
       "    </tr>\n",
       "    <tr>\n",
       "      <th>9</th>\n",
       "      <td>TAX</td>\n",
       "      <td>9.8</td>\n",
       "    </tr>\n",
       "    <tr>\n",
       "      <th>10</th>\n",
       "      <td>PTRATIO</td>\n",
       "      <td>1.9</td>\n",
       "    </tr>\n",
       "    <tr>\n",
       "      <th>11</th>\n",
       "      <td>B</td>\n",
       "      <td>1.4</td>\n",
       "    </tr>\n",
       "    <tr>\n",
       "      <th>12</th>\n",
       "      <td>LSTAT</td>\n",
       "      <td>3.1</td>\n",
       "    </tr>\n",
       "  </tbody>\n",
       "</table>\n",
       "</div>"
      ],
      "text/plain": [
       "   features  VIF factor\n",
       "0      CRIM         1.7\n",
       "1        ZN         2.5\n",
       "2     INDUS         3.8\n",
       "3      CHAS         1.1\n",
       "4       NOX         4.4\n",
       "5        RM         1.9\n",
       "6       AGE         3.2\n",
       "7       DIS         4.2\n",
       "8       RAD         8.1\n",
       "9       TAX         9.8\n",
       "10  PTRATIO         1.9\n",
       "11        B         1.4\n",
       "12    LSTAT         3.1"
      ]
     },
     "execution_count": 23,
     "metadata": {},
     "output_type": "execute_result"
    }
   ],
   "source": [
    "from statsmodels.stats.outliers_influence import variance_inflation_factor\n",
    "\n",
    "vif = pd.DataFrame()\n",
    "vif['features'] = hd_train_sc.columns\n",
    "vif['VIF factor'] = [variance_inflation_factor(hd_train_sc.values, i) for i in range(hd_train_sc.shape[1])]\n",
    "vif.round(1)"
   ]
  },
  {
   "cell_type": "markdown",
   "id": "ef7d40e4",
   "metadata": {},
   "source": [
    "## 가장 높은 VIF값을 가진 TAX 삭제한 모델"
   ]
  },
  {
   "cell_type": "code",
   "execution_count": 25,
   "id": "2707f3e4",
   "metadata": {},
   "outputs": [],
   "source": [
    "hd_train_sc_tax = hd_train_sc.drop(columns = ['TAX'])\n",
    "hd_test_sc_tax = hd_test_sc.drop(columns = ['TAX'])"
   ]
  },
  {
   "cell_type": "code",
   "execution_count": 26,
   "id": "2e93fd7f",
   "metadata": {},
   "outputs": [
    {
     "data": {
      "text/html": [
       "<div>\n",
       "<style scoped>\n",
       "    .dataframe tbody tr th:only-of-type {\n",
       "        vertical-align: middle;\n",
       "    }\n",
       "\n",
       "    .dataframe tbody tr th {\n",
       "        vertical-align: top;\n",
       "    }\n",
       "\n",
       "    .dataframe thead th {\n",
       "        text-align: right;\n",
       "    }\n",
       "</style>\n",
       "<table border=\"1\" class=\"dataframe\">\n",
       "  <thead>\n",
       "    <tr style=\"text-align: right;\">\n",
       "      <th></th>\n",
       "      <th>features</th>\n",
       "      <th>VIF factor</th>\n",
       "    </tr>\n",
       "  </thead>\n",
       "  <tbody>\n",
       "    <tr>\n",
       "      <th>0</th>\n",
       "      <td>CRIM</td>\n",
       "      <td>1.7</td>\n",
       "    </tr>\n",
       "    <tr>\n",
       "      <th>1</th>\n",
       "      <td>ZN</td>\n",
       "      <td>2.3</td>\n",
       "    </tr>\n",
       "    <tr>\n",
       "      <th>2</th>\n",
       "      <td>INDUS</td>\n",
       "      <td>3.2</td>\n",
       "    </tr>\n",
       "    <tr>\n",
       "      <th>3</th>\n",
       "      <td>CHAS</td>\n",
       "      <td>1.1</td>\n",
       "    </tr>\n",
       "    <tr>\n",
       "      <th>4</th>\n",
       "      <td>NOX</td>\n",
       "      <td>4.4</td>\n",
       "    </tr>\n",
       "    <tr>\n",
       "      <th>5</th>\n",
       "      <td>RM</td>\n",
       "      <td>1.9</td>\n",
       "    </tr>\n",
       "    <tr>\n",
       "      <th>6</th>\n",
       "      <td>AGE</td>\n",
       "      <td>3.2</td>\n",
       "    </tr>\n",
       "    <tr>\n",
       "      <th>7</th>\n",
       "      <td>DIS</td>\n",
       "      <td>4.2</td>\n",
       "    </tr>\n",
       "    <tr>\n",
       "      <th>8</th>\n",
       "      <td>RAD</td>\n",
       "      <td>2.9</td>\n",
       "    </tr>\n",
       "    <tr>\n",
       "      <th>9</th>\n",
       "      <td>PTRATIO</td>\n",
       "      <td>1.8</td>\n",
       "    </tr>\n",
       "    <tr>\n",
       "      <th>10</th>\n",
       "      <td>B</td>\n",
       "      <td>1.4</td>\n",
       "    </tr>\n",
       "    <tr>\n",
       "      <th>11</th>\n",
       "      <td>LSTAT</td>\n",
       "      <td>3.1</td>\n",
       "    </tr>\n",
       "  </tbody>\n",
       "</table>\n",
       "</div>"
      ],
      "text/plain": [
       "   features  VIF factor\n",
       "0      CRIM         1.7\n",
       "1        ZN         2.3\n",
       "2     INDUS         3.2\n",
       "3      CHAS         1.1\n",
       "4       NOX         4.4\n",
       "5        RM         1.9\n",
       "6       AGE         3.2\n",
       "7       DIS         4.2\n",
       "8       RAD         2.9\n",
       "9   PTRATIO         1.8\n",
       "10        B         1.4\n",
       "11    LSTAT         3.1"
      ]
     },
     "execution_count": 26,
     "metadata": {},
     "output_type": "execute_result"
    }
   ],
   "source": [
    "vif = pd.DataFrame()\n",
    "vif['features'] = ['CRIM', 'ZN', 'INDUS', 'CHAS', 'NOX', 'RM', 'AGE', 'DIS', 'RAD', 'PTRATIO', 'B', 'LSTAT']\n",
    "vif['VIF factor'] = [variance_inflation_factor(hd_train_sc_tax.values, i) for i in range(hd_train_sc_tax.shape[1])]\n",
    "vif.round(1)"
   ]
  },
  {
   "cell_type": "code",
   "execution_count": 27,
   "id": "58fadc09",
   "metadata": {
    "scrolled": true
   },
   "outputs": [],
   "source": [
    "# 회귀 모델 학습"
   ]
  },
  {
   "cell_type": "code",
   "execution_count": 28,
   "id": "10024043",
   "metadata": {},
   "outputs": [],
   "source": [
    "from sklearn import linear_model\n",
    "\n",
    "lr = linear_model.LinearRegression()\n",
    "model = lr.fit(hd_train_sc_tax, hdt_train_sc)"
   ]
  },
  {
   "cell_type": "code",
   "execution_count": 29,
   "id": "72e645a2",
   "metadata": {},
   "outputs": [
    {
     "data": {
      "text/plain": [
       "LinearRegression()"
      ]
     },
     "execution_count": 29,
     "metadata": {},
     "output_type": "execute_result"
    }
   ],
   "source": [
    "model"
   ]
  },
  {
   "cell_type": "code",
   "execution_count": 30,
   "id": "1f994c14",
   "metadata": {},
   "outputs": [
    {
     "data": {
      "text/plain": [
       "0.7530242318706896"
      ]
     },
     "execution_count": 30,
     "metadata": {},
     "output_type": "execute_result"
    }
   ],
   "source": [
    "# 정확도\n",
    "lr.score(hd_test_sc_tax,hdt_test_sc)"
   ]
  },
  {
   "cell_type": "code",
   "execution_count": 31,
   "id": "771a937c",
   "metadata": {},
   "outputs": [],
   "source": [
    "pred_test = lr.predict(hd_test_sc_tax)\n",
    "err = abs(pred_test - hdt_test_sc)/len(hd_test_sc_tax)"
   ]
  },
  {
   "cell_type": "code",
   "execution_count": 32,
   "id": "08207ed6",
   "metadata": {},
   "outputs": [
    {
     "data": {
      "text/plain": [
       "0.4253557500039553"
      ]
     },
     "execution_count": 32,
     "metadata": {},
     "output_type": "execute_result"
    }
   ],
   "source": [
    "# 오차합\n",
    "err.sum()"
   ]
  },
  {
   "cell_type": "markdown",
   "id": "a514c237",
   "metadata": {},
   "source": [
    "## 상관계수가 높아보이는 변수로 만든 모델"
   ]
  },
  {
   "cell_type": "code",
   "execution_count": 33,
   "id": "667abfc5",
   "metadata": {},
   "outputs": [
    {
     "data": {
      "text/html": [
       "<div>\n",
       "<style scoped>\n",
       "    .dataframe tbody tr th:only-of-type {\n",
       "        vertical-align: middle;\n",
       "    }\n",
       "\n",
       "    .dataframe tbody tr th {\n",
       "        vertical-align: top;\n",
       "    }\n",
       "\n",
       "    .dataframe thead th {\n",
       "        text-align: right;\n",
       "    }\n",
       "</style>\n",
       "<table border=\"1\" class=\"dataframe\">\n",
       "  <thead>\n",
       "    <tr style=\"text-align: right;\">\n",
       "      <th></th>\n",
       "      <th>PTRATIO</th>\n",
       "      <th>LSTAT</th>\n",
       "    </tr>\n",
       "  </thead>\n",
       "  <tbody>\n",
       "    <tr>\n",
       "      <th>42</th>\n",
       "      <td>-0.248270</td>\n",
       "      <td>-0.965653</td>\n",
       "    </tr>\n",
       "    <tr>\n",
       "      <th>58</th>\n",
       "      <td>0.581426</td>\n",
       "      <td>-0.820151</td>\n",
       "    </tr>\n",
       "    <tr>\n",
       "      <th>385</th>\n",
       "      <td>0.811897</td>\n",
       "      <td>2.498677</td>\n",
       "    </tr>\n",
       "    <tr>\n",
       "      <th>78</th>\n",
       "      <td>0.120484</td>\n",
       "      <td>-0.060770</td>\n",
       "    </tr>\n",
       "    <tr>\n",
       "      <th>424</th>\n",
       "      <td>0.811897</td>\n",
       "      <td>0.607153</td>\n",
       "    </tr>\n",
       "    <tr>\n",
       "      <th>...</th>\n",
       "      <td>...</td>\n",
       "      <td>...</td>\n",
       "    </tr>\n",
       "    <tr>\n",
       "      <th>255</th>\n",
       "      <td>-0.939683</td>\n",
       "      <td>-0.488961</td>\n",
       "    </tr>\n",
       "    <tr>\n",
       "      <th>72</th>\n",
       "      <td>0.350955</td>\n",
       "      <td>-1.005839</td>\n",
       "    </tr>\n",
       "    <tr>\n",
       "      <th>396</th>\n",
       "      <td>0.811897</td>\n",
       "      <td>0.913400</td>\n",
       "    </tr>\n",
       "    <tr>\n",
       "      <th>235</th>\n",
       "      <td>-0.478741</td>\n",
       "      <td>-0.263087</td>\n",
       "    </tr>\n",
       "    <tr>\n",
       "      <th>37</th>\n",
       "      <td>0.350955</td>\n",
       "      <td>-0.555476</td>\n",
       "    </tr>\n",
       "  </tbody>\n",
       "</table>\n",
       "<p>404 rows × 2 columns</p>\n",
       "</div>"
      ],
      "text/plain": [
       "      PTRATIO     LSTAT\n",
       "42  -0.248270 -0.965653\n",
       "58   0.581426 -0.820151\n",
       "385  0.811897  2.498677\n",
       "78   0.120484 -0.060770\n",
       "424  0.811897  0.607153\n",
       "..        ...       ...\n",
       "255 -0.939683 -0.488961\n",
       "72   0.350955 -1.005839\n",
       "396  0.811897  0.913400\n",
       "235 -0.478741 -0.263087\n",
       "37   0.350955 -0.555476\n",
       "\n",
       "[404 rows x 2 columns]"
      ]
     },
     "execution_count": 33,
     "metadata": {},
     "output_type": "execute_result"
    }
   ],
   "source": [
    "h_train_2 = hd_train_sc[['PTRATIO','LSTAT']]\n",
    "h_train_2"
   ]
  },
  {
   "cell_type": "code",
   "execution_count": 34,
   "id": "e1656316",
   "metadata": {},
   "outputs": [
    {
     "data": {
      "text/html": [
       "<div>\n",
       "<style scoped>\n",
       "    .dataframe tbody tr th:only-of-type {\n",
       "        vertical-align: middle;\n",
       "    }\n",
       "\n",
       "    .dataframe tbody tr th {\n",
       "        vertical-align: top;\n",
       "    }\n",
       "\n",
       "    .dataframe thead th {\n",
       "        text-align: right;\n",
       "    }\n",
       "</style>\n",
       "<table border=\"1\" class=\"dataframe\">\n",
       "  <thead>\n",
       "    <tr style=\"text-align: right;\">\n",
       "      <th></th>\n",
       "      <th>PTRATIO</th>\n",
       "      <th>LSTAT</th>\n",
       "    </tr>\n",
       "  </thead>\n",
       "  <tbody>\n",
       "    <tr>\n",
       "      <th>307</th>\n",
       "      <td>-0.017799</td>\n",
       "      <td>-0.727307</td>\n",
       "    </tr>\n",
       "    <tr>\n",
       "      <th>343</th>\n",
       "      <td>-0.386553</td>\n",
       "      <td>-0.775808</td>\n",
       "    </tr>\n",
       "    <tr>\n",
       "      <th>47</th>\n",
       "      <td>-0.248270</td>\n",
       "      <td>0.834413</td>\n",
       "    </tr>\n",
       "    <tr>\n",
       "      <th>67</th>\n",
       "      <td>0.212672</td>\n",
       "      <td>-0.648320</td>\n",
       "    </tr>\n",
       "    <tr>\n",
       "      <th>362</th>\n",
       "      <td>0.811897</td>\n",
       "      <td>-0.358702</td>\n",
       "    </tr>\n",
       "    <tr>\n",
       "      <th>...</th>\n",
       "      <td>...</td>\n",
       "      <td>...</td>\n",
       "    </tr>\n",
       "    <tr>\n",
       "      <th>92</th>\n",
       "      <td>-0.109987</td>\n",
       "      <td>-0.640006</td>\n",
       "    </tr>\n",
       "    <tr>\n",
       "      <th>224</th>\n",
       "      <td>-0.478741</td>\n",
       "      <td>-1.197070</td>\n",
       "    </tr>\n",
       "    <tr>\n",
       "      <th>110</th>\n",
       "      <td>1.134557</td>\n",
       "      <td>0.030688</td>\n",
       "    </tr>\n",
       "    <tr>\n",
       "      <th>426</th>\n",
       "      <td>0.811897</td>\n",
       "      <td>0.403450</td>\n",
       "    </tr>\n",
       "    <tr>\n",
       "      <th>443</th>\n",
       "      <td>0.811897</td>\n",
       "      <td>0.841342</td>\n",
       "    </tr>\n",
       "  </tbody>\n",
       "</table>\n",
       "<p>102 rows × 2 columns</p>\n",
       "</div>"
      ],
      "text/plain": [
       "      PTRATIO     LSTAT\n",
       "307 -0.017799 -0.727307\n",
       "343 -0.386553 -0.775808\n",
       "47  -0.248270  0.834413\n",
       "67   0.212672 -0.648320\n",
       "362  0.811897 -0.358702\n",
       "..        ...       ...\n",
       "92  -0.109987 -0.640006\n",
       "224 -0.478741 -1.197070\n",
       "110  1.134557  0.030688\n",
       "426  0.811897  0.403450\n",
       "443  0.811897  0.841342\n",
       "\n",
       "[102 rows x 2 columns]"
      ]
     },
     "execution_count": 34,
     "metadata": {},
     "output_type": "execute_result"
    }
   ],
   "source": [
    "h_test_2 = hd_test_sc[['PTRATIO','LSTAT']]\n",
    "h_test_2"
   ]
  },
  {
   "cell_type": "code",
   "execution_count": 35,
   "id": "626bfe60",
   "metadata": {},
   "outputs": [],
   "source": [
    "# 회귀 모델 학습"
   ]
  },
  {
   "cell_type": "code",
   "execution_count": 36,
   "id": "43ac5057",
   "metadata": {},
   "outputs": [],
   "source": [
    "lr2 = linear_model.LinearRegression()\n",
    "model2 = lr2.fit(h_train_2, hdt_train_sc)"
   ]
  },
  {
   "cell_type": "code",
   "execution_count": 37,
   "id": "634451b0",
   "metadata": {},
   "outputs": [
    {
     "data": {
      "text/plain": [
       "LinearRegression()"
      ]
     },
     "execution_count": 37,
     "metadata": {},
     "output_type": "execute_result"
    }
   ],
   "source": [
    "model2"
   ]
  },
  {
   "cell_type": "code",
   "execution_count": 38,
   "id": "b94c56d0",
   "metadata": {},
   "outputs": [
    {
     "data": {
      "text/plain": [
       "0.5636430970565703"
      ]
     },
     "execution_count": 38,
     "metadata": {},
     "output_type": "execute_result"
    }
   ],
   "source": [
    "# 정확도\n",
    "lr2.score(h_test_2,hdt_test_sc)"
   ]
  },
  {
   "cell_type": "code",
   "execution_count": 40,
   "id": "c8720685",
   "metadata": {},
   "outputs": [],
   "source": [
    "pred_test2 = lr2.predict(h_test_2)\n",
    "err2 = abs(pred_test2 - hdt_test_sc)/len(hd_test_sc_tax)"
   ]
  },
  {
   "cell_type": "code",
   "execution_count": 41,
   "id": "acf0af0d",
   "metadata": {},
   "outputs": [
    {
     "data": {
      "text/plain": [
       "0.4253557500039553"
      ]
     },
     "execution_count": 41,
     "metadata": {},
     "output_type": "execute_result"
    }
   ],
   "source": [
    "# 오차합\n",
    "err.sum()"
   ]
  },
  {
   "cell_type": "markdown",
   "id": "65dfbcdc",
   "metadata": {},
   "source": [
    "## 모든 독립변수 다 넣은 모델"
   ]
  },
  {
   "cell_type": "code",
   "execution_count": 51,
   "id": "bdab157d",
   "metadata": {},
   "outputs": [],
   "source": [
    "lr3 = linear_model.LinearRegression()\n",
    "model3 = lr3.fit(hd_train_sc, hdt_train_sc)"
   ]
  },
  {
   "cell_type": "code",
   "execution_count": 52,
   "id": "4a8fbddd",
   "metadata": {},
   "outputs": [
    {
     "data": {
      "text/plain": [
       "LinearRegression()"
      ]
     },
     "execution_count": 52,
     "metadata": {},
     "output_type": "execute_result"
    }
   ],
   "source": [
    "model3"
   ]
  },
  {
   "cell_type": "code",
   "execution_count": 53,
   "id": "dfe3830c",
   "metadata": {},
   "outputs": [
    {
     "data": {
      "text/plain": [
       "0.7634174432138474"
      ]
     },
     "execution_count": 53,
     "metadata": {},
     "output_type": "execute_result"
    }
   ],
   "source": [
    "# 정확도\n",
    "lr3.score(hd_test_sc,hdt_test_sc)"
   ]
  },
  {
   "cell_type": "code",
   "execution_count": 54,
   "id": "8fc627f9",
   "metadata": {},
   "outputs": [],
   "source": [
    "pred_test3 = lr3.predict(hd_test_sc)\n",
    "err3 = abs(pred_test3 - hdt_test_sc)/len(hd_test_sc_tax)"
   ]
  },
  {
   "cell_type": "code",
   "execution_count": 56,
   "id": "3880bf2d",
   "metadata": {},
   "outputs": [
    {
     "data": {
      "text/plain": [
       "0.41679253528439175"
      ]
     },
     "execution_count": 56,
     "metadata": {},
     "output_type": "execute_result"
    }
   ],
   "source": [
    "# 오차합\n",
    "err3.sum()"
   ]
  },
  {
   "cell_type": "code",
   "execution_count": null,
   "id": "8a7d47b4",
   "metadata": {},
   "outputs": [],
   "source": []
  },
  {
   "cell_type": "code",
   "execution_count": null,
   "id": "eae4714e",
   "metadata": {},
   "outputs": [],
   "source": []
  },
  {
   "cell_type": "code",
   "execution_count": 42,
   "id": "003c6430",
   "metadata": {},
   "outputs": [],
   "source": [
    "# 회귀 계수 확인 (데이터 프레임으로 만들기)"
   ]
  },
  {
   "cell_type": "code",
   "execution_count": 43,
   "id": "99fcabcb",
   "metadata": {},
   "outputs": [
    {
     "name": "stdout",
     "output_type": "stream",
     "text": [
      "[-0.11304877  0.12275577 -0.04032097  0.07273446 -0.26662283  0.24290275\n",
      "  0.01044069 -0.34949212  0.14126584 -0.24744491  0.07573083 -0.43371312]\n"
     ]
    }
   ],
   "source": [
    "h_coefs = pd.DataFrame(zip())"
   ]
  }
 ],
 "metadata": {
  "kernelspec": {
   "display_name": "Python 3 (ipykernel)",
   "language": "python",
   "name": "python3"
  },
  "language_info": {
   "codemirror_mode": {
    "name": "ipython",
    "version": 3
   },
   "file_extension": ".py",
   "mimetype": "text/x-python",
   "name": "python",
   "nbconvert_exporter": "python",
   "pygments_lexer": "ipython3",
   "version": "3.9.7"
  }
 },
 "nbformat": 4,
 "nbformat_minor": 5
}

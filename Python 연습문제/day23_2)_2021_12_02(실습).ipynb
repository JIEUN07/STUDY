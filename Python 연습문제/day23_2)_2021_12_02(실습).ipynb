{
  "nbformat": 4,
  "nbformat_minor": 0,
  "metadata": {
    "colab": {
      "name": "day23_2) 2021-12-02(실습).ipynb",
      "provenance": [],
      "collapsed_sections": []
    },
    "kernelspec": {
      "name": "python3",
      "display_name": "Python 3"
    },
    "language_info": {
      "name": "python"
    }
  },
  "cells": [
    {
      "cell_type": "code",
      "metadata": {
        "id": "bGJge4IHMHBI"
      },
      "source": [
        "import pandas as pd\n",
        "import numpy as np\n",
        "import matplotlib.pyplot as plt\n",
        "from sklearn.neighbors import KNeighborsClassifier"
      ],
      "execution_count": 1,
      "outputs": []
    },
    {
      "cell_type": "code",
      "metadata": {
        "id": "XaUlElO6MI8B"
      },
      "source": [
        "kn = KNeighborsClassifier()"
      ],
      "execution_count": 2,
      "outputs": []
    },
    {
      "cell_type": "code",
      "metadata": {
        "colab": {
          "base_uri": "https://localhost:8080/",
          "height": 424
        },
        "id": "nDl1B2hGMI_B",
        "outputId": "bbed8fcd-4b93-4a86-ca99-3df5f876035c"
      },
      "source": [
        "df = pd.read_csv('citrus.csv')\n",
        "df"
      ],
      "execution_count": 3,
      "outputs": [
        {
          "output_type": "execute_result",
          "data": {
            "text/html": [
              "<div>\n",
              "<style scoped>\n",
              "    .dataframe tbody tr th:only-of-type {\n",
              "        vertical-align: middle;\n",
              "    }\n",
              "\n",
              "    .dataframe tbody tr th {\n",
              "        vertical-align: top;\n",
              "    }\n",
              "\n",
              "    .dataframe thead th {\n",
              "        text-align: right;\n",
              "    }\n",
              "</style>\n",
              "<table border=\"1\" class=\"dataframe\">\n",
              "  <thead>\n",
              "    <tr style=\"text-align: right;\">\n",
              "      <th></th>\n",
              "      <th>name</th>\n",
              "      <th>diameter</th>\n",
              "      <th>weight</th>\n",
              "      <th>red</th>\n",
              "      <th>green</th>\n",
              "      <th>blue</th>\n",
              "    </tr>\n",
              "  </thead>\n",
              "  <tbody>\n",
              "    <tr>\n",
              "      <th>0</th>\n",
              "      <td>orange</td>\n",
              "      <td>2.96</td>\n",
              "      <td>86.76</td>\n",
              "      <td>172</td>\n",
              "      <td>85</td>\n",
              "      <td>2</td>\n",
              "    </tr>\n",
              "    <tr>\n",
              "      <th>1</th>\n",
              "      <td>orange</td>\n",
              "      <td>3.91</td>\n",
              "      <td>88.05</td>\n",
              "      <td>166</td>\n",
              "      <td>78</td>\n",
              "      <td>3</td>\n",
              "    </tr>\n",
              "    <tr>\n",
              "      <th>2</th>\n",
              "      <td>orange</td>\n",
              "      <td>4.42</td>\n",
              "      <td>95.17</td>\n",
              "      <td>156</td>\n",
              "      <td>81</td>\n",
              "      <td>2</td>\n",
              "    </tr>\n",
              "    <tr>\n",
              "      <th>3</th>\n",
              "      <td>orange</td>\n",
              "      <td>4.47</td>\n",
              "      <td>95.60</td>\n",
              "      <td>163</td>\n",
              "      <td>81</td>\n",
              "      <td>4</td>\n",
              "    </tr>\n",
              "    <tr>\n",
              "      <th>4</th>\n",
              "      <td>orange</td>\n",
              "      <td>4.48</td>\n",
              "      <td>95.76</td>\n",
              "      <td>161</td>\n",
              "      <td>72</td>\n",
              "      <td>9</td>\n",
              "    </tr>\n",
              "    <tr>\n",
              "      <th>...</th>\n",
              "      <td>...</td>\n",
              "      <td>...</td>\n",
              "      <td>...</td>\n",
              "      <td>...</td>\n",
              "      <td>...</td>\n",
              "      <td>...</td>\n",
              "    </tr>\n",
              "    <tr>\n",
              "      <th>9995</th>\n",
              "      <td>grapefruit</td>\n",
              "      <td>15.35</td>\n",
              "      <td>253.89</td>\n",
              "      <td>149</td>\n",
              "      <td>77</td>\n",
              "      <td>20</td>\n",
              "    </tr>\n",
              "    <tr>\n",
              "      <th>9996</th>\n",
              "      <td>grapefruit</td>\n",
              "      <td>15.41</td>\n",
              "      <td>254.67</td>\n",
              "      <td>148</td>\n",
              "      <td>68</td>\n",
              "      <td>7</td>\n",
              "    </tr>\n",
              "    <tr>\n",
              "      <th>9997</th>\n",
              "      <td>grapefruit</td>\n",
              "      <td>15.59</td>\n",
              "      <td>256.50</td>\n",
              "      <td>168</td>\n",
              "      <td>82</td>\n",
              "      <td>20</td>\n",
              "    </tr>\n",
              "    <tr>\n",
              "      <th>9998</th>\n",
              "      <td>grapefruit</td>\n",
              "      <td>15.92</td>\n",
              "      <td>260.14</td>\n",
              "      <td>142</td>\n",
              "      <td>72</td>\n",
              "      <td>11</td>\n",
              "    </tr>\n",
              "    <tr>\n",
              "      <th>9999</th>\n",
              "      <td>grapefruit</td>\n",
              "      <td>16.45</td>\n",
              "      <td>261.51</td>\n",
              "      <td>152</td>\n",
              "      <td>74</td>\n",
              "      <td>2</td>\n",
              "    </tr>\n",
              "  </tbody>\n",
              "</table>\n",
              "<p>10000 rows × 6 columns</p>\n",
              "</div>"
            ],
            "text/plain": [
              "            name  diameter  weight  red  green  blue\n",
              "0         orange      2.96   86.76  172     85     2\n",
              "1         orange      3.91   88.05  166     78     3\n",
              "2         orange      4.42   95.17  156     81     2\n",
              "3         orange      4.47   95.60  163     81     4\n",
              "4         orange      4.48   95.76  161     72     9\n",
              "...          ...       ...     ...  ...    ...   ...\n",
              "9995  grapefruit     15.35  253.89  149     77    20\n",
              "9996  grapefruit     15.41  254.67  148     68     7\n",
              "9997  grapefruit     15.59  256.50  168     82    20\n",
              "9998  grapefruit     15.92  260.14  142     72    11\n",
              "9999  grapefruit     16.45  261.51  152     74     2\n",
              "\n",
              "[10000 rows x 6 columns]"
            ]
          },
          "metadata": {},
          "execution_count": 3
        }
      ]
    },
    {
      "cell_type": "code",
      "metadata": {
        "colab": {
          "base_uri": "https://localhost:8080/"
        },
        "id": "Tec0MaKKMJBQ",
        "outputId": "95d2154a-51eb-42c2-a385-afbe711b56f2"
      },
      "source": [
        "df.isna().sum()"
      ],
      "execution_count": 4,
      "outputs": [
        {
          "output_type": "execute_result",
          "data": {
            "text/plain": [
              "name        0\n",
              "diameter    0\n",
              "weight      0\n",
              "red         0\n",
              "green       0\n",
              "blue        0\n",
              "dtype: int64"
            ]
          },
          "metadata": {},
          "execution_count": 4
        }
      ]
    },
    {
      "cell_type": "code",
      "metadata": {
        "id": "_gaON5zPMo0R"
      },
      "source": [
        "orange_diameter = df.loc[df.name == 'orange', 'diameter']\n",
        "orange_weight = df.loc[df.name == 'orange', 'weight']\n",
        "grapefruit_diameter = df.loc[df.name == 'grapefruit', 'diameter']\n",
        "grapefruit_weight = df.loc[df.name == 'grapefruit', 'weight']"
      ],
      "execution_count": 5,
      "outputs": []
    },
    {
      "cell_type": "markdown",
      "metadata": {
        "id": "QMkKx1IhMj7j"
      },
      "source": [
        "산점도"
      ]
    },
    {
      "cell_type": "code",
      "metadata": {
        "colab": {
          "base_uri": "https://localhost:8080/",
          "height": 265
        },
        "id": "u5dfcClcMJEB",
        "outputId": "43c3b46b-ec02-45b5-cad1-aaf17256b3d4"
      },
      "source": [
        "plt.scatter(orange_diameter, orange_weight)\n",
        "plt.scatter(grapefruit_diameter, grapefruit_weight)\n",
        "plt.show()"
      ],
      "execution_count": 6,
      "outputs": [
        {
          "output_type": "display_data",
          "data": {
            "image/png": "[encoded data removed]",
            "text/plain": [
              "<Figure size 432x288 with 1 Axes>"
            ]
          },
          "metadata": {
            "needs_background": "light"
          }
        }
      ]
    },
    {
      "cell_type": "code",
      "metadata": {
        "colab": {
          "base_uri": "https://localhost:8080/"
        },
        "id": "h1tfazXOMJJQ",
        "outputId": "a3a1871e-1fc9-47dc-946c-93eb77fc46e5"
      },
      "source": [
        "data_target = [1]*len(orange_diameter)+ [0]*len(grapefruit_diameter)\n",
        "print(data_target)\n",
        "print(len(data_target))"
      ],
      "execution_count": 7,
      "outputs": [
        {
          "output_type": "stream",
          "name": "stdout",
          "text": [
            "[1, 1, 1, 1, 1, 1, 1, 1, 1, 1, 1, 1, 1, 1, 1, 1, 1, 1, 1, 1, 1, 1, 1, 1, 1, 1, 1, 1, 1, 1, 1, 1, 1, 1, 1, 1, 1, 1, 1, 1, 1, 1, 1, 1, 1, 1, 1, 1, 1, 1, 1, 1, 1, 1, 1, 1, 1, 1, 1, 1, 1, 1, 1, 1, 1, 1, 1, 1, 1, 1, 1, 1, 1, 1, 1, 1, 1, 1, 1, 1, 1, 1, 1, 1, 1, 1, 1, 1, 1, 1, 1, 1, 1, 1, 1, 1, 1, 1, 1, 1, 1, 1, 1, 1, 1, 1, 1, 1, 1, 1, 1, 1, 1, 1, 1, 1, 1, 1, 1, 1, 1, 1, 1, 1, 1, 1, 1, 1, 1, 1, 1, 1, 1, 1, 1, 1, 1, 1, 1, 1, 1, 1, 1, 1, 1, 1, 1, 1, 1, 1, 1, 1, 1, 1, 1, 1, 1, 1, 1, 1, 1, 1, 1, 1, 1, 1, 1, 1, 1, 1, 1, 1, 1, 1, 1, 1, 1, 1, 1, 1, 1, 1, 1, 1, 1, 1, 1, 1, 1, 1, 1, 1, 1, 1, 1, 1, 1, 1, 1, 1, 1, 1, 1, 1, 1, 1, 1, 1, 1, 1, 1, 1, 1, 1, 1, 1, 1, 1, 1, 1, 1, 1, 1, 1, 1, 1, 1, 1, 1, 1, 1, 1, 1, 1, 1, 1, 1, 1, 1, 1, 1, 1, 1, 1, 1, 1, 1, 1, 1, 1, 1, 1, 1, 1, 1, 1, 1, 1, 1, 1, 1, 1, 1, 1, 1, 1, 1, 1, 1, 1, 1, 1, 1, 1, 1, 1, 1, 1, 1, 1, 1, 1, 1, 1, 1, 1, 1, 1, 1, 1, 1, 1, 1, 1, 1, 1, 1, 1, 1, 1, 1, 1, 1, 1, 1, 1, 1, 1, 1, 1, 1, 1, 1, 1, 1, 1, 1, 1, 1, 1, 1, 1, 1, 1, 1, 1, 1, 1, 1, 1, 1, 1, 1, 1, 1, 1, 1, 1, 1, 1, 1, 1, 1, 1, 1, 1, 1, 1, 1, 1, 1, 1, 1, 1, 1, 1, 1, 1, 1, 1, 1, 1, 1, 1, 1, 1, 1, 1, 1, 1, 1, 1, 1, 1, 1, 1, 1, 1, 1, 1, 1, 1, 1, 1, 1, 1, 1, 1, 1, 1, 1, 1, 1, 1, 1, 1, 1, 1, 1, 1, 1, 1, 1, 1, 1, 1, 1, 1, 1, 1, 1, 1, 1, 1, 1, 1, 1, 1, 1, 1, 1, 1, 1, 1, 1, 1, 1, 1, 1, 1, 1, 1, 1, 1, 1, 1, 1, 1, 1, 1, 1, 1, 1, 1, 1, 1, 1, 1, 1, 1, 1, 1, 1, 1, 1, 1, 1, 1, 1, 1, 1, 1, 1, 1, 1, 1, 1, 1, 1, 1, 1, 1, 1, 1, 1, 1, 1, 1, 1, 1, 1, 1, 1, 1, 1, 1, 1, 1, 1, 1, 1, 1, 1, 1, 1, 1, 1, 1, 1, 1, 1, 1, 1, 1, 1, 1, 1, 1, 1, 1, 1, 1, 1, 1, 1, 1, 1, 1, 1, 1, 1, 1, 1, 1, 1, 1, 1, 1, 1, 1, 1, 1, 1, 1, 1, 1, 1, 1, 1, 1, 1, 1, 1, 1, 1, 1, 1, 1, 1, 1, 1, 1, 1, 1, 1, 1, 1, 1, 1, 1, 1, 1, 1, 1, 1, 1, 1, 1, 1, 1, 1, 1, 1, 1, 1, 1, 1, 1, 1, 1, 1, 1, 1, 1, 1, 1, 1, 1, 1, 1, 1, 1, 1, 1, 1, 1, 1, 1, 1, 1, 1, 1, 1, 1, 1, 1, 1, 1, 1, 1, 1, 1, 1, 1, 1, 1, 1, 1, 1, 1, 1, 1, 1, 1, 1, 1, 1, 1, 1, 1, 1, 1, 1, 1, 1, 1, 1, 1, 1, 1, 1, 1, 1, 1, 1, 1, 1, 1, 1, 1, 1, 1, 1, 1, 1, 1, 1, 1, 1, 1, 1, 1, 1, 1, 1, 1, 1, 1, 1, 1, 1, 1, 1, 1, 1, 1, 1, 1, 1, 1, 1, 1, 1, 1, 1, 1, 1, 1, 1, 1, 1, 1, 1, 1, 1, 1, 1, 1, 1, 1, 1, 1, 1, 1, 1, 1, 1, 1, 1, 1, 1, 1, 1, 1, 1, 1, 1, 1, 1, 1, 1, 1, 1, 1, 1, 1, 1, 1, 1, 1, 1, 1, 1, 1, 1, 1, 1, 1, 1, 1, 1, 1, 1, 1, 1, 1, 1, 1, 1, 1, 1, 1, 1, 1, 1, 1, 1, 1, 1, 1, 1, 1, 1, 1, 1, 1, 1, 1, 1, 1, 1, 1, 1, 1, 1, 1, 1, 1, 1, 1, 1, 1, 1, 1, 1, 1, 1, 1, 1, 1, 1, 1, 1, 1, 1, 1, 1, 1, 1, 1, 1, 1, 1, 1, 1, 1, 1, 1, 1, 1, 1, 1, 1, 1, 1, 1, 1, 1, 1, 1, 1, 1, 1, 1, 1, 1, 1, 1, 1, 1, 1, 1, 1, 1, 1, 1, 1, 1, 1, 1, 1, 1, 1, 1, 1, 1, 1, 1, 1, 1, 1, 1, 1, 1, 1, 1, 1, 1, 1, 1, 1, 1, 1, 1, 1, 1, 1, 1, 1, 1, 1, 1, 1, 1, 1, 1, 1, 1, 1, 1, 1, 1, 1, 1, 1, 1, 1, 1, 1, 1, 1, 1, 1, 1, 1, 1, 1, 1, 1, 1, 1, 1, 1, 1, 1, 1, 1, 1, 1, 1, 1, 1, 1, 1, 1, 1, 1, 1, 1, 1, 1, 1, 1, 1, 1, 1, 1, 1, 1, 1, 1, 1, 1, 1, 1, 1, 1, 1, 1, 1, 1, 1, 1, 1, 1, 1, 1, 1, 1, 1, 1, 1, 1, 1, 1, 1, 1, 1, 1, 1, 1, 1, 1, 1, 1, 1, 1, 1, 1, 1, 1, 1, 1, 1, 1, 1, 1, 1, 1, 1, 1, 1, 1, 1, 1, 1, 1, 1, 1, 1, 1, 1, 1, 1, 1, 1, 1, 1, 1, 1, 1, 1, 1, 1, 1, 1, 1, 1, 1, 1, 1, 1, 1, 1, 1, 1, 1, 1, 1, 1, 1, 1, 1, 1, 1, 1, 1, 1, 1, 1, 1, 1, 1, 1, 1, 1, 1, 1, 1, 1, 1, 1, 1, 1, 1, 1, 1, 1, 1, 1, 1, 1, 1, 1, 1, 1, 1, 1, 1, 1, 1, 1, 1, 1, 1, 1, 1, 1, 1, 1, 1, 1, 1, 1, 1, 1, 1, 1, 1, 1, 1, 1, 1, 1, 1, 1, 1, 1, 1, 1, 1, 1, 1, 1, 1, 1, 1, 1, 1, 1, 1, 1, 1, 1, 1, 1, 1, 1, 1, 1, 1, 1, 1, 1, 1, 1, 1, 1, 1, 1, 1, 1, 1, 1, 1, 1, 1, 1, 1, 1, 1, 1, 1, 1, 1, 1, 1, 1, 1, 1, 1, 1, 1, 1, 1, 1, 1, 1, 1, 1, 1, 1, 1, 1, 1, 1, 1, 1, 1, 1, 1, 1, 1, 1, 1, 1, 1, 1, 1, 1, 1, 1, 1, 1, 1, 1, 1, 1, 1, 1, 1, 1, 1, 1, 1, 1, 1, 1, 1, 1, 1, 1, 1, 1, 1, 1, 1, 1, 1, 1, 1, 1, 1, 1, 1, 1, 1, 1, 1, 1, 1, 1, 1, 1, 1, 1, 1, 1, 1, 1, 1, 1, 1, 1, 1, 1, 1, 1, 1, 1, 1, 1, 1, 1, 1, 1, 1, 1, 1, 1, 1, 1, 1, 1, 1, 1, 1, 1, 1, 1, 1, 1, 1, 1, 1, 1, 1, 1, 1, 1, 1, 1, 1, 1, 1, 1, 1, 1, 1, 1, 1, 1, 1, 1, 1, 1, 1, 1, 1, 1, 1, 1, 1, 1, 1, 1, 1, 1, 1, 1, 1, 1, 1, 1, 1, 1, 1, 1, 1, 1, 1, 1, 1, 1, 1, 1, 1, 1, 1, 1, 1, 1, 1, 1, 1, 1, 1, 1, 1, 1, 1, 1, 1, 1, 1, 1, 1, 1, 1, 1, 1, 1, 1, 1, 1, 1, 1, 1, 1, 1, 1, 1, 1, 1, 1, 1, 1, 1, 1, 1, 1, 1, 1, 1, 1, 1, 1, 1, 1, 1, 1, 1, 1, 1, 1, 1, 1, 1, 1, 1, 1, 1, 1, 1, 1, 1, 1, 1, 1, 1, 1, 1, 1, 1, 1, 1, 1, 1, 1, 1, 1, 1, 1, 1, 1, 1, 1, 1, 1, 1, 1, 1, 1, 1, 1, 1, 1, 1, 1, 1, 1, 1, 1, 1, 1, 1, 1, 1, 1, 1, 1, 1, 1, 1, 1, 1, 1, 1, 1, 1, 1, 1, 1, 1, 1, 1, 1, 1, 1, 1, 1, 1, 1, 1, 1, 1, 1, 1, 1, 1, 1, 1, 1, 1, 1, 1, 1, 1, 1, 1, 1, 1, 1, 1, 1, 1, 1, 1, 1, 1, 1, 1, 1, 1, 1, 1, 1, 1, 1, 1, 1, 1, 1, 1, 1, 1, 1, 1, 1, 1, 1, 1, 1, 1, 1, 1, 1, 1, 1, 1, 1, 1, 1, 1, 1, 1, 1, 1, 1, 1, 1, 1, 1, 1, 1, 1, 1, 1, 1, 1, 1, 1, 1, 1, 1, 1, 1, 1, 1, 1, 1, 1, 1, 1, 1, 1, 1, 1, 1, 1, 1, 1, 1, 1, 1, 1, 1, 1, 1, 1, 1, 1, 1, 1, 1, 1, 1, 1, 1, 1, 1, 1, 1, 1, 1, 1, 1, 1, 1, 1, 1, 1, 1, 1, 1, 1, 1, 1, 1, 1, 1, 1, 1, 1, 1, 1, 1, 1, 1, 1, 1, 1, 1, 1, 1, 1, 1, 1, 1, 1, 1, 1, 1, 1, 1, 1, 1, 1, 1, 1, 1, 1, 1, 1, 1, 1, 1, 1, 1, 1, 1, 1, 1, 1, 1, 1, 1, 1, 1, 1, 1, 1, 1, 1, 1, 1, 1, 1, 1, 1, 1, 1, 1, 1, 1, 1, 1, 1, 1, 1, 1, 1, 1, 1, 1, 1, 1, 1, 1, 1, 1, 1, 1, 1, 1, 1, 1, 1, 1, 1, 1, 1, 1, 1, 1, 1, 1, 1, 1, 1, 1, 1, 1, 1, 1, 1, 1, 1, 1, 1, 1, 1, 1, 1, 1, 1, 1, 1, 1, 1, 1, 1, 1, 1, 1, 1, 1, 1, 1, 1, 1, 1, 1, 1, 1, 1, 1, 1, 1, 1, 1, 1, 1, 1, 1, 1, 1, 1, 1, 1, 1, 1, 1, 1, 1, 1, 1, 1, 1, 1, 1, 1, 1, 1, 1, 1, 1, 1, 1, 1, 1, 1, 1, 1, 1, 1, 1, 1, 1, 1, 1, 1, 1, 1, 1, 1, 1, 1, 1, 1, 1, 1, 1, 1, 1, 1, 1, 1, 1, 1, 1, 1, 1, 1, 1, 1, 1, 1, 1, 1, 1, 1, 1, 1, 1, 1, 1, 1, 1, 1, 1, 1, 1, 1, 1, 1, 1, 1, 1, 1, 1, 1, 1, 1, 1, 1, 1, 1, 1, 1, 1, 1, 1, 1, 1, 1, 1, 1, 1, 1, 1, 1, 1, 1, 1, 1, 1, 1, 1, 1, 1, 1, 1, 1, 1, 1, 1, 1, 1, 1, 1, 1, 1, 1, 1, 1, 1, 1, 1, 1, 1, 1, 1, 1, 1, 1, 1, 1, 1, 1, 1, 1, 1, 1, 1, 1, 1, 1, 1, 1, 1, 1, 1, 1, 1, 1, 1, 1, 1, 1, 1, 1, 1, 1, 1, 1, 1, 1, 1, 1, 1, 1, 1, 1, 1, 1, 1, 1, 1, 1, 1, 1, 1, 1, 1, 1, 1, 1, 1, 1, 1, 1, 1, 1, 1, 1, 1, 1, 1, 1, 1, 1, 1, 1, 1, 1, 1, 1, 1, 1, 1, 1, 1, 1, 1, 1, 1, 1, 1, 1, 1, 1, 1, 1, 1, 1, 1, 1, 1, 1, 1, 1, 1, 1, 1, 1, 1, 1, 1, 1, 1, 1, 1, 1, 1, 1, 1, 1, 1, 1, 1, 1, 1, 1, 1, 1, 1, 1, 1, 1, 1, 1, 1, 1, 1, 1, 1, 1, 1, 1, 1, 1, 1, 1, 1, 1, 1, 1, 1, 1, 1, 1, 1, 1, 1, 1, 1, 1, 1, 1, 1, 1, 1, 1, 1, 1, 1, 1, 1, 1, 1, 1, 1, 1, 1, 1, 1, 1, 1, 1, 1, 1, 1, 1, 1, 1, 1, 1, 1, 1, 1, 1, 1, 1, 1, 1, 1, 1, 1, 1, 1, 1, 1, 1, 1, 1, 1, 1, 1, 1, 1, 1, 1, 1, 1, 1, 1, 1, 1, 1, 1, 1, 1, 1, 1, 1, 1, 1, 1, 1, 1, 1, 1, 1, 1, 1, 1, 1, 1, 1, 1, 1, 1, 1, 1, 1, 1, 1, 1, 1, 1, 1, 1, 1, 1, 1, 1, 1, 1, 1, 1, 1, 1, 1, 1, 1, 1, 1, 1, 1, 1, 1, 1, 1, 1, 1, 1, 1, 1, 1, 1, 1, 1, 1, 1, 1, 1, 1, 1, 1, 1, 1, 1, 1, 1, 1, 1, 1, 1, 1, 1, 1, 1, 1, 1, 1, 1, 1, 1, 1, 1, 1, 1, 1, 1, 1, 1, 1, 1, 1, 1, 1, 1, 1, 1, 1, 1, 1, 1, 1, 1, 1, 1, 1, 1, 1, 1, 1, 1, 1, 1, 1, 1, 1, 1, 1, 1, 1, 1, 1, 1, 1, 1, 1, 1, 1, 1, 1, 1, 1, 1, 1, 1, 1, 1, 1, 1, 1, 1, 1, 1, 1, 1, 1, 1, 1, 1, 1, 1, 1, 1, 1, 1, 1, 1, 1, 1, 1, 1, 1, 1, 1, 1, 1, 1, 1, 1, 1, 1, 1, 1, 1, 1, 1, 1, 1, 1, 1, 1, 1, 1, 1, 1, 1, 1, 1, 1, 1, 1, 1, 1, 1, 1, 1, 1, 1, 1, 1, 1, 1, 1, 1, 1, 1, 1, 1, 1, 1, 1, 1, 1, 1, 1, 1, 1, 1, 1, 1, 1, 1, 1, 1, 1, 1, 1, 1, 1, 1, 1, 1, 1, 1, 1, 1, 1, 1, 1, 1, 1, 1, 1, 1, 1, 1, 1, 1, 1, 1, 1, 1, 1, 1, 1, 1, 1, 1, 1, 1, 1, 1, 1, 1, 1, 1, 1, 1, 1, 1, 1, 1, 1, 1, 1, 1, 1, 1, 1, 1, 1, 1, 1, 1, 1, 1, 1, 1, 1, 1, 1, 1, 1, 1, 1, 1, 1, 1, 1, 1, 1, 1, 1, 1, 1, 1, 1, 1, 1, 1, 1, 1, 1, 1, 1, 1, 1, 1, 1, 1, 1, 1, 1, 1, 1, 1, 1, 1, 1, 1, 1, 1, 1, 1, 1, 1, 1, 1, 1, 1, 1, 1, 1, 1, 1, 1, 1, 1, 1, 1, 1, 1, 1, 1, 1, 1, 1, 1, 1, 1, 1, 1, 1, 1, 1, 1, 1, 1, 1, 1, 1, 1, 1, 1, 1, 1, 1, 1, 1, 1, 1, 1, 1, 1, 1, 1, 1, 1, 1, 1, 1, 1, 1, 1, 1, 1, 1, 1, 1, 1, 1, 1, 1, 1, 1, 1, 1, 1, 1, 1, 1, 1, 1, 1, 1, 1, 1, 1, 1, 1, 1, 1, 1, 1, 1, 1, 1, 1, 1, 1, 1, 1, 1, 1, 1, 1, 1, 1, 1, 1, 1, 1, 1, 1, 1, 1, 1, 1, 1, 1, 1, 1, 1, 1, 1, 1, 1, 1, 1, 1, 1, 1, 1, 1, 1, 1, 1, 1, 1, 1, 1, 1, 1, 1, 1, 1, 1, 1, 1, 1, 1, 1, 1, 1, 1, 1, 1, 1, 1, 1, 1, 1, 1, 1, 1, 1, 1, 1, 1, 1, 1, 1, 1, 1, 1, 1, 1, 1, 1, 1, 1, 1, 1, 1, 1, 1, 1, 1, 1, 1, 1, 1, 1, 1, 1, 1, 1, 1, 1, 1, 1, 1, 1, 1, 1, 1, 1, 1, 1, 1, 1, 1, 1, 1, 1, 1, 1, 1, 1, 1, 1, 1, 1, 1, 1, 1, 1, 1, 1, 1, 1, 1, 1, 1, 1, 1, 1, 1, 1, 1, 1, 1, 1, 1, 1, 1, 1, 1, 1, 1, 1, 1, 1, 1, 1, 1, 1, 1, 1, 1, 1, 1, 1, 1, 1, 1, 1, 1, 1, 1, 1, 1, 1, 1, 1, 1, 1, 1, 1, 1, 1, 1, 1, 1, 1, 1, 1, 1, 1, 1, 1, 1, 1, 1, 1, 1, 1, 1, 1, 1, 1, 1, 1, 1, 1, 1, 1, 1, 1, 1, 1, 1, 1, 1, 1, 1, 1, 1, 1, 1, 1, 1, 1, 1, 1, 1, 1, 1, 1, 1, 1, 1, 1, 1, 1, 1, 1, 1, 1, 1, 1, 1, 1, 1, 1, 1, 1, 1, 1, 1, 1, 1, 1, 1, 1, 1, 1, 1, 1, 1, 1, 1, 1, 1, 1, 1, 1, 1, 1, 1, 1, 1, 1, 1, 1, 1, 1, 1, 1, 1, 1, 1, 1, 1, 1, 1, 1, 1, 1, 1, 1, 1, 1, 1, 1, 1, 1, 1, 1, 1, 1, 1, 1, 1, 1, 1, 1, 1, 1, 1, 1, 1, 1, 1, 1, 1, 1, 1, 1, 1, 1, 1, 1, 1, 1, 1, 1, 1, 1, 1, 1, 1, 1, 1, 1, 1, 1, 1, 1, 1, 1, 1, 1, 1, 1, 1, 1, 1, 1, 1, 1, 1, 1, 1, 1, 1, 1, 1, 1, 1, 1, 1, 1, 1, 1, 1, 1, 1, 1, 1, 1, 1, 1, 1, 1, 1, 1, 1, 1, 1, 1, 1, 1, 1, 1, 1, 1, 1, 1, 1, 1, 1, 1, 1, 1, 1, 1, 1, 1, 1, 1, 1, 1, 1, 1, 1, 1, 1, 1, 1, 1, 1, 1, 1, 1, 1, 1, 1, 1, 1, 1, 1, 1, 1, 1, 1, 1, 1, 1, 1, 1, 1, 1, 1, 1, 1, 1, 1, 1, 1, 1, 1, 1, 1, 1, 1, 1, 1, 1, 1, 1, 1, 1, 1, 1, 1, 1, 1, 1, 1, 1, 1, 1, 1, 1, 1, 1, 1, 1, 1, 1, 1, 1, 1, 1, 1, 1, 1, 1, 1, 1, 1, 1, 1, 1, 1, 1, 1, 1, 1, 1, 1, 1, 1, 1, 1, 1, 1, 1, 1, 1, 1, 1, 1, 1, 1, 1, 1, 1, 1, 1, 1, 1, 1, 1, 1, 1, 1, 1, 1, 1, 1, 1, 1, 1, 1, 1, 1, 1, 1, 1, 1, 1, 1, 1, 1, 1, 1, 1, 1, 1, 1, 1, 1, 1, 1, 1, 1, 1, 1, 1, 1, 1, 1, 1, 1, 1, 1, 1, 1, 1, 1, 1, 1, 1, 1, 1, 1, 1, 1, 1, 1, 1, 1, 1, 1, 1, 1, 1, 1, 1, 1, 1, 1, 1, 1, 1, 1, 1, 1, 1, 1, 1, 1, 1, 1, 1, 1, 1, 1, 1, 1, 1, 1, 1, 1, 1, 1, 1, 1, 1, 1, 1, 1, 1, 1, 1, 1, 1, 1, 1, 1, 1, 1, 1, 1, 1, 1, 1, 1, 1, 1, 1, 1, 1, 1, 1, 1, 1, 1, 1, 1, 1, 1, 1, 1, 1, 1, 1, 1, 1, 1, 1, 1, 1, 1, 1, 1, 1, 1, 1, 1, 1, 1, 1, 1, 1, 1, 1, 1, 1, 1, 1, 1, 1, 1, 1, 1, 1, 1, 1, 1, 1, 1, 1, 1, 1, 1, 1, 1, 1, 1, 1, 1, 1, 1, 1, 1, 1, 1, 1, 1, 1, 1, 1, 1, 1, 1, 1, 1, 1, 1, 1, 1, 1, 1, 1, 1, 1, 1, 1, 1, 1, 1, 1, 1, 1, 1, 1, 1, 1, 1, 1, 1, 1, 1, 1, 1, 1, 1, 1, 1, 1, 1, 1, 1, 1, 1, 1, 1, 1, 1, 1, 1, 1, 1, 1, 1, 1, 1, 1, 1, 1, 1, 1, 1, 1, 1, 1, 1, 1, 1, 1, 1, 1, 1, 1, 1, 1, 1, 1, 1, 1, 1, 1, 1, 1, 1, 1, 1, 1, 1, 1, 1, 1, 1, 1, 1, 1, 1, 1, 1, 1, 1, 1, 1, 1, 1, 1, 1, 1, 1, 1, 1, 1, 1, 1, 1, 1, 1, 1, 1, 1, 1, 1, 1, 1, 1, 1, 1, 1, 1, 1, 1, 1, 1, 1, 1, 1, 1, 1, 1, 1, 1, 1, 1, 1, 1, 1, 1, 1, 1, 1, 1, 1, 1, 1, 1, 1, 1, 1, 1, 1, 1, 1, 1, 1, 1, 1, 1, 1, 1, 1, 1, 1, 1, 1, 1, 1, 1, 1, 1, 1, 1, 1, 1, 1, 1, 1, 1, 1, 1, 1, 1, 1, 1, 1, 1, 1, 1, 1, 1, 1, 1, 1, 1, 1, 1, 1, 1, 1, 1, 1, 1, 1, 1, 1, 1, 1, 1, 1, 1, 1, 1, 1, 1, 1, 1, 1, 1, 1, 1, 1, 1, 1, 1, 1, 1, 1, 1, 1, 1, 1, 1, 1, 1, 1, 1, 1, 1, 1, 1, 1, 1, 1, 1, 1, 1, 1, 1, 1, 1, 1, 1, 1, 1, 1, 1, 1, 1, 1, 1, 1, 1, 1, 1, 1, 1, 1, 1, 1, 1, 1, 1, 1, 1, 1, 1, 1, 1, 1, 1, 1, 1, 1, 1, 1, 1, 1, 1, 1, 1, 1, 1, 1, 1, 1, 1, 1, 1, 1, 1, 1, 1, 1, 1, 1, 1, 1, 1, 1, 1, 1, 1, 1, 1, 1, 1, 1, 1, 1, 1, 1, 1, 1, 1, 1, 1, 1, 1, 1, 1, 1, 1, 1, 1, 1, 1, 1, 1, 1, 1, 1, 1, 1, 1, 1, 1, 1, 1, 1, 1, 1, 1, 1, 1, 1, 1, 1, 1, 1, 1, 1, 1, 1, 1, 1, 1, 1, 1, 1, 1, 1, 1, 1, 1, 1, 1, 1, 1, 1, 1, 1, 1, 1, 1, 1, 1, 1, 1, 1, 1, 1, 1, 1, 1, 1, 1, 1, 1, 1, 1, 1, 1, 1, 1, 1, 1, 1, 1, 1, 1, 1, 1, 1, 1, 1, 1, 1, 1, 1, 1, 1, 1, 1, 1, 1, 1, 1, 1, 1, 1, 1, 1, 1, 1, 1, 1, 1, 1, 1, 1, 1, 1, 1, 1, 1, 1, 1, 1, 1, 1, 1, 1, 1, 1, 1, 1, 1, 1, 1, 1, 1, 1, 1, 1, 1, 1, 1, 1, 1, 1, 1, 1, 1, 1, 1, 1, 1, 1, 1, 1, 1, 1, 1, 1, 1, 1, 1, 1, 1, 1, 1, 1, 1, 1, 1, 1, 1, 1, 1, 1, 1, 1, 1, 1, 1, 1, 1, 1, 1, 1, 1, 1, 1, 1, 1, 1, 1, 1, 1, 1, 1, 1, 1, 1, 1, 1, 1, 1, 1, 1, 1, 1, 1, 1, 1, 1, 1, 1, 1, 1, 1, 1, 1, 1, 1, 1, 1, 1, 1, 1, 1, 1, 1, 1, 1, 1, 1, 1, 1, 1, 1, 1, 1, 1, 1, 1, 1, 1, 1, 1, 1, 1, 1, 1, 1, 1, 1, 1, 1, 1, 1, 1, 1, 1, 1, 1, 1, 1, 1, 1, 1, 1, 1, 1, 1, 1, 1, 1, 1, 1, 1, 1, 1, 1, 1, 1, 1, 1, 1, 1, 1, 1, 1, 1, 1, 1, 1, 1, 1, 1, 1, 1, 1, 1, 1, 1, 1, 1, 1, 1, 1, 1, 1, 1, 1, 1, 1, 1, 1, 1, 1, 1, 1, 1, 1, 1, 1, 1, 1, 1, 1, 1, 1, 1, 1, 1, 1, 1, 1, 1, 1, 1, 1, 1, 1, 1, 1, 1, 1, 1, 1, 1, 1, 1, 1, 1, 1, 1, 1, 1, 1, 1, 1, 1, 1, 1, 1, 1, 1, 1, 1, 1, 1, 1, 1, 1, 1, 1, 1, 1, 1, 1, 1, 1, 1, 1, 1, 1, 1, 1, 1, 1, 1, 1, 1, 1, 1, 1, 1, 1, 1, 1, 1, 1, 1, 1, 1, 1, 1, 1, 1, 1, 1, 1, 1, 1, 1, 1, 1, 1, 1, 1, 1, 1, 1, 1, 1, 1, 1, 1, 1, 1, 1, 1, 1, 1, 1, 1, 1, 1, 1, 1, 1, 1, 1, 1, 1, 1, 1, 1, 1, 1, 1, 1, 1, 1, 1, 1, 1, 1, 1, 1, 1, 1, 1, 1, 1, 1, 1, 1, 1, 1, 1, 1, 1, 1, 1, 1, 1, 1, 1, 1, 1, 1, 1, 1, 1, 1, 1, 1, 1, 1, 1, 1, 1, 1, 1, 1, 1, 1, 1, 1, 1, 1, 1, 1, 1, 1, 1, 1, 1, 1, 1, 1, 1, 1, 1, 1, 1, 1, 1, 1, 1, 1, 1, 1, 1, 1, 1, 1, 1, 1, 1, 1, 1, 1, 1, 1, 1, 1, 1, 1, 1, 1, 1, 1, 1, 1, 1, 1, 1, 1, 1, 1, 1, 1, 1, 1, 1, 1, 1, 1, 1, 1, 1, 1, 1, 1, 1, 1, 1, 1, 1, 1, 1, 1, 1, 1, 1, 1, 1, 1, 1, 1, 1, 1, 1, 1, 1, 1, 1, 1, 1, 1, 1, 1, 1, 1, 1, 1, 1, 1, 1, 1, 1, 1, 1, 1, 1, 1, 1, 1, 1, 1, 1, 1, 1, 1, 1, 1, 1, 1, 1, 1, 1, 1, 1, 1, 1, 1, 1, 1, 1, 1, 1, 1, 1, 1, 1, 1, 1, 1, 1, 1, 1, 1, 1, 1, 1, 1, 1, 1, 1, 1, 1, 1, 1, 1, 1, 1, 1, 1, 1, 1, 1, 1, 1, 1, 1, 1, 1, 1, 1, 1, 1, 1, 1, 1, 1, 1, 1, 1, 1, 1, 1, 1, 1, 1, 1, 1, 1, 1, 1, 1, 1, 1, 1, 1, 1, 1, 1, 1, 1, 1, 1, 1, 1, 1, 1, 1, 1, 1, 1, 1, 1, 1, 1, 1, 1, 1, 1, 1, 1, 1, 1, 1, 1, 1, 1, 1, 1, 1, 1, 1, 1, 1, 1, 1, 1, 1, 1, 1, 1, 1, 1, 1, 1, 1, 1, 1, 1, 1, 1, 1, 1, 1, 1, 1, 1, 1, 1, 1, 1, 1, 1, 1, 1, 1, 1, 1, 1, 1, 1, 1, 1, 1, 1, 1, 1, 1, 1, 1, 1, 1, 1, 1, 1, 1, 1, 1, 1, 1, 1, 1, 1, 1, 1, 1, 1, 1, 1, 1, 1, 1, 1, 1, 1, 1, 1, 1, 1, 1, 1, 1, 1, 1, 1, 1, 1, 1, 1, 1, 1, 1, 1, 1, 1, 1, 1, 1, 1, 1, 1, 1, 1, 1, 1, 1, 1, 1, 1, 1, 1, 1, 1, 1, 1, 1, 1, 1, 1, 1, 1, 1, 1, 1, 1, 1, 1, 1, 1, 1, 1, 1, 1, 1, 1, 1, 1, 1, 1, 1, 1, 1, 1, 1, 1, 1, 1, 1, 1, 1, 1, 1, 1, 1, 1, 1, 1, 1, 1, 1, 1, 1, 1, 1, 1, 1, 1, 1, 1, 1, 1, 1, 1, 1, 1, 1, 1, 1, 1, 1, 1, 1, 1, 1, 1, 1, 1, 1, 1, 1, 1, 1, 1, 1, 1, 1, 1, 1, 1, 1, 1, 1, 1, 1, 1, 1, 1, 1, 1, 1, 1, 1, 1, 1, 1, 1, 1, 1, 1, 1, 1, 1, 1, 1, 1, 1, 1, 1, 1, 1, 1, 1, 1, 1, 1, 1, 1, 1, 1, 1, 1, 1, 1, 1, 1, 1, 1, 1, 1, 1, 1, 1, 1, 1, 1, 1, 1, 1, 1, 1, 1, 1, 1, 1, 1, 1, 1, 1, 1, 1, 1, 1, 1, 1, 1, 1, 1, 1, 1, 1, 1, 1, 1, 1, 1, 1, 1, 1, 1, 1, 1, 1, 1, 1, 1, 1, 1, 1, 1, 1, 1, 1, 1, 1, 1, 1, 1, 1, 1, 1, 1, 1, 1, 1, 1, 1, 1, 1, 1, 1, 1, 1, 1, 1, 1, 1, 1, 1, 1, 1, 1, 1, 1, 1, 1, 1, 1, 1, 1, 1, 1, 1, 1, 1, 1, 1, 1, 1, 1, 1, 1, 1, 1, 1, 1, 1, 1, 1, 1, 1, 1, 1, 1, 1, 1, 1, 1, 1, 1, 1, 1, 1, 1, 1, 1, 1, 1, 1, 1, 1, 1, 1, 1, 1, 1, 1, 1, 1, 1, 1, 1, 1, 1, 1, 1, 1, 1, 1, 1, 1, 1, 1, 1, 1, 1, 1, 1, 1, 1, 1, 1, 1, 1, 1, 1, 1, 1, 1, 1, 1, 1, 1, 1, 1, 1, 1, 1, 1, 1, 1, 1, 1, 1, 1, 1, 1, 1, 1, 1, 1, 1, 1, 1, 1, 1, 1, 1, 1, 1, 1, 1, 1, 1, 1, 1, 1, 1, 1, 1, 1, 1, 1, 1, 1, 1, 1, 1, 1, 1, 1, 1, 1, 1, 1, 1, 1, 1, 1, 1, 1, 1, 1, 1, 1, 1, 1, 1, 1, 1, 1, 1, 1, 1, 1, 1, 1, 1, 1, 1, 1, 1, 1, 1, 1, 1, 1, 1, 1, 1, 1, 1, 1, 1, 1, 1, 1, 1, 1, 1, 1, 1, 1, 1, 1, 1, 1, 1, 1, 1, 1, 1, 1, 1, 1, 1, 1, 1, 1, 1, 1, 1, 1, 1, 1, 1, 1, 1, 1, 1, 1, 1, 1, 1, 1, 1, 1, 1, 1, 1, 1, 1, 1, 1, 1, 1, 1, 1, 1, 1, 1, 1, 1, 1, 1, 1, 1, 1, 1, 1, 1, 1, 1, 1, 1, 1, 1, 1, 1, 1, 1, 1, 1, 1, 1, 1, 1, 1, 1, 1, 1, 1, 1, 1, 1, 1, 1, 1, 1, 1, 1, 1, 1, 1, 1, 1, 1, 1, 1, 1, 1, 1, 1, 1, 1, 1, 1, 1, 1, 1, 1, 1, 1, 1, 1, 1, 1, 1, 1, 1, 1, 1, 1, 1, 1, 1, 1, 1, 1, 1, 1, 1, 1, 1, 1, 1, 1, 1, 1, 1, 1, 1, 1, 1, 1, 1, 1, 1, 1, 1, 1, 1, 1, 1, 1, 1, 1, 1, 1, 1, 1, 1, 1, 1, 1, 1, 1, 1, 1, 1, 1, 1, 1, 1, 1, 1, 1, 1, 1, 1, 1, 1, 1, 1, 1, 1, 1, 1, 1, 1, 1, 1, 1, 1, 1, 1, 1, 1, 1, 0, 0, 0, 0, 0, 0, 0, 0, 0, 0, 0, 0, 0, 0, 0, 0, 0, 0, 0, 0, 0, 0, 0, 0, 0, 0, 0, 0, 0, 0, 0, 0, 0, 0, 0, 0, 0, 0, 0, 0, 0, 0, 0, 0, 0, 0, 0, 0, 0, 0, 0, 0, 0, 0, 0, 0, 0, 0, 0, 0, 0, 0, 0, 0, 0, 0, 0, 0, 0, 0, 0, 0, 0, 0, 0, 0, 0, 0, 0, 0, 0, 0, 0, 0, 0, 0, 0, 0, 0, 0, 0, 0, 0, 0, 0, 0, 0, 0, 0, 0, 0, 0, 0, 0, 0, 0, 0, 0, 0, 0, 0, 0, 0, 0, 0, 0, 0, 0, 0, 0, 0, 0, 0, 0, 0, 0, 0, 0, 0, 0, 0, 0, 0, 0, 0, 0, 0, 0, 0, 0, 0, 0, 0, 0, 0, 0, 0, 0, 0, 0, 0, 0, 0, 0, 0, 0, 0, 0, 0, 0, 0, 0, 0, 0, 0, 0, 0, 0, 0, 0, 0, 0, 0, 0, 0, 0, 0, 0, 0, 0, 0, 0, 0, 0, 0, 0, 0, 0, 0, 0, 0, 0, 0, 0, 0, 0, 0, 0, 0, 0, 0, 0, 0, 0, 0, 0, 0, 0, 0, 0, 0, 0, 0, 0, 0, 0, 0, 0, 0, 0, 0, 0, 0, 0, 0, 0, 0, 0, 0, 0, 0, 0, 0, 0, 0, 0, 0, 0, 0, 0, 0, 0, 0, 0, 0, 0, 0, 0, 0, 0, 0, 0, 0, 0, 0, 0, 0, 0, 0, 0, 0, 0, 0, 0, 0, 0, 0, 0, 0, 0, 0, 0, 0, 0, 0, 0, 0, 0, 0, 0, 0, 0, 0, 0, 0, 0, 0, 0, 0, 0, 0, 0, 0, 0, 0, 0, 0, 0, 0, 0, 0, 0, 0, 0, 0, 0, 0, 0, 0, 0, 0, 0, 0, 0, 0, 0, 0, 0, 0, 0, 0, 0, 0, 0, 0, 0, 0, 0, 0, 0, 0, 0, 0, 0, 0, 0, 0, 0, 0, 0, 0, 0, 0, 0, 0, 0, 0, 0, 0, 0, 0, 0, 0, 0, 0, 0, 0, 0, 0, 0, 0, 0, 0, 0, 0, 0, 0, 0, 0, 0, 0, 0, 0, 0, 0, 0, 0, 0, 0, 0, 0, 0, 0, 0, 0, 0, 0, 0, 0, 0, 0, 0, 0, 0, 0, 0, 0, 0, 0, 0, 0, 0, 0, 0, 0, 0, 0, 0, 0, 0, 0, 0, 0, 0, 0, 0, 0, 0, 0, 0, 0, 0, 0, 0, 0, 0, 0, 0, 0, 0, 0, 0, 0, 0, 0, 0, 0, 0, 0, 0, 0, 0, 0, 0, 0, 0, 0, 0, 0, 0, 0, 0, 0, 0, 0, 0, 0, 0, 0, 0, 0, 0, 0, 0, 0, 0, 0, 0, 0, 0, 0, 0, 0, 0, 0, 0, 0, 0, 0, 0, 0, 0, 0, 0, 0, 0, 0, 0, 0, 0, 0, 0, 0, 0, 0, 0, 0, 0, 0, 0, 0, 0, 0, 0, 0, 0, 0, 0, 0, 0, 0, 0, 0, 0, 0, 0, 0, 0, 0, 0, 0, 0, 0, 0, 0, 0, 0, 0, 0, 0, 0, 0, 0, 0, 0, 0, 0, 0, 0, 0, 0, 0, 0, 0, 0, 0, 0, 0, 0, 0, 0, 0, 0, 0, 0, 0, 0, 0, 0, 0, 0, 0, 0, 0, 0, 0, 0, 0, 0, 0, 0, 0, 0, 0, 0, 0, 0, 0, 0, 0, 0, 0, 0, 0, 0, 0, 0, 0, 0, 0, 0, 0, 0, 0, 0, 0, 0, 0, 0, 0, 0, 0, 0, 0, 0, 0, 0, 0, 0, 0, 0, 0, 0, 0, 0, 0, 0, 0, 0, 0, 0, 0, 0, 0, 0, 0, 0, 0, 0, 0, 0, 0, 0, 0, 0, 0, 0, 0, 0, 0, 0, 0, 0, 0, 0, 0, 0, 0, 0, 0, 0, 0, 0, 0, 0, 0, 0, 0, 0, 0, 0, 0, 0, 0, 0, 0, 0, 0, 0, 0, 0, 0, 0, 0, 0, 0, 0, 0, 0, 0, 0, 0, 0, 0, 0, 0, 0, 0, 0, 0, 0, 0, 0, 0, 0, 0, 0, 0, 0, 0, 0, 0, 0, 0, 0, 0, 0, 0, 0, 0, 0, 0, 0, 0, 0, 0, 0, 0, 0, 0, 0, 0, 0, 0, 0, 0, 0, 0, 0, 0, 0, 0, 0, 0, 0, 0, 0, 0, 0, 0, 0, 0, 0, 0, 0, 0, 0, 0, 0, 0, 0, 0, 0, 0, 0, 0, 0, 0, 0, 0, 0, 0, 0, 0, 0, 0, 0, 0, 0, 0, 0, 0, 0, 0, 0, 0, 0, 0, 0, 0, 0, 0, 0, 0, 0, 0, 0, 0, 0, 0, 0, 0, 0, 0, 0, 0, 0, 0, 0, 0, 0, 0, 0, 0, 0, 0, 0, 0, 0, 0, 0, 0, 0, 0, 0, 0, 0, 0, 0, 0, 0, 0, 0, 0, 0, 0, 0, 0, 0, 0, 0, 0, 0, 0, 0, 0, 0, 0, 0, 0, 0, 0, 0, 0, 0, 0, 0, 0, 0, 0, 0, 0, 0, 0, 0, 0, 0, 0, 0, 0, 0, 0, 0, 0, 0, 0, 0, 0, 0, 0, 0, 0, 0, 0, 0, 0, 0, 0, 0, 0, 0, 0, 0, 0, 0, 0, 0, 0, 0, 0, 0, 0, 0, 0, 0, 0, 0, 0, 0, 0, 0, 0, 0, 0, 0, 0, 0, 0, 0, 0, 0, 0, 0, 0, 0, 0, 0, 0, 0, 0, 0, 0, 0, 0, 0, 0, 0, 0, 0, 0, 0, 0, 0, 0, 0, 0, 0, 0, 0, 0, 0, 0, 0, 0, 0, 0, 0, 0, 0, 0, 0, 0, 0, 0, 0, 0, 0, 0, 0, 0, 0, 0, 0, 0, 0, 0, 0, 0, 0, 0, 0, 0, 0, 0, 0, 0, 0, 0, 0, 0, 0, 0, 0, 0, 0, 0, 0, 0, 0, 0, 0, 0, 0, 0, 0, 0, 0, 0, 0, 0, 0, 0, 0, 0, 0, 0, 0, 0, 0, 0, 0, 0, 0, 0, 0, 0, 0, 0, 0, 0, 0, 0, 0, 0, 0, 0, 0, 0, 0, 0, 0, 0, 0, 0, 0, 0, 0, 0, 0, 0, 0, 0, 0, 0, 0, 0, 0, 0, 0, 0, 0, 0, 0, 0, 0, 0, 0, 0, 0, 0, 0, 0, 0, 0, 0, 0, 0, 0, 0, 0, 0, 0, 0, 0, 0, 0, 0, 0, 0, 0, 0, 0, 0, 0, 0, 0, 0, 0, 0, 0, 0, 0, 0, 0, 0, 0, 0, 0, 0, 0, 0, 0, 0, 0, 0, 0, 0, 0, 0, 0, 0, 0, 0, 0, 0, 0, 0, 0, 0, 0, 0, 0, 0, 0, 0, 0, 0, 0, 0, 0, 0, 0, 0, 0, 0, 0, 0, 0, 0, 0, 0, 0, 0, 0, 0, 0, 0, 0, 0, 0, 0, 0, 0, 0, 0, 0, 0, 0, 0, 0, 0, 0, 0, 0, 0, 0, 0, 0, 0, 0, 0, 0, 0, 0, 0, 0, 0, 0, 0, 0, 0, 0, 0, 0, 0, 0, 0, 0, 0, 0, 0, 0, 0, 0, 0, 0, 0, 0, 0, 0, 0, 0, 0, 0, 0, 0, 0, 0, 0, 0, 0, 0, 0, 0, 0, 0, 0, 0, 0, 0, 0, 0, 0, 0, 0, 0, 0, 0, 0, 0, 0, 0, 0, 0, 0, 0, 0, 0, 0, 0, 0, 0, 0, 0, 0, 0, 0, 0, 0, 0, 0, 0, 0, 0, 0, 0, 0, 0, 0, 0, 0, 0, 0, 0, 0, 0, 0, 0, 0, 0, 0, 0, 0, 0, 0, 0, 0, 0, 0, 0, 0, 0, 0, 0, 0, 0, 0, 0, 0, 0, 0, 0, 0, 0, 0, 0, 0, 0, 0, 0, 0, 0, 0, 0, 0, 0, 0, 0, 0, 0, 0, 0, 0, 0, 0, 0, 0, 0, 0, 0, 0, 0, 0, 0, 0, 0, 0, 0, 0, 0, 0, 0, 0, 0, 0, 0, 0, 0, 0, 0, 0, 0, 0, 0, 0, 0, 0, 0, 0, 0, 0, 0, 0, 0, 0, 0, 0, 0, 0, 0, 0, 0, 0, 0, 0, 0, 0, 0, 0, 0, 0, 0, 0, 0, 0, 0, 0, 0, 0, 0, 0, 0, 0, 0, 0, 0, 0, 0, 0, 0, 0, 0, 0, 0, 0, 0, 0, 0, 0, 0, 0, 0, 0, 0, 0, 0, 0, 0, 0, 0, 0, 0, 0, 0, 0, 0, 0, 0, 0, 0, 0, 0, 0, 0, 0, 0, 0, 0, 0, 0, 0, 0, 0, 0, 0, 0, 0, 0, 0, 0, 0, 0, 0, 0, 0, 0, 0, 0, 0, 0, 0, 0, 0, 0, 0, 0, 0, 0, 0, 0, 0, 0, 0, 0, 0, 0, 0, 0, 0, 0, 0, 0, 0, 0, 0, 0, 0, 0, 0, 0, 0, 0, 0, 0, 0, 0, 0, 0, 0, 0, 0, 0, 0, 0, 0, 0, 0, 0, 0, 0, 0, 0, 0, 0, 0, 0, 0, 0, 0, 0, 0, 0, 0, 0, 0, 0, 0, 0, 0, 0, 0, 0, 0, 0, 0, 0, 0, 0, 0, 0, 0, 0, 0, 0, 0, 0, 0, 0, 0, 0, 0, 0, 0, 0, 0, 0, 0, 0, 0, 0, 0, 0, 0, 0, 0, 0, 0, 0, 0, 0, 0, 0, 0, 0, 0, 0, 0, 0, 0, 0, 0, 0, 0, 0, 0, 0, 0, 0, 0, 0, 0, 0, 0, 0, 0, 0, 0, 0, 0, 0, 0, 0, 0, 0, 0, 0, 0, 0, 0, 0, 0, 0, 0, 0, 0, 0, 0, 0, 0, 0, 0, 0, 0, 0, 0, 0, 0, 0, 0, 0, 0, 0, 0, 0, 0, 0, 0, 0, 0, 0, 0, 0, 0, 0, 0, 0, 0, 0, 0, 0, 0, 0, 0, 0, 0, 0, 0, 0, 0, 0, 0, 0, 0, 0, 0, 0, 0, 0, 0, 0, 0, 0, 0, 0, 0, 0, 0, 0, 0, 0, 0, 0, 0, 0, 0, 0, 0, 0, 0, 0, 0, 0, 0, 0, 0, 0, 0, 0, 0, 0, 0, 0, 0, 0, 0, 0, 0, 0, 0, 0, 0, 0, 0, 0, 0, 0, 0, 0, 0, 0, 0, 0, 0, 0, 0, 0, 0, 0, 0, 0, 0, 0, 0, 0, 0, 0, 0, 0, 0, 0, 0, 0, 0, 0, 0, 0, 0, 0, 0, 0, 0, 0, 0, 0, 0, 0, 0, 0, 0, 0, 0, 0, 0, 0, 0, 0, 0, 0, 0, 0, 0, 0, 0, 0, 0, 0, 0, 0, 0, 0, 0, 0, 0, 0, 0, 0, 0, 0, 0, 0, 0, 0, 0, 0, 0, 0, 0, 0, 0, 0, 0, 0, 0, 0, 0, 0, 0, 0, 0, 0, 0, 0, 0, 0, 0, 0, 0, 0, 0, 0, 0, 0, 0, 0, 0, 0, 0, 0, 0, 0, 0, 0, 0, 0, 0, 0, 0, 0, 0, 0, 0, 0, 0, 0, 0, 0, 0, 0, 0, 0, 0, 0, 0, 0, 0, 0, 0, 0, 0, 0, 0, 0, 0, 0, 0, 0, 0, 0, 0, 0, 0, 0, 0, 0, 0, 0, 0, 0, 0, 0, 0, 0, 0, 0, 0, 0, 0, 0, 0, 0, 0, 0, 0, 0, 0, 0, 0, 0, 0, 0, 0, 0, 0, 0, 0, 0, 0, 0, 0, 0, 0, 0, 0, 0, 0, 0, 0, 0, 0, 0, 0, 0, 0, 0, 0, 0, 0, 0, 0, 0, 0, 0, 0, 0, 0, 0, 0, 0, 0, 0, 0, 0, 0, 0, 0, 0, 0, 0, 0, 0, 0, 0, 0, 0, 0, 0, 0, 0, 0, 0, 0, 0, 0, 0, 0, 0, 0, 0, 0, 0, 0, 0, 0, 0, 0, 0, 0, 0, 0, 0, 0, 0, 0, 0, 0, 0, 0, 0, 0, 0, 0, 0, 0, 0, 0, 0, 0, 0, 0, 0, 0, 0, 0, 0, 0, 0, 0, 0, 0, 0, 0, 0, 0, 0, 0, 0, 0, 0, 0, 0, 0, 0, 0, 0, 0, 0, 0, 0, 0, 0, 0, 0, 0, 0, 0, 0, 0, 0, 0, 0, 0, 0, 0, 0, 0, 0, 0, 0, 0, 0, 0, 0, 0, 0, 0, 0, 0, 0, 0, 0, 0, 0, 0, 0, 0, 0, 0, 0, 0, 0, 0, 0, 0, 0, 0, 0, 0, 0, 0, 0, 0, 0, 0, 0, 0, 0, 0, 0, 0, 0, 0, 0, 0, 0, 0, 0, 0, 0, 0, 0, 0, 0, 0, 0, 0, 0, 0, 0, 0, 0, 0, 0, 0, 0, 0, 0, 0, 0, 0, 0, 0, 0, 0, 0, 0, 0, 0, 0, 0, 0, 0, 0, 0, 0, 0, 0, 0, 0, 0, 0, 0, 0, 0, 0, 0, 0, 0, 0, 0, 0, 0, 0, 0, 0, 0, 0, 0, 0, 0, 0, 0, 0, 0, 0, 0, 0, 0, 0, 0, 0, 0, 0, 0, 0, 0, 0, 0, 0, 0, 0, 0, 0, 0, 0, 0, 0, 0, 0, 0, 0, 0, 0, 0, 0, 0, 0, 0, 0, 0, 0, 0, 0, 0, 0, 0, 0, 0, 0, 0, 0, 0, 0, 0, 0, 0, 0, 0, 0, 0, 0, 0, 0, 0, 0, 0, 0, 0, 0, 0, 0, 0, 0, 0, 0, 0, 0, 0, 0, 0, 0, 0, 0, 0, 0, 0, 0, 0, 0, 0, 0, 0, 0, 0, 0, 0, 0, 0, 0, 0, 0, 0, 0, 0, 0, 0, 0, 0, 0, 0, 0, 0, 0, 0, 0, 0, 0, 0, 0, 0, 0, 0, 0, 0, 0, 0, 0, 0, 0, 0, 0, 0, 0, 0, 0, 0, 0, 0, 0, 0, 0, 0, 0, 0, 0, 0, 0, 0, 0, 0, 0, 0, 0, 0, 0, 0, 0, 0, 0, 0, 0, 0, 0, 0, 0, 0, 0, 0, 0, 0, 0, 0, 0, 0, 0, 0, 0, 0, 0, 0, 0, 0, 0, 0, 0, 0, 0, 0, 0, 0, 0, 0, 0, 0, 0, 0, 0, 0, 0, 0, 0, 0, 0, 0, 0, 0, 0, 0, 0, 0, 0, 0, 0, 0, 0, 0, 0, 0, 0, 0, 0, 0, 0, 0, 0, 0, 0, 0, 0, 0, 0, 0, 0, 0, 0, 0, 0, 0, 0, 0, 0, 0, 0, 0, 0, 0, 0, 0, 0, 0, 0, 0, 0, 0, 0, 0, 0, 0, 0, 0, 0, 0, 0, 0, 0, 0, 0, 0, 0, 0, 0, 0, 0, 0, 0, 0, 0, 0, 0, 0, 0, 0, 0, 0, 0, 0, 0, 0, 0, 0, 0, 0, 0, 0, 0, 0, 0, 0, 0, 0, 0, 0, 0, 0, 0, 0, 0, 0, 0, 0, 0, 0, 0, 0, 0, 0, 0, 0, 0, 0, 0, 0, 0, 0, 0, 0, 0, 0, 0, 0, 0, 0, 0, 0, 0, 0, 0, 0, 0, 0, 0, 0, 0, 0, 0, 0, 0, 0, 0, 0, 0, 0, 0, 0, 0, 0, 0, 0, 0, 0, 0, 0, 0, 0, 0, 0, 0, 0, 0, 0, 0, 0, 0, 0, 0, 0, 0, 0, 0, 0, 0, 0, 0, 0, 0, 0, 0, 0, 0, 0, 0, 0, 0, 0, 0, 0, 0, 0, 0, 0, 0, 0, 0, 0, 0, 0, 0, 0, 0, 0, 0, 0, 0, 0, 0, 0, 0, 0, 0, 0, 0, 0, 0, 0, 0, 0, 0, 0, 0, 0, 0, 0, 0, 0, 0, 0, 0, 0, 0, 0, 0, 0, 0, 0, 0, 0, 0, 0, 0, 0, 0, 0, 0, 0, 0, 0, 0, 0, 0, 0, 0, 0, 0, 0, 0, 0, 0, 0, 0, 0, 0, 0, 0, 0, 0, 0, 0, 0, 0, 0, 0, 0, 0, 0, 0, 0, 0, 0, 0, 0, 0, 0, 0, 0, 0, 0, 0, 0, 0, 0, 0, 0, 0, 0, 0, 0, 0, 0, 0, 0, 0, 0, 0, 0, 0, 0, 0, 0, 0, 0, 0, 0, 0, 0, 0, 0, 0, 0, 0, 0, 0, 0, 0, 0, 0, 0, 0, 0, 0, 0, 0, 0, 0, 0, 0, 0, 0, 0, 0, 0, 0, 0, 0, 0, 0, 0, 0, 0, 0, 0, 0, 0, 0, 0, 0, 0, 0, 0, 0, 0, 0, 0, 0, 0, 0, 0, 0, 0, 0, 0, 0, 0, 0, 0, 0, 0, 0, 0, 0, 0, 0, 0, 0, 0, 0, 0, 0, 0, 0, 0, 0, 0, 0, 0, 0, 0, 0, 0, 0, 0, 0, 0, 0, 0, 0, 0, 0, 0, 0, 0, 0, 0, 0, 0, 0, 0, 0, 0, 0, 0, 0, 0, 0, 0, 0, 0, 0, 0, 0, 0, 0, 0, 0, 0, 0, 0, 0, 0, 0, 0, 0, 0, 0, 0, 0, 0, 0, 0, 0, 0, 0, 0, 0, 0, 0, 0, 0, 0, 0, 0, 0, 0, 0, 0, 0, 0, 0, 0, 0, 0, 0, 0, 0, 0, 0, 0, 0, 0, 0, 0, 0, 0, 0, 0, 0, 0, 0, 0, 0, 0, 0, 0, 0, 0, 0, 0, 0, 0, 0, 0, 0, 0, 0, 0, 0, 0, 0, 0, 0, 0, 0, 0, 0, 0, 0, 0, 0, 0, 0, 0, 0, 0, 0, 0, 0, 0, 0, 0, 0, 0, 0, 0, 0, 0, 0, 0, 0, 0, 0, 0, 0, 0, 0, 0, 0, 0, 0, 0, 0, 0, 0, 0, 0, 0, 0, 0, 0, 0, 0, 0, 0, 0, 0, 0, 0, 0, 0, 0, 0, 0, 0, 0, 0, 0, 0, 0, 0, 0, 0, 0, 0, 0, 0, 0, 0, 0, 0, 0, 0, 0, 0, 0, 0, 0, 0, 0, 0, 0, 0, 0, 0, 0, 0, 0, 0, 0, 0, 0, 0, 0, 0, 0, 0, 0, 0, 0, 0, 0, 0, 0, 0, 0, 0, 0, 0, 0, 0, 0, 0, 0, 0, 0, 0, 0, 0, 0, 0, 0, 0, 0, 0, 0, 0, 0, 0, 0, 0, 0, 0, 0, 0, 0, 0, 0, 0, 0, 0, 0, 0, 0, 0, 0, 0, 0, 0, 0, 0, 0, 0, 0, 0, 0, 0, 0, 0, 0, 0, 0, 0, 0, 0, 0, 0, 0, 0, 0, 0, 0, 0, 0, 0, 0, 0, 0, 0, 0, 0, 0, 0, 0, 0, 0, 0, 0, 0, 0, 0, 0, 0, 0, 0, 0, 0, 0, 0, 0, 0, 0, 0, 0, 0, 0, 0, 0, 0, 0, 0, 0, 0, 0, 0, 0, 0, 0, 0, 0, 0, 0, 0, 0, 0, 0, 0, 0, 0, 0, 0, 0, 0, 0, 0, 0, 0, 0, 0, 0, 0, 0, 0, 0, 0, 0, 0, 0, 0, 0, 0, 0, 0, 0, 0, 0, 0, 0, 0, 0, 0, 0, 0, 0, 0, 0, 0, 0, 0, 0, 0, 0, 0, 0, 0, 0, 0, 0, 0, 0, 0, 0, 0, 0, 0, 0, 0, 0, 0, 0, 0, 0, 0, 0, 0, 0, 0, 0, 0, 0, 0, 0, 0, 0, 0, 0, 0, 0, 0, 0, 0, 0, 0, 0, 0, 0, 0, 0, 0, 0, 0, 0, 0, 0, 0, 0, 0, 0, 0, 0, 0, 0, 0, 0, 0, 0, 0, 0, 0, 0, 0, 0, 0, 0, 0, 0, 0, 0, 0, 0, 0, 0, 0, 0, 0, 0, 0, 0, 0, 0, 0, 0, 0, 0, 0, 0, 0, 0, 0, 0, 0, 0, 0, 0, 0, 0, 0, 0, 0, 0, 0, 0, 0, 0, 0, 0, 0, 0, 0, 0, 0, 0, 0, 0, 0, 0, 0, 0, 0, 0, 0, 0, 0, 0, 0, 0, 0, 0, 0, 0, 0, 0, 0, 0, 0, 0, 0, 0, 0, 0, 0, 0, 0, 0, 0, 0, 0, 0, 0, 0, 0, 0, 0, 0, 0, 0, 0, 0, 0, 0, 0, 0, 0, 0, 0, 0, 0, 0, 0, 0, 0, 0, 0, 0, 0, 0, 0, 0, 0, 0, 0, 0, 0, 0, 0, 0, 0, 0, 0, 0, 0, 0, 0, 0, 0, 0, 0, 0, 0, 0, 0, 0, 0, 0, 0, 0, 0, 0, 0, 0, 0, 0, 0, 0, 0, 0, 0, 0, 0, 0, 0, 0, 0, 0, 0, 0, 0, 0, 0, 0, 0, 0, 0, 0, 0, 0, 0, 0, 0, 0, 0, 0, 0, 0, 0, 0, 0, 0, 0, 0, 0, 0, 0, 0, 0, 0, 0, 0, 0, 0, 0, 0, 0, 0, 0, 0, 0, 0, 0, 0, 0, 0, 0, 0, 0, 0, 0, 0, 0, 0, 0, 0, 0, 0, 0, 0, 0, 0, 0, 0, 0, 0, 0, 0, 0, 0, 0, 0, 0, 0, 0, 0, 0, 0, 0, 0, 0, 0, 0, 0, 0, 0, 0, 0, 0, 0, 0, 0, 0, 0, 0, 0, 0, 0, 0, 0, 0, 0, 0, 0, 0, 0, 0, 0, 0, 0, 0, 0, 0, 0, 0, 0, 0, 0, 0, 0, 0, 0, 0, 0, 0, 0, 0, 0, 0, 0, 0, 0, 0, 0, 0, 0, 0, 0, 0, 0, 0, 0, 0, 0, 0, 0, 0, 0, 0, 0, 0, 0, 0, 0, 0, 0, 0, 0, 0, 0, 0, 0, 0, 0, 0, 0, 0, 0, 0, 0, 0, 0, 0, 0, 0, 0, 0, 0, 0, 0, 0, 0, 0, 0, 0, 0, 0, 0, 0, 0, 0, 0, 0, 0, 0, 0, 0, 0, 0, 0, 0, 0, 0, 0, 0, 0, 0, 0, 0, 0, 0, 0, 0, 0, 0, 0, 0, 0, 0, 0, 0, 0, 0, 0, 0, 0, 0, 0, 0, 0, 0, 0, 0, 0, 0, 0, 0, 0, 0, 0, 0, 0, 0, 0, 0, 0, 0, 0, 0, 0, 0, 0, 0, 0, 0, 0, 0, 0, 0, 0, 0, 0, 0, 0, 0, 0, 0, 0, 0, 0, 0, 0, 0, 0, 0, 0, 0, 0, 0, 0, 0, 0, 0, 0, 0, 0, 0, 0, 0, 0, 0, 0, 0, 0, 0, 0, 0, 0, 0, 0, 0, 0, 0, 0, 0, 0, 0, 0, 0, 0, 0, 0, 0, 0, 0, 0, 0, 0, 0, 0, 0, 0, 0, 0, 0, 0, 0, 0, 0, 0, 0, 0, 0, 0, 0, 0, 0, 0, 0, 0, 0, 0, 0, 0, 0, 0, 0, 0, 0, 0, 0, 0, 0, 0, 0, 0, 0, 0, 0, 0, 0, 0, 0, 0, 0, 0, 0, 0, 0, 0, 0, 0, 0, 0, 0, 0, 0, 0, 0, 0, 0, 0, 0, 0, 0, 0, 0, 0, 0, 0, 0, 0, 0, 0, 0, 0, 0, 0, 0, 0, 0, 0, 0, 0, 0, 0, 0, 0, 0, 0, 0, 0, 0, 0, 0, 0, 0, 0, 0, 0, 0, 0, 0, 0, 0, 0, 0, 0, 0, 0, 0, 0, 0, 0, 0, 0, 0, 0, 0, 0, 0, 0, 0, 0, 0, 0, 0, 0, 0, 0, 0, 0, 0, 0, 0, 0, 0, 0, 0, 0, 0, 0, 0, 0, 0, 0, 0, 0, 0, 0, 0, 0, 0, 0, 0, 0, 0, 0, 0, 0, 0, 0, 0, 0, 0, 0, 0, 0, 0, 0, 0, 0, 0, 0, 0, 0, 0, 0, 0, 0, 0, 0, 0, 0, 0, 0, 0, 0, 0, 0, 0, 0, 0, 0, 0, 0, 0, 0, 0, 0, 0, 0, 0, 0, 0, 0, 0, 0, 0, 0, 0, 0, 0, 0, 0, 0, 0, 0, 0, 0, 0, 0, 0, 0, 0, 0, 0, 0, 0, 0, 0, 0, 0, 0, 0, 0, 0, 0, 0, 0, 0, 0, 0, 0, 0, 0, 0, 0, 0, 0, 0, 0, 0, 0, 0, 0, 0, 0, 0, 0, 0, 0, 0, 0, 0, 0, 0, 0, 0, 0, 0, 0, 0, 0, 0, 0, 0, 0, 0, 0, 0, 0, 0, 0, 0, 0, 0, 0, 0, 0, 0, 0, 0, 0, 0, 0, 0, 0, 0, 0, 0, 0, 0, 0, 0, 0, 0, 0, 0, 0, 0, 0, 0, 0, 0, 0, 0, 0, 0, 0, 0, 0, 0, 0, 0, 0, 0, 0, 0, 0, 0, 0, 0, 0, 0, 0, 0, 0, 0, 0, 0, 0, 0, 0, 0, 0, 0, 0, 0, 0, 0, 0, 0, 0, 0, 0, 0, 0, 0, 0, 0, 0, 0, 0, 0, 0, 0, 0, 0, 0, 0, 0, 0, 0, 0, 0, 0, 0, 0, 0, 0, 0, 0, 0, 0, 0, 0, 0, 0, 0, 0, 0, 0, 0, 0, 0, 0, 0, 0, 0, 0, 0, 0, 0, 0, 0, 0, 0, 0, 0, 0, 0, 0, 0, 0, 0, 0, 0, 0, 0, 0, 0, 0, 0, 0, 0, 0, 0, 0, 0, 0, 0, 0, 0, 0, 0, 0, 0, 0, 0, 0, 0, 0, 0, 0, 0, 0, 0, 0, 0, 0, 0, 0, 0, 0, 0, 0, 0, 0, 0, 0, 0, 0, 0, 0, 0, 0, 0, 0, 0, 0, 0, 0, 0, 0, 0, 0, 0, 0, 0, 0, 0, 0, 0, 0, 0, 0, 0, 0, 0, 0, 0, 0, 0, 0, 0, 0, 0, 0, 0, 0, 0, 0, 0, 0, 0, 0, 0, 0, 0, 0, 0, 0, 0, 0, 0, 0, 0, 0, 0, 0, 0, 0, 0, 0, 0, 0, 0, 0, 0, 0, 0, 0, 0, 0, 0, 0, 0, 0, 0, 0, 0, 0, 0, 0, 0, 0, 0, 0, 0, 0, 0, 0, 0, 0, 0, 0, 0, 0, 0, 0, 0, 0, 0, 0, 0, 0, 0, 0, 0, 0, 0, 0, 0, 0, 0, 0, 0, 0, 0, 0, 0, 0, 0, 0, 0, 0, 0, 0, 0, 0, 0, 0, 0, 0, 0, 0, 0, 0, 0, 0, 0, 0, 0, 0, 0, 0, 0, 0, 0, 0, 0, 0, 0, 0, 0, 0, 0, 0, 0, 0, 0, 0, 0, 0, 0, 0, 0, 0, 0, 0, 0, 0, 0, 0, 0, 0, 0, 0, 0, 0, 0, 0, 0, 0, 0, 0, 0, 0, 0, 0, 0, 0, 0, 0, 0, 0, 0, 0, 0, 0, 0, 0, 0, 0, 0, 0, 0, 0, 0, 0, 0, 0, 0, 0, 0, 0, 0, 0, 0, 0, 0, 0, 0, 0, 0, 0, 0, 0, 0, 0, 0, 0, 0, 0, 0, 0, 0, 0, 0, 0, 0, 0, 0, 0, 0, 0, 0, 0, 0, 0, 0, 0, 0, 0, 0, 0, 0, 0, 0, 0, 0, 0, 0, 0, 0, 0, 0, 0, 0, 0, 0, 0, 0, 0, 0, 0, 0, 0, 0, 0, 0, 0, 0, 0, 0, 0, 0, 0, 0, 0, 0, 0, 0, 0, 0, 0, 0, 0, 0, 0, 0, 0, 0, 0, 0, 0, 0, 0, 0, 0, 0, 0, 0, 0, 0, 0, 0, 0, 0, 0, 0, 0, 0, 0, 0, 0, 0, 0, 0, 0, 0, 0, 0, 0, 0, 0, 0, 0, 0, 0, 0, 0, 0, 0, 0, 0, 0, 0, 0, 0, 0, 0, 0, 0, 0, 0, 0, 0, 0, 0, 0, 0, 0, 0, 0, 0, 0, 0, 0, 0, 0, 0, 0, 0, 0, 0, 0, 0, 0, 0, 0, 0, 0, 0, 0, 0, 0, 0, 0, 0, 0, 0, 0, 0, 0, 0, 0, 0, 0, 0, 0, 0, 0, 0, 0, 0, 0, 0, 0, 0, 0, 0, 0, 0, 0, 0, 0, 0, 0, 0, 0, 0, 0, 0, 0, 0, 0, 0, 0, 0, 0, 0, 0, 0, 0, 0, 0, 0, 0, 0, 0, 0, 0, 0, 0, 0, 0, 0, 0, 0, 0, 0, 0, 0, 0, 0, 0, 0, 0, 0, 0, 0, 0, 0, 0, 0, 0, 0, 0, 0, 0, 0, 0, 0, 0, 0, 0, 0, 0, 0, 0, 0, 0, 0, 0, 0, 0, 0, 0, 0, 0, 0, 0, 0, 0, 0, 0, 0, 0, 0, 0, 0, 0, 0, 0, 0, 0, 0, 0, 0, 0, 0, 0, 0, 0, 0, 0, 0, 0, 0, 0, 0, 0, 0, 0, 0, 0, 0, 0, 0, 0, 0, 0, 0, 0, 0, 0, 0, 0, 0, 0, 0, 0, 0, 0, 0, 0, 0, 0, 0, 0, 0, 0, 0, 0, 0, 0, 0, 0, 0, 0, 0, 0, 0, 0, 0, 0, 0, 0, 0, 0, 0, 0, 0, 0, 0, 0, 0, 0, 0, 0, 0, 0, 0, 0, 0, 0, 0, 0, 0, 0, 0, 0, 0, 0, 0, 0, 0, 0, 0, 0, 0, 0, 0, 0, 0, 0, 0, 0, 0, 0, 0, 0, 0, 0, 0, 0, 0, 0, 0, 0, 0, 0, 0, 0, 0, 0, 0, 0, 0, 0, 0, 0, 0, 0, 0, 0, 0, 0, 0, 0, 0, 0, 0, 0, 0, 0, 0, 0, 0, 0, 0, 0, 0, 0, 0, 0, 0, 0, 0, 0, 0, 0, 0, 0, 0, 0, 0, 0, 0, 0, 0, 0, 0, 0, 0, 0, 0, 0, 0, 0, 0, 0, 0, 0, 0, 0, 0, 0, 0, 0, 0, 0, 0, 0, 0, 0, 0, 0, 0, 0, 0, 0, 0, 0, 0, 0, 0, 0, 0, 0, 0, 0, 0, 0, 0, 0, 0, 0, 0, 0, 0, 0, 0, 0, 0, 0, 0, 0, 0, 0, 0, 0, 0, 0, 0, 0, 0, 0, 0, 0, 0, 0, 0, 0, 0, 0, 0, 0, 0, 0, 0, 0, 0, 0, 0, 0, 0, 0, 0, 0, 0, 0, 0, 0, 0, 0, 0, 0, 0, 0, 0, 0, 0, 0, 0, 0, 0, 0, 0, 0, 0, 0, 0, 0, 0, 0, 0, 0, 0, 0, 0, 0, 0, 0, 0, 0, 0, 0, 0, 0, 0, 0, 0, 0, 0, 0, 0, 0, 0, 0, 0, 0, 0, 0, 0, 0, 0, 0, 0, 0, 0, 0, 0, 0, 0, 0, 0, 0, 0, 0, 0, 0, 0, 0, 0, 0, 0]\n",
            "10000\n"
          ]
        }
      ]
    },
    {
      "cell_type": "code",
      "metadata": {
        "colab": {
          "base_uri": "https://localhost:8080/"
        },
        "id": "fIpBYM3hNRhk",
        "outputId": "2ae8fe98-aa5f-4937-e475-19db1546762e"
      },
      "source": [
        "# 크기와 무게 묶어주기\n",
        "data = [[d,w,t] for d,w,t in zip(df.diameter, df.weight, data_target)]\n",
        "print(data)\n",
        "print(len(data))"
      ],
      "execution_count": 8,
      "outputs": [
        {
          "output_type": "stream",
          "name": "stdout",
          "text": [
            "[[2.96, 86.76, 1], [3.91, 88.05, 1], [4.42, 95.17, 1], [4.47, 95.6, 1], [4.48, 95.76, 1], [4.59, 95.86, 1], [4.64, 97.94, 1], [4.65, 98.5, 1], [4.68, 100.2, 1], [4.69, 100.31, 1], [4.73, 101.33, 1], [4.74, 101.66, 1], [4.75, 101.8, 1], [4.77, 102.56, 1], [4.78, 103.06, 1], [4.82, 103.1, 1], [4.85, 103.44, 1], [4.91, 103.46, 1], [4.97, 104.01, 1], [5.02, 104.1, 1], [5.02, 104.19, 1], [5.08, 104.56, 1], [5.1, 104.7, 1], [5.11, 104.82, 1], [5.15, 104.98, 1], [5.16, 105.22, 1], [5.22, 105.42, 1], [5.22, 105.47, 1], [5.24, 105.6, 1], [5.24, 105.62, 1], [5.25, 105.68, 1], [5.26, 106.29, 1], [5.3, 106.43, 1], [5.3, 106.85, 1], [5.3, 106.9, 1], [5.32, 106.94, 1], [5.34, 106.94, 1], [5.35, 107.01, 1], [5.36, 107.3, 1], [5.37, 107.64, 1], [5.37, 107.77, 1], [5.37, 107.85, 1], [5.38, 108.16, 1], [5.4, 108.18, 1], [5.43, 108.54, 1], [5.45, 108.63, 1], [5.47, 108.69, 1], [5.47, 108.85, 1], [5.48, 108.93, 1], [5.48, 109.16, 1], [5.48, 109.32, 1], [5.48, 109.37, 1], [5.49, 109.49, 1], [5.51, 109.49, 1], [5.51, 109.52, 1], [5.51, 109.59, 1], [5.52, 110.36, 1], [5.53, 110.4, 1], [5.53, 110.42, 1], [5.57, 110.47, 1], [5.57, 110.75, 1], [5.58, 110.89, 1], [5.59, 110.9, 1], [5.6, 111.0, 1], [5.6, 111.1, 1], [5.61, 111.16, 1], [5.61, 111.29, 1], [5.61, 111.31, 1], [5.63, 111.53, 1], [5.65, 111.59, 1], [5.65, 111.66, 1], [5.65, 111.69, 1], [5.65, 111.83, 1], [5.66, 111.88, 1], [5.66, 111.94, 1], [5.67, 111.95, 1], [5.67, 112.1, 1], [5.68, 112.15, 1], [5.69, 112.41, 1], [5.71, 112.7, 1], [5.71, 112.73, 1], [5.71, 112.77, 1], [5.71, 113.01, 1], [5.72, 113.14, 1], [5.72, 113.23, 1], [5.73, 113.26, 1], [5.73, 113.46, 1], [5.73, 113.62, 1], [5.73, 113.63, 1], [5.73, 113.66, 1], [5.74, 113.79, 1], [5.76, 113.79, 1], [5.76, 113.94, 1], [5.77, 114.17, 1], [5.77, 114.18, 1], [5.77, 114.3, 1], [5.79, 114.31, 1], [5.79, 114.39, 1], [5.8, 114.44, 1], [5.8, 114.48, 1], [5.8, 114.58, 1], [5.8, 114.64, 1], [5.8, 114.87, 1], [5.81, 114.92, 1], [5.83, 114.96, 1], [5.84, 114.96, 1], [5.84, 114.97, 1], [5.84, 114.97, 1], [5.85, 115.02, 1], [5.86, 115.03, 1], [5.86, 115.04, 1], [5.87, 115.16, 1], [5.87, 115.18, 1], [5.88, 115.23, 1], [5.89, 115.24, 1], [5.91, 115.29, 1], [5.91, 115.37, 1], [5.92, 115.4, 1], [5.93, 115.46, 1], [5.94, 115.46, 1], [5.94, 115.55, 1], [5.95, 115.55, 1], [5.95, 115.59, 1], [5.95, 115.79, 1], [5.96, 115.82, 1], [5.97, 115.85, 1], [5.98, 115.89, 1], [5.98, 115.94, 1], [5.99, 116.21, 1], [5.99, 116.22, 1], [5.99, 116.27, 1], [6.0, 116.29, 1], [6.0, 116.32, 1], [6.0, 116.34, 1], [6.01, 116.35, 1], [6.01, 116.36, 1], [6.02, 116.4, 1], [6.03, 116.4, 1], [6.03, 116.41, 1], [6.03, 116.56, 1], [6.04, 116.56, 1], [6.04, 116.83, 1], [6.04, 116.88, 1], [6.04, 116.9, 1], [6.04, 116.9, 1], [6.05, 116.92, 1], [6.05, 116.93, 1], [6.06, 117.01, 1], [6.06, 117.1, 1], [6.06, 117.13, 1], [6.06, 117.14, 1], [6.07, 117.17, 1], [6.07, 117.18, 1], [6.08, 117.2, 1], [6.09, 117.21, 1], [6.09, 117.21, 1], [6.1, 117.28, 1], [6.1, 117.28, 1], [6.11, 117.5, 1], [6.11, 117.52, 1], [6.11, 117.57, 1], [6.11, 117.66, 1], [6.11, 117.81, 1], [6.12, 117.86, 1], [6.14, 117.93, 1], [6.14, 117.98, 1], [6.14, 118.04, 1], [6.14, 118.21, 1], [6.14, 118.27, 1], [6.14, 118.32, 1], [6.15, 118.33, 1], [6.16, 118.4, 1], [6.16, 118.48, 1], [6.16, 118.55, 1], [6.16, 118.62, 1], [6.16, 118.65, 1], [6.16, 118.77, 1], [6.16, 118.82, 1], [6.16, 118.9, 1], [6.17, 119.08, 1], [6.17, 119.12, 1], [6.17, 119.26, 1], [6.17, 119.3, 1], [6.18, 119.31, 1], [6.18, 119.32, 1], [6.18, 119.34, 1], [6.19, 119.35, 1], [6.19, 119.38, 1], [6.2, 119.41, 1], [6.2, 119.45, 1], [6.2, 119.48, 1], [6.21, 119.52, 1], [6.21, 119.63, 1], [6.22, 119.76, 1], [6.22, 119.8, 1], [6.22, 119.9, 1], [6.23, 119.97, 1], [6.23, 119.98, 1], [6.23, 120.03, 1], [6.23, 120.03, 1], [6.24, 120.04, 1], [6.24, 120.04, 1], [6.25, 120.06, 1], [6.25, 120.09, 1], [6.25, 120.1, 1], [6.25, 120.11, 1], [6.26, 120.14, 1], [6.26, 120.16, 1], [6.27, 120.26, 1], [6.27, 120.29, 1], [6.27, 120.47, 1], [6.27, 120.5, 1], [6.27, 120.51, 1], [6.28, 120.63, 1], [6.28, 120.65, 1], [6.28, 120.66, 1], [6.28, 120.66, 1], [6.28, 120.71, 1], [6.29, 120.74, 1], [6.29, 120.78, 1], [6.29, 120.79, 1], [6.3, 120.93, 1], [6.3, 120.94, 1], [6.3, 120.95, 1], [6.31, 121.04, 1], [6.31, 121.04, 1], [6.32, 121.04, 1], [6.32, 121.06, 1], [6.32, 121.18, 1], [6.32, 121.27, 1], [6.32, 121.27, 1], [6.33, 121.33, 1], [6.33, 121.36, 1], [6.33, 121.36, 1], [6.33, 121.43, 1], [6.33, 121.46, 1], [6.34, 121.49, 1], [6.35, 121.51, 1], [6.37, 121.51, 1], [6.37, 121.53, 1], [6.37, 121.53, 1], [6.38, 121.55, 1], [6.38, 121.59, 1], [6.38, 121.61, 1], [6.38, 121.64, 1], [6.38, 121.7, 1], [6.39, 121.72, 1], [6.4, 121.73, 1], [6.4, 121.74, 1], [6.4, 121.76, 1], [6.4, 121.86, 1], [6.4, 121.88, 1], [6.41, 121.94, 1], [6.41, 121.95, 1], [6.41, 121.96, 1], [6.41, 122.03, 1], [6.42, 122.05, 1], [6.42, 122.08, 1], [6.42, 122.09, 1], [6.42, 122.14, 1], [6.42, 122.2, 1], [6.43, 122.21, 1], [6.43, 122.27, 1], [6.43, 122.32, 1], [6.43, 122.35, 1], [6.44, 122.36, 1], [6.44, 122.38, 1], [6.44, 122.41, 1], [6.44, 122.44, 1], [6.44, 122.45, 1], [6.44, 122.53, 1], [6.45, 122.64, 1], [6.45, 122.66, 1], [6.46, 122.68, 1], [6.47, 122.78, 1], [6.47, 122.79, 1], [6.47, 122.85, 1], [6.48, 122.9, 1], [6.48, 122.94, 1], [6.49, 122.94, 1], [6.49, 122.95, 1], [6.49, 123.07, 1], [6.49, 123.08, 1], [6.5, 123.13, 1], [6.5, 123.15, 1], [6.5, 123.17, 1], [6.5, 123.18, 1], [6.5, 123.19, 1], [6.5, 123.19, 1], [6.51, 123.21, 1], [6.51, 123.23, 1], [6.52, 123.32, 1], [6.52, 123.33, 1], [6.52, 123.35, 1], [6.52, 123.43, 1], [6.53, 123.44, 1], [6.53, 123.47, 1], [6.53, 123.5, 1], [6.54, 123.52, 1], [6.54, 123.52, 1], [6.54, 123.54, 1], [6.54, 123.54, 1], [6.54, 123.57, 1], [6.54, 123.58, 1], [6.55, 123.68, 1], [6.55, 123.7, 1], [6.55, 123.71, 1], [6.55, 123.73, 1], [6.55, 123.73, 1], [6.56, 123.79, 1], [6.56, 123.85, 1], [6.56, 123.94, 1], [6.57, 123.95, 1], [6.57, 123.99, 1], [6.57, 123.99, 1], [6.57, 124.01, 1], [6.57, 124.03, 1], [6.57, 124.04, 1], [6.57, 124.05, 1], [6.58, 124.05, 1], [6.58, 124.08, 1], [6.58, 124.17, 1], [6.58, 124.18, 1], [6.58, 124.25, 1], [6.58, 124.28, 1], [6.58, 124.3, 1], [6.58, 124.31, 1], [6.59, 124.42, 1], [6.59, 124.42, 1], [6.59, 124.46, 1], [6.59, 124.52, 1], [6.59, 124.72, 1], [6.59, 124.75, 1], [6.59, 124.76, 1], [6.6, 124.78, 1], [6.6, 124.81, 1], [6.6, 124.87, 1], [6.6, 124.88, 1], [6.6, 124.88, 1], [6.6, 124.91, 1], [6.6, 124.95, 1], [6.61, 124.95, 1], [6.61, 124.97, 1], [6.61, 124.98, 1], [6.61, 125.03, 1], [6.61, 125.07, 1], [6.61, 125.07, 1], [6.62, 125.08, 1], [6.62, 125.08, 1], [6.62, 125.11, 1], [6.62, 125.11, 1], [6.62, 125.12, 1], [6.62, 125.16, 1], [6.62, 125.16, 1], [6.62, 125.22, 1], [6.62, 125.22, 1], [6.62, 125.22, 1], [6.62, 125.23, 1], [6.63, 125.24, 1], [6.63, 125.25, 1], [6.63, 125.38, 1], [6.64, 125.42, 1], [6.64, 125.42, 1], [6.64, 125.45, 1], [6.64, 125.46, 1], [6.64, 125.47, 1], [6.64, 125.49, 1], [6.64, 125.57, 1], [6.65, 125.61, 1], [6.65, 125.64, 1], [6.65, 125.64, 1], [6.65, 125.66, 1], [6.65, 125.68, 1], [6.65, 125.71, 1], [6.65, 125.74, 1], [6.65, 125.75, 1], [6.65, 125.78, 1], [6.66, 125.79, 1], [6.66, 125.81, 1], [6.67, 125.84, 1], [6.67, 125.88, 1], [6.67, 125.89, 1], [6.67, 125.9, 1], [6.67, 125.92, 1], [6.67, 125.94, 1], [6.68, 125.95, 1], [6.68, 125.96, 1], [6.68, 125.97, 1], [6.68, 126.03, 1], [6.69, 126.08, 1], [6.69, 126.18, 1], [6.69, 126.22, 1], [6.69, 126.24, 1], [6.69, 126.27, 1], [6.69, 126.29, 1], [6.69, 126.31, 1], [6.7, 126.41, 1], [6.7, 126.44, 1], [6.7, 126.45, 1], [6.7, 126.5, 1], [6.7, 126.51, 1], [6.7, 126.54, 1], [6.71, 126.54, 1], [6.71, 126.55, 1], [6.71, 126.58, 1], [6.71, 126.59, 1], [6.71, 126.62, 1], [6.71, 126.62, 1], [6.71, 126.65, 1], [6.72, 126.66, 1], [6.72, 126.69, 1], [6.72, 126.7, 1], [6.72, 126.74, 1], [6.73, 126.75, 1], [6.73, 126.78, 1], [6.73, 126.8, 1], [6.73, 126.93, 1], [6.73, 126.93, 1], [6.73, 126.93, 1], [6.74, 126.94, 1], [6.74, 126.94, 1], [6.74, 126.99, 1], [6.74, 127.01, 1], [6.75, 127.01, 1], [6.75, 127.04, 1], [6.75, 127.07, 1], [6.76, 127.16, 1], [6.76, 127.17, 1], [6.76, 127.24, 1], [6.77, 127.26, 1], [6.77, 127.28, 1], [6.77, 127.28, 1], [6.77, 127.3, 1], [6.77, 127.32, 1], [6.77, 127.34, 1], [6.77, 127.34, 1], [6.78, 127.35, 1], [6.78, 127.38, 1], [6.78, 127.41, 1], [6.78, 127.42, 1], [6.78, 127.46, 1], [6.79, 127.46, 1], [6.79, 127.47, 1], [6.79, 127.47, 1], [6.79, 127.48, 1], [6.8, 127.51, 1], [6.8, 127.55, 1], [6.8, 127.55, 1], [6.8, 127.57, 1], [6.8, 127.58, 1], [6.8, 127.59, 1], [6.8, 127.64, 1], [6.8, 127.67, 1], [6.8, 127.67, 1], [6.81, 127.67, 1], [6.81, 127.7, 1], [6.82, 127.75, 1], [6.82, 127.77, 1], [6.82, 127.82, 1], [6.82, 127.94, 1], [6.82, 127.95, 1], [6.82, 127.95, 1], [6.82, 127.95, 1], [6.82, 127.99, 1], [6.82, 128.0, 1], [6.82, 128.08, 1], [6.82, 128.08, 1], [6.82, 128.08, 1], [6.83, 128.22, 1], [6.83, 128.24, 1], [6.83, 128.24, 1], [6.83, 128.27, 1], [6.84, 128.3, 1], [6.84, 128.31, 1], [6.84, 128.31, 1], [6.84, 128.33, 1], [6.84, 128.33, 1], [6.84, 128.35, 1], [6.84, 128.37, 1], [6.84, 128.37, 1], [6.85, 128.41, 1], [6.85, 128.49, 1], [6.85, 128.52, 1], [6.85, 128.54, 1], [6.85, 128.56, 1], [6.85, 128.67, 1], [6.85, 128.68, 1], [6.85, 128.7, 1], [6.86, 128.8, 1], [6.86, 128.8, 1], [6.86, 128.81, 1], [6.86, 128.84, 1], [6.86, 128.85, 1], [6.87, 128.89, 1], [6.87, 128.94, 1], [6.87, 129.0, 1], [6.87, 129.17, 1], [6.87, 129.17, 1], [6.87, 129.18, 1], [6.87, 129.19, 1], [6.88, 129.25, 1], [6.88, 129.3, 1], [6.88, 129.37, 1], [6.88, 129.38, 1], [6.88, 129.42, 1], [6.88, 129.43, 1], [6.88, 129.44, 1], [6.88, 129.46, 1], [6.89, 129.52, 1], [6.89, 129.57, 1], [6.89, 129.58, 1], [6.89, 129.59, 1], [6.89, 129.6, 1], [6.89, 129.68, 1], [6.89, 129.71, 1], [6.9, 129.72, 1], [6.9, 129.73, 1], [6.9, 129.75, 1], [6.9, 129.75, 1], [6.9, 129.78, 1], [6.9, 129.79, 1], [6.9, 129.8, 1], [6.9, 129.81, 1], [6.9, 129.91, 1], [6.9, 129.92, 1], [6.9, 129.94, 1], [6.91, 129.94, 1], [6.91, 129.94, 1], [6.91, 129.99, 1], [6.91, 130.02, 1], [6.91, 130.02, 1], [6.91, 130.13, 1], [6.91, 130.13, 1], [6.91, 130.13, 1], [6.91, 130.14, 1], [6.91, 130.15, 1], [6.91, 130.15, 1], [6.91, 130.15, 1], [6.92, 130.19, 1], [6.92, 130.2, 1], [6.92, 130.25, 1], [6.92, 130.26, 1], [6.92, 130.28, 1], [6.92, 130.29, 1], [6.93, 130.39, 1], [6.93, 130.42, 1], [6.93, 130.43, 1], [6.93, 130.45, 1], [6.93, 130.46, 1], [6.93, 130.48, 1], [6.93, 130.49, 1], [6.93, 130.49, 1], [6.93, 130.51, 1], [6.93, 130.52, 1], [6.93, 130.54, 1], [6.93, 130.57, 1], [6.93, 130.6, 1], [6.94, 130.67, 1], [6.94, 130.68, 1], [6.94, 130.71, 1], [6.94, 130.72, 1], [6.94, 130.73, 1], [6.94, 130.73, 1], [6.95, 130.77, 1], [6.95, 130.8, 1], [6.95, 130.81, 1], [6.95, 130.82, 1], [6.95, 130.84, 1], [6.95, 130.84, 1], [6.95, 130.85, 1], [6.95, 130.88, 1], [6.95, 130.9, 1], [6.95, 130.9, 1], [6.95, 130.9, 1], [6.96, 130.9, 1], [6.96, 130.96, 1], [6.96, 130.97, 1], [6.96, 130.99, 1], [6.97, 130.99, 1], [6.97, 131.02, 1], [6.97, 131.02, 1], [6.97, 131.02, 1], [6.97, 131.03, 1], [6.97, 131.04, 1], [6.98, 131.06, 1], [6.98, 131.11, 1], [6.98, 131.11, 1], [6.98, 131.11, 1], [6.98, 131.11, 1], [6.98, 131.13, 1], [6.98, 131.13, 1], [6.98, 131.18, 1], [6.99, 131.19, 1], [6.99, 131.2, 1], [6.99, 131.21, 1], [6.99, 131.21, 1], [6.99, 131.22, 1], [6.99, 131.23, 1], [6.99, 131.25, 1], [6.99, 131.25, 1], [6.99, 131.28, 1], [6.99, 131.32, 1], [6.99, 131.35, 1], [7.0, 131.35, 1], [7.0, 131.36, 1], [7.0, 131.41, 1], [7.0, 131.44, 1], [7.0, 131.46, 1], [7.0, 131.46, 1], [7.0, 131.5, 1], [7.0, 131.55, 1], [7.01, 131.55, 1], [7.01, 131.6, 1], [7.01, 131.61, 1], [7.01, 131.62, 1], [7.01, 131.62, 1], [7.01, 131.65, 1], [7.01, 131.66, 1], [7.01, 131.69, 1], [7.01, 131.73, 1], [7.02, 131.75, 1], [7.02, 131.78, 1], [7.02, 131.8, 1], [7.02, 131.81, 1], [7.02, 131.85, 1], [7.02, 131.86, 1], [7.02, 131.86, 1], [7.02, 131.86, 1], [7.02, 131.89, 1], [7.03, 131.9, 1], [7.03, 131.91, 1], [7.03, 131.92, 1], [7.03, 131.93, 1], [7.03, 131.93, 1], [7.03, 131.94, 1], [7.03, 131.94, 1], [7.03, 131.97, 1], [7.03, 131.97, 1], [7.03, 131.97, 1], [7.03, 131.97, 1], [7.03, 131.98, 1], [7.03, 131.99, 1], [7.03, 132.04, 1], [7.04, 132.06, 1], [7.04, 132.06, 1], [7.04, 132.08, 1], [7.04, 132.12, 1], [7.04, 132.14, 1], [7.05, 132.15, 1], [7.05, 132.15, 1], [7.05, 132.17, 1], [7.05, 132.19, 1], [7.05, 132.19, 1], [7.06, 132.19, 1], [7.06, 132.24, 1], [7.06, 132.26, 1], [7.06, 132.3, 1], [7.06, 132.3, 1], [7.06, 132.32, 1], [7.06, 132.34, 1], [7.07, 132.37, 1], [7.07, 132.38, 1], [7.07, 132.41, 1], [7.07, 132.42, 1], [7.07, 132.43, 1], [7.07, 132.44, 1], [7.07, 132.53, 1], [7.08, 132.55, 1], [7.08, 132.58, 1], [7.08, 132.59, 1], [7.08, 132.59, 1], [7.08, 132.6, 1], [7.08, 132.62, 1], [7.08, 132.67, 1], [7.08, 132.68, 1], [7.08, 132.7, 1], [7.09, 132.73, 1], [7.09, 132.73, 1], [7.09, 132.74, 1], [7.09, 132.75, 1], [7.09, 132.76, 1], [7.09, 132.77, 1], [7.09, 132.85, 1], [7.1, 132.86, 1], [7.1, 132.88, 1], [7.1, 132.88, 1], [7.1, 132.88, 1], [7.1, 132.91, 1], [7.1, 132.93, 1], [7.1, 132.94, 1], [7.1, 132.98, 1], [7.1, 132.98, 1], [7.1, 132.99, 1], [7.1, 133.0, 1], [7.11, 133.0, 1], [7.11, 133.01, 1], [7.11, 133.02, 1], [7.11, 133.02, 1], [7.11, 133.03, 1], [7.11, 133.03, 1], [7.11, 133.04, 1], [7.11, 133.04, 1], [7.11, 133.05, 1], [7.11, 133.05, 1], [7.11, 133.06, 1], [7.11, 133.07, 1], [7.12, 133.09, 1], [7.12, 133.1, 1], [7.12, 133.12, 1], [7.12, 133.17, 1], [7.12, 133.19, 1], [7.12, 133.19, 1], [7.12, 133.2, 1], [7.12, 133.2, 1], [7.12, 133.21, 1], [7.13, 133.21, 1], [7.13, 133.22, 1], [7.13, 133.24, 1], [7.13, 133.25, 1], [7.14, 133.26, 1], [7.14, 133.27, 1], [7.14, 133.27, 1], [7.14, 133.28, 1], [7.14, 133.28, 1], [7.14, 133.29, 1], [7.14, 133.29, 1], [7.14, 133.3, 1], [7.15, 133.33, 1], [7.15, 133.36, 1], [7.15, 133.37, 1], [7.15, 133.39, 1], [7.15, 133.4, 1], [7.15, 133.4, 1], [7.15, 133.44, 1], [7.15, 133.44, 1], [7.15, 133.45, 1], [7.15, 133.48, 1], [7.15, 133.49, 1], [7.16, 133.52, 1], [7.16, 133.54, 1], [7.16, 133.55, 1], [7.16, 133.57, 1], [7.16, 133.59, 1], [7.16, 133.59, 1], [7.16, 133.62, 1], [7.16, 133.63, 1], [7.16, 133.63, 1], [7.16, 133.64, 1], [7.17, 133.65, 1], [7.17, 133.66, 1], [7.17, 133.68, 1], [7.17, 133.69, 1], [7.17, 133.7, 1], [7.17, 133.7, 1], [7.17, 133.71, 1], [7.18, 133.73, 1], [7.18, 133.74, 1], [7.18, 133.77, 1], [7.18, 133.78, 1], [7.18, 133.79, 1], [7.18, 133.8, 1], [7.19, 133.81, 1], [7.19, 133.82, 1], [7.19, 133.82, 1], [7.19, 133.84, 1], [7.19, 133.86, 1], [7.19, 133.9, 1], [7.19, 133.9, 1], [7.19, 133.9, 1], [7.19, 133.91, 1], [7.19, 133.92, 1], [7.19, 134.01, 1], [7.2, 134.02, 1], [7.2, 134.03, 1], [7.2, 134.03, 1], [7.2, 134.03, 1], [7.2, 134.04, 1], [7.2, 134.05, 1], [7.2, 134.07, 1], [7.2, 134.08, 1], [7.21, 134.09, 1], [7.21, 134.09, 1], [7.21, 134.1, 1], [7.21, 134.11, 1], [7.21, 134.11, 1], [7.21, 134.12, 1], [7.21, 134.13, 1], [7.21, 134.13, 1], [7.21, 134.16, 1], [7.21, 134.17, 1], [7.22, 134.17, 1], [7.22, 134.19, 1], [7.22, 134.2, 1], [7.22, 134.21, 1], [7.22, 134.23, 1], [7.22, 134.23, 1], [7.22, 134.25, 1], [7.22, 134.25, 1], [7.22, 134.27, 1], [7.22, 134.27, 1], [7.22, 134.28, 1], [7.23, 134.29, 1], [7.23, 134.33, 1], [7.23, 134.34, 1], [7.23, 134.35, 1], [7.23, 134.36, 1], [7.23, 134.37, 1], [7.23, 134.39, 1], [7.23, 134.4, 1], [7.23, 134.42, 1], [7.23, 134.45, 1], [7.23, 134.45, 1], [7.23, 134.47, 1], [7.24, 134.47, 1], [7.24, 134.47, 1], [7.24, 134.48, 1], [7.24, 134.49, 1], [7.24, 134.54, 1], [7.24, 134.54, 1], [7.25, 134.56, 1], [7.25, 134.58, 1], [7.25, 134.59, 1], [7.26, 134.61, 1], [7.26, 134.62, 1], [7.26, 134.67, 1], [7.26, 134.68, 1], [7.26, 134.68, 1], [7.26, 134.69, 1], [7.26, 134.7, 1], [7.26, 134.7, 1], [7.26, 134.71, 1], [7.26, 134.71, 1], [7.26, 134.72, 1], [7.26, 134.72, 1], [7.26, 134.73, 1], [7.27, 134.74, 1], [7.27, 134.76, 1], [7.27, 134.78, 1], [7.27, 134.79, 1], [7.27, 134.79, 1], [7.27, 134.8, 1], [7.27, 134.8, 1], [7.27, 134.81, 1], [7.27, 134.82, 1], [7.27, 134.83, 1], [7.28, 134.85, 1], [7.28, 134.85, 1], [7.28, 134.86, 1], [7.28, 134.87, 1], [7.28, 134.88, 1], [7.28, 134.89, 1], [7.28, 134.89, 1], [7.28, 134.9, 1], [7.28, 134.93, 1], [7.28, 134.99, 1], [7.28, 135.0, 1], [7.28, 135.02, 1], [7.29, 135.02, 1], [7.29, 135.08, 1], [7.29, 135.08, 1], [7.29, 135.1, 1], [7.29, 135.13, 1], [7.29, 135.14, 1], [7.29, 135.14, 1], [7.29, 135.2, 1], [7.29, 135.21, 1], [7.3, 135.22, 1], [7.3, 135.22, 1], [7.3, 135.24, 1], [7.3, 135.24, 1], [7.3, 135.24, 1], [7.3, 135.25, 1], [7.3, 135.26, 1], [7.3, 135.27, 1], [7.3, 135.28, 1], [7.3, 135.33, 1], [7.31, 135.35, 1], [7.31, 135.36, 1], [7.31, 135.4, 1], [7.31, 135.4, 1], [7.31, 135.41, 1], [7.31, 135.43, 1], [7.31, 135.44, 1], [7.31, 135.45, 1], [7.31, 135.46, 1], [7.31, 135.48, 1], [7.31, 135.52, 1], [7.31, 135.53, 1], [7.31, 135.55, 1], [7.32, 135.55, 1], [7.32, 135.56, 1], [7.32, 135.63, 1], [7.32, 135.64, 1], [7.32, 135.66, 1], [7.32, 135.68, 1], [7.32, 135.68, 1], [7.32, 135.69, 1], [7.32, 135.69, 1], [7.32, 135.72, 1], [7.32, 135.74, 1], [7.32, 135.74, 1], [7.33, 135.75, 1], [7.33, 135.76, 1], [7.33, 135.78, 1], [7.33, 135.79, 1], [7.33, 135.8, 1], [7.33, 135.81, 1], [7.34, 135.81, 1], [7.34, 135.82, 1], [7.34, 135.87, 1], [7.34, 135.88, 1], [7.34, 135.89, 1], [7.34, 135.9, 1], [7.34, 135.91, 1], [7.35, 135.93, 1], [7.35, 135.94, 1], [7.35, 135.94, 1], [7.35, 135.95, 1], [7.35, 135.95, 1], [7.35, 135.96, 1], [7.35, 135.98, 1], [7.35, 136.0, 1], [7.35, 136.0, 1], [7.35, 136.01, 1], [7.36, 136.01, 1], [7.36, 136.01, 1], [7.36, 136.02, 1], [7.36, 136.02, 1], [7.36, 136.04, 1], [7.36, 136.04, 1], [7.36, 136.04, 1], [7.36, 136.05, 1], [7.36, 136.06, 1], [7.36, 136.07, 1], [7.37, 136.07, 1], [7.37, 136.08, 1], [7.37, 136.1, 1], [7.37, 136.1, 1], [7.37, 136.11, 1], [7.38, 136.12, 1], [7.38, 136.13, 1], [7.38, 136.17, 1], [7.38, 136.18, 1], [7.38, 136.2, 1], [7.38, 136.22, 1], [7.38, 136.23, 1], [7.38, 136.27, 1], [7.39, 136.28, 1], [7.39, 136.3, 1], [7.39, 136.31, 1], [7.39, 136.31, 1], [7.39, 136.31, 1], [7.39, 136.32, 1], [7.39, 136.33, 1], [7.39, 136.33, 1], [7.39, 136.33, 1], [7.39, 136.35, 1], [7.39, 136.36, 1], [7.39, 136.39, 1], [7.39, 136.41, 1], [7.4, 136.43, 1], [7.4, 136.44, 1], [7.4, 136.45, 1], [7.4, 136.45, 1], [7.4, 136.45, 1], [7.4, 136.46, 1], [7.4, 136.47, 1], [7.4, 136.48, 1], [7.4, 136.48, 1], [7.41, 136.49, 1], [7.41, 136.49, 1], [7.41, 136.5, 1], [7.41, 136.53, 1], [7.41, 136.54, 1], [7.41, 136.55, 1], [7.41, 136.56, 1], [7.41, 136.58, 1], [7.41, 136.6, 1], [7.42, 136.61, 1], [7.42, 136.63, 1], [7.42, 136.64, 1], [7.42, 136.68, 1], [7.42, 136.69, 1], [7.42, 136.71, 1], [7.42, 136.76, 1], [7.42, 136.77, 1], [7.42, 136.79, 1], [7.43, 136.81, 1], [7.43, 136.84, 1], [7.43, 136.9, 1], [7.43, 136.93, 1], [7.43, 136.95, 1], [7.43, 137.0, 1], [7.43, 137.07, 1], [7.43, 137.08, 1], [7.43, 137.1, 1], [7.44, 137.12, 1], [7.44, 137.18, 1], [7.44, 137.23, 1], [7.44, 137.24, 1], [7.44, 137.24, 1], [7.44, 137.24, 1], [7.44, 137.24, 1], [7.44, 137.25, 1], [7.44, 137.28, 1], [7.45, 137.29, 1], [7.45, 137.3, 1], [7.45, 137.32, 1], [7.45, 137.32, 1], [7.45, 137.33, 1], [7.45, 137.34, 1], [7.45, 137.35, 1], [7.45, 137.35, 1], [7.45, 137.38, 1], [7.45, 137.38, 1], [7.45, 137.39, 1], [7.45, 137.41, 1], [7.45, 137.42, 1], [7.45, 137.44, 1], [7.45, 137.45, 1], [7.46, 137.51, 1], [7.46, 137.53, 1], [7.46, 137.54, 1], [7.46, 137.54, 1], [7.46, 137.54, 1], [7.46, 137.57, 1], [7.46, 137.6, 1], [7.46, 137.62, 1], [7.46, 137.67, 1], [7.46, 137.7, 1], [7.46, 137.71, 1], [7.47, 137.72, 1], [7.47, 137.73, 1], [7.47, 137.76, 1], [7.47, 137.76, 1], [7.47, 137.78, 1], [7.47, 137.81, 1], [7.47, 137.82, 1], [7.47, 137.83, 1], [7.47, 137.83, 1], [7.47, 137.84, 1], [7.47, 137.84, 1], [7.47, 137.88, 1], [7.48, 137.88, 1], [7.48, 137.89, 1], [7.48, 137.89, 1], [7.48, 137.89, 1], [7.48, 137.92, 1], [7.48, 137.92, 1], [7.48, 137.93, 1], [7.48, 137.95, 1], [7.48, 137.95, 1], [7.48, 137.96, 1], [7.49, 137.97, 1], [7.49, 137.98, 1], [7.49, 137.98, 1], [7.49, 137.99, 1], [7.49, 138.0, 1], [7.49, 138.0, 1], [7.49, 138.03, 1], [7.49, 138.04, 1], [7.49, 138.05, 1], [7.49, 138.06, 1], [7.49, 138.06, 1], [7.49, 138.06, 1], [7.5, 138.09, 1], [7.5, 138.09, 1], [7.5, 138.09, 1], [7.5, 138.09, 1], [7.5, 138.09, 1], [7.5, 138.09, 1], [7.5, 138.09, 1], [7.5, 138.13, 1], [7.5, 138.14, 1], [7.5, 138.14, 1], [7.51, 138.16, 1], [7.51, 138.17, 1], [7.51, 138.18, 1], [7.51, 138.19, 1], [7.51, 138.19, 1], [7.51, 138.21, 1], [7.51, 138.21, 1], [7.51, 138.23, 1], [7.51, 138.23, 1], [7.51, 138.24, 1], [7.51, 138.27, 1], [7.51, 138.29, 1], [7.51, 138.29, 1], [7.52, 138.33, 1], [7.52, 138.33, 1], [7.52, 138.34, 1], [7.52, 138.36, 1], [7.52, 138.37, 1], [7.52, 138.37, 1], [7.52, 138.39, 1], [7.52, 138.42, 1], [7.52, 138.42, 1], [7.52, 138.44, 1], [7.52, 138.44, 1], [7.52, 138.46, 1], [7.52, 138.46, 1], [7.52, 138.47, 1], [7.52, 138.48, 1], [7.52, 138.49, 1], [7.52, 138.54, 1], [7.53, 138.54, 1], [7.53, 138.57, 1], [7.53, 138.58, 1], [7.53, 138.59, 1], [7.53, 138.6, 1], [7.53, 138.6, 1], [7.53, 138.62, 1], [7.53, 138.62, 1], [7.53, 138.62, 1], [7.53, 138.65, 1], [7.53, 138.67, 1], [7.53, 138.67, 1], [7.54, 138.67, 1], [7.54, 138.68, 1], [7.54, 138.69, 1], [7.54, 138.69, 1], [7.54, 138.72, 1], [7.54, 138.72, 1], [7.54, 138.73, 1], [7.55, 138.73, 1], [7.55, 138.75, 1], [7.55, 138.76, 1], [7.55, 138.77, 1], [7.55, 138.78, 1], [7.55, 138.8, 1], [7.55, 138.83, 1], [7.55, 138.84, 1], [7.55, 138.84, 1], [7.55, 138.85, 1], [7.55, 138.85, 1], [7.55, 138.86, 1], [7.56, 138.86, 1], [7.56, 138.88, 1], [7.56, 138.88, 1], [7.56, 138.89, 1], [7.56, 138.94, 1], [7.56, 138.97, 1], [7.56, 138.98, 1], [7.56, 139.0, 1], [7.56, 139.01, 1], [7.56, 139.01, 1], [7.56, 139.01, 1], [7.56, 139.01, 1], [7.57, 139.02, 1], [7.57, 139.04, 1], [7.57, 139.04, 1], [7.57, 139.05, 1], [7.57, 139.05, 1], [7.57, 139.06, 1], [7.57, 139.07, 1], [7.57, 139.07, 1], [7.57, 139.08, 1], [7.57, 139.09, 1], [7.57, 139.09, 1], [7.57, 139.11, 1], [7.57, 139.11, 1], [7.57, 139.12, 1], [7.58, 139.13, 1], [7.58, 139.14, 1], [7.58, 139.15, 1], [7.58, 139.17, 1], [7.58, 139.19, 1], [7.58, 139.19, 1], [7.58, 139.2, 1], [7.58, 139.2, 1], [7.58, 139.22, 1], [7.58, 139.23, 1], [7.58, 139.24, 1], [7.58, 139.24, 1], [7.59, 139.25, 1], [7.59, 139.26, 1], [7.59, 139.29, 1], [7.59, 139.29, 1], [7.59, 139.29, 1], [7.59, 139.3, 1], [7.59, 139.32, 1], [7.59, 139.33, 1], [7.59, 139.34, 1], [7.6, 139.35, 1], [7.6, 139.35, 1], [7.6, 139.39, 1], [7.6, 139.4, 1], [7.6, 139.43, 1], [7.6, 139.44, 1], [7.6, 139.46, 1], [7.6, 139.48, 1], [7.6, 139.49, 1], [7.6, 139.49, 1], [7.61, 139.5, 1], [7.61, 139.51, 1], [7.61, 139.52, 1], [7.61, 139.54, 1], [7.61, 139.54, 1], [7.61, 139.54, 1], [7.61, 139.55, 1], [7.61, 139.57, 1], [7.61, 139.57, 1], [7.61, 139.57, 1], [7.61, 139.6, 1], [7.61, 139.62, 1], [7.61, 139.63, 1], [7.61, 139.65, 1], [7.61, 139.68, 1], [7.62, 139.68, 1], [7.62, 139.69, 1], [7.62, 139.71, 1], [7.62, 139.72, 1], [7.62, 139.73, 1], [7.62, 139.78, 1], [7.62, 139.78, 1], [7.62, 139.79, 1], [7.62, 139.82, 1], [7.62, 139.82, 1], [7.63, 139.83, 1], [7.63, 139.84, 1], [7.63, 139.84, 1], [7.63, 139.89, 1], [7.63, 139.89, 1], [7.63, 139.89, 1], [7.63, 139.9, 1], [7.63, 139.91, 1], [7.63, 139.91, 1], [7.63, 139.92, 1], [7.63, 139.93, 1], [7.63, 139.93, 1], [7.63, 139.93, 1], [7.63, 139.94, 1], [7.63, 139.95, 1], [7.63, 139.96, 1], [7.64, 139.96, 1], [7.64, 139.96, 1], [7.64, 139.97, 1], [7.64, 139.98, 1], [7.64, 140.0, 1], [7.64, 140.01, 1], [7.64, 140.01, 1], [7.65, 140.02, 1], [7.65, 140.04, 1], [7.65, 140.04, 1], [7.65, 140.08, 1], [7.65, 140.1, 1], [7.65, 140.11, 1], [7.65, 140.11, 1], [7.65, 140.12, 1], [7.65, 140.14, 1], [7.65, 140.15, 1], [7.65, 140.17, 1], [7.65, 140.19, 1], [7.65, 140.2, 1], [7.66, 140.21, 1], [7.66, 140.21, 1], [7.66, 140.24, 1], [7.66, 140.24, 1], [7.66, 140.27, 1], [7.66, 140.28, 1], [7.66, 140.29, 1], [7.66, 140.29, 1], [7.66, 140.29, 1], [7.67, 140.3, 1], [7.67, 140.3, 1], [7.67, 140.31, 1], [7.67, 140.32, 1], [7.67, 140.32, 1], [7.67, 140.33, 1], [7.67, 140.33, 1], [7.67, 140.33, 1], [7.67, 140.36, 1], [7.67, 140.43, 1], [7.67, 140.43, 1], [7.67, 140.44, 1], [7.67, 140.45, 1], [7.67, 140.45, 1], [7.67, 140.45, 1], [7.67, 140.48, 1], [7.68, 140.53, 1], [7.68, 140.53, 1], [7.68, 140.54, 1], [7.68, 140.56, 1], [7.68, 140.56, 1], [7.68, 140.58, 1], [7.68, 140.58, 1], [7.68, 140.59, 1], [7.68, 140.6, 1], [7.68, 140.61, 1], [7.68, 140.62, 1], [7.68, 140.64, 1], [7.68, 140.64, 1], [7.68, 140.65, 1], [7.69, 140.65, 1], [7.69, 140.66, 1], [7.69, 140.66, 1], [7.69, 140.66, 1], [7.69, 140.66, 1], [7.69, 140.68, 1], [7.69, 140.69, 1], [7.69, 140.69, 1], [7.69, 140.7, 1], [7.69, 140.71, 1], [7.69, 140.71, 1], [7.69, 140.71, 1], [7.69, 140.73, 1], [7.7, 140.74, 1], [7.7, 140.74, 1], [7.7, 140.75, 1], [7.7, 140.76, 1], [7.7, 140.8, 1], [7.7, 140.81, 1], [7.7, 140.83, 1], [7.7, 140.84, 1], [7.71, 140.86, 1], [7.71, 140.86, 1], [7.71, 140.89, 1], [7.71, 140.89, 1], [7.71, 140.89, 1], [7.71, 140.89, 1], [7.71, 140.9, 1], [7.71, 140.9, 1], [7.71, 140.91, 1], [7.71, 140.92, 1], [7.71, 140.92, 1], [7.71, 140.93, 1], [7.71, 140.93, 1], [7.71, 140.94, 1], [7.71, 140.96, 1], [7.71, 140.96, 1], [7.72, 140.97, 1], [7.72, 140.97, 1], [7.72, 140.98, 1], [7.72, 140.99, 1], [7.72, 141.01, 1], [7.72, 141.02, 1], [7.72, 141.03, 1], [7.72, 141.03, 1], [7.72, 141.03, 1], [7.72, 141.04, 1], [7.72, 141.06, 1], [7.72, 141.06, 1], [7.72, 141.06, 1], [7.72, 141.08, 1], [7.72, 141.08, 1], [7.73, 141.09, 1], [7.73, 141.1, 1], [7.73, 141.1, 1], [7.73, 141.11, 1], [7.73, 141.12, 1], [7.73, 141.13, 1], [7.73, 141.14, 1], [7.73, 141.14, 1], [7.74, 141.16, 1], [7.74, 141.18, 1], [7.74, 141.21, 1], [7.74, 141.22, 1], [7.74, 141.24, 1], [7.74, 141.25, 1], [7.74, 141.25, 1], [7.74, 141.27, 1], [7.74, 141.27, 1], [7.74, 141.28, 1], [7.74, 141.29, 1], [7.74, 141.29, 1], [7.75, 141.3, 1], [7.75, 141.33, 1], [7.75, 141.34, 1], [7.75, 141.35, 1], [7.75, 141.36, 1], [7.75, 141.36, 1], [7.75, 141.36, 1], [7.75, 141.36, 1], [7.75, 141.38, 1], [7.75, 141.38, 1], [7.75, 141.4, 1], [7.75, 141.41, 1], [7.75, 141.41, 1], [7.75, 141.42, 1], [7.75, 141.44, 1], [7.75, 141.44, 1], [7.75, 141.44, 1], [7.75, 141.44, 1], [7.76, 141.45, 1], [7.76, 141.45, 1], [7.76, 141.46, 1], [7.76, 141.46, 1], [7.76, 141.57, 1], [7.76, 141.58, 1], [7.76, 141.59, 1], [7.76, 141.59, 1], [7.76, 141.64, 1], [7.76, 141.64, 1], [7.76, 141.67, 1], [7.77, 141.67, 1], [7.77, 141.68, 1], [7.77, 141.72, 1], [7.77, 141.73, 1], [7.77, 141.73, 1], [7.77, 141.74, 1], [7.77, 141.76, 1], [7.77, 141.76, 1], [7.77, 141.77, 1], [7.77, 141.82, 1], [7.77, 141.83, 1], [7.77, 141.84, 1], [7.77, 141.86, 1], [7.77, 141.87, 1], [7.77, 141.88, 1], [7.77, 141.9, 1], [7.77, 141.91, 1], [7.77, 141.94, 1], [7.78, 141.97, 1], [7.78, 141.97, 1], [7.78, 141.97, 1], [7.78, 141.99, 1], [7.78, 141.99, 1], [7.78, 141.99, 1], [7.78, 141.99, 1], [7.78, 142.0, 1], [7.78, 142.0, 1], [7.78, 142.01, 1], [7.78, 142.01, 1], [7.78, 142.01, 1], [7.78, 142.02, 1], [7.78, 142.03, 1], [7.78, 142.03, 1], [7.79, 142.03, 1], [7.79, 142.06, 1], [7.79, 142.07, 1], [7.79, 142.07, 1], [7.79, 142.08, 1], [7.79, 142.08, 1], [7.79, 142.09, 1], [7.79, 142.09, 1], [7.79, 142.11, 1], [7.79, 142.12, 1], [7.79, 142.12, 1], [7.79, 142.13, 1], [7.79, 142.13, 1], [7.79, 142.14, 1], [7.79, 142.17, 1], [7.79, 142.22, 1], [7.79, 142.23, 1], [7.8, 142.23, 1], [7.8, 142.28, 1], [7.8, 142.31, 1], [7.8, 142.33, 1], [7.8, 142.33, 1], [7.8, 142.34, 1], [7.8, 142.35, 1], [7.8, 142.35, 1], [7.8, 142.36, 1], [7.8, 142.36, 1], [7.8, 142.37, 1], [7.8, 142.37, 1], [7.8, 142.37, 1], [7.8, 142.38, 1], [7.8, 142.38, 1], [7.81, 142.39, 1], [7.81, 142.4, 1], [7.81, 142.42, 1], [7.81, 142.42, 1], [7.81, 142.43, 1], [7.81, 142.44, 1], [7.81, 142.46, 1], [7.81, 142.5, 1], [7.81, 142.51, 1], [7.81, 142.51, 1], [7.81, 142.52, 1], [7.81, 142.53, 1], [7.81, 142.54, 1], [7.81, 142.54, 1], [7.81, 142.55, 1], [7.81, 142.56, 1], [7.81, 142.57, 1], [7.81, 142.59, 1], [7.82, 142.61, 1], [7.82, 142.62, 1], [7.82, 142.62, 1], [7.82, 142.63, 1], [7.82, 142.68, 1], [7.82, 142.68, 1], [7.82, 142.69, 1], [7.82, 142.7, 1], [7.82, 142.71, 1], [7.82, 142.75, 1], [7.82, 142.75, 1], [7.82, 142.77, 1], [7.82, 142.78, 1], [7.82, 142.78, 1], [7.82, 142.8, 1], [7.83, 142.81, 1], [7.83, 142.83, 1], [7.83, 142.83, 1], [7.83, 142.83, 1], [7.83, 142.86, 1], [7.83, 142.86, 1], [7.83, 142.86, 1], [7.83, 142.87, 1], [7.83, 142.88, 1], [7.83, 142.88, 1], [7.83, 142.9, 1], [7.83, 142.91, 1], [7.83, 142.93, 1], [7.83, 142.94, 1], [7.83, 142.94, 1], [7.84, 142.96, 1], [7.84, 143.0, 1], [7.84, 143.02, 1], [7.84, 143.02, 1], [7.84, 143.04, 1], [7.84, 143.04, 1], [7.84, 143.05, 1], [7.84, 143.06, 1], [7.84, 143.06, 1], [7.84, 143.08, 1], [7.84, 143.11, 1], [7.84, 143.11, 1], [7.84, 143.12, 1], [7.84, 143.12, 1], [7.84, 143.13, 1], [7.84, 143.14, 1], [7.85, 143.14, 1], [7.85, 143.15, 1], [7.85, 143.15, 1], [7.85, 143.15, 1], [7.85, 143.17, 1], [7.85, 143.18, 1], [7.85, 143.21, 1], [7.85, 143.22, 1], [7.85, 143.23, 1], [7.85, 143.23, 1], [7.85, 143.24, 1], [7.85, 143.25, 1], [7.85, 143.25, 1], [7.85, 143.26, 1], [7.86, 143.26, 1], [7.86, 143.3, 1], [7.86, 143.32, 1], [7.86, 143.33, 1], [7.86, 143.35, 1], [7.86, 143.35, 1], [7.86, 143.36, 1], [7.86, 143.38, 1], [7.86, 143.38, 1], [7.86, 143.41, 1], [7.86, 143.42, 1], [7.86, 143.43, 1], [7.86, 143.43, 1], [7.86, 143.45, 1], [7.86, 143.46, 1], [7.86, 143.47, 1], [7.86, 143.47, 1], [7.86, 143.47, 1], [7.86, 143.49, 1], [7.86, 143.5, 1], [7.86, 143.52, 1], [7.87, 143.55, 1], [7.87, 143.56, 1], [7.87, 143.57, 1], [7.87, 143.57, 1], [7.87, 143.63, 1], [7.87, 143.63, 1], [7.87, 143.68, 1], [7.87, 143.69, 1], [7.87, 143.69, 1], [7.87, 143.7, 1], [7.87, 143.7, 1], [7.87, 143.7, 1], [7.87, 143.72, 1], [7.87, 143.72, 1], [7.87, 143.73, 1], [7.87, 143.73, 1], [7.87, 143.74, 1], [7.87, 143.76, 1], [7.87, 143.76, 1], [7.88, 143.76, 1], [7.88, 143.76, 1], [7.88, 143.77, 1], [7.88, 143.78, 1], [7.88, 143.8, 1], [7.88, 143.8, 1], [7.88, 143.82, 1], [7.88, 143.86, 1], [7.88, 143.87, 1], [7.88, 143.89, 1], [7.89, 143.95, 1], [7.89, 143.95, 1], [7.89, 143.96, 1], [7.89, 143.98, 1], [7.89, 143.99, 1], [7.89, 144.0, 1], [7.89, 144.0, 1], [7.89, 144.01, 1], [7.9, 144.03, 1], [7.9, 144.03, 1], [7.9, 144.03, 1], [7.9, 144.05, 1], [7.9, 144.05, 1], [7.9, 144.06, 1], [7.9, 144.07, 1], [7.9, 144.09, 1], [7.9, 144.09, 1], [7.9, 144.1, 1], [7.9, 144.16, 1], [7.9, 144.18, 1], [7.9, 144.18, 1], [7.9, 144.19, 1], [7.9, 144.22, 1], [7.9, 144.24, 1], [7.91, 144.25, 1], [7.91, 144.28, 1], [7.91, 144.29, 1], [7.91, 144.31, 1], [7.91, 144.32, 1], [7.91, 144.32, 1], [7.91, 144.33, 1], [7.91, 144.33, 1], [7.91, 144.33, 1], [7.91, 144.33, 1], [7.91, 144.37, 1], [7.91, 144.37, 1], [7.91, 144.37, 1], [7.91, 144.38, 1], [7.92, 144.38, 1], [7.92, 144.39, 1], [7.92, 144.41, 1], [7.92, 144.41, 1], [7.92, 144.42, 1], [7.92, 144.43, 1], [7.92, 144.44, 1], [7.92, 144.45, 1], [7.92, 144.45, 1], [7.92, 144.45, 1], [7.92, 144.45, 1], [7.92, 144.47, 1], [7.92, 144.48, 1], [7.92, 144.48, 1], [7.93, 144.48, 1], [7.93, 144.5, 1], [7.93, 144.5, 1], [7.93, 144.52, 1], [7.93, 144.53, 1], [7.93, 144.53, 1], [7.93, 144.55, 1], [7.93, 144.56, 1], [7.93, 144.57, 1], [7.93, 144.58, 1], [7.94, 144.59, 1], [7.94, 144.6, 1], [7.94, 144.6, 1], [7.94, 144.6, 1], [7.94, 144.61, 1], [7.94, 144.61, 1], [7.94, 144.62, 1], [7.94, 144.62, 1], [7.94, 144.62, 1], [7.94, 144.64, 1], [7.94, 144.64, 1], [7.94, 144.65, 1], [7.94, 144.65, 1], [7.94, 144.65, 1], [7.94, 144.65, 1], [7.94, 144.66, 1], [7.95, 144.67, 1], [7.95, 144.67, 1], [7.95, 144.71, 1], [7.95, 144.72, 1], [7.95, 144.72, 1], [7.95, 144.74, 1], [7.95, 144.76, 1], [7.95, 144.78, 1], [7.95, 144.81, 1], [7.95, 144.81, 1], [7.95, 144.81, 1], [7.96, 144.82, 1], [7.96, 144.82, 1], [7.96, 144.82, 1], [7.96, 144.84, 1], [7.96, 144.85, 1], [7.96, 144.86, 1], [7.96, 144.86, 1], [7.96, 144.88, 1], [7.96, 144.89, 1], [7.96, 144.9, 1], [7.96, 144.92, 1], [7.96, 144.92, 1], [7.96, 144.96, 1], [7.96, 144.98, 1], [7.97, 144.99, 1], [7.97, 145.0, 1], [7.97, 145.02, 1], [7.97, 145.04, 1], [7.97, 145.06, 1], [7.97, 145.07, 1], [7.97, 145.08, 1], [7.97, 145.08, 1], [7.97, 145.1, 1], [7.97, 145.11, 1], [7.97, 145.11, 1], [7.97, 145.12, 1], [7.97, 145.14, 1], [7.97, 145.15, 1], [7.97, 145.15, 1], [7.97, 145.19, 1], [7.97, 145.19, 1], [7.97, 145.19, 1], [7.97, 145.2, 1], [7.98, 145.23, 1], [7.98, 145.25, 1], [7.98, 145.25, 1], [7.98, 145.27, 1], [7.98, 145.28, 1], [7.98, 145.28, 1], [7.98, 145.29, 1], [7.98, 145.3, 1], [7.98, 145.31, 1], [7.98, 145.32, 1], [7.98, 145.33, 1], [7.98, 145.34, 1], [7.98, 145.34, 1], [7.98, 145.35, 1], [7.98, 145.36, 1], [7.98, 145.36, 1], [7.98, 145.37, 1], [7.98, 145.38, 1], [7.98, 145.38, 1], [7.98, 145.43, 1], [7.98, 145.44, 1], [7.99, 145.44, 1], [7.99, 145.45, 1], [7.99, 145.45, 1], [7.99, 145.46, 1], [7.99, 145.46, 1], [7.99, 145.48, 1], [7.99, 145.49, 1], [7.99, 145.49, 1], [7.99, 145.5, 1], [7.99, 145.5, 1], [8.0, 145.51, 1], [8.0, 145.52, 1], [8.0, 145.53, 1], [8.0, 145.57, 1], [8.0, 145.57, 1], [8.0, 145.58, 1], [8.0, 145.59, 1], [8.0, 145.59, 1], [8.0, 145.6, 1], [8.0, 145.61, 1], [8.0, 145.63, 1], [8.0, 145.64, 1], [8.0, 145.64, 1], [8.0, 145.65, 1], [8.01, 145.7, 1], [8.01, 145.7, 1], [8.01, 145.7, 1], [8.01, 145.71, 1], [8.01, 145.72, 1], [8.01, 145.72, 1], [8.01, 145.72, 1], [8.01, 145.74, 1], [8.01, 145.74, 1], [8.01, 145.76, 1], [8.01, 145.76, 1], [8.01, 145.79, 1], [8.01, 145.79, 1], [8.01, 145.8, 1], [8.01, 145.8, 1], [8.01, 145.82, 1], [8.02, 145.82, 1], [8.02, 145.84, 1], [8.02, 145.85, 1], [8.02, 145.85, 1], [8.02, 145.87, 1], [8.02, 145.88, 1], [8.02, 145.9, 1], [8.02, 145.91, 1], [8.02, 145.92, 1], [8.02, 145.92, 1], [8.02, 145.93, 1], [8.02, 145.95, 1], [8.02, 145.95, 1], [8.03, 145.96, 1], [8.03, 145.96, 1], [8.03, 145.96, 1], [8.03, 145.97, 1], [8.03, 145.98, 1], [8.03, 145.98, 1], [8.03, 145.99, 1], [8.03, 146.01, 1], [8.03, 146.01, 1], [8.03, 146.01, 1], [8.03, 146.05, 1], [8.03, 146.05, 1], [8.03, 146.09, 1], [8.04, 146.11, 1], [8.04, 146.12, 1], [8.04, 146.13, 1], [8.04, 146.14, 1], [8.04, 146.17, 1], [8.04, 146.17, 1], [8.04, 146.18, 1], [8.05, 146.18, 1], [8.05, 146.19, 1], [8.05, 146.2, 1], [8.05, 146.2, 1], [8.05, 146.21, 1], [8.05, 146.22, 1], [8.05, 146.24, 1], [8.05, 146.25, 1], [8.05, 146.3, 1], [8.05, 146.3, 1], [8.05, 146.31, 1], [8.05, 146.31, 1], [8.05, 146.33, 1], [8.05, 146.34, 1], [8.05, 146.34, 1], [8.05, 146.35, 1], [8.05, 146.35, 1], [8.05, 146.36, 1], [8.05, 146.38, 1], [8.05, 146.4, 1], [8.06, 146.41, 1], [8.06, 146.43, 1], [8.06, 146.43, 1], [8.06, 146.44, 1], [8.06, 146.44, 1], [8.06, 146.45, 1], [8.06, 146.45, 1], [8.06, 146.46, 1], [8.06, 146.46, 1], [8.06, 146.49, 1], [8.06, 146.5, 1], [8.07, 146.51, 1], [8.07, 146.56, 1], [8.07, 146.58, 1], [8.07, 146.58, 1], [8.07, 146.59, 1], [8.07, 146.59, 1], [8.07, 146.61, 1], [8.07, 146.61, 1], [8.07, 146.63, 1], [8.07, 146.63, 1], [8.07, 146.65, 1], [8.07, 146.65, 1], [8.07, 146.68, 1], [8.07, 146.71, 1], [8.07, 146.71, 1], [8.07, 146.71, 1], [8.07, 146.73, 1], [8.07, 146.73, 1], [8.07, 146.73, 1], [8.08, 146.75, 1], [8.08, 146.75, 1], [8.08, 146.75, 1], [8.08, 146.75, 1], [8.08, 146.75, 1], [8.08, 146.76, 1], [8.08, 146.78, 1], [8.08, 146.78, 1], [8.08, 146.8, 1], [8.08, 146.8, 1], [8.08, 146.8, 1], [8.08, 146.82, 1], [8.08, 146.82, 1], [8.08, 146.83, 1], [8.08, 146.83, 1], [8.08, 146.85, 1], [8.08, 146.86, 1], [8.08, 146.87, 1], [8.09, 146.88, 1], [8.09, 146.9, 1], [8.09, 146.9, 1], [8.09, 146.91, 1], [8.09, 146.94, 1], [8.09, 146.95, 1], [8.09, 146.96, 1], [8.09, 146.97, 1], [8.09, 146.97, 1], [8.09, 146.97, 1], [8.09, 146.98, 1], [8.09, 146.98, 1], [8.09, 147.0, 1], [8.09, 147.01, 1], [8.09, 147.01, 1], [8.09, 147.02, 1], [8.09, 147.02, 1], [8.09, 147.03, 1], [8.09, 147.03, 1], [8.1, 147.03, 1], [8.1, 147.04, 1], [8.1, 147.05, 1], [8.1, 147.05, 1], [8.1, 147.07, 1], [8.1, 147.07, 1], [8.1, 147.08, 1], [8.1, 147.1, 1], [8.1, 147.12, 1], [8.1, 147.14, 1], [8.1, 147.16, 1], [8.1, 147.16, 1], [8.1, 147.16, 1], [8.1, 147.18, 1], [8.11, 147.2, 1], [8.11, 147.22, 1], [8.11, 147.22, 1], [8.11, 147.23, 1], [8.11, 147.27, 1], [8.11, 147.28, 1], [8.11, 147.28, 1], [8.11, 147.3, 1], [8.11, 147.3, 1], [8.11, 147.3, 1], [8.11, 147.32, 1], [8.11, 147.34, 1], [8.11, 147.36, 1], [8.11, 147.36, 1], [8.12, 147.36, 1], [8.12, 147.37, 1], [8.12, 147.37, 1], [8.12, 147.38, 1], [8.12, 147.39, 1], [8.12, 147.41, 1], [8.12, 147.42, 1], [8.12, 147.45, 1], [8.12, 147.46, 1], [8.12, 147.46, 1], [8.12, 147.46, 1], [8.12, 147.46, 1], [8.12, 147.46, 1], [8.12, 147.47, 1], [8.12, 147.48, 1], [8.12, 147.49, 1], [8.12, 147.5, 1], [8.13, 147.51, 1], [8.13, 147.52, 1], [8.13, 147.53, 1], [8.13, 147.53, 1], [8.13, 147.55, 1], [8.13, 147.57, 1], [8.13, 147.57, 1], [8.13, 147.57, 1], [8.13, 147.58, 1], [8.13, 147.58, 1], [8.13, 147.59, 1], [8.13, 147.62, 1], [8.13, 147.64, 1], [8.13, 147.66, 1], [8.13, 147.66, 1], [8.14, 147.67, 1], [8.14, 147.68, 1], [8.14, 147.69, 1], [8.14, 147.69, 1], [8.14, 147.69, 1], [8.14, 147.73, 1], [8.14, 147.74, 1], [8.14, 147.75, 1], [8.14, 147.75, 1], [8.14, 147.75, 1], [8.14, 147.75, 1], [8.14, 147.77, 1], [8.14, 147.77, 1], [8.14, 147.81, 1], [8.14, 147.81, 1], [8.14, 147.82, 1], [8.15, 147.83, 1], [8.15, 147.83, 1], [8.15, 147.85, 1], [8.15, 147.85, 1], [8.15, 147.86, 1], [8.15, 147.86, 1], [8.15, 147.87, 1], [8.15, 147.87, 1], [8.15, 147.92, 1], [8.15, 147.93, 1], [8.15, 147.94, 1], [8.15, 147.95, 1], [8.15, 147.95, 1], [8.15, 147.96, 1], [8.15, 147.99, 1], [8.15, 148.0, 1], [8.16, 148.0, 1], [8.16, 148.0, 1], [8.16, 148.02, 1], [8.16, 148.02, 1], [8.16, 148.02, 1], [8.16, 148.02, 1], [8.16, 148.02, 1], [8.16, 148.03, 1], [8.16, 148.03, 1], [8.16, 148.04, 1], [8.16, 148.05, 1], [8.16, 148.06, 1], [8.16, 148.07, 1], [8.16, 148.09, 1], [8.16, 148.1, 1], [8.16, 148.11, 1], [8.16, 148.12, 1], [8.16, 148.13, 1], [8.16, 148.14, 1], [8.17, 148.14, 1], [8.17, 148.15, 1], [8.17, 148.15, 1], [8.17, 148.15, 1], [8.17, 148.16, 1], [8.17, 148.17, 1], [8.17, 148.18, 1], [8.17, 148.19, 1], [8.17, 148.19, 1], [8.17, 148.19, 1], [8.17, 148.2, 1], [8.17, 148.21, 1], [8.17, 148.21, 1], [8.17, 148.22, 1], [8.17, 148.23, 1], [8.17, 148.25, 1], [8.17, 148.25, 1], [8.18, 148.27, 1], [8.18, 148.27, 1], [8.18, 148.28, 1], [8.18, 148.28, 1], [8.18, 148.28, 1], [8.18, 148.28, 1], [8.18, 148.28, 1], [8.19, 148.29, 1], [8.19, 148.32, 1], [8.19, 148.32, 1], [8.19, 148.33, 1], [8.19, 148.34, 1], [8.19, 148.36, 1], [8.19, 148.37, 1], [8.19, 148.37, 1], [8.19, 148.37, 1], [8.19, 148.38, 1], [8.19, 148.39, 1], [8.19, 148.39, 1], [8.19, 148.4, 1], [8.19, 148.4, 1], [8.19, 148.41, 1], [8.19, 148.42, 1], [8.19, 148.45, 1], [8.19, 148.45, 1], [8.2, 148.47, 1], [8.2, 148.48, 1], [8.2, 148.49, 1], [8.2, 148.5, 1], [8.2, 148.52, 1], [8.2, 148.52, 1], [8.2, 148.52, 1], [8.2, 148.54, 1], [8.2, 148.54, 1], [8.2, 148.54, 1], [8.2, 148.55, 1], [8.2, 148.56, 1], [8.2, 148.57, 1], [8.2, 148.59, 1], [8.2, 148.61, 1], [8.21, 148.61, 1], [8.21, 148.62, 1], [8.21, 148.62, 1], [8.21, 148.62, 1], [8.21, 148.63, 1], [8.21, 148.64, 1], [8.21, 148.65, 1], [8.21, 148.66, 1], [8.21, 148.67, 1], [8.21, 148.67, 1], [8.21, 148.68, 1], [8.21, 148.7, 1], [8.21, 148.7, 1], [8.21, 148.71, 1], [8.21, 148.73, 1], [8.21, 148.73, 1], [8.21, 148.75, 1], [8.21, 148.75, 1], [8.21, 148.75, 1], [8.22, 148.76, 1], [8.22, 148.78, 1], [8.22, 148.8, 1], [8.22, 148.8, 1], [8.22, 148.81, 1], [8.22, 148.81, 1], [8.22, 148.82, 1], [8.22, 148.82, 1], [8.22, 148.82, 1], [8.22, 148.84, 1], [8.22, 148.85, 1], [8.22, 148.86, 1], [8.22, 148.87, 1], [8.22, 148.88, 1], [8.22, 148.89, 1], [8.22, 148.9, 1], [8.23, 148.91, 1], [8.23, 148.91, 1], [8.23, 148.92, 1], [8.23, 148.93, 1], [8.23, 148.96, 1], [8.23, 148.96, 1], [8.23, 148.96, 1], [8.23, 148.97, 1], [8.23, 148.97, 1], [8.23, 148.98, 1], [8.23, 149.02, 1], [8.23, 149.02, 1], [8.23, 149.03, 1], [8.23, 149.03, 1], [8.24, 149.03, 1], [8.24, 149.04, 1], [8.24, 149.05, 1], [8.24, 149.06, 1], [8.24, 149.06, 1], [8.24, 149.06, 1], [8.24, 149.07, 1], [8.24, 149.07, 1], [8.24, 149.09, 1], [8.24, 149.11, 1], [8.24, 149.11, 1], [8.24, 149.14, 1], [8.24, 149.16, 1], [8.24, 149.16, 1], [8.24, 149.18, 1], [8.24, 149.18, 1], [8.25, 149.19, 1], [8.25, 149.19, 1], [8.25, 149.21, 1], [8.25, 149.21, 1], [8.25, 149.22, 1], [8.25, 149.24, 1], [8.25, 149.24, 1], [8.25, 149.25, 1], [8.25, 149.25, 1], [8.25, 149.25, 1], [8.25, 149.26, 1], [8.25, 149.27, 1], [8.25, 149.28, 1], [8.25, 149.29, 1], [8.25, 149.29, 1], [8.25, 149.29, 1], [8.25, 149.31, 1], [8.25, 149.31, 1], [8.25, 149.32, 1], [8.25, 149.34, 1], [8.26, 149.35, 1], [8.26, 149.36, 1], [8.26, 149.36, 1], [8.26, 149.38, 1], [8.27, 149.38, 1], [8.27, 149.39, 1], [8.27, 149.43, 1], [8.27, 149.44, 1], [8.27, 149.44, 1], [8.27, 149.44, 1], [8.27, 149.44, 1], [8.27, 149.45, 1], [8.27, 149.45, 1], [8.27, 149.46, 1], [8.27, 149.46, 1], [8.27, 149.46, 1], [8.27, 149.48, 1], [8.27, 149.48, 1], [8.27, 149.49, 1], [8.27, 149.49, 1], [8.27, 149.5, 1], [8.27, 149.5, 1], [8.28, 149.5, 1], [8.28, 149.53, 1], [8.28, 149.53, 1], [8.28, 149.54, 1], [8.28, 149.54, 1], [8.28, 149.56, 1], [8.28, 149.57, 1], [8.28, 149.6, 1], [8.29, 149.6, 1], [8.29, 149.61, 1], [8.29, 149.63, 1], [8.29, 149.64, 1], [8.29, 149.66, 1], [8.29, 149.67, 1], [8.29, 149.68, 1], [8.29, 149.69, 1], [8.29, 149.69, 1], [8.29, 149.7, 1], [8.29, 149.71, 1], [8.29, 149.73, 1], [8.29, 149.74, 1], [8.3, 149.75, 1], [8.3, 149.77, 1], [8.3, 149.78, 1], [8.3, 149.78, 1], [8.3, 149.79, 1], [8.3, 149.79, 1], [8.3, 149.8, 1], [8.3, 149.81, 1], [8.3, 149.81, 1], [8.3, 149.81, 1], [8.3, 149.82, 1], [8.31, 149.82, 1], [8.31, 149.82, 1], [8.31, 149.83, 1], [8.31, 149.83, 1], [8.31, 149.84, 1], [8.31, 149.85, 1], [8.31, 149.86, 1], [8.31, 149.87, 1], [8.31, 149.88, 1], [8.31, 149.89, 1], [8.31, 149.9, 1], [8.31, 149.9, 1], [8.32, 149.92, 1], [8.32, 149.92, 1], [8.32, 149.93, 1], [8.32, 149.93, 1], [8.32, 149.93, 1], [8.32, 149.94, 1], [8.32, 149.95, 1], [8.32, 149.97, 1], [8.32, 149.97, 1], [8.32, 149.97, 1], [8.32, 149.98, 1], [8.32, 149.98, 1], [8.32, 149.99, 1], [8.32, 150.01, 1], [8.32, 150.04, 1], [8.32, 150.04, 1], [8.32, 150.04, 1], [8.32, 150.05, 1], [8.32, 150.06, 1], [8.32, 150.07, 1], [8.33, 150.08, 1], [8.33, 150.08, 1], [8.33, 150.09, 1], [8.33, 150.1, 1], [8.33, 150.12, 1], [8.33, 150.12, 1], [8.33, 150.13, 1], [8.33, 150.14, 1], [8.33, 150.15, 1], [8.33, 150.17, 1], [8.33, 150.18, 1], [8.33, 150.22, 1], [8.33, 150.22, 1], [8.33, 150.23, 1], [8.33, 150.23, 1], [8.33, 150.23, 1], [8.33, 150.24, 1], [8.33, 150.25, 1], [8.33, 150.25, 1], [8.33, 150.26, 1], [8.33, 150.26, 1], [8.33, 150.27, 1], [8.33, 150.29, 1], [8.33, 150.3, 1], [8.34, 150.3, 1], [8.34, 150.31, 1], [8.34, 150.35, 1], [8.34, 150.36, 1], [8.34, 150.36, 1], [8.34, 150.37, 1], [8.34, 150.39, 1], [8.34, 150.4, 1], [8.34, 150.41, 1], [8.34, 150.41, 1], [8.34, 150.42, 1], [8.34, 150.43, 1], [8.34, 150.46, 1], [8.34, 150.46, 1], [8.34, 150.48, 1], [8.35, 150.49, 1], [8.35, 150.52, 1], [8.35, 150.52, 1], [8.35, 150.53, 1], [8.35, 150.53, 1], [8.35, 150.54, 1], [8.35, 150.54, 1], [8.35, 150.55, 1], [8.35, 150.58, 1], [8.35, 150.59, 1], [8.35, 150.61, 1], [8.35, 150.63, 1], [8.35, 150.64, 1], [8.35, 150.64, 1], [8.35, 150.65, 1], [8.36, 150.65, 1], [8.36, 150.65, 1], [8.36, 150.67, 1], [8.36, 150.7, 1], [8.36, 150.72, 1], [8.36, 150.73, 1], [8.36, 150.73, 1], [8.36, 150.75, 1], [8.36, 150.76, 1], [8.36, 150.76, 1], [8.36, 150.77, 1], [8.36, 150.77, 1], [8.36, 150.78, 1], [8.36, 150.78, 1], [8.36, 150.78, 1], [8.36, 150.79, 1], [8.36, 150.8, 1], [8.36, 150.82, 1], [8.37, 150.83, 1], [8.37, 150.83, 1], [8.37, 150.84, 1], [8.37, 150.84, 1], [8.37, 150.85, 1], [8.37, 150.86, 1], [8.37, 150.88, 1], [8.37, 150.88, 1], [8.37, 150.88, 1], [8.37, 150.89, 1], [8.37, 150.9, 1], [8.37, 150.93, 1], [8.37, 150.94, 1], [8.37, 150.94, 1], [8.38, 150.95, 1], [8.38, 150.97, 1], [8.38, 150.97, 1], [8.38, 150.99, 1], [8.38, 151.01, 1], [8.38, 151.01, 1], [8.38, 151.03, 1], [8.38, 151.03, 1], [8.38, 151.04, 1], [8.38, 151.04, 1], [8.38, 151.05, 1], [8.38, 151.05, 1], [8.38, 151.09, 1], [8.38, 151.1, 1], [8.38, 151.1, 1], [8.38, 151.11, 1], [8.38, 151.11, 1], [8.39, 151.11, 1], [8.39, 151.12, 1], [8.39, 151.12, 1], [8.39, 151.13, 1], [8.39, 151.13, 1], [8.39, 151.15, 1], [8.39, 151.15, 1], [8.39, 151.16, 1], [8.39, 151.16, 1], [8.39, 151.17, 1], [8.39, 151.17, 1], [8.39, 151.21, 1], [8.39, 151.23, 1], [8.39, 151.23, 1], [8.39, 151.25, 1], [8.39, 151.26, 1], [8.39, 151.27, 1], [8.39, 151.27, 1], [8.4, 151.27, 1], [8.4, 151.3, 1], [8.4, 151.3, 1], [8.4, 151.3, 1], [8.4, 151.33, 1], [8.4, 151.34, 1], [8.4, 151.36, 1], [8.4, 151.37, 1], [8.4, 151.37, 1], [8.4, 151.37, 1], [8.4, 151.38, 1], [8.4, 151.4, 1], [8.4, 151.4, 1], [8.4, 151.41, 1], [8.4, 151.41, 1], [8.4, 151.42, 1], [8.4, 151.42, 1], [8.4, 151.43, 1], [8.4, 151.45, 1], [8.4, 151.46, 1], [8.4, 151.48, 1], [8.4, 151.51, 1], [8.4, 151.53, 1], [8.4, 151.54, 1], [8.4, 151.56, 1], [8.4, 151.57, 1], [8.41, 151.59, 1], [8.41, 151.6, 1], [8.41, 151.6, 1], [8.41, 151.61, 1], [8.41, 151.62, 1], [8.41, 151.64, 1], [8.41, 151.65, 1], [8.41, 151.66, 1], [8.41, 151.66, 1], [8.41, 151.69, 1], [8.41, 151.7, 1], [8.42, 151.7, 1], [8.42, 151.71, 1], [8.42, 151.71, 1], [8.42, 151.72, 1], [8.42, 151.72, 1], [8.42, 151.73, 1], [8.42, 151.74, 1], [8.42, 151.75, 1], [8.42, 151.75, 1], [8.42, 151.75, 1], [8.42, 151.77, 1], [8.42, 151.77, 1], [8.42, 151.77, 1], [8.42, 151.77, 1], [8.42, 151.78, 1], [8.42, 151.79, 1], [8.42, 151.79, 1], [8.42, 151.79, 1], [8.42, 151.81, 1], [8.42, 151.82, 1], [8.42, 151.83, 1], [8.42, 151.83, 1], [8.42, 151.85, 1], [8.42, 151.87, 1], [8.42, 151.88, 1], [8.42, 151.88, 1], [8.42, 151.88, 1], [8.42, 151.89, 1], [8.42, 151.9, 1], [8.43, 151.91, 1], [8.43, 151.93, 1], [8.43, 151.96, 1], [8.43, 151.96, 1], [8.43, 151.97, 1], [8.43, 151.98, 1], [8.43, 151.99, 1], [8.43, 152.0, 1], [8.43, 152.0, 1], [8.43, 152.01, 1], [8.43, 152.01, 1], [8.43, 152.02, 1], [8.43, 152.02, 1], [8.43, 152.04, 1], [8.43, 152.04, 1], [8.43, 152.05, 1], [8.43, 152.06, 1], [8.43, 152.06, 1], [8.43, 152.07, 1], [8.43, 152.07, 1], [8.43, 152.08, 1], [8.43, 152.08, 1], [8.43, 152.1, 1], [8.44, 152.1, 1], [8.44, 152.11, 1], [8.44, 152.11, 1], [8.44, 152.12, 1], [8.44, 152.12, 1], [8.44, 152.12, 1], [8.44, 152.13, 1], [8.44, 152.14, 1], [8.44, 152.15, 1], [8.44, 152.15, 1], [8.44, 152.16, 1], [8.44, 152.21, 1], [8.44, 152.22, 1], [8.45, 152.22, 1], [8.45, 152.24, 1], [8.45, 152.25, 1], [8.45, 152.26, 1], [8.45, 152.28, 1], [8.45, 152.28, 1], [8.45, 152.29, 1], [8.45, 152.3, 1], [8.45, 152.3, 1], [8.45, 152.31, 1], [8.45, 152.31, 1], [8.45, 152.31, 1], [8.45, 152.33, 1], [8.45, 152.34, 1], [8.45, 152.36, 1], [8.45, 152.38, 1], [8.45, 152.38, 1], [8.45, 152.4, 1], [8.45, 152.41, 1], [8.46, 152.42, 1], [8.46, 152.42, 1], [8.46, 152.42, 1], [8.46, 152.42, 1], [8.46, 152.43, 1], [8.46, 152.43, 1], [8.46, 152.44, 1], [8.46, 152.47, 1], [8.46, 152.47, 1], [8.46, 152.47, 1], [8.46, 152.48, 1], [8.46, 152.48, 1], [8.46, 152.49, 1], [8.46, 152.49, 1], [8.46, 152.5, 1], [8.46, 152.5, 1], [8.46, 152.5, 1], [8.46, 152.5, 1], [8.46, 152.51, 1], [8.46, 152.51, 1], [8.46, 152.54, 1], [8.47, 152.57, 1], [8.47, 152.59, 1], [8.47, 152.6, 1], [8.47, 152.62, 1], [8.47, 152.63, 1], [8.47, 152.65, 1], [8.47, 152.65, 1], [8.47, 152.66, 1], [8.47, 152.67, 1], [8.47, 152.68, 1], [8.48, 152.69, 1], [8.48, 152.7, 1], [8.48, 152.7, 1], [8.48, 152.71, 1], [8.48, 152.73, 1], [8.48, 152.74, 1], [8.48, 152.77, 1], [8.48, 152.78, 1], [8.49, 152.78, 1], [8.49, 152.79, 1], [8.49, 152.79, 1], [8.49, 152.79, 1], [8.49, 152.8, 1], [8.49, 152.82, 1], [8.49, 152.83, 1], [8.49, 152.84, 1], [8.49, 152.85, 1], [8.49, 152.85, 1], [8.49, 152.85, 1], [8.49, 152.86, 1], [8.49, 152.86, 1], [8.49, 152.86, 1], [8.49, 152.87, 1], [8.5, 152.87, 1], [8.5, 152.9, 1], [8.5, 152.9, 1], [8.5, 152.92, 1], [8.5, 152.92, 1], [8.5, 152.92, 1], [8.5, 152.93, 1], [8.5, 152.93, 1], [8.5, 152.95, 1], [8.5, 152.96, 1], [8.5, 152.97, 1], [8.5, 152.98, 1], [8.5, 152.98, 1], [8.51, 152.98, 1], [8.51, 152.99, 1], [8.51, 153.0, 1], [8.51, 153.0, 1], [8.51, 153.01, 1], [8.51, 153.05, 1], [8.51, 153.05, 1], [8.51, 153.06, 1], [8.51, 153.07, 1], [8.51, 153.08, 1], [8.51, 153.08, 1], [8.51, 153.08, 1], [8.51, 153.08, 1], [8.51, 153.09, 1], [8.51, 153.09, 1], [8.51, 153.11, 1], [8.51, 153.11, 1], [8.51, 153.12, 1], [8.52, 153.13, 1], [8.52, 153.15, 1], [8.52, 153.16, 1], [8.52, 153.17, 1], [8.52, 153.18, 1], [8.52, 153.19, 1], [8.52, 153.2, 1], [8.52, 153.21, 1], [8.52, 153.21, 1], [8.52, 153.23, 1], [8.52, 153.23, 1], [8.52, 153.26, 1], [8.52, 153.26, 1], [8.52, 153.28, 1], [8.52, 153.29, 1], [8.52, 153.29, 1], [8.53, 153.29, 1], [8.53, 153.29, 1], [8.53, 153.3, 1], [8.53, 153.3, 1], [8.53, 153.3, 1], [8.53, 153.3, 1], [8.53, 153.3, 1], [8.53, 153.32, 1], [8.53, 153.34, 1], [8.53, 153.34, 1], [8.54, 153.34, 1], [8.54, 153.35, 1], [8.54, 153.35, 1], [8.54, 153.36, 1], [8.54, 153.36, 1], [8.54, 153.36, 1], [8.54, 153.36, 1], [8.54, 153.37, 1], [8.54, 153.37, 1], [8.54, 153.38, 1], [8.54, 153.38, 1], [8.54, 153.38, 1], [8.54, 153.38, 1], [8.54, 153.39, 1], [8.54, 153.39, 1], [8.55, 153.39, 1], [8.55, 153.4, 1], [8.55, 153.4, 1], [8.55, 153.4, 1], [8.55, 153.41, 1], [8.55, 153.41, 1], [8.55, 153.43, 1], [8.55, 153.43, 1], [8.55, 153.44, 1], [8.55, 153.44, 1], [8.55, 153.45, 1], [8.55, 153.46, 1], [8.55, 153.48, 1], [8.55, 153.49, 1], [8.55, 153.49, 1], [8.56, 153.51, 1], [8.56, 153.52, 1], [8.56, 153.52, 1], [8.56, 153.56, 1], [8.56, 153.57, 1], [8.56, 153.58, 1], [8.56, 153.58, 1], [8.56, 153.58, 1], [8.56, 153.59, 1], [8.56, 153.6, 1], [8.56, 153.62, 1], [8.56, 153.63, 1], [8.56, 153.64, 1], [8.56, 153.65, 1], [8.56, 153.66, 1], [8.56, 153.67, 1], [8.56, 153.68, 1], [8.56, 153.69, 1], [8.56, 153.69, 1], [8.56, 153.69, 1], [8.57, 153.7, 1], [8.57, 153.7, 1], [8.57, 153.7, 1], [8.57, 153.7, 1], [8.57, 153.71, 1], [8.57, 153.72, 1], [8.57, 153.72, 1], [8.57, 153.73, 1], [8.57, 153.73, 1], [8.57, 153.75, 1], [8.57, 153.76, 1], [8.57, 153.77, 1], [8.57, 153.77, 1], [8.57, 153.77, 1], [8.58, 153.78, 1], [8.58, 153.78, 1], [8.58, 153.79, 1], [8.58, 153.8, 1], [8.58, 153.81, 1], [8.58, 153.82, 1], [8.58, 153.82, 1], [8.58, 153.85, 1], [8.58, 153.86, 1], [8.58, 153.86, 1], [8.58, 153.86, 1], [8.58, 153.88, 1], [8.58, 153.89, 1], [8.58, 153.9, 1], [8.58, 153.9, 1], [8.58, 153.91, 1], [8.58, 153.91, 1], [8.58, 153.92, 1], [8.58, 153.92, 1], [8.58, 153.94, 1], [8.59, 153.97, 1], [8.59, 153.98, 1], [8.59, 153.98, 1], [8.59, 154.02, 1], [8.59, 154.02, 1], [8.59, 154.07, 1], [8.59, 154.08, 1], [8.59, 154.09, 1], [8.59, 154.09, 1], [8.59, 154.09, 1], [8.59, 154.1, 1], [8.59, 154.12, 1], [8.59, 154.15, 1], [8.59, 154.15, 1], [8.59, 154.15, 1], [8.59, 154.15, 1], [8.59, 154.17, 1], [8.6, 154.18, 1], [8.6, 154.19, 1], [8.6, 154.2, 1], [8.6, 154.2, 1], [8.6, 154.2, 1], [8.6, 154.21, 1], [8.6, 154.21, 1], [8.6, 154.21, 1], [8.6, 154.21, 1], [8.6, 154.24, 1], [8.6, 154.25, 1], [8.6, 154.25, 1], [8.6, 154.26, 1], [8.6, 154.27, 1], [8.6, 154.3, 1], [8.6, 154.31, 1], [8.6, 154.34, 1], [8.6, 154.34, 1], [8.6, 154.35, 1], [8.6, 154.35, 1], [8.61, 154.35, 1], [8.61, 154.36, 1], [8.61, 154.36, 1], [8.61, 154.36, 1], [8.61, 154.38, 1], [8.61, 154.43, 1], [8.61, 154.45, 1], [8.61, 154.46, 1], [8.61, 154.46, 1], [8.61, 154.46, 1], [8.61, 154.47, 1], [8.61, 154.47, 1], [8.62, 154.54, 1], [8.62, 154.54, 1], [8.62, 154.55, 1], [8.62, 154.55, 1], [8.62, 154.55, 1], [8.62, 154.56, 1], [8.62, 154.57, 1], [8.62, 154.58, 1], [8.62, 154.59, 1], [8.62, 154.59, 1], [8.62, 154.6, 1], [8.62, 154.61, 1], [8.62, 154.61, 1], [8.62, 154.62, 1], [8.62, 154.62, 1], [8.63, 154.62, 1], [8.63, 154.62, 1], [8.63, 154.63, 1], [8.63, 154.65, 1], [8.63, 154.66, 1], [8.63, 154.68, 1], [8.63, 154.68, 1], [8.63, 154.69, 1], [8.63, 154.7, 1], [8.63, 154.73, 1], [8.64, 154.74, 1], [8.64, 154.74, 1], [8.64, 154.75, 1], [8.64, 154.76, 1], [8.64, 154.76, 1], [8.64, 154.79, 1], [8.64, 154.81, 1], [8.64, 154.81, 1], [8.64, 154.81, 1], [8.64, 154.83, 1], [8.64, 154.84, 1], [8.64, 154.84, 1], [8.64, 154.88, 1], [8.64, 154.91, 1], [8.64, 154.92, 1], [8.64, 154.94, 1], [8.64, 154.94, 1], [8.64, 154.96, 1], [8.64, 154.99, 1], [8.64, 154.99, 1], [8.64, 155.01, 1], [8.64, 155.02, 1], [8.64, 155.04, 1], [8.64, 155.04, 1], [8.65, 155.05, 1], [8.65, 155.07, 1], [8.65, 155.07, 1], [8.65, 155.09, 1], [8.65, 155.1, 1], [8.65, 155.1, 1], [8.65, 155.11, 1], [8.65, 155.11, 1], [8.65, 155.12, 1], [8.65, 155.13, 1], [8.65, 155.14, 1], [8.65, 155.14, 1], [8.65, 155.14, 1], [8.65, 155.15, 1], [8.65, 155.17, 1], [8.66, 155.2, 1], [8.66, 155.2, 1], [8.66, 155.22, 1], [8.66, 155.24, 1], [8.66, 155.24, 1], [8.66, 155.25, 1], [8.66, 155.25, 1], [8.66, 155.25, 1], [8.66, 155.25, 1], [8.66, 155.26, 1], [8.66, 155.29, 1], [8.67, 155.31, 1], [8.67, 155.32, 1], [8.67, 155.32, 1], [8.67, 155.35, 1], [8.67, 155.35, 1], [8.67, 155.35, 1], [8.67, 155.36, 1], [8.67, 155.36, 1], [8.67, 155.37, 1], [8.67, 155.38, 1], [8.67, 155.38, 1], [8.68, 155.39, 1], [8.68, 155.42, 1], [8.68, 155.43, 1], [8.68, 155.43, 1], [8.68, 155.45, 1], [8.68, 155.45, 1], [8.68, 155.45, 1], [8.68, 155.46, 1], [8.68, 155.48, 1], [8.68, 155.51, 1], [8.68, 155.53, 1], [8.68, 155.54, 1], [8.68, 155.54, 1], [8.69, 155.58, 1], [8.69, 155.58, 1], [8.69, 155.6, 1], [8.69, 155.61, 1], [8.69, 155.61, 1], [8.69, 155.61, 1], [8.69, 155.63, 1], [8.69, 155.64, 1], [8.69, 155.64, 1], [8.69, 155.68, 1], [8.69, 155.68, 1], [8.69, 155.68, 1], [8.69, 155.7, 1], [8.69, 155.72, 1], [8.69, 155.73, 1], [8.69, 155.73, 1], [8.7, 155.73, 1], [8.7, 155.73, 1], [8.7, 155.74, 1], [8.7, 155.79, 1], [8.7, 155.79, 1], [8.7, 155.82, 1], [8.7, 155.84, 1], [8.7, 155.84, 1], [8.7, 155.85, 1], [8.7, 155.85, 1], [8.7, 155.85, 1], [8.7, 155.86, 1], [8.7, 155.86, 1], [8.7, 155.9, 1], [8.7, 155.9, 1], [8.7, 155.93, 1], [8.7, 155.94, 1], [8.71, 155.96, 1], [8.71, 155.97, 1], [8.71, 155.99, 1], [8.71, 156.0, 1], [8.71, 156.03, 1], [8.71, 156.04, 1], [8.71, 156.04, 1], [8.71, 156.05, 1], [8.71, 156.06, 1], [8.71, 156.07, 1], [8.71, 156.09, 1], [8.71, 156.1, 1], [8.71, 156.11, 1], [8.71, 156.12, 1], [8.71, 156.12, 1], [8.71, 156.12, 1], [8.71, 156.12, 1], [8.71, 156.14, 1], [8.71, 156.15, 1], [8.72, 156.15, 1], [8.72, 156.16, 1], [8.72, 156.16, 1], [8.72, 156.17, 1], [8.72, 156.19, 1], [8.72, 156.19, 1], [8.72, 156.2, 1], [8.72, 156.2, 1], [8.72, 156.2, 1], [8.72, 156.22, 1], [8.72, 156.24, 1], [8.72, 156.24, 1], [8.72, 156.25, 1], [8.72, 156.27, 1], [8.73, 156.28, 1], [8.73, 156.28, 1], [8.73, 156.3, 1], [8.73, 156.31, 1], [8.73, 156.31, 1], [8.73, 156.31, 1], [8.73, 156.35, 1], [8.73, 156.35, 1], [8.73, 156.36, 1], [8.73, 156.37, 1], [8.73, 156.37, 1], [8.73, 156.38, 1], [8.73, 156.4, 1], [8.73, 156.42, 1], [8.73, 156.42, 1], [8.73, 156.45, 1], [8.73, 156.45, 1], [8.73, 156.45, 1], [8.73, 156.46, 1], [8.74, 156.47, 1], [8.74, 156.47, 1], [8.74, 156.47, 1], [8.74, 156.47, 1], [8.74, 156.5, 1], [8.74, 156.5, 1], [8.74, 156.52, 1], [8.74, 156.52, 1], [8.74, 156.54, 1], [8.74, 156.55, 1], [8.74, 156.55, 1], [8.74, 156.56, 1], [8.74, 156.57, 1], [8.74, 156.59, 1], [8.75, 156.6, 1], [8.75, 156.62, 1], [8.75, 156.64, 1], [8.75, 156.64, 1], [8.75, 156.65, 1], [8.75, 156.65, 1], [8.75, 156.67, 1], [8.75, 156.71, 1], [8.75, 156.72, 1], [8.75, 156.72, 1], [8.75, 156.72, 1], [8.76, 156.72, 1], [8.76, 156.73, 1], [8.76, 156.74, 1], [8.76, 156.75, 1], [8.76, 156.75, 1], [8.76, 156.75, 1], [8.76, 156.76, 1], [8.76, 156.77, 1], [8.76, 156.79, 1], [8.76, 156.79, 1], [8.76, 156.8, 1], [8.76, 156.81, 1], [8.76, 156.81, 1], [8.76, 156.82, 1], [8.76, 156.82, 1], [8.76, 156.84, 1], [8.76, 156.85, 1], [8.76, 156.88, 1], [8.76, 156.89, 1], [8.77, 156.9, 1], [8.77, 156.92, 1], [8.77, 156.93, 1], [8.77, 156.93, 1], [8.77, 156.94, 1], [8.77, 156.95, 1], [8.77, 156.96, 1], [8.77, 156.98, 1], [8.77, 156.99, 1], [8.77, 156.99, 1], [8.77, 157.04, 1], [8.77, 157.05, 1], [8.77, 157.05, 1], [8.77, 157.05, 1], [8.77, 157.05, 1], [8.77, 157.06, 1], [8.77, 157.08, 1], [8.77, 157.09, 1], [8.77, 157.09, 1], [8.77, 157.1, 1], [8.77, 157.12, 1], [8.77, 157.12, 1], [8.78, 157.13, 1], [8.78, 157.13, 1], [8.78, 157.14, 1], [8.78, 157.15, 1], [8.78, 157.15, 1], [8.78, 157.16, 1], [8.78, 157.16, 1], [8.78, 157.17, 1], [8.78, 157.19, 1], [8.78, 157.2, 1], [8.78, 157.22, 1], [8.78, 157.22, 1], [8.78, 157.24, 1], [8.78, 157.24, 1], [8.78, 157.24, 1], [8.78, 157.24, 1], [8.78, 157.24, 1], [8.78, 157.25, 1], [8.78, 157.26, 1], [8.78, 157.26, 1], [8.78, 157.27, 1], [8.79, 157.27, 1], [8.79, 157.27, 1], [8.79, 157.28, 1], [8.79, 157.29, 1], [8.79, 157.31, 1], [8.79, 157.31, 1], [8.79, 157.31, 1], [8.79, 157.31, 1], [8.79, 157.32, 1], [8.79, 157.32, 1], [8.79, 157.33, 1], [8.79, 157.33, 1], [8.79, 157.34, 1], [8.79, 157.35, 1], [8.79, 157.35, 1], [8.79, 157.36, 1], [8.8, 157.36, 1], [8.8, 157.38, 1], [8.8, 157.38, 1], [8.8, 157.39, 1], [8.8, 157.39, 1], [8.8, 157.41, 1], [8.8, 157.41, 1], [8.8, 157.42, 1], [8.8, 157.43, 1], [8.8, 157.44, 1], [8.8, 157.45, 1], [8.8, 157.46, 1], [8.8, 157.48, 1], [8.8, 157.48, 1], [8.8, 157.48, 1], [8.8, 157.53, 1], [8.81, 157.54, 1], [8.81, 157.54, 1], [8.81, 157.55, 1], [8.81, 157.56, 1], [8.81, 157.56, 1], [8.81, 157.57, 1], [8.81, 157.57, 1], [8.81, 157.57, 1], [8.81, 157.58, 1], [8.81, 157.58, 1], [8.81, 157.58, 1], [8.81, 157.6, 1], [8.81, 157.61, 1], [8.81, 157.62, 1], [8.81, 157.63, 1], [8.81, 157.63, 1], [8.81, 157.64, 1], [8.81, 157.66, 1], [8.81, 157.67, 1], [8.81, 157.67, 1], [8.81, 157.69, 1], [8.81, 157.7, 1], [8.81, 157.71, 1], [8.81, 157.72, 1], [8.81, 157.73, 1], [8.82, 157.74, 1], [8.82, 157.74, 1], [8.82, 157.75, 1], [8.82, 157.77, 1], [8.82, 157.79, 1], [8.82, 157.79, 1], [8.82, 157.81, 1], [8.82, 157.81, 1], [8.82, 157.82, 1], [8.82, 157.82, 1], [8.82, 157.84, 1], [8.82, 157.84, 1], [8.82, 157.85, 1], [8.82, 157.87, 1], [8.82, 157.92, 1], [8.82, 157.93, 1], [8.82, 157.93, 1], [8.83, 157.93, 1], [8.83, 157.95, 1], [8.83, 157.96, 1], [8.83, 158.0, 1], [8.83, 158.0, 1], [8.83, 158.03, 1], [8.83, 158.05, 1], [8.83, 158.05, 1], [8.83, 158.06, 1], [8.83, 158.06, 1], [8.83, 158.06, 1], [8.83, 158.07, 1], [8.83, 158.07, 1], [8.83, 158.09, 1], [8.83, 158.09, 1], [8.84, 158.1, 1], [8.84, 158.11, 1], [8.84, 158.12, 1], [8.84, 158.12, 1], [8.84, 158.14, 1], [8.84, 158.14, 1], [8.84, 158.14, 1], [8.84, 158.16, 1], [8.84, 158.17, 1], [8.84, 158.17, 1], [8.84, 158.17, 1], [8.84, 158.2, 1], [8.85, 158.2, 1], [8.85, 158.2, 1], [8.85, 158.21, 1], [8.85, 158.23, 1], [8.85, 158.28, 1], [8.85, 158.29, 1], [8.85, 158.3, 1], [8.85, 158.3, 1], [8.85, 158.3, 1], [8.85, 158.31, 1], [8.85, 158.32, 1], [8.85, 158.35, 1], [8.85, 158.36, 1], [8.85, 158.39, 1], [8.86, 158.41, 1], [8.86, 158.42, 1], [8.86, 158.42, 1], [8.86, 158.43, 1], [8.86, 158.44, 1], [8.86, 158.47, 1], [8.86, 158.47, 1], [8.86, 158.47, 1], [8.86, 158.49, 1], [8.86, 158.5, 1], [8.86, 158.5, 1], [8.86, 158.51, 1], [8.86, 158.52, 1], [8.87, 158.56, 1], [8.87, 158.57, 1], [8.87, 158.6, 1], [8.87, 158.61, 1], [8.87, 158.64, 1], [8.87, 158.65, 1], [8.87, 158.65, 1], [8.87, 158.67, 1], [8.87, 158.68, 1], [8.87, 158.7, 1], [8.87, 158.7, 1], [8.87, 158.7, 1], [8.88, 158.71, 1], [8.88, 158.72, 1], [8.88, 158.73, 1], [8.88, 158.74, 1], [8.88, 158.74, 1], [8.88, 158.74, 1], [8.88, 158.75, 1], [8.88, 158.77, 1], [8.88, 158.77, 1], [8.88, 158.77, 1], [8.88, 158.79, 1], [8.88, 158.8, 1], [8.88, 158.8, 1], [8.88, 158.8, 1], [8.88, 158.81, 1], [8.88, 158.81, 1], [8.88, 158.82, 1], [8.88, 158.82, 1], [8.88, 158.82, 1], [8.88, 158.82, 1], [8.88, 158.88, 1], [8.88, 158.9, 1], [8.89, 158.91, 1], [8.89, 158.91, 1], [8.89, 158.92, 1], [8.89, 158.93, 1], [8.89, 158.93, 1], [8.89, 158.95, 1], [8.89, 158.95, 1], [8.89, 158.95, 1], [8.89, 158.95, 1], [8.89, 158.96, 1], [8.89, 158.96, 1], [8.89, 158.97, 1], [8.89, 158.98, 1], [8.89, 158.99, 1], [8.89, 159.01, 1], [8.89, 159.04, 1], [8.9, 159.06, 1], [8.9, 159.06, 1], [8.9, 159.07, 1], [8.9, 159.07, 1], [8.9, 159.08, 1], [8.9, 159.08, 1], [8.9, 159.08, 1], [8.9, 159.09, 1], [8.9, 159.1, 1], [8.9, 159.1, 1], [8.9, 159.14, 1], [8.9, 159.15, 1], [8.9, 159.18, 1], [8.9, 159.21, 1], [8.9, 159.25, 1], [8.9, 159.25, 1], [8.91, 159.28, 1], [8.91, 159.29, 1], [8.91, 159.3, 1], [8.91, 159.31, 1], [8.91, 159.31, 1], [8.91, 159.33, 1], [8.91, 159.36, 1], [8.91, 159.37, 1], [8.91, 159.39, 1], [8.91, 159.39, 1], [8.91, 159.41, 1], [8.91, 159.43, 1], [8.91, 159.45, 1], [8.91, 159.46, 1], [8.91, 159.46, 1], [8.91, 159.46, 1], [8.91, 159.47, 1], [8.91, 159.48, 1], [8.92, 159.48, 1], [8.92, 159.5, 1], [8.92, 159.52, 1], [8.92, 159.52, 1], [8.92, 159.53, 1], [8.92, 159.53, 1], [8.92, 159.54, 1], [8.92, 159.56, 1], [8.92, 159.57, 1], [8.92, 159.58, 1], [8.92, 159.59, 1], [8.92, 159.59, 1], [8.92, 159.62, 1], [8.92, 159.63, 1], [8.93, 159.64, 1], [8.93, 159.65, 1], [8.93, 159.66, 1], [8.93, 159.66, 1], [8.93, 159.68, 1], [8.93, 159.69, 1], [8.93, 159.69, 1], [8.93, 159.7, 1], [8.93, 159.71, 1], [8.93, 159.75, 1], [8.93, 159.76, 1], [8.93, 159.79, 1], [8.93, 159.79, 1], [8.93, 159.85, 1], [8.93, 159.85, 1], [8.93, 159.85, 1], [8.94, 159.85, 1], [8.94, 159.86, 1], [8.94, 159.86, 1], [8.94, 159.87, 1], [8.94, 159.88, 1], [8.94, 159.89, 1], [8.94, 159.89, 1], [8.94, 159.91, 1], [8.94, 159.91, 1], [8.94, 159.92, 1], [8.94, 159.92, 1], [8.94, 159.94, 1], [8.94, 159.94, 1], [8.94, 159.95, 1], [8.94, 159.96, 1], [8.94, 160.0, 1], [8.94, 160.01, 1], [8.94, 160.01, 1], [8.94, 160.01, 1], [8.94, 160.02, 1], [8.94, 160.02, 1], [8.94, 160.02, 1], [8.94, 160.02, 1], [8.94, 160.03, 1], [8.94, 160.03, 1], [8.95, 160.05, 1], [8.95, 160.06, 1], [8.95, 160.09, 1], [8.95, 160.09, 1], [8.95, 160.1, 1], [8.95, 160.11, 1], [8.95, 160.14, 1], [8.95, 160.15, 1], [8.95, 160.15, 1], [8.95, 160.19, 1], [8.95, 160.19, 1], [8.96, 160.2, 1], [8.96, 160.22, 1], [8.96, 160.23, 1], [8.96, 160.23, 1], [8.96, 160.23, 1], [8.96, 160.23, 1], [8.96, 160.25, 1], [8.96, 160.25, 1], [8.96, 160.25, 1], [8.96, 160.25, 1], [8.96, 160.25, 1], [8.96, 160.26, 1], [8.96, 160.27, 1], [8.97, 160.29, 1], [8.97, 160.29, 1], [8.97, 160.29, 1], [8.97, 160.31, 1], [8.97, 160.32, 1], [8.97, 160.32, 1], [8.97, 160.32, 1], [8.97, 160.33, 1], [8.97, 160.33, 1], [8.97, 160.34, 1], [8.97, 160.35, 1], [8.97, 160.35, 1], [8.98, 160.38, 1], [8.98, 160.38, 1], [8.98, 160.39, 1], [8.98, 160.39, 1], [8.98, 160.39, 1], [8.98, 160.39, 1], [8.98, 160.41, 1], [8.98, 160.42, 1], [8.98, 160.44, 1], [8.99, 160.47, 1], [8.99, 160.48, 1], [8.99, 160.49, 1], [8.99, 160.49, 1], [8.99, 160.5, 1], [8.99, 160.51, 1], [8.99, 160.53, 1], [8.99, 160.55, 1], [8.99, 160.58, 1], [8.99, 160.59, 1], [8.99, 160.59, 1], [9.0, 160.6, 1], [9.0, 160.62, 1], [9.0, 160.62, 1], [9.0, 160.63, 1], [9.0, 160.64, 1], [9.0, 160.65, 1], [9.0, 160.66, 1], [9.0, 160.68, 1], [9.0, 160.68, 1], [9.0, 160.7, 1], [9.0, 160.7, 1], [9.0, 160.71, 1], [9.0, 160.71, 1], [9.0, 160.72, 1], [9.0, 160.73, 1], [9.0, 160.74, 1], [9.01, 160.75, 1], [9.01, 160.75, 1], [9.01, 160.76, 1], [9.01, 160.79, 1], [9.01, 160.79, 1], [9.01, 160.79, 1], [9.01, 160.79, 1], [9.01, 160.82, 1], [9.01, 160.84, 1], [9.01, 160.84, 1], [9.01, 160.85, 1], [9.01, 160.85, 1], [9.02, 160.86, 1], [9.02, 160.86, 1], [9.02, 160.86, 1], [9.02, 160.9, 1], [9.02, 160.91, 1], [9.02, 160.92, 1], [9.02, 160.92, 1], [9.02, 160.94, 1], [9.02, 160.95, 1], [9.02, 160.96, 1], [9.02, 160.98, 1], [9.02, 160.99, 1], [9.02, 161.01, 1], [9.02, 161.01, 1], [9.02, 161.02, 1], [9.02, 161.03, 1], [9.03, 161.04, 1], [9.03, 161.05, 1], [9.03, 161.06, 1], [9.03, 161.09, 1], [9.03, 161.12, 1], [9.03, 161.12, 1], [9.03, 161.13, 1], [9.03, 161.15, 1], [9.03, 161.16, 1], [9.03, 161.19, 1], [9.03, 161.19, 1], [9.03, 161.2, 1], [9.03, 161.22, 1], [9.03, 161.22, 1], [9.03, 161.23, 1], [9.03, 161.23, 1], [9.03, 161.24, 1], [9.03, 161.25, 1], [9.03, 161.26, 1], [9.04, 161.27, 1], [9.04, 161.29, 1], [9.04, 161.3, 1], [9.04, 161.31, 1], [9.04, 161.31, 1], [9.04, 161.32, 1], [9.04, 161.32, 1], [9.04, 161.32, 1], [9.04, 161.33, 1], [9.04, 161.35, 1], [9.04, 161.36, 1], [9.04, 161.36, 1], [9.04, 161.38, 1], [9.05, 161.4, 1], [9.05, 161.42, 1], [9.05, 161.42, 1], [9.05, 161.45, 1], [9.05, 161.45, 1], [9.05, 161.47, 1], [9.05, 161.49, 1], [9.05, 161.49, 1], [9.05, 161.5, 1], [9.05, 161.5, 1], [9.05, 161.5, 1], [9.05, 161.51, 1], [9.05, 161.51, 1], [9.05, 161.52, 1], [9.05, 161.52, 1], [9.05, 161.53, 1], [9.05, 161.54, 1], [9.05, 161.54, 1], [9.05, 161.55, 1], [9.05, 161.56, 1], [9.05, 161.58, 1], [9.06, 161.58, 1], [9.06, 161.61, 1], [9.06, 161.62, 1], [9.06, 161.62, 1], [9.06, 161.62, 1], [9.06, 161.62, 1], [9.06, 161.65, 1], [9.06, 161.66, 1], [9.06, 161.66, 1], [9.06, 161.67, 1], [9.06, 161.68, 1], [9.06, 161.68, 1], [9.06, 161.68, 1], [9.06, 161.69, 1], [9.06, 161.71, 1], [9.06, 161.71, 1], [9.06, 161.73, 1], [9.06, 161.73, 1], [9.06, 161.74, 1], [9.06, 161.77, 1], [9.07, 161.8, 1], [9.07, 161.81, 1], [9.07, 161.81, 1], [9.07, 161.83, 1], [9.07, 161.84, 1], [9.07, 161.84, 1], [9.07, 161.84, 1], [9.07, 161.84, 1], [9.07, 161.86, 1], [9.07, 161.86, 1], [9.08, 161.86, 1], [9.08, 161.86, 1], [9.08, 161.88, 1], [9.08, 161.91, 1], [9.08, 161.91, 1], [9.08, 161.93, 1], [9.08, 161.94, 1], [9.08, 161.96, 1], [9.08, 161.96, 1], [9.08, 161.98, 1], [9.08, 161.98, 1], [9.08, 161.98, 1], [9.08, 161.99, 1], [9.08, 162.0, 1], [9.08, 162.01, 1], [9.09, 162.03, 1], [9.09, 162.05, 1], [9.09, 162.06, 1], [9.09, 162.07, 1], [9.09, 162.08, 1], [9.09, 162.1, 1], [9.09, 162.11, 1], [9.09, 162.12, 1], [9.09, 162.13, 1], [9.09, 162.13, 1], [9.09, 162.17, 1], [9.09, 162.18, 1], [9.09, 162.18, 1], [9.09, 162.18, 1], [9.09, 162.18, 1], [9.09, 162.2, 1], [9.1, 162.2, 1], [9.1, 162.21, 1], [9.1, 162.21, 1], [9.1, 162.22, 1], [9.1, 162.23, 1], [9.1, 162.27, 1], [9.1, 162.28, 1], [9.1, 162.29, 1], [9.1, 162.31, 1], [9.1, 162.33, 1], [9.1, 162.33, 1], [9.1, 162.33, 1], [9.1, 162.36, 1], [9.1, 162.36, 1], [9.1, 162.37, 1], [9.1, 162.38, 1], [9.1, 162.38, 1], [9.1, 162.39, 1], [9.1, 162.4, 1], [9.1, 162.4, 1], [9.11, 162.41, 1], [9.11, 162.41, 1], [9.11, 162.42, 1], [9.11, 162.43, 1], [9.11, 162.44, 1], [9.11, 162.47, 1], [9.11, 162.48, 1], [9.11, 162.49, 1], [9.11, 162.5, 1], [9.11, 162.5, 1], [9.11, 162.5, 1], [9.11, 162.52, 1], [9.11, 162.52, 1], [9.11, 162.52, 1], [9.11, 162.54, 1], [9.12, 162.54, 1], [9.12, 162.54, 1], [9.12, 162.57, 1], [9.12, 162.57, 1], [9.12, 162.58, 1], [9.12, 162.59, 1], [9.12, 162.6, 1], [9.12, 162.63, 1], [9.12, 162.63, 1], [9.12, 162.63, 1], [9.12, 162.63, 1], [9.12, 162.64, 1], [9.12, 162.64, 1], [9.12, 162.65, 1], [9.12, 162.66, 1], [9.12, 162.66, 1], [9.12, 162.66, 1], [9.12, 162.67, 1], [9.12, 162.68, 1], [9.13, 162.69, 1], [9.13, 162.72, 1], [9.13, 162.73, 1], [9.13, 162.74, 1], [9.13, 162.75, 1], [9.13, 162.77, 1], [9.13, 162.78, 1], [9.13, 162.79, 1], [9.13, 162.88, 1], [9.13, 162.88, 1], [9.13, 162.89, 1], [9.13, 162.91, 1], [9.14, 162.92, 1], [9.14, 162.92, 1], [9.14, 162.93, 1], [9.14, 162.94, 1], [9.14, 162.96, 1], [9.14, 162.96, 1], [9.14, 162.97, 1], [9.14, 162.98, 1], [9.14, 162.98, 1], [9.14, 162.99, 1], [9.14, 162.99, 1], [9.14, 162.99, 1], [9.15, 163.02, 1], [9.15, 163.1, 1], [9.15, 163.11, 1], [9.15, 163.11, 1], [9.15, 163.13, 1], [9.15, 163.13, 1], [9.15, 163.13, 1], [9.15, 163.16, 1], [9.16, 163.17, 1], [9.16, 163.17, 1], [9.16, 163.17, 1], [9.16, 163.18, 1], [9.16, 163.18, 1], [9.16, 163.19, 1], [9.16, 163.19, 1], [9.16, 163.21, 1], [9.16, 163.24, 1], [9.16, 163.24, 1], [9.16, 163.25, 1], [9.16, 163.25, 1], [9.16, 163.25, 1], [9.16, 163.27, 1], [9.16, 163.29, 1], [9.17, 163.33, 1], [9.17, 163.33, 1], [9.17, 163.36, 1], [9.17, 163.36, 1], [9.17, 163.4, 1], [9.17, 163.4, 1], [9.17, 163.42, 1], [9.17, 163.44, 1], [9.17, 163.45, 1], [9.17, 163.47, 1], [9.17, 163.48, 1], [9.17, 163.49, 1], [9.17, 163.49, 1], [9.18, 163.54, 1], [9.18, 163.54, 1], [9.18, 163.55, 1], [9.18, 163.56, 1], [9.18, 163.56, 1], [9.18, 163.56, 1], [9.18, 163.56, 1], [9.18, 163.57, 1], [9.18, 163.57, 1], [9.18, 163.57, 1], [9.18, 163.59, 1], [9.18, 163.59, 1], [9.18, 163.65, 1], [9.19, 163.67, 1], [9.19, 163.67, 1], [9.19, 163.67, 1], [9.19, 163.68, 1], [9.19, 163.68, 1], [9.19, 163.68, 1], [9.19, 163.69, 1], [9.19, 163.69, 1], [9.19, 163.7, 1], [9.19, 163.71, 1], [9.19, 163.73, 1], [9.19, 163.76, 1], [9.2, 163.76, 1], [9.2, 163.77, 1], [9.2, 163.77, 1], [9.2, 163.78, 1], [9.2, 163.78, 1], [9.2, 163.78, 1], [9.2, 163.79, 1], [9.2, 163.8, 1], [9.2, 163.8, 1], [9.21, 163.81, 1], [9.21, 163.82, 1], [9.21, 163.83, 1], [9.21, 163.83, 1], [9.21, 163.85, 1], [9.21, 163.85, 1], [9.21, 163.87, 1], [9.21, 163.89, 1], [9.21, 163.9, 1], [9.21, 163.9, 1], [9.21, 163.91, 1], [9.21, 163.91, 1], [9.21, 163.92, 1], [9.21, 163.92, 1], [9.22, 163.94, 1], [9.22, 163.95, 1], [9.22, 163.96, 1], [9.22, 163.96, 1], [9.22, 163.97, 1], [9.22, 164.0, 1], [9.22, 164.01, 1], [9.22, 164.01, 1], [9.22, 164.05, 1], [9.22, 164.06, 1], [9.22, 164.06, 1], [9.22, 164.07, 1], [9.22, 164.1, 1], [9.23, 164.12, 1], [9.23, 164.13, 1], [9.23, 164.18, 1], [9.23, 164.18, 1], [9.23, 164.18, 1], [9.23, 164.19, 1], [9.23, 164.2, 1], [9.23, 164.2, 1], [9.23, 164.2, 1], [9.23, 164.2, 1], [9.23, 164.2, 1], [9.23, 164.22, 1], [9.23, 164.23, 1], [9.23, 164.25, 1], [9.23, 164.26, 1], [9.23, 164.28, 1], [9.23, 164.29, 1], [9.24, 164.32, 1], [9.24, 164.32, 1], [9.24, 164.36, 1], [9.24, 164.36, 1], [9.24, 164.36, 1], [9.24, 164.4, 1], [9.24, 164.4, 1], [9.24, 164.41, 1], [9.24, 164.42, 1], [9.24, 164.43, 1], [9.24, 164.43, 1], [9.25, 164.44, 1], [9.25, 164.44, 1], [9.25, 164.44, 1], [9.25, 164.45, 1], [9.25, 164.45, 1], [9.25, 164.45, 1], [9.25, 164.46, 1], [9.25, 164.47, 1], [9.25, 164.48, 1], [9.25, 164.53, 1], [9.25, 164.53, 1], [9.25, 164.54, 1], [9.25, 164.56, 1], [9.25, 164.59, 1], [9.25, 164.6, 1], [9.25, 164.61, 1], [9.25, 164.62, 1], [9.25, 164.62, 1], [9.25, 164.64, 1], [9.25, 164.64, 1], [9.25, 164.66, 1], [9.26, 164.67, 1], [9.26, 164.67, 1], [9.26, 164.7, 1], [9.26, 164.71, 1], [9.26, 164.72, 1], [9.26, 164.76, 1], [9.26, 164.77, 1], [9.26, 164.78, 1], [9.26, 164.8, 1], [9.27, 164.82, 1], [9.27, 164.83, 1], [9.27, 164.83, 1], [9.27, 164.84, 1], [9.27, 164.85, 1], [9.27, 164.87, 1], [9.27, 164.88, 1], [9.27, 164.92, 1], [9.27, 164.93, 1], [9.27, 164.94, 1], [9.27, 164.94, 1], [9.27, 164.95, 1], [9.27, 164.96, 1], [9.27, 164.99, 1], [9.27, 165.01, 1], [9.27, 165.02, 1], [9.27, 165.02, 1], [9.28, 165.02, 1], [9.28, 165.04, 1], [9.28, 165.07, 1], [9.28, 165.08, 1], [9.28, 165.11, 1], [9.28, 165.11, 1], [9.28, 165.11, 1], [9.28, 165.11, 1], [9.28, 165.15, 1], [9.28, 165.15, 1], [9.28, 165.16, 1], [9.29, 165.16, 1], [9.29, 165.17, 1], [9.29, 165.17, 1], [9.29, 165.21, 1], [9.29, 165.21, 1], [9.29, 165.22, 1], [9.29, 165.22, 1], [9.29, 165.24, 1], [9.29, 165.24, 1], [9.29, 165.24, 1], [9.29, 165.25, 1], [9.29, 165.26, 1], [9.29, 165.27, 1], [9.3, 165.3, 1], [9.3, 165.32, 1], [9.3, 165.38, 1], [9.3, 165.39, 1], [9.3, 165.4, 1], [9.3, 165.4, 1], [9.3, 165.41, 1], [9.3, 165.42, 1], [9.3, 165.43, 1], [9.3, 165.43, 1], [9.3, 165.46, 1], [9.3, 165.46, 1], [9.3, 165.46, 1], [9.3, 165.47, 1], [9.3, 165.48, 1], [9.3, 165.54, 1], [9.3, 165.54, 1], [9.31, 165.54, 1], [9.31, 165.54, 1], [9.31, 165.55, 1], [9.31, 165.56, 1], [9.31, 165.58, 1], [9.31, 165.58, 1], [9.31, 165.59, 1], [9.31, 165.59, 1], [9.31, 165.6, 1], [9.31, 165.6, 1], [9.31, 165.61, 1], [9.31, 165.62, 1], [9.31, 165.63, 1], [9.31, 165.67, 1], [9.32, 165.69, 1], [9.32, 165.7, 1], [9.32, 165.7, 1], [9.32, 165.71, 1], [9.32, 165.71, 1], [9.32, 165.72, 1], [9.32, 165.73, 1], [9.32, 165.74, 1], [9.33, 165.74, 1], [9.33, 165.76, 1], [9.33, 165.76, 1], [9.33, 165.76, 1], [9.33, 165.77, 1], [9.33, 165.79, 1], [9.33, 165.82, 1], [9.33, 165.84, 1], [9.33, 165.85, 1], [9.33, 165.87, 1], [9.33, 165.89, 1], [9.33, 165.91, 1], [9.34, 165.91, 1], [9.34, 165.91, 1], [9.34, 165.94, 1], [9.34, 165.95, 1], [9.34, 165.96, 1], [9.35, 165.99, 1], [9.35, 165.99, 1], [9.35, 165.99, 1], [9.35, 166.0, 1], [9.35, 166.02, 1], [9.35, 166.03, 1], [9.35, 166.04, 1], [9.36, 166.05, 1], [9.36, 166.06, 1], [9.36, 166.1, 1], [9.36, 166.14, 1], [9.36, 166.15, 1], [9.36, 166.15, 1], [9.36, 166.19, 1], [9.36, 166.19, 1], [9.36, 166.2, 1], [9.37, 166.2, 1], [9.37, 166.2, 1], [9.37, 166.21, 1], [9.37, 166.22, 1], [9.37, 166.23, 1], [9.37, 166.27, 1], [9.37, 166.28, 1], [9.37, 166.32, 1], [9.37, 166.35, 1], [9.37, 166.38, 1], [9.37, 166.4, 1], [9.37, 166.4, 1], [9.38, 166.42, 1], [9.38, 166.43, 1], [9.38, 166.46, 1], [9.38, 166.48, 1], [9.38, 166.49, 1], [9.38, 166.49, 1], [9.38, 166.51, 1], [9.39, 166.53, 1], [9.39, 166.55, 1], [9.39, 166.68, 1], [9.39, 166.69, 1], [9.39, 166.71, 1], [9.39, 166.71, 1], [9.39, 166.74, 1], [9.39, 166.75, 1], [9.39, 166.78, 1], [9.39, 166.78, 1], [9.39, 166.78, 1], [9.39, 166.81, 1], [9.39, 166.81, 1], [9.39, 166.82, 1], [9.39, 166.84, 1], [9.39, 166.88, 1], [9.4, 166.9, 1], [9.4, 166.9, 1], [9.4, 166.91, 1], [9.4, 166.91, 1], [9.4, 166.91, 1], [9.4, 166.93, 1], [9.4, 166.95, 1], [9.4, 166.95, 1], [9.4, 166.97, 1], [9.4, 166.99, 1], [9.4, 167.0, 1], [9.41, 167.02, 1], [9.41, 167.02, 1], [9.41, 167.04, 1], [9.41, 167.05, 1], [9.41, 167.07, 1], [9.41, 167.09, 1], [9.41, 167.12, 1], [9.41, 167.13, 1], [9.41, 167.14, 1], [9.41, 167.18, 1], [9.41, 167.19, 1], [9.42, 167.19, 1], [9.42, 167.2, 1], [9.42, 167.22, 1], [9.42, 167.22, 1], [9.42, 167.23, 1], [9.42, 167.25, 1], [9.42, 167.25, 1], [9.42, 167.27, 1], [9.43, 167.27, 1], [9.43, 167.28, 1], [9.43, 167.31, 1], [9.43, 167.32, 1], [9.43, 167.32, 1], [9.43, 167.33, 1], [9.43, 167.35, 1], [9.43, 167.35, 1], [9.43, 167.36, 1], [9.43, 167.37, 1], [9.44, 167.37, 1], [9.44, 167.37, 1], [9.44, 167.38, 1], [9.44, 167.4, 1], [9.44, 167.4, 1], [9.44, 167.41, 1], [9.44, 167.43, 1], [9.44, 167.44, 1], [9.44, 167.46, 1], [9.44, 167.53, 1], [9.44, 167.54, 1], [9.44, 167.55, 1], [9.44, 167.56, 1], [9.44, 167.58, 1], [9.44, 167.6, 1], [9.44, 167.61, 1], [9.44, 167.61, 1], [9.45, 167.62, 1], [9.45, 167.64, 1], [9.45, 167.65, 1], [9.45, 167.66, 1], [9.45, 167.66, 1], [9.45, 167.66, 1], [9.45, 167.67, 1], [9.45, 167.68, 1], [9.45, 167.69, 1], [9.45, 167.69, 1], [9.45, 167.7, 1], [9.45, 167.72, 1], [9.45, 167.73, 1], [9.45, 167.75, 1], [9.45, 167.76, 1], [9.45, 167.77, 1], [9.45, 167.78, 1], [9.45, 167.79, 1], [9.46, 167.79, 1], [9.46, 167.84, 1], [9.46, 167.86, 1], [9.46, 167.89, 1], [9.46, 167.91, 1], [9.46, 167.93, 1], [9.46, 167.94, 1], [9.46, 167.96, 1], [9.46, 167.98, 1], [9.47, 167.99, 1], [9.47, 168.0, 1], [9.47, 168.02, 1], [9.47, 168.02, 1], [9.47, 168.05, 1], [9.47, 168.06, 1], [9.47, 168.07, 1], [9.47, 168.08, 1], [9.47, 168.09, 1], [9.47, 168.1, 1], [9.47, 168.15, 1], [9.47, 168.16, 1], [9.48, 168.18, 1], [9.48, 168.2, 1], [9.48, 168.2, 1], [9.48, 168.21, 1], [9.48, 168.26, 1], [9.48, 168.27, 1], [9.48, 168.27, 1], [9.48, 168.29, 1], [9.49, 168.3, 1], [9.49, 168.32, 1], [9.49, 168.32, 1], [9.49, 168.32, 1], [9.49, 168.34, 1], [9.49, 168.35, 1], [9.49, 168.36, 1], [9.49, 168.37, 1], [9.49, 168.4, 1], [9.49, 168.42, 1], [9.49, 168.43, 1], [9.49, 168.43, 1], [9.49, 168.44, 1], [9.49, 168.44, 1], [9.5, 168.44, 1], [9.5, 168.45, 1], [9.5, 168.46, 1], [9.5, 168.47, 1], [9.5, 168.48, 1], [9.5, 168.5, 1], [9.5, 168.53, 1], [9.5, 168.53, 1], [9.5, 168.54, 1], [9.5, 168.54, 1], [9.51, 168.56, 1], [9.51, 168.58, 1], [9.51, 168.58, 1], [9.51, 168.6, 1], [9.51, 168.61, 1], [9.51, 168.64, 1], [9.51, 168.64, 1], [9.51, 168.65, 1], [9.52, 168.66, 1], [9.52, 168.67, 1], [9.52, 168.67, 1], [9.52, 168.7, 1], [9.52, 168.71, 1], [9.52, 168.71, 1], [9.52, 168.72, 1], [9.52, 168.73, 1], [9.52, 168.76, 1], [9.52, 168.76, 1], [9.52, 168.8, 1], [9.52, 168.81, 1], [9.52, 168.82, 1], [9.52, 168.83, 1], [9.52, 168.84, 1], [9.52, 168.86, 1], [9.52, 168.93, 1], [9.52, 168.93, 1], [9.52, 168.95, 1], [9.52, 168.98, 1], [9.53, 168.98, 1], [9.53, 169.0, 1], [9.53, 169.02, 1], [9.53, 169.04, 1], [9.53, 169.07, 1], [9.53, 169.07, 1], [9.53, 169.08, 1], [9.54, 169.09, 1], [9.54, 169.11, 1], [9.54, 169.12, 1], [9.54, 169.14, 1], [9.54, 169.14, 1], [9.54, 169.16, 1], [9.54, 169.18, 1], [9.54, 169.18, 1], [9.54, 169.2, 1], [9.54, 169.23, 1], [9.54, 169.23, 1], [9.54, 169.25, 1], [9.55, 169.26, 1], [9.55, 169.27, 1], [9.55, 169.28, 1], [9.55, 169.29, 1], [9.55, 169.3, 1], [9.55, 169.34, 1], [9.55, 169.35, 1], [9.55, 169.36, 1], [9.56, 169.37, 1], [9.56, 169.37, 1], [9.56, 169.39, 1], [9.56, 169.42, 1], [9.56, 169.43, 1], [9.56, 169.43, 1], [9.56, 169.43, 1], [9.56, 169.44, 1], [9.56, 169.49, 1], [9.56, 169.51, 1], [9.56, 169.55, 1], [9.56, 169.56, 1], [9.56, 169.56, 1], [9.56, 169.59, 1], [9.56, 169.62, 1], [9.56, 169.63, 1], [9.57, 169.64, 1], [9.57, 169.64, 1], [9.57, 169.64, 1], [9.57, 169.65, 1], [9.57, 169.65, 1], [9.57, 169.65, 1], [9.57, 169.66, 1], [9.57, 169.68, 1], [9.57, 169.7, 1], [9.57, 169.73, 1], [9.58, 169.74, 1], [9.58, 169.75, 1], [9.58, 169.75, 1], [9.58, 169.76, 1], [9.58, 169.79, 1], [9.58, 169.8, 1], [9.58, 169.8, 1], [9.58, 169.81, 1], [9.58, 169.82, 1], [9.58, 169.83, 1], [9.58, 169.85, 1], [9.59, 169.85, 1], [9.59, 169.87, 1], [9.59, 169.88, 1], [9.59, 169.89, 1], [9.59, 169.91, 1], [9.59, 169.91, 1], [9.59, 169.95, 1], [9.59, 169.95, 1], [9.59, 169.97, 1], [9.59, 169.98, 1], [9.6, 169.98, 1], [9.6, 169.98, 1], [9.6, 169.99, 1], [9.6, 170.0, 1], [9.6, 170.02, 1], [9.6, 170.02, 1], [9.6, 170.03, 1], [9.6, 170.04, 1], [9.6, 170.07, 1], [9.6, 170.09, 1], [9.6, 170.1, 1], [9.61, 170.11, 1], [9.61, 170.12, 1], [9.61, 170.13, 1], [9.61, 170.14, 1], [9.61, 170.14, 1], [9.61, 170.16, 1], [9.61, 170.2, 1], [9.61, 170.21, 1], [9.61, 170.22, 1], [9.62, 170.22, 1], [9.62, 170.22, 1], [9.62, 170.25, 1], [9.62, 170.28, 1], [9.62, 170.31, 1], [9.62, 170.32, 1], [9.62, 170.33, 1], [9.62, 170.37, 1], [9.62, 170.37, 1], [9.62, 170.39, 1], [9.62, 170.39, 1], [9.62, 170.4, 1], [9.62, 170.42, 1], [9.63, 170.44, 1], [9.63, 170.44, 1], [9.63, 170.44, 1], [9.63, 170.45, 1], [9.63, 170.47, 1], [9.63, 170.49, 1], [9.63, 170.49, 1], [9.63, 170.51, 1], [9.63, 170.51, 1], [9.63, 170.53, 1], [9.63, 170.54, 1], [9.63, 170.58, 1], [9.63, 170.6, 1], [9.63, 170.61, 1], [9.64, 170.65, 1], [9.64, 170.66, 1], [9.64, 170.68, 1], [9.64, 170.69, 1], [9.64, 170.7, 1], [9.64, 170.74, 1], [9.64, 170.75, 1], [9.64, 170.76, 1], [9.64, 170.76, 1], [9.64, 170.76, 1], [9.64, 170.77, 1], [9.64, 170.8, 1], [9.64, 170.8, 1], [9.65, 170.83, 1], [9.65, 170.87, 1], [9.65, 170.88, 1], [9.65, 170.9, 1], [9.65, 170.9, 1], [9.65, 170.97, 1], [9.65, 170.98, 1], [9.65, 171.01, 1], [9.65, 171.01, 1], [9.65, 171.02, 1], [9.65, 171.03, 1], [9.65, 171.03, 1], [9.66, 171.04, 1], [9.66, 171.04, 1], [9.66, 171.05, 1], [9.66, 171.06, 1], [9.66, 171.09, 1], [9.66, 171.12, 1], [9.66, 171.13, 1], [9.66, 171.14, 1], [9.66, 171.15, 1], [9.66, 171.15, 1], [9.66, 171.16, 1], [9.67, 171.16, 1], [9.67, 171.17, 1], [9.67, 171.18, 1], [9.67, 171.2, 1], [9.67, 171.21, 1], [9.67, 171.21, 1], [9.67, 171.22, 1], [9.67, 171.24, 1], [9.68, 171.24, 1], [9.68, 171.27, 1], [9.68, 171.3, 1], [9.68, 171.3, 1], [9.68, 171.34, 1], [9.68, 171.35, 1], [9.68, 171.36, 1], [9.68, 171.36, 1], [9.68, 171.36, 1], [9.68, 171.38, 1], [9.68, 171.39, 1], [9.69, 171.41, 1], [9.69, 171.42, 1], [9.69, 171.43, 1], [9.69, 171.43, 1], [9.69, 171.47, 1], [9.69, 171.5, 1], [9.69, 171.54, 1], [9.69, 171.54, 1], [9.69, 171.57, 1], [9.69, 171.59, 1], [9.7, 171.63, 1], [9.7, 171.63, 1], [9.7, 171.65, 1], [9.7, 171.66, 1], [9.7, 171.67, 1], [9.7, 171.68, 1], [9.7, 171.71, 1], [9.7, 171.74, 1], [9.7, 171.79, 1], [9.7, 171.79, 1], [9.7, 171.81, 1], [9.7, 171.81, 1], [9.7, 171.84, 1], [9.7, 171.85, 1], [9.7, 171.88, 1], [9.71, 171.88, 1], [9.71, 171.89, 1], [9.71, 171.89, 1], [9.71, 171.9, 1], [9.71, 171.94, 1], [9.71, 171.96, 1], [9.71, 171.97, 1], [9.71, 172.0, 1], [9.71, 172.05, 1], [9.71, 172.06, 1], [9.72, 172.07, 1], [9.72, 172.07, 1], [9.72, 172.08, 1], [9.72, 172.1, 1], [9.72, 172.11, 1], [9.72, 172.15, 1], [9.72, 172.15, 1], [9.73, 172.17, 1], [9.73, 172.17, 1], [9.73, 172.24, 1], [9.73, 172.25, 1], [9.73, 172.25, 1], [9.73, 172.27, 1], [9.73, 172.28, 1], [9.73, 172.28, 1], [9.74, 172.29, 1], [9.74, 172.3, 1], [9.74, 172.31, 1], [9.74, 172.32, 1], [9.74, 172.34, 1], [9.75, 172.36, 1], [9.75, 172.37, 1], [9.75, 172.38, 1], [9.76, 172.39, 1], [9.76, 172.39, 1], [9.76, 172.4, 1], [9.76, 172.46, 1], [9.76, 172.49, 1], [9.76, 172.49, 1], [9.76, 172.5, 1], [9.76, 172.52, 1], [9.76, 172.53, 1], [9.76, 172.54, 1], [9.76, 172.55, 1], [9.76, 172.56, 1], [9.76, 172.57, 1], [9.76, 172.66, 1], [9.76, 172.68, 1], [9.77, 172.68, 1], [9.77, 172.68, 1], [9.77, 172.72, 1], [9.77, 172.74, 1], [9.77, 172.74, 1], [9.77, 172.81, 1], [9.77, 172.82, 1], [9.77, 172.88, 1], [9.77, 172.88, 1], [9.77, 172.89, 1], [9.77, 172.92, 1], [9.78, 172.92, 1], [9.78, 172.94, 1], [9.78, 172.96, 1], [9.78, 172.97, 1], [9.78, 172.97, 1], [9.78, 172.98, 1], [9.78, 173.03, 1], [9.78, 173.05, 1], [9.78, 173.06, 1], [9.78, 173.07, 1], [9.78, 173.09, 1], [9.78, 173.12, 1], [9.78, 173.2, 1], [9.78, 173.21, 1], [9.79, 173.24, 1], [9.79, 173.24, 1], [9.79, 173.25, 1], [9.79, 173.25, 1], [9.79, 173.25, 1], [9.79, 173.26, 1], [9.8, 173.26, 1], [9.8, 173.28, 1], [9.8, 173.29, 1], [9.8, 173.31, 1], [9.8, 173.32, 1], [9.8, 173.32, 1], [9.81, 173.33, 1], [9.81, 173.34, 1], [9.81, 173.37, 1], [9.81, 173.39, 1], [9.81, 173.4, 1], [9.81, 173.41, 1], [9.81, 173.41, 1], [9.81, 173.45, 1], [9.81, 173.47, 1], [9.82, 173.49, 1], [9.82, 173.49, 1], [9.82, 173.5, 1], [9.82, 173.52, 1], [9.82, 173.53, 1], [9.82, 173.56, 1], [9.82, 173.6, 1], [9.83, 173.6, 1], [9.83, 173.62, 1], [9.83, 173.63, 1], [9.83, 173.65, 1], [9.83, 173.66, 1], [9.83, 173.69, 1], [9.83, 173.71, 1], [9.84, 173.76, 1], [9.84, 173.77, 1], [9.84, 173.78, 1], [9.84, 173.8, 1], [9.84, 173.82, 1], [9.84, 173.84, 1], [9.84, 173.84, 1], [9.84, 173.86, 1], [9.84, 173.86, 1], [9.84, 173.89, 1], [9.85, 173.89, 1], [9.85, 173.89, 1], [9.85, 173.91, 1], [9.85, 173.92, 1], [9.85, 173.94, 1], [9.85, 173.95, 1], [9.85, 173.96, 1], [9.86, 173.96, 1], [9.86, 173.99, 1], [9.86, 174.03, 1], [9.86, 174.03, 1], [9.86, 174.04, 1], [9.87, 174.05, 1], [9.87, 174.07, 1], [9.87, 174.07, 1], [9.87, 174.08, 1], [9.87, 174.13, 1], [9.88, 174.13, 1], [9.88, 174.15, 1], [9.88, 174.17, 1], [9.88, 174.17, 1], [9.88, 174.21, 1], [9.88, 174.22, 1], [9.88, 174.25, 1], [9.88, 174.26, 1], [9.88, 174.27, 1], [9.89, 174.28, 1], [9.89, 174.29, 1], [9.89, 174.29, 1], [9.89, 174.35, 1], [9.89, 174.36, 1], [9.89, 174.38, 1], [9.89, 174.43, 1], [9.89, 174.44, 1], [9.89, 174.47, 1], [9.89, 174.47, 1], [9.89, 174.48, 1], [9.89, 174.51, 1], [9.89, 174.55, 1], [9.89, 174.58, 1], [9.89, 174.6, 1], [9.89, 174.71, 1], [9.89, 174.74, 1], [9.9, 174.77, 1], [9.9, 174.78, 1], [9.9, 174.82, 1], [9.9, 174.82, 1], [9.9, 174.89, 1], [9.9, 174.89, 1], [9.9, 174.9, 1], [9.91, 174.9, 1], [9.91, 174.94, 1], [9.91, 174.95, 1], [9.91, 174.97, 1], [9.91, 174.98, 1], [9.91, 174.99, 1], [9.91, 175.0, 1], [9.92, 175.0, 1], [9.92, 175.02, 1], [9.92, 175.04, 1], [9.92, 175.04, 1], [9.93, 175.05, 1], [9.93, 175.09, 1], [9.93, 175.1, 1], [9.93, 175.11, 1], [9.93, 175.14, 1], [9.93, 175.17, 1], [9.93, 175.21, 1], [9.93, 175.22, 1], [9.93, 175.25, 1], [9.93, 175.26, 1], [9.93, 175.27, 1], [9.93, 175.28, 1], [9.93, 175.31, 1], [9.93, 175.33, 1], [9.93, 175.35, 1], [9.94, 175.36, 1], [9.94, 175.37, 1], [9.94, 175.38, 1], [9.94, 175.41, 1], [9.94, 175.41, 1], [9.94, 175.41, 1], [9.94, 175.42, 1], [9.94, 175.42, 1], [9.95, 175.45, 1], [9.95, 175.5, 1], [9.95, 175.5, 1], [9.95, 175.5, 1], [9.95, 175.51, 1], [9.95, 175.52, 1], [9.96, 175.53, 1], [9.96, 175.53, 1], [9.96, 175.54, 1], [9.96, 175.57, 1], [9.96, 175.6, 1], [9.96, 175.65, 1], [9.97, 175.65, 1], [9.97, 175.65, 1], [9.97, 175.65, 1], [9.97, 175.69, 1], [9.97, 175.71, 1], [9.97, 175.72, 1], [9.97, 175.74, 1], [9.97, 175.75, 1], [9.97, 175.77, 1], [9.97, 175.77, 1], [9.98, 175.78, 1], [9.98, 175.8, 1], [9.98, 175.81, 1], [9.98, 175.81, 1], [9.98, 175.83, 1], [9.98, 175.87, 1], [9.98, 175.88, 1], [9.98, 175.92, 1], [9.98, 175.92, 1], [9.98, 175.93, 1], [9.98, 175.94, 1], [9.98, 175.98, 1], [9.98, 175.98, 1], [9.98, 176.0, 1], [9.99, 176.01, 1], [9.99, 176.03, 1], [9.99, 176.06, 1], [9.99, 176.06, 1], [9.99, 176.1, 1], [9.99, 176.11, 1], [9.99, 176.13, 1], [9.99, 176.14, 1], [10.0, 176.15, 1], [10.0, 176.15, 1], [10.0, 176.16, 1], [10.0, 176.18, 1], [10.01, 176.18, 1], [10.01, 176.19, 1], [10.01, 176.21, 1], [10.01, 176.21, 1], [10.01, 176.22, 1], [10.01, 176.22, 1], [10.02, 176.22, 1], [10.02, 176.24, 1], [10.02, 176.31, 1], [10.02, 176.33, 1], [10.02, 176.35, 1], [10.02, 176.35, 1], [10.02, 176.35, 1], [10.02, 176.41, 1], [10.03, 176.42, 1], [10.03, 176.45, 1], [10.03, 176.51, 1], [10.04, 176.54, 1], [10.04, 176.54, 1], [10.04, 176.57, 1], [10.04, 176.57, 1], [10.05, 176.58, 1], [10.05, 176.59, 1], [10.05, 176.6, 1], [10.05, 176.6, 1], [10.05, 176.62, 1], [10.05, 176.62, 1], [10.06, 176.62, 1], [10.06, 176.66, 1], [10.06, 176.67, 1], [10.06, 176.69, 1], [10.06, 176.71, 1], [10.06, 176.72, 1], [10.07, 176.73, 1], [10.07, 176.73, 1], [10.07, 176.75, 1], [10.07, 176.76, 1], [10.07, 176.76, 1], [10.07, 176.8, 1], [10.07, 176.82, 1], [10.07, 176.83, 1], [10.07, 176.84, 1], [10.07, 176.84, 1], [10.07, 176.87, 1], [10.07, 176.87, 1], [10.07, 176.92, 1], [10.07, 176.93, 1], [10.07, 177.01, 1], [10.08, 177.02, 1], [10.08, 177.08, 1], [10.08, 177.12, 1], [10.08, 177.13, 1], [10.09, 177.13, 1], [10.09, 177.14, 1], [10.09, 177.14, 1], [10.09, 177.15, 1], [10.09, 177.18, 1], [10.09, 177.18, 1], [10.09, 177.18, 1], [10.1, 177.2, 1], [10.1, 177.21, 1], [10.1, 177.22, 1], [10.1, 177.24, 1], [10.1, 177.25, 1], [10.1, 177.26, 1], [10.1, 177.26, 1], [10.1, 177.31, 1], [10.11, 177.32, 1], [10.11, 177.35, 1], [10.12, 177.37, 1], [10.12, 177.38, 1], [10.12, 177.38, 1], [10.12, 177.4, 1], [10.12, 177.42, 1], [10.12, 177.43, 1], [10.12, 177.46, 1], [10.13, 177.47, 1], [10.13, 177.48, 1], [10.13, 177.51, 1], [10.13, 177.51, 1], [10.13, 177.54, 1], [10.13, 177.58, 1], [10.13, 177.59, 1], [10.13, 177.59, 1], [10.13, 177.6, 1], [10.14, 177.65, 1], [10.14, 177.69, 1], [10.14, 177.71, 1], [10.14, 177.71, 1], [10.15, 177.77, 1], [10.15, 177.79, 1], [10.15, 177.81, 1], [10.15, 177.82, 1], [10.15, 177.83, 1], [10.15, 177.84, 1], [10.16, 177.89, 1], [10.16, 177.9, 1], [10.16, 177.95, 1], [10.16, 178.01, 1], [10.16, 178.07, 1], [10.16, 178.11, 1], [10.16, 178.11, 1], [10.16, 178.24, 1], [10.16, 178.25, 1], [10.17, 178.28, 1], [10.17, 178.29, 1], [10.17, 178.3, 1], [10.17, 178.34, 1], [10.17, 178.34, 1], [10.17, 178.37, 1], [10.17, 178.38, 1], [10.18, 178.43, 1], [10.18, 178.43, 1], [10.18, 178.46, 1], [10.18, 178.51, 1], [10.19, 178.52, 1], [10.19, 178.53, 1], [10.19, 178.53, 1], [10.2, 178.55, 1], [10.2, 178.56, 1], [10.2, 178.57, 1], [10.2, 178.6, 1], [10.2, 178.6, 1], [10.2, 178.6, 1], [10.21, 178.62, 1], [10.21, 178.62, 1], [10.21, 178.63, 1], [10.21, 178.63, 1], [10.21, 178.65, 1], [10.22, 178.66, 1], [10.22, 178.67, 1], [10.22, 178.68, 1], [10.22, 178.7, 1], [10.22, 178.73, 1], [10.23, 178.78, 1], [10.23, 178.79, 1], [10.23, 178.81, 1], [10.23, 178.81, 1], [10.23, 178.87, 1], [10.24, 178.9, 1], [10.24, 178.9, 1], [10.24, 178.95, 1], [10.25, 178.99, 1], [10.25, 178.99, 1], [10.25, 179.0, 1], [10.25, 179.06, 1], [10.25, 179.09, 1], [10.26, 179.12, 1], [10.26, 179.17, 1], [10.26, 179.18, 1], [10.26, 179.18, 1], [10.26, 179.2, 1], [10.27, 179.23, 1], [10.27, 179.27, 1], [10.27, 179.27, 1], [10.27, 179.34, 1], [10.27, 179.36, 1], [10.27, 179.42, 1], [10.28, 179.42, 1], [10.28, 179.42, 1], [10.28, 179.44, 1], [10.28, 179.44, 1], [10.28, 179.55, 1], [10.29, 179.57, 1], [10.29, 179.57, 1], [10.29, 179.59, 1], [10.29, 179.61, 1], [10.29, 179.62, 1], [10.3, 179.63, 1], [10.3, 179.64, 1], [10.3, 179.64, 1], [10.3, 179.71, 1], [10.3, 179.71, 1], [10.3, 179.72, 1], [10.3, 179.76, 1], [10.3, 179.76, 1], [10.3, 179.79, 1], [10.3, 179.82, 1], [10.3, 179.88, 1], [10.31, 179.9, 1], [10.31, 179.91, 1], [10.31, 180.0, 1], [10.31, 180.03, 1], [10.31, 180.05, 1], [10.32, 180.08, 1], [10.32, 180.08, 1], [10.32, 180.12, 1], [10.32, 180.14, 1], [10.32, 180.16, 1], [10.33, 180.17, 1], [10.33, 180.23, 1], [10.33, 180.23, 1], [10.33, 180.28, 1], [10.33, 180.28, 1], [10.34, 180.28, 1], [10.34, 180.29, 1], [10.34, 180.3, 1], [10.34, 180.37, 1], [10.34, 180.37, 1], [10.35, 180.45, 1], [10.35, 180.5, 1], [10.35, 180.52, 1], [10.35, 180.52, 1], [10.35, 180.58, 1], [10.35, 180.6, 1], [10.36, 180.6, 1], [10.36, 180.6, 1], [10.36, 180.63, 1], [10.36, 180.64, 1], [10.36, 180.66, 1], [10.36, 180.66, 1], [10.36, 180.69, 1], [10.37, 180.73, 1], [10.37, 180.75, 1], [10.37, 180.76, 1], [10.37, 180.77, 1], [10.37, 180.86, 1], [10.37, 180.87, 1], [10.37, 180.92, 1], [10.38, 180.93, 1], [10.38, 180.98, 1], [10.38, 181.0, 1], [10.39, 181.01, 1], [10.39, 181.05, 1], [10.39, 181.05, 1], [10.39, 181.19, 1], [10.39, 181.23, 1], [10.39, 181.26, 1], [10.39, 181.29, 1], [10.4, 181.34, 1], [10.4, 181.35, 1], [10.4, 181.38, 1], [10.4, 181.38, 1], [10.4, 181.41, 1], [10.41, 181.48, 1], [10.41, 181.5, 1], [10.41, 181.55, 1], [10.41, 181.61, 1], [10.41, 181.63, 1], [10.41, 181.66, 1], [10.42, 181.68, 1], [10.42, 181.71, 1], [10.42, 181.72, 1], [10.43, 181.75, 1], [10.43, 181.76, 1], [10.43, 181.78, 1], [10.43, 181.79, 1], [10.44, 181.87, 1], [10.44, 181.92, 1], [10.44, 181.94, 1], [10.44, 181.97, 1], [10.45, 181.97, 1], [10.45, 182.07, 1], [10.45, 182.07, 1], [10.45, 182.08, 1], [10.46, 182.13, 1], [10.46, 182.17, 1], [10.47, 182.18, 1], [10.47, 182.19, 1], [10.47, 182.23, 1], [10.48, 182.26, 1], [10.48, 182.29, 1], [10.48, 182.31, 1], [10.49, 182.32, 1], [10.49, 182.35, 1], [10.49, 182.38, 1], [10.49, 182.41, 1], [10.49, 182.44, 1], [10.5, 182.48, 1], [10.5, 182.49, 1], [10.5, 182.52, 1], [10.5, 182.53, 1], [10.51, 182.55, 1], [10.51, 182.56, 1], [10.51, 182.59, 1], [10.51, 182.62, 1], [10.52, 182.7, 1], [10.52, 182.72, 1], [10.52, 182.74, 1], [10.52, 182.75, 1], [10.53, 182.81, 1], [10.53, 182.83, 1], [10.54, 182.83, 1], [10.54, 182.86, 1], [10.54, 182.89, 1], [10.54, 182.91, 1], [10.54, 182.95, 1], [10.55, 182.99, 1], [10.55, 183.03, 1], [10.55, 183.04, 1], [10.56, 183.07, 1], [10.56, 183.13, 1], [10.56, 183.15, 1], [10.57, 183.17, 1], [10.57, 183.21, 1], [10.57, 183.24, 1], [10.58, 183.32, 1], [10.58, 183.33, 1], [10.58, 183.37, 1], [10.59, 183.4, 1], [10.59, 183.4, 1], [10.59, 183.42, 1], [10.59, 183.46, 1], [10.59, 183.49, 1], [10.6, 183.55, 1], [10.6, 183.57, 1], [10.6, 183.57, 1], [10.61, 183.69, 1], [10.61, 183.71, 1], [10.61, 183.71, 1], [10.61, 183.87, 1], [10.61, 183.88, 1], [10.62, 183.89, 1], [10.62, 183.93, 1], [10.63, 183.95, 1], [10.63, 183.98, 1], [10.63, 184.01, 1], [10.63, 184.16, 1], [10.64, 184.21, 1], [10.64, 184.22, 1], [10.64, 184.24, 1], [10.64, 184.3, 1], [10.65, 184.31, 1], [10.65, 184.31, 1], [10.65, 184.43, 1], [10.65, 184.45, 1], [10.65, 184.5, 1], [10.66, 184.5, 1], [10.66, 184.54, 1], [10.67, 184.55, 1], [10.67, 184.56, 1], [10.67, 184.58, 1], [10.67, 184.66, 1], [10.67, 184.69, 1], [10.67, 184.7, 1], [10.67, 184.71, 1], [10.67, 184.74, 1], [10.67, 184.83, 1], [10.7, 184.84, 1], [10.7, 184.86, 1], [10.7, 184.87, 1], [10.71, 184.91, 1], [10.71, 185.0, 1], [10.71, 185.0, 1], [10.73, 185.03, 1], [10.74, 185.04, 1], [10.74, 185.08, 1], [10.74, 185.13, 1], [10.74, 185.16, 1], [10.74, 185.18, 1], [10.74, 185.29, 1], [10.74, 185.37, 1], [10.75, 185.44, 1], [10.76, 185.45, 1], [10.76, 185.45, 1], [10.76, 185.45, 1], [10.76, 185.48, 1], [10.77, 185.48, 1], [10.77, 185.7, 1], [10.77, 185.72, 1], [10.77, 185.79, 1], [10.77, 185.83, 1], [10.78, 185.83, 1], [10.78, 185.98, 1], [10.78, 186.0, 1], [10.78, 186.03, 1], [10.78, 186.09, 1], [10.79, 186.12, 1], [10.79, 186.16, 1], [10.79, 186.17, 1], [10.79, 186.19, 1], [10.8, 186.25, 1], [10.8, 186.3, 1], [10.8, 186.35, 1], [10.82, 186.36, 1], [10.82, 186.41, 1], [10.83, 186.53, 1], [10.83, 186.62, 1], [10.83, 186.63, 1], [10.83, 186.64, 1], [10.83, 186.77, 1], [10.84, 186.8, 1], [10.84, 187.0, 1], [10.85, 187.01, 1], [10.86, 187.04, 1], [10.86, 187.05, 1], [10.87, 187.1, 1], [10.87, 187.12, 1], [10.87, 187.24, 1], [10.87, 187.25, 1], [10.87, 187.27, 1], [10.88, 187.39, 1], [10.88, 187.44, 1], [10.88, 187.47, 1], [10.88, 187.57, 1], [10.89, 187.6, 1], [10.89, 187.6, 1], [10.89, 187.66, 1], [10.9, 187.67, 1], [10.9, 187.69, 1], [10.9, 187.89, 1], [10.9, 187.91, 1], [10.9, 187.94, 1], [10.9, 187.99, 1], [10.9, 188.03, 1], [10.91, 188.03, 1], [10.91, 188.07, 1], [10.91, 188.09, 1], [10.91, 188.17, 1], [10.91, 188.2, 1], [10.91, 188.32, 1], [10.91, 188.39, 1], [10.91, 188.4, 1], [10.92, 188.4, 1], [10.93, 188.43, 1], [10.94, 188.44, 1], [10.94, 188.44, 1], [10.94, 188.47, 1], [10.95, 188.5, 1], [10.95, 188.51, 1], [10.96, 188.59, 1], [10.96, 188.71, 1], [10.97, 188.73, 1], [10.97, 188.85, 1], [10.98, 188.91, 1], [10.98, 188.98, 1], [10.98, 188.99, 1], [10.98, 189.06, 1], [10.99, 189.22, 1], [10.99, 189.38, 1], [11.0, 189.61, 1], [11.02, 189.63, 1], [11.04, 189.65, 1], [11.04, 189.79, 1], [11.04, 189.84, 1], [11.04, 190.0, 1], [11.05, 190.12, 1], [11.05, 190.22, 1], [11.05, 190.25, 1], [11.06, 190.31, 1], [11.06, 190.33, 1], [11.07, 190.33, 1], [11.07, 190.42, 1], [11.08, 190.53, 1], [11.09, 190.55, 1], [11.09, 190.67, 1], [11.09, 190.68, 1], [11.1, 190.76, 1], [11.11, 190.78, 1], [11.12, 190.92, 1], [11.12, 191.01, 1], [11.12, 191.09, 1], [11.13, 191.09, 1], [11.15, 191.23, 1], [11.16, 191.24, 1], [11.16, 191.28, 1], [11.16, 191.58, 1], [11.17, 191.67, 1], [11.17, 191.7, 1], [11.17, 191.75, 1], [11.2, 191.8, 1], [11.2, 191.8, 1], [11.21, 191.82, 1], [11.21, 191.9, 1], [11.21, 191.94, 1], [11.21, 191.97, 1], [11.22, 191.98, 1], [11.23, 191.98, 1], [11.23, 192.05, 1], [11.24, 192.06, 1], [11.24, 192.11, 1], [11.25, 192.16, 1], [11.25, 192.23, 1], [11.26, 192.32, 1], [11.29, 192.34, 1], [11.29, 192.4, 1], [11.3, 192.47, 1], [11.3, 192.49, 1], [11.3, 192.59, 1], [11.31, 192.64, 1], [11.31, 192.69, 1], [11.32, 193.08, 1], [11.32, 193.1, 1], [11.33, 193.16, 1], [11.33, 193.22, 1], [11.34, 193.51, 1], [11.34, 193.66, 1], [11.35, 194.18, 1], [11.36, 194.2, 1], [11.36, 194.59, 1], [11.37, 194.64, 1], [11.38, 194.66, 1], [11.39, 194.67, 1], [11.39, 194.81, 1], [11.39, 194.89, 1], [11.4, 194.93, 1], [11.41, 194.96, 1], [11.41, 195.09, 1], [11.42, 195.28, 1], [11.43, 195.33, 1], [11.44, 195.45, 1], [11.45, 195.47, 1], [11.46, 195.65, 1], [11.49, 195.78, 1], [11.49, 195.88, 1], [11.5, 195.9, 1], [11.51, 196.15, 1], [11.53, 196.54, 1], [11.53, 196.77, 1], [11.53, 196.84, 1], [11.53, 197.13, 1], [11.55, 197.25, 1], [11.58, 197.58, 1], [11.58, 197.68, 1], [11.58, 198.36, 1], [11.6, 198.64, 1], [11.62, 198.67, 1], [11.64, 198.84, 1], [11.64, 199.06, 1], [11.65, 199.53, 1], [11.65, 199.55, 1], [11.67, 200.11, 1], [11.69, 200.24, 1], [11.69, 200.38, 1], [11.75, 200.66, 1], [11.77, 200.94, 1], [11.77, 201.27, 1], [11.78, 202.41, 1], [11.8, 203.12, 1], [11.8, 203.94, 1], [11.81, 205.3, 1], [11.85, 205.44, 1], [11.9, 205.54, 1], [11.93, 206.66, 1], [11.97, 206.75, 1], [12.01, 206.84, 1], [12.04, 207.91, 1], [12.21, 208.93, 1], [12.21, 212.23, 1], [12.22, 212.77, 1], [12.22, 217.0, 1], [12.28, 217.04, 1], [12.55, 218.07, 1], [12.75, 230.13, 1], [12.87, 231.09, 1], [7.63, 126.79, 0], [7.69, 133.98, 0], [7.72, 135.56, 0], [7.77, 135.62, 0], [7.84, 136.63, 0], [7.94, 137.66, 0], [8.05, 138.87, 0], [8.11, 139.26, 0], [8.18, 140.2, 0], [8.19, 140.91, 0], [8.19, 142.93, 0], [8.21, 144.85, 0], [8.24, 145.52, 0], [8.24, 146.47, 0], [8.29, 146.51, 0], [8.3, 146.61, 0], [8.36, 146.71, 0], [8.36, 146.81, 0], [8.37, 146.85, 0], [8.37, 147.07, 0], [8.45, 147.43, 0], [8.47, 147.62, 0], [8.5, 147.72, 0], [8.5, 147.78, 0], [8.51, 148.03, 0], [8.51, 148.26, 0], [8.53, 148.35, 0], [8.54, 148.96, 0], [8.59, 149.2, 0], [8.59, 149.33, 0], [8.61, 149.39, 0], [8.64, 149.42, 0], [8.65, 149.83, 0], [8.66, 150.01, 0], [8.66, 150.03, 0], [8.67, 150.17, 0], [8.67, 150.38, 0], [8.68, 150.6, 0], [8.68, 150.63, 0], [8.69, 150.69, 0], [8.69, 150.75, 0], [8.71, 151.09, 0], [8.73, 151.11, 0], [8.74, 151.13, 0], [8.74, 151.22, 0], [8.75, 151.29, 0], [8.76, 151.65, 0], [8.76, 152.22, 0], [8.78, 152.42, 0], [8.79, 152.53, 0], [8.79, 152.59, 0], [8.8, 152.79, 0], [8.8, 152.82, 0], [8.8, 152.88, 0], [8.81, 153.01, 0], [8.81, 153.11, 0], [8.81, 153.13, 0], [8.81, 153.14, 0], [8.82, 153.42, 0], [8.84, 153.52, 0], [8.84, 153.89, 0], [8.84, 154.05, 0], [8.85, 154.07, 0], [8.85, 154.17, 0], [8.86, 154.23, 0], [8.86, 154.26, 0], [8.86, 154.28, 0], [8.88, 154.31, 0], [8.88, 154.33, 0], [8.89, 154.44, 0], [8.9, 154.45, 0], [8.9, 154.81, 0], [8.9, 154.88, 0], [8.91, 155.15, 0], [8.92, 155.25, 0], [8.92, 155.27, 0], [8.92, 155.49, 0], [8.93, 155.53, 0], [8.93, 155.54, 0], [8.95, 155.62, 0], [8.96, 155.65, 0], [8.96, 155.67, 0], [8.96, 155.69, 0], [8.97, 155.84, 0], [9.0, 156.08, 0], [9.01, 156.09, 0], [9.02, 156.16, 0], [9.02, 156.18, 0], [9.02, 156.29, 0], [9.03, 156.29, 0], [9.03, 156.43, 0], [9.03, 156.5, 0], [9.03, 156.87, 0], [9.03, 156.92, 0], [9.05, 157.2, 0], [9.05, 157.21, 0], [9.06, 157.26, 0], [9.06, 157.31, 0], [9.06, 157.49, 0], [9.06, 157.55, 0], [9.06, 157.57, 0], [9.06, 157.66, 0], [9.07, 157.71, 0], [9.07, 157.72, 0], [9.07, 157.74, 0], [9.07, 157.75, 0], [9.08, 157.78, 0], [9.08, 158.0, 0], [9.08, 158.05, 0], [9.09, 158.2, 0], [9.09, 158.28, 0], [9.09, 158.28, 0], [9.09, 158.33, 0], [9.09, 158.42, 0], [9.1, 158.51, 0], [9.1, 158.52, 0], [9.1, 158.54, 0], [9.1, 158.57, 0], [9.1, 158.59, 0], [9.11, 158.64, 0], [9.11, 158.73, 0], [9.11, 158.8, 0], [9.11, 159.05, 0], [9.11, 159.16, 0], [9.12, 159.18, 0], [9.12, 159.34, 0], [9.12, 159.37, 0], [9.12, 159.39, 0], [9.12, 159.41, 0], [9.13, 159.44, 0], [9.13, 159.48, 0], [9.13, 159.54, 0], [9.13, 159.56, 0], [9.13, 159.61, 0], [9.13, 159.71, 0], [9.14, 159.9, 0], [9.15, 159.98, 0], [9.15, 160.07, 0], [9.15, 160.12, 0], [9.15, 160.13, 0], [9.16, 160.14, 0], [9.17, 160.17, 0], [9.17, 160.19, 0], [9.17, 160.36, 0], [9.17, 160.44, 0], [9.18, 160.55, 0], [9.18, 160.58, 0], [9.18, 160.67, 0], [9.18, 160.7, 0], [9.19, 160.73, 0], [9.19, 160.76, 0], [9.19, 160.8, 0], [9.19, 160.84, 0], [9.2, 160.84, 0], [9.2, 160.87, 0], [9.2, 160.93, 0], [9.2, 161.01, 0], [9.22, 161.03, 0], [9.23, 161.04, 0], [9.23, 161.08, 0], [9.23, 161.11, 0], [9.23, 161.11, 0], [9.23, 161.15, 0], [9.23, 161.19, 0], [9.24, 161.35, 0], [9.24, 161.38, 0], [9.25, 161.43, 0], [9.25, 161.44, 0], [9.26, 161.5, 0], [9.26, 161.59, 0], [9.26, 161.65, 0], [9.26, 161.66, 0], [9.26, 161.7, 0], [9.27, 161.72, 0], [9.27, 161.83, 0], [9.27, 161.87, 0], [9.28, 161.93, 0], [9.28, 161.95, 0], [9.28, 161.97, 0], [9.28, 162.0, 0], [9.29, 162.03, 0], [9.29, 162.06, 0], [9.29, 162.09, 0], [9.29, 162.17, 0], [9.3, 162.21, 0], [9.3, 162.21, 0], [9.3, 162.24, 0], [9.3, 162.27, 0], [9.3, 162.33, 0], [9.31, 162.5, 0], [9.31, 162.56, 0], [9.32, 162.56, 0], [9.32, 162.57, 0], [9.32, 162.83, 0], [9.32, 162.92, 0], [9.32, 162.93, 0], [9.32, 162.95, 0], [9.32, 162.95, 0], [9.32, 162.96, 0], [9.33, 163.07, 0], [9.33, 163.13, 0], [9.33, 163.13, 0], [9.34, 163.22, 0], [9.34, 163.27, 0], [9.34, 163.3, 0], [9.34, 163.38, 0], [9.35, 163.39, 0], [9.35, 163.47, 0], [9.35, 163.5, 0], [9.35, 163.57, 0], [9.36, 163.58, 0], [9.37, 163.6, 0], [9.37, 163.73, 0], [9.37, 163.8, 0], [9.38, 163.83, 0], [9.38, 163.86, 0], [9.38, 163.94, 0], [9.38, 163.96, 0], [9.38, 163.99, 0], [9.38, 164.17, 0], [9.38, 164.18, 0], [9.39, 164.2, 0], [9.39, 164.24, 0], [9.4, 164.32, 0], [9.4, 164.36, 0], [9.4, 164.39, 0], [9.41, 164.49, 0], [9.42, 164.57, 0], [9.42, 164.63, 0], [9.43, 164.67, 0], [9.43, 164.71, 0], [9.43, 164.74, 0], [9.44, 164.81, 0], [9.44, 164.88, 0], [9.44, 164.91, 0], [9.44, 164.99, 0], [9.45, 165.05, 0], [9.45, 165.06, 0], [9.45, 165.1, 0], [9.45, 165.13, 0], [9.45, 165.18, 0], [9.46, 165.19, 0], [9.46, 165.24, 0], [9.46, 165.26, 0], [9.46, 165.26, 0], [9.46, 165.32, 0], [9.47, 165.37, 0], [9.48, 165.38, 0], [9.48, 165.4, 0], [9.48, 165.44, 0], [9.49, 165.52, 0], [9.49, 165.52, 0], [9.49, 165.52, 0], [9.49, 165.52, 0], [9.5, 165.55, 0], [9.5, 165.64, 0], [9.5, 165.7, 0], [9.5, 165.74, 0], [9.5, 165.77, 0], [9.51, 165.77, 0], [9.51, 165.83, 0], [9.51, 165.89, 0], [9.51, 165.9, 0], [9.51, 165.94, 0], [9.52, 165.95, 0], [9.52, 165.97, 0], [9.52, 166.15, 0], [9.52, 166.17, 0], [9.53, 166.17, 0], [9.53, 166.2, 0], [9.53, 166.22, 0], [9.53, 166.29, 0], [9.53, 166.32, 0], [9.53, 166.38, 0], [9.54, 166.44, 0], [9.54, 166.55, 0], [9.54, 166.58, 0], [9.54, 166.59, 0], [9.55, 166.63, 0], [9.55, 166.64, 0], [9.55, 166.65, 0], [9.55, 166.7, 0], [9.55, 166.73, 0], [9.56, 166.77, 0], [9.56, 166.78, 0], [9.56, 166.84, 0], [9.56, 166.87, 0], [9.56, 166.9, 0], [9.56, 166.92, 0], [9.56, 166.94, 0], [9.56, 166.97, 0], [9.56, 167.2, 0], [9.57, 167.2, 0], [9.57, 167.22, 0], [9.58, 167.24, 0], [9.58, 167.25, 0], [9.58, 167.38, 0], [9.58, 167.4, 0], [9.58, 167.4, 0], [9.59, 167.42, 0], [9.59, 167.44, 0], [9.59, 167.44, 0], [9.59, 167.46, 0], [9.59, 167.5, 0], [9.6, 167.53, 0], [9.6, 167.56, 0], [9.6, 167.57, 0], [9.6, 167.59, 0], [9.6, 167.59, 0], [9.61, 167.64, 0], [9.61, 167.65, 0], [9.61, 167.68, 0], [9.61, 167.7, 0], [9.62, 167.78, 0], [9.62, 167.8, 0], [9.62, 167.82, 0], [9.62, 167.83, 0], [9.62, 167.83, 0], [9.62, 167.9, 0], [9.62, 167.92, 0], [9.62, 167.95, 0], [9.62, 167.96, 0], [9.62, 167.97, 0], [9.63, 167.98, 0], [9.63, 168.01, 0], [9.63, 168.01, 0], [9.63, 168.04, 0], [9.63, 168.05, 0], [9.63, 168.17, 0], [9.63, 168.17, 0], [9.63, 168.23, 0], [9.63, 168.23, 0], [9.64, 168.25, 0], [9.64, 168.27, 0], [9.64, 168.31, 0], [9.64, 168.34, 0], [9.64, 168.34, 0], [9.64, 168.39, 0], [9.64, 168.41, 0], [9.64, 168.41, 0], [9.64, 168.44, 0], [9.64, 168.45, 0], [9.64, 168.52, 0], [9.65, 168.52, 0], [9.65, 168.55, 0], [9.65, 168.58, 0], [9.65, 168.65, 0], [9.65, 168.71, 0], [9.65, 168.74, 0], [9.66, 168.78, 0], [9.66, 168.8, 0], [9.66, 168.84, 0], [9.66, 168.9, 0], [9.66, 168.98, 0], [9.66, 169.03, 0], [9.66, 169.09, 0], [9.66, 169.09, 0], [9.66, 169.1, 0], [9.66, 169.15, 0], [9.66, 169.16, 0], [9.67, 169.17, 0], [9.67, 169.21, 0], [9.67, 169.23, 0], [9.67, 169.31, 0], [9.67, 169.32, 0], [9.67, 169.32, 0], [9.67, 169.32, 0], [9.68, 169.34, 0], [9.68, 169.37, 0], [9.68, 169.38, 0], [9.68, 169.39, 0], [9.69, 169.4, 0], [9.69, 169.41, 0], [9.69, 169.42, 0], [9.69, 169.43, 0], [9.69, 169.54, 0], [9.69, 169.55, 0], [9.69, 169.58, 0], [9.69, 169.59, 0], [9.7, 169.65, 0], [9.7, 169.65, 0], [9.7, 169.65, 0], [9.7, 169.66, 0], [9.7, 169.67, 0], [9.7, 169.72, 0], [9.7, 169.77, 0], [9.71, 169.79, 0], [9.71, 169.8, 0], [9.71, 169.83, 0], [9.71, 169.85, 0], [9.72, 169.85, 0], [9.72, 169.92, 0], [9.72, 169.95, 0], [9.72, 169.99, 0], [9.72, 170.15, 0], [9.72, 170.16, 0], [9.72, 170.2, 0], [9.72, 170.26, 0], [9.72, 170.32, 0], [9.72, 170.32, 0], [9.72, 170.34, 0], [9.73, 170.37, 0], [9.73, 170.41, 0], [9.73, 170.42, 0], [9.73, 170.47, 0], [9.73, 170.48, 0], [9.74, 170.5, 0], [9.74, 170.5, 0], [9.74, 170.54, 0], [9.74, 170.57, 0], [9.75, 170.58, 0], [9.75, 170.58, 0], [9.75, 170.58, 0], [9.76, 170.6, 0], [9.76, 170.62, 0], [9.76, 170.62, 0], [9.77, 170.69, 0], [9.77, 170.86, 0], [9.77, 170.89, 0], [9.77, 170.93, 0], [9.77, 171.0, 0], [9.77, 171.03, 0], [9.78, 171.08, 0], [9.78, 171.13, 0], [9.78, 171.13, 0], [9.78, 171.14, 0], [9.79, 171.22, 0], [9.79, 171.29, 0], [9.79, 171.33, 0], [9.8, 171.34, 0], [9.8, 171.37, 0], [9.8, 171.37, 0], [9.8, 171.42, 0], [9.8, 171.43, 0], [9.8, 171.44, 0], [9.8, 171.45, 0], [9.8, 171.49, 0], [9.81, 171.52, 0], [9.81, 171.52, 0], [9.81, 171.53, 0], [9.81, 171.53, 0], [9.81, 171.55, 0], [9.82, 171.56, 0], [9.82, 171.59, 0], [9.82, 171.59, 0], [9.82, 171.6, 0], [9.82, 171.62, 0], [9.82, 171.64, 0], [9.82, 171.65, 0], [9.82, 171.66, 0], [9.82, 171.68, 0], [9.82, 171.68, 0], [9.82, 171.73, 0], [9.83, 171.73, 0], [9.83, 171.74, 0], [9.83, 171.76, 0], [9.83, 171.89, 0], [9.83, 171.93, 0], [9.83, 171.97, 0], [9.83, 171.99, 0], [9.83, 171.99, 0], [9.83, 172.01, 0], [9.84, 172.02, 0], [9.84, 172.04, 0], [9.84, 172.05, 0], [9.84, 172.05, 0], [9.84, 172.07, 0], [9.84, 172.09, 0], [9.85, 172.11, 0], [9.85, 172.12, 0], [9.85, 172.12, 0], [9.85, 172.16, 0], [9.85, 172.17, 0], [9.85, 172.18, 0], [9.85, 172.19, 0], [9.85, 172.21, 0], [9.85, 172.21, 0], [9.85, 172.23, 0], [9.86, 172.25, 0], [9.86, 172.27, 0], [9.86, 172.28, 0], [9.86, 172.29, 0], [9.86, 172.33, 0], [9.86, 172.34, 0], [9.86, 172.35, 0], [9.87, 172.37, 0], [9.87, 172.37, 0], [9.87, 172.39, 0], [9.87, 172.41, 0], [9.87, 172.43, 0], [9.87, 172.44, 0], [9.87, 172.5, 0], [9.87, 172.5, 0], [9.88, 172.5, 0], [9.88, 172.54, 0], [9.88, 172.54, 0], [9.88, 172.55, 0], [9.88, 172.56, 0], [9.88, 172.59, 0], [9.88, 172.61, 0], [9.88, 172.64, 0], [9.89, 172.65, 0], [9.89, 172.7, 0], [9.89, 172.72, 0], [9.89, 172.73, 0], [9.89, 172.75, 0], [9.9, 172.76, 0], [9.9, 172.84, 0], [9.9, 172.85, 0], [9.9, 172.86, 0], [9.9, 172.9, 0], [9.91, 172.93, 0], [9.91, 172.96, 0], [9.92, 172.96, 0], [9.92, 172.97, 0], [9.92, 172.99, 0], [9.92, 173.01, 0], [9.92, 173.03, 0], [9.92, 173.06, 0], [9.92, 173.08, 0], [9.92, 173.12, 0], [9.93, 173.18, 0], [9.93, 173.23, 0], [9.93, 173.24, 0], [9.93, 173.27, 0], [9.93, 173.3, 0], [9.93, 173.36, 0], [9.93, 173.38, 0], [9.93, 173.39, 0], [9.93, 173.4, 0], [9.94, 173.43, 0], [9.94, 173.43, 0], [9.94, 173.45, 0], [9.94, 173.46, 0], [9.94, 173.5, 0], [9.94, 173.55, 0], [9.94, 173.56, 0], [9.94, 173.58, 0], [9.94, 173.58, 0], [9.94, 173.58, 0], [9.95, 173.61, 0], [9.95, 173.64, 0], [9.95, 173.64, 0], [9.95, 173.7, 0], [9.95, 173.73, 0], [9.95, 173.8, 0], [9.95, 173.8, 0], [9.95, 173.81, 0], [9.95, 173.83, 0], [9.96, 173.85, 0], [9.96, 173.86, 0], [9.96, 173.88, 0], [9.96, 173.9, 0], [9.96, 173.92, 0], [9.96, 173.92, 0], [9.96, 173.94, 0], [9.96, 173.95, 0], [9.96, 173.95, 0], [9.96, 173.95, 0], [9.97, 173.95, 0], [9.97, 173.95, 0], [9.97, 173.97, 0], [9.97, 174.01, 0], [9.97, 174.02, 0], [9.97, 174.02, 0], [9.97, 174.02, 0], [9.97, 174.05, 0], [9.97, 174.05, 0], [9.97, 174.05, 0], [9.98, 174.07, 0], [9.98, 174.07, 0], [9.98, 174.09, 0], [9.98, 174.12, 0], [9.98, 174.12, 0], [9.98, 174.13, 0], [9.98, 174.17, 0], [9.98, 174.19, 0], [9.98, 174.24, 0], [9.99, 174.24, 0], [9.99, 174.3, 0], [9.99, 174.33, 0], [9.99, 174.33, 0], [9.99, 174.34, 0], [9.99, 174.37, 0], [9.99, 174.38, 0], [9.99, 174.38, 0], [10.0, 174.42, 0], [10.0, 174.44, 0], [10.0, 174.45, 0], [10.0, 174.46, 0], [10.0, 174.46, 0], [10.0, 174.47, 0], [10.0, 174.49, 0], [10.01, 174.49, 0], [10.01, 174.5, 0], [10.01, 174.51, 0], [10.01, 174.51, 0], [10.01, 174.52, 0], [10.02, 174.52, 0], [10.02, 174.52, 0], [10.02, 174.53, 0], [10.02, 174.55, 0], [10.02, 174.59, 0], [10.02, 174.59, 0], [10.02, 174.6, 0], [10.02, 174.6, 0], [10.02, 174.65, 0], [10.02, 174.67, 0], [10.03, 174.68, 0], [10.03, 174.71, 0], [10.03, 174.82, 0], [10.03, 174.83, 0], [10.03, 174.84, 0], [10.03, 174.85, 0], [10.03, 174.88, 0], [10.04, 174.88, 0], [10.04, 174.88, 0], [10.04, 174.89, 0], [10.04, 174.9, 0], [10.04, 174.92, 0], [10.04, 174.93, 0], [10.04, 174.95, 0], [10.04, 174.99, 0], [10.04, 175.04, 0], [10.04, 175.05, 0], [10.04, 175.07, 0], [10.04, 175.08, 0], [10.05, 175.09, 0], [10.05, 175.09, 0], [10.05, 175.09, 0], [10.05, 175.1, 0], [10.05, 175.1, 0], [10.05, 175.1, 0], [10.05, 175.1, 0], [10.05, 175.11, 0], [10.05, 175.13, 0], [10.05, 175.19, 0], [10.06, 175.22, 0], [10.06, 175.22, 0], [10.06, 175.23, 0], [10.06, 175.26, 0], [10.06, 175.27, 0], [10.07, 175.28, 0], [10.07, 175.29, 0], [10.07, 175.3, 0], [10.07, 175.3, 0], [10.07, 175.31, 0], [10.07, 175.33, 0], [10.07, 175.36, 0], [10.07, 175.42, 0], [10.07, 175.45, 0], [10.07, 175.46, 0], [10.07, 175.47, 0], [10.08, 175.5, 0], [10.08, 175.52, 0], [10.08, 175.53, 0], [10.08, 175.53, 0], [10.08, 175.54, 0], [10.09, 175.55, 0], [10.09, 175.58, 0], [10.09, 175.59, 0], [10.09, 175.62, 0], [10.09, 175.63, 0], [10.09, 175.63, 0], [10.09, 175.64, 0], [10.09, 175.65, 0], [10.1, 175.68, 0], [10.1, 175.69, 0], [10.1, 175.69, 0], [10.1, 175.71, 0], [10.1, 175.75, 0], [10.1, 175.75, 0], [10.11, 175.8, 0], [10.11, 175.8, 0], [10.11, 175.82, 0], [10.11, 175.82, 0], [10.11, 175.83, 0], [10.11, 175.84, 0], [10.11, 175.84, 0], [10.11, 175.84, 0], [10.11, 175.86, 0], [10.11, 175.86, 0], [10.11, 175.87, 0], [10.11, 175.93, 0], [10.11, 175.94, 0], [10.11, 175.95, 0], [10.12, 175.99, 0], [10.12, 176.01, 0], [10.12, 176.04, 0], [10.12, 176.04, 0], [10.12, 176.08, 0], [10.12, 176.09, 0], [10.12, 176.18, 0], [10.12, 176.19, 0], [10.13, 176.2, 0], [10.13, 176.22, 0], [10.13, 176.22, 0], [10.13, 176.23, 0], [10.13, 176.23, 0], [10.14, 176.24, 0], [10.14, 176.31, 0], [10.14, 176.33, 0], [10.14, 176.34, 0], [10.14, 176.38, 0], [10.14, 176.38, 0], [10.14, 176.39, 0], [10.14, 176.39, 0], [10.14, 176.42, 0], [10.14, 176.42, 0], [10.15, 176.44, 0], [10.15, 176.45, 0], [10.15, 176.46, 0], [10.15, 176.46, 0], [10.15, 176.46, 0], [10.15, 176.56, 0], [10.15, 176.59, 0], [10.15, 176.6, 0], [10.16, 176.65, 0], [10.16, 176.68, 0], [10.16, 176.69, 0], [10.16, 176.7, 0], [10.16, 176.77, 0], [10.16, 176.78, 0], [10.16, 176.79, 0], [10.17, 176.81, 0], [10.17, 176.81, 0], [10.17, 176.82, 0], [10.17, 176.82, 0], [10.17, 176.84, 0], [10.17, 176.86, 0], [10.17, 176.88, 0], [10.17, 176.88, 0], [10.17, 176.91, 0], [10.18, 176.92, 0], [10.18, 176.92, 0], [10.18, 176.95, 0], [10.18, 176.96, 0], [10.18, 176.96, 0], [10.18, 176.97, 0], [10.18, 176.98, 0], [10.18, 176.99, 0], [10.18, 177.0, 0], [10.18, 177.01, 0], [10.18, 177.08, 0], [10.18, 177.09, 0], [10.18, 177.14, 0], [10.18, 177.19, 0], [10.19, 177.21, 0], [10.19, 177.24, 0], [10.19, 177.24, 0], [10.19, 177.26, 0], [10.19, 177.26, 0], [10.19, 177.27, 0], [10.19, 177.28, 0], [10.19, 177.28, 0], [10.19, 177.3, 0], [10.19, 177.32, 0], [10.19, 177.33, 0], [10.19, 177.33, 0], [10.19, 177.34, 0], [10.19, 177.38, 0], [10.19, 177.39, 0], [10.2, 177.4, 0], [10.2, 177.41, 0], [10.2, 177.44, 0], [10.2, 177.47, 0], [10.2, 177.52, 0], [10.2, 177.54, 0], [10.2, 177.54, 0], [10.2, 177.55, 0], [10.2, 177.56, 0], [10.2, 177.58, 0], [10.2, 177.62, 0], [10.21, 177.62, 0], [10.21, 177.63, 0], [10.21, 177.63, 0], [10.21, 177.63, 0], [10.21, 177.64, 0], [10.21, 177.66, 0], [10.21, 177.67, 0], [10.21, 177.67, 0], [10.21, 177.69, 0], [10.22, 177.7, 0], [10.22, 177.76, 0], [10.22, 177.76, 0], [10.22, 177.78, 0], [10.23, 177.82, 0], [10.23, 177.83, 0], [10.23, 177.84, 0], [10.23, 177.87, 0], [10.23, 177.88, 0], [10.23, 177.91, 0], [10.23, 177.93, 0], [10.23, 177.95, 0], [10.24, 177.96, 0], [10.24, 177.97, 0], [10.24, 177.97, 0], [10.24, 178.0, 0], [10.24, 178.0, 0], [10.25, 178.04, 0], [10.25, 178.06, 0], [10.25, 178.1, 0], [10.25, 178.1, 0], [10.25, 178.1, 0], [10.26, 178.11, 0], [10.26, 178.11, 0], [10.26, 178.13, 0], [10.26, 178.13, 0], [10.26, 178.16, 0], [10.26, 178.19, 0], [10.26, 178.23, 0], [10.26, 178.23, 0], [10.26, 178.25, 0], [10.26, 178.27, 0], [10.26, 178.28, 0], [10.26, 178.28, 0], [10.27, 178.29, 0], [10.27, 178.33, 0], [10.27, 178.36, 0], [10.27, 178.38, 0], [10.27, 178.39, 0], [10.27, 178.41, 0], [10.28, 178.41, 0], [10.28, 178.41, 0], [10.28, 178.43, 0], [10.28, 178.45, 0], [10.28, 178.47, 0], [10.28, 178.48, 0], [10.28, 178.5, 0], [10.29, 178.51, 0], [10.29, 178.51, 0], [10.29, 178.53, 0], [10.29, 178.54, 0], [10.29, 178.55, 0], [10.29, 178.59, 0], [10.29, 178.64, 0], [10.29, 178.69, 0], [10.29, 178.7, 0], [10.29, 178.73, 0], [10.29, 178.74, 0], [10.3, 178.75, 0], [10.3, 178.75, 0], [10.3, 178.76, 0], [10.3, 178.76, 0], [10.3, 178.77, 0], [10.3, 178.78, 0], [10.31, 178.8, 0], [10.31, 178.85, 0], [10.31, 178.89, 0], [10.32, 178.93, 0], [10.32, 178.93, 0], [10.32, 178.94, 0], [10.32, 178.95, 0], [10.32, 178.95, 0], [10.32, 178.96, 0], [10.32, 178.96, 0], [10.32, 178.99, 0], [10.33, 178.99, 0], [10.33, 178.99, 0], [10.33, 178.99, 0], [10.33, 179.01, 0], [10.33, 179.02, 0], [10.33, 179.07, 0], [10.33, 179.07, 0], [10.33, 179.08, 0], [10.33, 179.08, 0], [10.33, 179.1, 0], [10.33, 179.11, 0], [10.33, 179.16, 0], [10.34, 179.18, 0], [10.34, 179.18, 0], [10.34, 179.22, 0], [10.34, 179.22, 0], [10.34, 179.22, 0], [10.34, 179.23, 0], [10.34, 179.24, 0], [10.34, 179.25, 0], [10.34, 179.26, 0], [10.34, 179.27, 0], [10.35, 179.3, 0], [10.35, 179.35, 0], [10.35, 179.36, 0], [10.35, 179.36, 0], [10.35, 179.42, 0], [10.35, 179.44, 0], [10.35, 179.47, 0], [10.35, 179.49, 0], [10.35, 179.5, 0], [10.35, 179.54, 0], [10.35, 179.54, 0], [10.35, 179.55, 0], [10.35, 179.58, 0], [10.35, 179.59, 0], [10.35, 179.6, 0], [10.35, 179.6, 0], [10.35, 179.61, 0], [10.36, 179.62, 0], [10.36, 179.65, 0], [10.36, 179.65, 0], [10.36, 179.66, 0], [10.36, 179.66, 0], [10.36, 179.68, 0], [10.36, 179.68, 0], [10.36, 179.7, 0], [10.36, 179.71, 0], [10.36, 179.72, 0], [10.37, 179.78, 0], [10.37, 179.78, 0], [10.37, 179.79, 0], [10.37, 179.79, 0], [10.37, 179.82, 0], [10.37, 179.84, 0], [10.37, 179.87, 0], [10.37, 179.88, 0], [10.37, 179.88, 0], [10.37, 179.89, 0], [10.37, 179.89, 0], [10.38, 179.9, 0], [10.38, 179.9, 0], [10.38, 179.92, 0], [10.38, 179.93, 0], [10.38, 179.93, 0], [10.38, 179.94, 0], [10.38, 179.94, 0], [10.38, 179.96, 0], [10.38, 179.97, 0], [10.38, 179.99, 0], [10.38, 179.99, 0], [10.38, 180.02, 0], [10.39, 180.03, 0], [10.39, 180.03, 0], [10.39, 180.04, 0], [10.39, 180.06, 0], [10.39, 180.07, 0], [10.39, 180.08, 0], [10.39, 180.08, 0], [10.39, 180.08, 0], [10.39, 180.09, 0], [10.4, 180.1, 0], [10.4, 180.11, 0], [10.4, 180.13, 0], [10.4, 180.13, 0], [10.4, 180.14, 0], [10.4, 180.14, 0], [10.4, 180.14, 0], [10.4, 180.14, 0], [10.4, 180.16, 0], [10.41, 180.18, 0], [10.41, 180.19, 0], [10.41, 180.19, 0], [10.41, 180.21, 0], [10.41, 180.23, 0], [10.41, 180.26, 0], [10.41, 180.29, 0], [10.41, 180.3, 0], [10.41, 180.32, 0], [10.41, 180.35, 0], [10.41, 180.35, 0], [10.42, 180.35, 0], [10.42, 180.41, 0], [10.42, 180.42, 0], [10.42, 180.43, 0], [10.42, 180.46, 0], [10.42, 180.46, 0], [10.42, 180.46, 0], [10.42, 180.47, 0], [10.42, 180.52, 0], [10.42, 180.56, 0], [10.42, 180.57, 0], [10.42, 180.57, 0], [10.42, 180.6, 0], [10.42, 180.61, 0], [10.42, 180.62, 0], [10.42, 180.63, 0], [10.42, 180.63, 0], [10.43, 180.65, 0], [10.43, 180.66, 0], [10.43, 180.68, 0], [10.43, 180.69, 0], [10.43, 180.73, 0], [10.43, 180.78, 0], [10.43, 180.78, 0], [10.43, 180.78, 0], [10.43, 180.79, 0], [10.43, 180.8, 0], [10.43, 180.81, 0], [10.43, 180.82, 0], [10.43, 180.83, 0], [10.43, 180.83, 0], [10.44, 180.85, 0], [10.44, 180.85, 0], [10.44, 180.86, 0], [10.44, 180.88, 0], [10.44, 180.9, 0], [10.44, 180.9, 0], [10.44, 180.92, 0], [10.44, 180.93, 0], [10.44, 180.94, 0], [10.44, 180.95, 0], [10.44, 180.95, 0], [10.44, 180.96, 0], [10.44, 180.99, 0], [10.44, 181.02, 0], [10.44, 181.03, 0], [10.45, 181.04, 0], [10.45, 181.05, 0], [10.45, 181.06, 0], [10.45, 181.06, 0], [10.45, 181.06, 0], [10.45, 181.12, 0], [10.45, 181.12, 0], [10.45, 181.12, 0], [10.45, 181.14, 0], [10.45, 181.16, 0], [10.45, 181.16, 0], [10.46, 181.2, 0], [10.46, 181.2, 0], [10.46, 181.21, 0], [10.46, 181.23, 0], [10.46, 181.24, 0], [10.46, 181.24, 0], [10.46, 181.25, 0], [10.46, 181.28, 0], [10.46, 181.29, 0], [10.46, 181.32, 0], [10.46, 181.32, 0], [10.46, 181.39, 0], [10.47, 181.4, 0], [10.47, 181.4, 0], [10.47, 181.4, 0], [10.47, 181.41, 0], [10.47, 181.41, 0], [10.47, 181.43, 0], [10.47, 181.45, 0], [10.47, 181.47, 0], [10.48, 181.52, 0], [10.48, 181.53, 0], [10.48, 181.54, 0], [10.48, 181.55, 0], [10.48, 181.57, 0], [10.48, 181.58, 0], [10.48, 181.61, 0], [10.48, 181.63, 0], [10.48, 181.63, 0], [10.48, 181.65, 0], [10.49, 181.66, 0], [10.49, 181.68, 0], [10.49, 181.68, 0], [10.49, 181.68, 0], [10.49, 181.69, 0], [10.49, 181.69, 0], [10.5, 181.7, 0], [10.5, 181.71, 0], [10.5, 181.73, 0], [10.5, 181.74, 0], [10.5, 181.76, 0], [10.5, 181.8, 0], [10.5, 181.81, 0], [10.51, 181.82, 0], [10.51, 181.85, 0], [10.51, 181.86, 0], [10.51, 181.86, 0], [10.51, 181.87, 0], [10.51, 181.88, 0], [10.51, 181.91, 0], [10.51, 181.92, 0], [10.51, 181.92, 0], [10.51, 181.96, 0], [10.51, 182.01, 0], [10.51, 182.04, 0], [10.51, 182.05, 0], [10.51, 182.05, 0], [10.51, 182.05, 0], [10.51, 182.07, 0], [10.52, 182.07, 0], [10.52, 182.09, 0], [10.52, 182.09, 0], [10.52, 182.1, 0], [10.52, 182.11, 0], [10.52, 182.11, 0], [10.52, 182.12, 0], [10.52, 182.15, 0], [10.52, 182.16, 0], [10.53, 182.16, 0], [10.53, 182.17, 0], [10.53, 182.19, 0], [10.53, 182.21, 0], [10.53, 182.24, 0], [10.53, 182.26, 0], [10.53, 182.26, 0], [10.53, 182.26, 0], [10.53, 182.27, 0], [10.53, 182.28, 0], [10.53, 182.28, 0], [10.53, 182.29, 0], [10.53, 182.29, 0], [10.54, 182.31, 0], [10.54, 182.33, 0], [10.54, 182.37, 0], [10.54, 182.37, 0], [10.54, 182.4, 0], [10.54, 182.41, 0], [10.54, 182.41, 0], [10.54, 182.42, 0], [10.54, 182.43, 0], [10.54, 182.44, 0], [10.55, 182.46, 0], [10.55, 182.49, 0], [10.55, 182.51, 0], [10.56, 182.51, 0], [10.56, 182.53, 0], [10.56, 182.54, 0], [10.56, 182.54, 0], [10.56, 182.55, 0], [10.56, 182.57, 0], [10.56, 182.57, 0], [10.56, 182.57, 0], [10.56, 182.58, 0], [10.56, 182.58, 0], [10.56, 182.6, 0], [10.56, 182.62, 0], [10.56, 182.62, 0], [10.56, 182.64, 0], [10.56, 182.64, 0], [10.57, 182.65, 0], [10.57, 182.66, 0], [10.57, 182.67, 0], [10.57, 182.68, 0], [10.57, 182.69, 0], [10.57, 182.71, 0], [10.57, 182.71, 0], [10.57, 182.72, 0], [10.57, 182.73, 0], [10.57, 182.73, 0], [10.57, 182.78, 0], [10.57, 182.79, 0], [10.57, 182.83, 0], [10.57, 182.83, 0], [10.57, 182.84, 0], [10.57, 182.85, 0], [10.57, 182.86, 0], [10.58, 182.89, 0], [10.58, 182.89, 0], [10.58, 182.89, 0], [10.58, 182.92, 0], [10.58, 182.93, 0], [10.58, 182.93, 0], [10.58, 182.94, 0], [10.58, 182.94, 0], [10.58, 182.96, 0], [10.58, 183.02, 0], [10.59, 183.04, 0], [10.59, 183.05, 0], [10.59, 183.05, 0], [10.59, 183.06, 0], [10.59, 183.06, 0], [10.59, 183.06, 0], [10.59, 183.07, 0], [10.59, 183.07, 0], [10.59, 183.09, 0], [10.59, 183.1, 0], [10.59, 183.1, 0], [10.6, 183.1, 0], [10.6, 183.11, 0], [10.6, 183.12, 0], [10.6, 183.14, 0], [10.6, 183.14, 0], [10.6, 183.17, 0], [10.6, 183.17, 0], [10.6, 183.19, 0], [10.6, 183.2, 0], [10.6, 183.21, 0], [10.6, 183.23, 0], [10.6, 183.28, 0], [10.61, 183.31, 0], [10.61, 183.36, 0], [10.61, 183.37, 0], [10.61, 183.38, 0], [10.61, 183.38, 0], [10.61, 183.39, 0], [10.61, 183.39, 0], [10.61, 183.39, 0], [10.61, 183.39, 0], [10.61, 183.39, 0], [10.61, 183.4, 0], [10.61, 183.41, 0], [10.61, 183.41, 0], [10.61, 183.45, 0], [10.62, 183.46, 0], [10.62, 183.46, 0], [10.62, 183.48, 0], [10.62, 183.54, 0], [10.62, 183.55, 0], [10.62, 183.57, 0], [10.62, 183.57, 0], [10.62, 183.58, 0], [10.62, 183.6, 0], [10.62, 183.6, 0], [10.62, 183.6, 0], [10.62, 183.64, 0], [10.63, 183.64, 0], [10.63, 183.64, 0], [10.63, 183.64, 0], [10.63, 183.66, 0], [10.63, 183.67, 0], [10.63, 183.68, 0], [10.63, 183.68, 0], [10.63, 183.69, 0], [10.63, 183.71, 0], [10.63, 183.73, 0], [10.63, 183.74, 0], [10.63, 183.75, 0], [10.63, 183.78, 0], [10.64, 183.79, 0], [10.64, 183.81, 0], [10.64, 183.85, 0], [10.64, 183.89, 0], [10.64, 183.89, 0], [10.64, 183.91, 0], [10.64, 183.94, 0], [10.64, 183.96, 0], [10.64, 183.97, 0], [10.64, 184.0, 0], [10.65, 184.01, 0], [10.65, 184.09, 0], [10.65, 184.09, 0], [10.65, 184.11, 0], [10.65, 184.11, 0], [10.65, 184.12, 0], [10.65, 184.12, 0], [10.65, 184.14, 0], [10.65, 184.16, 0], [10.65, 184.16, 0], [10.65, 184.17, 0], [10.65, 184.18, 0], [10.65, 184.19, 0], [10.65, 184.19, 0], [10.65, 184.22, 0], [10.66, 184.22, 0], [10.66, 184.25, 0], [10.66, 184.25, 0], [10.66, 184.27, 0], [10.66, 184.27, 0], [10.66, 184.27, 0], [10.66, 184.28, 0], [10.66, 184.31, 0], [10.66, 184.34, 0], [10.66, 184.34, 0], [10.66, 184.34, 0], [10.66, 184.35, 0], [10.66, 184.35, 0], [10.66, 184.36, 0], [10.66, 184.37, 0], [10.66, 184.37, 0], [10.67, 184.37, 0], [10.67, 184.38, 0], [10.67, 184.39, 0], [10.67, 184.44, 0], [10.67, 184.46, 0], [10.67, 184.46, 0], [10.67, 184.47, 0], [10.67, 184.47, 0], [10.67, 184.48, 0], [10.67, 184.49, 0], [10.67, 184.49, 0], [10.67, 184.5, 0], [10.68, 184.5, 0], [10.68, 184.53, 0], [10.68, 184.53, 0], [10.68, 184.54, 0], [10.68, 184.58, 0], [10.68, 184.58, 0], [10.68, 184.58, 0], [10.68, 184.59, 0], [10.68, 184.64, 0], [10.68, 184.64, 0], [10.68, 184.65, 0], [10.68, 184.66, 0], [10.69, 184.69, 0], [10.69, 184.69, 0], [10.69, 184.7, 0], [10.69, 184.7, 0], [10.69, 184.7, 0], [10.69, 184.71, 0], [10.69, 184.72, 0], [10.69, 184.73, 0], [10.69, 184.73, 0], [10.69, 184.74, 0], [10.69, 184.75, 0], [10.69, 184.75, 0], [10.69, 184.75, 0], [10.69, 184.76, 0], [10.69, 184.77, 0], [10.69, 184.77, 0], [10.69, 184.78, 0], [10.69, 184.81, 0], [10.69, 184.81, 0], [10.69, 184.85, 0], [10.7, 184.85, 0], [10.7, 184.87, 0], [10.7, 184.87, 0], [10.7, 184.93, 0], [10.7, 184.93, 0], [10.7, 184.96, 0], [10.7, 184.97, 0], [10.7, 184.97, 0], [10.7, 184.98, 0], [10.7, 184.99, 0], [10.7, 184.99, 0], [10.7, 185.01, 0], [10.7, 185.01, 0], [10.7, 185.03, 0], [10.71, 185.05, 0], [10.71, 185.05, 0], [10.71, 185.06, 0], [10.71, 185.06, 0], [10.71, 185.06, 0], [10.71, 185.13, 0], [10.71, 185.17, 0], [10.71, 185.17, 0], [10.71, 185.18, 0], [10.71, 185.18, 0], [10.72, 185.18, 0], [10.72, 185.19, 0], [10.72, 185.19, 0], [10.72, 185.2, 0], [10.72, 185.21, 0], [10.72, 185.21, 0], [10.72, 185.22, 0], [10.72, 185.26, 0], [10.72, 185.28, 0], [10.72, 185.3, 0], [10.73, 185.3, 0], [10.73, 185.31, 0], [10.73, 185.32, 0], [10.73, 185.32, 0], [10.73, 185.33, 0], [10.73, 185.34, 0], [10.73, 185.35, 0], [10.73, 185.35, 0], [10.73, 185.35, 0], [10.73, 185.36, 0], [10.73, 185.37, 0], [10.73, 185.38, 0], [10.73, 185.4, 0], [10.73, 185.41, 0], [10.74, 185.41, 0], [10.74, 185.41, 0], [10.74, 185.41, 0], [10.74, 185.41, 0], [10.74, 185.42, 0], [10.74, 185.42, 0], [10.74, 185.43, 0], [10.74, 185.46, 0], [10.74, 185.49, 0], [10.74, 185.5, 0], [10.74, 185.51, 0], [10.74, 185.52, 0], [10.74, 185.54, 0], [10.74, 185.54, 0], [10.74, 185.57, 0], [10.74, 185.57, 0], [10.75, 185.59, 0], [10.75, 185.61, 0], [10.75, 185.61, 0], [10.75, 185.61, 0], [10.75, 185.61, 0], [10.75, 185.61, 0], [10.75, 185.62, 0], [10.75, 185.65, 0], [10.75, 185.65, 0], [10.75, 185.66, 0], [10.75, 185.66, 0], [10.75, 185.67, 0], [10.75, 185.68, 0], [10.75, 185.69, 0], [10.75, 185.7, 0], [10.76, 185.74, 0], [10.76, 185.74, 0], [10.76, 185.76, 0], [10.76, 185.78, 0], [10.76, 185.82, 0], [10.76, 185.82, 0], [10.76, 185.83, 0], [10.76, 185.85, 0], [10.76, 185.89, 0], [10.76, 185.9, 0], [10.76, 185.98, 0], [10.76, 186.01, 0], [10.76, 186.04, 0], [10.76, 186.04, 0], [10.76, 186.05, 0], [10.76, 186.08, 0], [10.76, 186.08, 0], [10.77, 186.12, 0], [10.77, 186.16, 0], [10.77, 186.18, 0], [10.77, 186.21, 0], [10.77, 186.23, 0], [10.77, 186.23, 0], [10.77, 186.23, 0], [10.77, 186.24, 0], [10.77, 186.27, 0], [10.77, 186.28, 0], [10.77, 186.28, 0], [10.77, 186.3, 0], [10.77, 186.32, 0], [10.77, 186.32, 0], [10.77, 186.33, 0], [10.77, 186.33, 0], [10.77, 186.34, 0], [10.77, 186.35, 0], [10.77, 186.36, 0], [10.77, 186.37, 0], [10.77, 186.37, 0], [10.77, 186.38, 0], [10.78, 186.39, 0], [10.78, 186.4, 0], [10.78, 186.41, 0], [10.78, 186.42, 0], [10.78, 186.42, 0], [10.78, 186.42, 0], [10.78, 186.43, 0], [10.78, 186.43, 0], [10.78, 186.45, 0], [10.78, 186.46, 0], [10.78, 186.47, 0], [10.79, 186.48, 0], [10.79, 186.49, 0], [10.79, 186.5, 0], [10.79, 186.52, 0], [10.79, 186.55, 0], [10.79, 186.55, 0], [10.79, 186.56, 0], [10.79, 186.57, 0], [10.79, 186.57, 0], [10.79, 186.57, 0], [10.79, 186.59, 0], [10.79, 186.59, 0], [10.79, 186.6, 0], [10.79, 186.61, 0], [10.79, 186.64, 0], [10.79, 186.66, 0], [10.79, 186.67, 0], [10.79, 186.67, 0], [10.8, 186.67, 0], [10.8, 186.68, 0], [10.8, 186.69, 0], [10.8, 186.7, 0], [10.8, 186.72, 0], [10.8, 186.73, 0], [10.8, 186.74, 0], [10.8, 186.76, 0], [10.8, 186.77, 0], [10.8, 186.77, 0], [10.8, 186.77, 0], [10.8, 186.78, 0], [10.8, 186.79, 0], [10.81, 186.84, 0], [10.81, 186.85, 0], [10.81, 186.87, 0], [10.81, 186.88, 0], [10.81, 186.91, 0], [10.81, 186.95, 0], [10.81, 186.96, 0], [10.81, 186.97, 0], [10.81, 186.99, 0], [10.81, 186.99, 0], [10.81, 187.01, 0], [10.81, 187.02, 0], [10.81, 187.03, 0], [10.81, 187.05, 0], [10.81, 187.05, 0], [10.81, 187.06, 0], [10.81, 187.07, 0], [10.81, 187.09, 0], [10.81, 187.1, 0], [10.81, 187.11, 0], [10.81, 187.14, 0], [10.81, 187.14, 0], [10.82, 187.14, 0], [10.82, 187.15, 0], [10.82, 187.16, 0], [10.82, 187.16, 0], [10.82, 187.16, 0], [10.82, 187.17, 0], [10.82, 187.18, 0], [10.82, 187.19, 0], [10.82, 187.24, 0], [10.82, 187.26, 0], [10.82, 187.27, 0], [10.82, 187.27, 0], [10.82, 187.3, 0], [10.82, 187.31, 0], [10.82, 187.31, 0], [10.82, 187.32, 0], [10.82, 187.33, 0], [10.83, 187.36, 0], [10.83, 187.36, 0], [10.83, 187.39, 0], [10.83, 187.39, 0], [10.83, 187.4, 0], [10.83, 187.41, 0], [10.83, 187.41, 0], [10.83, 187.42, 0], [10.83, 187.43, 0], [10.83, 187.5, 0], [10.83, 187.55, 0], [10.83, 187.55, 0], [10.83, 187.55, 0], [10.83, 187.56, 0], [10.83, 187.56, 0], [10.84, 187.57, 0], [10.84, 187.57, 0], [10.84, 187.59, 0], [10.84, 187.61, 0], [10.84, 187.62, 0], [10.84, 187.63, 0], [10.84, 187.64, 0], [10.84, 187.64, 0], [10.84, 187.66, 0], [10.84, 187.68, 0], [10.84, 187.69, 0], [10.84, 187.69, 0], [10.84, 187.71, 0], [10.84, 187.72, 0], [10.85, 187.74, 0], [10.85, 187.74, 0], [10.85, 187.76, 0], [10.85, 187.77, 0], [10.85, 187.77, 0], [10.85, 187.78, 0], [10.85, 187.79, 0], [10.85, 187.79, 0], [10.85, 187.81, 0], [10.85, 187.81, 0], [10.85, 187.83, 0], [10.86, 187.84, 0], [10.86, 187.85, 0], [10.86, 187.86, 0], [10.86, 187.86, 0], [10.86, 187.87, 0], [10.86, 187.87, 0], [10.86, 187.89, 0], [10.86, 187.89, 0], [10.86, 187.9, 0], [10.86, 187.9, 0], [10.86, 187.9, 0], [10.86, 187.91, 0], [10.86, 187.92, 0], [10.86, 187.96, 0], [10.86, 187.97, 0], [10.86, 187.98, 0], [10.86, 187.98, 0], [10.86, 187.99, 0], [10.86, 188.0, 0], [10.87, 188.01, 0], [10.87, 188.03, 0], [10.87, 188.03, 0], [10.87, 188.03, 0], [10.87, 188.07, 0], [10.87, 188.07, 0], [10.87, 188.07, 0], [10.87, 188.08, 0], [10.87, 188.11, 0], [10.87, 188.11, 0], [10.87, 188.12, 0], [10.87, 188.13, 0], [10.87, 188.16, 0], [10.88, 188.19, 0], [10.88, 188.2, 0], [10.88, 188.2, 0], [10.88, 188.22, 0], [10.88, 188.22, 0], [10.88, 188.22, 0], [10.88, 188.22, 0], [10.88, 188.23, 0], [10.88, 188.23, 0], [10.88, 188.24, 0], [10.88, 188.25, 0], [10.88, 188.27, 0], [10.88, 188.28, 0], [10.88, 188.3, 0], [10.88, 188.3, 0], [10.88, 188.31, 0], [10.89, 188.32, 0], [10.89, 188.34, 0], [10.89, 188.34, 0], [10.89, 188.38, 0], [10.89, 188.4, 0], [10.89, 188.41, 0], [10.89, 188.41, 0], [10.89, 188.42, 0], [10.89, 188.43, 0], [10.89, 188.44, 0], [10.89, 188.47, 0], [10.89, 188.49, 0], [10.89, 188.51, 0], [10.89, 188.51, 0], [10.89, 188.54, 0], [10.89, 188.55, 0], [10.89, 188.56, 0], [10.89, 188.56, 0], [10.89, 188.57, 0], [10.89, 188.57, 0], [10.89, 188.59, 0], [10.89, 188.6, 0], [10.89, 188.6, 0], [10.89, 188.63, 0], [10.9, 188.64, 0], [10.9, 188.66, 0], [10.9, 188.66, 0], [10.9, 188.66, 0], [10.9, 188.66, 0], [10.9, 188.68, 0], [10.9, 188.68, 0], [10.91, 188.69, 0], [10.91, 188.69, 0], [10.91, 188.7, 0], [10.91, 188.7, 0], [10.91, 188.7, 0], [10.91, 188.73, 0], [10.91, 188.75, 0], [10.91, 188.75, 0], [10.91, 188.78, 0], [10.91, 188.79, 0], [10.91, 188.8, 0], [10.91, 188.81, 0], [10.91, 188.81, 0], [10.91, 188.82, 0], [10.91, 188.82, 0], [10.92, 188.84, 0], [10.92, 188.85, 0], [10.92, 188.85, 0], [10.92, 188.86, 0], [10.92, 188.88, 0], [10.92, 188.89, 0], [10.92, 188.89, 0], [10.92, 188.89, 0], [10.92, 188.9, 0], [10.92, 188.91, 0], [10.92, 188.92, 0], [10.92, 188.92, 0], [10.92, 188.92, 0], [10.92, 188.93, 0], [10.92, 188.94, 0], [10.92, 188.94, 0], [10.92, 188.97, 0], [10.92, 188.97, 0], [10.92, 188.97, 0], [10.92, 188.98, 0], [10.93, 188.98, 0], [10.93, 188.99, 0], [10.93, 189.0, 0], [10.93, 189.02, 0], [10.93, 189.03, 0], [10.93, 189.05, 0], [10.93, 189.05, 0], [10.93, 189.06, 0], [10.93, 189.09, 0], [10.93, 189.12, 0], [10.93, 189.12, 0], [10.93, 189.12, 0], [10.93, 189.13, 0], [10.93, 189.16, 0], [10.94, 189.16, 0], [10.94, 189.17, 0], [10.94, 189.19, 0], [10.94, 189.19, 0], [10.94, 189.2, 0], [10.94, 189.21, 0], [10.94, 189.21, 0], [10.94, 189.22, 0], [10.94, 189.23, 0], [10.94, 189.25, 0], [10.94, 189.25, 0], [10.94, 189.27, 0], [10.94, 189.28, 0], [10.94, 189.29, 0], [10.94, 189.3, 0], [10.95, 189.31, 0], [10.95, 189.32, 0], [10.95, 189.33, 0], [10.95, 189.34, 0], [10.95, 189.34, 0], [10.95, 189.34, 0], [10.95, 189.36, 0], [10.95, 189.38, 0], [10.95, 189.38, 0], [10.95, 189.4, 0], [10.95, 189.42, 0], [10.95, 189.43, 0], [10.95, 189.44, 0], [10.95, 189.44, 0], [10.95, 189.44, 0], [10.95, 189.45, 0], [10.95, 189.46, 0], [10.95, 189.48, 0], [10.95, 189.48, 0], [10.95, 189.49, 0], [10.96, 189.49, 0], [10.96, 189.49, 0], [10.96, 189.5, 0], [10.96, 189.53, 0], [10.96, 189.53, 0], [10.96, 189.53, 0], [10.96, 189.54, 0], [10.96, 189.55, 0], [10.96, 189.56, 0], [10.96, 189.56, 0], [10.96, 189.57, 0], [10.96, 189.57, 0], [10.96, 189.57, 0], [10.96, 189.57, 0], [10.97, 189.58, 0], [10.97, 189.58, 0], [10.97, 189.59, 0], [10.97, 189.59, 0], [10.97, 189.61, 0], [10.97, 189.61, 0], [10.97, 189.62, 0], [10.97, 189.62, 0], [10.97, 189.63, 0], [10.97, 189.63, 0], [10.97, 189.64, 0], [10.97, 189.64, 0], [10.97, 189.65, 0], [10.97, 189.65, 0], [10.97, 189.68, 0], [10.97, 189.69, 0], [10.97, 189.72, 0], [10.97, 189.72, 0], [10.97, 189.73, 0], [10.97, 189.74, 0], [10.97, 189.77, 0], [10.97, 189.78, 0], [10.97, 189.79, 0], [10.98, 189.8, 0], [10.98, 189.83, 0], [10.98, 189.84, 0], [10.98, 189.84, 0], [10.98, 189.84, 0], [10.98, 189.85, 0], [10.98, 189.85, 0], [10.98, 189.87, 0], [10.98, 189.87, 0], [10.98, 189.91, 0], [10.98, 189.91, 0], [10.98, 189.92, 0], [10.98, 189.93, 0], [10.99, 189.95, 0], [10.99, 189.96, 0], [10.99, 189.96, 0], [10.99, 189.96, 0], [10.99, 189.97, 0], [10.99, 189.98, 0], [10.99, 189.98, 0], [10.99, 189.99, 0], [10.99, 190.02, 0], [10.99, 190.02, 0], [10.99, 190.04, 0], [10.99, 190.04, 0], [10.99, 190.05, 0], [10.99, 190.07, 0], [10.99, 190.07, 0], [10.99, 190.08, 0], [11.0, 190.1, 0], [11.0, 190.11, 0], [11.0, 190.11, 0], [11.0, 190.12, 0], [11.0, 190.14, 0], [11.0, 190.16, 0], [11.0, 190.17, 0], [11.0, 190.18, 0], [11.0, 190.19, 0], [11.0, 190.19, 0], [11.0, 190.19, 0], [11.0, 190.2, 0], [11.0, 190.21, 0], [11.0, 190.21, 0], [11.0, 190.24, 0], [11.0, 190.24, 0], [11.0, 190.25, 0], [11.0, 190.28, 0], [11.01, 190.29, 0], [11.01, 190.29, 0], [11.01, 190.29, 0], [11.01, 190.3, 0], [11.01, 190.31, 0], [11.01, 190.32, 0], [11.01, 190.33, 0], [11.01, 190.34, 0], [11.01, 190.34, 0], [11.01, 190.37, 0], [11.01, 190.39, 0], [11.01, 190.42, 0], [11.01, 190.44, 0], [11.01, 190.45, 0], [11.01, 190.45, 0], [11.01, 190.47, 0], [11.01, 190.48, 0], [11.01, 190.48, 0], [11.02, 190.51, 0], [11.02, 190.52, 0], [11.02, 190.52, 0], [11.02, 190.53, 0], [11.02, 190.54, 0], [11.02, 190.54, 0], [11.02, 190.54, 0], [11.02, 190.54, 0], [11.02, 190.54, 0], [11.02, 190.56, 0], [11.02, 190.57, 0], [11.02, 190.6, 0], [11.02, 190.62, 0], [11.02, 190.62, 0], [11.02, 190.63, 0], [11.02, 190.63, 0], [11.02, 190.63, 0], [11.02, 190.64, 0], [11.03, 190.64, 0], [11.03, 190.65, 0], [11.03, 190.67, 0], [11.03, 190.69, 0], [11.03, 190.71, 0], [11.03, 190.72, 0], [11.03, 190.73, 0], [11.03, 190.74, 0], [11.04, 190.74, 0], [11.04, 190.75, 0], [11.04, 190.75, 0], [11.04, 190.75, 0], [11.04, 190.77, 0], [11.04, 190.79, 0], [11.04, 190.79, 0], [11.04, 190.81, 0], [11.04, 190.82, 0], [11.04, 190.83, 0], [11.04, 190.84, 0], [11.05, 190.84, 0], [11.05, 190.87, 0], [11.05, 190.89, 0], [11.05, 190.9, 0], [11.05, 190.91, 0], [11.05, 190.93, 0], [11.05, 190.95, 0], [11.05, 190.95, 0], [11.05, 190.96, 0], [11.05, 190.96, 0], [11.05, 190.97, 0], [11.05, 190.98, 0], [11.05, 190.98, 0], [11.05, 190.98, 0], [11.05, 191.0, 0], [11.05, 191.0, 0], [11.05, 191.0, 0], [11.05, 191.02, 0], [11.06, 191.02, 0], [11.06, 191.05, 0], [11.06, 191.08, 0], [11.06, 191.08, 0], [11.06, 191.1, 0], [11.06, 191.1, 0], [11.06, 191.12, 0], [11.06, 191.13, 0], [11.06, 191.13, 0], [11.06, 191.14, 0], [11.06, 191.16, 0], [11.06, 191.18, 0], [11.07, 191.18, 0], [11.07, 191.18, 0], [11.07, 191.2, 0], [11.07, 191.2, 0], [11.07, 191.21, 0], [11.07, 191.23, 0], [11.07, 191.23, 0], [11.07, 191.24, 0], [11.07, 191.27, 0], [11.07, 191.27, 0], [11.07, 191.29, 0], [11.07, 191.3, 0], [11.07, 191.3, 0], [11.07, 191.31, 0], [11.07, 191.32, 0], [11.07, 191.35, 0], [11.07, 191.37, 0], [11.07, 191.38, 0], [11.08, 191.42, 0], [11.08, 191.45, 0], [11.08, 191.46, 0], [11.08, 191.47, 0], [11.08, 191.48, 0], [11.08, 191.49, 0], [11.08, 191.49, 0], [11.08, 191.5, 0], [11.08, 191.51, 0], [11.08, 191.51, 0], [11.08, 191.51, 0], [11.08, 191.52, 0], [11.08, 191.53, 0], [11.08, 191.53, 0], [11.08, 191.57, 0], [11.08, 191.6, 0], [11.08, 191.6, 0], [11.08, 191.6, 0], [11.08, 191.61, 0], [11.09, 191.62, 0], [11.09, 191.62, 0], [11.09, 191.63, 0], [11.09, 191.63, 0], [11.09, 191.63, 0], [11.09, 191.64, 0], [11.09, 191.65, 0], [11.09, 191.69, 0], [11.09, 191.7, 0], [11.09, 191.71, 0], [11.09, 191.71, 0], [11.09, 191.71, 0], [11.09, 191.71, 0], [11.09, 191.72, 0], [11.09, 191.73, 0], [11.09, 191.73, 0], [11.09, 191.74, 0], [11.09, 191.74, 0], [11.1, 191.75, 0], [11.1, 191.76, 0], [11.1, 191.77, 0], [11.1, 191.78, 0], [11.1, 191.79, 0], [11.1, 191.79, 0], [11.1, 191.8, 0], [11.1, 191.81, 0], [11.1, 191.81, 0], [11.1, 191.83, 0], [11.1, 191.84, 0], [11.1, 191.85, 0], [11.1, 191.85, 0], [11.1, 191.86, 0], [11.1, 191.86, 0], [11.1, 191.89, 0], [11.11, 191.89, 0], [11.11, 191.9, 0], [11.11, 191.93, 0], [11.11, 191.93, 0], [11.11, 191.93, 0], [11.11, 191.94, 0], [11.11, 191.95, 0], [11.11, 191.95, 0], [11.11, 191.96, 0], [11.11, 191.97, 0], [11.11, 191.97, 0], [11.11, 191.98, 0], [11.11, 192.02, 0], [11.11, 192.02, 0], [11.11, 192.03, 0], [11.11, 192.04, 0], [11.11, 192.05, 0], [11.11, 192.07, 0], [11.11, 192.07, 0], [11.11, 192.09, 0], [11.11, 192.1, 0], [11.12, 192.13, 0], [11.12, 192.13, 0], [11.12, 192.15, 0], [11.12, 192.17, 0], [11.12, 192.18, 0], [11.12, 192.2, 0], [11.12, 192.2, 0], [11.12, 192.21, 0], [11.12, 192.21, 0], [11.12, 192.22, 0], [11.12, 192.22, 0], [11.12, 192.24, 0], [11.12, 192.24, 0], [11.13, 192.24, 0], [11.13, 192.27, 0], [11.13, 192.27, 0], [11.13, 192.28, 0], [11.13, 192.28, 0], [11.13, 192.34, 0], [11.13, 192.36, 0], [11.13, 192.37, 0], [11.13, 192.38, 0], [11.13, 192.39, 0], [11.13, 192.39, 0], [11.13, 192.4, 0], [11.13, 192.41, 0], [11.13, 192.41, 0], [11.14, 192.41, 0], [11.14, 192.42, 0], [11.14, 192.42, 0], [11.14, 192.43, 0], [11.14, 192.46, 0], [11.14, 192.46, 0], [11.14, 192.47, 0], [11.14, 192.48, 0], [11.14, 192.49, 0], [11.14, 192.49, 0], [11.14, 192.51, 0], [11.14, 192.52, 0], [11.14, 192.52, 0], [11.14, 192.52, 0], [11.14, 192.53, 0], [11.14, 192.54, 0], [11.14, 192.54, 0], [11.15, 192.55, 0], [11.15, 192.56, 0], [11.15, 192.58, 0], [11.15, 192.58, 0], [11.15, 192.58, 0], [11.15, 192.59, 0], [11.15, 192.59, 0], [11.15, 192.59, 0], [11.15, 192.6, 0], [11.15, 192.6, 0], [11.15, 192.61, 0], [11.15, 192.62, 0], [11.15, 192.62, 0], [11.15, 192.63, 0], [11.15, 192.63, 0], [11.15, 192.63, 0], [11.16, 192.64, 0], [11.16, 192.65, 0], [11.16, 192.65, 0], [11.16, 192.66, 0], [11.16, 192.68, 0], [11.16, 192.7, 0], [11.16, 192.7, 0], [11.16, 192.71, 0], [11.16, 192.72, 0], [11.16, 192.75, 0], [11.17, 192.75, 0], [11.17, 192.77, 0], [11.17, 192.78, 0], [11.17, 192.83, 0], [11.17, 192.84, 0], [11.17, 192.84, 0], [11.17, 192.85, 0], [11.17, 192.85, 0], [11.17, 192.87, 0], [11.17, 192.87, 0], [11.17, 192.88, 0], [11.17, 192.88, 0], [11.17, 192.92, 0], [11.17, 192.93, 0], [11.17, 192.95, 0], [11.17, 192.95, 0], [11.17, 192.95, 0], [11.18, 192.95, 0], [11.18, 192.95, 0], [11.18, 192.97, 0], [11.18, 192.97, 0], [11.18, 192.97, 0], [11.18, 192.98, 0], [11.18, 192.99, 0], [11.18, 193.01, 0], [11.18, 193.02, 0], [11.18, 193.03, 0], [11.18, 193.03, 0], [11.18, 193.06, 0], [11.18, 193.06, 0], [11.18, 193.06, 0], [11.18, 193.08, 0], [11.18, 193.08, 0], [11.18, 193.09, 0], [11.18, 193.09, 0], [11.18, 193.11, 0], [11.18, 193.12, 0], [11.19, 193.13, 0], [11.19, 193.13, 0], [11.19, 193.13, 0], [11.19, 193.15, 0], [11.19, 193.15, 0], [11.19, 193.17, 0], [11.19, 193.18, 0], [11.19, 193.22, 0], [11.19, 193.22, 0], [11.19, 193.22, 0], [11.19, 193.22, 0], [11.19, 193.22, 0], [11.19, 193.24, 0], [11.19, 193.25, 0], [11.19, 193.26, 0], [11.19, 193.28, 0], [11.19, 193.29, 0], [11.19, 193.29, 0], [11.19, 193.31, 0], [11.2, 193.31, 0], [11.2, 193.32, 0], [11.2, 193.33, 0], [11.2, 193.34, 0], [11.2, 193.39, 0], [11.2, 193.39, 0], [11.2, 193.41, 0], [11.2, 193.42, 0], [11.2, 193.42, 0], [11.2, 193.45, 0], [11.2, 193.49, 0], [11.2, 193.49, 0], [11.2, 193.5, 0], [11.2, 193.54, 0], [11.2, 193.55, 0], [11.21, 193.57, 0], [11.21, 193.58, 0], [11.21, 193.58, 0], [11.21, 193.6, 0], [11.21, 193.61, 0], [11.21, 193.62, 0], [11.21, 193.63, 0], [11.21, 193.63, 0], [11.21, 193.64, 0], [11.21, 193.64, 0], [11.21, 193.67, 0], [11.21, 193.67, 0], [11.22, 193.67, 0], [11.22, 193.7, 0], [11.22, 193.71, 0], [11.22, 193.73, 0], [11.22, 193.74, 0], [11.22, 193.74, 0], [11.22, 193.74, 0], [11.22, 193.76, 0], [11.22, 193.76, 0], [11.22, 193.78, 0], [11.22, 193.81, 0], [11.22, 193.81, 0], [11.22, 193.83, 0], [11.22, 193.84, 0], [11.22, 193.84, 0], [11.22, 193.85, 0], [11.22, 193.87, 0], [11.22, 193.89, 0], [11.22, 193.89, 0], [11.22, 193.89, 0], [11.22, 193.9, 0], [11.22, 193.91, 0], [11.23, 193.93, 0], [11.23, 193.96, 0], [11.23, 193.98, 0], [11.23, 194.02, 0], [11.23, 194.02, 0], [11.23, 194.07, 0], [11.23, 194.08, 0], [11.23, 194.11, 0], [11.23, 194.14, 0], [11.23, 194.14, 0], [11.23, 194.15, 0], [11.23, 194.16, 0], [11.23, 194.17, 0], [11.24, 194.17, 0], [11.24, 194.18, 0], [11.24, 194.19, 0], [11.24, 194.21, 0], [11.24, 194.21, 0], [11.24, 194.21, 0], [11.24, 194.23, 0], [11.24, 194.23, 0], [11.24, 194.24, 0], [11.24, 194.24, 0], [11.24, 194.26, 0], [11.24, 194.27, 0], [11.24, 194.3, 0], [11.24, 194.31, 0], [11.24, 194.31, 0], [11.24, 194.32, 0], [11.24, 194.32, 0], [11.24, 194.32, 0], [11.24, 194.32, 0], [11.24, 194.32, 0], [11.24, 194.34, 0], [11.24, 194.34, 0], [11.25, 194.36, 0], [11.25, 194.38, 0], [11.25, 194.39, 0], [11.25, 194.4, 0], [11.25, 194.41, 0], [11.25, 194.41, 0], [11.25, 194.41, 0], [11.25, 194.42, 0], [11.25, 194.43, 0], [11.25, 194.43, 0], [11.25, 194.44, 0], [11.25, 194.45, 0], [11.25, 194.45, 0], [11.25, 194.46, 0], [11.25, 194.46, 0], [11.25, 194.48, 0], [11.25, 194.48, 0], [11.25, 194.49, 0], [11.25, 194.49, 0], [11.25, 194.5, 0], [11.25, 194.52, 0], [11.25, 194.53, 0], [11.25, 194.54, 0], [11.25, 194.54, 0], [11.26, 194.56, 0], [11.26, 194.56, 0], [11.26, 194.56, 0], [11.26, 194.57, 0], [11.26, 194.57, 0], [11.26, 194.57, 0], [11.26, 194.57, 0], [11.26, 194.58, 0], [11.26, 194.59, 0], [11.26, 194.63, 0], [11.26, 194.63, 0], [11.26, 194.63, 0], [11.26, 194.63, 0], [11.26, 194.64, 0], [11.26, 194.65, 0], [11.26, 194.65, 0], [11.27, 194.65, 0], [11.27, 194.65, 0], [11.27, 194.66, 0], [11.27, 194.66, 0], [11.27, 194.66, 0], [11.27, 194.66, 0], [11.27, 194.67, 0], [11.27, 194.69, 0], [11.27, 194.7, 0], [11.27, 194.7, 0], [11.27, 194.71, 0], [11.27, 194.71, 0], [11.27, 194.72, 0], [11.27, 194.75, 0], [11.27, 194.76, 0], [11.27, 194.77, 0], [11.27, 194.77, 0], [11.27, 194.77, 0], [11.27, 194.81, 0], [11.28, 194.81, 0], [11.28, 194.82, 0], [11.28, 194.82, 0], [11.28, 194.83, 0], [11.28, 194.83, 0], [11.28, 194.83, 0], [11.28, 194.83, 0], [11.28, 194.85, 0], [11.28, 194.86, 0], [11.28, 194.86, 0], [11.28, 194.87, 0], [11.28, 194.88, 0], [11.28, 194.89, 0], [11.29, 194.91, 0], [11.29, 194.92, 0], [11.29, 194.93, 0], [11.29, 194.94, 0], [11.29, 194.97, 0], [11.29, 194.98, 0], [11.29, 194.98, 0], [11.29, 194.98, 0], [11.29, 194.99, 0], [11.29, 195.01, 0], [11.29, 195.03, 0], [11.29, 195.03, 0], [11.29, 195.03, 0], [11.29, 195.04, 0], [11.29, 195.04, 0], [11.3, 195.04, 0], [11.3, 195.05, 0], [11.3, 195.05, 0], [11.3, 195.05, 0], [11.3, 195.07, 0], [11.3, 195.07, 0], [11.3, 195.09, 0], [11.3, 195.1, 0], [11.3, 195.1, 0], [11.3, 195.13, 0], [11.3, 195.13, 0], [11.3, 195.13, 0], [11.3, 195.14, 0], [11.3, 195.14, 0], [11.3, 195.14, 0], [11.3, 195.16, 0], [11.3, 195.17, 0], [11.3, 195.19, 0], [11.3, 195.19, 0], [11.31, 195.23, 0], [11.31, 195.23, 0], [11.31, 195.23, 0], [11.31, 195.24, 0], [11.31, 195.28, 0], [11.31, 195.28, 0], [11.31, 195.3, 0], [11.31, 195.34, 0], [11.31, 195.34, 0], [11.31, 195.35, 0], [11.31, 195.37, 0], [11.31, 195.38, 0], [11.31, 195.4, 0], [11.31, 195.4, 0], [11.31, 195.42, 0], [11.31, 195.42, 0], [11.31, 195.42, 0], [11.31, 195.44, 0], [11.31, 195.45, 0], [11.31, 195.48, 0], [11.31, 195.48, 0], [11.31, 195.49, 0], [11.31, 195.54, 0], [11.32, 195.55, 0], [11.32, 195.55, 0], [11.32, 195.56, 0], [11.32, 195.57, 0], [11.32, 195.57, 0], [11.32, 195.58, 0], [11.32, 195.59, 0], [11.32, 195.6, 0], [11.32, 195.6, 0], [11.32, 195.62, 0], [11.32, 195.62, 0], [11.32, 195.64, 0], [11.32, 195.65, 0], [11.32, 195.65, 0], [11.32, 195.66, 0], [11.33, 195.66, 0], [11.33, 195.67, 0], [11.33, 195.67, 0], [11.33, 195.68, 0], [11.33, 195.68, 0], [11.33, 195.68, 0], [11.33, 195.68, 0], [11.33, 195.68, 0], [11.34, 195.69, 0], [11.34, 195.71, 0], [11.34, 195.72, 0], [11.34, 195.73, 0], [11.34, 195.75, 0], [11.34, 195.81, 0], [11.34, 195.82, 0], [11.34, 195.82, 0], [11.34, 195.84, 0], [11.34, 195.85, 0], [11.34, 195.86, 0], [11.34, 195.87, 0], [11.34, 195.89, 0], [11.34, 195.89, 0], [11.34, 195.92, 0], [11.34, 195.93, 0], [11.34, 195.95, 0], [11.35, 195.96, 0], [11.35, 195.99, 0], [11.35, 196.01, 0], [11.35, 196.01, 0], [11.35, 196.04, 0], [11.35, 196.05, 0], [11.35, 196.07, 0], [11.35, 196.08, 0], [11.35, 196.08, 0], [11.35, 196.08, 0], [11.35, 196.09, 0], [11.35, 196.09, 0], [11.35, 196.09, 0], [11.35, 196.1, 0], [11.35, 196.11, 0], [11.36, 196.12, 0], [11.36, 196.13, 0], [11.36, 196.14, 0], [11.36, 196.16, 0], [11.36, 196.17, 0], [11.36, 196.17, 0], [11.36, 196.17, 0], [11.36, 196.18, 0], [11.36, 196.18, 0], [11.36, 196.2, 0], [11.36, 196.23, 0], [11.36, 196.26, 0], [11.36, 196.26, 0], [11.36, 196.27, 0], [11.36, 196.28, 0], [11.36, 196.29, 0], [11.37, 196.29, 0], [11.37, 196.29, 0], [11.37, 196.29, 0], [11.37, 196.29, 0], [11.37, 196.3, 0], [11.37, 196.31, 0], [11.37, 196.32, 0], [11.37, 196.33, 0], [11.37, 196.34, 0], [11.37, 196.35, 0], [11.37, 196.36, 0], [11.37, 196.36, 0], [11.37, 196.37, 0], [11.37, 196.37, 0], [11.37, 196.38, 0], [11.37, 196.38, 0], [11.37, 196.39, 0], [11.37, 196.4, 0], [11.37, 196.41, 0], [11.37, 196.41, 0], [11.37, 196.42, 0], [11.37, 196.43, 0], [11.38, 196.45, 0], [11.38, 196.46, 0], [11.38, 196.46, 0], [11.38, 196.48, 0], [11.38, 196.48, 0], [11.38, 196.49, 0], [11.38, 196.49, 0], [11.38, 196.51, 0], [11.38, 196.52, 0], [11.38, 196.52, 0], [11.38, 196.52, 0], [11.38, 196.53, 0], [11.38, 196.54, 0], [11.38, 196.55, 0], [11.38, 196.55, 0], [11.38, 196.55, 0], [11.38, 196.56, 0], [11.38, 196.56, 0], [11.38, 196.56, 0], [11.38, 196.59, 0], [11.38, 196.6, 0], [11.38, 196.6, 0], [11.39, 196.63, 0], [11.39, 196.64, 0], [11.39, 196.66, 0], [11.39, 196.67, 0], [11.39, 196.67, 0], [11.39, 196.67, 0], [11.39, 196.69, 0], [11.39, 196.7, 0], [11.39, 196.7, 0], [11.39, 196.7, 0], [11.39, 196.7, 0], [11.4, 196.7, 0], [11.4, 196.71, 0], [11.4, 196.72, 0], [11.4, 196.72, 0], [11.4, 196.72, 0], [11.4, 196.72, 0], [11.4, 196.75, 0], [11.41, 196.76, 0], [11.41, 196.77, 0], [11.41, 196.78, 0], [11.41, 196.78, 0], [11.41, 196.8, 0], [11.41, 196.81, 0], [11.41, 196.81, 0], [11.41, 196.81, 0], [11.41, 196.82, 0], [11.41, 196.83, 0], [11.41, 196.83, 0], [11.41, 196.85, 0], [11.41, 196.86, 0], [11.42, 196.89, 0], [11.42, 196.92, 0], [11.42, 196.96, 0], [11.42, 196.96, 0], [11.42, 196.96, 0], [11.42, 196.97, 0], [11.42, 196.97, 0], [11.42, 196.97, 0], [11.42, 196.97, 0], [11.42, 196.98, 0], [11.42, 196.99, 0], [11.42, 196.99, 0], [11.42, 197.0, 0], [11.42, 197.02, 0], [11.42, 197.05, 0], [11.43, 197.05, 0], [11.43, 197.06, 0], [11.43, 197.06, 0], [11.43, 197.09, 0], [11.43, 197.1, 0], [11.43, 197.11, 0], [11.43, 197.11, 0], [11.43, 197.11, 0], [11.43, 197.12, 0], [11.43, 197.13, 0], [11.43, 197.13, 0], [11.44, 197.14, 0], [11.44, 197.14, 0], [11.44, 197.14, 0], [11.44, 197.16, 0], [11.44, 197.17, 0], [11.44, 197.18, 0], [11.44, 197.18, 0], [11.44, 197.2, 0], [11.44, 197.21, 0], [11.44, 197.22, 0], [11.44, 197.23, 0], [11.44, 197.25, 0], [11.44, 197.26, 0], [11.44, 197.26, 0], [11.44, 197.26, 0], [11.44, 197.28, 0], [11.44, 197.28, 0], [11.44, 197.29, 0], [11.44, 197.29, 0], [11.44, 197.31, 0], [11.45, 197.34, 0], [11.45, 197.37, 0], [11.45, 197.38, 0], [11.45, 197.4, 0], [11.45, 197.4, 0], [11.45, 197.41, 0], [11.45, 197.42, 0], [11.45, 197.43, 0], [11.45, 197.43, 0], [11.45, 197.46, 0], [11.45, 197.47, 0], [11.45, 197.48, 0], [11.45, 197.48, 0], [11.45, 197.49, 0], [11.45, 197.5, 0], [11.45, 197.5, 0], [11.45, 197.51, 0], [11.45, 197.52, 0], [11.45, 197.52, 0], [11.46, 197.55, 0], [11.46, 197.57, 0], [11.46, 197.57, 0], [11.46, 197.59, 0], [11.46, 197.61, 0], [11.46, 197.62, 0], [11.46, 197.66, 0], [11.46, 197.66, 0], [11.46, 197.67, 0], [11.46, 197.67, 0], [11.46, 197.67, 0], [11.46, 197.68, 0], [11.46, 197.69, 0], [11.46, 197.69, 0], [11.46, 197.7, 0], [11.46, 197.7, 0], [11.47, 197.71, 0], [11.47, 197.71, 0], [11.47, 197.72, 0], [11.47, 197.72, 0], [11.47, 197.73, 0], [11.47, 197.74, 0], [11.47, 197.77, 0], [11.47, 197.78, 0], [11.47, 197.78, 0], [11.47, 197.79, 0], [11.47, 197.81, 0], [11.47, 197.81, 0], [11.47, 197.82, 0], [11.47, 197.82, 0], [11.48, 197.84, 0], [11.48, 197.84, 0], [11.48, 197.88, 0], [11.48, 197.89, 0], [11.48, 197.89, 0], [11.48, 197.9, 0], [11.48, 197.91, 0], [11.48, 197.91, 0], [11.48, 197.92, 0], [11.48, 197.92, 0], [11.48, 197.95, 0], [11.48, 197.95, 0], [11.48, 197.96, 0], [11.48, 197.97, 0], [11.48, 197.98, 0], [11.48, 197.98, 0], [11.48, 197.98, 0], [11.48, 197.99, 0], [11.48, 197.99, 0], [11.48, 198.0, 0], [11.49, 198.0, 0], [11.49, 198.02, 0], [11.49, 198.02, 0], [11.49, 198.02, 0], [11.49, 198.02, 0], [11.49, 198.03, 0], [11.49, 198.05, 0], [11.49, 198.05, 0], [11.49, 198.08, 0], [11.5, 198.09, 0], [11.5, 198.09, 0], [11.5, 198.13, 0], [11.5, 198.14, 0], [11.5, 198.16, 0], [11.5, 198.16, 0], [11.5, 198.19, 0], [11.5, 198.19, 0], [11.5, 198.19, 0], [11.5, 198.2, 0], [11.5, 198.2, 0], [11.5, 198.2, 0], [11.5, 198.2, 0], [11.5, 198.2, 0], [11.5, 198.22, 0], [11.5, 198.24, 0], [11.5, 198.24, 0], [11.5, 198.25, 0], [11.5, 198.26, 0], [11.5, 198.26, 0], [11.5, 198.27, 0], [11.5, 198.28, 0], [11.5, 198.3, 0], [11.51, 198.31, 0], [11.51, 198.31, 0], [11.51, 198.32, 0], [11.51, 198.33, 0], [11.51, 198.34, 0], [11.51, 198.37, 0], [11.51, 198.38, 0], [11.51, 198.39, 0], [11.51, 198.39, 0], [11.51, 198.39, 0], [11.51, 198.42, 0], [11.51, 198.42, 0], [11.51, 198.43, 0], [11.51, 198.46, 0], [11.51, 198.47, 0], [11.51, 198.48, 0], [11.51, 198.49, 0], [11.51, 198.49, 0], [11.51, 198.51, 0], [11.51, 198.53, 0], [11.51, 198.53, 0], [11.51, 198.53, 0], [11.52, 198.54, 0], [11.52, 198.54, 0], [11.52, 198.55, 0], [11.52, 198.56, 0], [11.52, 198.57, 0], [11.52, 198.59, 0], [11.53, 198.6, 0], [11.53, 198.61, 0], [11.53, 198.61, 0], [11.53, 198.62, 0], [11.53, 198.63, 0], [11.53, 198.63, 0], [11.53, 198.63, 0], [11.53, 198.65, 0], [11.53, 198.65, 0], [11.53, 198.66, 0], [11.53, 198.67, 0], [11.53, 198.67, 0], [11.53, 198.69, 0], [11.53, 198.74, 0], [11.53, 198.75, 0], [11.54, 198.79, 0], [11.54, 198.79, 0], [11.54, 198.8, 0], [11.54, 198.81, 0], [11.54, 198.82, 0], [11.54, 198.84, 0], [11.54, 198.84, 0], [11.54, 198.84, 0], [11.54, 198.84, 0], [11.54, 198.84, 0], [11.54, 198.84, 0], [11.54, 198.85, 0], [11.54, 198.85, 0], [11.54, 198.86, 0], [11.54, 198.86, 0], [11.54, 198.86, 0], [11.55, 198.87, 0], [11.55, 198.89, 0], [11.55, 198.92, 0], [11.55, 198.93, 0], [11.55, 198.93, 0], [11.55, 198.96, 0], [11.55, 198.97, 0], [11.55, 198.97, 0], [11.55, 198.97, 0], [11.55, 198.98, 0], [11.55, 198.98, 0], [11.55, 198.98, 0], [11.55, 198.99, 0], [11.55, 199.0, 0], [11.55, 199.0, 0], [11.55, 199.02, 0], [11.55, 199.04, 0], [11.55, 199.04, 0], [11.56, 199.05, 0], [11.56, 199.09, 0], [11.56, 199.12, 0], [11.56, 199.13, 0], [11.56, 199.14, 0], [11.56, 199.15, 0], [11.56, 199.18, 0], [11.56, 199.22, 0], [11.56, 199.22, 0], [11.56, 199.23, 0], [11.56, 199.23, 0], [11.57, 199.23, 0], [11.57, 199.23, 0], [11.57, 199.24, 0], [11.57, 199.24, 0], [11.57, 199.25, 0], [11.57, 199.27, 0], [11.57, 199.27, 0], [11.57, 199.29, 0], [11.58, 199.29, 0], [11.58, 199.29, 0], [11.58, 199.32, 0], [11.58, 199.32, 0], [11.58, 199.33, 0], [11.58, 199.33, 0], [11.58, 199.33, 0], [11.58, 199.34, 0], [11.58, 199.35, 0], [11.58, 199.37, 0], [11.58, 199.37, 0], [11.58, 199.38, 0], [11.58, 199.4, 0], [11.59, 199.4, 0], [11.59, 199.41, 0], [11.59, 199.42, 0], [11.59, 199.43, 0], [11.59, 199.45, 0], [11.59, 199.45, 0], [11.59, 199.45, 0], [11.59, 199.46, 0], [11.59, 199.47, 0], [11.59, 199.49, 0], [11.59, 199.53, 0], [11.59, 199.55, 0], [11.59, 199.55, 0], [11.59, 199.55, 0], [11.59, 199.56, 0], [11.59, 199.59, 0], [11.6, 199.59, 0], [11.6, 199.59, 0], [11.6, 199.62, 0], [11.6, 199.64, 0], [11.6, 199.67, 0], [11.6, 199.67, 0], [11.6, 199.69, 0], [11.6, 199.69, 0], [11.6, 199.71, 0], [11.6, 199.71, 0], [11.6, 199.71, 0], [11.6, 199.71, 0], [11.6, 199.72, 0], [11.6, 199.72, 0], [11.6, 199.74, 0], [11.6, 199.74, 0], [11.6, 199.75, 0], [11.6, 199.76, 0], [11.61, 199.78, 0], [11.61, 199.78, 0], [11.61, 199.78, 0], [11.61, 199.78, 0], [11.61, 199.79, 0], [11.61, 199.8, 0], [11.61, 199.8, 0], [11.61, 199.82, 0], [11.61, 199.83, 0], [11.62, 199.83, 0], [11.62, 199.83, 0], [11.62, 199.84, 0], [11.62, 199.85, 0], [11.62, 199.85, 0], [11.62, 199.85, 0], [11.62, 199.86, 0], [11.62, 199.88, 0], [11.62, 199.89, 0], [11.62, 199.89, 0], [11.62, 199.9, 0], [11.62, 199.91, 0], [11.62, 199.91, 0], [11.63, 199.94, 0], [11.63, 199.95, 0], [11.63, 199.95, 0], [11.63, 199.96, 0], [11.63, 199.97, 0], [11.63, 199.99, 0], [11.63, 200.0, 0], [11.63, 200.0, 0], [11.63, 200.01, 0], [11.63, 200.01, 0], [11.63, 200.02, 0], [11.63, 200.03, 0], [11.63, 200.05, 0], [11.63, 200.06, 0], [11.63, 200.08, 0], [11.63, 200.1, 0], [11.63, 200.11, 0], [11.63, 200.11, 0], [11.64, 200.12, 0], [11.64, 200.13, 0], [11.64, 200.15, 0], [11.64, 200.15, 0], [11.64, 200.15, 0], [11.64, 200.16, 0], [11.64, 200.17, 0], [11.64, 200.17, 0], [11.64, 200.17, 0], [11.64, 200.2, 0], [11.64, 200.22, 0], [11.64, 200.22, 0], [11.64, 200.23, 0], [11.64, 200.26, 0], [11.64, 200.27, 0], [11.64, 200.27, 0], [11.64, 200.28, 0], [11.65, 200.3, 0], [11.65, 200.3, 0], [11.65, 200.3, 0], [11.65, 200.3, 0], [11.65, 200.31, 0], [11.65, 200.31, 0], [11.65, 200.31, 0], [11.65, 200.33, 0], [11.65, 200.33, 0], [11.65, 200.35, 0], [11.65, 200.35, 0], [11.65, 200.35, 0], [11.65, 200.38, 0], [11.65, 200.39, 0], [11.65, 200.4, 0], [11.65, 200.43, 0], [11.65, 200.43, 0], [11.65, 200.46, 0], [11.66, 200.47, 0], [11.66, 200.48, 0], [11.66, 200.49, 0], [11.66, 200.5, 0], [11.66, 200.5, 0], [11.66, 200.51, 0], [11.66, 200.52, 0], [11.66, 200.52, 0], [11.66, 200.53, 0], [11.66, 200.53, 0], [11.66, 200.54, 0], [11.66, 200.55, 0], [11.66, 200.55, 0], [11.66, 200.56, 0], [11.66, 200.58, 0], [11.66, 200.6, 0], [11.67, 200.6, 0], [11.67, 200.61, 0], [11.67, 200.62, 0], [11.67, 200.62, 0], [11.67, 200.63, 0], [11.67, 200.64, 0], [11.67, 200.68, 0], [11.67, 200.68, 0], [11.67, 200.69, 0], [11.67, 200.69, 0], [11.67, 200.71, 0], [11.67, 200.72, 0], [11.67, 200.74, 0], [11.67, 200.75, 0], [11.67, 200.75, 0], [11.67, 200.75, 0], [11.67, 200.78, 0], [11.67, 200.79, 0], [11.67, 200.8, 0], [11.67, 200.81, 0], [11.67, 200.81, 0], [11.67, 200.82, 0], [11.67, 200.83, 0], [11.67, 200.83, 0], [11.67, 200.84, 0], [11.67, 200.86, 0], [11.68, 200.88, 0], [11.68, 200.89, 0], [11.68, 200.9, 0], [11.68, 200.91, 0], [11.68, 200.92, 0], [11.68, 200.93, 0], [11.68, 200.93, 0], [11.68, 200.95, 0], [11.68, 200.96, 0], [11.68, 200.96, 0], [11.68, 200.96, 0], [11.68, 200.98, 0], [11.68, 200.99, 0], [11.68, 201.0, 0], [11.68, 201.02, 0], [11.68, 201.04, 0], [11.68, 201.07, 0], [11.68, 201.09, 0], [11.69, 201.11, 0], [11.69, 201.12, 0], [11.69, 201.13, 0], [11.69, 201.13, 0], [11.69, 201.14, 0], [11.69, 201.15, 0], [11.69, 201.15, 0], [11.69, 201.17, 0], [11.69, 201.17, 0], [11.69, 201.18, 0], [11.69, 201.18, 0], [11.69, 201.18, 0], [11.69, 201.19, 0], [11.69, 201.19, 0], [11.7, 201.24, 0], [11.7, 201.25, 0], [11.7, 201.25, 0], [11.7, 201.27, 0], [11.7, 201.27, 0], [11.7, 201.27, 0], [11.7, 201.28, 0], [11.7, 201.36, 0], [11.7, 201.37, 0], [11.7, 201.39, 0], [11.7, 201.41, 0], [11.7, 201.41, 0], [11.7, 201.41, 0], [11.7, 201.41, 0], [11.7, 201.42, 0], [11.7, 201.43, 0], [11.7, 201.43, 0], [11.7, 201.44, 0], [11.71, 201.44, 0], [11.71, 201.45, 0], [11.71, 201.45, 0], [11.71, 201.46, 0], [11.71, 201.51, 0], [11.71, 201.52, 0], [11.71, 201.52, 0], [11.71, 201.53, 0], [11.71, 201.53, 0], [11.71, 201.53, 0], [11.71, 201.54, 0], [11.71, 201.54, 0], [11.71, 201.55, 0], [11.71, 201.57, 0], [11.71, 201.57, 0], [11.72, 201.6, 0], [11.72, 201.62, 0], [11.72, 201.64, 0], [11.72, 201.66, 0], [11.72, 201.69, 0], [11.72, 201.7, 0], [11.72, 201.7, 0], [11.72, 201.71, 0], [11.72, 201.74, 0], [11.72, 201.76, 0], [11.72, 201.77, 0], [11.72, 201.77, 0], [11.73, 201.78, 0], [11.73, 201.78, 0], [11.73, 201.79, 0], [11.73, 201.8, 0], [11.73, 201.82, 0], [11.73, 201.85, 0], [11.73, 201.86, 0], [11.73, 201.87, 0], [11.73, 201.87, 0], [11.73, 201.9, 0], [11.73, 201.94, 0], [11.74, 201.95, 0], [11.74, 201.95, 0], [11.74, 201.96, 0], [11.74, 201.98, 0], [11.74, 201.98, 0], [11.74, 201.98, 0], [11.74, 201.99, 0], [11.74, 202.0, 0], [11.74, 202.02, 0], [11.74, 202.02, 0], [11.74, 202.06, 0], [11.74, 202.09, 0], [11.74, 202.1, 0], [11.74, 202.11, 0], [11.74, 202.11, 0], [11.75, 202.13, 0], [11.75, 202.13, 0], [11.75, 202.16, 0], [11.75, 202.17, 0], [11.75, 202.17, 0], [11.75, 202.18, 0], [11.75, 202.2, 0], [11.75, 202.22, 0], [11.75, 202.24, 0], [11.75, 202.25, 0], [11.75, 202.25, 0], [11.75, 202.25, 0], [11.75, 202.26, 0], [11.75, 202.26, 0], [11.75, 202.27, 0], [11.75, 202.28, 0], [11.76, 202.29, 0], [11.76, 202.29, 0], [11.76, 202.3, 0], [11.76, 202.31, 0], [11.76, 202.32, 0], [11.76, 202.32, 0], [11.76, 202.34, 0], [11.76, 202.35, 0], [11.76, 202.37, 0], [11.76, 202.37, 0], [11.76, 202.37, 0], [11.76, 202.4, 0], [11.76, 202.42, 0], [11.76, 202.43, 0], [11.76, 202.43, 0], [11.76, 202.43, 0], [11.76, 202.44, 0], [11.77, 202.45, 0], [11.77, 202.45, 0], [11.77, 202.46, 0], [11.77, 202.47, 0], [11.77, 202.47, 0], [11.77, 202.49, 0], [11.77, 202.49, 0], [11.77, 202.51, 0], [11.77, 202.53, 0], [11.77, 202.53, 0], [11.77, 202.54, 0], [11.77, 202.55, 0], [11.77, 202.56, 0], [11.77, 202.57, 0], [11.77, 202.57, 0], [11.77, 202.57, 0], [11.78, 202.61, 0], [11.78, 202.62, 0], [11.78, 202.63, 0], [11.78, 202.65, 0], [11.78, 202.66, 0], [11.78, 202.68, 0], [11.78, 202.68, 0], [11.78, 202.69, 0], [11.78, 202.69, 0], [11.78, 202.7, 0], [11.78, 202.72, 0], [11.78, 202.74, 0], [11.78, 202.75, 0], [11.78, 202.75, 0], [11.78, 202.76, 0], [11.79, 202.77, 0], [11.79, 202.77, 0], [11.79, 202.81, 0], [11.79, 202.82, 0], [11.79, 202.82, 0], [11.79, 202.82, 0], [11.79, 202.83, 0], [11.79, 202.83, 0], [11.79, 202.83, 0], [11.79, 202.84, 0], [11.79, 202.85, 0], [11.8, 202.86, 0], [11.8, 202.87, 0], [11.8, 202.88, 0], [11.8, 202.88, 0], [11.8, 202.88, 0], [11.8, 202.88, 0], [11.8, 202.88, 0], [11.8, 202.89, 0], [11.8, 202.89, 0], [11.8, 202.91, 0], [11.8, 202.91, 0], [11.8, 202.91, 0], [11.8, 202.92, 0], [11.8, 202.92, 0], [11.8, 202.92, 0], [11.8, 202.93, 0], [11.8, 202.94, 0], [11.81, 202.94, 0], [11.81, 202.95, 0], [11.81, 202.95, 0], [11.81, 202.98, 0], [11.81, 203.0, 0], [11.81, 203.0, 0], [11.81, 203.01, 0], [11.81, 203.01, 0], [11.81, 203.03, 0], [11.81, 203.04, 0], [11.81, 203.04, 0], [11.82, 203.05, 0], [11.82, 203.05, 0], [11.82, 203.06, 0], [11.82, 203.06, 0], [11.82, 203.07, 0], [11.82, 203.09, 0], [11.82, 203.14, 0], [11.82, 203.15, 0], [11.82, 203.15, 0], [11.82, 203.18, 0], [11.82, 203.19, 0], [11.82, 203.2, 0], [11.82, 203.2, 0], [11.82, 203.2, 0], [11.82, 203.2, 0], [11.82, 203.21, 0], [11.83, 203.21, 0], [11.83, 203.25, 0], [11.83, 203.25, 0], [11.83, 203.26, 0], [11.83, 203.26, 0], [11.83, 203.29, 0], [11.83, 203.3, 0], [11.83, 203.3, 0], [11.83, 203.3, 0], [11.83, 203.32, 0], [11.83, 203.33, 0], [11.83, 203.33, 0], [11.83, 203.33, 0], [11.83, 203.35, 0], [11.84, 203.35, 0], [11.84, 203.36, 0], [11.84, 203.36, 0], [11.84, 203.37, 0], [11.84, 203.38, 0], [11.84, 203.39, 0], [11.84, 203.39, 0], [11.84, 203.4, 0], [11.84, 203.42, 0], [11.84, 203.42, 0], [11.84, 203.43, 0], [11.84, 203.43, 0], [11.84, 203.44, 0], [11.85, 203.44, 0], [11.85, 203.45, 0], [11.85, 203.48, 0], [11.85, 203.5, 0], [11.85, 203.51, 0], [11.85, 203.52, 0], [11.85, 203.53, 0], [11.85, 203.54, 0], [11.85, 203.54, 0], [11.85, 203.55, 0], [11.85, 203.55, 0], [11.85, 203.55, 0], [11.85, 203.57, 0], [11.85, 203.61, 0], [11.85, 203.61, 0], [11.85, 203.62, 0], [11.85, 203.63, 0], [11.86, 203.64, 0], [11.86, 203.64, 0], [11.86, 203.64, 0], [11.86, 203.67, 0], [11.86, 203.68, 0], [11.86, 203.69, 0], [11.86, 203.71, 0], [11.86, 203.72, 0], [11.86, 203.72, 0], [11.86, 203.74, 0], [11.86, 203.75, 0], [11.87, 203.75, 0], [11.87, 203.76, 0], [11.87, 203.76, 0], [11.87, 203.77, 0], [11.87, 203.77, 0], [11.87, 203.78, 0], [11.87, 203.78, 0], [11.87, 203.79, 0], [11.87, 203.81, 0], [11.87, 203.81, 0], [11.87, 203.82, 0], [11.87, 203.84, 0], [11.87, 203.84, 0], [11.88, 203.84, 0], [11.88, 203.85, 0], [11.88, 203.85, 0], [11.88, 203.86, 0], [11.88, 203.86, 0], [11.88, 203.86, 0], [11.88, 203.87, 0], [11.88, 203.88, 0], [11.88, 203.88, 0], [11.88, 203.89, 0], [11.88, 203.9, 0], [11.88, 203.9, 0], [11.88, 203.92, 0], [11.88, 203.92, 0], [11.88, 203.93, 0], [11.88, 203.96, 0], [11.88, 203.97, 0], [11.88, 203.98, 0], [11.88, 204.01, 0], [11.89, 204.01, 0], [11.89, 204.02, 0], [11.89, 204.04, 0], [11.89, 204.04, 0], [11.89, 204.04, 0], [11.89, 204.05, 0], [11.89, 204.06, 0], [11.89, 204.06, 0], [11.89, 204.08, 0], [11.89, 204.1, 0], [11.89, 204.11, 0], [11.89, 204.12, 0], [11.89, 204.12, 0], [11.89, 204.12, 0], [11.89, 204.14, 0], [11.89, 204.15, 0], [11.9, 204.16, 0], [11.9, 204.18, 0], [11.9, 204.2, 0], [11.9, 204.2, 0], [11.9, 204.21, 0], [11.9, 204.21, 0], [11.9, 204.22, 0], [11.9, 204.22, 0], [11.9, 204.23, 0], [11.9, 204.23, 0], [11.9, 204.23, 0], [11.9, 204.26, 0], [11.9, 204.26, 0], [11.9, 204.27, 0], [11.9, 204.27, 0], [11.9, 204.29, 0], [11.9, 204.3, 0], [11.91, 204.31, 0], [11.91, 204.31, 0], [11.91, 204.32, 0], [11.91, 204.33, 0], [11.91, 204.35, 0], [11.91, 204.37, 0], [11.91, 204.38, 0], [11.91, 204.39, 0], [11.91, 204.41, 0], [11.91, 204.43, 0], [11.91, 204.43, 0], [11.91, 204.43, 0], [11.91, 204.44, 0], [11.91, 204.45, 0], [11.91, 204.47, 0], [11.91, 204.5, 0], [11.91, 204.55, 0], [11.92, 204.55, 0], [11.92, 204.55, 0], [11.92, 204.56, 0], [11.92, 204.56, 0], [11.92, 204.58, 0], [11.92, 204.58, 0], [11.92, 204.61, 0], [11.92, 204.63, 0], [11.92, 204.66, 0], [11.92, 204.67, 0], [11.92, 204.68, 0], [11.92, 204.68, 0], [11.92, 204.69, 0], [11.92, 204.7, 0], [11.92, 204.71, 0], [11.92, 204.72, 0], [11.92, 204.73, 0], [11.92, 204.73, 0], [11.92, 204.73, 0], [11.92, 204.73, 0], [11.93, 204.76, 0], [11.93, 204.76, 0], [11.93, 204.76, 0], [11.93, 204.77, 0], [11.93, 204.78, 0], [11.93, 204.78, 0], [11.93, 204.79, 0], [11.93, 204.79, 0], [11.93, 204.81, 0], [11.93, 204.81, 0], [11.93, 204.83, 0], [11.93, 204.84, 0], [11.93, 204.85, 0], [11.93, 204.86, 0], [11.94, 204.88, 0], [11.94, 204.88, 0], [11.94, 204.89, 0], [11.94, 204.91, 0], [11.94, 204.91, 0], [11.94, 204.91, 0], [11.94, 204.92, 0], [11.94, 204.92, 0], [11.94, 204.93, 0], [11.94, 204.93, 0], [11.95, 204.93, 0], [11.95, 204.93, 0], [11.95, 204.94, 0], [11.95, 204.94, 0], [11.95, 204.94, 0], [11.95, 204.95, 0], [11.95, 204.96, 0], [11.95, 204.97, 0], [11.95, 204.99, 0], [11.95, 205.01, 0], [11.95, 205.03, 0], [11.95, 205.05, 0], [11.96, 205.06, 0], [11.96, 205.06, 0], [11.96, 205.07, 0], [11.96, 205.09, 0], [11.96, 205.11, 0], [11.96, 205.11, 0], [11.96, 205.12, 0], [11.96, 205.12, 0], [11.96, 205.13, 0], [11.96, 205.14, 0], [11.96, 205.14, 0], [11.96, 205.16, 0], [11.96, 205.19, 0], [11.97, 205.21, 0], [11.97, 205.21, 0], [11.97, 205.24, 0], [11.97, 205.24, 0], [11.97, 205.24, 0], [11.97, 205.25, 0], [11.97, 205.26, 0], [11.97, 205.27, 0], [11.98, 205.28, 0], [11.98, 205.29, 0], [11.98, 205.32, 0], [11.98, 205.35, 0], [11.98, 205.35, 0], [11.98, 205.36, 0], [11.98, 205.36, 0], [11.98, 205.37, 0], [11.99, 205.37, 0], [11.99, 205.38, 0], [11.99, 205.38, 0], [11.99, 205.39, 0], [11.99, 205.39, 0], [11.99, 205.41, 0], [11.99, 205.43, 0], [11.99, 205.44, 0], [11.99, 205.44, 0], [12.0, 205.44, 0], [12.0, 205.45, 0], [12.0, 205.45, 0], [12.0, 205.46, 0], [12.0, 205.47, 0], [12.0, 205.48, 0], [12.0, 205.5, 0], [12.0, 205.52, 0], [12.0, 205.54, 0], [12.0, 205.55, 0], [12.0, 205.56, 0], [12.0, 205.58, 0], [12.0, 205.58, 0], [12.0, 205.59, 0], [12.0, 205.6, 0], [12.0, 205.63, 0], [12.01, 205.64, 0], [12.01, 205.64, 0], [12.01, 205.64, 0], [12.01, 205.69, 0], [12.01, 205.7, 0], [12.01, 205.7, 0], [12.01, 205.75, 0], [12.01, 205.75, 0], [12.01, 205.77, 0], [12.01, 205.78, 0], [12.01, 205.8, 0], [12.01, 205.8, 0], [12.01, 205.82, 0], [12.01, 205.82, 0], [12.01, 205.82, 0], [12.01, 205.83, 0], [12.02, 205.85, 0], [12.02, 205.85, 0], [12.02, 205.85, 0], [12.02, 205.86, 0], [12.02, 205.86, 0], [12.02, 205.9, 0], [12.02, 205.91, 0], [12.02, 205.92, 0], [12.02, 205.92, 0], [12.02, 205.93, 0], [12.02, 205.93, 0], [12.02, 205.93, 0], [12.02, 205.97, 0], [12.02, 205.97, 0], [12.02, 205.97, 0], [12.02, 206.0, 0], [12.03, 206.0, 0], [12.03, 206.0, 0], [12.03, 206.05, 0], [12.03, 206.05, 0], [12.03, 206.06, 0], [12.03, 206.06, 0], [12.03, 206.06, 0], [12.03, 206.08, 0], [12.03, 206.09, 0], [12.03, 206.1, 0], [12.03, 206.11, 0], [12.03, 206.12, 0], [12.04, 206.14, 0], [12.04, 206.17, 0], [12.04, 206.17, 0], [12.04, 206.18, 0], [12.04, 206.18, 0], [12.04, 206.19, 0], [12.04, 206.19, 0], [12.04, 206.19, 0], [12.04, 206.21, 0], [12.04, 206.21, 0], [12.04, 206.23, 0], [12.04, 206.24, 0], [12.04, 206.24, 0], [12.04, 206.26, 0], [12.04, 206.27, 0], [12.04, 206.27, 0], [12.04, 206.27, 0], [12.04, 206.28, 0], [12.05, 206.28, 0], [12.05, 206.28, 0], [12.05, 206.29, 0], [12.05, 206.31, 0], [12.05, 206.32, 0], [12.05, 206.33, 0], [12.05, 206.34, 0], [12.05, 206.35, 0], [12.05, 206.38, 0], [12.05, 206.39, 0], [12.05, 206.39, 0], [12.05, 206.4, 0], [12.06, 206.41, 0], [12.06, 206.41, 0], [12.06, 206.42, 0], [12.06, 206.42, 0], [12.06, 206.42, 0], [12.06, 206.43, 0], [12.06, 206.44, 0], [12.06, 206.44, 0], [12.06, 206.46, 0], [12.06, 206.46, 0], [12.06, 206.47, 0], [12.06, 206.48, 0], [12.06, 206.48, 0], [12.06, 206.48, 0], [12.06, 206.49, 0], [12.07, 206.55, 0], [12.07, 206.57, 0], [12.07, 206.58, 0], [12.07, 206.58, 0], [12.07, 206.58, 0], [12.07, 206.59, 0], [12.07, 206.59, 0], [12.07, 206.6, 0], [12.07, 206.62, 0], [12.07, 206.63, 0], [12.07, 206.64, 0], [12.07, 206.66, 0], [12.07, 206.66, 0], [12.07, 206.66, 0], [12.07, 206.71, 0], [12.08, 206.71, 0], [12.08, 206.72, 0], [12.08, 206.73, 0], [12.08, 206.73, 0], [12.08, 206.74, 0], [12.08, 206.75, 0], [12.08, 206.75, 0], [12.08, 206.76, 0], [12.08, 206.76, 0], [12.08, 206.76, 0], [12.08, 206.77, 0], [12.08, 206.82, 0], [12.08, 206.84, 0], [12.09, 206.89, 0], [12.09, 206.91, 0], [12.09, 206.93, 0], [12.09, 206.94, 0], [12.09, 206.94, 0], [12.09, 206.95, 0], [12.09, 206.96, 0], [12.09, 206.96, 0], [12.09, 206.97, 0], [12.09, 206.98, 0], [12.09, 206.98, 0], [12.09, 207.01, 0], [12.09, 207.03, 0], [12.09, 207.03, 0], [12.1, 207.04, 0], [12.1, 207.05, 0], [12.1, 207.05, 0], [12.1, 207.06, 0], [12.1, 207.07, 0], [12.1, 207.08, 0], [12.1, 207.08, 0], [12.1, 207.08, 0], [12.1, 207.09, 0], [12.1, 207.09, 0], [12.1, 207.09, 0], [12.1, 207.1, 0], [12.1, 207.1, 0], [12.1, 207.11, 0], [12.1, 207.12, 0], [12.1, 207.12, 0], [12.11, 207.12, 0], [12.11, 207.12, 0], [12.11, 207.14, 0], [12.11, 207.14, 0], [12.11, 207.14, 0], [12.11, 207.14, 0], [12.11, 207.16, 0], [12.11, 207.17, 0], [12.11, 207.18, 0], [12.11, 207.18, 0], [12.11, 207.19, 0], [12.11, 207.19, 0], [12.11, 207.21, 0], [12.11, 207.23, 0], [12.11, 207.23, 0], [12.11, 207.24, 0], [12.11, 207.26, 0], [12.11, 207.28, 0], [12.11, 207.29, 0], [12.11, 207.29, 0], [12.11, 207.29, 0], [12.12, 207.31, 0], [12.12, 207.33, 0], [12.12, 207.33, 0], [12.12, 207.36, 0], [12.12, 207.37, 0], [12.12, 207.38, 0], [12.12, 207.38, 0], [12.12, 207.38, 0], [12.12, 207.39, 0], [12.12, 207.39, 0], [12.12, 207.4, 0], [12.12, 207.41, 0], [12.13, 207.42, 0], [12.13, 207.43, 0], [12.13, 207.43, 0], [12.13, 207.45, 0], [12.13, 207.46, 0], [12.14, 207.47, 0], [12.14, 207.5, 0], [12.14, 207.5, 0], [12.14, 207.51, 0], [12.14, 207.54, 0], [12.14, 207.54, 0], [12.14, 207.57, 0], [12.14, 207.6, 0], [12.14, 207.6, 0], [12.14, 207.61, 0], [12.14, 207.61, 0], [12.14, 207.62, 0], [12.14, 207.63, 0], [12.14, 207.63, 0], [12.15, 207.67, 0], [12.15, 207.68, 0], [12.15, 207.68, 0], [12.15, 207.69, 0], [12.15, 207.72, 0], [12.15, 207.72, 0], [12.15, 207.73, 0], [12.15, 207.73, 0], [12.15, 207.74, 0], [12.15, 207.76, 0], [12.15, 207.76, 0], [12.15, 207.76, 0], [12.15, 207.77, 0], [12.15, 207.77, 0], [12.15, 207.8, 0], [12.15, 207.8, 0], [12.15, 207.83, 0], [12.15, 207.84, 0], [12.16, 207.84, 0], [12.16, 207.85, 0], [12.16, 207.86, 0], [12.16, 207.87, 0], [12.16, 207.88, 0], [12.16, 207.88, 0], [12.16, 207.88, 0], [12.16, 207.89, 0], [12.16, 207.91, 0], [12.16, 207.91, 0], [12.16, 207.92, 0], [12.17, 207.93, 0], [12.17, 207.94, 0], [12.17, 207.94, 0], [12.17, 207.95, 0], [12.17, 207.96, 0], [12.17, 207.97, 0], [12.17, 207.97, 0], [12.17, 207.97, 0], [12.17, 207.98, 0], [12.17, 207.98, 0], [12.17, 207.99, 0], [12.17, 208.0, 0], [12.17, 208.0, 0], [12.18, 208.0, 0], [12.18, 208.0, 0], [12.18, 208.01, 0], [12.18, 208.03, 0], [12.18, 208.03, 0], [12.18, 208.05, 0], [12.18, 208.06, 0], [12.18, 208.06, 0], [12.18, 208.09, 0], [12.18, 208.1, 0], [12.18, 208.11, 0], [12.18, 208.12, 0], [12.18, 208.12, 0], [12.18, 208.15, 0], [12.18, 208.17, 0], [12.18, 208.17, 0], [12.19, 208.17, 0], [12.19, 208.17, 0], [12.19, 208.19, 0], [12.19, 208.2, 0], [12.19, 208.21, 0], [12.19, 208.22, 0], [12.19, 208.22, 0], [12.19, 208.23, 0], [12.19, 208.23, 0], [12.19, 208.26, 0], [12.19, 208.27, 0], [12.2, 208.29, 0], [12.2, 208.29, 0], [12.2, 208.31, 0], [12.2, 208.31, 0], [12.2, 208.32, 0], [12.2, 208.33, 0], [12.2, 208.34, 0], [12.2, 208.35, 0], [12.2, 208.36, 0], [12.2, 208.36, 0], [12.2, 208.39, 0], [12.2, 208.4, 0], [12.21, 208.41, 0], [12.21, 208.42, 0], [12.21, 208.42, 0], [12.21, 208.45, 0], [12.21, 208.47, 0], [12.21, 208.47, 0], [12.21, 208.47, 0], [12.21, 208.48, 0], [12.21, 208.5, 0], [12.21, 208.51, 0], [12.21, 208.52, 0], [12.21, 208.52, 0], [12.21, 208.52, 0], [12.21, 208.53, 0], [12.21, 208.54, 0], [12.21, 208.55, 0], [12.22, 208.55, 0], [12.22, 208.58, 0], [12.22, 208.61, 0], [12.22, 208.61, 0], [12.22, 208.63, 0], [12.22, 208.63, 0], [12.22, 208.66, 0], [12.22, 208.67, 0], [12.22, 208.68, 0], [12.22, 208.68, 0], [12.22, 208.7, 0], [12.22, 208.7, 0], [12.22, 208.73, 0], [12.22, 208.82, 0], [12.22, 208.83, 0], [12.22, 208.85, 0], [12.22, 208.85, 0], [12.22, 208.86, 0], [12.22, 208.86, 0], [12.23, 208.87, 0], [12.23, 208.87, 0], [12.23, 208.87, 0], [12.23, 208.88, 0], [12.23, 208.89, 0], [12.23, 208.91, 0], [12.23, 208.91, 0], [12.23, 208.93, 0], [12.23, 208.94, 0], [12.23, 208.98, 0], [12.23, 208.99, 0], [12.23, 209.03, 0], [12.23, 209.04, 0], [12.23, 209.06, 0], [12.23, 209.07, 0], [12.24, 209.07, 0], [12.24, 209.08, 0], [12.24, 209.08, 0], [12.24, 209.11, 0], [12.24, 209.13, 0], [12.24, 209.14, 0], [12.24, 209.16, 0], [12.24, 209.19, 0], [12.24, 209.19, 0], [12.24, 209.21, 0], [12.25, 209.21, 0], [12.25, 209.24, 0], [12.25, 209.24, 0], [12.25, 209.25, 0], [12.25, 209.27, 0], [12.25, 209.27, 0], [12.25, 209.29, 0], [12.25, 209.3, 0], [12.25, 209.31, 0], [12.25, 209.31, 0], [12.25, 209.32, 0], [12.25, 209.32, 0], [12.26, 209.32, 0], [12.26, 209.34, 0], [12.26, 209.36, 0], [12.26, 209.36, 0], [12.26, 209.37, 0], [12.26, 209.37, 0], [12.26, 209.39, 0], [12.26, 209.4, 0], [12.26, 209.41, 0], [12.26, 209.42, 0], [12.27, 209.43, 0], [12.27, 209.43, 0], [12.27, 209.45, 0], [12.27, 209.47, 0], [12.27, 209.48, 0], [12.27, 209.49, 0], [12.27, 209.49, 0], [12.27, 209.49, 0], [12.27, 209.5, 0], [12.27, 209.5, 0], [12.27, 209.51, 0], [12.27, 209.51, 0], [12.27, 209.51, 0], [12.27, 209.52, 0], [12.28, 209.55, 0], [12.28, 209.56, 0], [12.28, 209.57, 0], [12.28, 209.61, 0], [12.29, 209.61, 0], [12.29, 209.63, 0], [12.29, 209.63, 0], [12.29, 209.66, 0], [12.29, 209.66, 0], [12.29, 209.67, 0], [12.29, 209.68, 0], [12.29, 209.68, 0], [12.29, 209.72, 0], [12.29, 209.72, 0], [12.29, 209.74, 0], [12.29, 209.75, 0], [12.29, 209.76, 0], [12.29, 209.76, 0], [12.29, 209.77, 0], [12.3, 209.79, 0], [12.3, 209.81, 0], [12.3, 209.85, 0], [12.3, 209.86, 0], [12.3, 209.87, 0], [12.3, 209.88, 0], [12.3, 209.89, 0], [12.3, 209.89, 0], [12.3, 209.91, 0], [12.3, 209.93, 0], [12.3, 209.94, 0], [12.3, 209.95, 0], [12.31, 209.96, 0], [12.31, 209.98, 0], [12.31, 209.98, 0], [12.31, 210.0, 0], [12.31, 210.0, 0], [12.31, 210.0, 0], [12.31, 210.01, 0], [12.31, 210.01, 0], [12.31, 210.02, 0], [12.32, 210.03, 0], [12.32, 210.05, 0], [12.32, 210.06, 0], [12.32, 210.08, 0], [12.32, 210.08, 0], [12.32, 210.1, 0], [12.32, 210.13, 0], [12.32, 210.15, 0], [12.32, 210.15, 0], [12.32, 210.16, 0], [12.32, 210.16, 0], [12.32, 210.16, 0], [12.32, 210.18, 0], [12.32, 210.19, 0], [12.32, 210.23, 0], [12.32, 210.23, 0], [12.33, 210.24, 0], [12.33, 210.24, 0], [12.33, 210.25, 0], [12.33, 210.29, 0], [12.33, 210.3, 0], [12.33, 210.3, 0], [12.33, 210.33, 0], [12.33, 210.34, 0], [12.33, 210.35, 0], [12.33, 210.36, 0], [12.33, 210.36, 0], [12.33, 210.36, 0], [12.34, 210.39, 0], [12.34, 210.41, 0], [12.34, 210.43, 0], [12.34, 210.46, 0], [12.34, 210.47, 0], [12.34, 210.47, 0], [12.34, 210.48, 0], [12.34, 210.48, 0], [12.34, 210.5, 0], [12.34, 210.51, 0], [12.34, 210.52, 0], [12.34, 210.53, 0], [12.34, 210.55, 0], [12.34, 210.55, 0], [12.34, 210.55, 0], [12.35, 210.57, 0], [12.35, 210.57, 0], [12.35, 210.58, 0], [12.35, 210.58, 0], [12.35, 210.58, 0], [12.35, 210.58, 0], [12.35, 210.6, 0], [12.35, 210.6, 0], [12.35, 210.61, 0], [12.35, 210.64, 0], [12.35, 210.64, 0], [12.35, 210.65, 0], [12.36, 210.65, 0], [12.36, 210.7, 0], [12.36, 210.7, 0], [12.36, 210.72, 0], [12.36, 210.74, 0], [12.36, 210.74, 0], [12.36, 210.75, 0], [12.36, 210.79, 0], [12.37, 210.82, 0], [12.37, 210.84, 0], [12.37, 210.84, 0], [12.37, 210.85, 0], [12.37, 210.85, 0], [12.37, 210.86, 0], [12.37, 210.88, 0], [12.37, 210.88, 0], [12.38, 210.89, 0], [12.38, 210.9, 0], [12.38, 210.9, 0], [12.38, 210.93, 0], [12.38, 210.96, 0], [12.38, 210.97, 0], [12.38, 210.98, 0], [12.38, 210.99, 0], [12.38, 210.99, 0], [12.38, 211.0, 0], [12.39, 211.0, 0], [12.39, 211.0, 0], [12.39, 211.01, 0], [12.39, 211.01, 0], [12.39, 211.01, 0], [12.39, 211.03, 0], [12.39, 211.05, 0], [12.39, 211.07, 0], [12.39, 211.07, 0], [12.39, 211.07, 0], [12.39, 211.09, 0], [12.39, 211.12, 0], [12.39, 211.12, 0], [12.39, 211.13, 0], [12.39, 211.13, 0], [12.39, 211.14, 0], [12.39, 211.14, 0], [12.39, 211.15, 0], [12.39, 211.16, 0], [12.39, 211.16, 0], [12.39, 211.17, 0], [12.4, 211.18, 0], [12.4, 211.19, 0], [12.4, 211.21, 0], [12.4, 211.27, 0], [12.4, 211.29, 0], [12.4, 211.32, 0], [12.4, 211.32, 0], [12.4, 211.35, 0], [12.4, 211.35, 0], [12.4, 211.38, 0], [12.4, 211.41, 0], [12.4, 211.42, 0], [12.4, 211.42, 0], [12.41, 211.43, 0], [12.41, 211.44, 0], [12.41, 211.46, 0], [12.41, 211.46, 0], [12.41, 211.48, 0], [12.41, 211.49, 0], [12.41, 211.51, 0], [12.41, 211.52, 0], [12.41, 211.52, 0], [12.41, 211.53, 0], [12.41, 211.53, 0], [12.42, 211.55, 0], [12.42, 211.56, 0], [12.42, 211.56, 0], [12.42, 211.58, 0], [12.42, 211.6, 0], [12.43, 211.61, 0], [12.43, 211.63, 0], [12.43, 211.64, 0], [12.43, 211.67, 0], [12.43, 211.68, 0], [12.43, 211.69, 0], [12.43, 211.71, 0], [12.43, 211.71, 0], [12.43, 211.71, 0], [12.43, 211.72, 0], [12.43, 211.73, 0], [12.43, 211.8, 0], [12.43, 211.8, 0], [12.43, 211.8, 0], [12.43, 211.81, 0], [12.44, 211.81, 0], [12.44, 211.81, 0], [12.44, 211.81, 0], [12.44, 211.88, 0], [12.44, 211.89, 0], [12.44, 211.93, 0], [12.44, 211.93, 0], [12.44, 211.94, 0], [12.44, 211.97, 0], [12.44, 211.97, 0], [12.45, 212.01, 0], [12.45, 212.01, 0], [12.45, 212.02, 0], [12.45, 212.02, 0], [12.45, 212.03, 0], [12.45, 212.04, 0], [12.45, 212.06, 0], [12.45, 212.07, 0], [12.45, 212.07, 0], [12.45, 212.08, 0], [12.45, 212.08, 0], [12.45, 212.08, 0], [12.46, 212.1, 0], [12.46, 212.1, 0], [12.46, 212.11, 0], [12.46, 212.11, 0], [12.46, 212.12, 0], [12.46, 212.14, 0], [12.46, 212.15, 0], [12.46, 212.15, 0], [12.46, 212.18, 0], [12.46, 212.19, 0], [12.46, 212.2, 0], [12.46, 212.21, 0], [12.46, 212.25, 0], [12.46, 212.27, 0], [12.46, 212.32, 0], [12.46, 212.34, 0], [12.46, 212.37, 0], [12.46, 212.38, 0], [12.47, 212.39, 0], [12.47, 212.39, 0], [12.47, 212.41, 0], [12.47, 212.42, 0], [12.47, 212.42, 0], [12.47, 212.44, 0], [12.47, 212.45, 0], [12.47, 212.47, 0], [12.47, 212.49, 0], [12.47, 212.51, 0], [12.47, 212.51, 0], [12.47, 212.54, 0], [12.47, 212.58, 0], [12.47, 212.61, 0], [12.47, 212.62, 0], [12.47, 212.63, 0], [12.47, 212.65, 0], [12.48, 212.65, 0], [12.48, 212.67, 0], [12.48, 212.7, 0], [12.48, 212.71, 0], [12.48, 212.72, 0], [12.48, 212.75, 0], [12.48, 212.75, 0], [12.48, 212.75, 0], [12.48, 212.75, 0], [12.48, 212.77, 0], [12.48, 212.81, 0], [12.48, 212.81, 0], [12.49, 212.82, 0], [12.49, 212.84, 0], [12.49, 212.85, 0], [12.49, 212.86, 0], [12.49, 212.88, 0], [12.49, 212.9, 0], [12.49, 212.96, 0], [12.49, 212.98, 0], [12.49, 213.01, 0], [12.49, 213.07, 0], [12.49, 213.08, 0], [12.49, 213.08, 0], [12.5, 213.12, 0], [12.5, 213.15, 0], [12.5, 213.16, 0], [12.5, 213.18, 0], [12.5, 213.19, 0], [12.5, 213.2, 0], [12.5, 213.22, 0], [12.51, 213.22, 0], [12.51, 213.25, 0], [12.51, 213.26, 0], [12.51, 213.26, 0], [12.51, 213.28, 0], [12.51, 213.3, 0], [12.51, 213.3, 0], [12.51, 213.3, 0], [12.51, 213.3, 0], [12.51, 213.32, 0], [12.51, 213.34, 0], [12.51, 213.34, 0], [12.52, 213.36, 0], [12.52, 213.36, 0], [12.52, 213.38, 0], [12.52, 213.39, 0], [12.52, 213.4, 0], [12.52, 213.42, 0], [12.52, 213.43, 0], [12.52, 213.44, 0], [12.53, 213.44, 0], [12.53, 213.44, 0], [12.53, 213.44, 0], [12.53, 213.44, 0], [12.53, 213.45, 0], [12.53, 213.46, 0], [12.53, 213.46, 0], [12.53, 213.47, 0], [12.53, 213.5, 0], [12.53, 213.5, 0], [12.53, 213.5, 0], [12.53, 213.51, 0], [12.53, 213.52, 0], [12.54, 213.54, 0], [12.54, 213.54, 0], [12.54, 213.54, 0], [12.54, 213.58, 0], [12.54, 213.58, 0], [12.54, 213.59, 0], [12.54, 213.62, 0], [12.54, 213.66, 0], [12.55, 213.66, 0], [12.55, 213.68, 0], [12.55, 213.68, 0], [12.55, 213.69, 0], [12.55, 213.7, 0], [12.55, 213.72, 0], [12.55, 213.73, 0], [12.55, 213.74, 0], [12.55, 213.75, 0], [12.55, 213.76, 0], [12.55, 213.76, 0], [12.55, 213.8, 0], [12.55, 213.8, 0], [12.55, 213.82, 0], [12.55, 213.82, 0], [12.56, 213.84, 0], [12.56, 213.84, 0], [12.56, 213.88, 0], [12.56, 213.9, 0], [12.56, 213.9, 0], [12.56, 213.91, 0], [12.56, 213.92, 0], [12.56, 213.95, 0], [12.56, 213.95, 0], [12.56, 213.98, 0], [12.56, 214.0, 0], [12.56, 214.0, 0], [12.56, 214.0, 0], [12.56, 214.0, 0], [12.56, 214.01, 0], [12.56, 214.01, 0], [12.56, 214.02, 0], [12.56, 214.05, 0], [12.56, 214.05, 0], [12.56, 214.07, 0], [12.57, 214.09, 0], [12.57, 214.1, 0], [12.57, 214.1, 0], [12.57, 214.14, 0], [12.57, 214.15, 0], [12.57, 214.15, 0], [12.57, 214.2, 0], [12.57, 214.2, 0], [12.57, 214.21, 0], [12.57, 214.22, 0], [12.57, 214.25, 0], [12.58, 214.26, 0], [12.58, 214.26, 0], [12.58, 214.29, 0], [12.58, 214.3, 0], [12.58, 214.31, 0], [12.58, 214.34, 0], [12.58, 214.35, 0], [12.58, 214.35, 0], [12.58, 214.38, 0], [12.58, 214.38, 0], [12.58, 214.4, 0], [12.58, 214.44, 0], [12.58, 214.46, 0], [12.58, 214.47, 0], [12.59, 214.48, 0], [12.59, 214.48, 0], [12.59, 214.49, 0], [12.59, 214.49, 0], [12.59, 214.52, 0], [12.59, 214.53, 0], [12.59, 214.54, 0], [12.59, 214.56, 0], [12.59, 214.56, 0], [12.59, 214.56, 0], [12.59, 214.57, 0], [12.59, 214.58, 0], [12.6, 214.61, 0], [12.6, 214.61, 0], [12.6, 214.62, 0], [12.6, 214.64, 0], [12.6, 214.64, 0], [12.6, 214.65, 0], [12.6, 214.65, 0], [12.6, 214.69, 0], [12.6, 214.73, 0], [12.6, 214.76, 0], [12.6, 214.76, 0], [12.6, 214.76, 0], [12.6, 214.79, 0], [12.61, 214.81, 0], [12.61, 214.88, 0], [12.61, 214.91, 0], [12.61, 214.92, 0], [12.61, 214.95, 0], [12.61, 214.97, 0], [12.61, 215.0, 0], [12.61, 215.01, 0], [12.61, 215.03, 0], [12.61, 215.05, 0], [12.61, 215.06, 0], [12.62, 215.11, 0], [12.62, 215.12, 0], [12.62, 215.13, 0], [12.62, 215.14, 0], [12.62, 215.14, 0], [12.62, 215.16, 0], [12.62, 215.18, 0], [12.62, 215.21, 0], [12.62, 215.22, 0], [12.62, 215.22, 0], [12.63, 215.22, 0], [12.63, 215.22, 0], [12.63, 215.26, 0], [12.63, 215.28, 0], [12.63, 215.28, 0], [12.63, 215.28, 0], [12.63, 215.28, 0], [12.63, 215.28, 0], [12.63, 215.3, 0], [12.63, 215.31, 0], [12.64, 215.34, 0], [12.64, 215.37, 0], [12.64, 215.42, 0], [12.64, 215.49, 0], [12.64, 215.49, 0], [12.64, 215.5, 0], [12.65, 215.51, 0], [12.65, 215.53, 0], [12.65, 215.53, 0], [12.65, 215.55, 0], [12.65, 215.57, 0], [12.65, 215.58, 0], [12.66, 215.61, 0], [12.66, 215.62, 0], [12.66, 215.63, 0], [12.66, 215.63, 0], [12.66, 215.67, 0], [12.66, 215.69, 0], [12.66, 215.73, 0], [12.66, 215.74, 0], [12.66, 215.74, 0], [12.67, 215.76, 0], [12.67, 215.77, 0], [12.67, 215.78, 0], [12.67, 215.81, 0], [12.67, 215.81, 0], [12.67, 215.82, 0], [12.68, 215.83, 0], [12.68, 215.85, 0], [12.68, 215.86, 0], [12.68, 215.86, 0], [12.68, 215.87, 0], [12.68, 215.88, 0], [12.68, 215.89, 0], [12.68, 215.9, 0], [12.68, 215.91, 0], [12.68, 215.92, 0], [12.68, 215.92, 0], [12.68, 215.93, 0], [12.68, 215.94, 0], [12.68, 215.95, 0], [12.69, 215.97, 0], [12.69, 215.99, 0], [12.69, 216.01, 0], [12.69, 216.01, 0], [12.69, 216.03, 0], [12.69, 216.03, 0], [12.69, 216.07, 0], [12.69, 216.09, 0], [12.7, 216.09, 0], [12.7, 216.14, 0], [12.7, 216.14, 0], [12.7, 216.17, 0], [12.7, 216.2, 0], [12.7, 216.2, 0], [12.7, 216.21, 0], [12.7, 216.23, 0], [12.7, 216.25, 0], [12.7, 216.28, 0], [12.7, 216.32, 0], [12.7, 216.33, 0], [12.71, 216.36, 0], [12.71, 216.4, 0], [12.71, 216.4, 0], [12.71, 216.43, 0], [12.71, 216.43, 0], [12.71, 216.44, 0], [12.71, 216.46, 0], [12.71, 216.47, 0], [12.71, 216.51, 0], [12.71, 216.52, 0], [12.71, 216.53, 0], [12.72, 216.56, 0], [12.72, 216.56, 0], [12.72, 216.57, 0], [12.72, 216.58, 0], [12.72, 216.59, 0], [12.72, 216.6, 0], [12.72, 216.61, 0], [12.72, 216.66, 0], [12.72, 216.67, 0], [12.72, 216.69, 0], [12.73, 216.69, 0], [12.73, 216.71, 0], [12.73, 216.71, 0], [12.73, 216.72, 0], [12.73, 216.73, 0], [12.73, 216.74, 0], [12.73, 216.77, 0], [12.73, 216.77, 0], [12.73, 216.77, 0], [12.73, 216.8, 0], [12.73, 216.83, 0], [12.73, 216.84, 0], [12.73, 216.85, 0], [12.73, 216.85, 0], [12.73, 216.87, 0], [12.73, 216.88, 0], [12.73, 216.89, 0], [12.74, 216.9, 0], [12.74, 216.9, 0], [12.74, 216.91, 0], [12.74, 216.91, 0], [12.74, 216.95, 0], [12.75, 216.97, 0], [12.75, 216.98, 0], [12.75, 216.99, 0], [12.75, 217.0, 0], [12.75, 217.01, 0], [12.75, 217.07, 0], [12.75, 217.07, 0], [12.75, 217.07, 0], [12.75, 217.09, 0], [12.75, 217.1, 0], [12.76, 217.11, 0], [12.76, 217.12, 0], [12.76, 217.17, 0], [12.76, 217.17, 0], [12.76, 217.19, 0], [12.76, 217.21, 0], [12.76, 217.22, 0], [12.76, 217.22, 0], [12.76, 217.26, 0], [12.76, 217.26, 0], [12.76, 217.28, 0], [12.77, 217.28, 0], [12.77, 217.29, 0], [12.77, 217.29, 0], [12.77, 217.29, 0], [12.77, 217.34, 0], [12.77, 217.36, 0], [12.77, 217.36, 0], [12.77, 217.36, 0], [12.77, 217.39, 0], [12.77, 217.4, 0], [12.77, 217.41, 0], [12.78, 217.44, 0], [12.78, 217.45, 0], [12.78, 217.45, 0], [12.78, 217.47, 0], [12.78, 217.51, 0], [12.78, 217.52, 0], [12.78, 217.52, 0], [12.78, 217.57, 0], [12.78, 217.58, 0], [12.78, 217.61, 0], [12.78, 217.62, 0], [12.79, 217.63, 0], [12.79, 217.65, 0], [12.79, 217.65, 0], [12.79, 217.68, 0], [12.79, 217.68, 0], [12.79, 217.72, 0], [12.79, 217.73, 0], [12.79, 217.75, 0], [12.79, 217.77, 0], [12.8, 217.8, 0], [12.8, 217.84, 0], [12.8, 217.91, 0], [12.8, 217.92, 0], [12.8, 217.92, 0], [12.8, 217.94, 0], [12.8, 217.94, 0], [12.8, 217.95, 0], [12.8, 217.97, 0], [12.8, 217.97, 0], [12.81, 217.99, 0], [12.81, 218.0, 0], [12.81, 218.03, 0], [12.81, 218.04, 0], [12.81, 218.04, 0], [12.82, 218.06, 0], [12.82, 218.07, 0], [12.82, 218.07, 0], [12.82, 218.11, 0], [12.82, 218.12, 0], [12.83, 218.13, 0], [12.83, 218.15, 0], [12.83, 218.15, 0], [12.83, 218.17, 0], [12.83, 218.22, 0], [12.83, 218.25, 0], [12.83, 218.28, 0], [12.83, 218.29, 0], [12.83, 218.3, 0], [12.83, 218.32, 0], [12.83, 218.32, 0], [12.84, 218.37, 0], [12.84, 218.37, 0], [12.84, 218.37, 0], [12.84, 218.4, 0], [12.84, 218.41, 0], [12.84, 218.46, 0], [12.84, 218.48, 0], [12.84, 218.54, 0], [12.85, 218.54, 0], [12.85, 218.57, 0], [12.85, 218.58, 0], [12.85, 218.59, 0], [12.85, 218.59, 0], [12.85, 218.6, 0], [12.85, 218.63, 0], [12.86, 218.63, 0], [12.86, 218.67, 0], [12.87, 218.67, 0], [12.87, 218.68, 0], [12.87, 218.68, 0], [12.87, 218.7, 0], [12.87, 218.71, 0], [12.87, 218.72, 0], [12.87, 218.72, 0], [12.87, 218.72, 0], [12.87, 218.73, 0], [12.88, 218.75, 0], [12.88, 218.75, 0], [12.88, 218.76, 0], [12.88, 218.78, 0], [12.88, 218.85, 0], [12.88, 218.86, 0], [12.88, 218.86, 0], [12.88, 218.86, 0], [12.88, 218.86, 0], [12.88, 218.87, 0], [12.89, 218.9, 0], [12.89, 218.91, 0], [12.89, 218.92, 0], [12.89, 218.95, 0], [12.89, 218.98, 0], [12.89, 218.98, 0], [12.89, 218.99, 0], [12.89, 219.08, 0], [12.89, 219.08, 0], [12.89, 219.09, 0], [12.89, 219.09, 0], [12.89, 219.12, 0], [12.89, 219.12, 0], [12.89, 219.13, 0], [12.9, 219.14, 0], [12.9, 219.17, 0], [12.9, 219.19, 0], [12.9, 219.2, 0], [12.9, 219.2, 0], [12.9, 219.24, 0], [12.9, 219.25, 0], [12.9, 219.26, 0], [12.9, 219.27, 0], [12.9, 219.28, 0], [12.9, 219.3, 0], [12.9, 219.31, 0], [12.91, 219.32, 0], [12.91, 219.35, 0], [12.91, 219.38, 0], [12.91, 219.43, 0], [12.91, 219.47, 0], [12.91, 219.48, 0], [12.91, 219.55, 0], [12.92, 219.55, 0], [12.92, 219.6, 0], [12.92, 219.61, 0], [12.92, 219.61, 0], [12.93, 219.61, 0], [12.93, 219.63, 0], [12.93, 219.63, 0], [12.93, 219.63, 0], [12.93, 219.64, 0], [12.93, 219.65, 0], [12.93, 219.68, 0], [12.94, 219.7, 0], [12.94, 219.71, 0], [12.94, 219.72, 0], [12.94, 219.73, 0], [12.94, 219.74, 0], [12.94, 219.74, 0], [12.94, 219.81, 0], [12.94, 219.86, 0], [12.94, 219.89, 0], [12.95, 219.93, 0], [12.95, 219.94, 0], [12.95, 219.95, 0], [12.95, 220.01, 0], [12.95, 220.02, 0], [12.95, 220.04, 0], [12.95, 220.1, 0], [12.95, 220.15, 0], [12.96, 220.25, 0], [12.96, 220.27, 0], [12.96, 220.27, 0], [12.96, 220.31, 0], [12.96, 220.33, 0], [12.96, 220.33, 0], [12.96, 220.35, 0], [12.96, 220.37, 0], [12.97, 220.38, 0], [12.97, 220.39, 0], [12.97, 220.39, 0], [12.97, 220.41, 0], [12.97, 220.42, 0], [12.97, 220.47, 0], [12.97, 220.49, 0], [12.97, 220.49, 0], [12.97, 220.57, 0], [12.97, 220.59, 0], [12.97, 220.64, 0], [12.97, 220.65, 0], [12.98, 220.66, 0], [12.98, 220.67, 0], [12.99, 220.72, 0], [12.99, 220.74, 0], [12.99, 220.76, 0], [12.99, 220.76, 0], [12.99, 220.81, 0], [12.99, 220.81, 0], [12.99, 220.87, 0], [13.0, 220.88, 0], [13.0, 220.9, 0], [13.0, 220.93, 0], [13.0, 220.96, 0], [13.0, 220.98, 0], [13.0, 220.98, 0], [13.01, 220.99, 0], [13.01, 221.02, 0], [13.01, 221.02, 0], [13.01, 221.03, 0], [13.01, 221.04, 0], [13.01, 221.05, 0], [13.02, 221.06, 0], [13.02, 221.07, 0], [13.02, 221.07, 0], [13.02, 221.1, 0], [13.02, 221.11, 0], [13.02, 221.13, 0], [13.02, 221.13, 0], [13.03, 221.14, 0], [13.03, 221.14, 0], [13.03, 221.17, 0], [13.03, 221.18, 0], [13.03, 221.19, 0], [13.03, 221.21, 0], [13.04, 221.22, 0], [13.04, 221.25, 0], [13.04, 221.26, 0], [13.04, 221.26, 0], [13.04, 221.29, 0], [13.04, 221.29, 0], [13.04, 221.3, 0], [13.04, 221.31, 0], [13.05, 221.32, 0], [13.05, 221.33, 0], [13.05, 221.34, 0], [13.05, 221.34, 0], [13.05, 221.36, 0], [13.06, 221.36, 0], [13.06, 221.37, 0], [13.06, 221.37, 0], [13.06, 221.42, 0], [13.06, 221.44, 0], [13.06, 221.45, 0], [13.06, 221.52, 0], [13.07, 221.54, 0], [13.07, 221.61, 0], [13.07, 221.61, 0], [13.07, 221.62, 0], [13.07, 221.65, 0], [13.07, 221.73, 0], [13.07, 221.73, 0], [13.07, 221.76, 0], [13.07, 221.76, 0], [13.07, 221.77, 0], [13.07, 221.78, 0], [13.07, 221.79, 0], [13.07, 221.83, 0], [13.08, 221.85, 0], [13.08, 221.85, 0], [13.08, 221.86, 0], [13.08, 221.86, 0], [13.08, 221.9, 0], [13.08, 221.93, 0], [13.09, 221.94, 0], [13.09, 221.96, 0], [13.09, 222.02, 0], [13.09, 222.06, 0], [13.09, 222.11, 0], [13.09, 222.14, 0], [13.09, 222.15, 0], [13.09, 222.19, 0], [13.09, 222.24, 0], [13.1, 222.26, 0], [13.1, 222.29, 0], [13.1, 222.3, 0], [13.1, 222.35, 0], [13.1, 222.35, 0], [13.11, 222.36, 0], [13.11, 222.4, 0], [13.11, 222.42, 0], [13.11, 222.42, 0], [13.11, 222.44, 0], [13.11, 222.44, 0], [13.11, 222.47, 0], [13.11, 222.48, 0], [13.11, 222.49, 0], [13.12, 222.5, 0], [13.12, 222.52, 0], [13.12, 222.54, 0], [13.12, 222.56, 0], [13.12, 222.59, 0], [13.12, 222.62, 0], [13.13, 222.63, 0], [13.13, 222.68, 0], [13.13, 222.7, 0], [13.13, 222.71, 0], [13.13, 222.81, 0], [13.13, 222.81, 0], [13.13, 222.82, 0], [13.13, 222.84, 0], [13.14, 222.91, 0], [13.14, 222.92, 0], [13.14, 222.94, 0], [13.15, 222.94, 0], [13.15, 222.98, 0], [13.15, 222.99, 0], [13.15, 223.0, 0], [13.15, 223.01, 0], [13.15, 223.03, 0], [13.15, 223.04, 0], [13.15, 223.07, 0], [13.15, 223.15, 0], [13.15, 223.2, 0], [13.15, 223.2, 0], [13.15, 223.24, 0], [13.15, 223.32, 0], [13.16, 223.33, 0], [13.16, 223.36, 0], [13.16, 223.38, 0], [13.16, 223.39, 0], [13.16, 223.41, 0], [13.16, 223.44, 0], [13.16, 223.48, 0], [13.16, 223.49, 0], [13.17, 223.49, 0], [13.17, 223.51, 0], [13.17, 223.52, 0], [13.17, 223.55, 0], [13.17, 223.56, 0], [13.17, 223.6, 0], [13.18, 223.61, 0], [13.18, 223.61, 0], [13.18, 223.61, 0], [13.18, 223.66, 0], [13.18, 223.67, 0], [13.18, 223.68, 0], [13.19, 223.69, 0], [13.19, 223.72, 0], [13.19, 223.72, 0], [13.19, 223.74, 0], [13.19, 223.74, 0], [13.19, 223.75, 0], [13.19, 223.76, 0], [13.2, 223.77, 0], [13.2, 223.79, 0], [13.2, 223.8, 0], [13.2, 223.8, 0], [13.2, 223.82, 0], [13.2, 223.82, 0], [13.2, 223.86, 0], [13.2, 223.87, 0], [13.2, 223.9, 0], [13.2, 223.95, 0], [13.2, 223.97, 0], [13.2, 223.97, 0], [13.2, 224.02, 0], [13.21, 224.06, 0], [13.21, 224.13, 0], [13.21, 224.16, 0], [13.21, 224.18, 0], [13.21, 224.19, 0], [13.21, 224.21, 0], [13.21, 224.24, 0], [13.22, 224.25, 0], [13.22, 224.27, 0], [13.22, 224.32, 0], [13.22, 224.34, 0], [13.22, 224.37, 0], [13.23, 224.38, 0], [13.23, 224.39, 0], [13.23, 224.42, 0], [13.23, 224.44, 0], [13.23, 224.45, 0], [13.23, 224.46, 0], [13.23, 224.46, 0], [13.23, 224.53, 0], [13.23, 224.53, 0], [13.23, 224.54, 0], [13.24, 224.56, 0], [13.24, 224.57, 0], [13.24, 224.57, 0], [13.25, 224.58, 0], [13.25, 224.62, 0], [13.25, 224.66, 0], [13.26, 224.68, 0], [13.26, 224.71, 0], [13.26, 224.73, 0], [13.26, 224.74, 0], [13.27, 224.79, 0], [13.27, 224.9, 0], [13.27, 224.9, 0], [13.27, 224.91, 0], [13.27, 224.92, 0], [13.27, 224.93, 0], [13.28, 225.02, 0], [13.28, 225.03, 0], [13.28, 225.05, 0], [13.29, 225.05, 0], [13.29, 225.08, 0], [13.29, 225.2, 0], [13.29, 225.2, 0], [13.29, 225.24, 0], [13.29, 225.24, 0], [13.29, 225.25, 0], [13.29, 225.25, 0], [13.29, 225.26, 0], [13.3, 225.32, 0], [13.3, 225.4, 0], [13.3, 225.42, 0], [13.3, 225.51, 0], [13.3, 225.51, 0], [13.3, 225.54, 0], [13.3, 225.55, 0], [13.3, 225.55, 0], [13.3, 225.64, 0], [13.31, 225.64, 0], [13.31, 225.69, 0], [13.31, 225.71, 0], [13.31, 225.73, 0], [13.32, 225.74, 0], [13.32, 225.75, 0], [13.32, 225.77, 0], [13.32, 225.78, 0], [13.32, 225.81, 0], [13.32, 225.84, 0], [13.32, 225.85, 0], [13.32, 225.86, 0], [13.32, 225.98, 0], [13.32, 226.03, 0], [13.32, 226.1, 0], [13.32, 226.1, 0], [13.32, 226.19, 0], [13.32, 226.25, 0], [13.33, 226.32, 0], [13.33, 226.33, 0], [13.33, 226.4, 0], [13.33, 226.52, 0], [13.34, 226.58, 0], [13.34, 226.59, 0], [13.35, 226.68, 0], [13.35, 226.7, 0], [13.35, 226.71, 0], [13.35, 226.73, 0], [13.36, 226.75, 0], [13.36, 226.86, 0], [13.36, 226.86, 0], [13.36, 226.87, 0], [13.36, 226.88, 0], [13.37, 226.9, 0], [13.37, 226.91, 0], [13.37, 226.97, 0], [13.37, 227.0, 0], [13.37, 227.02, 0], [13.37, 227.02, 0], [13.37, 227.14, 0], [13.38, 227.17, 0], [13.38, 227.19, 0], [13.39, 227.21, 0], [13.39, 227.23, 0], [13.39, 227.26, 0], [13.39, 227.28, 0], [13.39, 227.29, 0], [13.39, 227.32, 0], [13.4, 227.34, 0], [13.4, 227.42, 0], [13.4, 227.45, 0], [13.4, 227.45, 0], [13.41, 227.47, 0], [13.41, 227.49, 0], [13.41, 227.53, 0], [13.42, 227.54, 0], [13.42, 227.58, 0], [13.42, 227.65, 0], [13.42, 227.65, 0], [13.43, 227.65, 0], [13.43, 227.72, 0], [13.44, 227.73, 0], [13.44, 227.78, 0], [13.44, 227.86, 0], [13.45, 227.86, 0], [13.45, 227.87, 0], [13.45, 227.89, 0], [13.45, 227.91, 0], [13.45, 227.91, 0], [13.45, 227.98, 0], [13.45, 227.98, 0], [13.45, 228.05, 0], [13.45, 228.07, 0], [13.45, 228.09, 0], [13.45, 228.13, 0], [13.46, 228.13, 0], [13.46, 228.15, 0], [13.46, 228.25, 0], [13.46, 228.26, 0], [13.46, 228.37, 0], [13.46, 228.39, 0], [13.46, 228.39, 0], [13.47, 228.42, 0], [13.47, 228.51, 0], [13.47, 228.54, 0], [13.47, 228.58, 0], [13.47, 228.6, 0], [13.48, 228.6, 0], [13.48, 228.6, 0], [13.49, 228.67, 0], [13.49, 228.68, 0], [13.5, 228.68, 0], [13.5, 228.71, 0], [13.5, 228.72, 0], [13.5, 228.78, 0], [13.5, 228.82, 0], [13.5, 228.82, 0], [13.5, 228.84, 0], [13.5, 228.92, 0], [13.51, 228.94, 0], [13.51, 228.96, 0], [13.51, 228.98, 0], [13.51, 228.99, 0], [13.51, 229.0, 0], [13.51, 229.02, 0], [13.51, 229.05, 0], [13.52, 229.07, 0], [13.53, 229.15, 0], [13.53, 229.31, 0], [13.53, 229.33, 0], [13.53, 229.35, 0], [13.53, 229.39, 0], [13.53, 229.41, 0], [13.54, 229.52, 0], [13.54, 229.54, 0], [13.54, 229.54, 0], [13.55, 229.58, 0], [13.56, 229.58, 0], [13.56, 229.66, 0], [13.56, 229.77, 0], [13.56, 229.83, 0], [13.56, 229.93, 0], [13.56, 229.98, 0], [13.57, 230.03, 0], [13.57, 230.12, 0], [13.57, 230.13, 0], [13.58, 230.2, 0], [13.58, 230.23, 0], [13.58, 230.3, 0], [13.58, 230.31, 0], [13.58, 230.35, 0], [13.58, 230.35, 0], [13.58, 230.4, 0], [13.58, 230.44, 0], [13.58, 230.52, 0], [13.59, 230.53, 0], [13.59, 230.57, 0], [13.6, 230.66, 0], [13.6, 230.68, 0], [13.6, 230.69, 0], [13.61, 230.69, 0], [13.61, 230.73, 0], [13.62, 230.76, 0], [13.62, 230.85, 0], [13.62, 230.89, 0], [13.62, 231.07, 0], [13.63, 231.1, 0], [13.64, 231.11, 0], [13.64, 231.12, 0], [13.65, 231.16, 0], [13.65, 231.23, 0], [13.65, 231.23, 0], [13.65, 231.26, 0], [13.66, 231.3, 0], [13.66, 231.45, 0], [13.66, 231.46, 0], [13.67, 231.47, 0], [13.67, 231.67, 0], [13.67, 231.68, 0], [13.67, 231.71, 0], [13.68, 231.76, 0], [13.69, 231.79, 0], [13.69, 231.81, 0], [13.7, 231.87, 0], [13.7, 231.88, 0], [13.7, 231.96, 0], [13.7, 232.04, 0], [13.7, 232.1, 0], [13.71, 232.12, 0], [13.71, 232.13, 0], [13.72, 232.17, 0], [13.72, 232.2, 0], [13.72, 232.23, 0], [13.73, 232.25, 0], [13.73, 232.28, 0], [13.74, 232.28, 0], [13.74, 232.52, 0], [13.74, 232.52, 0], [13.75, 232.66, 0], [13.75, 232.78, 0], [13.75, 232.88, 0], [13.75, 232.92, 0], [13.76, 232.92, 0], [13.76, 233.07, 0], [13.76, 233.14, 0], [13.77, 233.21, 0], [13.77, 233.34, 0], [13.77, 233.37, 0], [13.77, 233.38, 0], [13.78, 233.44, 0], [13.79, 233.56, 0], [13.79, 233.61, 0], [13.79, 233.7, 0], [13.79, 233.91, 0], [13.79, 233.92, 0], [13.79, 233.92, 0], [13.79, 234.1, 0], [13.81, 234.12, 0], [13.81, 234.15, 0], [13.81, 234.15, 0], [13.82, 234.17, 0], [13.82, 234.2, 0], [13.82, 234.2, 0], [13.83, 234.22, 0], [13.83, 234.32, 0], [13.83, 234.4, 0], [13.83, 234.46, 0], [13.84, 234.52, 0], [13.84, 234.53, 0], [13.84, 234.53, 0], [13.85, 234.62, 0], [13.85, 234.7, 0], [13.85, 234.73, 0], [13.86, 234.8, 0], [13.86, 234.82, 0], [13.86, 234.87, 0], [13.87, 234.88, 0], [13.87, 235.0, 0], [13.87, 235.2, 0], [13.87, 235.22, 0], [13.88, 235.3, 0], [13.89, 235.31, 0], [13.89, 235.46, 0], [13.9, 235.48, 0], [13.91, 235.49, 0], [13.91, 235.77, 0], [13.91, 235.89, 0], [13.92, 235.9, 0], [13.92, 235.91, 0], [13.92, 235.95, 0], [13.92, 235.98, 0], [13.93, 236.09, 0], [13.93, 236.09, 0], [13.94, 236.16, 0], [13.94, 236.22, 0], [13.97, 236.29, 0], [13.98, 236.38, 0], [13.98, 236.42, 0], [13.98, 236.46, 0], [13.99, 236.66, 0], [13.99, 236.84, 0], [13.99, 236.94, 0], [13.99, 237.05, 0], [14.0, 237.05, 0], [14.01, 237.23, 0], [14.03, 237.25, 0], [14.03, 237.42, 0], [14.03, 237.44, 0], [14.03, 237.55, 0], [14.04, 237.57, 0], [14.04, 237.67, 0], [14.05, 237.82, 0], [14.05, 237.87, 0], [14.06, 238.0, 0], [14.06, 238.21, 0], [14.06, 238.28, 0], [14.07, 238.3, 0], [14.07, 238.31, 0], [14.07, 238.36, 0], [14.09, 238.52, 0], [14.09, 238.54, 0], [14.09, 238.57, 0], [14.09, 238.72, 0], [14.09, 238.76, 0], [14.09, 238.78, 0], [14.1, 238.96, 0], [14.11, 239.12, 0], [14.12, 239.22, 0], [14.13, 239.5, 0], [14.13, 239.52, 0], [14.13, 239.67, 0], [14.14, 239.75, 0], [14.16, 239.84, 0], [14.17, 239.93, 0], [14.18, 240.08, 0], [14.19, 240.19, 0], [14.19, 240.23, 0], [14.2, 240.36, 0], [14.2, 240.37, 0], [14.2, 240.44, 0], [14.21, 240.54, 0], [14.22, 240.56, 0], [14.22, 240.65, 0], [14.25, 240.74, 0], [14.26, 240.75, 0], [14.28, 240.77, 0], [14.28, 240.97, 0], [14.29, 240.98, 0], [14.3, 241.02, 0], [14.3, 241.13, 0], [14.31, 241.33, 0], [14.32, 241.55, 0], [14.32, 241.74, 0], [14.32, 241.77, 0], [14.33, 241.89, 0], [14.34, 241.93, 0], [14.34, 242.12, 0], [14.34, 242.13, 0], [14.35, 242.2, 0], [14.35, 242.4, 0], [14.36, 242.45, 0], [14.36, 242.59, 0], [14.36, 242.65, 0], [14.37, 242.67, 0], [14.37, 242.68, 0], [14.38, 242.7, 0], [14.43, 242.79, 0], [14.5, 242.81, 0], [14.5, 242.85, 0], [14.51, 242.96, 0], [14.54, 243.08, 0], [14.56, 243.24, 0], [14.57, 243.59, 0], [14.58, 243.93, 0], [14.59, 243.93, 0], [14.59, 244.06, 0], [14.59, 244.18, 0], [14.61, 244.5, 0], [14.62, 244.59, 0], [14.63, 244.68, 0], [14.63, 244.69, 0], [14.67, 244.78, 0], [14.67, 245.14, 0], [14.71, 245.66, 0], [14.74, 246.21, 0], [14.78, 247.68, 0], [14.83, 247.93, 0], [14.85, 249.05, 0], [14.87, 249.55, 0], [14.88, 249.58, 0], [14.89, 250.22, 0], [14.9, 250.38, 0], [14.91, 250.68, 0], [14.93, 251.41, 0], [14.95, 251.82, 0], [14.96, 252.28, 0], [15.16, 253.64, 0], [15.35, 253.89, 0], [15.41, 254.67, 0], [15.59, 256.5, 0], [15.92, 260.14, 0], [16.45, 261.51, 0]]\n",
            "10000\n"
          ]
        }
      ]
    },
    {
      "cell_type": "code",
      "metadata": {
        "colab": {
          "base_uri": "https://localhost:8080/",
          "height": 424
        },
        "id": "hDYVelv2Nmfp",
        "outputId": "36e5864b-f896-43a9-87ba-edd75c157a7c"
      },
      "source": [
        "data_df = pd.DataFrame(data)\n",
        "data_df.columns = ['diameter', 'weight', 'target']\n",
        "data_df"
      ],
      "execution_count": 9,
      "outputs": [
        {
          "output_type": "execute_result",
          "data": {
            "text/html": [
              "<div>\n",
              "<style scoped>\n",
              "    .dataframe tbody tr th:only-of-type {\n",
              "        vertical-align: middle;\n",
              "    }\n",
              "\n",
              "    .dataframe tbody tr th {\n",
              "        vertical-align: top;\n",
              "    }\n",
              "\n",
              "    .dataframe thead th {\n",
              "        text-align: right;\n",
              "    }\n",
              "</style>\n",
              "<table border=\"1\" class=\"dataframe\">\n",
              "  <thead>\n",
              "    <tr style=\"text-align: right;\">\n",
              "      <th></th>\n",
              "      <th>diameter</th>\n",
              "      <th>weight</th>\n",
              "      <th>target</th>\n",
              "    </tr>\n",
              "  </thead>\n",
              "  <tbody>\n",
              "    <tr>\n",
              "      <th>0</th>\n",
              "      <td>2.96</td>\n",
              "      <td>86.76</td>\n",
              "      <td>1</td>\n",
              "    </tr>\n",
              "    <tr>\n",
              "      <th>1</th>\n",
              "      <td>3.91</td>\n",
              "      <td>88.05</td>\n",
              "      <td>1</td>\n",
              "    </tr>\n",
              "    <tr>\n",
              "      <th>2</th>\n",
              "      <td>4.42</td>\n",
              "      <td>95.17</td>\n",
              "      <td>1</td>\n",
              "    </tr>\n",
              "    <tr>\n",
              "      <th>3</th>\n",
              "      <td>4.47</td>\n",
              "      <td>95.60</td>\n",
              "      <td>1</td>\n",
              "    </tr>\n",
              "    <tr>\n",
              "      <th>4</th>\n",
              "      <td>4.48</td>\n",
              "      <td>95.76</td>\n",
              "      <td>1</td>\n",
              "    </tr>\n",
              "    <tr>\n",
              "      <th>...</th>\n",
              "      <td>...</td>\n",
              "      <td>...</td>\n",
              "      <td>...</td>\n",
              "    </tr>\n",
              "    <tr>\n",
              "      <th>9995</th>\n",
              "      <td>15.35</td>\n",
              "      <td>253.89</td>\n",
              "      <td>0</td>\n",
              "    </tr>\n",
              "    <tr>\n",
              "      <th>9996</th>\n",
              "      <td>15.41</td>\n",
              "      <td>254.67</td>\n",
              "      <td>0</td>\n",
              "    </tr>\n",
              "    <tr>\n",
              "      <th>9997</th>\n",
              "      <td>15.59</td>\n",
              "      <td>256.50</td>\n",
              "      <td>0</td>\n",
              "    </tr>\n",
              "    <tr>\n",
              "      <th>9998</th>\n",
              "      <td>15.92</td>\n",
              "      <td>260.14</td>\n",
              "      <td>0</td>\n",
              "    </tr>\n",
              "    <tr>\n",
              "      <th>9999</th>\n",
              "      <td>16.45</td>\n",
              "      <td>261.51</td>\n",
              "      <td>0</td>\n",
              "    </tr>\n",
              "  </tbody>\n",
              "</table>\n",
              "<p>10000 rows × 3 columns</p>\n",
              "</div>"
            ],
            "text/plain": [
              "      diameter  weight  target\n",
              "0         2.96   86.76       1\n",
              "1         3.91   88.05       1\n",
              "2         4.42   95.17       1\n",
              "3         4.47   95.60       1\n",
              "4         4.48   95.76       1\n",
              "...        ...     ...     ...\n",
              "9995     15.35  253.89       0\n",
              "9996     15.41  254.67       0\n",
              "9997     15.59  256.50       0\n",
              "9998     15.92  260.14       0\n",
              "9999     16.45  261.51       0\n",
              "\n",
              "[10000 rows x 3 columns]"
            ]
          },
          "metadata": {},
          "execution_count": 9
        }
      ]
    },
    {
      "cell_type": "markdown",
      "metadata": {
        "id": "Lt5YqDbQNDtl"
      },
      "source": [
        "랜덤 인덱스 생성"
      ]
    },
    {
      "cell_type": "code",
      "metadata": {
        "colab": {
          "base_uri": "https://localhost:8080/"
        },
        "id": "HGojl2YlMJMF",
        "outputId": "c4730fc6-d2f9-4136-94e6-4eb81bc42294"
      },
      "source": [
        "a = np.arange(10000)\n",
        "np.random.shuffle(a)\n",
        "print(a)"
      ],
      "execution_count": 10,
      "outputs": [
        {
          "output_type": "stream",
          "name": "stdout",
          "text": [
            "[5635 1267 5416 ... 9892  592 9737]\n"
          ]
        }
      ]
    },
    {
      "cell_type": "code",
      "metadata": {
        "colab": {
          "base_uri": "https://localhost:8080/",
          "height": 424
        },
        "id": "hLxB6ueLMJOl",
        "outputId": "8c6bd02e-84e0-4b75-c0fc-e89fd97eca6e"
      },
      "source": [
        "data_df_ran = data_df.iloc[a]\n",
        "data_df_ran"
      ],
      "execution_count": 11,
      "outputs": [
        {
          "output_type": "execute_result",
          "data": {
            "text/html": [
              "<div>\n",
              "<style scoped>\n",
              "    .dataframe tbody tr th:only-of-type {\n",
              "        vertical-align: middle;\n",
              "    }\n",
              "\n",
              "    .dataframe tbody tr th {\n",
              "        vertical-align: top;\n",
              "    }\n",
              "\n",
              "    .dataframe thead th {\n",
              "        text-align: right;\n",
              "    }\n",
              "</style>\n",
              "<table border=\"1\" class=\"dataframe\">\n",
              "  <thead>\n",
              "    <tr style=\"text-align: right;\">\n",
              "      <th></th>\n",
              "      <th>diameter</th>\n",
              "      <th>weight</th>\n",
              "      <th>target</th>\n",
              "    </tr>\n",
              "  </thead>\n",
              "  <tbody>\n",
              "    <tr>\n",
              "      <th>5635</th>\n",
              "      <td>10.05</td>\n",
              "      <td>175.13</td>\n",
              "      <td>0</td>\n",
              "    </tr>\n",
              "    <tr>\n",
              "      <th>1267</th>\n",
              "      <td>7.67</td>\n",
              "      <td>140.32</td>\n",
              "      <td>1</td>\n",
              "    </tr>\n",
              "    <tr>\n",
              "      <th>5416</th>\n",
              "      <td>9.77</td>\n",
              "      <td>170.69</td>\n",
              "      <td>0</td>\n",
              "    </tr>\n",
              "    <tr>\n",
              "      <th>3663</th>\n",
              "      <td>9.24</td>\n",
              "      <td>164.36</td>\n",
              "      <td>1</td>\n",
              "    </tr>\n",
              "    <tr>\n",
              "      <th>853</th>\n",
              "      <td>7.28</td>\n",
              "      <td>134.93</td>\n",
              "      <td>1</td>\n",
              "    </tr>\n",
              "    <tr>\n",
              "      <th>...</th>\n",
              "      <td>...</td>\n",
              "      <td>...</td>\n",
              "      <td>...</td>\n",
              "    </tr>\n",
              "    <tr>\n",
              "      <th>3728</th>\n",
              "      <td>9.29</td>\n",
              "      <td>165.16</td>\n",
              "      <td>1</td>\n",
              "    </tr>\n",
              "    <tr>\n",
              "      <th>1077</th>\n",
              "      <td>7.51</td>\n",
              "      <td>138.18</td>\n",
              "      <td>1</td>\n",
              "    </tr>\n",
              "    <tr>\n",
              "      <th>9892</th>\n",
              "      <td>13.94</td>\n",
              "      <td>236.22</td>\n",
              "      <td>0</td>\n",
              "    </tr>\n",
              "    <tr>\n",
              "      <th>592</th>\n",
              "      <td>6.99</td>\n",
              "      <td>131.19</td>\n",
              "      <td>1</td>\n",
              "    </tr>\n",
              "    <tr>\n",
              "      <th>9737</th>\n",
              "      <td>13.46</td>\n",
              "      <td>228.37</td>\n",
              "      <td>0</td>\n",
              "    </tr>\n",
              "  </tbody>\n",
              "</table>\n",
              "<p>10000 rows × 3 columns</p>\n",
              "</div>"
            ],
            "text/plain": [
              "      diameter  weight  target\n",
              "5635     10.05  175.13       0\n",
              "1267      7.67  140.32       1\n",
              "5416      9.77  170.69       0\n",
              "3663      9.24  164.36       1\n",
              "853       7.28  134.93       1\n",
              "...        ...     ...     ...\n",
              "3728      9.29  165.16       1\n",
              "1077      7.51  138.18       1\n",
              "9892     13.94  236.22       0\n",
              "592       6.99  131.19       1\n",
              "9737     13.46  228.37       0\n",
              "\n",
              "[10000 rows x 3 columns]"
            ]
          },
          "metadata": {},
          "execution_count": 11
        }
      ]
    },
    {
      "cell_type": "markdown",
      "metadata": {
        "id": "I43mYjnISl29"
      },
      "source": [
        "train / test 데이터 나눠주기"
      ]
    },
    {
      "cell_type": "code",
      "metadata": {
        "colab": {
          "base_uri": "https://localhost:8080/",
          "height": 515
        },
        "id": "AKJq7AyDMJRE",
        "outputId": "1fa8c9a5-ce25-49ef-ccd3-06c0096e2ebc"
      },
      "source": [
        "train_input = data_df_ran.iloc[:int(len(data_df)*0.8)]\n",
        "train_input.drop(columns = ['target'], inplace = True)\n",
        "train_input"
      ],
      "execution_count": 12,
      "outputs": [
        {
          "output_type": "stream",
          "name": "stderr",
          "text": [
            "/usr/local/lib/python3.7/dist-packages/pandas/core/frame.py:4174: SettingWithCopyWarning: \n",
            "A value is trying to be set on a copy of a slice from a DataFrame\n",
            "\n",
            "See the caveats in the documentation: https://pandas.pydata.org/pandas-docs/stable/user_guide/indexing.html#returning-a-view-versus-a-copy\n",
            "  errors=errors,\n"
          ]
        },
        {
          "output_type": "execute_result",
          "data": {
            "text/html": [
              "<div>\n",
              "<style scoped>\n",
              "    .dataframe tbody tr th:only-of-type {\n",
              "        vertical-align: middle;\n",
              "    }\n",
              "\n",
              "    .dataframe tbody tr th {\n",
              "        vertical-align: top;\n",
              "    }\n",
              "\n",
              "    .dataframe thead th {\n",
              "        text-align: right;\n",
              "    }\n",
              "</style>\n",
              "<table border=\"1\" class=\"dataframe\">\n",
              "  <thead>\n",
              "    <tr style=\"text-align: right;\">\n",
              "      <th></th>\n",
              "      <th>diameter</th>\n",
              "      <th>weight</th>\n",
              "    </tr>\n",
              "  </thead>\n",
              "  <tbody>\n",
              "    <tr>\n",
              "      <th>5635</th>\n",
              "      <td>10.05</td>\n",
              "      <td>175.13</td>\n",
              "    </tr>\n",
              "    <tr>\n",
              "      <th>1267</th>\n",
              "      <td>7.67</td>\n",
              "      <td>140.32</td>\n",
              "    </tr>\n",
              "    <tr>\n",
              "      <th>5416</th>\n",
              "      <td>9.77</td>\n",
              "      <td>170.69</td>\n",
              "    </tr>\n",
              "    <tr>\n",
              "      <th>3663</th>\n",
              "      <td>9.24</td>\n",
              "      <td>164.36</td>\n",
              "    </tr>\n",
              "    <tr>\n",
              "      <th>853</th>\n",
              "      <td>7.28</td>\n",
              "      <td>134.93</td>\n",
              "    </tr>\n",
              "    <tr>\n",
              "      <th>...</th>\n",
              "      <td>...</td>\n",
              "      <td>...</td>\n",
              "    </tr>\n",
              "    <tr>\n",
              "      <th>5970</th>\n",
              "      <td>10.42</td>\n",
              "      <td>180.60</td>\n",
              "    </tr>\n",
              "    <tr>\n",
              "      <th>8105</th>\n",
              "      <td>11.85</td>\n",
              "      <td>203.50</td>\n",
              "    </tr>\n",
              "    <tr>\n",
              "      <th>4860</th>\n",
              "      <td>10.91</td>\n",
              "      <td>188.03</td>\n",
              "    </tr>\n",
              "    <tr>\n",
              "      <th>3122</th>\n",
              "      <td>8.87</td>\n",
              "      <td>158.68</td>\n",
              "    </tr>\n",
              "    <tr>\n",
              "      <th>2402</th>\n",
              "      <td>8.42</td>\n",
              "      <td>151.79</td>\n",
              "    </tr>\n",
              "  </tbody>\n",
              "</table>\n",
              "<p>8000 rows × 2 columns</p>\n",
              "</div>"
            ],
            "text/plain": [
              "      diameter  weight\n",
              "5635     10.05  175.13\n",
              "1267      7.67  140.32\n",
              "5416      9.77  170.69\n",
              "3663      9.24  164.36\n",
              "853       7.28  134.93\n",
              "...        ...     ...\n",
              "5970     10.42  180.60\n",
              "8105     11.85  203.50\n",
              "4860     10.91  188.03\n",
              "3122      8.87  158.68\n",
              "2402      8.42  151.79\n",
              "\n",
              "[8000 rows x 2 columns]"
            ]
          },
          "metadata": {},
          "execution_count": 12
        }
      ]
    },
    {
      "cell_type": "code",
      "metadata": {
        "colab": {
          "base_uri": "https://localhost:8080/",
          "height": 515
        },
        "id": "xcuMs_JcMJTk",
        "outputId": "12b6a9ce-3ac7-46cc-f1a0-786d53661c59"
      },
      "source": [
        "train_target = data_df_ran.iloc[:int(len(data_df)*0.8)]\n",
        "train_target.drop(columns = ['diameter', 'weight'], inplace = True)\n",
        "train_target"
      ],
      "execution_count": 13,
      "outputs": [
        {
          "output_type": "stream",
          "name": "stderr",
          "text": [
            "/usr/local/lib/python3.7/dist-packages/pandas/core/frame.py:4174: SettingWithCopyWarning: \n",
            "A value is trying to be set on a copy of a slice from a DataFrame\n",
            "\n",
            "See the caveats in the documentation: https://pandas.pydata.org/pandas-docs/stable/user_guide/indexing.html#returning-a-view-versus-a-copy\n",
            "  errors=errors,\n"
          ]
        },
        {
          "output_type": "execute_result",
          "data": {
            "text/html": [
              "<div>\n",
              "<style scoped>\n",
              "    .dataframe tbody tr th:only-of-type {\n",
              "        vertical-align: middle;\n",
              "    }\n",
              "\n",
              "    .dataframe tbody tr th {\n",
              "        vertical-align: top;\n",
              "    }\n",
              "\n",
              "    .dataframe thead th {\n",
              "        text-align: right;\n",
              "    }\n",
              "</style>\n",
              "<table border=\"1\" class=\"dataframe\">\n",
              "  <thead>\n",
              "    <tr style=\"text-align: right;\">\n",
              "      <th></th>\n",
              "      <th>target</th>\n",
              "    </tr>\n",
              "  </thead>\n",
              "  <tbody>\n",
              "    <tr>\n",
              "      <th>5635</th>\n",
              "      <td>0</td>\n",
              "    </tr>\n",
              "    <tr>\n",
              "      <th>1267</th>\n",
              "      <td>1</td>\n",
              "    </tr>\n",
              "    <tr>\n",
              "      <th>5416</th>\n",
              "      <td>0</td>\n",
              "    </tr>\n",
              "    <tr>\n",
              "      <th>3663</th>\n",
              "      <td>1</td>\n",
              "    </tr>\n",
              "    <tr>\n",
              "      <th>853</th>\n",
              "      <td>1</td>\n",
              "    </tr>\n",
              "    <tr>\n",
              "      <th>...</th>\n",
              "      <td>...</td>\n",
              "    </tr>\n",
              "    <tr>\n",
              "      <th>5970</th>\n",
              "      <td>0</td>\n",
              "    </tr>\n",
              "    <tr>\n",
              "      <th>8105</th>\n",
              "      <td>0</td>\n",
              "    </tr>\n",
              "    <tr>\n",
              "      <th>4860</th>\n",
              "      <td>1</td>\n",
              "    </tr>\n",
              "    <tr>\n",
              "      <th>3122</th>\n",
              "      <td>1</td>\n",
              "    </tr>\n",
              "    <tr>\n",
              "      <th>2402</th>\n",
              "      <td>1</td>\n",
              "    </tr>\n",
              "  </tbody>\n",
              "</table>\n",
              "<p>8000 rows × 1 columns</p>\n",
              "</div>"
            ],
            "text/plain": [
              "      target\n",
              "5635       0\n",
              "1267       1\n",
              "5416       0\n",
              "3663       1\n",
              "853        1\n",
              "...      ...\n",
              "5970       0\n",
              "8105       0\n",
              "4860       1\n",
              "3122       1\n",
              "2402       1\n",
              "\n",
              "[8000 rows x 1 columns]"
            ]
          },
          "metadata": {},
          "execution_count": 13
        }
      ]
    },
    {
      "cell_type": "code",
      "metadata": {
        "colab": {
          "base_uri": "https://localhost:8080/",
          "height": 515
        },
        "id": "OC5pCNuQMJWE",
        "outputId": "03407008-e50d-4fad-de9a-06f31892b036"
      },
      "source": [
        "test_input = data_df_ran.iloc[int(len(data_df)*0.8):]\n",
        "test_input.drop(columns = ['target'], inplace = True)\n",
        "test_input"
      ],
      "execution_count": 14,
      "outputs": [
        {
          "output_type": "stream",
          "name": "stderr",
          "text": [
            "/usr/local/lib/python3.7/dist-packages/pandas/core/frame.py:4174: SettingWithCopyWarning: \n",
            "A value is trying to be set on a copy of a slice from a DataFrame\n",
            "\n",
            "See the caveats in the documentation: https://pandas.pydata.org/pandas-docs/stable/user_guide/indexing.html#returning-a-view-versus-a-copy\n",
            "  errors=errors,\n"
          ]
        },
        {
          "output_type": "execute_result",
          "data": {
            "text/html": [
              "<div>\n",
              "<style scoped>\n",
              "    .dataframe tbody tr th:only-of-type {\n",
              "        vertical-align: middle;\n",
              "    }\n",
              "\n",
              "    .dataframe tbody tr th {\n",
              "        vertical-align: top;\n",
              "    }\n",
              "\n",
              "    .dataframe thead th {\n",
              "        text-align: right;\n",
              "    }\n",
              "</style>\n",
              "<table border=\"1\" class=\"dataframe\">\n",
              "  <thead>\n",
              "    <tr style=\"text-align: right;\">\n",
              "      <th></th>\n",
              "      <th>diameter</th>\n",
              "      <th>weight</th>\n",
              "    </tr>\n",
              "  </thead>\n",
              "  <tbody>\n",
              "    <tr>\n",
              "      <th>3179</th>\n",
              "      <td>8.90</td>\n",
              "      <td>159.25</td>\n",
              "    </tr>\n",
              "    <tr>\n",
              "      <th>2251</th>\n",
              "      <td>8.33</td>\n",
              "      <td>150.29</td>\n",
              "    </tr>\n",
              "    <tr>\n",
              "      <th>3736</th>\n",
              "      <td>9.29</td>\n",
              "      <td>165.24</td>\n",
              "    </tr>\n",
              "    <tr>\n",
              "      <th>8288</th>\n",
              "      <td>11.97</td>\n",
              "      <td>205.27</td>\n",
              "    </tr>\n",
              "    <tr>\n",
              "      <th>1423</th>\n",
              "      <td>7.78</td>\n",
              "      <td>142.01</td>\n",
              "    </tr>\n",
              "    <tr>\n",
              "      <th>...</th>\n",
              "      <td>...</td>\n",
              "      <td>...</td>\n",
              "    </tr>\n",
              "    <tr>\n",
              "      <th>3728</th>\n",
              "      <td>9.29</td>\n",
              "      <td>165.16</td>\n",
              "    </tr>\n",
              "    <tr>\n",
              "      <th>1077</th>\n",
              "      <td>7.51</td>\n",
              "      <td>138.18</td>\n",
              "    </tr>\n",
              "    <tr>\n",
              "      <th>9892</th>\n",
              "      <td>13.94</td>\n",
              "      <td>236.22</td>\n",
              "    </tr>\n",
              "    <tr>\n",
              "      <th>592</th>\n",
              "      <td>6.99</td>\n",
              "      <td>131.19</td>\n",
              "    </tr>\n",
              "    <tr>\n",
              "      <th>9737</th>\n",
              "      <td>13.46</td>\n",
              "      <td>228.37</td>\n",
              "    </tr>\n",
              "  </tbody>\n",
              "</table>\n",
              "<p>2000 rows × 2 columns</p>\n",
              "</div>"
            ],
            "text/plain": [
              "      diameter  weight\n",
              "3179      8.90  159.25\n",
              "2251      8.33  150.29\n",
              "3736      9.29  165.24\n",
              "8288     11.97  205.27\n",
              "1423      7.78  142.01\n",
              "...        ...     ...\n",
              "3728      9.29  165.16\n",
              "1077      7.51  138.18\n",
              "9892     13.94  236.22\n",
              "592       6.99  131.19\n",
              "9737     13.46  228.37\n",
              "\n",
              "[2000 rows x 2 columns]"
            ]
          },
          "metadata": {},
          "execution_count": 14
        }
      ]
    },
    {
      "cell_type": "code",
      "metadata": {
        "colab": {
          "base_uri": "https://localhost:8080/",
          "height": 515
        },
        "id": "1FNaUBwIMJYk",
        "outputId": "dfec9927-d894-43b1-fb1a-7129e9de91b6"
      },
      "source": [
        "test_target = data_df_ran.iloc[int(len(data_df)*0.8):]\n",
        "test_target.drop(columns = ['diameter', 'weight'], inplace = True)\n",
        "test_target"
      ],
      "execution_count": 15,
      "outputs": [
        {
          "output_type": "stream",
          "name": "stderr",
          "text": [
            "/usr/local/lib/python3.7/dist-packages/pandas/core/frame.py:4174: SettingWithCopyWarning: \n",
            "A value is trying to be set on a copy of a slice from a DataFrame\n",
            "\n",
            "See the caveats in the documentation: https://pandas.pydata.org/pandas-docs/stable/user_guide/indexing.html#returning-a-view-versus-a-copy\n",
            "  errors=errors,\n"
          ]
        },
        {
          "output_type": "execute_result",
          "data": {
            "text/html": [
              "<div>\n",
              "<style scoped>\n",
              "    .dataframe tbody tr th:only-of-type {\n",
              "        vertical-align: middle;\n",
              "    }\n",
              "\n",
              "    .dataframe tbody tr th {\n",
              "        vertical-align: top;\n",
              "    }\n",
              "\n",
              "    .dataframe thead th {\n",
              "        text-align: right;\n",
              "    }\n",
              "</style>\n",
              "<table border=\"1\" class=\"dataframe\">\n",
              "  <thead>\n",
              "    <tr style=\"text-align: right;\">\n",
              "      <th></th>\n",
              "      <th>target</th>\n",
              "    </tr>\n",
              "  </thead>\n",
              "  <tbody>\n",
              "    <tr>\n",
              "      <th>3179</th>\n",
              "      <td>1</td>\n",
              "    </tr>\n",
              "    <tr>\n",
              "      <th>2251</th>\n",
              "      <td>1</td>\n",
              "    </tr>\n",
              "    <tr>\n",
              "      <th>3736</th>\n",
              "      <td>1</td>\n",
              "    </tr>\n",
              "    <tr>\n",
              "      <th>8288</th>\n",
              "      <td>0</td>\n",
              "    </tr>\n",
              "    <tr>\n",
              "      <th>1423</th>\n",
              "      <td>1</td>\n",
              "    </tr>\n",
              "    <tr>\n",
              "      <th>...</th>\n",
              "      <td>...</td>\n",
              "    </tr>\n",
              "    <tr>\n",
              "      <th>3728</th>\n",
              "      <td>1</td>\n",
              "    </tr>\n",
              "    <tr>\n",
              "      <th>1077</th>\n",
              "      <td>1</td>\n",
              "    </tr>\n",
              "    <tr>\n",
              "      <th>9892</th>\n",
              "      <td>0</td>\n",
              "    </tr>\n",
              "    <tr>\n",
              "      <th>592</th>\n",
              "      <td>1</td>\n",
              "    </tr>\n",
              "    <tr>\n",
              "      <th>9737</th>\n",
              "      <td>0</td>\n",
              "    </tr>\n",
              "  </tbody>\n",
              "</table>\n",
              "<p>2000 rows × 1 columns</p>\n",
              "</div>"
            ],
            "text/plain": [
              "      target\n",
              "3179       1\n",
              "2251       1\n",
              "3736       1\n",
              "8288       0\n",
              "1423       1\n",
              "...      ...\n",
              "3728       1\n",
              "1077       1\n",
              "9892       0\n",
              "592        1\n",
              "9737       0\n",
              "\n",
              "[2000 rows x 1 columns]"
            ]
          },
          "metadata": {},
          "execution_count": 15
        }
      ]
    },
    {
      "cell_type": "markdown",
      "metadata": {
        "id": "9MlZRk3XSt9R"
      },
      "source": [
        "모델링"
      ]
    },
    {
      "cell_type": "code",
      "metadata": {
        "colab": {
          "base_uri": "https://localhost:8080/"
        },
        "id": "cbKBeRe3MJa2",
        "outputId": "39f7c4a9-98fd-4eec-9833-36710ce826bb"
      },
      "source": [
        "kn.fit(train_input, train_target)"
      ],
      "execution_count": 16,
      "outputs": [
        {
          "output_type": "stream",
          "name": "stderr",
          "text": [
            "/usr/local/lib/python3.7/dist-packages/sklearn/neighbors/_classification.py:198: DataConversionWarning: A column-vector y was passed when a 1d array was expected. Please change the shape of y to (n_samples,), for example using ravel().\n",
            "  return self._fit(X, y)\n"
          ]
        },
        {
          "output_type": "execute_result",
          "data": {
            "text/plain": [
              "KNeighborsClassifier()"
            ]
          },
          "metadata": {},
          "execution_count": 16
        }
      ]
    },
    {
      "cell_type": "markdown",
      "metadata": {
        "id": "keAmzup7SxKR"
      },
      "source": [
        "정확도"
      ]
    },
    {
      "cell_type": "code",
      "metadata": {
        "colab": {
          "base_uri": "https://localhost:8080/"
        },
        "id": "Qp5A4OuuPtwv",
        "outputId": "5c9050b0-2ac5-40c7-8824-a7d46c940783"
      },
      "source": [
        "kn.score(test_input, test_target)"
      ],
      "execution_count": 17,
      "outputs": [
        {
          "output_type": "execute_result",
          "data": {
            "text/plain": [
              "0.9705"
            ]
          },
          "metadata": {},
          "execution_count": 17
        }
      ]
    },
    {
      "cell_type": "markdown",
      "metadata": {
        "id": "NkhHwDyzSzdN"
      },
      "source": [
        "산점도"
      ]
    },
    {
      "cell_type": "code",
      "metadata": {
        "colab": {
          "base_uri": "https://localhost:8080/",
          "height": 279
        },
        "id": "qgTs4xOZPtzK",
        "outputId": "5cff15f1-6a68-4fe7-a6b1-87d61b4d0940"
      },
      "source": [
        "plt.scatter(train_input.diameter, train_input.weight)\n",
        "plt.scatter(test_input.diameter, test_input.weight)\n",
        "plt.xlabel('diameter')\n",
        "plt.ylabel('weight')\n",
        "plt.show()"
      ],
      "execution_count": 18,
      "outputs": [
        {
          "output_type": "display_data",
          "data": {
            "image/png": "[encoded data removed]",
            "text/plain": [
              "<Figure size 432x288 with 1 Axes>"
            ]
          },
          "metadata": {
            "needs_background": "light"
          }
        }
      ]
    },
    {
      "cell_type": "markdown",
      "metadata": {
        "id": "1RffIRb3QkUv"
      },
      "source": [
        "# 스케일링 (정규화)"
      ]
    },
    {
      "cell_type": "code",
      "metadata": {
        "colab": {
          "base_uri": "https://localhost:8080/"
        },
        "id": "I2RdxEHyPt3o",
        "outputId": "d8121a54-8372-48b2-832d-dcd2276d0607"
      },
      "source": [
        "mean = train_input.mean()\n",
        "std = train_input.std()\n",
        "print(mean,std)"
      ],
      "execution_count": 19,
      "outputs": [
        {
          "output_type": "stream",
          "name": "stdout",
          "text": [
            "diameter      9.971378\n",
            "weight      174.981880\n",
            "dtype: float64 diameter     1.947733\n",
            "weight      29.208019\n",
            "dtype: float64\n"
          ]
        }
      ]
    },
    {
      "cell_type": "code",
      "metadata": {
        "colab": {
          "base_uri": "https://localhost:8080/",
          "height": 424
        },
        "id": "wVjPIZNGPt56",
        "outputId": "93b90bf7-c448-4321-baa5-c00868c0acf9"
      },
      "source": [
        "train_input = (train_input - mean) / std\n",
        "train_input"
      ],
      "execution_count": 20,
      "outputs": [
        {
          "output_type": "execute_result",
          "data": {
            "text/html": [
              "<div>\n",
              "<style scoped>\n",
              "    .dataframe tbody tr th:only-of-type {\n",
              "        vertical-align: middle;\n",
              "    }\n",
              "\n",
              "    .dataframe tbody tr th {\n",
              "        vertical-align: top;\n",
              "    }\n",
              "\n",
              "    .dataframe thead th {\n",
              "        text-align: right;\n",
              "    }\n",
              "</style>\n",
              "<table border=\"1\" class=\"dataframe\">\n",
              "  <thead>\n",
              "    <tr style=\"text-align: right;\">\n",
              "      <th></th>\n",
              "      <th>diameter</th>\n",
              "      <th>weight</th>\n",
              "    </tr>\n",
              "  </thead>\n",
              "  <tbody>\n",
              "    <tr>\n",
              "      <th>5635</th>\n",
              "      <td>0.040366</td>\n",
              "      <td>0.005071</td>\n",
              "    </tr>\n",
              "    <tr>\n",
              "      <th>1267</th>\n",
              "      <td>-1.181567</td>\n",
              "      <td>-1.186725</td>\n",
              "    </tr>\n",
              "    <tr>\n",
              "      <th>5416</th>\n",
              "      <td>-0.103391</td>\n",
              "      <td>-0.146942</td>\n",
              "    </tr>\n",
              "    <tr>\n",
              "      <th>3663</th>\n",
              "      <td>-0.375502</td>\n",
              "      <td>-0.363663</td>\n",
              "    </tr>\n",
              "    <tr>\n",
              "      <th>853</th>\n",
              "      <td>-1.381800</td>\n",
              "      <td>-1.371263</td>\n",
              "    </tr>\n",
              "    <tr>\n",
              "      <th>...</th>\n",
              "      <td>...</td>\n",
              "      <td>...</td>\n",
              "    </tr>\n",
              "    <tr>\n",
              "      <th>5970</th>\n",
              "      <td>0.230331</td>\n",
              "      <td>0.192349</td>\n",
              "    </tr>\n",
              "    <tr>\n",
              "      <th>8105</th>\n",
              "      <td>0.964517</td>\n",
              "      <td>0.976380</td>\n",
              "    </tr>\n",
              "    <tr>\n",
              "      <th>4860</th>\n",
              "      <td>0.481905</td>\n",
              "      <td>0.446731</td>\n",
              "    </tr>\n",
              "    <tr>\n",
              "      <th>3122</th>\n",
              "      <td>-0.565466</td>\n",
              "      <td>-0.558130</td>\n",
              "    </tr>\n",
              "    <tr>\n",
              "      <th>2402</th>\n",
              "      <td>-0.796504</td>\n",
              "      <td>-0.794024</td>\n",
              "    </tr>\n",
              "  </tbody>\n",
              "</table>\n",
              "<p>8000 rows × 2 columns</p>\n",
              "</div>"
            ],
            "text/plain": [
              "      diameter    weight\n",
              "5635  0.040366  0.005071\n",
              "1267 -1.181567 -1.186725\n",
              "5416 -0.103391 -0.146942\n",
              "3663 -0.375502 -0.363663\n",
              "853  -1.381800 -1.371263\n",
              "...        ...       ...\n",
              "5970  0.230331  0.192349\n",
              "8105  0.964517  0.976380\n",
              "4860  0.481905  0.446731\n",
              "3122 -0.565466 -0.558130\n",
              "2402 -0.796504 -0.794024\n",
              "\n",
              "[8000 rows x 2 columns]"
            ]
          },
          "metadata": {},
          "execution_count": 20
        }
      ]
    },
    {
      "cell_type": "code",
      "metadata": {
        "colab": {
          "base_uri": "https://localhost:8080/",
          "height": 424
        },
        "id": "_p-CCDbqPt8J",
        "outputId": "002f7c0f-a4a3-4cd5-943d-184575a8d37a"
      },
      "source": [
        "test_input = (test_input - mean) / std\n",
        "test_input"
      ],
      "execution_count": 21,
      "outputs": [
        {
          "output_type": "execute_result",
          "data": {
            "text/html": [
              "<div>\n",
              "<style scoped>\n",
              "    .dataframe tbody tr th:only-of-type {\n",
              "        vertical-align: middle;\n",
              "    }\n",
              "\n",
              "    .dataframe tbody tr th {\n",
              "        vertical-align: top;\n",
              "    }\n",
              "\n",
              "    .dataframe thead th {\n",
              "        text-align: right;\n",
              "    }\n",
              "</style>\n",
              "<table border=\"1\" class=\"dataframe\">\n",
              "  <thead>\n",
              "    <tr style=\"text-align: right;\">\n",
              "      <th></th>\n",
              "      <th>diameter</th>\n",
              "      <th>weight</th>\n",
              "    </tr>\n",
              "  </thead>\n",
              "  <tbody>\n",
              "    <tr>\n",
              "      <th>3179</th>\n",
              "      <td>-0.550064</td>\n",
              "      <td>-0.538615</td>\n",
              "    </tr>\n",
              "    <tr>\n",
              "      <th>2251</th>\n",
              "      <td>-0.842712</td>\n",
              "      <td>-0.845380</td>\n",
              "    </tr>\n",
              "    <tr>\n",
              "      <th>3736</th>\n",
              "      <td>-0.349831</td>\n",
              "      <td>-0.333534</td>\n",
              "    </tr>\n",
              "    <tr>\n",
              "      <th>8288</th>\n",
              "      <td>1.026127</td>\n",
              "      <td>1.036980</td>\n",
              "    </tr>\n",
              "    <tr>\n",
              "      <th>1423</th>\n",
              "      <td>-1.125091</td>\n",
              "      <td>-1.128864</td>\n",
              "    </tr>\n",
              "    <tr>\n",
              "      <th>...</th>\n",
              "      <td>...</td>\n",
              "      <td>...</td>\n",
              "    </tr>\n",
              "    <tr>\n",
              "      <th>3728</th>\n",
              "      <td>-0.349831</td>\n",
              "      <td>-0.336273</td>\n",
              "    </tr>\n",
              "    <tr>\n",
              "      <th>1077</th>\n",
              "      <td>-1.263714</td>\n",
              "      <td>-1.259992</td>\n",
              "    </tr>\n",
              "    <tr>\n",
              "      <th>9892</th>\n",
              "      <td>2.037559</td>\n",
              "      <td>2.096620</td>\n",
              "    </tr>\n",
              "    <tr>\n",
              "      <th>592</th>\n",
              "      <td>-1.530691</td>\n",
              "      <td>-1.499310</td>\n",
              "    </tr>\n",
              "    <tr>\n",
              "      <th>9737</th>\n",
              "      <td>1.791119</td>\n",
              "      <td>1.827858</td>\n",
              "    </tr>\n",
              "  </tbody>\n",
              "</table>\n",
              "<p>2000 rows × 2 columns</p>\n",
              "</div>"
            ],
            "text/plain": [
              "      diameter    weight\n",
              "3179 -0.550064 -0.538615\n",
              "2251 -0.842712 -0.845380\n",
              "3736 -0.349831 -0.333534\n",
              "8288  1.026127  1.036980\n",
              "1423 -1.125091 -1.128864\n",
              "...        ...       ...\n",
              "3728 -0.349831 -0.336273\n",
              "1077 -1.263714 -1.259992\n",
              "9892  2.037559  2.096620\n",
              "592  -1.530691 -1.499310\n",
              "9737  1.791119  1.827858\n",
              "\n",
              "[2000 rows x 2 columns]"
            ]
          },
          "metadata": {},
          "execution_count": 21
        }
      ]
    },
    {
      "cell_type": "code",
      "metadata": {
        "colab": {
          "base_uri": "https://localhost:8080/"
        },
        "id": "q9y0VOksSBle",
        "outputId": "7418563a-eefd-4577-b7dd-43f87e49b6ab"
      },
      "source": [
        "kn.fit(train_input, train_target)"
      ],
      "execution_count": 22,
      "outputs": [
        {
          "output_type": "stream",
          "name": "stderr",
          "text": [
            "/usr/local/lib/python3.7/dist-packages/sklearn/neighbors/_classification.py:198: DataConversionWarning: A column-vector y was passed when a 1d array was expected. Please change the shape of y to (n_samples,), for example using ravel().\n",
            "  return self._fit(X, y)\n"
          ]
        },
        {
          "output_type": "execute_result",
          "data": {
            "text/plain": [
              "KNeighborsClassifier()"
            ]
          },
          "metadata": {},
          "execution_count": 22
        }
      ]
    },
    {
      "cell_type": "code",
      "metadata": {
        "colab": {
          "base_uri": "https://localhost:8080/"
        },
        "id": "AGEp-YKFSBzM",
        "outputId": "2a8c8d7d-f0e3-4bae-ffa8-f3e1e1f010ee"
      },
      "source": [
        "kn.score(test_input, test_target)"
      ],
      "execution_count": 23,
      "outputs": [
        {
          "output_type": "execute_result",
          "data": {
            "text/plain": [
              "0.9925"
            ]
          },
          "metadata": {},
          "execution_count": 23
        }
      ]
    },
    {
      "cell_type": "code",
      "metadata": {
        "colab": {
          "base_uri": "https://localhost:8080/",
          "height": 279
        },
        "id": "mAP2t2QhR8_v",
        "outputId": "c391c127-f71c-43c3-de8f-de53dc0644c8"
      },
      "source": [
        "plt.scatter(train_input.diameter, train_input.weight)\n",
        "plt.scatter(test_input.diameter, test_input.weight)\n",
        "plt.xlabel('diameter')\n",
        "plt.ylabel('weight')\n",
        "plt.show()"
      ],
      "execution_count": 24,
      "outputs": [
        {
          "output_type": "display_data",
          "data": {
            "image/png": "[encoded data removed]",
            "text/plain": [
              "<Figure size 432x288 with 1 Axes>"
            ]
          },
          "metadata": {
            "needs_background": "light"
          }
        }
      ]
    },
    {
      "cell_type": "code",
      "metadata": {
        "id": "uLJ_Pi1HSVLh"
      },
      "source": [
        ""
      ],
      "execution_count": 24,
      "outputs": []
    }
  ]
}
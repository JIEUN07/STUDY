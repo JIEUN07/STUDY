{
  "nbformat": 4,
  "nbformat_minor": 0,
  "metadata": {
    "colab": {
      "name": "day18_3) 2021-11-23(실습)",
      "provenance": [],
      "collapsed_sections": []
    },
    "kernelspec": {
      "name": "python3",
      "display_name": "Python 3"
    },
    "language_info": {
      "name": "python"
    }
  },
  "cells": [
    {
      "cell_type": "markdown",
      "metadata": {
        "id": "6DSgcTcY1M6t"
      },
      "source": [
        "- numpy로 0~1 랜덤한 값을 10개 만들고\n",
        "- 10개의 값을 가지는 r 컬럼의 데이터프레임을 만들고\n",
        "- five_r이라는 r 컬럼에 5배 곱한 컬럼을 새로 만들고\n",
        "- 이를 정수화 한 값의 cat이라는 컬럼을 만든다\n",
        "- cat이외의 모든 컬럼을 삭제한다"
      ]
    },
    {
      "cell_type": "code",
      "metadata": {
        "id": "BBl4OtT10pZU"
      },
      "source": [
        "import pandas as pd\n",
        "import numpy as np"
      ],
      "execution_count": null,
      "outputs": []
    },
    {
      "cell_type": "code",
      "metadata": {
        "colab": {
          "base_uri": "https://localhost:8080/"
        },
        "id": "BchbtoF21XqF",
        "outputId": "75e17893-03f5-4bdb-9dc3-f5aed75a3209"
      },
      "source": [
        "# numpy로 0~1 랜덤한 값을 10개 만들고\n",
        "a = np.random.rand(10)\n",
        "print(a)"
      ],
      "execution_count": null,
      "outputs": [
        {
          "output_type": "stream",
          "name": "stdout",
          "text": [
            "[0.64937835 0.96073338 0.47751099 0.87030141 0.01771228 0.72990758\n",
            " 0.39363173 0.63070028 0.92926775 0.39273724]\n"
          ]
        }
      ]
    },
    {
      "cell_type": "code",
      "metadata": {
        "colab": {
          "base_uri": "https://localhost:8080/"
        },
        "id": "8mZ8Y5st1Xst",
        "outputId": "0d8ce24c-2396-4437-9fcd-b43227e08009"
      },
      "source": [
        "# 10개의 값을 가지는 r 컬럼의 dataframe을 만들고\n",
        "df = pd.DataFrame({\"r\":a})\n",
        "print(df)"
      ],
      "execution_count": null,
      "outputs": [
        {
          "output_type": "stream",
          "name": "stdout",
          "text": [
            "          r\n",
            "0  0.649378\n",
            "1  0.960733\n",
            "2  0.477511\n",
            "3  0.870301\n",
            "4  0.017712\n",
            "5  0.729908\n",
            "6  0.393632\n",
            "7  0.630700\n",
            "8  0.929268\n",
            "9  0.392737\n"
          ]
        }
      ]
    },
    {
      "cell_type": "code",
      "metadata": {
        "colab": {
          "base_uri": "https://localhost:8080/"
        },
        "id": "ZUfyi8Il1XvG",
        "outputId": "4ff670d2-809e-49a8-f2a0-b7551fe07055"
      },
      "source": [
        "# 5r이라는 r 컬럼에 5배 곱한 럼럼을 새로 만들고\n",
        "df['five_r'] = df.r*5\n",
        "print(df)"
      ],
      "execution_count": null,
      "outputs": [
        {
          "output_type": "stream",
          "name": "stdout",
          "text": [
            "          r    five_r\n",
            "0  0.649378  3.246892\n",
            "1  0.960733  4.803667\n",
            "2  0.477511  2.387555\n",
            "3  0.870301  4.351507\n",
            "4  0.017712  0.088561\n",
            "5  0.729908  3.649538\n",
            "6  0.393632  1.968159\n",
            "7  0.630700  3.153501\n",
            "8  0.929268  4.646339\n",
            "9  0.392737  1.963686\n"
          ]
        }
      ]
    },
    {
      "cell_type": "code",
      "metadata": {
        "colab": {
          "base_uri": "https://localhost:8080/"
        },
        "id": "biW0sUcv1Xxh",
        "outputId": "884b4704-95d5-4d30-cffd-468a8925e14d"
      },
      "source": [
        "# cat 이라는 정수값을 하는 컬럼을 만든다.\n",
        "df['cat'] = df.five_r.astype(np.int)\n",
        "print(df)"
      ],
      "execution_count": null,
      "outputs": [
        {
          "output_type": "stream",
          "name": "stdout",
          "text": [
            "          r    five_r  cat\n",
            "0  0.649378  3.246892    3\n",
            "1  0.960733  4.803667    4\n",
            "2  0.477511  2.387555    2\n",
            "3  0.870301  4.351507    4\n",
            "4  0.017712  0.088561    0\n",
            "5  0.729908  3.649538    3\n",
            "6  0.393632  1.968159    1\n",
            "7  0.630700  3.153501    3\n",
            "8  0.929268  4.646339    4\n",
            "9  0.392737  1.963686    1\n"
          ]
        }
      ]
    },
    {
      "cell_type": "code",
      "metadata": {
        "colab": {
          "base_uri": "https://localhost:8080/"
        },
        "id": "VJ_stBX01X1t",
        "outputId": "c3eddba8-3268-4ba3-8f9d-af713bea6f26"
      },
      "source": [
        "# cat외의 모든 컬럼을 삭제한다.\n",
        "df.drop(columns=[\"r\",\"five_r\"], inplace=True)\n",
        "print(df)"
      ],
      "execution_count": null,
      "outputs": [
        {
          "output_type": "stream",
          "name": "stdout",
          "text": [
            "   cat\n",
            "0    3\n",
            "1    4\n",
            "2    2\n",
            "3    4\n",
            "4    0\n",
            "5    3\n",
            "6    1\n",
            "7    3\n",
            "8    4\n",
            "9    1\n"
          ]
        }
      ]
    }
  ]
}
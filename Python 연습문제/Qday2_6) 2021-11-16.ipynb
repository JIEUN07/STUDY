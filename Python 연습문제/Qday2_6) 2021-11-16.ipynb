{
 "cells": [
  {
   "cell_type": "markdown",
   "id": "f53e41a5",
   "metadata": {},
   "source": [
    "# 추가 퀴즈"
   ]
  },
  {
   "cell_type": "markdown",
   "id": "8d8e8e7e",
   "metadata": {},
   "source": [
    "- 1) 1~15 구성된 넘파이 배열을 3행 5열로 구성하고 1,3,5 열만 출력하여라 \n",
    "- 2) 1~15 구성된 넘파이 배열을 3행 5열로 구성하고 1행1열, 1행4열, 3행1열, 3행 4열만 출력하여라 \n",
    "- 3) 1~15 구성된 넘파이 배열을 3행 5열로 구성하고 홀수번째 행만 출력하여라"
   ]
  },
  {
   "cell_type": "code",
   "execution_count": 2,
   "id": "e07eae52",
   "metadata": {},
   "outputs": [],
   "source": [
    "import numpy as np\n",
    "from sympy import Symbol, solve, Derivative, diff"
   ]
  },
  {
   "cell_type": "code",
   "execution_count": 3,
   "id": "ab25aec3",
   "metadata": {},
   "outputs": [
    {
     "data": {
      "text/plain": [
       "array([[ 1,  2,  3,  4,  5],\n",
       "       [ 6,  7,  8,  9, 10],\n",
       "       [11, 12, 13, 14, 15]])"
      ]
     },
     "execution_count": 3,
     "metadata": {},
     "output_type": "execute_result"
    }
   ],
   "source": [
    "arr1 = np.arange(1,16).reshape(3,5)\n",
    "arr1"
   ]
  },
  {
   "cell_type": "code",
   "execution_count": 4,
   "id": "7f4965be",
   "metadata": {},
   "outputs": [
    {
     "data": {
      "text/plain": [
       "array([[ 1,  3,  5],\n",
       "       [ 6,  8, 10],\n",
       "       [11, 13, 15]])"
      ]
     },
     "execution_count": 4,
     "metadata": {},
     "output_type": "execute_result"
    }
   ],
   "source": [
    "# 1)\n",
    "arr1[::,::2]"
   ]
  },
  {
   "cell_type": "code",
   "execution_count": 5,
   "id": "425d1659",
   "metadata": {},
   "outputs": [
    {
     "data": {
      "text/plain": [
       "array([[ 1,  4],\n",
       "       [11, 14]])"
      ]
     },
     "execution_count": 5,
     "metadata": {},
     "output_type": "execute_result"
    }
   ],
   "source": [
    "# 2)\n",
    "arr1[:3:2,:4:3]"
   ]
  },
  {
   "cell_type": "code",
   "execution_count": 6,
   "id": "224da5e9",
   "metadata": {},
   "outputs": [
    {
     "data": {
      "text/plain": [
       "array([[ 1,  2,  3,  4,  5],\n",
       "       [11, 12, 13, 14, 15]])"
      ]
     },
     "execution_count": 6,
     "metadata": {},
     "output_type": "execute_result"
    }
   ],
   "source": [
    "# 3)\n",
    "arr1[::2,::]"
   ]
  },
  {
   "cell_type": "code",
   "execution_count": 8,
   "id": "294f9749",
   "metadata": {},
   "outputs": [
    {
     "data": {
      "text/plain": [
       "(1, 4, 11, 14)"
      ]
     },
     "execution_count": 8,
     "metadata": {},
     "output_type": "execute_result"
    }
   ],
   "source": [
    "arr1[0,0], arr1[0,3], arr1[2,0], arr1[2,3]"
   ]
  },
  {
   "cell_type": "code",
   "execution_count": null,
   "id": "968884fa",
   "metadata": {},
   "outputs": [],
   "source": []
  },
  {
   "cell_type": "code",
   "execution_count": null,
   "id": "50f6399e",
   "metadata": {},
   "outputs": [],
   "source": []
  },
  {
   "cell_type": "code",
   "execution_count": null,
   "id": "c733a29e",
   "metadata": {},
   "outputs": [],
   "source": []
  },
  {
   "cell_type": "code",
   "execution_count": null,
   "id": "ec6c9b3e",
   "metadata": {},
   "outputs": [],
   "source": []
  },
  {
   "cell_type": "code",
   "execution_count": null,
   "id": "b8e54374",
   "metadata": {},
   "outputs": [],
   "source": []
  },
  {
   "cell_type": "code",
   "execution_count": null,
   "id": "e6321e0a",
   "metadata": {},
   "outputs": [],
   "source": []
  }
 ],
 "metadata": {
  "kernelspec": {
   "display_name": "Python 3",
   "language": "python",
   "name": "python3"
  },
  "language_info": {
   "codemirror_mode": {
    "name": "ipython",
    "version": 3
   },
   "file_extension": ".py",
   "mimetype": "text/x-python",
   "name": "python",
   "nbconvert_exporter": "python",
   "pygments_lexer": "ipython3",
   "version": "3.8.8"
  }
 },
 "nbformat": 4,
 "nbformat_minor": 5
}

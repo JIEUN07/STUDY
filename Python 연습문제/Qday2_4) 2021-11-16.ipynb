{
 "cells": [
  {
   "cell_type": "markdown",
   "id": "1638b770",
   "metadata": {},
   "source": [
    "# 퀴즈\n",
    "\n",
    "도함수를 구하고 x 값이 1일때의 미분계수를 구하여라\n",
    "$$ f(x) = (x^3+5)(x^2-1) $$"
   ]
  },
  {
   "cell_type": "code",
   "execution_count": null,
   "id": "d9c5738c",
   "metadata": {},
   "outputs": [],
   "source": [
    "$$ f(x) = (x^3+5)(x^2-1) $$"
   ]
  },
  {
   "cell_type": "code",
   "execution_count": 5,
   "id": "ed9a866b",
   "metadata": {},
   "outputs": [],
   "source": [
    "import numpy\n",
    "from sympy import Symbol, solve, Derivative, diff"
   ]
  },
  {
   "cell_type": "code",
   "execution_count": 6,
   "id": "ca2a77fd",
   "metadata": {},
   "outputs": [
    {
     "data": {
      "text/latex": [
       "$\\displaystyle \\left(x^{2} - 1\\right) \\left(x^{3} + 5\\right)$"
      ],
      "text/plain": [
       "(x**2 - 1)*(x**3 + 5)"
      ]
     },
     "execution_count": 6,
     "metadata": {},
     "output_type": "execute_result"
    }
   ],
   "source": [
    "x = Symbol('x')\n",
    "fx = ((x**3)+5)*((x**2)-1)\n",
    "fx"
   ]
  },
  {
   "cell_type": "code",
   "execution_count": 7,
   "id": "b718bcd6",
   "metadata": {},
   "outputs": [
    {
     "data": {
      "text/latex": [
       "$\\displaystyle 3 x^{2} \\left(x^{2} - 1\\right) + 2 x \\left(x^{3} + 5\\right)$"
      ],
      "text/plain": [
       "3*x**2*(x**2 - 1) + 2*x*(x**3 + 5)"
      ]
     },
     "execution_count": 7,
     "metadata": {},
     "output_type": "execute_result"
    }
   ],
   "source": [
    "fprime = diff(fx, x)\n",
    "fprime"
   ]
  },
  {
   "cell_type": "code",
   "execution_count": 8,
   "id": "15b8f499",
   "metadata": {},
   "outputs": [
    {
     "data": {
      "text/latex": [
       "$\\displaystyle 12$"
      ],
      "text/plain": [
       "12"
      ]
     },
     "execution_count": 8,
     "metadata": {},
     "output_type": "execute_result"
    }
   ],
   "source": [
    "n = fprime.subs({x:1}) # x 값이 1 \n",
    "n"
   ]
  },
  {
   "cell_type": "code",
   "execution_count": 9,
   "id": "b2dfb4b7",
   "metadata": {},
   "outputs": [
    {
     "name": "stdout",
     "output_type": "stream",
     "text": [
      "fx에서 x=1일때의 순간변화율(미분계수)는  12 입니다\n"
     ]
    }
   ],
   "source": [
    "print(\"fx에서 x=1일때의 순간변화율(미분계수)는 \", n , \"입니다\")"
   ]
  },
  {
   "cell_type": "code",
   "execution_count": null,
   "id": "2a1d6372",
   "metadata": {},
   "outputs": [],
   "source": []
  },
  {
   "cell_type": "code",
   "execution_count": null,
   "id": "46deddb2",
   "metadata": {},
   "outputs": [],
   "source": []
  },
  {
   "cell_type": "code",
   "execution_count": null,
   "id": "01071e3f",
   "metadata": {},
   "outputs": [],
   "source": []
  },
  {
   "cell_type": "code",
   "execution_count": null,
   "id": "6b99d0ef",
   "metadata": {},
   "outputs": [],
   "source": []
  },
  {
   "cell_type": "code",
   "execution_count": null,
   "id": "647f4150",
   "metadata": {},
   "outputs": [],
   "source": []
  },
  {
   "cell_type": "code",
   "execution_count": null,
   "id": "3b581a4d",
   "metadata": {},
   "outputs": [],
   "source": []
  }
 ],
 "metadata": {
  "kernelspec": {
   "display_name": "Python 3",
   "language": "python",
   "name": "python3"
  },
  "language_info": {
   "codemirror_mode": {
    "name": "ipython",
    "version": 3
   },
   "file_extension": ".py",
   "mimetype": "text/x-python",
   "name": "python",
   "nbconvert_exporter": "python",
   "pygments_lexer": "ipython3",
   "version": "3.8.8"
  }
 },
 "nbformat": 4,
 "nbformat_minor": 5
}

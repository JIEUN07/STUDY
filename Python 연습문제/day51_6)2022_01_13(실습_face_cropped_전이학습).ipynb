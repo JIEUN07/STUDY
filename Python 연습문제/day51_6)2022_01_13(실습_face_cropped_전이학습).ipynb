{
  "nbformat": 4,
  "nbformat_minor": 0,
  "metadata": {
    "colab": {
      "name": "day51_6)2022-01-13(face_cropped_전이학습).ipynb",
      "provenance": [],
      "collapsed_sections": []
    },
    "kernelspec": {
      "name": "python3",
      "display_name": "Python 3"
    },
    "language_info": {
      "name": "python"
    },
    "accelerator": "GPU"
  },
  "cells": [
    {
      "cell_type": "markdown",
      "metadata": {
        "id": "Sv47DFcMmPRe"
      },
      "source": [
        "# 전이학습 Template\n",
        "## 영상 데이터 분류"
      ]
    },
    {
      "cell_type": "markdown",
      "metadata": {
        "id": "W7Fp4BNNcO8K"
      },
      "source": [
        "## 데이터 준비\n",
        "\n",
        "\n",
        "<br>\n",
        "\n",
        "데이터는 다음과 같이 구성됨\n",
        "\n",
        "```\n",
        "dogs/\n",
        "    train/\n",
        "        class1/\n",
        "            file1.jpg\n",
        "            file2.jpg\n",
        "             ...\n",
        "        class2/ \n",
        "            file21.jpg\n",
        "            file22.jpg\n",
        "             ...    \n",
        "        class3/\n",
        "            file31.jpg\n",
        "            file32.jpg\n",
        "             ...\n",
        "        ...\n",
        "    test/\n",
        "        class1/\n",
        "            file8.jpg\n",
        "            file9.jpg\n",
        "             ...\n",
        "        class2/ \n",
        "            file28.jpg\n",
        "            file29.jpg\n",
        "             ...    \n",
        "        class3/\n",
        "            file38.jpg\n",
        "            file39.jpg\n",
        "             ...\n",
        "        ...\n",
        "    \n",
        "```"
      ]
    },
    {
      "cell_type": "markdown",
      "source": [
        "### 이미지 크롭시켜 압축한 파일 가져옴\n",
        "영상데이터 학습 후 크롭 처리까지 마친 상태"
      ],
      "metadata": {
        "id": "g-z7U68S3eKL"
      }
    },
    {
      "cell_type": "code",
      "source": [
        "!unzip face_cropped.zip"
      ],
      "metadata": {
        "id": "U-vp5D1Eahiv",
        "colab": {
          "base_uri": "https://localhost:8080/"
        },
        "outputId": "62c1300f-1fb9-4096-a5cd-8b73adf3886f"
      },
      "execution_count": null,
      "outputs": [
        {
          "output_type": "stream",
          "name": "stdout",
          "text": [
            "Archive:  face_cropped.zip\n",
            "   creating: face_cropped/e/\n",
            "  inflating: face_cropped/e/e_1_cropped_0.jpg  \n",
            "  inflating: face_cropped/e/e_10_cropped_0.jpg  \n",
            "  inflating: face_cropped/e/e_11_cropped_0.jpg  \n",
            "  inflating: face_cropped/e/e_12_cropped_0.jpg  \n",
            "  inflating: face_cropped/e/e_13_cropped_0.jpg  \n",
            "  inflating: face_cropped/e/e_14_cropped_0.jpg  \n",
            "  inflating: face_cropped/e/e_15_cropped_0.jpg  \n",
            "  inflating: face_cropped/e/e_16_cropped_0.jpg  \n",
            "  inflating: face_cropped/e/e_2_cropped_0.jpg  \n",
            "  inflating: face_cropped/e/e_3_cropped_0.jpg  \n",
            "  inflating: face_cropped/e/e_4_cropped_0.jpg  \n",
            "  inflating: face_cropped/e/e_5_cropped_0.jpg  \n",
            "  inflating: face_cropped/e/e_6_cropped_0.jpg  \n",
            "  inflating: face_cropped/e/e_7_cropped_0.jpg  \n",
            "  inflating: face_cropped/e/e_8_cropped_0.jpg  \n",
            "  inflating: face_cropped/e/e_9_cropped_0.jpg  \n",
            "   creating: face_cropped/iu/\n",
            "  inflating: face_cropped/iu/iu_1_cropped_0.jpg  \n",
            "  inflating: face_cropped/iu/iu_10_cropped_0.jpg  \n",
            "  inflating: face_cropped/iu/iu_11_cropped_0.jpg  \n",
            "  inflating: face_cropped/iu/iu_12_cropped_0.jpg  \n",
            "  inflating: face_cropped/iu/iu_13_cropped_0.jpg  \n",
            "  inflating: face_cropped/iu/iu_14_cropped_0.jpg  \n",
            "  inflating: face_cropped/iu/iu_15_cropped_0.jpg  \n",
            "  inflating: face_cropped/iu/iu_16_cropped_0.jpg  \n",
            "  inflating: face_cropped/iu/iu_2_cropped_0.jpg  \n",
            "  inflating: face_cropped/iu/iu_3_cropped_0.jpg  \n",
            "  inflating: face_cropped/iu/iu_4_cropped_0.jpg  \n",
            "  inflating: face_cropped/iu/iu_5_cropped_0.jpg  \n",
            "  inflating: face_cropped/iu/iu_6_cropped_0.jpg  \n",
            "  inflating: face_cropped/iu/iu_7_cropped_0.jpg  \n",
            "  inflating: face_cropped/iu/iu_8_cropped_0.jpg  \n",
            "  inflating: face_cropped/iu/iu_9_cropped_0.jpg  \n",
            "   creating: face_cropped/son/\n",
            "  inflating: face_cropped/son/son_1_cropped_0.jpg  \n",
            "  inflating: face_cropped/son/son_10_cropped_0.jpg  \n",
            "  inflating: face_cropped/son/son_11_cropped_0.jpg  \n",
            "  inflating: face_cropped/son/son_12_cropped_0.jpg  \n",
            "  inflating: face_cropped/son/son_13_cropped_0.jpg  \n",
            "  inflating: face_cropped/son/son_14_cropped_0.jpg  \n",
            "  inflating: face_cropped/son/son_15_cropped_0.jpg  \n",
            "  inflating: face_cropped/son/son_16_cropped_0.jpg  \n",
            "  inflating: face_cropped/son/son_2_cropped_0.jpg  \n",
            "  inflating: face_cropped/son/son_3_cropped_0.jpg  \n",
            "  inflating: face_cropped/son/son_4_cropped_0.jpg  \n",
            "  inflating: face_cropped/son/son_5_cropped_0.jpg  \n",
            "  inflating: face_cropped/son/son_6_cropped_0.jpg  \n",
            "  inflating: face_cropped/son/son_7_cropped_0.jpg  \n",
            "  inflating: face_cropped/son/son_8_cropped_0.jpg  \n",
            "  inflating: face_cropped/son/son_9_cropped_0.jpg  \n"
          ]
        }
      ]
    },
    {
      "cell_type": "markdown",
      "metadata": {
        "id": "Ub3sOp6Onox6"
      },
      "source": [
        "## 전이학습\n",
        "EfficientNetB2"
      ]
    },
    {
      "cell_type": "code",
      "execution_count": null,
      "metadata": {
        "colab": {
          "base_uri": "https://localhost:8080/",
          "height": 1000
        },
        "id": "B5LVL0anlYhG",
        "outputId": "3257d647-beb5-4461-f0eb-94648822d706"
      },
      "outputs": [
        {
          "output_type": "stream",
          "name": "stdout",
          "text": [
            "Downloading data from https://storage.googleapis.com/keras-applications/efficientnetb2_notop.h5\n",
            "31793152/31790344 [==============================] - 0s 0us/step\n",
            "31801344/31790344 [==============================] - 0s 0us/step\n",
            "Model: \"sequential\"\n",
            "_________________________________________________________________\n",
            " Layer (type)                Output Shape              Param #   \n",
            "=================================================================\n",
            " efficientnetb2 (Functional)  (None, 7, 7, 1408)       7768569   \n",
            "                                                                 \n",
            " flatten (Flatten)           (None, 68992)             0         \n",
            "                                                                 \n",
            " dense (Dense)               (None, 256)               17662208  \n",
            "                                                                 \n",
            " batch_normalization (BatchN  (None, 256)              1024      \n",
            " ormalization)                                                   \n",
            "                                                                 \n",
            " dense_1 (Dense)             (None, 3)                 771       \n",
            "                                                                 \n",
            "=================================================================\n",
            "Total params: 25,432,572\n",
            "Trainable params: 17,663,491\n",
            "Non-trainable params: 7,769,081\n",
            "_________________________________________________________________\n",
            "Found 48 images belonging to 3 classes.\n",
            "Found 48 images belonging to 3 classes.\n",
            "Epoch 1/100\n",
            "1/1 [==============================] - 17s 17s/step - loss: 1.5864 - acc: 0.3542 - val_loss: 12.0473 - val_acc: 0.7083\n",
            "Epoch 2/100\n",
            "1/1 [==============================] - 1s 693ms/step - loss: 0.9864 - acc: 0.7708 - val_loss: 5.4140 - val_acc: 0.7500\n",
            "Epoch 3/100\n",
            "1/1 [==============================] - 1s 693ms/step - loss: 0.2707 - acc: 0.9167 - val_loss: 1.3142 - val_acc: 0.9167\n",
            "Epoch 4/100\n",
            "1/1 [==============================] - 1s 700ms/step - loss: 0.2396 - acc: 0.8958 - val_loss: 1.0034 - val_acc: 0.9375\n",
            "Epoch 5/100\n",
            "1/1 [==============================] - 1s 691ms/step - loss: 0.1402 - acc: 0.9375 - val_loss: 1.0597 - val_acc: 0.9167\n",
            "Epoch 6/100\n",
            "1/1 [==============================] - 1s 684ms/step - loss: 0.0587 - acc: 0.9583 - val_loss: 0.6993 - val_acc: 0.9375\n",
            "Epoch 7/100\n",
            "1/1 [==============================] - 1s 683ms/step - loss: 0.1133 - acc: 0.9167 - val_loss: 0.5849 - val_acc: 0.9375\n",
            "Epoch 8/100\n",
            "1/1 [==============================] - 1s 692ms/step - loss: 0.1269 - acc: 0.9375 - val_loss: 0.4410 - val_acc: 0.9167\n",
            "Epoch 9/100\n",
            "1/1 [==============================] - 1s 691ms/step - loss: 0.2281 - acc: 0.9167 - val_loss: 0.4781 - val_acc: 0.9583\n",
            "Epoch 10/100\n",
            "1/1 [==============================] - 1s 690ms/step - loss: 0.0216 - acc: 1.0000 - val_loss: 0.4387 - val_acc: 0.9583\n",
            "Epoch 11/100\n",
            "1/1 [==============================] - 1s 685ms/step - loss: 0.0745 - acc: 0.9792 - val_loss: 0.3272 - val_acc: 0.9583\n",
            "Epoch 12/100\n",
            "1/1 [==============================] - 1s 692ms/step - loss: 0.0106 - acc: 1.0000 - val_loss: 0.3175 - val_acc: 0.9583\n",
            "Epoch 13/100\n",
            "1/1 [==============================] - 1s 697ms/step - loss: 0.0141 - acc: 1.0000 - val_loss: 0.1684 - val_acc: 0.9583\n",
            "Epoch 14/100\n",
            "1/1 [==============================] - 1s 684ms/step - loss: 0.1154 - acc: 0.9583 - val_loss: 0.1434 - val_acc: 0.9583\n",
            "Epoch 15/100\n",
            "1/1 [==============================] - 1s 695ms/step - loss: 0.0203 - acc: 1.0000 - val_loss: 0.1223 - val_acc: 0.9583\n",
            "Epoch 16/100\n",
            "1/1 [==============================] - 1s 689ms/step - loss: 0.0199 - acc: 1.0000 - val_loss: 0.1106 - val_acc: 0.9583\n",
            "Epoch 17/100\n",
            "1/1 [==============================] - 1s 690ms/step - loss: 0.0085 - acc: 1.0000 - val_loss: 0.1031 - val_acc: 0.9583\n",
            "Epoch 18/100\n",
            "1/1 [==============================] - 1s 706ms/step - loss: 0.0132 - acc: 1.0000 - val_loss: 0.0967 - val_acc: 0.9583\n",
            "Epoch 19/100\n",
            "1/1 [==============================] - 1s 698ms/step - loss: 0.0597 - acc: 0.9792 - val_loss: 0.2227 - val_acc: 0.9583\n",
            "Epoch 20/100\n",
            "1/1 [==============================] - 1s 683ms/step - loss: 0.0111 - acc: 1.0000 - val_loss: 0.1517 - val_acc: 0.9583\n",
            "Epoch 21/100\n",
            "1/1 [==============================] - 1s 683ms/step - loss: 0.0106 - acc: 1.0000 - val_loss: 0.1363 - val_acc: 0.9583\n",
            "Epoch 22/100\n",
            "1/1 [==============================] - 1s 694ms/step - loss: 0.0079 - acc: 1.0000 - val_loss: 0.1060 - val_acc: 0.9583\n",
            "Epoch 23/100\n",
            "1/1 [==============================] - 1s 690ms/step - loss: 0.0113 - acc: 1.0000 - val_loss: 0.0946 - val_acc: 0.9792\n",
            "Epoch 24/100\n",
            "1/1 [==============================] - 1s 679ms/step - loss: 0.0049 - acc: 1.0000 - val_loss: 0.0837 - val_acc: 0.9792\n",
            "Epoch 25/100\n",
            "1/1 [==============================] - 1s 683ms/step - loss: 0.0105 - acc: 1.0000 - val_loss: 0.0310 - val_acc: 0.9792\n",
            "Epoch 26/100\n",
            "1/1 [==============================] - 1s 683ms/step - loss: 0.0109 - acc: 1.0000 - val_loss: 0.0200 - val_acc: 1.0000\n",
            "Epoch 27/100\n",
            "1/1 [==============================] - 1s 687ms/step - loss: 0.1724 - acc: 0.9792 - val_loss: 0.0070 - val_acc: 1.0000\n",
            "Epoch 28/100\n",
            "1/1 [==============================] - 1s 689ms/step - loss: 0.0123 - acc: 1.0000 - val_loss: 0.0030 - val_acc: 1.0000\n",
            "Epoch 29/100\n",
            "1/1 [==============================] - 1s 678ms/step - loss: 0.0102 - acc: 1.0000 - val_loss: 0.0029 - val_acc: 1.0000\n",
            "Epoch 30/100\n",
            "1/1 [==============================] - 1s 681ms/step - loss: 0.0055 - acc: 1.0000 - val_loss: 0.0012 - val_acc: 1.0000\n",
            "Epoch 31/100\n",
            "1/1 [==============================] - 1s 685ms/step - loss: 0.0116 - acc: 1.0000 - val_loss: 0.0023 - val_acc: 1.0000\n",
            "Epoch 32/100\n",
            "1/1 [==============================] - 1s 688ms/step - loss: 0.0020 - acc: 1.0000 - val_loss: 0.0013 - val_acc: 1.0000\n",
            "Epoch 33/100\n",
            "1/1 [==============================] - 1s 698ms/step - loss: 0.0041 - acc: 1.0000 - val_loss: 0.0011 - val_acc: 1.0000\n",
            "Epoch 34/100\n",
            "1/1 [==============================] - 1s 683ms/step - loss: 0.0039 - acc: 1.0000 - val_loss: 8.6340e-04 - val_acc: 1.0000\n",
            "Epoch 35/100\n",
            "1/1 [==============================] - 1s 689ms/step - loss: 0.0078 - acc: 1.0000 - val_loss: 5.8721e-05 - val_acc: 1.0000\n",
            "Epoch 36/100\n",
            "1/1 [==============================] - 1s 690ms/step - loss: 0.0021 - acc: 1.0000 - val_loss: 7.4937e-05 - val_acc: 1.0000\n",
            "Epoch 37/100\n",
            "1/1 [==============================] - 1s 682ms/step - loss: 0.0146 - acc: 1.0000 - val_loss: 4.1303e-04 - val_acc: 1.0000\n",
            "Epoch 38/100\n",
            "1/1 [==============================] - 1s 685ms/step - loss: 0.0045 - acc: 1.0000 - val_loss: 3.0097e-04 - val_acc: 1.0000\n",
            "Epoch 39/100\n",
            "1/1 [==============================] - 1s 684ms/step - loss: 0.0087 - acc: 1.0000 - val_loss: 4.5772e-04 - val_acc: 1.0000\n",
            "Epoch 40/100\n",
            "1/1 [==============================] - 1s 681ms/step - loss: 0.0049 - acc: 1.0000 - val_loss: 3.3339e-04 - val_acc: 1.0000\n",
            "Epoch 41/100\n",
            "1/1 [==============================] - 1s 687ms/step - loss: 0.0185 - acc: 0.9792 - val_loss: 0.1526 - val_acc: 0.9583\n",
            "Epoch 42/100\n",
            "1/1 [==============================] - 1s 682ms/step - loss: 0.0250 - acc: 1.0000 - val_loss: 3.4145e-04 - val_acc: 1.0000\n",
            "Epoch 43/100\n",
            "1/1 [==============================] - 1s 676ms/step - loss: 0.0061 - acc: 1.0000 - val_loss: 1.7933e-04 - val_acc: 1.0000\n",
            "Epoch 44/100\n",
            "1/1 [==============================] - 1s 686ms/step - loss: 0.0015 - acc: 1.0000 - val_loss: 1.6214e-04 - val_acc: 1.0000\n",
            "Epoch 45/100\n",
            "1/1 [==============================] - 1s 691ms/step - loss: 0.0020 - acc: 1.0000 - val_loss: 1.2640e-04 - val_acc: 1.0000\n",
            "Epoch 46/100\n",
            "1/1 [==============================] - 1s 675ms/step - loss: 9.4085e-04 - acc: 1.0000 - val_loss: 1.2933e-04 - val_acc: 1.0000\n",
            "Epoch 47/100\n",
            "1/1 [==============================] - 1s 680ms/step - loss: 7.1861e-04 - acc: 1.0000 - val_loss: 1.2738e-04 - val_acc: 1.0000\n",
            "Epoch 48/100\n",
            "1/1 [==============================] - 1s 685ms/step - loss: 0.0069 - acc: 1.0000 - val_loss: 1.0982e-04 - val_acc: 1.0000\n",
            "Epoch 49/100\n",
            "1/1 [==============================] - 1s 681ms/step - loss: 9.3938e-04 - acc: 1.0000 - val_loss: 1.0474e-04 - val_acc: 1.0000\n",
            "Epoch 50/100\n",
            "1/1 [==============================] - 1s 681ms/step - loss: 0.0201 - acc: 0.9792 - val_loss: 0.2893 - val_acc: 0.9375\n",
            "Epoch 51/100\n",
            "1/1 [==============================] - 1s 717ms/step - loss: 0.0182 - acc: 1.0000 - val_loss: 1.5055e-04 - val_acc: 1.0000\n",
            "Epoch 52/100\n",
            "1/1 [==============================] - 1s 684ms/step - loss: 0.0028 - acc: 1.0000 - val_loss: 1.0121e-04 - val_acc: 1.0000\n",
            "Epoch 53/100\n",
            "1/1 [==============================] - 1s 684ms/step - loss: 0.0011 - acc: 1.0000 - val_loss: 7.3651e-05 - val_acc: 1.0000\n",
            "Epoch 54/100\n",
            "1/1 [==============================] - 1s 691ms/step - loss: 0.0039 - acc: 1.0000 - val_loss: 7.8105e-05 - val_acc: 1.0000\n",
            "Epoch 55/100\n",
            "1/1 [==============================] - 1s 683ms/step - loss: 0.0022 - acc: 1.0000 - val_loss: 4.4233e-05 - val_acc: 1.0000\n",
            "Epoch 56/100\n",
            "1/1 [==============================] - 1s 681ms/step - loss: 0.0013 - acc: 1.0000 - val_loss: 3.3037e-05 - val_acc: 1.0000\n",
            "Epoch 57/100\n",
            "1/1 [==============================] - 1s 690ms/step - loss: 6.3586e-04 - acc: 1.0000 - val_loss: 3.2099e-05 - val_acc: 1.0000\n",
            "Epoch 58/100\n",
            "1/1 [==============================] - 1s 687ms/step - loss: 0.0011 - acc: 1.0000 - val_loss: 2.7350e-05 - val_acc: 1.0000\n",
            "Epoch 59/100\n",
            "1/1 [==============================] - 1s 679ms/step - loss: 0.0068 - acc: 1.0000 - val_loss: 2.4326e-04 - val_acc: 1.0000\n",
            "Epoch 60/100\n",
            "1/1 [==============================] - 1s 685ms/step - loss: 0.0015 - acc: 1.0000 - val_loss: 8.9920e-05 - val_acc: 1.0000\n",
            "Epoch 61/100\n",
            "1/1 [==============================] - 1s 684ms/step - loss: 8.2024e-04 - acc: 1.0000 - val_loss: 9.3328e-05 - val_acc: 1.0000\n",
            "Epoch 62/100\n",
            "1/1 [==============================] - 1s 687ms/step - loss: 0.0101 - acc: 1.0000 - val_loss: 7.0759e-05 - val_acc: 1.0000\n",
            "Epoch 63/100\n",
            "1/1 [==============================] - 1s 690ms/step - loss: 0.0023 - acc: 1.0000 - val_loss: 4.9648e-05 - val_acc: 1.0000\n",
            "Epoch 64/100\n",
            "1/1 [==============================] - 1s 687ms/step - loss: 0.0078 - acc: 1.0000 - val_loss: 1.6503e-05 - val_acc: 1.0000\n",
            "Epoch 65/100\n",
            "1/1 [==============================] - 1s 679ms/step - loss: 0.0017 - acc: 1.0000 - val_loss: 3.8544e-06 - val_acc: 1.0000\n",
            "Epoch 66/100\n",
            "1/1 [==============================] - 1s 678ms/step - loss: 0.0019 - acc: 1.0000 - val_loss: 1.1587e-05 - val_acc: 1.0000\n",
            "Epoch 67/100\n",
            "1/1 [==============================] - 1s 685ms/step - loss: 9.0810e-04 - acc: 1.0000 - val_loss: 8.0187e-06 - val_acc: 1.0000\n",
            "Epoch 68/100\n",
            "1/1 [==============================] - 1s 683ms/step - loss: 0.0021 - acc: 1.0000 - val_loss: 4.4032e-06 - val_acc: 1.0000\n",
            "Epoch 69/100\n",
            "1/1 [==============================] - 1s 676ms/step - loss: 6.2669e-04 - acc: 1.0000 - val_loss: 4.3535e-06 - val_acc: 1.0000\n",
            "Epoch 70/100\n",
            "1/1 [==============================] - 1s 685ms/step - loss: 7.7320e-04 - acc: 1.0000 - val_loss: 6.3377e-06 - val_acc: 1.0000\n",
            "Epoch 71/100\n",
            "1/1 [==============================] - 1s 686ms/step - loss: 5.4377e-04 - acc: 1.0000 - val_loss: 5.9131e-06 - val_acc: 1.0000\n",
            "Epoch 72/100\n",
            "1/1 [==============================] - 1s 683ms/step - loss: 0.0582 - acc: 0.9583 - val_loss: 0.0028 - val_acc: 1.0000\n",
            "Epoch 73/100\n",
            "1/1 [==============================] - 1s 687ms/step - loss: 0.0196 - acc: 0.9792 - val_loss: 0.0930 - val_acc: 0.9583\n",
            "Epoch 74/100\n",
            "1/1 [==============================] - 1s 693ms/step - loss: 0.0069 - acc: 1.0000 - val_loss: 0.1096 - val_acc: 0.9583\n",
            "Epoch 75/100\n",
            "1/1 [==============================] - 1s 689ms/step - loss: 0.0085 - acc: 1.0000 - val_loss: 0.5365 - val_acc: 0.9375\n",
            "Epoch 76/100\n",
            "1/1 [==============================] - 1s 677ms/step - loss: 0.3379 - acc: 0.9792 - val_loss: 0.0950 - val_acc: 0.9792\n",
            "Epoch 77/100\n",
            "1/1 [==============================] - 1s 697ms/step - loss: 0.0294 - acc: 0.9792 - val_loss: 1.3558e-04 - val_acc: 1.0000\n",
            "Epoch 78/100\n",
            "1/1 [==============================] - 1s 683ms/step - loss: 0.0132 - acc: 1.0000 - val_loss: 0.0531 - val_acc: 0.9583\n",
            "Epoch 79/100\n",
            "1/1 [==============================] - 1s 678ms/step - loss: 0.0028 - acc: 1.0000 - val_loss: 0.0084 - val_acc: 1.0000\n",
            "Epoch 80/100\n",
            "1/1 [==============================] - 1s 700ms/step - loss: 0.0369 - acc: 0.9792 - val_loss: 0.0016 - val_acc: 1.0000\n",
            "Epoch 81/100\n",
            "1/1 [==============================] - 1s 687ms/step - loss: 4.5833e-04 - acc: 1.0000 - val_loss: 0.0022 - val_acc: 1.0000\n",
            "Epoch 82/100\n",
            "1/1 [==============================] - 1s 683ms/step - loss: 0.0029 - acc: 1.0000 - val_loss: 0.0022 - val_acc: 1.0000\n",
            "Epoch 83/100\n",
            "1/1 [==============================] - 1s 690ms/step - loss: 0.0444 - acc: 0.9792 - val_loss: 0.0437 - val_acc: 0.9792\n",
            "Epoch 84/100\n",
            "1/1 [==============================] - 1s 697ms/step - loss: 0.0298 - acc: 0.9792 - val_loss: 0.2811 - val_acc: 0.9583\n",
            "Epoch 85/100\n",
            "1/1 [==============================] - 1s 689ms/step - loss: 0.0076 - acc: 1.0000 - val_loss: 0.0575 - val_acc: 0.9792\n",
            "Epoch 86/100\n",
            "1/1 [==============================] - 1s 688ms/step - loss: 3.1794e-04 - acc: 1.0000 - val_loss: 0.0520 - val_acc: 0.9792\n",
            "Epoch 87/100\n",
            "1/1 [==============================] - 1s 692ms/step - loss: 6.8507e-04 - acc: 1.0000 - val_loss: 0.0499 - val_acc: 0.9792\n",
            "Epoch 88/100\n",
            "1/1 [==============================] - 1s 691ms/step - loss: 5.2227e-04 - acc: 1.0000 - val_loss: 0.0499 - val_acc: 0.9792\n",
            "Epoch 89/100\n",
            "1/1 [==============================] - 1s 680ms/step - loss: 0.0129 - acc: 1.0000 - val_loss: 0.0072 - val_acc: 1.0000\n",
            "Epoch 90/100\n",
            "1/1 [==============================] - 1s 695ms/step - loss: 0.0026 - acc: 1.0000 - val_loss: 0.0072 - val_acc: 1.0000\n",
            "Epoch 91/100\n",
            "1/1 [==============================] - 1s 690ms/step - loss: 5.7494e-04 - acc: 1.0000 - val_loss: 0.0071 - val_acc: 1.0000\n",
            "Epoch 92/100\n",
            "1/1 [==============================] - 1s 681ms/step - loss: 0.0014 - acc: 1.0000 - val_loss: 0.0123 - val_acc: 1.0000\n",
            "Epoch 93/100\n",
            "1/1 [==============================] - 1s 686ms/step - loss: 0.0018 - acc: 1.0000 - val_loss: 2.1298e-04 - val_acc: 1.0000\n",
            "Epoch 94/100\n",
            "1/1 [==============================] - 1s 686ms/step - loss: 4.7113e-04 - acc: 1.0000 - val_loss: 2.9418e-04 - val_acc: 1.0000\n",
            "Epoch 95/100\n",
            "1/1 [==============================] - 1s 679ms/step - loss: 0.0017 - acc: 1.0000 - val_loss: 1.1564e-04 - val_acc: 1.0000\n",
            "Epoch 96/100\n",
            "1/1 [==============================] - 1s 702ms/step - loss: 0.0040 - acc: 1.0000 - val_loss: 0.0016 - val_acc: 1.0000\n",
            "Epoch 97/100\n",
            "1/1 [==============================] - 1s 684ms/step - loss: 0.0018 - acc: 1.0000 - val_loss: 0.0025 - val_acc: 1.0000\n",
            "Epoch 98/100\n",
            "1/1 [==============================] - 1s 699ms/step - loss: 0.0073 - acc: 1.0000 - val_loss: 3.2484e-06 - val_acc: 1.0000\n",
            "Epoch 99/100\n",
            "1/1 [==============================] - 1s 682ms/step - loss: 5.3581e-04 - acc: 1.0000 - val_loss: 1.5149e-06 - val_acc: 1.0000\n",
            "Epoch 100/100\n",
            "1/1 [==============================] - 1s 689ms/step - loss: 4.7673e-04 - acc: 1.0000 - val_loss: 1.1002e-06 - val_acc: 1.0000\n"
          ]
        },
        {
          "output_type": "display_data",
          "data": {
            "image/png": "[encoded data removed]",
            "text/plain": [
              "<Figure size 432x288 with 1 Axes>"
            ]
          },
          "metadata": {
            "needs_background": "light"
          }
        },
        {
          "output_type": "stream",
          "name": "stdout",
          "text": [
            "1/1 [==============================] - 0s 150ms/step - loss: 1.1002e-06 - acc: 1.0000\n",
            "loss= 1.1001931170540047e-06\n",
            "acc= 1.0\n"
          ]
        },
        {
          "output_type": "display_data",
          "data": {
            "image/png": "[encoded data removed]",
            "text/plain": [
              "<Figure size 432x288 with 1 Axes>"
            ]
          },
          "metadata": {
            "needs_background": "light"
          }
        },
        {
          "output_type": "stream",
          "name": "stdout",
          "text": [
            "label category index = 0.0\n",
            "predicted category index = 0\n",
            "predicted category name = e\n"
          ]
        }
      ],
      "source": [
        "import os\n",
        "\n",
        "import matplotlib.pyplot as plt\n",
        "import numpy as np\n",
        "\n",
        "from tensorflow import keras\n",
        "from tensorflow.keras import optimizers\n",
        "from tensorflow.keras import models\n",
        "from tensorflow.keras import layers\n",
        "from tensorflow.keras import optimizers\n",
        "from tensorflow.keras import Sequential\n",
        "from tensorflow.keras.layers import Dropout, Flatten, Dense, BatchNormalization\n",
        "from tensorflow.keras import Model\n",
        "from tensorflow.keras.preprocessing.image import ImageDataGenerator\n",
        "from tensorflow.keras.preprocessing.image import load_img\n",
        "from tensorflow.keras.preprocessing.image import img_to_array\n",
        "\n",
        "from tensorflow.keras.applications import efficientnet\n",
        "from tensorflow.keras.applications import EfficientNetB2\n",
        "\n",
        "preprocessor = efficientnet.preprocess_input\n",
        "\n",
        "conv_layers = EfficientNetB2(weights='imagenet', include_top=False, input_shape=(224, 224, 3))\n",
        "conv_layers.trainable = False\n",
        "\n",
        "model = keras.Sequential()\n",
        "\n",
        "model.add(conv_layers)\n",
        "model.add(Flatten())\n",
        "model.add(Dense(256, activation='relu'))\n",
        "model.add(BatchNormalization())\n",
        "model.add(Dense(3, activation='softmax'))\n",
        "\n",
        "model.compile(loss='sparse_categorical_crossentropy', optimizer=\"RMSprop\", metrics=['acc'])\n",
        "model.summary()\n",
        "\n",
        "BATCH_SIZE = 64\n",
        "\n",
        "train_data_generator = ImageDataGenerator(\n",
        "      rotation_range=10,\n",
        "      width_shift_range=0.1,\n",
        "      height_shift_range=0.1,\n",
        "      horizontal_flip=True,\n",
        "      vertical_flip=False,\n",
        "      preprocessing_function=preprocessor\n",
        ").flow_from_directory(\n",
        "      \"face_cropped\",\n",
        "      target_size=(224,224),\n",
        "      batch_size=BATCH_SIZE,\n",
        "      class_mode='sparse'\n",
        ")\n",
        "\n",
        "test_data_generator = ImageDataGenerator(\n",
        "      preprocessing_function=preprocessor\n",
        ").flow_from_directory(\n",
        "      \"face_cropped\",\n",
        "      target_size=(224,224),\n",
        "      batch_size=BATCH_SIZE,\n",
        "      class_mode='sparse'\n",
        ")\n",
        "\n",
        "\n",
        "history = model.fit(\n",
        "      train_data_generator,\n",
        "      validation_data=test_data_generator,\n",
        "      epochs=100\n",
        ")\n",
        "\n",
        "\n",
        "plt.plot(history.history['loss'])\n",
        "plt.plot(history.history['val_loss'])\n",
        "plt.show()\n",
        "\n",
        "\n",
        "loss, acc = model.evaluate(test_data_generator)\n",
        "print(\"loss=\", loss)\n",
        "print(\"acc=\", acc)\n",
        "\n",
        "\n",
        "\n",
        "batch_x, batch_y = test_data_generator.next()\n",
        "y_ = model.predict(batch_x)\n",
        "predicted = np.argmax(y_, axis=-1)\n",
        "\n",
        "plt.plot(batch_y[:100], \"o\")\n",
        "plt.plot(predicted[:100], '.')\n",
        "plt.show()\n",
        "\n",
        "\n",
        "custom_labels = list(test_data_generator.class_indices.keys())\n",
        "print(\"label category index =\", batch_y[0])\n",
        "print(\"predicted category index =\", predicted[0])\n",
        "print(\"predicted category name =\", custom_labels[predicted[0]])\n"
      ]
    },
    {
      "cell_type": "markdown",
      "source": [
        "## 학습된 모델 드라이브에 저장"
      ],
      "metadata": {
        "id": "DmdUrWbwbtYh"
      }
    },
    {
      "cell_type": "code",
      "source": [
        "from google.colab import drive\n",
        "drive.mount('/gdrive')"
      ],
      "metadata": {
        "colab": {
          "base_uri": "https://localhost:8080/"
        },
        "id": "XFG9VESwbs_E",
        "outputId": "d0599433-fdc3-499d-c80d-d54f60ad75f1"
      },
      "execution_count": null,
      "outputs": [
        {
          "output_type": "stream",
          "name": "stdout",
          "text": [
            "Mounted at /gdrive\n"
          ]
        }
      ]
    },
    {
      "cell_type": "code",
      "source": [
        "model.save('/gdrive/MyDrive/tmp/face_classification.h5')"
      ],
      "metadata": {
        "colab": {
          "base_uri": "https://localhost:8080/"
        },
        "id": "nVCvotBHb0Ti",
        "outputId": "d9b0262d-5f9f-4142-c7a8-771b2cae1a10"
      },
      "execution_count": null,
      "outputs": [
        {
          "output_type": "stream",
          "name": "stderr",
          "text": [
            "/usr/local/lib/python3.7/dist-packages/keras/engine/functional.py:1410: CustomMaskWarning: Custom mask layers require a config and must override get_config. When loading, the custom mask layer must be passed to the custom_objects argument.\n",
            "  layer_config = serialize_layer_fn(layer)\n"
          ]
        }
      ]
    }
  ]
}
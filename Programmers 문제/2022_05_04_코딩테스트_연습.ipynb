{
  "nbformat": 4,
  "nbformat_minor": 0,
  "metadata": {
    "colab": {
      "name": "2022-05-04_코딩테스트_연습.ipynb",
      "provenance": [],
      "collapsed_sections": []
    },
    "kernelspec": {
      "name": "python3",
      "display_name": "Python 3"
    },
    "language_info": {
      "name": "python"
    }
  },
  "cells": [
    {
      "cell_type": "markdown",
      "source": [
        "\n",
        "# 코딩테스트 연습\n",
        "## 2022 KAKAO BLIND RECRUITMENT > 신고 결과 받기\n",
        "\n",
        "```\n",
        "문제 설명\n",
        "신입사원 무지는 게시판 불량 이용자를 신고하고 처리 결과를 메일로 발송하는 시스템을 개발하려 합니다. 무지가 개발하려는 시스템은 다음과 같습니다.\n",
        "\n",
        "각 유저는 한 번에 한 명의 유저를 신고할 수 있습니다.\n",
        "신고 횟수에 제한은 없습니다. 서로 다른 유저를 계속해서 신고할 수 있습니다.\n",
        "한 유저를 여러 번 신고할 수도 있지만, 동일한 유저에 대한 신고 횟수는 1회로 처리됩니다.\n",
        "k번 이상 신고된 유저는 게시판 이용이 정지되며, 해당 유저를 신고한 모든 유저에게 정지 사실을 메일로 발송합니다.\n",
        "유저가 신고한 모든 내용을 취합하여 마지막에 한꺼번에 게시판 이용 정지를 시키면서 정지 메일을 발송합니다.\n",
        "다음은 전체 유저 목록이 [\"muzi\", \"frodo\", \"apeach\", \"neo\"]이고, k = 2(즉, 2번 이상 신고당하면 이용 정지)인 경우의 예시입니다.\n",
        "\n",
        "유저 ID\t유저가 신고한 ID\t설명\n",
        "\"muzi\"\t\"frodo\"\t\"muzi\"가 \"frodo\"를 신고했습니다.\n",
        "\"apeach\"\t\"frodo\"\t\"apeach\"가 \"frodo\"를 신고했습니다.\n",
        "\"frodo\"\t\"neo\"\t\"frodo\"가 \"neo\"를 신고했습니다.\n",
        "\"muzi\"\t\"neo\"\t\"muzi\"가 \"neo\"를 신고했습니다.\n",
        "\"apeach\"\t\"muzi\"\t\"apeach\"가 \"muzi\"를 신고했습니다.\n",
        "각 유저별로 신고당한 횟수는 다음과 같습니다.\n",
        "\n",
        "유저 ID\t신고당한 횟수\n",
        "\"muzi\"\t1\n",
        "\"frodo\"\t2\n",
        "\"apeach\"\t0\n",
        "\"neo\"\t2\n",
        "위 예시에서는 2번 이상 신고당한 \"frodo\"와 \"neo\"의 게시판 이용이 정지됩니다. 이때, 각 유저별로 신고한 아이디와 정지된 아이디를 정리하면 다음과 같습니다.\n",
        "\n",
        "유저 ID\t유저가 신고한 ID\t정지된 ID\n",
        "\"muzi\"\t[\"frodo\", \"neo\"]\t[\"frodo\", \"neo\"]\n",
        "\"frodo\"\t[\"neo\"]\t[\"neo\"]\n",
        "\"apeach\"\t[\"muzi\", \"frodo\"]\t[\"frodo\"]\n",
        "\"neo\"\t없음\t없음\n",
        "따라서 \"muzi\"는 처리 결과 메일을 2회, \"frodo\"와 \"apeach\"는 각각 처리 결과 메일을 1회 받게 됩니다.\n",
        "\n",
        "이용자의 ID가 담긴 문자열 배열 id_list, 각 이용자가 신고한 이용자의 ID 정보가 담긴 문자열 배열 report, 정지 기준이 되는 신고 횟수 k가 매개변수로 주어질 때, 각 유저별로 처리 결과 메일을 받은 횟수를 배열에 담아 return 하도록 solution 함수를 완성해주세요.\n",
        "\n",
        "제한사항\n",
        "2 ≤ id_list의 길이 ≤ 1,000\n",
        "1 ≤ id_list의 원소 길이 ≤ 10\n",
        "id_list의 원소는 이용자의 id를 나타내는 문자열이며 알파벳 소문자로만 이루어져 있습니다.\n",
        "id_list에는 같은 아이디가 중복해서 들어있지 않습니다.\n",
        "1 ≤ report의 길이 ≤ 200,000\n",
        "3 ≤ report의 원소 길이 ≤ 21\n",
        "report의 원소는 \"이용자id 신고한id\"형태의 문자열입니다.\n",
        "예를 들어 \"muzi frodo\"의 경우 \"muzi\"가 \"frodo\"를 신고했다는 의미입니다.\n",
        "id는 알파벳 소문자로만 이루어져 있습니다.\n",
        "이용자id와 신고한id는 공백(스페이스)하나로 구분되어 있습니다.\n",
        "자기 자신을 신고하는 경우는 없습니다.\n",
        "1 ≤ k ≤ 200, k는 자연수입니다.\n",
        "return 하는 배열은 id_list에 담긴 id 순서대로 각 유저가 받은 결과 메일 수를 담으면 됩니다.\n",
        "입출력 예\n",
        "id_list\treport\tk\tresult\n",
        "[\"muzi\", \"frodo\", \"apeach\", \"neo\"]\t[\"muzi frodo\",\"apeach frodo\",\"frodo neo\",\"muzi neo\",\"apeach muzi\"]\t2\t[2,1,1,0]\n",
        "[\"con\", \"ryan\"]\t[\"ryan con\", \"ryan con\", \"ryan con\", \"ryan con\"]\t3\t[0,0]\n",
        "입출력 예 설명\n",
        "입출력 예 #1\n",
        "\n",
        "문제의 예시와 같습니다.\n",
        "\n",
        "입출력 예 #2\n",
        "\n",
        "\"ryan\"이 \"con\"을 4번 신고했으나, 주어진 조건에 따라 한 유저가 같은 유저를 여러 번 신고한 경우는 신고 횟수 1회로 처리합니다. 따라서 \"con\"은 1회 신고당했습니다. 3번 이상 신고당한 이용자는 없으며, \"con\"과 \"ryan\"은 결과 메일을 받지 않습니다. 따라서 [0, 0]을 return 합니다.\n",
        "```"
      ],
      "metadata": {
        "id": "HYziHk2mYUx9"
      }
    },
    {
      "cell_type": "code",
      "source": [
        "def solution(id_list, report, k):\n",
        "    # id_list에 맞춰 리스트 생성\n",
        "    answer = [0 for i in range(len(id_list))]\n",
        "    \n",
        "    # 중복제거\n",
        "    report = list(set(report))\n",
        "\n",
        "    # 신고한 유저아이디와 신고당한 유저아이디의 인덱스가 같음\n",
        "    # 딕셔너리는 Key값 자동 중복제거되어 불가\n",
        "    user_id = [] \n",
        "    sel_id = [] # 신고당한 아이디\n",
        "\n",
        "    for i in range(len(report)):\n",
        "        user_id.append(report[i].split()[0])\n",
        "        sel_id.append(report[i].split()[1])\n",
        "    \n",
        "    # 신고 카운트\n",
        "    cnt_id = {}\n",
        "    \n",
        "    for i in range(len(id_list)):\n",
        "        cnt_id[id_list[i]] = sel_id.count(id_list[i])\n",
        "    \n",
        "    # 정지 아이디\n",
        "    stop_id = []\n",
        "    \n",
        "    for key, value in cnt_id.items():\n",
        "        if value >= k:\n",
        "            stop_id.append(key)\n",
        "    \n",
        "    # 메세지 받을 아이디\n",
        "    mes_id = []\n",
        "    \n",
        "    if len(stop_id) >= 1:\n",
        "        for i in range(len(stop_id)):\n",
        "            for j in range(len(sel_id)):\n",
        "                if sel_id[j] == stop_id[i]:\n",
        "                    answer[id_list.index(user_id[j])] += 1\n",
        "\n",
        "    return answer"
      ],
      "metadata": {
        "id": "6H_WxL92RVQA"
      },
      "execution_count": null,
      "outputs": []
    },
    {
      "cell_type": "markdown",
      "source": [
        "채점 결과\n",
        "정확성: 95.8\n",
        "합계: 95.8 / 100.0\n",
        "\n",
        "테스트 3 시간초과\n",
        "for문이 너무 많은것으로 보임"
      ],
      "metadata": {
        "id": "wWXoo-SLY3ML"
      }
    },
    {
      "cell_type": "markdown",
      "source": [
        "# 코딩테스트 연습\n",
        "## 2021 Dev-Matching: 웹 백엔드 개발자(상반기) > 로또의 최고 순위와 최저 순위\n",
        "\n",
        "```\n",
        "문제 설명\n",
        "로또 6/45(이하 '로또'로 표기)는 1부터 45까지의 숫자 중 6개를 찍어서 맞히는 대표적인 복권입니다. 아래는 로또의 순위를 정하는 방식입니다. 1\n",
        "\n",
        "순위\t당첨 내용\n",
        "1\t6개 번호가 모두 일치\n",
        "2\t5개 번호가 일치\n",
        "3\t4개 번호가 일치\n",
        "4\t3개 번호가 일치\n",
        "5\t2개 번호가 일치\n",
        "6(낙첨)\t그 외\n",
        "로또를 구매한 민우는 당첨 번호 발표일을 학수고대하고 있었습니다. 하지만, 민우의 동생이 로또에 낙서를 하여, 일부 번호를 알아볼 수 없게 되었습니다. 당첨 번호 발표 후, 민우는 자신이 구매했던 로또로 당첨이 가능했던 최고 순위와 최저 순위를 알아보고 싶어 졌습니다.\n",
        "알아볼 수 없는 번호를 0으로 표기하기로 하고, 민우가 구매한 로또 번호 6개가 44, 1, 0, 0, 31 25라고 가정해보겠습니다. 당첨 번호 6개가 31, 10, 45, 1, 6, 19라면, 당첨 가능한 최고 순위와 최저 순위의 한 예는 아래와 같습니다.\n",
        "\n",
        "당첨 번호\t31\t10\t45\t1\t6\t19\t결과\n",
        "최고 순위 번호\t31\t0→10\t44\t1\t0→6\t25\t4개 번호 일치, 3등\n",
        "최저 순위 번호\t31\t0→11\t44\t1\t0→7\t25\t2개 번호 일치, 5등\n",
        "순서와 상관없이, 구매한 로또에 당첨 번호와 일치하는 번호가 있으면 맞힌 걸로 인정됩니다.\n",
        "알아볼 수 없는 두 개의 번호를 각각 10, 6이라고 가정하면 3등에 당첨될 수 있습니다.\n",
        "3등을 만드는 다른 방법들도 존재합니다. 하지만, 2등 이상으로 만드는 것은 불가능합니다.\n",
        "알아볼 수 없는 두 개의 번호를 각각 11, 7이라고 가정하면 5등에 당첨될 수 있습니다.\n",
        "5등을 만드는 다른 방법들도 존재합니다. 하지만, 6등(낙첨)으로 만드는 것은 불가능합니다.\n",
        "민우가 구매한 로또 번호를 담은 배열 lottos, 당첨 번호를 담은 배열 win_nums가 매개변수로 주어집니다. 이때, 당첨 가능한 최고 순위와 최저 순위를 차례대로 배열에 담아서 return 하도록 solution 함수를 완성해주세요.\n",
        "\n",
        "제한사항\n",
        "lottos는 길이 6인 정수 배열입니다.\n",
        "lottos의 모든 원소는 0 이상 45 이하인 정수입니다.\n",
        "0은 알아볼 수 없는 숫자를 의미합니다.\n",
        "0을 제외한 다른 숫자들은 lottos에 2개 이상 담겨있지 않습니다.\n",
        "lottos의 원소들은 정렬되어 있지 않을 수도 있습니다.\n",
        "win_nums은 길이 6인 정수 배열입니다.\n",
        "win_nums의 모든 원소는 1 이상 45 이하인 정수입니다.\n",
        "win_nums에는 같은 숫자가 2개 이상 담겨있지 않습니다.\n",
        "win_nums의 원소들은 정렬되어 있지 않을 수도 있습니다.\n",
        "입출력 예\n",
        "lottos\twin_nums\tresult\n",
        "[44, 1, 0, 0, 31, 25]\t[31, 10, 45, 1, 6, 19]\t[3, 5]\n",
        "[0, 0, 0, 0, 0, 0]\t[38, 19, 20, 40, 15, 25]\t[1, 6]\n",
        "[45, 4, 35, 20, 3, 9]\t[20, 9, 3, 45, 4, 35]\t[1, 1]\n",
        "입출력 예 설명\n",
        "입출력 예 #1\n",
        "문제 예시와 같습니다.\n",
        "\n",
        "입출력 예 #2\n",
        "알아볼 수 없는 번호들이 아래와 같았다면, 1등과 6등에 당첨될 수 있습니다.\n",
        "\n",
        "당첨 번호\t38\t19\t20\t40\t15\t25\t결과\n",
        "최고 순위 번호\t0→38\t0→19\t0→20\t0→40\t0→15\t0→25\t6개 번호 일치, 1등\n",
        "최저 순위 번호\t0→21\t0→22\t0→23\t0→24\t0→26\t0→27\t0개 번호 일치, 6등\n",
        "입출력 예 #3\n",
        "민우가 구매한 로또의 번호와 당첨 번호가 모두 일치하므로, 최고 순위와 최저 순위는 모두 1등입니다.\n",
        "```"
      ],
      "metadata": {
        "id": "gThBwvNpg-08"
      }
    },
    {
      "cell_type": "code",
      "source": [
        "# If문 버전\n",
        "def solution(lottos, win_nums):\n",
        "    answer = [0, 0]\n",
        "    \n",
        "    for i in range(6):\n",
        "        if lottos[i] != 0:\n",
        "            if win_nums.count(lottos[i]) == 1:\n",
        "                answer[1] += 1\n",
        "    \n",
        "    if answer[1] == 6:\n",
        "        answer[0] = 6\n",
        "    else:\n",
        "        answer[0] += lottos.count(0)\n",
        "        answer[0] += answer[1]\n",
        "    \n",
        "    for i in range(2):\n",
        "        if answer[i] == 6:\n",
        "            answer[i] = 1\n",
        "        elif answer[i] == 5:\n",
        "            answer[i] = 2\n",
        "        elif answer[i] == 4:\n",
        "            answer[i] = 3\n",
        "        elif answer[i] == 3:\n",
        "            answer[i] = 4\n",
        "        elif answer[i] == 2:\n",
        "            answer[i] = 5\n",
        "        else:\n",
        "            answer[i] = 6\n",
        "    \n",
        "    return answer"
      ],
      "metadata": {
        "id": "JBTC9EAiRVLZ"
      },
      "execution_count": null,
      "outputs": []
    },
    {
      "cell_type": "code",
      "source": [
        "# If문 대신 리스트 사용\n",
        "def solution(lottos, win_nums):\n",
        "    answer = [0, 0]\n",
        "    \n",
        "    for i in range(6):\n",
        "        if lottos[i] != 0:\n",
        "            if win_nums.count(lottos[i]) == 1:\n",
        "                answer[0] += 1\n",
        "                answer[1] += 1\n",
        "    \n",
        "    if answer[0] != 6:\n",
        "        answer[0] += lottos.count(0)\n",
        "    \n",
        "    rank = [6,6,5,4,3,2,1]\n",
        "    \n",
        "    return rank[answer[0]], rank[answer[1]]"
      ],
      "metadata": {
        "id": "X38OMbI-gy4y"
      },
      "execution_count": null,
      "outputs": []
    },
    {
      "cell_type": "markdown",
      "source": [
        "채점 결과\n",
        "정확성: 100.0\n",
        "합계: 100.0 / 100.0\n",
        "\n",
        "굳이 if문 없이도 간단하게 해결 가능"
      ],
      "metadata": {
        "id": "-X5h3a1_hULU"
      }
    },
    {
      "cell_type": "markdown",
      "source": [
        "# 코딩테스트 연습\n",
        "## 2020 KAKAO BLIND RECRUITMENT > 문자열 압축\n",
        "```\n",
        "문제 설명\n",
        "데이터 처리 전문가가 되고 싶은 \"어피치\"는 문자열을 압축하는 방법에 대해 공부를 하고 있습니다. 최근에 대량의 데이터 처리를 위한 간단한 비손실 압축 방법에 대해 공부를 하고 있는데, 문자열에서 같은 값이 연속해서 나타나는 것을 그 문자의 개수와 반복되는 값으로 표현하여 더 짧은 문자열로 줄여서 표현하는 알고리즘을 공부하고 있습니다.\n",
        "간단한 예로 \"aabbaccc\"의 경우 \"2a2ba3c\"(문자가 반복되지 않아 한번만 나타난 경우 1은 생략함)와 같이 표현할 수 있는데, 이러한 방식은 반복되는 문자가 적은 경우 압축률이 낮다는 단점이 있습니다. 예를 들면, \"abcabcdede\"와 같은 문자열은 전혀 압축되지 않습니다. \"어피치\"는 이러한 단점을 해결하기 위해 문자열을 1개 이상의 단위로 잘라서 압축하여 더 짧은 문자열로 표현할 수 있는지 방법을 찾아보려고 합니다.\n",
        "\n",
        "예를 들어, \"ababcdcdababcdcd\"의 경우 문자를 1개 단위로 자르면 전혀 압축되지 않지만, 2개 단위로 잘라서 압축한다면 \"2ab2cd2ab2cd\"로 표현할 수 있습니다. 다른 방법으로 8개 단위로 잘라서 압축한다면 \"2ababcdcd\"로 표현할 수 있으며, 이때가 가장 짧게 압축하여 표현할 수 있는 방법입니다.\n",
        "\n",
        "다른 예로, \"abcabcdede\"와 같은 경우, 문자를 2개 단위로 잘라서 압축하면 \"abcabc2de\"가 되지만, 3개 단위로 자른다면 \"2abcdede\"가 되어 3개 단위가 가장 짧은 압축 방법이 됩니다. 이때 3개 단위로 자르고 마지막에 남는 문자열은 그대로 붙여주면 됩니다.\n",
        "\n",
        "압축할 문자열 s가 매개변수로 주어질 때, 위에 설명한 방법으로 1개 이상 단위로 문자열을 잘라 압축하여 표현한 문자열 중 가장 짧은 것의 길이를 return 하도록 solution 함수를 완성해주세요.\n",
        "\n",
        "제한사항\n",
        "s의 길이는 1 이상 1,000 이하입니다.\n",
        "s는 알파벳 소문자로만 이루어져 있습니다.\n",
        "입출력 예\n",
        "s\tresult\n",
        "\"aabbaccc\"\t7\n",
        "\"ababcdcdababcdcd\"\t9\n",
        "\"abcabcdede\"\t8\n",
        "\"abcabcabcabcdededededede\"\t14\n",
        "\"xababcdcdababcdcd\"\t17\n",
        "입출력 예에 대한 설명\n",
        "입출력 예 #1\n",
        "\n",
        "문자열을 1개 단위로 잘라 압축했을 때 가장 짧습니다.\n",
        "\n",
        "입출력 예 #2\n",
        "\n",
        "문자열을 8개 단위로 잘라 압축했을 때 가장 짧습니다.\n",
        "\n",
        "입출력 예 #3\n",
        "\n",
        "문자열을 3개 단위로 잘라 압축했을 때 가장 짧습니다.\n",
        "\n",
        "입출력 예 #4\n",
        "\n",
        "문자열을 2개 단위로 자르면 \"abcabcabcabc6de\" 가 됩니다.\n",
        "문자열을 3개 단위로 자르면 \"4abcdededededede\" 가 됩니다.\n",
        "문자열을 4개 단위로 자르면 \"abcabcabcabc3dede\" 가 됩니다.\n",
        "문자열을 6개 단위로 자를 경우 \"2abcabc2dedede\"가 되며, 이때의 길이가 14로 가장 짧습니다.\n",
        "\n",
        "입출력 예 #5\n",
        "\n",
        "문자열은 제일 앞부터 정해진 길이만큼 잘라야 합니다.\n",
        "따라서 주어진 문자열을 x / ababcdcd / ababcdcd 로 자르는 것은 불가능 합니다.\n",
        "이 경우 어떻게 문자열을 잘라도 압축되지 않으므로 가장 짧은 길이는 17이 됩니다.\n",
        "```"
      ],
      "metadata": {
        "id": "LLDXi6tJxKfj"
      }
    },
    {
      "cell_type": "code",
      "source": [
        "def solution(s):\n",
        "    answer = []\n",
        "\n",
        "    k = len(s)//2\n",
        "    \n",
        "    for j in range(1,k+1):\n",
        "        slc = []  # 글자수 쪼개기\n",
        "        re = []   # 연속해서 나오는 경우 True\n",
        "\n",
        "        for i in range(j),len(s),j):\n",
        "            slc.append(s[i:i+j])\n",
        "        \n",
        "        for i in range(len(slc)-1):\n",
        "            re.append(slc[i] == slc[i+1])\n",
        "\n",
        "        # 연속된 글자 중복제거\n",
        "        slc_leng = [slc[0]]\n",
        "        for i in range(1,len(slc)):\n",
        "            if slc_leng[-1] == slc[i]:\n",
        "                continue\n",
        "            slc_leng.append(slc[i])\n",
        "\n",
        "        # 연속된 T/F 중복제거\n",
        "        re_leng = [re[0]]\n",
        "        for i in range(1,len(re)):\n",
        "            if re_leng[-1] == re[i]:\n",
        "                continue\n",
        "            re_leng.append(re[i])\n",
        "        \n",
        "        # 글자 연속될 경우 카운트\n",
        "        cnt = re_leng.count(True)\n",
        "\n",
        "        # 글자 붙이기\n",
        "        for i in range(len(slc_leng)):\n",
        "            if i != 0:\n",
        "                slc_len = slc_len + slc_leng[i]\n",
        "            else:\n",
        "                slc_len = slc_leng[i]\n",
        "\n",
        "        answer.append(len(slc_len) + cnt)\n",
        "\n",
        "\n",
        "    return min(answer)"
      ],
      "metadata": {
        "id": "oEaDiZBrD6rx"
      },
      "execution_count": null,
      "outputs": []
    },
    {
      "cell_type": "code",
      "source": [
        "solution(\"aabbaccc\")"
      ],
      "metadata": {
        "colab": {
          "base_uri": "https://localhost:8080/"
        },
        "id": "y0QD1xnnDy8p",
        "outputId": "05b356e7-8af9-450c-cb1c-241f248a5429"
      },
      "execution_count": null,
      "outputs": [
        {
          "output_type": "execute_result",
          "data": {
            "text/plain": [
              "7"
            ]
          },
          "metadata": {},
          "execution_count": 231
        }
      ]
    },
    {
      "cell_type": "code",
      "source": [
        "solution(\"ababcdcdababcdcd\")"
      ],
      "metadata": {
        "colab": {
          "base_uri": "https://localhost:8080/"
        },
        "id": "9H90LwBZDy6v",
        "outputId": "ee5662a4-18f9-4236-d4a1-b97818b2ed1a"
      },
      "execution_count": null,
      "outputs": [
        {
          "output_type": "execute_result",
          "data": {
            "text/plain": [
              "9"
            ]
          },
          "metadata": {},
          "execution_count": 232
        }
      ]
    },
    {
      "cell_type": "code",
      "source": [
        "solution(\"abcabcdede\")"
      ],
      "metadata": {
        "colab": {
          "base_uri": "https://localhost:8080/"
        },
        "id": "x2cl-BeeDy4U",
        "outputId": "0eaeabd6-e3bf-4587-c4c5-edb9f2387c5b"
      },
      "execution_count": null,
      "outputs": [
        {
          "output_type": "execute_result",
          "data": {
            "text/plain": [
              "8"
            ]
          },
          "metadata": {},
          "execution_count": 233
        }
      ]
    },
    {
      "cell_type": "code",
      "source": [
        "solution(\"abcabcabcabcdededededede\")"
      ],
      "metadata": {
        "colab": {
          "base_uri": "https://localhost:8080/"
        },
        "id": "J-m0BiT8Dy2A",
        "outputId": "90315075-06dc-489f-dabd-e401ec22735a"
      },
      "execution_count": null,
      "outputs": [
        {
          "output_type": "execute_result",
          "data": {
            "text/plain": [
              "14"
            ]
          },
          "metadata": {},
          "execution_count": 234
        }
      ]
    },
    {
      "cell_type": "code",
      "source": [
        "solution(\"xababcdcdababcdcd\")"
      ],
      "metadata": {
        "colab": {
          "base_uri": "https://localhost:8080/"
        },
        "id": "fuxmLUvNDyze",
        "outputId": "fb6e65f7-53f7-43e5-a60c-95ff364fcc4e"
      },
      "execution_count": null,
      "outputs": [
        {
          "output_type": "execute_result",
          "data": {
            "text/plain": [
              "17"
            ]
          },
          "metadata": {},
          "execution_count": 235
        }
      ]
    },
    {
      "cell_type": "markdown",
      "source": [
        "채점 결과\n",
        "정확성: 68.0\n",
        "합계: 68.0 / 100.0\n",
        "\n",
        "28문제 중에 9문제 틀림"
      ],
      "metadata": {
        "id": "EXN3jlK_w45M"
      }
    },
    {
      "cell_type": "code",
      "source": [
        "def solution(s): \n",
        "    answer=[] \n",
        "    # input 문자열이 1일때\n",
        "    if len(s)==1: \n",
        "        return 1 \n",
        "\n",
        "    # 글자수 쪼개기 (한글자씩, 두글자씩,..)\n",
        "    for i in range(1, (len(s)//2)+1): \n",
        "        b = '' \n",
        "        cnt = 1\n",
        "        tmp = s[:i] \n",
        "\n",
        "        for j in range(i, len(s), i): \n",
        "            if tmp ==  s[j:i+j]: \n",
        "                cnt += 1\n",
        "            else: \n",
        "                if cnt != 1: \n",
        "                    b = b + str(cnt)+tmp \n",
        "                else: \n",
        "                    b = b + tmp \n",
        "                # 연속으로 같지않으면 다음 글자로 넘어감\n",
        "                tmp = s[j:j+i] \n",
        "                cnt = 1 \n",
        "        \n",
        "        # 마지막 부분이 같을 때 추가 안되고 끝남\n",
        "        if cnt != 1: \n",
        "            b = b + str(cnt) + tmp \n",
        "        else: \n",
        "            b = b + tmp \n",
        "        \n",
        "        answer.append(len(b)) \n",
        "        \n",
        "    \n",
        "    return min(answer)"
      ],
      "metadata": {
        "id": "339PPlo_Dyw6"
      },
      "execution_count": null,
      "outputs": []
    },
    {
      "cell_type": "code",
      "source": [
        "solution(\"aabbaccc\")"
      ],
      "metadata": {
        "colab": {
          "base_uri": "https://localhost:8080/"
        },
        "outputId": "bff39506-8240-4e02-ee56-99da20eeac8c",
        "id": "j3enRiIe7pJ6"
      },
      "execution_count": null,
      "outputs": [
        {
          "output_type": "execute_result",
          "data": {
            "text/plain": [
              "7"
            ]
          },
          "metadata": {},
          "execution_count": 271
        }
      ]
    },
    {
      "cell_type": "code",
      "source": [
        "solution(\"ababcdcdababcdcd\")"
      ],
      "metadata": {
        "colab": {
          "base_uri": "https://localhost:8080/"
        },
        "outputId": "987e6a6a-7fe5-40a2-9b4c-dee3f6428e86",
        "id": "FJJFj4267pKA"
      },
      "execution_count": null,
      "outputs": [
        {
          "output_type": "execute_result",
          "data": {
            "text/plain": [
              "9"
            ]
          },
          "metadata": {},
          "execution_count": 272
        }
      ]
    },
    {
      "cell_type": "code",
      "source": [
        "solution(\"abcabcdede\")"
      ],
      "metadata": {
        "colab": {
          "base_uri": "https://localhost:8080/"
        },
        "outputId": "d4ed3972-7530-4276-dc44-7c82e66f677b",
        "id": "5F6imUEm7pKA"
      },
      "execution_count": null,
      "outputs": [
        {
          "output_type": "execute_result",
          "data": {
            "text/plain": [
              "8"
            ]
          },
          "metadata": {},
          "execution_count": 273
        }
      ]
    },
    {
      "cell_type": "code",
      "source": [
        "solution(\"abcabcabcabcdededededede\")"
      ],
      "metadata": {
        "colab": {
          "base_uri": "https://localhost:8080/"
        },
        "outputId": "514247b3-66de-44cf-c176-89a017bb6d23",
        "id": "OQYvRi1L7pKA"
      },
      "execution_count": null,
      "outputs": [
        {
          "output_type": "execute_result",
          "data": {
            "text/plain": [
              "14"
            ]
          },
          "metadata": {},
          "execution_count": 274
        }
      ]
    },
    {
      "cell_type": "code",
      "source": [
        "solution(\"xababcdcdababcdcd\")"
      ],
      "metadata": {
        "colab": {
          "base_uri": "https://localhost:8080/"
        },
        "outputId": "ec3b9bc8-32a7-4767-9110-2e88f0615fae",
        "id": "nQoL9erQ7pKA"
      },
      "execution_count": null,
      "outputs": [
        {
          "output_type": "execute_result",
          "data": {
            "text/plain": [
              "17"
            ]
          },
          "metadata": {},
          "execution_count": 275
        }
      ]
    },
    {
      "cell_type": "markdown",
      "source": [
        "채점 결과\n",
        "정확성: 100.0\n",
        "합계: 100.0 / 100.0"
      ],
      "metadata": {
        "id": "WPbVzqRbBqI7"
      }
    },
    {
      "cell_type": "code",
      "source": [
        ""
      ],
      "metadata": {
        "id": "vOmlBNGyDyuo"
      },
      "execution_count": null,
      "outputs": []
    },
    {
      "cell_type": "markdown",
      "source": [
        "# 코딩테스트 연습\n",
        "## 2019 KAKAO BLIND RECRUITMENT > 오픈채팅방\n",
        "\n",
        "```\n",
        "문제 설명\n",
        "오픈채팅방\n",
        "카카오톡 오픈채팅방에서는 친구가 아닌 사람들과 대화를 할 수 있는데, 본래 닉네임이 아닌 가상의 닉네임을 사용하여 채팅방에 들어갈 수 있다.\n",
        "\n",
        "신입사원인 김크루는 카카오톡 오픈 채팅방을 개설한 사람을 위해, 다양한 사람들이 들어오고, 나가는 것을 지켜볼 수 있는 관리자창을 만들기로 했다. 채팅방에 누군가 들어오면 다음 메시지가 출력된다.\n",
        "\n",
        "\"[닉네임]님이 들어왔습니다.\"\n",
        "\n",
        "채팅방에서 누군가 나가면 다음 메시지가 출력된다.\n",
        "\n",
        "\"[닉네임]님이 나갔습니다.\"\n",
        "\n",
        "채팅방에서 닉네임을 변경하는 방법은 다음과 같이 두 가지이다.\n",
        "\n",
        "채팅방을 나간 후, 새로운 닉네임으로 다시 들어간다.\n",
        "채팅방에서 닉네임을 변경한다.\n",
        "닉네임을 변경할 때는 기존에 채팅방에 출력되어 있던 메시지의 닉네임도 전부 변경된다.\n",
        "\n",
        "예를 들어, 채팅방에 \"Muzi\"와 \"Prodo\"라는 닉네임을 사용하는 사람이 순서대로 들어오면 채팅방에는 다음과 같이 메시지가 출력된다.\n",
        "\n",
        "\"Muzi님이 들어왔습니다.\"\n",
        "\"Prodo님이 들어왔습니다.\"\n",
        "\n",
        "채팅방에 있던 사람이 나가면 채팅방에는 다음과 같이 메시지가 남는다.\n",
        "\n",
        "\"Muzi님이 들어왔습니다.\"\n",
        "\"Prodo님이 들어왔습니다.\"\n",
        "\"Muzi님이 나갔습니다.\"\n",
        "\n",
        "Muzi가 나간후 다시 들어올 때, Prodo 라는 닉네임으로 들어올 경우 기존에 채팅방에 남아있던 Muzi도 Prodo로 다음과 같이 변경된다.\n",
        "\n",
        "\"Prodo님이 들어왔습니다.\"\n",
        "\"Prodo님이 들어왔습니다.\"\n",
        "\"Prodo님이 나갔습니다.\"\n",
        "\"Prodo님이 들어왔습니다.\"\n",
        "\n",
        "채팅방은 중복 닉네임을 허용하기 때문에, 현재 채팅방에는 Prodo라는 닉네임을 사용하는 사람이 두 명이 있다. 이제, 채팅방에 두 번째로 들어왔던 Prodo가 Ryan으로 닉네임을 변경하면 채팅방 메시지는 다음과 같이 변경된다.\n",
        "\n",
        "\"Prodo님이 들어왔습니다.\"\n",
        "\"Ryan님이 들어왔습니다.\"\n",
        "\"Prodo님이 나갔습니다.\"\n",
        "\"Prodo님이 들어왔습니다.\"\n",
        "\n",
        "채팅방에 들어오고 나가거나, 닉네임을 변경한 기록이 담긴 문자열 배열 record가 매개변수로 주어질 때, 모든 기록이 처리된 후, 최종적으로 방을 개설한 사람이 보게 되는 메시지를 문자열 배열 형태로 return 하도록 solution 함수를 완성하라.\n",
        "\n",
        "제한사항\n",
        "record는 다음과 같은 문자열이 담긴 배열이며, 길이는 1 이상 100,000 이하이다.\n",
        "다음은 record에 담긴 문자열에 대한 설명이다.\n",
        "모든 유저는 [유저 아이디]로 구분한다.\n",
        "[유저 아이디] 사용자가 [닉네임]으로 채팅방에 입장 - \"Enter [유저 아이디] [닉네임]\" (ex. \"Enter uid1234 Muzi\")\n",
        "[유저 아이디] 사용자가 채팅방에서 퇴장 - \"Leave [유저 아이디]\" (ex. \"Leave uid1234\")\n",
        "[유저 아이디] 사용자가 닉네임을 [닉네임]으로 변경 - \"Change [유저 아이디] [닉네임]\" (ex. \"Change uid1234 Muzi\")\n",
        "첫 단어는 Enter, Leave, Change 중 하나이다.\n",
        "각 단어는 공백으로 구분되어 있으며, 알파벳 대문자, 소문자, 숫자로만 이루어져있다.\n",
        "유저 아이디와 닉네임은 알파벳 대문자, 소문자를 구별한다.\n",
        "유저 아이디와 닉네임의 길이는 1 이상 10 이하이다.\n",
        "채팅방에서 나간 유저가 닉네임을 변경하는 등 잘못 된 입력은 주어지지 않는다.\n",
        "입출력 예\n",
        "record\tresult\n",
        "[\"Enter uid1234 Muzi\", \"Enter uid4567 Prodo\",\"Leave uid1234\",\"Enter uid1234 Prodo\",\"Change uid4567 Ryan\"]\t[\"Prodo님이 들어왔습니다.\", \"Ryan님이 들어왔습니다.\", \"Prodo님이 나갔습니다.\", \"Prodo님이 들어왔습니다.\"]\n",
        "```"
      ],
      "metadata": {
        "id": "C39pHSCqLKqL"
      }
    },
    {
      "cell_type": "code",
      "source": [
        "def solution(record):\n",
        "    answer = []\n",
        "    nic = {}  # 중복제거 되더라도 마지막 정보만 필요\n",
        "    \n",
        "    # key = 아이디, value = 닉네임 (+예외처리)\n",
        "    for i in range(len(record)):\n",
        "        try:\n",
        "            nic[record[i].split(\" \")[1]] = record[i].split(\" \")[2]\n",
        "        except:\n",
        "            pass\n",
        "    \n",
        "    # 상황에 따라 결과출력\n",
        "    for i in range(len(record)):\n",
        "        name = nic[record[i].split(\" \")[1]]\n",
        "        if record[i].split(\" \")[0] == \"Enter\":\n",
        "            answer.append(f\"{name}님이 들어왔습니다.\")\n",
        "        elif record[i].split(\" \")[0] == \"Leave\":\n",
        "            answer.append(f\"{name}님이 나갔습니다.\")\n",
        "    \n",
        "    return answer"
      ],
      "metadata": {
        "id": "bnLUs4FDDysF"
      },
      "execution_count": null,
      "outputs": []
    },
    {
      "cell_type": "code",
      "source": [
        "solution([\"Enter uid1234 Muzi\", \"Enter uid4567 Prodo\",\"Leave uid1234\",\"Enter uid1234 Prodo\",\"Change uid4567 Ryan\"])"
      ],
      "metadata": {
        "colab": {
          "base_uri": "https://localhost:8080/"
        },
        "id": "MULmJAmzEIDa",
        "outputId": "98595b95-ea0e-485e-cb2e-0cc3e5579b99"
      },
      "execution_count": null,
      "outputs": [
        {
          "output_type": "execute_result",
          "data": {
            "text/plain": [
              "['Prodo님이 들어왔습니다.', 'Ryan님이 들어왔습니다.', 'Prodo님이 나갔습니다.', 'Prodo님이 들어왔습니다.']"
            ]
          },
          "metadata": {},
          "execution_count": 315
        }
      ]
    },
    {
      "cell_type": "markdown",
      "source": [
        "채점 결과\n",
        "정확성: 100.0\n",
        "합계: 100.0 / 100.0"
      ],
      "metadata": {
        "id": "v9UXAI_NLwx3"
      }
    },
    {
      "cell_type": "code",
      "source": [
        ""
      ],
      "metadata": {
        "id": "1NsopkMqRA-d"
      },
      "execution_count": null,
      "outputs": []
    }
  ]
}
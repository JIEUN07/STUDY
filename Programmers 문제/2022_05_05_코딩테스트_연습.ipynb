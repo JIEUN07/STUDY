{
  "nbformat": 4,
  "nbformat_minor": 0,
  "metadata": {
    "colab": {
      "name": "2022-05-05_코딩테스트_연습.ipynb",
      "provenance": [],
      "collapsed_sections": []
    },
    "kernelspec": {
      "name": "python3",
      "display_name": "Python 3"
    },
    "language_info": {
      "name": "python"
    }
  },
  "cells": [
    {
      "cell_type": "markdown",
      "source": [
        "# 코딩테스트 연습\n",
        "## 2021 카카오 채용연계형 인턴십 > 숫자 문자열과 영단어\n",
        "\n",
        "```\n",
        "문제 설명\n",
        "img1.png\n",
        "\n",
        "네오와 프로도가 숫자놀이를 하고 있습니다. 네오가 프로도에게 숫자를 건넬 때 일부 자릿수를 영단어로 바꾼 카드를 건네주면 프로도는 원래 숫자를 찾는 게임입니다.\n",
        "\n",
        "다음은 숫자의 일부 자릿수를 영단어로 바꾸는 예시입니다.\n",
        "\n",
        "1478 → \"one4seveneight\"\n",
        "234567 → \"23four5six7\"\n",
        "10203 → \"1zerotwozero3\"\n",
        "이렇게 숫자의 일부 자릿수가 영단어로 바뀌어졌거나, 혹은 바뀌지 않고 그대로인 문자열 s가 매개변수로 주어집니다. s가 의미하는 원래 숫자를 return 하도록 solution 함수를 완성해주세요.\n",
        "\n",
        "참고로 각 숫자에 대응되는 영단어는 다음 표와 같습니다.\n",
        "\n",
        "숫자\t영단어\n",
        "0\tzero\n",
        "1\tone\n",
        "2\ttwo\n",
        "3\tthree\n",
        "4\tfour\n",
        "5\tfive\n",
        "6\tsix\n",
        "7\tseven\n",
        "8\teight\n",
        "9\tnine\n",
        "제한사항\n",
        "1 ≤ s의 길이 ≤ 50\n",
        "s가 \"zero\" 또는 \"0\"으로 시작하는 경우는 주어지지 않습니다.\n",
        "return 값이 1 이상 2,000,000,000 이하의 정수가 되는 올바른 입력만 s로 주어집니다.\n",
        "입출력 예\n",
        "s\tresult\n",
        "\"one4seveneight\"\t1478\n",
        "\"23four5six7\"\t234567\n",
        "\"2three45sixseven\"\t234567\n",
        "\"123\"\t123\n",
        "입출력 예 설명\n",
        "입출력 예 #1\n",
        "\n",
        "문제 예시와 같습니다.\n",
        "입출력 예 #2\n",
        "\n",
        "문제 예시와 같습니다.\n",
        "입출력 예 #3\n",
        "\n",
        "\"three\"는 3, \"six\"는 6, \"seven\"은 7에 대응되기 때문에 정답은 입출력 예 #2와 같은 234567이 됩니다.\n",
        "입출력 예 #2와 #3과 같이 같은 정답을 가리키는 문자열이 여러 가지가 나올 수 있습니다.\n",
        "입출력 예 #4\n",
        "\n",
        "s에는 영단어로 바뀐 부분이 없습니다.\n",
        "```"
      ],
      "metadata": {
        "id": "bSpGYwR_rJQC"
      }
    },
    {
      "cell_type": "code",
      "source": [
        "def solution(s):\n",
        "    e_num = [\"zero\", \"one\", \"two\", \"three\", \"four\", \"five\", \"six\", \"seven\", \"eight\", \"nine\"]\n",
        "    \n",
        "    for i in range(len(e_num)):\n",
        "        if e_num[i] in s:\n",
        "            s = s.replace(e_num[i], str(i))\n",
        "    \n",
        "    return int(s)"
      ],
      "metadata": {
        "id": "hg44aZFaOADE"
      },
      "execution_count": null,
      "outputs": []
    },
    {
      "cell_type": "code",
      "source": [
        "solution(\"one0seveneight\")"
      ],
      "metadata": {
        "colab": {
          "base_uri": "https://localhost:8080/"
        },
        "id": "OMLh7_Z4q6jo",
        "outputId": "8982ecc2-1c00-4c3f-cae6-2980f93898d7"
      },
      "execution_count": null,
      "outputs": [
        {
          "output_type": "execute_result",
          "data": {
            "text/plain": [
              "1078"
            ]
          },
          "metadata": {},
          "execution_count": 17
        }
      ]
    },
    {
      "cell_type": "code",
      "source": [
        "solution(\"23four5six7\")"
      ],
      "metadata": {
        "colab": {
          "base_uri": "https://localhost:8080/"
        },
        "id": "XubzF7XTq6gt",
        "outputId": "0d178547-b11d-4b22-87e4-6a1d130e1726"
      },
      "execution_count": null,
      "outputs": [
        {
          "output_type": "execute_result",
          "data": {
            "text/plain": [
              "234567"
            ]
          },
          "metadata": {},
          "execution_count": 18
        }
      ]
    },
    {
      "cell_type": "code",
      "source": [
        "solution(\"2three45sixseven\")"
      ],
      "metadata": {
        "colab": {
          "base_uri": "https://localhost:8080/"
        },
        "id": "9wsPFOEIq6eL",
        "outputId": "6044888b-3e53-42b7-960f-74abe25c991e"
      },
      "execution_count": null,
      "outputs": [
        {
          "output_type": "execute_result",
          "data": {
            "text/plain": [
              "234567"
            ]
          },
          "metadata": {},
          "execution_count": 19
        }
      ]
    },
    {
      "cell_type": "code",
      "source": [
        "solution(\"123\")"
      ],
      "metadata": {
        "colab": {
          "base_uri": "https://localhost:8080/"
        },
        "id": "rtubPGGJq6br",
        "outputId": "bc51ec74-cab4-4b95-c829-3c185d79c048"
      },
      "execution_count": null,
      "outputs": [
        {
          "output_type": "execute_result",
          "data": {
            "text/plain": [
              "123"
            ]
          },
          "metadata": {},
          "execution_count": 20
        }
      ]
    },
    {
      "cell_type": "markdown",
      "source": [
        "채점 결과\n",
        "정확성: 100.0\n",
        "합계: 100.0 / 100.0\n",
        "\n",
        "replace 결과값은 저장해야함"
      ],
      "metadata": {
        "id": "ybROH5F6rWzs"
      }
    },
    {
      "cell_type": "markdown",
      "source": [
        "# 코딩테스트 연습\n",
        "## 정렬 > K번째수\n",
        "\n",
        "```\n",
        "문제 설명\n",
        "배열 array의 i번째 숫자부터 j번째 숫자까지 자르고 정렬했을 때, k번째에 있는 수를 구하려 합니다.\n",
        "\n",
        "예를 들어 array가 [1, 5, 2, 6, 3, 7, 4], i = 2, j = 5, k = 3이라면\n",
        "\n",
        "array의 2번째부터 5번째까지 자르면 [5, 2, 6, 3]입니다.\n",
        "1에서 나온 배열을 정렬하면 [2, 3, 5, 6]입니다.\n",
        "2에서 나온 배열의 3번째 숫자는 5입니다.\n",
        "배열 array, [i, j, k]를 원소로 가진 2차원 배열 commands가 매개변수로 주어질 때, \n",
        "commands의 모든 원소에 대해 앞서 설명한 연산을 적용했을 때 나온 결과를 배열에 담아 return 하도록 solution 함수를 작성해주세요.\n",
        "\n",
        "제한사항\n",
        "array의 길이는 1 이상 100 이하입니다.\n",
        "array의 각 원소는 1 이상 100 이하입니다.\n",
        "commands의 길이는 1 이상 50 이하입니다.\n",
        "commands의 각 원소는 길이가 3입니다.\n",
        "입출력 예\n",
        "array\tcommands\treturn\n",
        "[1, 5, 2, 6, 3, 7, 4]\t[[2, 5, 3], [4, 4, 1], [1, 7, 3]]\t[5, 6, 3]\n",
        "입출력 예 설명\n",
        "[1, 5, 2, 6, 3, 7, 4]를 2번째부터 5번째까지 자른 후 정렬합니다. [2, 3, 5, 6]의 세 번째 숫자는 5입니다.\n",
        "[1, 5, 2, 6, 3, 7, 4]를 4번째부터 4번째까지 자른 후 정렬합니다. [6]의 첫 번째 숫자는 6입니다.\n",
        "[1, 5, 2, 6, 3, 7, 4]를 1번째부터 7번째까지 자릅니다. [1, 2, 3, 4, 5, 6, 7]의 세 번째 숫자는 3입니다.\n",
        "```"
      ],
      "metadata": {
        "id": "bxHGqObJw1n_"
      }
    },
    {
      "cell_type": "code",
      "source": [
        "def solution(array, commands):\n",
        "    answer = []\n",
        "      \n",
        "    for i in range(len(commands)):\n",
        "        a = commands[i][0] - 1\n",
        "        b = commands[i][1]\n",
        "        c = commands[i][2] - 1\n",
        "        # arr_so = sorted(array[a:b])\n",
        "        # arr_so.sort()\n",
        "        answer.append(sorted(array[a:b])[c])\n",
        "        \n",
        "    return answer"
      ],
      "metadata": {
        "id": "LsFPtvClq6ZL"
      },
      "execution_count": null,
      "outputs": []
    },
    {
      "cell_type": "code",
      "source": [
        "solution([1, 5, 2, 6, 3, 7, 4], [[2, 5, 3], [4, 4, 1], [1, 7, 3]])"
      ],
      "metadata": {
        "colab": {
          "base_uri": "https://localhost:8080/"
        },
        "id": "UOMMh_8Gq6Wt",
        "outputId": "f9100985-d170-482e-ad8a-5630028cf1c1"
      },
      "execution_count": null,
      "outputs": [
        {
          "output_type": "execute_result",
          "data": {
            "text/plain": [
              "[5, 6, 3]"
            ]
          },
          "metadata": {},
          "execution_count": 40
        }
      ]
    },
    {
      "cell_type": "markdown",
      "source": [
        "채점 결과\n",
        "정확성: 100.0\n",
        "합계: 100.0 / 100.0\n",
        "\n",
        "list에는 .sort() 사용시 따로 저장없이 다음줄에 써야 오류가 나지않음\n",
        "sorted(list)는 바로 사용 가능"
      ],
      "metadata": {
        "id": "OZEbX0Xkwhpc"
      }
    },
    {
      "cell_type": "markdown",
      "source": [
        "# 코딩테스트 연습\n",
        "## Summer/Winter Coding(2019) > 멀쩡한 사각형\n",
        "```\n",
        "문제 설명\n",
        "가로 길이가 Wcm, 세로 길이가 Hcm인 직사각형 종이가 있습니다. \n",
        "종이에는 가로, 세로 방향과 평행하게 격자 형태로 선이 그어져 있으며, 모든 격자칸은 1cm x 1cm 크기입니다. \n",
        "이 종이를 격자 선을 따라 1cm × 1cm의 정사각형으로 잘라 사용할 예정이었는데, 누군가가 이 종이를 대각선 꼭지점 2개를 잇는 방향으로 잘라 놓았습니다. \n",
        "그러므로 현재 직사각형 종이는 크기가 같은 직각삼각형 2개로 나누어진 상태입니다. 새로운 종이를 구할 수 없는 상태이기 때문에, \n",
        "이 종이에서 원래 종이의 가로, 세로 방향과 평행하게 1cm × 1cm로 잘라 사용할 수 있는 만큼만 사용하기로 하였습니다.\n",
        "가로의 길이 W와 세로의 길이 H가 주어질 때, 사용할 수 있는 정사각형의 개수를 구하는 solution 함수를 완성해 주세요.\n",
        "\n",
        "제한사항\n",
        "W, H : 1억 이하의 자연수\n",
        "입출력 예\n",
        "W\tH\tresult\n",
        "8\t12\t80\n",
        "입출력 예 설명\n",
        "입출력 예 #1\n",
        "가로가 8, 세로가 12인 직사각형을 대각선 방향으로 자르면 총 16개 정사각형을 사용할 수 없게 됩니다. \n",
        "원래 직사각형에서는 96개의 정사각형을 만들 수 있었으므로, 96 - 16 = 80 을 반환합니다.\n",
        "```"
      ],
      "metadata": {
        "id": "7OKpdIAjBVj8"
      }
    },
    {
      "cell_type": "code",
      "source": [
        "import math\n",
        "\n",
        "def solution(w,h):\n",
        "    w_list = [w,0]\n",
        "    h_list = [0,h]\n",
        "    a = (w_list[1]-h_list[1])/(w_list[0]-h_list[0])\n",
        "\n",
        "    n = 0\n",
        "    \n",
        "    for x in range(w+1):\n",
        "        if x != 0:\n",
        "            n += math.ceil(a * (x-1)) - math.floor(a * x)\n",
        "            \n",
        "    return w*h - n"
      ],
      "metadata": {
        "id": "I6XIWcIlw8sx"
      },
      "execution_count": null,
      "outputs": []
    },
    {
      "cell_type": "code",
      "source": [
        "solution(8,12)"
      ],
      "metadata": {
        "colab": {
          "base_uri": "https://localhost:8080/"
        },
        "id": "ta9EKGDGw8qz",
        "outputId": "97beb4a7-e29d-42b3-b4d0-1e3def7c024a"
      },
      "execution_count": null,
      "outputs": [
        {
          "output_type": "execute_result",
          "data": {
            "text/plain": [
              "80"
            ]
          },
          "metadata": {},
          "execution_count": 53
        }
      ]
    },
    {
      "cell_type": "markdown",
      "source": [
        "채점 결과\n",
        "정확성: 77.8\n",
        "합계: 77.8 / 100.0\n",
        "\n",
        "실패 1문제, 시간초과 3문제"
      ],
      "metadata": {
        "id": "-6Zp06NgCJnK"
      }
    },
    {
      "cell_type": "code",
      "source": [
        "import math\n",
        "\n",
        "def solution(w,h):\n",
        "    \n",
        "    # 최소제곱법 사용\n",
        "    n = math.gcd(w,h)\n",
        "    \n",
        "    # 사각형 넓이 - 가장자리 빼기 - 최대공약수 빼기\n",
        "    return w*h - (w+h-1) + n-1"
      ],
      "metadata": {
        "id": "lZz2KtR7ocS5"
      },
      "execution_count": null,
      "outputs": []
    },
    {
      "cell_type": "code",
      "source": [
        "solution(8,12)"
      ],
      "metadata": {
        "colab": {
          "base_uri": "https://localhost:8080/"
        },
        "id": "D_9hNIiGKoJr",
        "outputId": "e97c80d4-e46a-45cd-fc37-400f77776205"
      },
      "execution_count": null,
      "outputs": [
        {
          "output_type": "execute_result",
          "data": {
            "text/plain": [
              "80"
            ]
          },
          "metadata": {},
          "execution_count": 58
        }
      ]
    },
    {
      "cell_type": "markdown",
      "source": [
        "채점 결과\n",
        "정확성: 100.0\n",
        "합계: 100.0 / 100.0\n",
        "\n",
        "최대공약수 함수 math.gcd()"
      ],
      "metadata": {
        "id": "ICADr0rlKp43"
      }
    },
    {
      "cell_type": "markdown",
      "source": [
        "# 코딩테스트 연습\n",
        "## 월간 코드 챌린지 시즌1 > 내적\n",
        "```\n",
        "문제 설명\n",
        "길이가 같은 두 1차원 정수 배열 a, b가 매개변수로 주어집니다. a와 b의 내적을 return 하도록 solution 함수를 완성해주세요.\n",
        "\n",
        "이때, a와 b의 내적은 a[0]*b[0] + a[1]*b[1] + ... + a[n-1]*b[n-1] 입니다. (n은 a, b의 길이)\n",
        "\n",
        "제한사항\n",
        "a, b의 길이는 1 이상 1,000 이하입니다.\n",
        "a, b의 모든 수는 -1,000 이상 1,000 이하입니다.\n",
        "입출력 예\n",
        "a\tb\tresult\n",
        "[1,2,3,4]\t[-3,-1,0,2]\t3\n",
        "[-1,0,1]\t[1,0,-1]\t-2\n",
        "입출력 예 설명\n",
        "입출력 예 #1\n",
        "\n",
        "a와 b의 내적은 1*(-3) + 2*(-1) + 3*0 + 4*2 = 3 입니다.\n",
        "입출력 예 #2\n",
        "\n",
        "a와 b의 내적은 (-1)*1 + 0*0 + 1*(-1) = -2 입니다.\n",
        "```"
      ],
      "metadata": {
        "id": "wQqYzKHoTndd"
      }
    },
    {
      "cell_type": "code",
      "source": [
        "def solution(a, b):\n",
        "    for i in range(len(a)):\n",
        "        if i != 0:\n",
        "            answer = answer + a[i]*b[i]\n",
        "        else:\n",
        "            answer = a[i]*b[i]\n",
        "    return answer"
      ],
      "metadata": {
        "id": "1NsopkMqRA-d"
      },
      "execution_count": null,
      "outputs": []
    },
    {
      "cell_type": "code",
      "source": [
        "solution([1,2,3,4],[-3,-1,0,2])"
      ],
      "metadata": {
        "colab": {
          "base_uri": "https://localhost:8080/"
        },
        "id": "PJ_ln7RuTh-8",
        "outputId": "64d3572e-5e60-4b8b-831c-2dc6cdc13e08"
      },
      "execution_count": null,
      "outputs": [
        {
          "output_type": "execute_result",
          "data": {
            "text/plain": [
              "3"
            ]
          },
          "metadata": {},
          "execution_count": 61
        }
      ]
    },
    {
      "cell_type": "markdown",
      "source": [
        "채점 결과\n",
        "정확성: 100.0\n",
        "합계: 100.0 / 100.0"
      ],
      "metadata": {
        "id": "UAzIJv0OTwve"
      }
    },
    {
      "cell_type": "code",
      "source": [
        "def solution(a, b):\n",
        "\n",
        "    # zip 활용 코드\n",
        "    return sum(x*y for x, y in zip(a,b))"
      ],
      "metadata": {
        "id": "sSfmp9reTlJD"
      },
      "execution_count": null,
      "outputs": []
    },
    {
      "cell_type": "code",
      "source": [
        "solution([1,2,3,4],[-3,-1,0,2])"
      ],
      "metadata": {
        "colab": {
          "base_uri": "https://localhost:8080/"
        },
        "id": "H5K7bKmfT-2G",
        "outputId": "d1771e77-fe2d-475c-e93a-9a5af28274ac"
      },
      "execution_count": null,
      "outputs": [
        {
          "output_type": "execute_result",
          "data": {
            "text/plain": [
              "3"
            ]
          },
          "metadata": {},
          "execution_count": 63
        }
      ]
    },
    {
      "cell_type": "code",
      "source": [
        ""
      ],
      "metadata": {
        "id": "Gkdec9aO0X4O"
      },
      "execution_count": null,
      "outputs": []
    },
    {
      "cell_type": "code",
      "source": [
        ""
      ],
      "metadata": {
        "id": "8swQdRwB0X17"
      },
      "execution_count": null,
      "outputs": []
    }
  ]
}
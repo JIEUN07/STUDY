{
 "cells": [
  {
   "cell_type": "markdown",
   "id": "e31e2532",
   "metadata": {},
   "source": [
    "N개의 정수가 주어진다. 이때, 최솟값과 최댓값을 구하는 프로그램을 작성하시오.\n",
    "첫째 줄에 정수의 개수 N (1 ≤ N ≤ 1,000,000)이 주어진다. 둘째 줄에는 N개의 정수를 공백으로 구분해서 주어진다. 모든 정수는 -1,000,000보다 크거나 같고, 1,000,000보다 작거나 같은 정수이다.\n",
    "첫째 줄에 주어진 정수 N개의 최솟값과 최댓값을 공백으로 구분해 출력한다."
   ]
  },
  {
   "cell_type": "code",
   "execution_count": 10,
   "id": "1047498a",
   "metadata": {},
   "outputs": [
    {
     "name": "stdout",
     "output_type": "stream",
     "text": [
      "5\n",
      "1 2 3 4 5\n",
      "1 5\n"
     ]
    }
   ],
   "source": [
    "N = int(input())\n",
    "\n",
    "A = list(map(int, input().split()))\n",
    "print(min(A), max(A))"
   ]
  },
  {
   "cell_type": "markdown",
   "id": "7f6a038c",
   "metadata": {},
   "source": [
    "9개의 서로 다른 자연수가 주어질 때, 이들 중 최댓값을 찾고 그 최댓값이 몇 번째 수인지를 구하는 프로그램을 작성하시오.\n",
    "예를 들어, 서로 다른 9개의 자연수\n",
    "3, 29, 38, 12, 57, 74, 40, 85, 61\n",
    "이 주어지면, 이들 중 최댓값은 85이고, 이 값은 8번째 수이다."
   ]
  },
  {
   "cell_type": "code",
   "execution_count": 19,
   "id": "ecf89298",
   "metadata": {},
   "outputs": [
    {
     "name": "stdout",
     "output_type": "stream",
     "text": [
      "25\n",
      "16\n",
      "25\n",
      "22\n",
      "2\n",
      "26\n",
      "29\n",
      "95\n",
      "54\n",
      "95 8\n"
     ]
    }
   ],
   "source": [
    "A = []\n",
    "n = 0\n",
    "\n",
    "while True:\n",
    "    if (n != 9):\n",
    "        n += 1\n",
    "        B = int(input())\n",
    "        A.append(B)\n",
    "    else:\n",
    "        break\n",
    "        \n",
    "print(max(A), A.index(max(A))+1)"
   ]
  },
  {
   "cell_type": "markdown",
   "id": "f6ed55e1",
   "metadata": {},
   "source": [
    "세 개의 자연수 A, B, C가 주어질 때 A × B × C를 계산한 결과에 0부터 9까지 각각의 숫자가 몇 번씩 쓰였는지를 구하는 프로그램을 작성하시오.\n",
    "\n",
    "예를 들어 A = 150, B = 266, C = 427 이라면 A × B × C = 150 × 266 × 427 = 17037300 이 되고, 계산한 결과 17037300 에는 0이 3번, 1이 1번, 3이 2번, 7이 2번 쓰였다.\n"
   ]
  },
  {
   "cell_type": "code",
   "execution_count": 41,
   "id": "893d1ff2",
   "metadata": {},
   "outputs": [
    {
     "name": "stdout",
     "output_type": "stream",
     "text": [
      "123\n",
      "456\n",
      "123\n",
      "0\n",
      "0\n",
      "1\n",
      "0\n",
      "1\n",
      "0\n",
      "1\n",
      "0\n",
      "3\n",
      "1\n"
     ]
    }
   ],
   "source": [
    "A = int(input())\n",
    "B = int(input())\n",
    "C = int(input())\n",
    "D = list(str(A*B*C))\n",
    "\n",
    "L = [0,0,0,0,0,0,0,0,0,0]\n",
    "\n",
    "for i in range(len(D)):\n",
    "    if (D[i] == '0'):\n",
    "        L[0] += 1\n",
    "    elif (D[i] == '1'):\n",
    "        L[1] += 1\n",
    "    elif (D[i] == '2'):\n",
    "        L[2] += 1\n",
    "    elif (D[i] == '3'):\n",
    "        L[3] += 1\n",
    "    elif (D[i] == '4'):\n",
    "        L[4] += 1\n",
    "    elif (D[i] == '5'):\n",
    "        L[5] += 1\n",
    "    elif (D[i] == '6'):\n",
    "        L[6] += 1\n",
    "    elif (D[i] == '7'):\n",
    "        L[7] += 1\n",
    "    elif (D[i] == '8'):\n",
    "        L[8] += 1\n",
    "    else:\n",
    "        L[9] += 1\n",
    "\n",
    "for i in range(len(L)):\n",
    "    print(L[i])"
   ]
  },
  {
   "cell_type": "code",
   "execution_count": 20,
   "id": "feb360ad",
   "metadata": {},
   "outputs": [
    {
     "name": "stdout",
     "output_type": "stream",
     "text": [
      "156\n",
      "423\n",
      "263\n",
      "0\n",
      "1\n",
      "0\n",
      "1\n",
      "3\n",
      "1\n",
      "0\n",
      "1\n",
      "1\n",
      "0\n"
     ]
    }
   ],
   "source": [
    "# 같은 결과 간단한 코드\n",
    "A = int(input())\n",
    "B = int(input())\n",
    "C = int(input())\n",
    "D = list(str(A*B*C))\n",
    "\n",
    "L = [0,0,0,0,0,0,0,0,0,0]\n",
    "\n",
    "for i in range(len(D)):\n",
    "    L[int((D[i]))] += 1\n",
    "\n",
    "for i in range(len(L)):\n",
    "    print(L[i])"
   ]
  },
  {
   "cell_type": "code",
   "execution_count": 18,
   "id": "366ca564",
   "metadata": {},
   "outputs": [
    {
     "name": "stdout",
     "output_type": "stream",
     "text": [
      "[0, 0, 1, 0, 0, 0, 0, 0, 0, 0]\n"
     ]
    }
   ],
   "source": [
    "L = [0,0,0,0,0,0,0,0,0,0]\n",
    "L[2] += 1\n",
    "print(L)"
   ]
  },
  {
   "cell_type": "markdown",
   "id": "3e7f7812",
   "metadata": {},
   "source": [
    "두 자연수 A와 B가 있을 때, A%B는 A를 B로 나눈 나머지 이다. 예를 들어, 7, 14, 27, 38을 3으로 나눈 나머지는 1, 2, 0, 2이다. \n",
    "수 10개를 입력받은 뒤, 이를 42로 나눈 나머지를 구한다. 그 다음 서로 다른 값이 몇 개 있는지 출력하는 프로그램을 작성하시오.\n",
    "첫째 줄부터 열번째 줄 까지 숫자가 한 줄에 하나씩 주어진다. 이 숫자는 1,000보다 작거나 같고, 음이 아닌 정수이다."
   ]
  },
  {
   "cell_type": "code",
   "execution_count": 26,
   "id": "45b894ee",
   "metadata": {},
   "outputs": [
    {
     "name": "stdout",
     "output_type": "stream",
     "text": [
      "45\n",
      "85\n",
      "65\n",
      "23\n",
      "45\n",
      "21\n",
      "25\n",
      "32\n",
      "75\n",
      "88\n",
      "8\n"
     ]
    }
   ],
   "source": [
    "A = []\n",
    "L = [0,0,0,0,0,0,0,0,0,0,0,0,0,0,0,0,0,0,0,0,0,0,0,0,0,0,0,0,0,0,0,0,0,0,0,0,0,0,0,0,0,0]\n",
    "S = 0\n",
    "\n",
    "for i in range(10):\n",
    "    A.append(int(input()))\n",
    "    L[(A[i]%42)] += 1\n",
    "    \n",
    "for i in range(len(L)):\n",
    "    if L[i] != 0:\n",
    "        S += 1\n",
    "    else:\n",
    "        S += 0\n",
    "    \n",
    "print(S)"
   ]
  },
  {
   "cell_type": "markdown",
   "id": "19ccec52",
   "metadata": {},
   "source": [
    "세준이는 기말고사를 망쳤다. 세준이는 점수를 조작해서 집에 가져가기로 했다. 일단 세준이는 자기 점수 중에 최댓값을 골랐다. 이 값을 M이라고 한다. 그리고 나서 모든 점수를 (점수/M*100)으로 고쳤다.\n",
    "예를 들어, 세준이의 최고점이 70이고, 수학점수가 50이었으면 수학점수는 50/70*100이 되어 71.43점이 된다.\n",
    "세준이의 성적을 위의 방법대로 새로 계산했을 때, 새로운 평균을 구하는 프로그램을 작성하시오."
   ]
  },
  {
   "cell_type": "code",
   "execution_count": 21,
   "id": "71661ae9",
   "metadata": {},
   "outputs": [
    {
     "name": "stdout",
     "output_type": "stream",
     "text": [
      "9\n",
      "10 20 30 40 50 60 70 80 90\n",
      "55.55555555555556\n"
     ]
    }
   ],
   "source": [
    "N = int(input())\n",
    "A = list(map(int, input().split()))\n",
    "B = []\n",
    "\n",
    "for i in range(len(A)):\n",
    "    B.append((A[i]/max(A)*100))\n",
    "print(sum(B)/len(B))"
   ]
  },
  {
   "cell_type": "markdown",
   "id": "72d24d67",
   "metadata": {},
   "source": [
    "\"OOXXOXXOOO\"와 같은 OX퀴즈의 결과가 있다. O는 문제를 맞은 것이고, X는 문제를 틀린 것이다. 문제를 맞은 경우 그 문제의 점수는 그 문제까지 연속된 O의 개수가 된다. 예를 들어, 10번 문제의 점수는 3이 된다.\n",
    "\n",
    "\"OOXXOXXOOO\"의 점수는 1+2+0+0+1+0+0+1+2+3 = 10점이다.\n",
    "\n",
    "OX퀴즈의 결과가 주어졌을 때, 점수를 구하는 프로그램을 작성하시오."
   ]
  },
  {
   "cell_type": "code",
   "execution_count": 9,
   "id": "33eb62b2",
   "metadata": {
    "scrolled": true
   },
   "outputs": [
    {
     "name": "stdout",
     "output_type": "stream",
     "text": [
      "2\n",
      "OXO\n",
      "OOXO\n",
      "2\n",
      "4\n"
     ]
    }
   ],
   "source": [
    "N = int(input())\n",
    "L = []\n",
    "M = []\n",
    "S = 0\n",
    "\n",
    "for i in range(N):\n",
    "    L = []\n",
    "    S = 0\n",
    "    A = list(input())\n",
    "    for j in range(len(A)):\n",
    "        if A[j] == 'O':\n",
    "            S += 1\n",
    "            L.append(S)\n",
    "        else:\n",
    "            S = 0\n",
    "    M.append(sum(L))\n",
    "            \n",
    "for i in range(len(M)):\n",
    "    print(M[i])"
   ]
  },
  {
   "cell_type": "markdown",
   "id": "18380d76",
   "metadata": {},
   "source": [
    "대학생 새내기들의 90%는 자신이 반에서 평균은 넘는다고 생각한다. 당신은 그들에게 슬픈 진실을 알려줘야 한다.\n",
    "첫째 줄에는 테스트 케이스의 개수 C가 주어진다.\n",
    "둘째 줄부터 각 테스트 케이스마다 학생의 수 N(1 ≤ N ≤ 1000, N은 정수)이 첫 수로 주어지고, 이어서 N명의 점수가 주어진다. 점수는 0보다 크거나 같고, 100보다 작거나 같은 정수이다."
   ]
  },
  {
   "cell_type": "code",
   "execution_count": 15,
   "id": "4b3ce2bf",
   "metadata": {},
   "outputs": [
    {
     "name": "stdout",
     "output_type": "stream",
     "text": [
      "1\n",
      "5 50 50 70 80 100\n",
      "40.000%\n"
     ]
    }
   ],
   "source": [
    "N = int(input())\n",
    "M = 0\n",
    "L = []\n",
    "T = []\n",
    "\n",
    "for i in range(N):\n",
    "    A = list(map(int, input().split()))\n",
    "    M = sum(A[1:])/A[0]\n",
    "    L = []\n",
    "    for j in range(1,len(A)):\n",
    "        if A[j] > M:\n",
    "            L.append(A[j])\n",
    "    T.append(len(L) / A[0])\n",
    "    \n",
    "for i in range(len(T)):\n",
    "    print('%.3f'%(T[i]*100)+'%')"
   ]
  },
  {
   "cell_type": "code",
   "execution_count": null,
   "id": "8f99ee5b",
   "metadata": {},
   "outputs": [],
   "source": []
  },
  {
   "cell_type": "code",
   "execution_count": null,
   "id": "277b6b8a",
   "metadata": {},
   "outputs": [],
   "source": []
  }
 ],
 "metadata": {
  "kernelspec": {
   "display_name": "Python 3 (ipykernel)",
   "language": "python",
   "name": "python3"
  },
  "language_info": {
   "codemirror_mode": {
    "name": "ipython",
    "version": 3
   },
   "file_extension": ".py",
   "mimetype": "text/x-python",
   "name": "python",
   "nbconvert_exporter": "python",
   "pygments_lexer": "ipython3",
   "version": "3.9.7"
  }
 },
 "nbformat": 4,
 "nbformat_minor": 5
}

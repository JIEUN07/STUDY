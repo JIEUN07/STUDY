{
 "cells": [
  {
   "cell_type": "markdown",
   "id": "a1f67bc9",
   "metadata": {},
   "source": [
    "월드전자는 노트북을 제조하고 판매하는 회사이다. 노트북 판매 대수에 상관없이 매년 임대료, 재산세, 보험료, 급여 등 A만원의 고정 비용이 들며, 한 대의 노트북을 생산하는 데에는 재료비와 인건비 등 총 B만원의 가변 비용이 든다고 한다.\n",
    "\n",
    "예를 들어 A=1,000, B=70이라고 하자. 이 경우 노트북을 한 대 생산하는 데는 총 1,070만원이 들며, 열 대 생산하는 데는 총 1,700만원이 든다.\n",
    "\n",
    "노트북 가격이 C만원으로 책정되었다고 한다. 일반적으로 생산 대수를 늘려 가다 보면 어느 순간 총 수입(판매비용)이 총 비용(=고정비용+가변비용)보다 많아지게 된다. 최초로 총 수입이 총 비용보다 많아져 이익이 발생하는 지점을 손익분기점(BREAK-EVEN POINT)이라고 한다.\n",
    "\n",
    "A, B, C가 주어졌을 때, 손익분기점을 구하는 프로그램을 작성하시오."
   ]
  },
  {
   "cell_type": "code",
   "execution_count": 37,
   "id": "dcdecc66",
   "metadata": {},
   "outputs": [
    {
     "name": "stdout",
     "output_type": "stream",
     "text": [
      "1000 70 170\n",
      "11\n"
     ]
    }
   ],
   "source": [
    "A, B, C = map(int, input().split())\n",
    "N = 0\n",
    "\n",
    "if B > C:\n",
    "    N = -1\n",
    "else:\n",
    "    while A+(B*N) >= (C*N):\n",
    "        N += 1\n",
    "        B*N\n",
    "        C*N\n",
    "    \n",
    "print(N)\n",
    "# 시간 초과"
   ]
  },
  {
   "cell_type": "code",
   "execution_count": 36,
   "id": "8e06bcc9",
   "metadata": {},
   "outputs": [
    {
     "name": "stdout",
     "output_type": "stream",
     "text": [
      "2100000000 9 10\n",
      "2100000001\n"
     ]
    }
   ],
   "source": [
    "A, B, C = map(int, input().split())\n",
    "N = -1\n",
    "\n",
    "if ((C-B) != 0):\n",
    "    if  A/(C-B) > 0:\n",
    "        N = (A/(C-B))+1\n",
    "\n",
    "print(int(N))"
   ]
  },
  {
   "cell_type": "markdown",
   "id": "07cee5c7",
   "metadata": {},
   "source": [
    "위의 그림과 같이 육각형으로 이루어진 벌집이 있다. 그림에서 보는 바와 같이 중앙의 방 1부터 시작해서 이웃하는 방에 돌아가면서 1씩 증가하는 번호를 주소로 매길 수 있다. 숫자 N이 주어졌을 때, 벌집의 중앙 1에서 N번 방까지 최소 개수의 방을 지나서 갈 때 몇 개의 방을 지나가는지(시작과 끝을 포함하여)를 계산하는 프로그램을 작성하시오. 예를 들면, 13까지는 3개, 58까지는 5개를 지난다."
   ]
  },
  {
   "cell_type": "code",
   "execution_count": null,
   "id": "74416584",
   "metadata": {},
   "outputs": [],
   "source": [
    "N = int(input())\n",
    "\n",
    "n = 0\n",
    "s = 1\n",
    "L =[1]\n",
    "for n in range(18260):\n",
    "    s += 6*n\n",
    "    L.append(s)\n",
    "    if N == 1:\n",
    "        print(1)\n",
    "        break\n",
    "    elif (L[n] >= N):\n",
    "        print(n)\n",
    "        break\n",
    "    else:\n",
    "        n += 1\n",
    "        \n",
    "# 정답인데 리스트 안넣어도 될 것 같음"
   ]
  },
  {
   "cell_type": "code",
   "execution_count": 24,
   "id": "fd781ad2",
   "metadata": {},
   "outputs": [
    {
     "name": "stdout",
     "output_type": "stream",
     "text": [
      "1000000000\n",
      "18258\n"
     ]
    }
   ],
   "source": [
    "# 리스트 없는 버전\n",
    "N = int(input())\n",
    "\n",
    "n = 0\n",
    "s = 1\n",
    "for n in range(18260):\n",
    "    s += 6*n\n",
    "    if (s >= N):\n",
    "        print(n+1)\n",
    "        break\n",
    "    else:\n",
    "        n += 1"
   ]
  },
  {
   "cell_type": "code",
   "execution_count": 1,
   "id": "bc5c00c2",
   "metadata": {},
   "outputs": [],
   "source": [
    "# 1000000000이 걸리는 범위 확인\n",
    "# n = 0\n",
    "# s = 1\n",
    "# while n <= 18260:\n",
    "#     n += 1\n",
    "#     s += 6*n\n",
    "#     print(s)"
   ]
  },
  {
   "cell_type": "markdown",
   "id": "ed06c479",
   "metadata": {},
   "source": [
    "무한히 큰 배열에 다음과 같이 분수들이 적혀있다. \n",
    "\n",
    "이와 같이 나열된 분수들을 1/1 → 1/2 → 2/1 → 3/1 → 2/2 → … 과 같은 지그재그 순서로 차례대로 1번, 2번, 3번, 4번, 5번, … 분수라고 하자.\n",
    "\n",
    "X가 주어졌을 때, X번째 분수를 구하는 프로그램을 작성하시오."
   ]
  },
  {
   "cell_type": "code",
   "execution_count": 121,
   "id": "5b0df065",
   "metadata": {},
   "outputs": [
    {
     "name": "stdout",
     "output_type": "stream",
     "text": [
      "7\n",
      "1/4\n"
     ]
    }
   ],
   "source": [
    "X = int(input())\n",
    "\n",
    "for n in range(1, 44725):\n",
    "    if X <= n*(n+1)/2:\n",
    "        A = [i for i in range(1, n+1)]\n",
    "        B = [i for i in range(1, n+1)][::-1]\n",
    "        j = X -((n*(n-1))/2)-1\n",
    "        j = int(j)\n",
    "        if n%2 == 0:    # 짝수 라인일때\n",
    "            print(\"{}/{}\".format(A[j],B[j]))\n",
    "            break \n",
    "        else:           # 홀수 라인일때\n",
    "            print(\"{}/{}\".format(B[j],A[j]))\n",
    "            break"
   ]
  },
  {
   "cell_type": "code",
   "execution_count": 2,
   "id": "93eaf7f5",
   "metadata": {},
   "outputs": [],
   "source": [
    "# 10000000이 걸리는 범위 확인\n",
    "# X = 10000000\n",
    "# n=0\n",
    "\n",
    "# while n <= 44725:\n",
    "#     n+=1\n",
    "#     n*(n+1)/2\n",
    "#     print(n*(n+1)/2)"
   ]
  },
  {
   "cell_type": "markdown",
   "id": "98135945",
   "metadata": {},
   "source": [
    "땅 위에 달팽이가 있다. 이 달팽이는 높이가 V미터인 나무 막대를 올라갈 것이다.\n",
    "\n",
    "달팽이는 낮에 A미터 올라갈 수 있다. 하지만, 밤에 잠을 자는 동안 B미터 미끄러진다. 또, 정상에 올라간 후에는 미끄러지지 않는다.\n",
    "\n",
    "달팽이가 나무 막대를 모두 올라가려면, 며칠이 걸리는지 구하는 프로그램을 작성하시오."
   ]
  },
  {
   "cell_type": "code",
   "execution_count": 36,
   "id": "363d1cc1",
   "metadata": {},
   "outputs": [
    {
     "name": "stdout",
     "output_type": "stream",
     "text": [
      "100 99 1000000000\n",
      "999999901\n"
     ]
    }
   ],
   "source": [
    "A, B, V = map(int,input().split())\n",
    "n = 1\n",
    "m = A-B\n",
    "\n",
    "for i in range(V-A):\n",
    "    if V <= A:\n",
    "        break\n",
    "    else:\n",
    "        n +=1\n",
    "        A += m\n",
    "\n",
    "print(n)\n",
    "\n",
    "# for문은 시간 제한에 걸림"
   ]
  },
  {
   "cell_type": "code",
   "execution_count": 110,
   "id": "cd9f6ace",
   "metadata": {},
   "outputs": [
    {
     "name": "stdout",
     "output_type": "stream",
     "text": [
      "5 2 10\n",
      "3\n"
     ]
    }
   ],
   "source": [
    "A, B, V = map(int,input().split())\n",
    "\n",
    "if (V-A) == 0:   # 나무막대 높이와 낮에 오르는 높이가 같을때\n",
    "    print(1)\n",
    "elif (V-A) < (A-B):  # 예외: 두번 올라야하는데 n이 0값이 나오는 예외\n",
    "    print(2)\n",
    "else:\n",
    "    n = (V - A) / (A - B)   # 며칠 걸리는지 구하는 식\n",
    "    if (V - A) % (A - B) == 0:  # 딱 떨어지게 정상에 올라갔을때\n",
    "        print(int(n+1))\n",
    "    else:                     # 딱 떨어지게 올라가지 않을때\n",
    "        print(int(n+1)+1)"
   ]
  },
  {
   "cell_type": "markdown",
   "id": "77deb218",
   "metadata": {},
   "source": [
    "ACM 호텔 매니저 지우는 손님이 도착하는 대로 빈 방을 배정하고 있다. 고객 설문조사에 따르면 손님들은 호텔 정문으로부터 걸어서 가장 짧은 거리에 있는 방을 선호한다고 한다. 여러분은 지우를 도와 줄 프로그램을 작성하고자 한다. 즉 설문조사 결과 대로 호텔 정문으로부터 걷는 거리가 가장 짧도록 방을 배정하는 프로그램을 작성하고자 한다.\n",
    "\n",
    "문제를 단순화하기 위해서 호텔은 직사각형 모양이라고 가정하자. 각 층에 W 개의 방이 있는 H 층 건물이라고 가정하자 (1 ≤ H, W ≤ 99). 그리고 엘리베이터는 가장 왼쪽에 있다고 가정하자(그림 1 참고). 이런 형태의 호텔을 H × W 형태 호텔이라고 부른다. 호텔 정문은 일층 엘리베이터 바로 앞에 있는데, 정문에서 엘리베이터까지의 거리는 무시한다. 또 모든 인접한 두 방 사이의 거리는 같은 거리(거리 1)라고 가정하고 호텔의 정면 쪽에만 방이 있다고 가정한다\n",
    "\n",
    "\n",
    "방 번호는 YXX 나 YYXX 형태인데 여기서 Y 나 YY 는 층 수를 나타내고 XX 는 엘리베이터에서부터 세었을 때의 번호를 나타낸다. 즉, 그림 1 에서 빗금으로 표시한 방은 305 호가 된다.\n",
    "\n",
    "손님은 엘리베이터를 타고 이동하는 거리는 신경 쓰지 않는다. 다만 걷는 거리가 같을 때에는 아래층의 방을 더 선호한다. 예를 들면 102 호 방보다는 301 호 방을 더 선호하는데, 102 호는 거리 2 만큼 걸어야 하지만 301 호는 거리 1 만큼만 걸으면 되기 때문이다. 같은 이유로 102 호보다 2101 호를 더 선호한다.\n",
    "\n",
    "여러분이 작성할 프로그램은 초기에 모든 방이 비어있다고 가정하에 이 정책에 따라 N 번째로 도착한 손님에게 배정될 방 번호를 계산하는 프로그램이다. 첫 번째 손님은 101 호, 두 번째 손님은 201 호 등과 같이 배정한다. 그림 1 의 경우를 예로 들면, H = 6이므로 10 번째 손님은 402 호에 배정해야 한다."
   ]
  },
  {
   "cell_type": "code",
   "execution_count": 102,
   "id": "3b9cbb82",
   "metadata": {
    "scrolled": false
   },
   "outputs": [
    {
     "name": "stdout",
     "output_type": "stream",
     "text": [
      "2\n",
      "6 12 10\n",
      "402\n",
      "30 50 72\n",
      "1203\n"
     ]
    }
   ],
   "source": [
    "T = int(input())\n",
    "\n",
    "for i in range(T):\n",
    "    H, W, N = map(int, input().split())\n",
    "    h = N%H          # 층수 구하기\n",
    "    if h == 0:       # 층수가 0이 나오는 경우는 꼭대기층\n",
    "        h = H \n",
    "    if (N%H) == 0:   # 호수 구하기 \n",
    "        w = int(N/H) # 꼭대기 층 예외처리 \n",
    "    else:           \n",
    "        w = int(N/H) + 1\n",
    "    if w < 10:       # 호수가 한자리 수일때 가운데 0붙이기\n",
    "        w = \"0{}\".format(w)\n",
    "\n",
    "    print(\"{}{}\".format(h,w))"
   ]
  },
  {
   "cell_type": "markdown",
   "id": "ac145810",
   "metadata": {},
   "source": [
    "평소 반상회에 참석하는 것을 좋아하는 주희는 이번 기회에 부녀회장이 되고 싶어 각 층의 사람들을 불러 모아 반상회를 주최하려고 한다.\n",
    "\n",
    "이 아파트에 거주를 하려면 조건이 있는데, “a층의 b호에 살려면 자신의 아래(a-1)층의 1호부터 b호까지 사람들의 수의 합만큼 사람들을 데려와 살아야 한다” 는 계약 조항을 꼭 지키고 들어와야 한다.\n",
    "\n",
    "아파트에 비어있는 집은 없고 모든 거주민들이 이 계약 조건을 지키고 왔다고 가정했을 때, 주어지는 양의 정수 k와 n에 대해 k층에 n호에는 몇 명이 살고 있는지 출력하라. 단, 아파트에는 0층부터 있고 각층에는 1호부터 있으며, 0층의 i호에는 i명이 산다.\n",
    "\n",
    "단, 1 ≤ k, n ≤ 14"
   ]
  },
  {
   "cell_type": "code",
   "execution_count": 141,
   "id": "5e0ab428",
   "metadata": {},
   "outputs": [
    {
     "name": "stdout",
     "output_type": "stream",
     "text": [
      "2\n",
      "1\n",
      "3\n",
      "2\n",
      "3\n",
      "10\n"
     ]
    }
   ],
   "source": [
    "T = int(input())\n",
    "\n",
    "for i in range(T):\n",
    "    K = int(input())\n",
    "    n = int(input())\n",
    "    L = [i for i in range(1,15)] # 0층 14호까지 (n ≤ 14)\n",
    "    k = 1                         # 1층부터 시작\n",
    "    for k in range(K):\n",
    "        if K > k:                # 입력받은 층수와 같아질때까지 아래층 사람수 바꿔줌\n",
    "            k += 1\n",
    "            for j in range(1,n):  # 몇명이 살고 있는지 구하기\n",
    "                L[j] = L[j-1] + L[j]\n",
    "    print(L[n-1])"
   ]
  },
  {
   "cell_type": "markdown",
   "id": "2c52f889",
   "metadata": {},
   "source": [
    "상근이는 요즘 설탕공장에서 설탕을 배달하고 있다. 상근이는 지금 사탕가게에 설탕을 정확하게 N킬로그램을 배달해야 한다. 설탕공장에서 만드는 설탕은 봉지에 담겨져 있다. 봉지는 3킬로그램 봉지와 5킬로그램 봉지가 있다.\n",
    "\n",
    "상근이는 귀찮기 때문에, 최대한 적은 봉지를 들고 가려고 한다. 예를 들어, 18킬로그램 설탕을 배달해야 할 때, 3킬로그램 봉지 6개를 가져가도 되지만, 5킬로그램 3개와 3킬로그램 1개를 배달하면, 더 적은 개수의 봉지를 배달할 수 있다.\n",
    "\n",
    "상근이가 설탕을 정확하게 N킬로그램 배달해야 할 때, 봉지 몇 개를 가져가면 되는지 그 수를 구하는 프로그램을 작성하시오.\n",
    "\n",
    "단, 상근이가 배달하는 봉지의 최소 개수를 출력한다. 만약, 정확하게 N킬로그램을 만들 수 없다면 -1을 출력한다."
   ]
  },
  {
   "cell_type": "code",
   "execution_count": 14,
   "id": "de6c9889",
   "metadata": {},
   "outputs": [
    {
     "name": "stdout",
     "output_type": "stream",
     "text": [
      "24\n",
      "8\n"
     ]
    }
   ],
   "source": [
    "N = int(input())\n",
    "L = []\n",
    "\n",
    "if N%5 == 0:\n",
    "    L.append(N//5)\n",
    "else:\n",
    "    if (N%5)%3 == 0:\n",
    "        L.append((N//5) + (N%5)//3)\n",
    "    else:\n",
    "        if N%3 == 0:\n",
    "            L.append(N//3)\n",
    "        elif N > 5:\n",
    "            if ((N-5)%3 == 0) |((N-5)%6 == 0) |((N-5)%9 == 0) | ((N-5)%12 == 0):\n",
    "                L.append(((N-5)//3) +1)\n",
    "        elif N > 10:\n",
    "            if ((N-10)%3 == 0) |((N-10)%6 == 0) |((N-10)%9 == 0) | ((N-10)%12 == 0):\n",
    "                L.append(((N-5)//3) +2)\n",
    "        elif N > 15:\n",
    "            if ((N-10)%3 == 0) |((N-10)%6 == 0) |((N-10)%9 == 0) | ((N-10)%12 == 0):\n",
    "                L.append(((N-5)//3) +3)\n",
    "        else:\n",
    "            L.append(-1)\n",
    "            \n",
    "L.sort()\n",
    "print(L[0])\n",
    "            \n",
    "#  틀림"
   ]
  },
  {
   "cell_type": "code",
   "execution_count": 41,
   "id": "be68cb4d",
   "metadata": {},
   "outputs": [
    {
     "name": "stdout",
     "output_type": "stream",
     "text": [
      "18\n",
      "4\n",
      "[4]\n"
     ]
    }
   ],
   "source": [
    "N = int(input())\n",
    "L = []      # 값들을 리스트로 받음\n",
    "\n",
    "if N%5 == 0:            # 5로 나누어 떨어질 때\n",
    "    L.append(N//5)\n",
    "else:\n",
    "    if (N%5)%3 == 0:   # 5로 나눈후 나머지가 3으로 나누어 떨어질때\n",
    "        L.append((N//5) + (N%5)//3)\n",
    "    else:\n",
    "        if N%3 == 0:   # 3으로 나누어 떨어질때\n",
    "            L.append(N//3)\n",
    "        elif ((N-6)%5 == 0) & ((N-6) > 0): # 예외처리) 11 = 5 + 6\n",
    "            L.append(((N-6)//5) +2)\n",
    "        elif ((N-9)%5 == 0) & ((N-9) > 0): # 예외처리) 14 = 5 + 9\n",
    "            L.append(((N-9)//5) +3)\n",
    "        elif ((N-12)%5 == 0) & ((N-12) > 0): # 예외처리) 17 = 5 + 12\n",
    "            L.append(((N-12)//5) +4)\n",
    "\n",
    "            \n",
    "L.sort()  # 작은수부터 정렬\n",
    "if len(L) == 0:\n",
    "    print(-1)\n",
    "else:\n",
    "    print(L[0])"
   ]
  },
  {
   "cell_type": "markdown",
   "id": "093549c8",
   "metadata": {},
   "source": [
    "두 정수 A와 B를 입력받은 다음, A+B를 출력하는 프로그램을 작성하시오."
   ]
  },
  {
   "cell_type": "code",
   "execution_count": 165,
   "id": "c784fe77",
   "metadata": {},
   "outputs": [
    {
     "name": "stdout",
     "output_type": "stream",
     "text": [
      "9223372036854775807 9223372036854775808\n",
      "18446744073709551615\n"
     ]
    }
   ],
   "source": [
    "A, B = map(int, input().split())\n",
    "\n",
    "print(A+B)"
   ]
  },
  {
   "cell_type": "markdown",
   "id": "c9e2a04f",
   "metadata": {},
   "source": [
    "우현이는 어린 시절, 지구 외의 다른 행성에서도 인류들이 살아갈 수 있는 미래가 오리라 믿었다. 그리고 그가 지구라는 세상에 발을 내려 놓은 지 23년이 지난 지금, 세계 최연소 ASNA 우주 비행사가 되어 새로운 세계에 발을 내려 놓는 영광의 순간을 기다리고 있다.\n",
    "\n",
    "그가 탑승하게 될 우주선은 Alpha Centauri라는 새로운 인류의 보금자리를 개척하기 위한 대규모 생활 유지 시스템을 탑재하고 있기 때문에, 그 크기와 질량이 엄청난 이유로 최신기술력을 총 동원하여 개발한 공간이동 장치를 탑재하였다. 하지만 이 공간이동 장치는 이동 거리를 급격하게 늘릴 경우 기계에 심각한 결함이 발생하는 단점이 있어서, 이전 작동시기에 k광년을 이동하였을 때는 k-1 , k 혹은 k+1 광년만을 다시 이동할 수 있다. 예를 들어, 이 장치를 처음 작동시킬 경우 -1 , 0 , 1 광년을 이론상 이동할 수 있으나 사실상 음수 혹은 0 거리만큼의 이동은 의미가 없으므로 1 광년을 이동할 수 있으며, 그 다음에는 0 , 1 , 2 광년을 이동할 수 있는 것이다. ( 여기서 다시 2광년을 이동한다면 다음 시기엔 1, 2, 3 광년을 이동할 수 있다. )\n",
    "\n",
    "\n",
    "\n",
    "김우현은 공간이동 장치 작동시의 에너지 소모가 크다는 점을 잘 알고 있기 때문에 x지점에서 y지점을 향해 최소한의 작동 횟수로 이동하려 한다. 하지만 y지점에 도착해서도 공간 이동장치의 안전성을 위하여 y지점에 도착하기 바로 직전의 이동거리는 반드시 1광년으로 하려 한다.\n",
    "\n",
    "김우현을 위해 x지점부터 정확히 y지점으로 이동하는데 필요한 공간 이동 장치 작동 횟수의 최솟값을 구하는 프로그램을 작성하라."
   ]
  },
  {
   "cell_type": "code",
   "execution_count": 89,
   "id": "b3a9798c",
   "metadata": {},
   "outputs": [
    {
     "name": "stdout",
     "output_type": "stream",
     "text": [
      "3\n",
      "0 3\n",
      "3\n",
      "0 5\n",
      "4\n",
      "45 50\n",
      "4\n"
     ]
    }
   ],
   "source": [
    "T = int(input())\n",
    "L1 = [1]\n",
    "L2 = []\n",
    "j = 1\n",
    "\n",
    "for i in range(T):\n",
    "    x, y = map(int, input().split())\n",
    "    A = y-x\n",
    "    while A >= (sum(L1)+sum(L2)):\n",
    "        if j == 1:\n",
    "            j += 1\n",
    "        elif j%2 == 0:\n",
    "            L2.insert(0, L1[-1])\n",
    "            j += 1\n",
    "        else:\n",
    "            L1.append(L1[-1]+1)\n",
    "            j += 1\n",
    "    print(len(L1)+len(L2))\n",
    "    \n",
    "# 사간초과"
   ]
  },
  {
   "cell_type": "code",
   "execution_count": 6,
   "id": "af7be313",
   "metadata": {},
   "outputs": [
    {
     "name": "stdout",
     "output_type": "stream",
     "text": [
      "1\n",
      "0 65536\n",
      "512\n"
     ]
    }
   ],
   "source": [
    "T = int(input())\n",
    "L1 = [1]\n",
    "L2 = []\n",
    "j = 1\n",
    "\n",
    "for i in range(T):\n",
    "    x, y = map(int, input().split())\n",
    "    A = y-x\n",
    "    while A >= (sum(L1)+sum(L2)):\n",
    "        if j == 1:\n",
    "            j += 1\n",
    "        elif j%2 == 0:\n",
    "            L2.insert(0, L1[-1])\n",
    "            j += 1\n",
    "        else:\n",
    "            L1.append(L1[-1]+1)\n",
    "            j += 1\n",
    "    print(len(L1)+len(L2))\n",
    "    \n",
    "# 사간초과"
   ]
  },
  {
   "cell_type": "markdown",
   "id": "ca12647f",
   "metadata": {},
   "source": [
    "``` \n",
    "찾은 규칙 (홀수층 짝수층 구분)\n",
    "이동횟수: 최고 이동거리\n",
    "1: 1               \n",
    "2: 1 1              1*2\n",
    "3: 1 2 1            1*2    + 2\n",
    "4: 1 2 2 1          (1+2)*2\n",
    "5: 1 2 3 2 1         (1+2)*2    +3\n",
    "6: 1 2 3 3 2 1       (1+2+3)*2\n",
    "7: 1 2 3 4 3 2 1      (1+2+3)*2    +4\n",
    "8: 1 2 3 4 4 3 2 1    (1+2+3+4)*2\n",
    ".\n",
    ".\n",
    ".\n",
    "```"
   ]
  },
  {
   "cell_type": "code",
   "execution_count": 46,
   "id": "4a8bcdc3",
   "metadata": {},
   "outputs": [
    {
     "name": "stdout",
     "output_type": "stream",
     "text": [
      "1\n",
      "0 4294967296\n",
      "131071\n"
     ]
    }
   ],
   "source": [
    "T = int(input())\n",
    "\n",
    "for i in range(T):\n",
    "    x, y = map(int, input().split())\n",
    "    A = y-x         # 이동 거리\n",
    "    n = 1\n",
    "    k = 0\n",
    "    while A != 1:    # A=1이 아닌 경우에만 while문에 걸림\n",
    "        n += 1        # n=2일때부터 검정\n",
    "        if n%2 == 0:   # 짝수인 경우\n",
    "            k = int(n/2)   # k : 이동 횟수별 최고 이동거리\n",
    "            k = k*(k+1)\n",
    "            if A <= k:  # 주어진 이동거리보다 k 값이 클때 멈춤\n",
    "                break\n",
    "        else:           # 홀수인 경우\n",
    "            k = int(n/2)\n",
    "            k = (k*(k+1))+(k+1)\n",
    "            if A <= k:  # 주어진 이동거리보다 k 값이 클때 멈춤\n",
    "                break\n",
    "    print(n)    # 이동 횟수 출력"
   ]
  },
  {
   "cell_type": "code",
   "execution_count": 41,
   "id": "7ef2ec73",
   "metadata": {},
   "outputs": [
    {
     "data": {
      "text/plain": [
       "4294967296"
      ]
     },
     "execution_count": 41,
     "metadata": {},
     "output_type": "execute_result"
    }
   ],
   "source": [
    "2**32  # 시간초과 해결하기 위해 테스트해봄"
   ]
  },
  {
   "cell_type": "code",
   "execution_count": null,
   "id": "609bf135",
   "metadata": {},
   "outputs": [],
   "source": []
  }
 ],
 "metadata": {
  "kernelspec": {
   "display_name": "Python 3 (ipykernel)",
   "language": "python",
   "name": "python3"
  },
  "language_info": {
   "codemirror_mode": {
    "name": "ipython",
    "version": 3
   },
   "file_extension": ".py",
   "mimetype": "text/x-python",
   "name": "python",
   "nbconvert_exporter": "python",
   "pygments_lexer": "ipython3",
   "version": "3.9.7"
  }
 },
 "nbformat": 4,
 "nbformat_minor": 5
}

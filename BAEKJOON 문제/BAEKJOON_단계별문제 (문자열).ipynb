{
 "cells": [
  {
   "cell_type": "markdown",
   "id": "91c09585",
   "metadata": {},
   "source": [
    "알파벳 소문자, 대문자, 숫자 0-9중 하나가 주어졌을 때, 주어진 글자의 아스키 코드값을 출력하는 프로그램을 작성하시오."
   ]
  },
  {
   "cell_type": "code",
   "execution_count": 5,
   "id": "43eb488c",
   "metadata": {},
   "outputs": [
    {
     "name": "stdout",
     "output_type": "stream",
     "text": [
      "Z\n",
      "90\n"
     ]
    }
   ],
   "source": [
    "A = input()\n",
    "\n",
    "print(ord(A))"
   ]
  },
  {
   "cell_type": "markdown",
   "id": "5f03c144",
   "metadata": {},
   "source": [
    "N개의 숫자가 공백 없이 쓰여있다. 이 숫자를 모두 합해서 출력하는 프로그램을 작성하시오."
   ]
  },
  {
   "cell_type": "code",
   "execution_count": 9,
   "id": "54584db8",
   "metadata": {},
   "outputs": [
    {
     "name": "stdout",
     "output_type": "stream",
     "text": [
      "5\n",
      "54321\n",
      "15\n"
     ]
    }
   ],
   "source": [
    "N = int(input())\n",
    "A = list(map(int,input()))\n",
    "\n",
    "print(sum(A))"
   ]
  },
  {
   "cell_type": "markdown",
   "id": "903504be",
   "metadata": {},
   "source": [
    "알파벳 소문자로만 이루어진 단어 S가 주어진다. 각각의 알파벳에 대해서, 단어에 포함되어 있는 경우에는 처음 등장하는 위치를, 포함되어 있지 않은 경우에는 -1을 출력하는 프로그램을 작성하시오."
   ]
  },
  {
   "cell_type": "code",
   "execution_count": 47,
   "id": "8711f94f",
   "metadata": {},
   "outputs": [
    {
     "name": "stdout",
     "output_type": "stream",
     "text": [
      "baekjoon\n",
      "1\n",
      "0\n",
      "-1\n",
      "-1\n",
      "2\n",
      "-1\n",
      "-1\n",
      "-1\n",
      "-1\n",
      "4\n",
      "3\n",
      "-1\n",
      "-1\n",
      "7\n",
      "5\n",
      "-1\n",
      "-1\n",
      "-1\n",
      "-1\n",
      "-1\n",
      "-1\n",
      "-1\n",
      "-1\n",
      "-1\n",
      "-1\n",
      "-1\n"
     ]
    }
   ],
   "source": [
    "S = input()\n",
    "L = [-1 for i in range(26)]\n",
    "\n",
    "for i in range(len(S)):\n",
    "    if L[ord(S[i])-97] == -1:\n",
    "        L[ord(S[i])-97] = i\n",
    "    \n",
    "for i in range(len(L)):\n",
    "    print(L[i])"
   ]
  },
  {
   "cell_type": "markdown",
   "id": "256f8676",
   "metadata": {},
   "source": [
    "문자열 S를 입력받은 후에, 각 문자를 R번 반복해 새 문자열 P를 만든 후 출력하는 프로그램을 작성하시오. 즉, 첫 번째 문자를 R번 반복하고, 두 번째 문자를 R번 반복하는 식으로 P를 만들면 된다. S에는 QR Code \"alphanumeric\" 문자만 들어있다.\n",
    "\n",
    "QR Code \"alphanumeric\" 문자는 0123456789ABCDEFGHIJKLMNOPQRSTUVWXYZ\\$%*+-./: 이다."
   ]
  },
  {
   "cell_type": "code",
   "execution_count": 76,
   "id": "4f0eff3d",
   "metadata": {
    "scrolled": true
   },
   "outputs": [
    {
     "name": "stdout",
     "output_type": "stream",
     "text": [
      "2\n",
      "3 abc\n",
      "5 /htp\n",
      "aaabbbccc\n",
      "/////hhhhhtttttppppp\n"
     ]
    }
   ],
   "source": [
    "T = int(input())\n",
    "L = []\n",
    "\n",
    "for i in range(T):\n",
    "    R, S = input().split()\n",
    "    A = 0\n",
    "    for j in range(len(S)):\n",
    "        if A == 0:\n",
    "            A = S[j]*int(R)\n",
    "        else:\n",
    "            A += S[j]*int(R)\n",
    "    L.append(A)\n",
    "\n",
    "for i in range(len(L)):\n",
    "    print(L[i])"
   ]
  },
  {
   "cell_type": "markdown",
   "id": "d2183d5e",
   "metadata": {},
   "source": [
    "알파벳 대소문자로 된 단어가 주어지면, 이 단어에서 가장 많이 사용된 알파벳이 무엇인지 알아내는 프로그램을 작성하시오. 단, 대문자와 소문자를 구분하지 않는다."
   ]
  },
  {
   "cell_type": "code",
   "execution_count": null,
   "id": "207f0065",
   "metadata": {},
   "outputs": [],
   "source": [
    "# 대문자 아스키코드: 65~90  소문자 아스키코드: 97~122"
   ]
  },
  {
   "cell_type": "code",
   "execution_count": 51,
   "id": "6bd0b279",
   "metadata": {},
   "outputs": [
    {
     "name": "stdout",
     "output_type": "stream",
     "text": [
      "mississipi\n",
      "?\n"
     ]
    }
   ],
   "source": [
    "A = input()\n",
    "L = [0 for i in range(26)]\n",
    "\n",
    "for i in range(len(A)):\n",
    "    B = ord(A[i])\n",
    "    if B < 95: \n",
    "        L[(B-65)] += 1\n",
    "    else:\n",
    "        L[(B-97)] += 1\n",
    "\n",
    "M = max(L) # 최댓값이 한개만 나옴\n",
    "N = [i for i, v in enumerate(L) if v==M]  # 최대값이 두개 이상일때 다른 리스트에 따로 저장\n",
    "\n",
    "if len(N) >= 2:\n",
    "    print(\"?\")\n",
    "else:\n",
    "    print(chr(N[0]+65))"
   ]
  },
  {
   "cell_type": "markdown",
   "id": "327962cf",
   "metadata": {},
   "source": [
    "영어 대소문자와 공백으로 이루어진 문자열이 주어진다. 이 문자열에는 몇 개의 단어가 있을까? 이를 구하는 프로그램을 작성하시오. 단, 한 단어가 여러 번 등장하면 등장한 횟수만큼 모두 세어야 한다.\n",
    "\n",
    "첫 줄에 영어 대소문자와 공백으로 이루어진 문자열이 주어진다. 이 문자열의 길이는 1,000,000을 넘지 않는다. 단어는 공백 한 개로 구분되며, 공백이 연속해서 나오는 경우는 없다. 또한 문자열은 공백으로 시작하거나 끝날 수 있다."
   ]
  },
  {
   "cell_type": "code",
   "execution_count": 56,
   "id": "7f76ad30",
   "metadata": {},
   "outputs": [
    {
     "name": "stdout",
     "output_type": "stream",
     "text": [
      "The last character is a blank \n",
      "6\n"
     ]
    }
   ],
   "source": [
    "L = list(input().split())\n",
    "print(len(L))"
   ]
  },
  {
   "cell_type": "markdown",
   "id": "87fc389f",
   "metadata": {},
   "source": [
    "상근이의 동생 상수는 수학을 정말 못한다. 상수는 숫자를 읽는데 문제가 있다. 이렇게 수학을 못하는 상수를 위해서 상근이는 수의 크기를 비교하는 문제를 내주었다. 상근이는 세 자리 수 두 개를 칠판에 써주었다. 그 다음에 크기가 큰 수를 말해보라고 했다.\n",
    "\n",
    "상수는 수를 다른 사람과 다르게 거꾸로 읽는다. 예를 들어, 734와 893을 칠판에 적었다면, 상수는 이 수를 437과 398로 읽는다. 따라서, 상수는 두 수중 큰 수인 437을 큰 수라고 말할 것이다.\n",
    "\n",
    "두 수가 주어졌을 때, 상수의 대답을 출력하는 프로그램을 작성하시오.\n",
    "\n",
    "첫째 줄에 상근이가 칠판에 적은 두 수 A와 B가 주어진다. 두 수는 같지 않은 세 자리 수이며, 0이 포함되어 있지 않다."
   ]
  },
  {
   "cell_type": "code",
   "execution_count": 75,
   "id": "21fd65e3",
   "metadata": {},
   "outputs": [
    {
     "name": "stdout",
     "output_type": "stream",
     "text": [
      "839 237\n",
      "938\n"
     ]
    }
   ],
   "source": [
    "A, B = input().split()\n",
    "L = [0, 0, 0]\n",
    "K = [0, 0, 0]\n",
    "S = []\n",
    "\n",
    "for i in range(3):\n",
    "    if i == 0:\n",
    "        L[2] = A[i]\n",
    "        K[2] = B[i]\n",
    "    elif i == 1:\n",
    "        L[1] = A[i]\n",
    "        K[1] = B[i]\n",
    "    else:\n",
    "        L[0] = A[i]\n",
    "        K[0] = B[i]\n",
    "    \n",
    "S.append(int(L[0]+L[1]+L[2]))\n",
    "S.append(int(K[0]+K[1]+K[2]))\n",
    "print(max(S))"
   ]
  },
  {
   "cell_type": "code",
   "execution_count": 82,
   "id": "40ec9aed",
   "metadata": {},
   "outputs": [
    {
     "name": "stdout",
     "output_type": "stream",
     "text": [
      "839 237\n",
      "938\n"
     ]
    }
   ],
   "source": [
    "# 짧은 코딩\n",
    "A, B = input().split()\n",
    "L = []\n",
    "L.append(A[::-1])\n",
    "L.append(B[::-1])\n",
    "\n",
    "print(max(L))"
   ]
  },
  {
   "cell_type": "code",
   "execution_count": 78,
   "id": "43b04486",
   "metadata": {},
   "outputs": [
    {
     "name": "stdout",
     "output_type": "stream",
     "text": [
      "839 237\n",
      "938\n"
     ]
    }
   ],
   "source": [
    "# lambda 함수\n",
    "L = list(map(lambda x: int(x[::-1]), input().split()))\n",
    "\n",
    "print(max(L))"
   ]
  },
  {
   "cell_type": "markdown",
   "id": "4dcbfd75",
   "metadata": {},
   "source": [
    "상근이의 할머니는 아래 그림과 같이 오래된 다이얼 전화기를 사용한다.\n",
    "\n",
    "\n",
    "전화를 걸고 싶은 번호가 있다면, 숫자를 하나를 누른 다음에 금속 핀이 있는 곳 까지 시계방향으로 돌려야 한다. 숫자를 하나 누르면 다이얼이 처음 위치로 돌아가고, 다음 숫자를 누르려면 다이얼을 처음 위치에서 다시 돌려야 한다.\n",
    "\n",
    "숫자 1을 걸려면 총 2초가 필요하다. 1보다 큰 수를 거는데 걸리는 시간은 이보다 더 걸리며, 한 칸 옆에 있는 숫자를 걸기 위해선 1초씩 더 걸린다.\n",
    "\n",
    "상근이의 할머니는 전화 번호를 각 숫자에 해당하는 문자로 외운다. 즉, 어떤 단어를 걸 때, 각 알파벳에 해당하는 숫자를 걸면 된다. 예를 들어, UNUCIC는 868242와 같다.\n",
    "\n",
    "할머니가 외운 단어가 주어졌을 때, 이 전화를 걸기 위해서 필요한 최소 시간을 구하는 프로그램을 작성하시오."
   ]
  },
  {
   "cell_type": "code",
   "execution_count": 93,
   "id": "79b21d0f",
   "metadata": {},
   "outputs": [
    {
     "name": "stdout",
     "output_type": "stream",
     "text": [
      "UNUCIC\n",
      "36\n"
     ]
    }
   ],
   "source": [
    "A = input()\n",
    "T = [] # 바로 시간으로 받아주는 리스트\n",
    "\n",
    "for i in range(len(A)):\n",
    "    if 65 <= ord(A[i]) <= 67:\n",
    "        T.append(3)\n",
    "    elif 68 <= ord(A[i]) <= 70:\n",
    "        T.append(4)\n",
    "    elif 71 <= ord(A[i]) <= 73:\n",
    "        T.append(5)\n",
    "    elif 74 <= ord(A[i]) <= 76:\n",
    "        T.append(6)\n",
    "    elif 77 <= ord(A[i]) <= 79:\n",
    "        T.append(7)\n",
    "    elif 80 <= ord(A[i]) <= 83:\n",
    "        T.append(8)\n",
    "    elif 84 <= ord(A[i]) <= 86:\n",
    "        T.append(9)\n",
    "    else:\n",
    "        T.append(10)\n",
    "        \n",
    "print(sum(T))"
   ]
  },
  {
   "cell_type": "markdown",
   "id": "844f5887",
   "metadata": {},
   "source": [
    "예전에는 운영체제에서 크로아티아 알파벳을 입력할 수가 없었다. 따라서, 다음과 같이 크로아티아 알파벳을 변경해서 입력했다.\n",
    "\n",
    "크로아티아 알파벳\t변경\n",
    "\n",
    "č\tc=\n",
    "\n",
    "ć\tc-\n",
    "\n",
    "dž\tdz=\n",
    "\n",
    "đ\td-\n",
    "\n",
    "lj\tlj\n",
    "\n",
    "nj\tnj\n",
    "\n",
    "š\ts=\n",
    "\n",
    "ž\tz=\n",
    "\n",
    "예를 들어, ljes=njak은 크로아티아 알파벳 6개(lj, e, š, nj, a, k)로 이루어져 있다. 단어가 주어졌을 때, 몇 개의 크로아티아 알파벳으로 이루어져 있는지 출력한다.\n",
    "\n",
    "dž는 무조건 하나의 알파벳으로 쓰이고, d와 ž가 분리된 것으로 보지 않는다. lj와 nj도 마찬가지이다. 위 목록에 없는 알파벳은 한 글자씩 센다."
   ]
  },
  {
   "cell_type": "code",
   "execution_count": 5,
   "id": "c289d5bd",
   "metadata": {},
   "outputs": [
    {
     "name": "stdout",
     "output_type": "stream",
     "text": [
      "nljj\n",
      "3\n"
     ]
    }
   ],
   "source": [
    "A = input()\n",
    "L = len(A)\n",
    "\n",
    "for i in range(1,len(A)):\n",
    "    if (A[i] == \"=\") or (A[i] == \"-\"):\n",
    "        if (A[i-1] == \"z\"):\n",
    "            if (A[i-2] == \"d\"):\n",
    "                L -= 2\n",
    "            else:\n",
    "                L -= 1\n",
    "        elif (A[i-1] == \"c\") or (A[i-1] == \"d\") or (A[i-1] == \"s\"):\n",
    "            L -=1\n",
    "\n",
    "    if (A[i] == \"j\"):\n",
    "        if (A[i-1] == \"l\") or (A[i-1] == \"n\"):\n",
    "            L -= 1\n",
    "print(L)"
   ]
  },
  {
   "cell_type": "markdown",
   "id": "e6f05f1c",
   "metadata": {},
   "source": [
    "그룹 단어란 단어에 존재하는 모든 문자에 대해서, 각 문자가 연속해서 나타나는 경우만을 말한다. 예를 들면, ccazzzzbb는 c, a, z, b가 모두 연속해서 나타나고, kin도 k, i, n이 연속해서 나타나기 때문에 그룹 단어이지만, aabbbccb는 b가 떨어져서 나타나기 때문에 그룹 단어가 아니다.\n",
    "\n",
    "단어 N개를 입력으로 받아 그룹 단어의 개수를 출력하는 프로그램을 작성하시오."
   ]
  },
  {
   "cell_type": "code",
   "execution_count": 16,
   "id": "2a3deda8",
   "metadata": {},
   "outputs": [
    {
     "name": "stdout",
     "output_type": "stream",
     "text": [
      "3\n",
      "happy\n",
      "new\n",
      "year\n",
      "3\n"
     ]
    }
   ],
   "source": [
    "N = int(input())\n",
    "sum = N\n",
    "\n",
    "for i in range(N):\n",
    "    A = input()\n",
    "    for j in range(len(A)-1):\n",
    "        if A.count(A[j]) >= 2:\n",
    "            if A[j] != A[j+1]:\n",
    "                sum -= 1\n",
    "                break\n",
    "            break\n",
    "            \n",
    "print(sum)\n",
    "\n",
    "# 같은 문자가 3개 이상인 경우 에러"
   ]
  },
  {
   "cell_type": "code",
   "execution_count": 79,
   "id": "1a8fcee8",
   "metadata": {},
   "outputs": [
    {
     "name": "stdout",
     "output_type": "stream",
     "text": [
      "1\n",
      "asdfa\n",
      "0\n"
     ]
    }
   ],
   "source": [
    "N = int(input())\n",
    "sum = N\n",
    "\n",
    "for i in range(N):\n",
    "    A = input()\n",
    "    m = len(set(A))  # set {} = unique와 같은 역할 (문자 종류 중복제거)\n",
    "    for j in range(m):\n",
    "        A = A.lstrip(A[0]) # 왼쪽부터 괄호안에 있는 문자 계속 지워줌\n",
    "    if len(A) != 0: # A가 다 안지워지면 그룹단어 아님\n",
    "        sum -= 1\n",
    "\n",
    "print(sum)"
   ]
  },
  {
   "cell_type": "code",
   "execution_count": null,
   "id": "7afac45a",
   "metadata": {},
   "outputs": [],
   "source": []
  }
 ],
 "metadata": {
  "kernelspec": {
   "display_name": "Python 3 (ipykernel)",
   "language": "python",
   "name": "python3"
  },
  "language_info": {
   "codemirror_mode": {
    "name": "ipython",
    "version": 3
   },
   "file_extension": ".py",
   "mimetype": "text/x-python",
   "name": "python",
   "nbconvert_exporter": "python",
   "pygments_lexer": "ipython3",
   "version": "3.9.7"
  }
 },
 "nbformat": 4,
 "nbformat_minor": 5
}

{
 "cells": [
  {
   "cell_type": "markdown",
   "id": "35ad04f7",
   "metadata": {},
   "source": [
    "N을 입력받은 뒤, 구구단 N단을 출력하는 프로그램을 작성하시오. 출력 형식에 맞춰서 출력하면 된다."
   ]
  },
  {
   "cell_type": "code",
   "execution_count": 1,
   "id": "8f9ab979",
   "metadata": {},
   "outputs": [
    {
     "name": "stdout",
     "output_type": "stream",
     "text": [
      "2\n",
      "2 * 1 = 2\n",
      "2 * 2 = 4\n",
      "2 * 3 = 6\n",
      "2 * 4 = 8\n",
      "2 * 5 = 10\n",
      "2 * 6 = 12\n",
      "2 * 7 = 14\n",
      "2 * 8 = 16\n",
      "2 * 9 = 18\n"
     ]
    }
   ],
   "source": [
    "N = int(input())\n",
    "\n",
    "for i in range(1,10):\n",
    "    print(\"%d * %d =\"%(N,i),N*i)\n",
    "    i = i+1"
   ]
  },
  {
   "cell_type": "markdown",
   "id": "caf96428",
   "metadata": {},
   "source": [
    "두 정수 A와 B를 입력받은 다음, A+B를 출력하는 프로그램을 작성하시오."
   ]
  },
  {
   "cell_type": "code",
   "execution_count": 2,
   "id": "cdc9bc02",
   "metadata": {},
   "outputs": [
    {
     "name": "stdout",
     "output_type": "stream",
     "text": [
      "1\n",
      "1 1\n",
      "2\n"
     ]
    }
   ],
   "source": [
    "N = int(input())\n",
    "C = []\n",
    "\n",
    "for n in range(N):\n",
    "    A, B = map(int, input().split())\n",
    "    C.append(A+B)\n",
    "\n",
    "for n in range(N):\n",
    "    print(C[n])"
   ]
  },
  {
   "cell_type": "code",
   "execution_count": 3,
   "id": "375ab7bc",
   "metadata": {},
   "outputs": [
    {
     "name": "stdout",
     "output_type": "stream",
     "text": [
      "1\n",
      "1 1\n",
      "2\n"
     ]
    }
   ],
   "source": [
    "N = int(input())\n",
    "C = []\n",
    "\n",
    "for N in range(1,N+1):\n",
    "    A, B = map(int, input().split())\n",
    "    C.append(A+B)\n",
    "\n",
    "for N in range(N):\n",
    "    print(C[N])"
   ]
  },
  {
   "cell_type": "markdown",
   "id": "d96e503a",
   "metadata": {},
   "source": [
    "n이 주어졌을 때, 1부터 n까지 합을 구하는 프로그램을 작성하시오."
   ]
  },
  {
   "cell_type": "code",
   "execution_count": 4,
   "id": "6b6a29fb",
   "metadata": {},
   "outputs": [
    {
     "name": "stdout",
     "output_type": "stream",
     "text": [
      "2\n",
      "3\n"
     ]
    }
   ],
   "source": [
    "N = int(input())\n",
    "i = 0\n",
    "\n",
    "for n in range(1,N+1):\n",
    "    i += n\n",
    "print(i)"
   ]
  },
  {
   "cell_type": "markdown",
   "id": "a9933a18",
   "metadata": {},
   "source": [
    "Python을 사용하고 있다면, input 대신 sys.stdin.readline을 사용할 수 있다. 단, 이때는 맨 끝의 개행문자까지 같이 입력받기 때문에 문자열을 저장하고 싶을 경우 .rstrip()을 추가로 해 주는 것이 좋다.\n",
    "\n",
    "또한 입력과 출력 스트림은 별개이므로, 테스트케이스를 전부 입력받아서 저장한 뒤 전부 출력할 필요는 없다. 테스트케이스를 하나 받은 뒤 하나 출력해도 된다."
   ]
  },
  {
   "cell_type": "markdown",
   "id": "3ba07c8d",
   "metadata": {},
   "source": [
    "첫 줄에 테스트케이스의 개수 T가 주어진다. T는 최대 1,000,000이다. 다음 T줄에는 각각 두 정수 A와 B가 주어진다. A와 B는 1 이상, 1,000 이하이다."
   ]
  },
  {
   "cell_type": "code",
   "execution_count": 12,
   "id": "ff7d3474",
   "metadata": {},
   "outputs": [
    {
     "name": "stdout",
     "output_type": "stream",
     "text": [
      "2\n",
      "1 2\n",
      "2 3\n",
      "3\n",
      "5\n"
     ]
    }
   ],
   "source": [
    "T = int(input())\n",
    "C = []\n",
    "\n",
    "for i in range(T):\n",
    "    A,B = map(int, input().split())\n",
    "    C.append(A+B)\n",
    "\n",
    "for i in range(T):\n",
    "    print(C[i])"
   ]
  },
  {
   "cell_type": "code",
   "execution_count": null,
   "id": "186e7d7f",
   "metadata": {},
   "outputs": [],
   "source": [
    "import sys \n",
    "\n",
    "T = int(sys.stdin.readline())\n",
    "C = []\n",
    "\n",
    "for i in range(T):\n",
    "    A,B = map(int, sys.stdin.readline().split())\n",
    "    C.append(A+B)\n",
    "    \n",
    "for i in range(T):\n",
    "    print(C[i])"
   ]
  },
  {
   "cell_type": "markdown",
   "id": "fbc67536",
   "metadata": {},
   "source": [
    "자연수 N이 주어졌을 때, 1부터 N까지 한 줄에 하나씩 출력하는 프로그램을 작성하시오."
   ]
  },
  {
   "cell_type": "code",
   "execution_count": 14,
   "id": "78b7fe7c",
   "metadata": {},
   "outputs": [
    {
     "name": "stdout",
     "output_type": "stream",
     "text": [
      "6\n",
      "1\n",
      "2\n",
      "3\n",
      "4\n",
      "5\n",
      "6\n"
     ]
    }
   ],
   "source": [
    "N = int(input())\n",
    "C = []\n",
    "\n",
    "for i in range(N):\n",
    "    C.append(i+1)\n",
    "\n",
    "for i in range(N):\n",
    "    print(C[i])"
   ]
  },
  {
   "cell_type": "markdown",
   "id": "eae90b5b",
   "metadata": {},
   "source": [
    "자연수 N이 주어졌을 때, N부터 1까지 한 줄에 하나씩 출력하는 프로그램을 작성하시오."
   ]
  },
  {
   "cell_type": "code",
   "execution_count": 18,
   "id": "e9fc6426",
   "metadata": {},
   "outputs": [
    {
     "name": "stdout",
     "output_type": "stream",
     "text": [
      "7\n",
      "7\n",
      "6\n",
      "5\n",
      "4\n",
      "3\n",
      "2\n",
      "1\n"
     ]
    }
   ],
   "source": [
    "N = int(input())\n",
    "C = []\n",
    "\n",
    "for i in range(N):\n",
    "    C.append(i+1)\n",
    "\n",
    "for i in range(1,N+1):\n",
    "    print(C[-i])"
   ]
  },
  {
   "cell_type": "markdown",
   "id": "d2190c02",
   "metadata": {},
   "source": [
    "두 정수 A와 B를 입력받은 다음, A+B를 출력하는 프로그램을 작성하시오.\n",
    "\n",
    "첫째 줄에 테스트 케이스의 개수 T가 주어진다.\n",
    "각 테스트 케이스는 한 줄로 이루어져 있으며, 각 줄에 A와 B가 주어진다. (0 < A, B < 10)"
   ]
  },
  {
   "cell_type": "code",
   "execution_count": 25,
   "id": "a5fb416d",
   "metadata": {},
   "outputs": [
    {
     "name": "stdout",
     "output_type": "stream",
     "text": [
      "3\n",
      "1 1\n",
      "2 2\n",
      "3 3\n",
      "Case #1 2\n",
      "Case #2 4\n",
      "Case #3 6\n"
     ]
    }
   ],
   "source": [
    "T = int(input())\n",
    "C = []\n",
    "\n",
    "for i in range(T):\n",
    "    A,B = map(int, input().split())\n",
    "    C.append(A+B)\n",
    "    \n",
    "for i in range(T):\n",
    "    print(\"Case #%d:\"%(i+1), C[i])"
   ]
  },
  {
   "cell_type": "markdown",
   "id": "125af2c4",
   "metadata": {},
   "source": [
    "\n",
    "첫째 줄에 테스트 케이스의 개수 T가 주어진다. 각 테스트 케이스는 한 줄로 이루어져 있으며, 각 줄에 A와 B가 주어진다. (0 < A, B < 10) 각 테스트 케이스마다 \"Case #x: A + B = C\" 형식으로 출력한다. x는 테스트 케이스 번호이고 1부터 시작하며, C는 A+B이다."
   ]
  },
  {
   "cell_type": "code",
   "execution_count": 1,
   "id": "5ffa4f1f",
   "metadata": {},
   "outputs": [
    {
     "name": "stdout",
     "output_type": "stream",
     "text": [
      "3\n",
      "1 2\n",
      "2 3\n",
      "3 4\n",
      "Case #1: 1 + 2 = 3\n",
      "Case #2: 2 + 3 = 5\n",
      "Case #3: 3 + 4 = 7\n"
     ]
    }
   ],
   "source": [
    "T = int(input())\n",
    "a = []\n",
    "b = []\n",
    "C = []\n",
    "\n",
    "for i in range(T):\n",
    "    A, B = map(int, input().split())\n",
    "    a.append(A)\n",
    "    b.append(B)\n",
    "    C.append(A+B)\n",
    "    \n",
    "for i in range(T):\n",
    "    print(\"Case #%d: %d + %d =\"% ((i+1),a[i], b[i]), C[i])"
   ]
  },
  {
   "cell_type": "code",
   "execution_count": 2,
   "id": "7bd15d4e",
   "metadata": {},
   "outputs": [
    {
     "name": "stdout",
     "output_type": "stream",
     "text": [
      "2\n",
      "1 2\n",
      "Case #1: 1 + 2 = 3\n",
      "1 2 \n",
      "Case #2: 1 + 2 = 3\n"
     ]
    }
   ],
   "source": [
    "T = int(input())\n",
    "for i in range(T):\n",
    "    A, B = map(int, input().split())\n",
    "    print(F'Case #{i+1}: {A} + {B} = {A+B}')"
   ]
  },
  {
   "cell_type": "markdown",
   "id": "327edb6a",
   "metadata": {},
   "source": [
    "첫째 줄에는 별 1개, 둘째 줄에는 별 2개, N번째 줄에는 별 N개를 찍는 문제"
   ]
  },
  {
   "cell_type": "code",
   "execution_count": 3,
   "id": "d5db2647",
   "metadata": {},
   "outputs": [
    {
     "name": "stdout",
     "output_type": "stream",
     "text": [
      "4\n",
      "*\n",
      "**\n",
      "***\n",
      "****\n"
     ]
    }
   ],
   "source": [
    "N = int(input())\n",
    "C = []\n",
    "\n",
    "for i in range(N):\n",
    "    C.append('*'*(i+1))\n",
    "\n",
    "for i in range(N):\n",
    "    print(C[i])"
   ]
  },
  {
   "cell_type": "code",
   "execution_count": 4,
   "id": "3665c2f5",
   "metadata": {},
   "outputs": [
    {
     "name": "stdout",
     "output_type": "stream",
     "text": [
      "4\n",
      "*\n",
      "**\n",
      "***\n",
      "****\n"
     ]
    }
   ],
   "source": [
    "N = int(input())\n",
    "\n",
    "for i in range(1,N+1):\n",
    "    print('*' * i)"
   ]
  },
  {
   "cell_type": "markdown",
   "id": "4e15d94e",
   "metadata": {},
   "source": [
    "첫째 줄에는 별 1개, 둘째 줄에는 별 2개, N번째 줄에는 별 N개를 찍는 문제\n",
    "\n",
    "하지만, 오른쪽을 기준으로 정렬한 별(예제 참고)을 출력하시오."
   ]
  },
  {
   "cell_type": "code",
   "execution_count": 5,
   "id": "bfb938ae",
   "metadata": {},
   "outputs": [
    {
     "name": "stdout",
     "output_type": "stream",
     "text": [
      "5\n",
      "    *\n",
      "   **\n",
      "  ***\n",
      " ****\n",
      "*****\n"
     ]
    }
   ],
   "source": [
    "N = int(input())\n",
    "\n",
    "for i in range(N):\n",
    "    print(' '*(N-i-1)+'*'*(i+1))"
   ]
  },
  {
   "cell_type": "markdown",
   "id": "8c868414",
   "metadata": {},
   "source": [
    "정수 N개로 이루어진 수열 A와 정수 X가 주어진다. 이때, A에서 X보다 작은 수를 모두 출력하는 프로그램을 작성하시오."
   ]
  },
  {
   "cell_type": "code",
   "execution_count": 31,
   "id": "98f13895",
   "metadata": {},
   "outputs": [
    {
     "name": "stdout",
     "output_type": "stream",
     "text": [
      "5 4\n",
      "1 2 3 4 5\n",
      "1\n",
      "2\n",
      "3\n"
     ]
    }
   ],
   "source": [
    "N, X = map(int,input().split())\n",
    "A = input().split()\n",
    "C =[]\n",
    "\n",
    "for i in range(N):\n",
    "    if int(A[i]) < X:\n",
    "        C.append(A[i])\n",
    "\n",
    "for i in range(len(C)):\n",
    "    print(C[i])"
   ]
  },
  {
   "cell_type": "code",
   "execution_count": null,
   "id": "c699c8ce",
   "metadata": {},
   "outputs": [],
   "source": []
  }
 ],
 "metadata": {
  "kernelspec": {
   "display_name": "Python 3 (ipykernel)",
   "language": "python",
   "name": "python3"
  },
  "language_info": {
   "codemirror_mode": {
    "name": "ipython",
    "version": 3
   },
   "file_extension": ".py",
   "mimetype": "text/x-python",
   "name": "python",
   "nbconvert_exporter": "python",
   "pygments_lexer": "ipython3",
   "version": "3.9.7"
  }
 },
 "nbformat": 4,
 "nbformat_minor": 5
}

{
 "cells": [
  {
   "cell_type": "markdown",
   "id": "a0cc7cbc",
   "metadata": {},
   "source": [
    "두 정수 A와 B를 입력받은 다음, A+B를 출력하는 프로그램을 작성하시오.\n",
    "입력은 여러 개의 테스트 케이스로 이루어져 있다.\n",
    "각 테스트 케이스는 한 줄로 이루어져 있으며, 각 줄에 A와 B가 주어진다. (0 < A, B < 10)\n",
    "입력의 마지막에는 0 두 개가 들어온다."
   ]
  },
  {
   "cell_type": "code",
   "execution_count": 5,
   "id": "0633d467",
   "metadata": {},
   "outputs": [
    {
     "name": "stdout",
     "output_type": "stream",
     "text": [
      "2 3\n",
      "3 6\n",
      "2 6\n",
      "3 5\n",
      "0 0\n",
      "5\n",
      "9\n",
      "8\n",
      "8\n"
     ]
    }
   ],
   "source": [
    "C = []\n",
    "while True:\n",
    "    A, B = map(int, input().split())\n",
    "    if (A == 0) & (B == 0):\n",
    "        break\n",
    "    else :\n",
    "        C.append(A+B)\n",
    "        \n",
    "for i in range(len(C)):\n",
    "    print(C[i])"
   ]
  },
  {
   "cell_type": "markdown",
   "id": "b08d614b",
   "metadata": {},
   "source": [
    "두 정수 A와 B를 입력받은 다음, A+B를 출력하는 프로그램을 작성하시오. \n",
    "입력은 여러 개의 테스트 케이스로 이루어져 있다.\n",
    "각 테스트 케이스는 한 줄로 이루어져 있으며, 각 줄에 A와 B가 주어진다. (0 < A, B < 10)"
   ]
  },
  {
   "cell_type": "code",
   "execution_count": 17,
   "id": "2bacb48e",
   "metadata": {},
   "outputs": [
    {
     "name": "stdout",
     "output_type": "stream",
     "text": [
      "1 1\n",
      "2 3\n",
      "3 4\n",
      "9 8\n",
      "5 2\n",
      "222\n",
      "2\n",
      "5\n",
      "7\n",
      "17\n",
      "7\n"
     ]
    }
   ],
   "source": [
    "C = []\n",
    "while True:\n",
    "    try:\n",
    "        A, B = map(int, input().split())\n",
    "        C.append(A+B)\n",
    "    except:\n",
    "        break\n",
    "\n",
    "        \n",
    "for i in range(len(C)):\n",
    "    print(C[i])"
   ]
  },
  {
   "cell_type": "markdown",
   "id": "00337cbb",
   "metadata": {},
   "source": [
    "0보다 크거나 같고, 99보다 작거나 같은 정수가 주어질 때 다음과 같은 연산을 할 수 있다. 먼저 주어진 수가 10보다 작다면 앞에 0을 붙여 두 자리 수로 만들고, 각 자리의 숫자를 더한다. 그 다음, 주어진 수의 가장 오른쪽 자리 수와 앞에서 구한 합의 가장 오른쪽 자리 수를 이어 붙이면 새로운 수를 만들 수 있다. 다음 예를 보자.\n",
    "\n",
    "26부터 시작한다. 2+6 = 8이다. 새로운 수는 68이다. 6+8 = 14이다. 새로운 수는 84이다. 8+4 = 12이다. 새로운 수는 42이다. 4+2 = 6이다. 새로운 수는 26이다.\n",
    "\n",
    "위의 예는 4번만에 원래 수로 돌아올 수 있다. 따라서 26의 사이클의 길이는 4이다.\n",
    "\n",
    "N이 주어졌을 때, N의 사이클의 길이를 구하는 프로그램을 작성하시오."
   ]
  },
  {
   "cell_type": "code",
   "execution_count": 46,
   "id": "1256fbf1",
   "metadata": {
    "scrolled": false
   },
   "outputs": [
    {
     "name": "stdout",
     "output_type": "stream",
     "text": [
      "26\n",
      "4\n"
     ]
    }
   ],
   "source": [
    "x1 = 0\n",
    "y1 = 0\n",
    "x2 = 0\n",
    "y2 = 0\n",
    "C = 0\n",
    "NEW = 0\n",
    "N = 0\n",
    "\n",
    "A = int(input())\n",
    "x1 = A//10\n",
    "y1 = A%10\n",
    "while True:\n",
    "    if (A != NEW):\n",
    "        N += 1\n",
    "        C = x1 + y1\n",
    "        x2 = C//10\n",
    "        y2 = C%10\n",
    "        NEW = (y1*10)+y2\n",
    "        x1 = NEW//10\n",
    "        y1 = NEW%10\n",
    "        \n",
    "    elif (A == 0):\n",
    "        N = 1\n",
    "        break\n",
    " \n",
    "    else:\n",
    "        break\n",
    "        \n",
    "print(N)"
   ]
  },
  {
   "cell_type": "code",
   "execution_count": null,
   "id": "4ec6bb52",
   "metadata": {},
   "outputs": [],
   "source": []
  }
 ],
 "metadata": {
  "kernelspec": {
   "display_name": "Python 3 (ipykernel)",
   "language": "python",
   "name": "python3"
  },
  "language_info": {
   "codemirror_mode": {
    "name": "ipython",
    "version": 3
   },
   "file_extension": ".py",
   "mimetype": "text/x-python",
   "name": "python",
   "nbconvert_exporter": "python",
   "pygments_lexer": "ipython3",
   "version": "3.9.7"
  }
 },
 "nbformat": 4,
 "nbformat_minor": 5
}

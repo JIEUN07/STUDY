{
 "cells": [
  {
   "cell_type": "markdown",
   "id": "3d42fe7e",
   "metadata": {},
   "source": [
    "# 1장 연습문제"
   ]
  },
  {
   "cell_type": "code",
   "execution_count": 2,
   "id": "d3828e55",
   "metadata": {},
   "outputs": [
    {
     "data": {
      "text/plain": [
       "72"
      ]
     },
     "execution_count": 2,
     "metadata": {},
     "output_type": "execute_result"
    }
   ],
   "source": [
    "8*9"
   ]
  },
  {
   "cell_type": "code",
   "execution_count": 3,
   "id": "1e7b991c",
   "metadata": {},
   "outputs": [
    {
     "data": {
      "text/plain": [
       "47"
      ]
     },
     "execution_count": 3,
     "metadata": {},
     "output_type": "execute_result"
    }
   ],
   "source": [
    "47"
   ]
  },
  {
   "cell_type": "code",
   "execution_count": 4,
   "id": "7b535ebd",
   "metadata": {},
   "outputs": [
    {
     "name": "stdout",
     "output_type": "stream",
     "text": [
      "47\n"
     ]
    }
   ],
   "source": [
    "print(47)"
   ]
  },
  {
   "cell_type": "markdown",
   "id": "27452131",
   "metadata": {},
   "source": [
    "# 2장 연습문제"
   ]
  },
  {
   "cell_type": "code",
   "execution_count": 6,
   "id": "dcec8ec4",
   "metadata": {},
   "outputs": [],
   "source": [
    "prince = 99"
   ]
  },
  {
   "cell_type": "code",
   "execution_count": 7,
   "id": "974447c8",
   "metadata": {},
   "outputs": [
    {
     "name": "stdout",
     "output_type": "stream",
     "text": [
      "99\n"
     ]
    }
   ],
   "source": [
    "print(prince)"
   ]
  },
  {
   "cell_type": "code",
   "execution_count": 9,
   "id": "313aecd0",
   "metadata": {},
   "outputs": [
    {
     "data": {
      "text/plain": [
       "int"
      ]
     },
     "execution_count": 9,
     "metadata": {},
     "output_type": "execute_result"
    }
   ],
   "source": [
    "type(prince)"
   ]
  },
  {
   "cell_type": "code",
   "execution_count": 10,
   "id": "35062ec1",
   "metadata": {},
   "outputs": [
    {
     "data": {
      "text/plain": [
       "int"
      ]
     },
     "execution_count": 10,
     "metadata": {},
     "output_type": "execute_result"
    }
   ],
   "source": [
    "type(5)"
   ]
  },
  {
   "cell_type": "code",
   "execution_count": 11,
   "id": "48defd41",
   "metadata": {},
   "outputs": [
    {
     "data": {
      "text/plain": [
       "float"
      ]
     },
     "execution_count": 11,
     "metadata": {},
     "output_type": "execute_result"
    }
   ],
   "source": [
    "type(2.0)"
   ]
  },
  {
   "cell_type": "code",
   "execution_count": 12,
   "id": "f3c43b28",
   "metadata": {},
   "outputs": [
    {
     "data": {
      "text/plain": [
       "float"
      ]
     },
     "execution_count": 12,
     "metadata": {},
     "output_type": "execute_result"
    }
   ],
   "source": [
    "type(5+2.0)"
   ]
  },
  {
   "cell_type": "markdown",
   "id": "4cc59b7a",
   "metadata": {},
   "source": [
    "# 3장 연습문제"
   ]
  },
  {
   "cell_type": "code",
   "execution_count": 22,
   "id": "9f2e0a19",
   "metadata": {},
   "outputs": [
    {
     "data": {
      "text/plain": [
       "3600"
      ]
     },
     "execution_count": 22,
     "metadata": {},
     "output_type": "execute_result"
    }
   ],
   "source": [
    "min = 60\n",
    "h = 60\n",
    "seconds_per_hour = h*min\n",
    "seconds_per_hour"
   ]
  },
  {
   "cell_type": "code",
   "execution_count": 25,
   "id": "304e7480",
   "metadata": {},
   "outputs": [
    {
     "data": {
      "text/plain": [
       "86400"
      ]
     },
     "execution_count": 25,
     "metadata": {},
     "output_type": "execute_result"
    }
   ],
   "source": [
    "seconds_per_day =seconds_per_hour*24\n",
    "seconds_per_day "
   ]
  },
  {
   "cell_type": "code",
   "execution_count": 26,
   "id": "73b7c016",
   "metadata": {},
   "outputs": [
    {
     "data": {
      "text/plain": [
       "24.0"
      ]
     },
     "execution_count": 26,
     "metadata": {},
     "output_type": "execute_result"
    }
   ],
   "source": [
    "seconds_per_day/seconds_per_hour"
   ]
  },
  {
   "cell_type": "code",
   "execution_count": 27,
   "id": "858bc98a",
   "metadata": {},
   "outputs": [
    {
     "data": {
      "text/plain": [
       "24"
      ]
     },
     "execution_count": 27,
     "metadata": {},
     "output_type": "execute_result"
    }
   ],
   "source": [
    "seconds_per_day//seconds_per_hour # /로 나눈값과 소수점을 뺀 결과가 같다"
   ]
  },
  {
   "cell_type": "markdown",
   "id": "5ee2c4fc",
   "metadata": {},
   "source": [
    "# 4장 연습문제"
   ]
  },
  {
   "cell_type": "code",
   "execution_count": 30,
   "id": "ddd075a8",
   "metadata": {},
   "outputs": [
    {
     "name": "stdout",
     "output_type": "stream",
     "text": [
      "too low\n"
     ]
    }
   ],
   "source": [
    "secret = 1\n",
    "guess = 2\n",
    "if True:\n",
    "    secret > guess\n",
    "    print('too low')\n",
    "elif True:\n",
    "    print('just right')\n",
    "else:\n",
    "    print('too high')"
   ]
  },
  {
   "cell_type": "code",
   "execution_count": 58,
   "id": "9f596f5a",
   "metadata": {},
   "outputs": [
    {
     "name": "stdout",
     "output_type": "stream",
     "text": [
      "pumpkin\n"
     ]
    }
   ],
   "source": [
    "cherry = ('small')\n",
    "pea = ('small','green')\n",
    "watermelon = ('green')\n",
    "pumpkin = ()\n",
    "small = False\n",
    "green = False\n",
    "if small:\n",
    "    if green:\n",
    "        print('pea')\n",
    "    else:\n",
    "        print('cherry')\n",
    "else :\n",
    "    if green:\n",
    "        print('watermelon')\n",
    "    else:\n",
    "        print('pumpkin')\n"
   ]
  },
  {
   "cell_type": "markdown",
   "id": "4ce22f98",
   "metadata": {},
   "source": [
    "## 5장 연습문제"
   ]
  },
  {
   "cell_type": "code",
   "execution_count": 39,
   "id": "5b43e099",
   "metadata": {},
   "outputs": [
    {
     "data": {
      "text/plain": [
       "\"when an eel grabs your arm,\\nAnd it causes grear harm,\\nThats' - aMoray!\""
      ]
     },
     "execution_count": 39,
     "metadata": {},
     "output_type": "execute_result"
    }
   ],
   "source": [
    "song = \"\"\"when an eel grabs your arm,\n",
    "And it causes grear harm,\n",
    "Thats' - a moray!\"\"\"\n",
    "song = song.replace(' m','M')\n",
    "song"
   ]
  },
  {
   "cell_type": "code",
   "execution_count": 38,
   "id": "c9a36581",
   "metadata": {},
   "outputs": [],
   "source": [
    "questions = ['''\n",
    "\"We don't serve strings around here. Are you a string?\",\n",
    "\"What is said on Father's Day in the forest?\",\n",
    "\"What makes the sound 'Sis! Boom! Bah!'?\"\n",
    "''']\n",
    "answers = ['''\n",
    "\"An exploding sheep.\",\n",
    "\"No, i'm a frayed Knot.\",\n",
    "\"Pop!' goes the weasel.\"\n",
    "''']  \n",
    "q_a = [(0,0)]              ###아직 안 배움 (for문)"
   ]
  },
  {
   "cell_type": "code",
   "execution_count": 57,
   "id": "27811fa2",
   "metadata": {},
   "outputs": [
    {
     "name": "stdout",
     "output_type": "stream",
     "text": [
      "My kitty cat likes roast beef, My kitty cat likes ham, My kitty cat fell on his head And now thinks he's a clam.\n"
     ]
    }
   ],
   "source": [
    "roast = \"roast beef\"\n",
    "ham = \"ham\"\n",
    "head = \"head\"\n",
    "clam = \"clam\"\n",
    "\n",
    "ro = \"My kitty cat likes %s, \" %roast\n",
    "ro\n",
    "ha = \"My kitty cat likes %s, \" %ham\n",
    "head = \"My kitty cat fell on his %s\" %head\n",
    "clam = \"And now thinks he's a %s.\"%clam\n",
    "h_c = head +' '+clam\n",
    "h_c\n",
    "#' '.join(h_c) # 리스트가 아니라 단위당 하나씩 공백 들어감\n",
    "poem = ro + ha + h_c  # print로 뽑으면 줄바꿈까지 나옴\n",
    "print(poem)  # 줄바꿈 어디에 넣어야하는지 질문  "
   ]
  },
  {
   "cell_type": "code",
   "execution_count": null,
   "id": "311c210d",
   "metadata": {},
   "outputs": [],
   "source": [
    "letter = '''\n",
    "dear {salutation} {name},\n",
    "Thank you for your letter. we are sorry that our {product} {verbed} in your {room}.\n",
    "Please note that it should never be used in a {room}, especicially near any {animals}."
   ]
  }
 ],
 "metadata": {
  "kernelspec": {
   "display_name": "Python 3",
   "language": "python",
   "name": "python3"
  },
  "language_info": {
   "codemirror_mode": {
    "name": "ipython",
    "version": 3
   },
   "file_extension": ".py",
   "mimetype": "text/x-python",
   "name": "python",
   "nbconvert_exporter": "python",
   "pygments_lexer": "ipython3",
   "version": "3.8.8"
  }
 },
 "nbformat": 4,
 "nbformat_minor": 5
}

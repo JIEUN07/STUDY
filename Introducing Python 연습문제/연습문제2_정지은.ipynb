{
 "cells": [
  {
   "cell_type": "markdown",
   "id": "45274036",
   "metadata": {},
   "source": [
    "# 5장 연습문제"
   ]
  },
  {
   "cell_type": "code",
   "execution_count": 16,
   "id": "222ad597",
   "metadata": {},
   "outputs": [],
   "source": [
    "questions = [\n",
    "    \"We don't serve strings around here. Are you a string?\",\n",
    "    \"What is said on Father's Day in the forest?\",\n",
    "    \"What makes the sound 'Sis! boom! Bah!'?\"\n",
    "]\n",
    "answers = [\n",
    "    \"An exploding sheep.\",\n",
    "    \"No, I'm a frayed knot.\",\n",
    "    \"'Pop!' goes the weasel.\"\n",
    "]\n"
   ]
  },
  {
   "cell_type": "code",
   "execution_count": 17,
   "id": "d382b1a1",
   "metadata": {},
   "outputs": [],
   "source": [
    "Q_A = list(zip(questions, answers))"
   ]
  },
  {
   "cell_type": "code",
   "execution_count": 66,
   "id": "c6c57fff",
   "metadata": {},
   "outputs": [
    {
     "data": {
      "text/plain": [
       "[(\"We don't serve strings around here. Are you a string?\",\n",
       "  'An exploding sheep.'),\n",
       " (\"What is said on Father's Day in the forest?\", \"No, I'm a frayed knot.\"),\n",
       " (\"What makes the sound 'Sis! boom! Bah!'?\", \"'Pop!' goes the weasel.\")]"
      ]
     },
     "execution_count": 66,
     "metadata": {},
     "output_type": "execute_result"
    }
   ],
   "source": [
    "Q_A"
   ]
  },
  {
   "cell_type": "code",
   "execution_count": 73,
   "id": "ba2f3954",
   "metadata": {},
   "outputs": [],
   "source": [
    "letter = '''\n",
    "dear {salutation} {name},\n",
    "\n",
    "Thank you for your letter. we are sorry that our {product} {verbed} in your {room}.\n",
    "Please note that it should never be used in a {room}, especicially near any {animals}.\n",
    "\n",
    "Send us your receipt and {amount} for shipping and handling. We will send you another {product} that, in our test, \n",
    "is {percent}% less likely to have {verbed}.\n",
    "\n",
    "Thanks you for your support.\n",
    "sincerely,\n",
    "{spokesman}\n",
    "{job_title}\n",
    "'''"
   ]
  },
  {
   "cell_type": "code",
   "execution_count": 74,
   "id": "3022b937",
   "metadata": {},
   "outputs": [
    {
     "name": "stdout",
     "output_type": "stream",
     "text": [
      "\n",
      "dear {salutation} {name},\n",
      "\n",
      "Thank you for your letter. we are sorry that our {product} {verbed} in your {room}.\n",
      "Please note that it should never be used in a {room}, especicially near any {animals}.\n",
      "\n",
      "Send us your receipt and {amount} for shipping and handling. We will send you another {product} that, in our test, \n",
      "is {percent}% less likely to have {verbed}.\n",
      "\n",
      "Thanks you for your support.\n",
      "sincerely,\n",
      "{spokesman}\n",
      "{job_title}\n",
      "\n"
     ]
    }
   ],
   "source": [
    "print(letter)"
   ]
  },
  {
   "cell_type": "code",
   "execution_count": 78,
   "id": "382bffb3",
   "metadata": {},
   "outputs": [],
   "source": [
    "letters=letter.format(salutation='aa', name='bb', product='cc', verbed='dd', \n",
    "              room='ee', animals='ff', amount='gg', percent='hh', spokesman='ii', job_title='jj')"
   ]
  },
  {
   "cell_type": "code",
   "execution_count": 79,
   "id": "9b561de4",
   "metadata": {},
   "outputs": [
    {
     "name": "stdout",
     "output_type": "stream",
     "text": [
      "\n",
      "dear aa bb,\n",
      "\n",
      "Thank you for your letter. we are sorry that our cc dd in your ee.\n",
      "Please note that it should never be used in a ee, especicially near any ff.\n",
      "\n",
      "Send us your receipt and gg for shipping and handling. We will send you another cc that, in our test, \n",
      "is hh% less likely to have dd.\n",
      "\n",
      "Thanks you for your support.\n",
      "sincerely,\n",
      "ii\n",
      "jj\n",
      "\n"
     ]
    }
   ],
   "source": [
    "print(letters)"
   ]
  },
  {
   "cell_type": "code",
   "execution_count": null,
   "id": "3fa4dee3",
   "metadata": {},
   "outputs": [],
   "source": []
  },
  {
   "cell_type": "markdown",
   "id": "0dc443b1",
   "metadata": {},
   "source": [
    "# 6장 연습문제"
   ]
  },
  {
   "cell_type": "code",
   "execution_count": 29,
   "id": "15c3eb8c",
   "metadata": {},
   "outputs": [],
   "source": [
    "x1 = [x for x in range(0,4)]"
   ]
  },
  {
   "cell_type": "code",
   "execution_count": 35,
   "id": "845b417f",
   "metadata": {},
   "outputs": [],
   "source": [
    "x1.reverse()"
   ]
  },
  {
   "cell_type": "code",
   "execution_count": 36,
   "id": "046e75b9",
   "metadata": {},
   "outputs": [
    {
     "data": {
      "text/plain": [
       "[3, 2, 1, 0]"
      ]
     },
     "execution_count": 36,
     "metadata": {},
     "output_type": "execute_result"
    }
   ],
   "source": [
    "x1"
   ]
  },
  {
   "cell_type": "code",
   "execution_count": 39,
   "id": "be5294aa",
   "metadata": {},
   "outputs": [],
   "source": [
    "guess_me = 7\n",
    "number = 1"
   ]
  },
  {
   "cell_type": "code",
   "execution_count": 63,
   "id": "eedf07c4",
   "metadata": {},
   "outputs": [
    {
     "name": "stdout",
     "output_type": "stream",
     "text": [
      "too low\n",
      "too low\n",
      "too low\n",
      "found it!\n",
      "oops!\n",
      "oops!\n",
      "oops!\n",
      "oops!\n"
     ]
    }
   ],
   "source": [
    "while number < 10:\n",
    "    if number < guess_me:\n",
    "        print(\"too low\")\n",
    "    elif number > guess_me:\n",
    "        print(\"oops!\")\n",
    "    else :\n",
    "        print(\"found it!\")\n",
    "    number = number + 1;"
   ]
  },
  {
   "cell_type": "code",
   "execution_count": 58,
   "id": "9584d35f",
   "metadata": {},
   "outputs": [
    {
     "name": "stdout",
     "output_type": "stream",
     "text": [
      "too low\n"
     ]
    }
   ],
   "source": [
    "guess_me = 5\n",
    "for number in range(10):\n",
    "    if number < guess_me:\n",
    "        print(\"too low\")\n",
    "        break;\n",
    "    elif number > guess_me:\n",
    "        print(\"oops!\")\n",
    "        break;\n",
    "    else :\n",
    "        print(\"found it!\")\n",
    "        break;"
   ]
  },
  {
   "cell_type": "markdown",
   "id": "212da763",
   "metadata": {},
   "source": [
    "# 7장 연습문제"
   ]
  },
  {
   "cell_type": "code",
   "execution_count": 80,
   "id": "828eb534",
   "metadata": {},
   "outputs": [],
   "source": [
    "year_list = list(range(1980,1986))"
   ]
  },
  {
   "cell_type": "code",
   "execution_count": 81,
   "id": "4d024c87",
   "metadata": {},
   "outputs": [
    {
     "data": {
      "text/plain": [
       "[1980, 1981, 1982, 1983, 1984, 1985]"
      ]
     },
     "execution_count": 81,
     "metadata": {},
     "output_type": "execute_result"
    }
   ],
   "source": [
    "year_list"
   ]
  },
  {
   "cell_type": "code",
   "execution_count": 82,
   "id": "e90642d0",
   "metadata": {},
   "outputs": [
    {
     "data": {
      "text/plain": [
       "1984"
      ]
     },
     "execution_count": 82,
     "metadata": {},
     "output_type": "execute_result"
    }
   ],
   "source": [
    "year_list[4]"
   ]
  },
  {
   "cell_type": "code",
   "execution_count": 83,
   "id": "a0d9364c",
   "metadata": {},
   "outputs": [
    {
     "data": {
      "text/plain": [
       "1985"
      ]
     },
     "execution_count": 83,
     "metadata": {},
     "output_type": "execute_result"
    }
   ],
   "source": [
    "year_list[-1]"
   ]
  },
  {
   "cell_type": "code",
   "execution_count": 87,
   "id": "e198a068",
   "metadata": {},
   "outputs": [],
   "source": [
    "things = ['mozzarella', 'cinderella', 'salmonella']"
   ]
  },
  {
   "cell_type": "code",
   "execution_count": 88,
   "id": "55b6e63b",
   "metadata": {},
   "outputs": [
    {
     "data": {
      "text/plain": [
       "['mozzarella', 'cinderella', 'salmonella']"
      ]
     },
     "execution_count": 88,
     "metadata": {},
     "output_type": "execute_result"
    }
   ],
   "source": [
    "things"
   ]
  },
  {
   "cell_type": "code",
   "execution_count": 90,
   "id": "f495738c",
   "metadata": {},
   "outputs": [
    {
     "data": {
      "text/plain": [
       "'Cinderella'"
      ]
     },
     "execution_count": 90,
     "metadata": {},
     "output_type": "execute_result"
    }
   ],
   "source": [
    "things[1].title()"
   ]
  },
  {
   "cell_type": "code",
   "execution_count": 91,
   "id": "7460afeb",
   "metadata": {},
   "outputs": [
    {
     "data": {
      "text/plain": [
       "['mozzarella', 'cinderella', 'salmonella']"
      ]
     },
     "execution_count": 91,
     "metadata": {},
     "output_type": "execute_result"
    }
   ],
   "source": [
    "things # 대문자로 변경해도 리스트는 변화없음"
   ]
  },
  {
   "cell_type": "code",
   "execution_count": 92,
   "id": "c65b8383",
   "metadata": {},
   "outputs": [
    {
     "data": {
      "text/plain": [
       "'MOZZARELLA'"
      ]
     },
     "execution_count": 92,
     "metadata": {},
     "output_type": "execute_result"
    }
   ],
   "source": [
    "things[0].upper()"
   ]
  },
  {
   "cell_type": "code",
   "execution_count": 94,
   "id": "b4a93523",
   "metadata": {},
   "outputs": [],
   "source": [
    "del things[2]"
   ]
  },
  {
   "cell_type": "code",
   "execution_count": 95,
   "id": "05222752",
   "metadata": {},
   "outputs": [
    {
     "data": {
      "text/plain": [
       "['mozzarella', 'cinderella']"
      ]
     },
     "execution_count": 95,
     "metadata": {},
     "output_type": "execute_result"
    }
   ],
   "source": [
    "things"
   ]
  },
  {
   "cell_type": "code",
   "execution_count": 96,
   "id": "1d2c7089",
   "metadata": {},
   "outputs": [],
   "source": [
    "surprise = ['Groucho', 'Chico', 'Harpo']"
   ]
  },
  {
   "cell_type": "code",
   "execution_count": 97,
   "id": "96fc0a38",
   "metadata": {},
   "outputs": [
    {
     "data": {
      "text/plain": [
       "['Groucho', 'Chico', 'Harpo']"
      ]
     },
     "execution_count": 97,
     "metadata": {},
     "output_type": "execute_result"
    }
   ],
   "source": [
    "surprise"
   ]
  },
  {
   "cell_type": "code",
   "execution_count": 98,
   "id": "281cf543",
   "metadata": {},
   "outputs": [
    {
     "data": {
      "text/plain": [
       "'harpo'"
      ]
     },
     "execution_count": 98,
     "metadata": {},
     "output_type": "execute_result"
    }
   ],
   "source": [
    "surprise[-1]=surprise[-1].lower()"
   ]
  },
  {
   "cell_type": "code",
   "execution_count": 100,
   "id": "0aed4e40",
   "metadata": {},
   "outputs": [],
   "source": [
    "surprise[-1]=surprise[-1][::-1]"
   ]
  },
  {
   "cell_type": "code",
   "execution_count": 101,
   "id": "a4dd69e8",
   "metadata": {},
   "outputs": [
    {
     "data": {
      "text/plain": [
       "'Oprah'"
      ]
     },
     "execution_count": 101,
     "metadata": {},
     "output_type": "execute_result"
    }
   ],
   "source": [
    "surprise[-1].title()"
   ]
  },
  {
   "cell_type": "code",
   "execution_count": 106,
   "id": "7406ec46",
   "metadata": {},
   "outputs": [],
   "source": [
    "ran = list(range(10))[::2]  # 짝수 리스트 만들때 일반식"
   ]
  },
  {
   "cell_type": "code",
   "execution_count": 107,
   "id": "7bcc3fca",
   "metadata": {},
   "outputs": [
    {
     "data": {
      "text/plain": [
       "[0, 2, 4, 6, 8]"
      ]
     },
     "execution_count": 107,
     "metadata": {},
     "output_type": "execute_result"
    }
   ],
   "source": [
    "ran"
   ]
  },
  {
   "cell_type": "code",
   "execution_count": 112,
   "id": "ac90a983",
   "metadata": {},
   "outputs": [
    {
     "data": {
      "text/plain": [
       "[0, 2, 4, 6, 8, 10]"
      ]
     },
     "execution_count": 112,
     "metadata": {},
     "output_type": "execute_result"
    }
   ],
   "source": [
    "[number for number in range(0,11)][::2]"
   ]
  },
  {
   "cell_type": "code",
   "execution_count": null,
   "id": "135e8cf9",
   "metadata": {},
   "outputs": [],
   "source": []
  },
  {
   "cell_type": "markdown",
   "id": "ee53938a",
   "metadata": {},
   "source": [
    "# 8장. 연습문제"
   ]
  },
  {
   "cell_type": "code",
   "execution_count": 113,
   "id": "f7b3e958",
   "metadata": {},
   "outputs": [],
   "source": [
    "e2f = {'dog':'chien', 'cat':'chat', 'walrus':'morse'}"
   ]
  },
  {
   "cell_type": "code",
   "execution_count": 114,
   "id": "2e434612",
   "metadata": {},
   "outputs": [
    {
     "data": {
      "text/plain": [
       "{'dog': 'chien', 'cat': 'chat', 'walrus': 'morse'}"
      ]
     },
     "execution_count": 114,
     "metadata": {},
     "output_type": "execute_result"
    }
   ],
   "source": [
    "e2f"
   ]
  },
  {
   "cell_type": "code",
   "execution_count": 116,
   "id": "985a4553",
   "metadata": {},
   "outputs": [
    {
     "data": {
      "text/plain": [
       "'morse'"
      ]
     },
     "execution_count": 116,
     "metadata": {},
     "output_type": "execute_result"
    }
   ],
   "source": [
    "e2f['walrus']"
   ]
  },
  {
   "cell_type": "code",
   "execution_count": 125,
   "id": "0d560a21",
   "metadata": {},
   "outputs": [],
   "source": [
    "f2e = {}\n",
    "for engl, fren in e2f.items():\n",
    "    f2e[fren]=engl"
   ]
  },
  {
   "cell_type": "code",
   "execution_count": 126,
   "id": "af7a197b",
   "metadata": {},
   "outputs": [
    {
     "data": {
      "text/plain": [
       "{'chien': 'dog', 'chat': 'cat', 'morse': 'walrus'}"
      ]
     },
     "execution_count": 126,
     "metadata": {},
     "output_type": "execute_result"
    }
   ],
   "source": [
    "f2e"
   ]
  },
  {
   "cell_type": "code",
   "execution_count": 127,
   "id": "3bbdea4e",
   "metadata": {},
   "outputs": [
    {
     "data": {
      "text/plain": [
       "'dog'"
      ]
     },
     "execution_count": 127,
     "metadata": {},
     "output_type": "execute_result"
    }
   ],
   "source": [
    "f2e['chien']"
   ]
  },
  {
   "cell_type": "code",
   "execution_count": 128,
   "id": "73c8931a",
   "metadata": {},
   "outputs": [
    {
     "data": {
      "text/plain": [
       "dict_keys(['dog', 'cat', 'walrus'])"
      ]
     },
     "execution_count": 128,
     "metadata": {},
     "output_type": "execute_result"
    }
   ],
   "source": [
    "e2f.keys()"
   ]
  },
  {
   "cell_type": "code",
   "execution_count": null,
   "id": "a471ab61",
   "metadata": {},
   "outputs": [],
   "source": []
  }
 ],
 "metadata": {
  "kernelspec": {
   "display_name": "Python 3",
   "language": "python",
   "name": "python3"
  },
  "language_info": {
   "codemirror_mode": {
    "name": "ipython",
    "version": 3
   },
   "file_extension": ".py",
   "mimetype": "text/x-python",
   "name": "python",
   "nbconvert_exporter": "python",
   "pygments_lexer": "ipython3",
   "version": "3.8.8"
  }
 },
 "nbformat": 4,
 "nbformat_minor": 5
}
